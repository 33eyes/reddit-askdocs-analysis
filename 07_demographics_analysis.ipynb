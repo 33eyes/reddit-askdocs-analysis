{
 "cells": [
  {
   "cell_type": "markdown",
   "id": "03afafd5-4192-4beb-a223-fe7f352618be",
   "metadata": {},
   "source": [
    "# Demographics Analysis  \n",
    "  \n",
    "\n",
    "#### Notebook objectives:  \n",
    "- Statistical analysis of demographic variables:\n",
    "  - age\n",
    "  - sex assigned at birth  \n",
    "  - author\n",
    "  - author behavioral categories (e.g. anonymous vs non-anonymous posting, frequent poster vs one-time poster, etc.)\n",
    "\n",
    "#### Steps:  \n",
    "1. [Load the data](#Load-the-data)\n",
    "2. [Age analysis](#Age-analysis)  "
   ]
  },
  {
   "cell_type": "code",
   "execution_count": 230,
   "id": "5eefef25-7104-4ff6-8241-16f20f606d53",
   "metadata": {},
   "outputs": [
    {
     "data": {
      "text/html": [
       "<h3>Notebook setup</h3>"
      ],
      "text/plain": [
       "<IPython.core.display.HTML object>"
      ]
     },
     "metadata": {},
     "output_type": "display_data"
    },
    {
     "data": {
      "text/html": [
       "<h4>Variables:</h4>"
      ],
      "text/plain": [
       "<IPython.core.display.HTML object>"
      ]
     },
     "metadata": {},
     "output_type": "display_data"
    },
    {
     "name": "stdout",
     "output_type": "stream",
     "text": [
      "DATA_PATH='data/'\n",
      "OUTPUT_PATH='output/'\n"
     ]
    },
    {
     "data": {
      "text/html": [
       "<h4>Functions:</h4>"
      ],
      "text/plain": [
       "<IPython.core.display.HTML object>"
      ]
     },
     "metadata": {},
     "output_type": "display_data"
    },
    {
     "name": "stdout",
     "output_type": "stream",
     "text": [
      "num_freq_plot(df, field, color='')\n",
      "cat_freq_plot(df, field, categories_ordered_list, color='')\n"
     ]
    }
   ],
   "source": [
    "%run notebook_setup.ipynb"
   ]
  },
  {
   "cell_type": "markdown",
   "id": "4f1832a2-0fe5-420c-9d49-5af554aa9f0c",
   "metadata": {},
   "source": [
    "## Load the data"
   ]
  },
  {
   "cell_type": "code",
   "execution_count": 231,
   "id": "48526887-b52d-42b3-8349-463cea0c5a0c",
   "metadata": {},
   "outputs": [],
   "source": [
    "df = pd.read_csv(\n",
    "    DATA_PATH + 'reddit_askdocs_submissions_2017_to_20220121_analysis_ds.zip',\n",
    "    parse_dates=['created_utc_ns_dt'],\n",
    "    low_memory=False\n",
    ")"
   ]
  },
  {
   "cell_type": "code",
   "execution_count": 232,
   "id": "9c034f4f-5e40-466c-a23d-75e0fe947ffe",
   "metadata": {},
   "outputs": [
    {
     "data": {
      "text/html": [
       "<div>\n",
       "<style scoped>\n",
       "    .dataframe tbody tr th:only-of-type {\n",
       "        vertical-align: middle;\n",
       "    }\n",
       "\n",
       "    .dataframe tbody tr th {\n",
       "        vertical-align: top;\n",
       "    }\n",
       "\n",
       "    .dataframe thead th {\n",
       "        text-align: right;\n",
       "    }\n",
       "</style>\n",
       "<table border=\"1\" class=\"dataframe\">\n",
       "  <thead>\n",
       "    <tr style=\"text-align: right;\">\n",
       "      <th></th>\n",
       "      <th>author</th>\n",
       "      <th>num_comments</th>\n",
       "      <th>full_post_text</th>\n",
       "      <th>created_utc_ns_dt</th>\n",
       "      <th>age</th>\n",
       "      <th>sex</th>\n",
       "      <th>url</th>\n",
       "    </tr>\n",
       "  </thead>\n",
       "  <tbody>\n",
       "    <tr>\n",
       "      <th>0</th>\n",
       "      <td>DavisTheMagicSheep</td>\n",
       "      <td>2</td>\n",
       "      <td>My ears feel like there is pressure inside of ...</td>\n",
       "      <td>2017-12-31 23:43:19</td>\n",
       "      <td>NaN</td>\n",
       "      <td>NaN</td>\n",
       "      <td>https://www.reddit.com/r/AskDocs/comments/7nbu...</td>\n",
       "    </tr>\n",
       "    <tr>\n",
       "      <th>1</th>\n",
       "      <td>Dontgetscooped</td>\n",
       "      <td>1</td>\n",
       "      <td>IBS maybe? | (first about me : 32 white male 5...</td>\n",
       "      <td>2017-12-31 23:33:08</td>\n",
       "      <td>NaN</td>\n",
       "      <td>AMAB</td>\n",
       "      <td>https://www.reddit.com/r/AskDocs/comments/7nbs...</td>\n",
       "    </tr>\n",
       "    <tr>\n",
       "      <th>2</th>\n",
       "      <td>AveryFenix</td>\n",
       "      <td>7</td>\n",
       "      <td>Mole or scar? Should I be worried about melano...</td>\n",
       "      <td>2017-12-31 23:10:39</td>\n",
       "      <td>21.0</td>\n",
       "      <td>NaN</td>\n",
       "      <td>https://www.reddit.com/r/AskDocs/comments/7nbo...</td>\n",
       "    </tr>\n",
       "    <tr>\n",
       "      <th>3</th>\n",
       "      <td>LeftAl</td>\n",
       "      <td>5</td>\n",
       "      <td>Terbinafine 250mg oral tablets | I've been pre...</td>\n",
       "      <td>2017-12-31 22:04:03</td>\n",
       "      <td>NaN</td>\n",
       "      <td>NaN</td>\n",
       "      <td>https://www.reddit.com/r/AskDocs/comments/7nbb...</td>\n",
       "    </tr>\n",
       "    <tr>\n",
       "      <th>4</th>\n",
       "      <td>KingMoka</td>\n",
       "      <td>4</td>\n",
       "      <td>13.2 Testosterone Levels for a 19 Year Old Mal...</td>\n",
       "      <td>2017-12-31 21:53:21</td>\n",
       "      <td>19.0</td>\n",
       "      <td>NaN</td>\n",
       "      <td>https://www.reddit.com/r/AskDocs/comments/7nb9...</td>\n",
       "    </tr>\n",
       "  </tbody>\n",
       "</table>\n",
       "</div>"
      ],
      "text/plain": [
       "               author  num_comments  \\\n",
       "0  DavisTheMagicSheep             2   \n",
       "1      Dontgetscooped             1   \n",
       "2          AveryFenix             7   \n",
       "3              LeftAl             5   \n",
       "4            KingMoka             4   \n",
       "\n",
       "                                      full_post_text   created_utc_ns_dt  \\\n",
       "0  My ears feel like there is pressure inside of ... 2017-12-31 23:43:19   \n",
       "1  IBS maybe? | (first about me : 32 white male 5... 2017-12-31 23:33:08   \n",
       "2  Mole or scar? Should I be worried about melano... 2017-12-31 23:10:39   \n",
       "3  Terbinafine 250mg oral tablets | I've been pre... 2017-12-31 22:04:03   \n",
       "4  13.2 Testosterone Levels for a 19 Year Old Mal... 2017-12-31 21:53:21   \n",
       "\n",
       "    age   sex                                                url  \n",
       "0   NaN   NaN  https://www.reddit.com/r/AskDocs/comments/7nbu...  \n",
       "1   NaN  AMAB  https://www.reddit.com/r/AskDocs/comments/7nbs...  \n",
       "2  21.0   NaN  https://www.reddit.com/r/AskDocs/comments/7nbo...  \n",
       "3   NaN   NaN  https://www.reddit.com/r/AskDocs/comments/7nbb...  \n",
       "4  19.0   NaN  https://www.reddit.com/r/AskDocs/comments/7nb9...  "
      ]
     },
     "execution_count": 232,
     "metadata": {},
     "output_type": "execute_result"
    }
   ],
   "source": [
    "df.head()"
   ]
  },
  {
   "cell_type": "code",
   "execution_count": 233,
   "id": "df93fdfe-1ccd-4f5d-8a31-b34b6b6cd40c",
   "metadata": {},
   "outputs": [
    {
     "data": {
      "text/plain": [
       "492376"
      ]
     },
     "execution_count": 233,
     "metadata": {},
     "output_type": "execute_result"
    }
   ],
   "source": [
    "len(df)"
   ]
  },
  {
   "cell_type": "code",
   "execution_count": 234,
   "id": "3f861393-a1fb-4c12-aee6-ba84a7574449",
   "metadata": {},
   "outputs": [
    {
     "name": "stdout",
     "output_type": "stream",
     "text": [
      "<class 'pandas.core.frame.DataFrame'>\n",
      "RangeIndex: 492376 entries, 0 to 492375\n",
      "Data columns (total 7 columns):\n",
      " #   Column             Non-Null Count   Dtype         \n",
      "---  ------             --------------   -----         \n",
      " 0   author             492376 non-null  object        \n",
      " 1   num_comments       492376 non-null  int64         \n",
      " 2   full_post_text     492376 non-null  object        \n",
      " 3   created_utc_ns_dt  492376 non-null  datetime64[ns]\n",
      " 4   age                405967 non-null  float64       \n",
      " 5   sex                306244 non-null  object        \n",
      " 6   url                492376 non-null  object        \n",
      "dtypes: datetime64[ns](1), float64(1), int64(1), object(4)\n",
      "memory usage: 26.3+ MB\n"
     ]
    }
   ],
   "source": [
    "df.info()"
   ]
  },
  {
   "cell_type": "code",
   "execution_count": 235,
   "id": "e66db136-77d1-4378-abf6-42b1d28251a1",
   "metadata": {},
   "outputs": [
    {
     "data": {
      "text/html": [
       "<div>\n",
       "<style scoped>\n",
       "    .dataframe tbody tr th:only-of-type {\n",
       "        vertical-align: middle;\n",
       "    }\n",
       "\n",
       "    .dataframe tbody tr th {\n",
       "        vertical-align: top;\n",
       "    }\n",
       "\n",
       "    .dataframe thead th {\n",
       "        text-align: right;\n",
       "    }\n",
       "</style>\n",
       "<table border=\"1\" class=\"dataframe\">\n",
       "  <thead>\n",
       "    <tr style=\"text-align: right;\">\n",
       "      <th></th>\n",
       "      <th>author</th>\n",
       "      <th>num_comments</th>\n",
       "      <th>full_post_text</th>\n",
       "      <th>created_utc_ns_dt</th>\n",
       "      <th>age</th>\n",
       "      <th>sex</th>\n",
       "      <th>url</th>\n",
       "    </tr>\n",
       "  </thead>\n",
       "  <tbody>\n",
       "    <tr>\n",
       "      <th>count</th>\n",
       "      <td>492376</td>\n",
       "      <td>492376.000000</td>\n",
       "      <td>492376</td>\n",
       "      <td>492376</td>\n",
       "      <td>405967.000000</td>\n",
       "      <td>306244</td>\n",
       "      <td>492376</td>\n",
       "    </tr>\n",
       "    <tr>\n",
       "      <th>unique</th>\n",
       "      <td>312571</td>\n",
       "      <td>NaN</td>\n",
       "      <td>490450</td>\n",
       "      <td>NaN</td>\n",
       "      <td>NaN</td>\n",
       "      <td>2</td>\n",
       "      <td>492372</td>\n",
       "    </tr>\n",
       "    <tr>\n",
       "      <th>top</th>\n",
       "      <td>SensitiveBorder2</td>\n",
       "      <td>NaN</td>\n",
       "      <td>Mom is in the ICU after a brain hemorrhage str...</td>\n",
       "      <td>NaN</td>\n",
       "      <td>NaN</td>\n",
       "      <td>AMAB</td>\n",
       "      <td>https://www.reddit.com/r/KidneyStones/comments...</td>\n",
       "    </tr>\n",
       "    <tr>\n",
       "      <th>freq</th>\n",
       "      <td>274</td>\n",
       "      <td>NaN</td>\n",
       "      <td>14</td>\n",
       "      <td>NaN</td>\n",
       "      <td>NaN</td>\n",
       "      <td>166470</td>\n",
       "      <td>2</td>\n",
       "    </tr>\n",
       "    <tr>\n",
       "      <th>mean</th>\n",
       "      <td>NaN</td>\n",
       "      <td>3.877652</td>\n",
       "      <td>NaN</td>\n",
       "      <td>2020-03-10 15:29:36.459733760</td>\n",
       "      <td>25.022381</td>\n",
       "      <td>NaN</td>\n",
       "      <td>NaN</td>\n",
       "    </tr>\n",
       "    <tr>\n",
       "      <th>min</th>\n",
       "      <td>NaN</td>\n",
       "      <td>0.000000</td>\n",
       "      <td>NaN</td>\n",
       "      <td>2017-01-01 00:05:06</td>\n",
       "      <td>1.000000</td>\n",
       "      <td>NaN</td>\n",
       "      <td>NaN</td>\n",
       "    </tr>\n",
       "    <tr>\n",
       "      <th>25%</th>\n",
       "      <td>NaN</td>\n",
       "      <td>2.000000</td>\n",
       "      <td>NaN</td>\n",
       "      <td>2019-04-06 02:04:00.500000</td>\n",
       "      <td>19.000000</td>\n",
       "      <td>NaN</td>\n",
       "      <td>NaN</td>\n",
       "    </tr>\n",
       "    <tr>\n",
       "      <th>50%</th>\n",
       "      <td>NaN</td>\n",
       "      <td>2.000000</td>\n",
       "      <td>NaN</td>\n",
       "      <td>2020-05-27 07:54:11.500000</td>\n",
       "      <td>23.000000</td>\n",
       "      <td>NaN</td>\n",
       "      <td>NaN</td>\n",
       "    </tr>\n",
       "    <tr>\n",
       "      <th>75%</th>\n",
       "      <td>NaN</td>\n",
       "      <td>4.000000</td>\n",
       "      <td>NaN</td>\n",
       "      <td>2021-04-28 13:04:20.249999872</td>\n",
       "      <td>28.000000</td>\n",
       "      <td>NaN</td>\n",
       "      <td>NaN</td>\n",
       "    </tr>\n",
       "    <tr>\n",
       "      <th>max</th>\n",
       "      <td>NaN</td>\n",
       "      <td>6192.000000</td>\n",
       "      <td>NaN</td>\n",
       "      <td>2022-01-22 00:41:27</td>\n",
       "      <td>99.000000</td>\n",
       "      <td>NaN</td>\n",
       "      <td>NaN</td>\n",
       "    </tr>\n",
       "    <tr>\n",
       "      <th>std</th>\n",
       "      <td>NaN</td>\n",
       "      <td>11.643699</td>\n",
       "      <td>NaN</td>\n",
       "      <td>NaN</td>\n",
       "      <td>9.470582</td>\n",
       "      <td>NaN</td>\n",
       "      <td>NaN</td>\n",
       "    </tr>\n",
       "  </tbody>\n",
       "</table>\n",
       "</div>"
      ],
      "text/plain": [
       "                  author   num_comments  \\\n",
       "count             492376  492376.000000   \n",
       "unique            312571            NaN   \n",
       "top     SensitiveBorder2            NaN   \n",
       "freq                 274            NaN   \n",
       "mean                 NaN       3.877652   \n",
       "min                  NaN       0.000000   \n",
       "25%                  NaN       2.000000   \n",
       "50%                  NaN       2.000000   \n",
       "75%                  NaN       4.000000   \n",
       "max                  NaN    6192.000000   \n",
       "std                  NaN      11.643699   \n",
       "\n",
       "                                           full_post_text  \\\n",
       "count                                              492376   \n",
       "unique                                             490450   \n",
       "top     Mom is in the ICU after a brain hemorrhage str...   \n",
       "freq                                                   14   \n",
       "mean                                                  NaN   \n",
       "min                                                   NaN   \n",
       "25%                                                   NaN   \n",
       "50%                                                   NaN   \n",
       "75%                                                   NaN   \n",
       "max                                                   NaN   \n",
       "std                                                   NaN   \n",
       "\n",
       "                    created_utc_ns_dt            age     sex  \\\n",
       "count                          492376  405967.000000  306244   \n",
       "unique                            NaN            NaN       2   \n",
       "top                               NaN            NaN    AMAB   \n",
       "freq                              NaN            NaN  166470   \n",
       "mean    2020-03-10 15:29:36.459733760      25.022381     NaN   \n",
       "min               2017-01-01 00:05:06       1.000000     NaN   \n",
       "25%        2019-04-06 02:04:00.500000      19.000000     NaN   \n",
       "50%        2020-05-27 07:54:11.500000      23.000000     NaN   \n",
       "75%     2021-04-28 13:04:20.249999872      28.000000     NaN   \n",
       "max               2022-01-22 00:41:27      99.000000     NaN   \n",
       "std                               NaN       9.470582     NaN   \n",
       "\n",
       "                                                      url  \n",
       "count                                              492376  \n",
       "unique                                             492372  \n",
       "top     https://www.reddit.com/r/KidneyStones/comments...  \n",
       "freq                                                    2  \n",
       "mean                                                  NaN  \n",
       "min                                                   NaN  \n",
       "25%                                                   NaN  \n",
       "50%                                                   NaN  \n",
       "75%                                                   NaN  \n",
       "max                                                   NaN  \n",
       "std                                                   NaN  "
      ]
     },
     "execution_count": 235,
     "metadata": {},
     "output_type": "execute_result"
    }
   ],
   "source": [
    "df.describe(include='all')"
   ]
  },
  {
   "cell_type": "markdown",
   "id": "30c580e3-a6a9-4a5b-998e-9ac9be774643",
   "metadata": {},
   "source": [
    "## Age analysis"
   ]
  },
  {
   "cell_type": "code",
   "execution_count": 236,
   "id": "62830d15-66dc-4f79-bc37-1ab68679c716",
   "metadata": {},
   "outputs": [
    {
     "data": {
      "text/plain": [
       "count    405967.000000\n",
       "mean         25.022381\n",
       "std           9.470582\n",
       "min           1.000000\n",
       "25%          19.000000\n",
       "50%          23.000000\n",
       "75%          28.000000\n",
       "max          99.000000\n",
       "Name: age, dtype: float64"
      ]
     },
     "execution_count": 236,
     "metadata": {},
     "output_type": "execute_result"
    }
   ],
   "source": [
    "df['age'].describe()"
   ]
  },
  {
   "cell_type": "code",
   "execution_count": 237,
   "id": "f4ec3e7e-dd17-4407-af7d-6e71b27258a5",
   "metadata": {},
   "outputs": [
    {
     "data": {
      "text/plain": [
       "0    20.0\n",
       "Name: age, dtype: float64"
      ]
     },
     "execution_count": 237,
     "metadata": {},
     "output_type": "execute_result"
    }
   ],
   "source": [
    "df['age'].mode()"
   ]
  },
  {
   "cell_type": "code",
   "execution_count": 238,
   "id": "a727b3f8-fb40-4268-a9a6-fe98f032dd28",
   "metadata": {},
   "outputs": [
    {
     "data": {
      "text/plain": [
       "age\n",
       "NaN     86409\n",
       "20.0    27422\n",
       "21.0    27218\n",
       "22.0    26944\n",
       "23.0    25181\n",
       "        ...  \n",
       "91.0       25\n",
       "96.0       25\n",
       "94.0       24\n",
       "93.0       23\n",
       "98.0       20\n",
       "Name: count, Length: 100, dtype: int64"
      ]
     },
     "execution_count": 238,
     "metadata": {},
     "output_type": "execute_result"
    }
   ],
   "source": [
    "df['age'].value_counts(dropna=False)"
   ]
  },
  {
   "cell_type": "code",
   "execution_count": 239,
   "id": "980644d6-b22b-48a1-a08f-ff23cbddedb8",
   "metadata": {},
   "outputs": [
    {
     "data": {
      "text/plain": [
       "age\n",
       "NaN     0.175494\n",
       "20.0    0.055693\n",
       "21.0    0.055279\n",
       "22.0    0.054722\n",
       "23.0    0.051142\n",
       "          ...   \n",
       "91.0    0.000051\n",
       "96.0    0.000051\n",
       "94.0    0.000049\n",
       "93.0    0.000047\n",
       "98.0    0.000041\n",
       "Name: proportion, Length: 100, dtype: float64"
      ]
     },
     "execution_count": 239,
     "metadata": {},
     "output_type": "execute_result"
    }
   ],
   "source": [
    "df['age'].value_counts(dropna=False, normalize=True)"
   ]
  },
  {
   "cell_type": "code",
   "execution_count": 240,
   "id": "63c2d322-12e2-48d5-9a87-afc863d9dacf",
   "metadata": {},
   "outputs": [
    {
     "data": {
      "text/plain": [
       "age\n",
       "1.0     0.000944\n",
       "2.0     0.001564\n",
       "3.0     0.001596\n",
       "4.0     0.001277\n",
       "5.0     0.001708\n",
       "6.0     0.000983\n",
       "7.0     0.000821\n",
       "8.0     0.000938\n",
       "9.0     0.000721\n",
       "10.0    0.001091\n",
       "11.0    0.000865\n",
       "12.0    0.001454\n",
       "13.0    0.005220\n",
       "14.0    0.011327\n",
       "15.0    0.019223\n",
       "16.0    0.027286\n",
       "17.0    0.030812\n",
       "18.0    0.049541\n",
       "19.0    0.049738\n",
       "20.0    0.055693\n",
       "21.0    0.055279\n",
       "22.0    0.054722\n",
       "23.0    0.051142\n",
       "24.0    0.047754\n",
       "25.0    0.048368\n",
       "26.0    0.038367\n",
       "27.0    0.034455\n",
       "28.0    0.031878\n",
       "29.0    0.025994\n",
       "30.0    0.030093\n",
       "31.0    0.018815\n",
       "32.0    0.017369\n",
       "33.0    0.014156\n",
       "34.0    0.011400\n",
       "35.0    0.011552\n",
       "36.0    0.007813\n",
       "37.0    0.006278\n",
       "38.0    0.006162\n",
       "39.0    0.004734\n",
       "40.0    0.005319\n",
       "41.0    0.002612\n",
       "42.0    0.002679\n",
       "43.0    0.002011\n",
       "44.0    0.001676\n",
       "45.0    0.002177\n",
       "46.0    0.001373\n",
       "47.0    0.001430\n",
       "48.0    0.001316\n",
       "49.0    0.001223\n",
       "50.0    0.002297\n",
       "Name: proportion, dtype: float64"
      ]
     },
     "execution_count": 240,
     "metadata": {},
     "output_type": "execute_result"
    }
   ],
   "source": [
    "df['age'].value_counts(dropna=False, normalize=True).sort_index().head(50)"
   ]
  },
  {
   "cell_type": "code",
   "execution_count": 241,
   "id": "1d25296d-15c7-45d6-bfd9-3b5ba4937d3b",
   "metadata": {},
   "outputs": [
    {
     "data": {
      "application/vnd.plotly.v1+json": {
       "config": {
        "plotlyServerURL": "https://plotly.com"
       },
       "data": [
        {
         "hovertemplate": "Value: %{x:,}<br>Frequency: %{y:,}<br><extra></extra>",
         "hovertext": [
          1,
          2,
          3,
          4,
          5,
          6,
          7,
          8,
          9,
          10,
          11,
          12,
          13,
          14,
          15,
          16,
          17,
          18,
          19,
          20,
          21,
          22,
          23,
          24,
          25,
          26,
          27,
          28,
          29,
          30,
          31,
          32,
          33,
          34,
          35,
          36,
          37,
          38,
          39,
          40,
          41,
          42,
          43,
          44,
          45,
          46,
          47,
          48,
          49,
          50,
          51,
          52,
          53,
          54,
          55,
          56,
          57,
          58,
          59,
          60,
          61,
          62,
          63,
          64,
          65,
          66,
          67,
          68,
          69,
          70,
          71,
          72,
          73,
          74,
          75,
          76,
          77,
          78,
          79,
          80,
          81,
          82,
          83,
          84,
          85,
          86,
          87,
          88,
          89,
          90,
          91,
          92,
          93,
          94,
          95,
          96,
          97,
          98,
          99
         ],
         "type": "bar",
         "x": [
          1,
          2,
          3,
          4,
          5,
          6,
          7,
          8,
          9,
          10,
          11,
          12,
          13,
          14,
          15,
          16,
          17,
          18,
          19,
          20,
          21,
          22,
          23,
          24,
          25,
          26,
          27,
          28,
          29,
          30,
          31,
          32,
          33,
          34,
          35,
          36,
          37,
          38,
          39,
          40,
          41,
          42,
          43,
          44,
          45,
          46,
          47,
          48,
          49,
          50,
          51,
          52,
          53,
          54,
          55,
          56,
          57,
          58,
          59,
          60,
          61,
          62,
          63,
          64,
          65,
          66,
          67,
          68,
          69,
          70,
          71,
          72,
          73,
          74,
          75,
          76,
          77,
          78,
          79,
          80,
          81,
          82,
          83,
          84,
          85,
          86,
          87,
          88,
          89,
          90,
          91,
          92,
          93,
          94,
          95,
          96,
          97,
          98,
          99
         ],
         "y": [
          465,
          770,
          786,
          629,
          841,
          484,
          404,
          462,
          355,
          537,
          426,
          716,
          2570,
          5577,
          9465,
          13435,
          15171,
          24393,
          24490,
          27422,
          27218,
          26944,
          25181,
          23513,
          23815,
          18891,
          16965,
          15696,
          12799,
          14817,
          9264,
          8552,
          6970,
          5613,
          5688,
          3847,
          3091,
          3034,
          2331,
          2619,
          1286,
          1319,
          990,
          825,
          1072,
          676,
          704,
          648,
          602,
          1131,
          484,
          565,
          483,
          421,
          672,
          486,
          438,
          487,
          393,
          732,
          317,
          367,
          346,
          299,
          481,
          219,
          248,
          240,
          178,
          389,
          136,
          168,
          116,
          115,
          181,
          100,
          111,
          101,
          83,
          200,
          49,
          74,
          67,
          50,
          87,
          68,
          58,
          34,
          35,
          90,
          25,
          26,
          23,
          24,
          45,
          25,
          27,
          20,
          85
         ]
        }
       ],
       "layout": {
        "autosize": true,
        "plot_bgcolor": "#fff",
        "showlegend": false,
        "template": {
         "data": {
          "bar": [
           {
            "error_x": {
             "color": "#2a3f5f"
            },
            "error_y": {
             "color": "#2a3f5f"
            },
            "marker": {
             "line": {
              "color": "#E5ECF6",
              "width": 0.5
             },
             "pattern": {
              "fillmode": "overlay",
              "size": 10,
              "solidity": 0.2
             }
            },
            "type": "bar"
           }
          ],
          "barpolar": [
           {
            "marker": {
             "line": {
              "color": "#E5ECF6",
              "width": 0.5
             },
             "pattern": {
              "fillmode": "overlay",
              "size": 10,
              "solidity": 0.2
             }
            },
            "type": "barpolar"
           }
          ],
          "carpet": [
           {
            "aaxis": {
             "endlinecolor": "#2a3f5f",
             "gridcolor": "white",
             "linecolor": "white",
             "minorgridcolor": "white",
             "startlinecolor": "#2a3f5f"
            },
            "baxis": {
             "endlinecolor": "#2a3f5f",
             "gridcolor": "white",
             "linecolor": "white",
             "minorgridcolor": "white",
             "startlinecolor": "#2a3f5f"
            },
            "type": "carpet"
           }
          ],
          "choropleth": [
           {
            "colorbar": {
             "outlinewidth": 0,
             "ticks": ""
            },
            "type": "choropleth"
           }
          ],
          "contour": [
           {
            "colorbar": {
             "outlinewidth": 0,
             "ticks": ""
            },
            "colorscale": [
             [
              0,
              "#0d0887"
             ],
             [
              0.1111111111111111,
              "#46039f"
             ],
             [
              0.2222222222222222,
              "#7201a8"
             ],
             [
              0.3333333333333333,
              "#9c179e"
             ],
             [
              0.4444444444444444,
              "#bd3786"
             ],
             [
              0.5555555555555556,
              "#d8576b"
             ],
             [
              0.6666666666666666,
              "#ed7953"
             ],
             [
              0.7777777777777778,
              "#fb9f3a"
             ],
             [
              0.8888888888888888,
              "#fdca26"
             ],
             [
              1,
              "#f0f921"
             ]
            ],
            "type": "contour"
           }
          ],
          "contourcarpet": [
           {
            "colorbar": {
             "outlinewidth": 0,
             "ticks": ""
            },
            "type": "contourcarpet"
           }
          ],
          "heatmap": [
           {
            "colorbar": {
             "outlinewidth": 0,
             "ticks": ""
            },
            "colorscale": [
             [
              0,
              "#0d0887"
             ],
             [
              0.1111111111111111,
              "#46039f"
             ],
             [
              0.2222222222222222,
              "#7201a8"
             ],
             [
              0.3333333333333333,
              "#9c179e"
             ],
             [
              0.4444444444444444,
              "#bd3786"
             ],
             [
              0.5555555555555556,
              "#d8576b"
             ],
             [
              0.6666666666666666,
              "#ed7953"
             ],
             [
              0.7777777777777778,
              "#fb9f3a"
             ],
             [
              0.8888888888888888,
              "#fdca26"
             ],
             [
              1,
              "#f0f921"
             ]
            ],
            "type": "heatmap"
           }
          ],
          "heatmapgl": [
           {
            "colorbar": {
             "outlinewidth": 0,
             "ticks": ""
            },
            "colorscale": [
             [
              0,
              "#0d0887"
             ],
             [
              0.1111111111111111,
              "#46039f"
             ],
             [
              0.2222222222222222,
              "#7201a8"
             ],
             [
              0.3333333333333333,
              "#9c179e"
             ],
             [
              0.4444444444444444,
              "#bd3786"
             ],
             [
              0.5555555555555556,
              "#d8576b"
             ],
             [
              0.6666666666666666,
              "#ed7953"
             ],
             [
              0.7777777777777778,
              "#fb9f3a"
             ],
             [
              0.8888888888888888,
              "#fdca26"
             ],
             [
              1,
              "#f0f921"
             ]
            ],
            "type": "heatmapgl"
           }
          ],
          "histogram": [
           {
            "marker": {
             "pattern": {
              "fillmode": "overlay",
              "size": 10,
              "solidity": 0.2
             }
            },
            "type": "histogram"
           }
          ],
          "histogram2d": [
           {
            "colorbar": {
             "outlinewidth": 0,
             "ticks": ""
            },
            "colorscale": [
             [
              0,
              "#0d0887"
             ],
             [
              0.1111111111111111,
              "#46039f"
             ],
             [
              0.2222222222222222,
              "#7201a8"
             ],
             [
              0.3333333333333333,
              "#9c179e"
             ],
             [
              0.4444444444444444,
              "#bd3786"
             ],
             [
              0.5555555555555556,
              "#d8576b"
             ],
             [
              0.6666666666666666,
              "#ed7953"
             ],
             [
              0.7777777777777778,
              "#fb9f3a"
             ],
             [
              0.8888888888888888,
              "#fdca26"
             ],
             [
              1,
              "#f0f921"
             ]
            ],
            "type": "histogram2d"
           }
          ],
          "histogram2dcontour": [
           {
            "colorbar": {
             "outlinewidth": 0,
             "ticks": ""
            },
            "colorscale": [
             [
              0,
              "#0d0887"
             ],
             [
              0.1111111111111111,
              "#46039f"
             ],
             [
              0.2222222222222222,
              "#7201a8"
             ],
             [
              0.3333333333333333,
              "#9c179e"
             ],
             [
              0.4444444444444444,
              "#bd3786"
             ],
             [
              0.5555555555555556,
              "#d8576b"
             ],
             [
              0.6666666666666666,
              "#ed7953"
             ],
             [
              0.7777777777777778,
              "#fb9f3a"
             ],
             [
              0.8888888888888888,
              "#fdca26"
             ],
             [
              1,
              "#f0f921"
             ]
            ],
            "type": "histogram2dcontour"
           }
          ],
          "mesh3d": [
           {
            "colorbar": {
             "outlinewidth": 0,
             "ticks": ""
            },
            "type": "mesh3d"
           }
          ],
          "parcoords": [
           {
            "line": {
             "colorbar": {
              "outlinewidth": 0,
              "ticks": ""
             }
            },
            "type": "parcoords"
           }
          ],
          "pie": [
           {
            "automargin": true,
            "type": "pie"
           }
          ],
          "scatter": [
           {
            "fillpattern": {
             "fillmode": "overlay",
             "size": 10,
             "solidity": 0.2
            },
            "type": "scatter"
           }
          ],
          "scatter3d": [
           {
            "line": {
             "colorbar": {
              "outlinewidth": 0,
              "ticks": ""
             }
            },
            "marker": {
             "colorbar": {
              "outlinewidth": 0,
              "ticks": ""
             }
            },
            "type": "scatter3d"
           }
          ],
          "scattercarpet": [
           {
            "marker": {
             "colorbar": {
              "outlinewidth": 0,
              "ticks": ""
             }
            },
            "type": "scattercarpet"
           }
          ],
          "scattergeo": [
           {
            "marker": {
             "colorbar": {
              "outlinewidth": 0,
              "ticks": ""
             }
            },
            "type": "scattergeo"
           }
          ],
          "scattergl": [
           {
            "marker": {
             "colorbar": {
              "outlinewidth": 0,
              "ticks": ""
             }
            },
            "type": "scattergl"
           }
          ],
          "scattermapbox": [
           {
            "marker": {
             "colorbar": {
              "outlinewidth": 0,
              "ticks": ""
             }
            },
            "type": "scattermapbox"
           }
          ],
          "scatterpolar": [
           {
            "marker": {
             "colorbar": {
              "outlinewidth": 0,
              "ticks": ""
             }
            },
            "type": "scatterpolar"
           }
          ],
          "scatterpolargl": [
           {
            "marker": {
             "colorbar": {
              "outlinewidth": 0,
              "ticks": ""
             }
            },
            "type": "scatterpolargl"
           }
          ],
          "scatterternary": [
           {
            "marker": {
             "colorbar": {
              "outlinewidth": 0,
              "ticks": ""
             }
            },
            "type": "scatterternary"
           }
          ],
          "surface": [
           {
            "colorbar": {
             "outlinewidth": 0,
             "ticks": ""
            },
            "colorscale": [
             [
              0,
              "#0d0887"
             ],
             [
              0.1111111111111111,
              "#46039f"
             ],
             [
              0.2222222222222222,
              "#7201a8"
             ],
             [
              0.3333333333333333,
              "#9c179e"
             ],
             [
              0.4444444444444444,
              "#bd3786"
             ],
             [
              0.5555555555555556,
              "#d8576b"
             ],
             [
              0.6666666666666666,
              "#ed7953"
             ],
             [
              0.7777777777777778,
              "#fb9f3a"
             ],
             [
              0.8888888888888888,
              "#fdca26"
             ],
             [
              1,
              "#f0f921"
             ]
            ],
            "type": "surface"
           }
          ],
          "table": [
           {
            "cells": {
             "fill": {
              "color": "#EBF0F8"
             },
             "line": {
              "color": "white"
             }
            },
            "header": {
             "fill": {
              "color": "#C8D4E3"
             },
             "line": {
              "color": "white"
             }
            },
            "type": "table"
           }
          ]
         },
         "layout": {
          "annotationdefaults": {
           "arrowcolor": "#2a3f5f",
           "arrowhead": 0,
           "arrowwidth": 1
          },
          "autotypenumbers": "strict",
          "coloraxis": {
           "colorbar": {
            "outlinewidth": 0,
            "ticks": ""
           }
          },
          "colorscale": {
           "diverging": [
            [
             0,
             "#8e0152"
            ],
            [
             0.1,
             "#c51b7d"
            ],
            [
             0.2,
             "#de77ae"
            ],
            [
             0.3,
             "#f1b6da"
            ],
            [
             0.4,
             "#fde0ef"
            ],
            [
             0.5,
             "#f7f7f7"
            ],
            [
             0.6,
             "#e6f5d0"
            ],
            [
             0.7,
             "#b8e186"
            ],
            [
             0.8,
             "#7fbc41"
            ],
            [
             0.9,
             "#4d9221"
            ],
            [
             1,
             "#276419"
            ]
           ],
           "sequential": [
            [
             0,
             "#0d0887"
            ],
            [
             0.1111111111111111,
             "#46039f"
            ],
            [
             0.2222222222222222,
             "#7201a8"
            ],
            [
             0.3333333333333333,
             "#9c179e"
            ],
            [
             0.4444444444444444,
             "#bd3786"
            ],
            [
             0.5555555555555556,
             "#d8576b"
            ],
            [
             0.6666666666666666,
             "#ed7953"
            ],
            [
             0.7777777777777778,
             "#fb9f3a"
            ],
            [
             0.8888888888888888,
             "#fdca26"
            ],
            [
             1,
             "#f0f921"
            ]
           ],
           "sequentialminus": [
            [
             0,
             "#0d0887"
            ],
            [
             0.1111111111111111,
             "#46039f"
            ],
            [
             0.2222222222222222,
             "#7201a8"
            ],
            [
             0.3333333333333333,
             "#9c179e"
            ],
            [
             0.4444444444444444,
             "#bd3786"
            ],
            [
             0.5555555555555556,
             "#d8576b"
            ],
            [
             0.6666666666666666,
             "#ed7953"
            ],
            [
             0.7777777777777778,
             "#fb9f3a"
            ],
            [
             0.8888888888888888,
             "#fdca26"
            ],
            [
             1,
             "#f0f921"
            ]
           ]
          },
          "colorway": [
           "#636efa",
           "#EF553B",
           "#00cc96",
           "#ab63fa",
           "#FFA15A",
           "#19d3f3",
           "#FF6692",
           "#B6E880",
           "#FF97FF",
           "#FECB52"
          ],
          "font": {
           "color": "#2a3f5f"
          },
          "geo": {
           "bgcolor": "white",
           "lakecolor": "white",
           "landcolor": "#E5ECF6",
           "showlakes": true,
           "showland": true,
           "subunitcolor": "white"
          },
          "hoverlabel": {
           "align": "left"
          },
          "hovermode": "closest",
          "mapbox": {
           "style": "light"
          },
          "paper_bgcolor": "white",
          "plot_bgcolor": "#E5ECF6",
          "polar": {
           "angularaxis": {
            "gridcolor": "white",
            "linecolor": "white",
            "ticks": ""
           },
           "bgcolor": "#E5ECF6",
           "radialaxis": {
            "gridcolor": "white",
            "linecolor": "white",
            "ticks": ""
           }
          },
          "scene": {
           "xaxis": {
            "backgroundcolor": "#E5ECF6",
            "gridcolor": "white",
            "gridwidth": 2,
            "linecolor": "white",
            "showbackground": true,
            "ticks": "",
            "zerolinecolor": "white"
           },
           "yaxis": {
            "backgroundcolor": "#E5ECF6",
            "gridcolor": "white",
            "gridwidth": 2,
            "linecolor": "white",
            "showbackground": true,
            "ticks": "",
            "zerolinecolor": "white"
           },
           "zaxis": {
            "backgroundcolor": "#E5ECF6",
            "gridcolor": "white",
            "gridwidth": 2,
            "linecolor": "white",
            "showbackground": true,
            "ticks": "",
            "zerolinecolor": "white"
           }
          },
          "shapedefaults": {
           "line": {
            "color": "#2a3f5f"
           }
          },
          "ternary": {
           "aaxis": {
            "gridcolor": "white",
            "linecolor": "white",
            "ticks": ""
           },
           "baxis": {
            "gridcolor": "white",
            "linecolor": "white",
            "ticks": ""
           },
           "bgcolor": "#E5ECF6",
           "caxis": {
            "gridcolor": "white",
            "linecolor": "white",
            "ticks": ""
           }
          },
          "title": {
           "x": 0.05
          },
          "xaxis": {
           "automargin": true,
           "gridcolor": "white",
           "linecolor": "white",
           "ticks": "",
           "title": {
            "standoff": 15
           },
           "zerolinecolor": "white",
           "zerolinewidth": 2
          },
          "yaxis": {
           "automargin": true,
           "gridcolor": "white",
           "linecolor": "white",
           "ticks": "",
           "title": {
            "standoff": 15
           },
           "zerolinecolor": "white",
           "zerolinewidth": 2
          }
         }
        },
        "title": {
         "text": "<b>age</b> frequency distribution"
        },
        "xaxis": {
         "autorange": true,
         "range": [
          0,
          99.5
         ],
         "rangemode": "tozero",
         "type": "linear"
        },
        "yaxis": {
         "autorange": true,
         "gridcolor": "#eee",
         "range": [
          0,
          28865.263157894737
         ],
         "rangemode": "tozero",
         "title": {
          "text": "frequency"
         },
         "type": "linear"
        }
       }
      },
      "text/html": [
       "<div>                            <div id=\"087b1c06-1d26-4a96-a0e5-ca1c5f425427\" class=\"plotly-graph-div\" style=\"height:500px; width:100%;\"></div>            <script type=\"text/javascript\">                require([\"plotly\"], function(Plotly) {                    window.PLOTLYENV=window.PLOTLYENV || {};                                    if (document.getElementById(\"087b1c06-1d26-4a96-a0e5-ca1c5f425427\")) {                    Plotly.newPlot(                        \"087b1c06-1d26-4a96-a0e5-ca1c5f425427\",                        [{\"hovertemplate\":\"Value: %{x:,}<br>Frequency: %{y:,}<br><extra></extra>\",\"hovertext\":[1.0,2.0,3.0,4.0,5.0,6.0,7.0,8.0,9.0,10.0,11.0,12.0,13.0,14.0,15.0,16.0,17.0,18.0,19.0,20.0,21.0,22.0,23.0,24.0,25.0,26.0,27.0,28.0,29.0,30.0,31.0,32.0,33.0,34.0,35.0,36.0,37.0,38.0,39.0,40.0,41.0,42.0,43.0,44.0,45.0,46.0,47.0,48.0,49.0,50.0,51.0,52.0,53.0,54.0,55.0,56.0,57.0,58.0,59.0,60.0,61.0,62.0,63.0,64.0,65.0,66.0,67.0,68.0,69.0,70.0,71.0,72.0,73.0,74.0,75.0,76.0,77.0,78.0,79.0,80.0,81.0,82.0,83.0,84.0,85.0,86.0,87.0,88.0,89.0,90.0,91.0,92.0,93.0,94.0,95.0,96.0,97.0,98.0,99.0],\"x\":[1.0,2.0,3.0,4.0,5.0,6.0,7.0,8.0,9.0,10.0,11.0,12.0,13.0,14.0,15.0,16.0,17.0,18.0,19.0,20.0,21.0,22.0,23.0,24.0,25.0,26.0,27.0,28.0,29.0,30.0,31.0,32.0,33.0,34.0,35.0,36.0,37.0,38.0,39.0,40.0,41.0,42.0,43.0,44.0,45.0,46.0,47.0,48.0,49.0,50.0,51.0,52.0,53.0,54.0,55.0,56.0,57.0,58.0,59.0,60.0,61.0,62.0,63.0,64.0,65.0,66.0,67.0,68.0,69.0,70.0,71.0,72.0,73.0,74.0,75.0,76.0,77.0,78.0,79.0,80.0,81.0,82.0,83.0,84.0,85.0,86.0,87.0,88.0,89.0,90.0,91.0,92.0,93.0,94.0,95.0,96.0,97.0,98.0,99.0],\"y\":[465,770,786,629,841,484,404,462,355,537,426,716,2570,5577,9465,13435,15171,24393,24490,27422,27218,26944,25181,23513,23815,18891,16965,15696,12799,14817,9264,8552,6970,5613,5688,3847,3091,3034,2331,2619,1286,1319,990,825,1072,676,704,648,602,1131,484,565,483,421,672,486,438,487,393,732,317,367,346,299,481,219,248,240,178,389,136,168,116,115,181,100,111,101,83,200,49,74,67,50,87,68,58,34,35,90,25,26,23,24,45,25,27,20,85],\"type\":\"bar\"}],                        {\"template\":{\"data\":{\"histogram2dcontour\":[{\"type\":\"histogram2dcontour\",\"colorbar\":{\"outlinewidth\":0,\"ticks\":\"\"},\"colorscale\":[[0.0,\"#0d0887\"],[0.1111111111111111,\"#46039f\"],[0.2222222222222222,\"#7201a8\"],[0.3333333333333333,\"#9c179e\"],[0.4444444444444444,\"#bd3786\"],[0.5555555555555556,\"#d8576b\"],[0.6666666666666666,\"#ed7953\"],[0.7777777777777778,\"#fb9f3a\"],[0.8888888888888888,\"#fdca26\"],[1.0,\"#f0f921\"]]}],\"choropleth\":[{\"type\":\"choropleth\",\"colorbar\":{\"outlinewidth\":0,\"ticks\":\"\"}}],\"histogram2d\":[{\"type\":\"histogram2d\",\"colorbar\":{\"outlinewidth\":0,\"ticks\":\"\"},\"colorscale\":[[0.0,\"#0d0887\"],[0.1111111111111111,\"#46039f\"],[0.2222222222222222,\"#7201a8\"],[0.3333333333333333,\"#9c179e\"],[0.4444444444444444,\"#bd3786\"],[0.5555555555555556,\"#d8576b\"],[0.6666666666666666,\"#ed7953\"],[0.7777777777777778,\"#fb9f3a\"],[0.8888888888888888,\"#fdca26\"],[1.0,\"#f0f921\"]]}],\"heatmap\":[{\"type\":\"heatmap\",\"colorbar\":{\"outlinewidth\":0,\"ticks\":\"\"},\"colorscale\":[[0.0,\"#0d0887\"],[0.1111111111111111,\"#46039f\"],[0.2222222222222222,\"#7201a8\"],[0.3333333333333333,\"#9c179e\"],[0.4444444444444444,\"#bd3786\"],[0.5555555555555556,\"#d8576b\"],[0.6666666666666666,\"#ed7953\"],[0.7777777777777778,\"#fb9f3a\"],[0.8888888888888888,\"#fdca26\"],[1.0,\"#f0f921\"]]}],\"heatmapgl\":[{\"type\":\"heatmapgl\",\"colorbar\":{\"outlinewidth\":0,\"ticks\":\"\"},\"colorscale\":[[0.0,\"#0d0887\"],[0.1111111111111111,\"#46039f\"],[0.2222222222222222,\"#7201a8\"],[0.3333333333333333,\"#9c179e\"],[0.4444444444444444,\"#bd3786\"],[0.5555555555555556,\"#d8576b\"],[0.6666666666666666,\"#ed7953\"],[0.7777777777777778,\"#fb9f3a\"],[0.8888888888888888,\"#fdca26\"],[1.0,\"#f0f921\"]]}],\"contourcarpet\":[{\"type\":\"contourcarpet\",\"colorbar\":{\"outlinewidth\":0,\"ticks\":\"\"}}],\"contour\":[{\"type\":\"contour\",\"colorbar\":{\"outlinewidth\":0,\"ticks\":\"\"},\"colorscale\":[[0.0,\"#0d0887\"],[0.1111111111111111,\"#46039f\"],[0.2222222222222222,\"#7201a8\"],[0.3333333333333333,\"#9c179e\"],[0.4444444444444444,\"#bd3786\"],[0.5555555555555556,\"#d8576b\"],[0.6666666666666666,\"#ed7953\"],[0.7777777777777778,\"#fb9f3a\"],[0.8888888888888888,\"#fdca26\"],[1.0,\"#f0f921\"]]}],\"surface\":[{\"type\":\"surface\",\"colorbar\":{\"outlinewidth\":0,\"ticks\":\"\"},\"colorscale\":[[0.0,\"#0d0887\"],[0.1111111111111111,\"#46039f\"],[0.2222222222222222,\"#7201a8\"],[0.3333333333333333,\"#9c179e\"],[0.4444444444444444,\"#bd3786\"],[0.5555555555555556,\"#d8576b\"],[0.6666666666666666,\"#ed7953\"],[0.7777777777777778,\"#fb9f3a\"],[0.8888888888888888,\"#fdca26\"],[1.0,\"#f0f921\"]]}],\"mesh3d\":[{\"type\":\"mesh3d\",\"colorbar\":{\"outlinewidth\":0,\"ticks\":\"\"}}],\"scatter\":[{\"fillpattern\":{\"fillmode\":\"overlay\",\"size\":10,\"solidity\":0.2},\"type\":\"scatter\"}],\"parcoords\":[{\"type\":\"parcoords\",\"line\":{\"colorbar\":{\"outlinewidth\":0,\"ticks\":\"\"}}}],\"scatterpolargl\":[{\"type\":\"scatterpolargl\",\"marker\":{\"colorbar\":{\"outlinewidth\":0,\"ticks\":\"\"}}}],\"bar\":[{\"error_x\":{\"color\":\"#2a3f5f\"},\"error_y\":{\"color\":\"#2a3f5f\"},\"marker\":{\"line\":{\"color\":\"#E5ECF6\",\"width\":0.5},\"pattern\":{\"fillmode\":\"overlay\",\"size\":10,\"solidity\":0.2}},\"type\":\"bar\"}],\"scattergeo\":[{\"type\":\"scattergeo\",\"marker\":{\"colorbar\":{\"outlinewidth\":0,\"ticks\":\"\"}}}],\"scatterpolar\":[{\"type\":\"scatterpolar\",\"marker\":{\"colorbar\":{\"outlinewidth\":0,\"ticks\":\"\"}}}],\"histogram\":[{\"marker\":{\"pattern\":{\"fillmode\":\"overlay\",\"size\":10,\"solidity\":0.2}},\"type\":\"histogram\"}],\"scattergl\":[{\"type\":\"scattergl\",\"marker\":{\"colorbar\":{\"outlinewidth\":0,\"ticks\":\"\"}}}],\"scatter3d\":[{\"type\":\"scatter3d\",\"line\":{\"colorbar\":{\"outlinewidth\":0,\"ticks\":\"\"}},\"marker\":{\"colorbar\":{\"outlinewidth\":0,\"ticks\":\"\"}}}],\"scattermapbox\":[{\"type\":\"scattermapbox\",\"marker\":{\"colorbar\":{\"outlinewidth\":0,\"ticks\":\"\"}}}],\"scatterternary\":[{\"type\":\"scatterternary\",\"marker\":{\"colorbar\":{\"outlinewidth\":0,\"ticks\":\"\"}}}],\"scattercarpet\":[{\"type\":\"scattercarpet\",\"marker\":{\"colorbar\":{\"outlinewidth\":0,\"ticks\":\"\"}}}],\"carpet\":[{\"aaxis\":{\"endlinecolor\":\"#2a3f5f\",\"gridcolor\":\"white\",\"linecolor\":\"white\",\"minorgridcolor\":\"white\",\"startlinecolor\":\"#2a3f5f\"},\"baxis\":{\"endlinecolor\":\"#2a3f5f\",\"gridcolor\":\"white\",\"linecolor\":\"white\",\"minorgridcolor\":\"white\",\"startlinecolor\":\"#2a3f5f\"},\"type\":\"carpet\"}],\"table\":[{\"cells\":{\"fill\":{\"color\":\"#EBF0F8\"},\"line\":{\"color\":\"white\"}},\"header\":{\"fill\":{\"color\":\"#C8D4E3\"},\"line\":{\"color\":\"white\"}},\"type\":\"table\"}],\"barpolar\":[{\"marker\":{\"line\":{\"color\":\"#E5ECF6\",\"width\":0.5},\"pattern\":{\"fillmode\":\"overlay\",\"size\":10,\"solidity\":0.2}},\"type\":\"barpolar\"}],\"pie\":[{\"automargin\":true,\"type\":\"pie\"}]},\"layout\":{\"autotypenumbers\":\"strict\",\"colorway\":[\"#636efa\",\"#EF553B\",\"#00cc96\",\"#ab63fa\",\"#FFA15A\",\"#19d3f3\",\"#FF6692\",\"#B6E880\",\"#FF97FF\",\"#FECB52\"],\"font\":{\"color\":\"#2a3f5f\"},\"hovermode\":\"closest\",\"hoverlabel\":{\"align\":\"left\"},\"paper_bgcolor\":\"white\",\"plot_bgcolor\":\"#E5ECF6\",\"polar\":{\"bgcolor\":\"#E5ECF6\",\"angularaxis\":{\"gridcolor\":\"white\",\"linecolor\":\"white\",\"ticks\":\"\"},\"radialaxis\":{\"gridcolor\":\"white\",\"linecolor\":\"white\",\"ticks\":\"\"}},\"ternary\":{\"bgcolor\":\"#E5ECF6\",\"aaxis\":{\"gridcolor\":\"white\",\"linecolor\":\"white\",\"ticks\":\"\"},\"baxis\":{\"gridcolor\":\"white\",\"linecolor\":\"white\",\"ticks\":\"\"},\"caxis\":{\"gridcolor\":\"white\",\"linecolor\":\"white\",\"ticks\":\"\"}},\"coloraxis\":{\"colorbar\":{\"outlinewidth\":0,\"ticks\":\"\"}},\"colorscale\":{\"sequential\":[[0.0,\"#0d0887\"],[0.1111111111111111,\"#46039f\"],[0.2222222222222222,\"#7201a8\"],[0.3333333333333333,\"#9c179e\"],[0.4444444444444444,\"#bd3786\"],[0.5555555555555556,\"#d8576b\"],[0.6666666666666666,\"#ed7953\"],[0.7777777777777778,\"#fb9f3a\"],[0.8888888888888888,\"#fdca26\"],[1.0,\"#f0f921\"]],\"sequentialminus\":[[0.0,\"#0d0887\"],[0.1111111111111111,\"#46039f\"],[0.2222222222222222,\"#7201a8\"],[0.3333333333333333,\"#9c179e\"],[0.4444444444444444,\"#bd3786\"],[0.5555555555555556,\"#d8576b\"],[0.6666666666666666,\"#ed7953\"],[0.7777777777777778,\"#fb9f3a\"],[0.8888888888888888,\"#fdca26\"],[1.0,\"#f0f921\"]],\"diverging\":[[0,\"#8e0152\"],[0.1,\"#c51b7d\"],[0.2,\"#de77ae\"],[0.3,\"#f1b6da\"],[0.4,\"#fde0ef\"],[0.5,\"#f7f7f7\"],[0.6,\"#e6f5d0\"],[0.7,\"#b8e186\"],[0.8,\"#7fbc41\"],[0.9,\"#4d9221\"],[1,\"#276419\"]]},\"xaxis\":{\"gridcolor\":\"white\",\"linecolor\":\"white\",\"ticks\":\"\",\"title\":{\"standoff\":15},\"zerolinecolor\":\"white\",\"automargin\":true,\"zerolinewidth\":2},\"yaxis\":{\"gridcolor\":\"white\",\"linecolor\":\"white\",\"ticks\":\"\",\"title\":{\"standoff\":15},\"zerolinecolor\":\"white\",\"automargin\":true,\"zerolinewidth\":2},\"scene\":{\"xaxis\":{\"backgroundcolor\":\"#E5ECF6\",\"gridcolor\":\"white\",\"linecolor\":\"white\",\"showbackground\":true,\"ticks\":\"\",\"zerolinecolor\":\"white\",\"gridwidth\":2},\"yaxis\":{\"backgroundcolor\":\"#E5ECF6\",\"gridcolor\":\"white\",\"linecolor\":\"white\",\"showbackground\":true,\"ticks\":\"\",\"zerolinecolor\":\"white\",\"gridwidth\":2},\"zaxis\":{\"backgroundcolor\":\"#E5ECF6\",\"gridcolor\":\"white\",\"linecolor\":\"white\",\"showbackground\":true,\"ticks\":\"\",\"zerolinecolor\":\"white\",\"gridwidth\":2}},\"shapedefaults\":{\"line\":{\"color\":\"#2a3f5f\"}},\"annotationdefaults\":{\"arrowcolor\":\"#2a3f5f\",\"arrowhead\":0,\"arrowwidth\":1},\"geo\":{\"bgcolor\":\"white\",\"landcolor\":\"#E5ECF6\",\"subunitcolor\":\"white\",\"showland\":true,\"showlakes\":true,\"lakecolor\":\"white\"},\"title\":{\"x\":0.05},\"mapbox\":{\"style\":\"light\"}}},\"yaxis\":{\"gridcolor\":\"#eee\",\"title\":{\"text\":\"frequency\"},\"rangemode\":\"tozero\"},\"xaxis\":{\"rangemode\":\"tozero\"},\"title\":{\"text\":\"<b>age</b> frequency distribution\"},\"plot_bgcolor\":\"#fff\",\"showlegend\":false,\"height\":500},                        {\"responsive\": true}                    ).then(function(){\n",
       "                            \n",
       "var gd = document.getElementById('087b1c06-1d26-4a96-a0e5-ca1c5f425427');\n",
       "var x = new MutationObserver(function (mutations, observer) {{\n",
       "        var display = window.getComputedStyle(gd).display;\n",
       "        if (!display || display === 'none') {{\n",
       "            console.log([gd, 'removed!']);\n",
       "            Plotly.purge(gd);\n",
       "            observer.disconnect();\n",
       "        }}\n",
       "}});\n",
       "\n",
       "// Listen for the removal of the full notebook cells\n",
       "var notebookContainer = gd.closest('#notebook-container');\n",
       "if (notebookContainer) {{\n",
       "    x.observe(notebookContainer, {childList: true});\n",
       "}}\n",
       "\n",
       "// Listen for the clearing of the current output cell\n",
       "var outputEl = gd.closest('.output');\n",
       "if (outputEl) {{\n",
       "    x.observe(outputEl, {childList: true});\n",
       "}}\n",
       "\n",
       "                        })                };                });            </script>        </div>"
      ]
     },
     "metadata": {},
     "output_type": "display_data"
    }
   ],
   "source": [
    "num_freq_plot(df, 'age')"
   ]
  },
  {
   "cell_type": "markdown",
   "id": "a7c66689-3812-4018-b523-fd8043183355",
   "metadata": {},
   "source": [
    "Let's group ages into age group categories."
   ]
  },
  {
   "cell_type": "code",
   "execution_count": 242,
   "id": "90ae2c41-4396-4575-a888-8459e874c1fd",
   "metadata": {},
   "outputs": [],
   "source": [
    "AGE_GROUPS_ORDERED_LIST = [\n",
    "    {\n",
    "        'label': 'children',\n",
    "        'age_range': '< 13 years',\n",
    "        'incusive_lb': 0,\n",
    "        'inclusive_ub': 12\n",
    "    },\n",
    "    {\n",
    "        'label': 'adolescents',\n",
    "        'age_range': '13 - 17 years',\n",
    "        'incusive_lb': 13,\n",
    "        'inclusive_ub': 17\n",
    "    },\n",
    "    {\n",
    "        'label': 'young adulthood',\n",
    "        'age_range': '18 - 26 years',\n",
    "        'incusive_lb': 18,\n",
    "        'inclusive_ub': 26\n",
    "    },\n",
    "    {\n",
    "        'label': '30-ish',\n",
    "        'age_range': '27 - 34 years',\n",
    "        'incusive_lb': 27,\n",
    "        'inclusive_ub': 34\n",
    "    },\n",
    "    {\n",
    "        'label': 'early middle age',\n",
    "        'age_range': '35 - 44 years',\n",
    "        'incusive_lb': 35,\n",
    "        'inclusive_ub': 44\n",
    "    },\n",
    "    {\n",
    "        'label': 'middle age',\n",
    "        'age_range': '45 - 54 years',\n",
    "        'incusive_lb': 45,\n",
    "        'inclusive_ub': 54\n",
    "    },\n",
    "    {\n",
    "        'label': 'late middle age',\n",
    "        'age_range': '55 - 64 years',\n",
    "        'incusive_lb': 55,\n",
    "        'inclusive_ub': 64\n",
    "    },\n",
    "    {\n",
    "        'label': 'older adults',\n",
    "        'age_range': '>= 65 years',\n",
    "        'incusive_lb': 65,\n",
    "        'inclusive_ub': 200  # above max age limit\n",
    "    },\n",
    "    {\n",
    "        'label': 'unknown' # this should always be last in this list\n",
    "    }\n",
    "]"
   ]
  },
  {
   "cell_type": "code",
   "execution_count": 243,
   "id": "0a7fe152-09a3-44e5-a57f-168310b7cc9f",
   "metadata": {},
   "outputs": [],
   "source": [
    "def assign_age_group(age, age_groups_ordered_list):\n",
    "    assigned_age_group = age_groups_ordered_list[-1]['label']\n",
    "    \n",
    "    for age_group in age_groups_ordered_list:\n",
    "        if (not np.isnan(age)) and age <= age_group['inclusive_ub']:\n",
    "            assigned_age_group = age_group['label'] + f\" ({age_group['age_range']})\"\n",
    "            break\n",
    "            \n",
    "    return assigned_age_group"
   ]
  },
  {
   "cell_type": "code",
   "execution_count": 244,
   "id": "79567405-aaa9-4f57-bf62-7fdd44b60953",
   "metadata": {},
   "outputs": [
    {
     "data": {
      "text/plain": [
       "['children (< 13 years)',\n",
       " 'adolescents (13 - 17 years)',\n",
       " 'young adulthood (18 - 26 years)',\n",
       " '30-ish (27 - 34 years)',\n",
       " 'early middle age (35 - 44 years)',\n",
       " 'middle age (45 - 54 years)',\n",
       " 'late middle age (55 - 64 years)',\n",
       " 'older adults (>= 65 years)',\n",
       " 'unknown']"
      ]
     },
     "execution_count": 244,
     "metadata": {},
     "output_type": "execute_result"
    }
   ],
   "source": [
    "AGE_GROUPS_LABELS_W_AGE_RANGE_ORDERED_LIST = [\n",
    "    assign_age_group(x.get('incusive_lb', np.nan), AGE_GROUPS_ORDERED_LIST)\n",
    "    for x in AGE_GROUPS_ORDERED_LIST\n",
    "]\n",
    "\n",
    "AGE_GROUPS_LABELS_W_AGE_RANGE_ORDERED_LIST"
   ]
  },
  {
   "cell_type": "code",
   "execution_count": 245,
   "id": "504eca2c-5f95-431e-a863-16d5a4ff7d24",
   "metadata": {},
   "outputs": [],
   "source": [
    "df['age_group'] = df['age'].apply(assign_age_group, args=(AGE_GROUPS_ORDERED_LIST,))"
   ]
  },
  {
   "cell_type": "code",
   "execution_count": 246,
   "id": "75bc8b08-2bed-44f3-86bf-20743e659cca",
   "metadata": {},
   "outputs": [
    {
     "data": {
      "text/html": [
       "<div>\n",
       "<style scoped>\n",
       "    .dataframe tbody tr th:only-of-type {\n",
       "        vertical-align: middle;\n",
       "    }\n",
       "\n",
       "    .dataframe tbody tr th {\n",
       "        vertical-align: top;\n",
       "    }\n",
       "\n",
       "    .dataframe thead th {\n",
       "        text-align: right;\n",
       "    }\n",
       "</style>\n",
       "<table border=\"1\" class=\"dataframe\">\n",
       "  <thead>\n",
       "    <tr style=\"text-align: right;\">\n",
       "      <th></th>\n",
       "      <th>age</th>\n",
       "      <th>age_group</th>\n",
       "    </tr>\n",
       "  </thead>\n",
       "  <tbody>\n",
       "    <tr>\n",
       "      <th>492356</th>\n",
       "      <td>16.0</td>\n",
       "      <td>adolescents (13 - 17 years)</td>\n",
       "    </tr>\n",
       "    <tr>\n",
       "      <th>492357</th>\n",
       "      <td>18.0</td>\n",
       "      <td>young adulthood (18 - 26 years)</td>\n",
       "    </tr>\n",
       "    <tr>\n",
       "      <th>492358</th>\n",
       "      <td>31.0</td>\n",
       "      <td>30-ish (27 - 34 years)</td>\n",
       "    </tr>\n",
       "    <tr>\n",
       "      <th>492359</th>\n",
       "      <td>24.0</td>\n",
       "      <td>young adulthood (18 - 26 years)</td>\n",
       "    </tr>\n",
       "    <tr>\n",
       "      <th>492360</th>\n",
       "      <td>5.0</td>\n",
       "      <td>children (&lt; 13 years)</td>\n",
       "    </tr>\n",
       "    <tr>\n",
       "      <th>492361</th>\n",
       "      <td>22.0</td>\n",
       "      <td>young adulthood (18 - 26 years)</td>\n",
       "    </tr>\n",
       "    <tr>\n",
       "      <th>492362</th>\n",
       "      <td>NaN</td>\n",
       "      <td>unknown</td>\n",
       "    </tr>\n",
       "    <tr>\n",
       "      <th>492363</th>\n",
       "      <td>33.0</td>\n",
       "      <td>30-ish (27 - 34 years)</td>\n",
       "    </tr>\n",
       "    <tr>\n",
       "      <th>492364</th>\n",
       "      <td>51.0</td>\n",
       "      <td>middle age (45 - 54 years)</td>\n",
       "    </tr>\n",
       "    <tr>\n",
       "      <th>492365</th>\n",
       "      <td>23.0</td>\n",
       "      <td>young adulthood (18 - 26 years)</td>\n",
       "    </tr>\n",
       "    <tr>\n",
       "      <th>492366</th>\n",
       "      <td>NaN</td>\n",
       "      <td>unknown</td>\n",
       "    </tr>\n",
       "    <tr>\n",
       "      <th>492367</th>\n",
       "      <td>NaN</td>\n",
       "      <td>unknown</td>\n",
       "    </tr>\n",
       "    <tr>\n",
       "      <th>492368</th>\n",
       "      <td>33.0</td>\n",
       "      <td>30-ish (27 - 34 years)</td>\n",
       "    </tr>\n",
       "    <tr>\n",
       "      <th>492369</th>\n",
       "      <td>14.0</td>\n",
       "      <td>adolescents (13 - 17 years)</td>\n",
       "    </tr>\n",
       "    <tr>\n",
       "      <th>492370</th>\n",
       "      <td>35.0</td>\n",
       "      <td>early middle age (35 - 44 years)</td>\n",
       "    </tr>\n",
       "    <tr>\n",
       "      <th>492371</th>\n",
       "      <td>30.0</td>\n",
       "      <td>30-ish (27 - 34 years)</td>\n",
       "    </tr>\n",
       "    <tr>\n",
       "      <th>492372</th>\n",
       "      <td>22.0</td>\n",
       "      <td>young adulthood (18 - 26 years)</td>\n",
       "    </tr>\n",
       "    <tr>\n",
       "      <th>492373</th>\n",
       "      <td>39.0</td>\n",
       "      <td>early middle age (35 - 44 years)</td>\n",
       "    </tr>\n",
       "    <tr>\n",
       "      <th>492374</th>\n",
       "      <td>16.0</td>\n",
       "      <td>adolescents (13 - 17 years)</td>\n",
       "    </tr>\n",
       "    <tr>\n",
       "      <th>492375</th>\n",
       "      <td>20.0</td>\n",
       "      <td>young adulthood (18 - 26 years)</td>\n",
       "    </tr>\n",
       "  </tbody>\n",
       "</table>\n",
       "</div>"
      ],
      "text/plain": [
       "         age                         age_group\n",
       "492356  16.0       adolescents (13 - 17 years)\n",
       "492357  18.0   young adulthood (18 - 26 years)\n",
       "492358  31.0            30-ish (27 - 34 years)\n",
       "492359  24.0   young adulthood (18 - 26 years)\n",
       "492360   5.0             children (< 13 years)\n",
       "492361  22.0   young adulthood (18 - 26 years)\n",
       "492362   NaN                           unknown\n",
       "492363  33.0            30-ish (27 - 34 years)\n",
       "492364  51.0        middle age (45 - 54 years)\n",
       "492365  23.0   young adulthood (18 - 26 years)\n",
       "492366   NaN                           unknown\n",
       "492367   NaN                           unknown\n",
       "492368  33.0            30-ish (27 - 34 years)\n",
       "492369  14.0       adolescents (13 - 17 years)\n",
       "492370  35.0  early middle age (35 - 44 years)\n",
       "492371  30.0            30-ish (27 - 34 years)\n",
       "492372  22.0   young adulthood (18 - 26 years)\n",
       "492373  39.0  early middle age (35 - 44 years)\n",
       "492374  16.0       adolescents (13 - 17 years)\n",
       "492375  20.0   young adulthood (18 - 26 years)"
      ]
     },
     "execution_count": 246,
     "metadata": {},
     "output_type": "execute_result"
    }
   ],
   "source": [
    "df[['age', 'age_group']].tail(20)"
   ]
  },
  {
   "cell_type": "code",
   "execution_count": 247,
   "id": "22c2d48a-c084-4132-8411-45d30d69ab9e",
   "metadata": {},
   "outputs": [
    {
     "data": {
      "text/plain": [
       "age_group\n",
       "children (< 13 years)                 6875\n",
       "adolescents (13 - 17 years)          46218\n",
       "young adulthood (18 - 26 years)     221867\n",
       "30-ish (27 - 34 years)               90676\n",
       "early middle age (35 - 44 years)     25030\n",
       "middle age (45 - 54 years)            6786\n",
       "late middle age (55 - 64 years)       4537\n",
       "older adults (>= 65 years)            3978\n",
       "unknown                              86409\n",
       "Name: count, dtype: int64"
      ]
     },
     "execution_count": 247,
     "metadata": {},
     "output_type": "execute_result"
    }
   ],
   "source": [
    "df['age_group'].value_counts().reindex(AGE_GROUPS_LABELS_W_AGE_RANGE_ORDERED_LIST)"
   ]
  },
  {
   "cell_type": "code",
   "execution_count": 248,
   "id": "023b1ca2-ec9a-4b3b-bc47-f62c3ff67e84",
   "metadata": {},
   "outputs": [
    {
     "data": {
      "text/plain": [
       "age_group\n",
       "children (< 13 years)               0.013963\n",
       "adolescents (13 - 17 years)         0.093867\n",
       "young adulthood (18 - 26 years)     0.450605\n",
       "30-ish (27 - 34 years)              0.184160\n",
       "early middle age (35 - 44 years)    0.050835\n",
       "middle age (45 - 54 years)          0.013782\n",
       "late middle age (55 - 64 years)     0.009215\n",
       "older adults (>= 65 years)          0.008079\n",
       "unknown                             0.175494\n",
       "Name: proportion, dtype: float64"
      ]
     },
     "execution_count": 248,
     "metadata": {},
     "output_type": "execute_result"
    }
   ],
   "source": [
    "df['age_group'].value_counts(normalize=True)\\\n",
    "    .reindex(AGE_GROUPS_LABELS_W_AGE_RANGE_ORDERED_LIST)"
   ]
  },
  {
   "cell_type": "code",
   "execution_count": 249,
   "id": "15e62dbf-1d65-4a90-b0be-d8a4a6ae2137",
   "metadata": {},
   "outputs": [
    {
     "data": {
      "application/vnd.plotly.v1+json": {
       "config": {
        "plotlyServerURL": "https://plotly.com"
       },
       "data": [
        {
         "hovertemplate": "Value: %{x}<br>Frequency: %{y:,}<br><extra></extra>",
         "hovertext": [
          "children (< 13 years)",
          "adolescents (13 - 17 years)",
          "young adulthood (18 - 26 years)",
          "30-ish (27 - 34 years)",
          "early middle age (35 - 44 years)",
          "middle age (45 - 54 years)",
          "late middle age (55 - 64 years)",
          "older adults (>= 65 years)",
          "unknown"
         ],
         "type": "bar",
         "x": [
          "children (< 13 years)",
          "adolescents (13 - 17 years)",
          "young adulthood (18 - 26 years)",
          "30-ish (27 - 34 years)",
          "early middle age (35 - 44 years)",
          "middle age (45 - 54 years)",
          "late middle age (55 - 64 years)",
          "older adults (>= 65 years)",
          "unknown"
         ],
         "y": [
          6875,
          46218,
          221867,
          90676,
          25030,
          6786,
          4537,
          3978,
          86409
         ]
        }
       ],
       "layout": {
        "autosize": true,
        "plot_bgcolor": "#fff",
        "showlegend": false,
        "template": {
         "data": {
          "bar": [
           {
            "error_x": {
             "color": "#2a3f5f"
            },
            "error_y": {
             "color": "#2a3f5f"
            },
            "marker": {
             "line": {
              "color": "#E5ECF6",
              "width": 0.5
             },
             "pattern": {
              "fillmode": "overlay",
              "size": 10,
              "solidity": 0.2
             }
            },
            "type": "bar"
           }
          ],
          "barpolar": [
           {
            "marker": {
             "line": {
              "color": "#E5ECF6",
              "width": 0.5
             },
             "pattern": {
              "fillmode": "overlay",
              "size": 10,
              "solidity": 0.2
             }
            },
            "type": "barpolar"
           }
          ],
          "carpet": [
           {
            "aaxis": {
             "endlinecolor": "#2a3f5f",
             "gridcolor": "white",
             "linecolor": "white",
             "minorgridcolor": "white",
             "startlinecolor": "#2a3f5f"
            },
            "baxis": {
             "endlinecolor": "#2a3f5f",
             "gridcolor": "white",
             "linecolor": "white",
             "minorgridcolor": "white",
             "startlinecolor": "#2a3f5f"
            },
            "type": "carpet"
           }
          ],
          "choropleth": [
           {
            "colorbar": {
             "outlinewidth": 0,
             "ticks": ""
            },
            "type": "choropleth"
           }
          ],
          "contour": [
           {
            "colorbar": {
             "outlinewidth": 0,
             "ticks": ""
            },
            "colorscale": [
             [
              0,
              "#0d0887"
             ],
             [
              0.1111111111111111,
              "#46039f"
             ],
             [
              0.2222222222222222,
              "#7201a8"
             ],
             [
              0.3333333333333333,
              "#9c179e"
             ],
             [
              0.4444444444444444,
              "#bd3786"
             ],
             [
              0.5555555555555556,
              "#d8576b"
             ],
             [
              0.6666666666666666,
              "#ed7953"
             ],
             [
              0.7777777777777778,
              "#fb9f3a"
             ],
             [
              0.8888888888888888,
              "#fdca26"
             ],
             [
              1,
              "#f0f921"
             ]
            ],
            "type": "contour"
           }
          ],
          "contourcarpet": [
           {
            "colorbar": {
             "outlinewidth": 0,
             "ticks": ""
            },
            "type": "contourcarpet"
           }
          ],
          "heatmap": [
           {
            "colorbar": {
             "outlinewidth": 0,
             "ticks": ""
            },
            "colorscale": [
             [
              0,
              "#0d0887"
             ],
             [
              0.1111111111111111,
              "#46039f"
             ],
             [
              0.2222222222222222,
              "#7201a8"
             ],
             [
              0.3333333333333333,
              "#9c179e"
             ],
             [
              0.4444444444444444,
              "#bd3786"
             ],
             [
              0.5555555555555556,
              "#d8576b"
             ],
             [
              0.6666666666666666,
              "#ed7953"
             ],
             [
              0.7777777777777778,
              "#fb9f3a"
             ],
             [
              0.8888888888888888,
              "#fdca26"
             ],
             [
              1,
              "#f0f921"
             ]
            ],
            "type": "heatmap"
           }
          ],
          "heatmapgl": [
           {
            "colorbar": {
             "outlinewidth": 0,
             "ticks": ""
            },
            "colorscale": [
             [
              0,
              "#0d0887"
             ],
             [
              0.1111111111111111,
              "#46039f"
             ],
             [
              0.2222222222222222,
              "#7201a8"
             ],
             [
              0.3333333333333333,
              "#9c179e"
             ],
             [
              0.4444444444444444,
              "#bd3786"
             ],
             [
              0.5555555555555556,
              "#d8576b"
             ],
             [
              0.6666666666666666,
              "#ed7953"
             ],
             [
              0.7777777777777778,
              "#fb9f3a"
             ],
             [
              0.8888888888888888,
              "#fdca26"
             ],
             [
              1,
              "#f0f921"
             ]
            ],
            "type": "heatmapgl"
           }
          ],
          "histogram": [
           {
            "marker": {
             "pattern": {
              "fillmode": "overlay",
              "size": 10,
              "solidity": 0.2
             }
            },
            "type": "histogram"
           }
          ],
          "histogram2d": [
           {
            "colorbar": {
             "outlinewidth": 0,
             "ticks": ""
            },
            "colorscale": [
             [
              0,
              "#0d0887"
             ],
             [
              0.1111111111111111,
              "#46039f"
             ],
             [
              0.2222222222222222,
              "#7201a8"
             ],
             [
              0.3333333333333333,
              "#9c179e"
             ],
             [
              0.4444444444444444,
              "#bd3786"
             ],
             [
              0.5555555555555556,
              "#d8576b"
             ],
             [
              0.6666666666666666,
              "#ed7953"
             ],
             [
              0.7777777777777778,
              "#fb9f3a"
             ],
             [
              0.8888888888888888,
              "#fdca26"
             ],
             [
              1,
              "#f0f921"
             ]
            ],
            "type": "histogram2d"
           }
          ],
          "histogram2dcontour": [
           {
            "colorbar": {
             "outlinewidth": 0,
             "ticks": ""
            },
            "colorscale": [
             [
              0,
              "#0d0887"
             ],
             [
              0.1111111111111111,
              "#46039f"
             ],
             [
              0.2222222222222222,
              "#7201a8"
             ],
             [
              0.3333333333333333,
              "#9c179e"
             ],
             [
              0.4444444444444444,
              "#bd3786"
             ],
             [
              0.5555555555555556,
              "#d8576b"
             ],
             [
              0.6666666666666666,
              "#ed7953"
             ],
             [
              0.7777777777777778,
              "#fb9f3a"
             ],
             [
              0.8888888888888888,
              "#fdca26"
             ],
             [
              1,
              "#f0f921"
             ]
            ],
            "type": "histogram2dcontour"
           }
          ],
          "mesh3d": [
           {
            "colorbar": {
             "outlinewidth": 0,
             "ticks": ""
            },
            "type": "mesh3d"
           }
          ],
          "parcoords": [
           {
            "line": {
             "colorbar": {
              "outlinewidth": 0,
              "ticks": ""
             }
            },
            "type": "parcoords"
           }
          ],
          "pie": [
           {
            "automargin": true,
            "type": "pie"
           }
          ],
          "scatter": [
           {
            "fillpattern": {
             "fillmode": "overlay",
             "size": 10,
             "solidity": 0.2
            },
            "type": "scatter"
           }
          ],
          "scatter3d": [
           {
            "line": {
             "colorbar": {
              "outlinewidth": 0,
              "ticks": ""
             }
            },
            "marker": {
             "colorbar": {
              "outlinewidth": 0,
              "ticks": ""
             }
            },
            "type": "scatter3d"
           }
          ],
          "scattercarpet": [
           {
            "marker": {
             "colorbar": {
              "outlinewidth": 0,
              "ticks": ""
             }
            },
            "type": "scattercarpet"
           }
          ],
          "scattergeo": [
           {
            "marker": {
             "colorbar": {
              "outlinewidth": 0,
              "ticks": ""
             }
            },
            "type": "scattergeo"
           }
          ],
          "scattergl": [
           {
            "marker": {
             "colorbar": {
              "outlinewidth": 0,
              "ticks": ""
             }
            },
            "type": "scattergl"
           }
          ],
          "scattermapbox": [
           {
            "marker": {
             "colorbar": {
              "outlinewidth": 0,
              "ticks": ""
             }
            },
            "type": "scattermapbox"
           }
          ],
          "scatterpolar": [
           {
            "marker": {
             "colorbar": {
              "outlinewidth": 0,
              "ticks": ""
             }
            },
            "type": "scatterpolar"
           }
          ],
          "scatterpolargl": [
           {
            "marker": {
             "colorbar": {
              "outlinewidth": 0,
              "ticks": ""
             }
            },
            "type": "scatterpolargl"
           }
          ],
          "scatterternary": [
           {
            "marker": {
             "colorbar": {
              "outlinewidth": 0,
              "ticks": ""
             }
            },
            "type": "scatterternary"
           }
          ],
          "surface": [
           {
            "colorbar": {
             "outlinewidth": 0,
             "ticks": ""
            },
            "colorscale": [
             [
              0,
              "#0d0887"
             ],
             [
              0.1111111111111111,
              "#46039f"
             ],
             [
              0.2222222222222222,
              "#7201a8"
             ],
             [
              0.3333333333333333,
              "#9c179e"
             ],
             [
              0.4444444444444444,
              "#bd3786"
             ],
             [
              0.5555555555555556,
              "#d8576b"
             ],
             [
              0.6666666666666666,
              "#ed7953"
             ],
             [
              0.7777777777777778,
              "#fb9f3a"
             ],
             [
              0.8888888888888888,
              "#fdca26"
             ],
             [
              1,
              "#f0f921"
             ]
            ],
            "type": "surface"
           }
          ],
          "table": [
           {
            "cells": {
             "fill": {
              "color": "#EBF0F8"
             },
             "line": {
              "color": "white"
             }
            },
            "header": {
             "fill": {
              "color": "#C8D4E3"
             },
             "line": {
              "color": "white"
             }
            },
            "type": "table"
           }
          ]
         },
         "layout": {
          "annotationdefaults": {
           "arrowcolor": "#2a3f5f",
           "arrowhead": 0,
           "arrowwidth": 1
          },
          "autotypenumbers": "strict",
          "coloraxis": {
           "colorbar": {
            "outlinewidth": 0,
            "ticks": ""
           }
          },
          "colorscale": {
           "diverging": [
            [
             0,
             "#8e0152"
            ],
            [
             0.1,
             "#c51b7d"
            ],
            [
             0.2,
             "#de77ae"
            ],
            [
             0.3,
             "#f1b6da"
            ],
            [
             0.4,
             "#fde0ef"
            ],
            [
             0.5,
             "#f7f7f7"
            ],
            [
             0.6,
             "#e6f5d0"
            ],
            [
             0.7,
             "#b8e186"
            ],
            [
             0.8,
             "#7fbc41"
            ],
            [
             0.9,
             "#4d9221"
            ],
            [
             1,
             "#276419"
            ]
           ],
           "sequential": [
            [
             0,
             "#0d0887"
            ],
            [
             0.1111111111111111,
             "#46039f"
            ],
            [
             0.2222222222222222,
             "#7201a8"
            ],
            [
             0.3333333333333333,
             "#9c179e"
            ],
            [
             0.4444444444444444,
             "#bd3786"
            ],
            [
             0.5555555555555556,
             "#d8576b"
            ],
            [
             0.6666666666666666,
             "#ed7953"
            ],
            [
             0.7777777777777778,
             "#fb9f3a"
            ],
            [
             0.8888888888888888,
             "#fdca26"
            ],
            [
             1,
             "#f0f921"
            ]
           ],
           "sequentialminus": [
            [
             0,
             "#0d0887"
            ],
            [
             0.1111111111111111,
             "#46039f"
            ],
            [
             0.2222222222222222,
             "#7201a8"
            ],
            [
             0.3333333333333333,
             "#9c179e"
            ],
            [
             0.4444444444444444,
             "#bd3786"
            ],
            [
             0.5555555555555556,
             "#d8576b"
            ],
            [
             0.6666666666666666,
             "#ed7953"
            ],
            [
             0.7777777777777778,
             "#fb9f3a"
            ],
            [
             0.8888888888888888,
             "#fdca26"
            ],
            [
             1,
             "#f0f921"
            ]
           ]
          },
          "colorway": [
           "#636efa",
           "#EF553B",
           "#00cc96",
           "#ab63fa",
           "#FFA15A",
           "#19d3f3",
           "#FF6692",
           "#B6E880",
           "#FF97FF",
           "#FECB52"
          ],
          "font": {
           "color": "#2a3f5f"
          },
          "geo": {
           "bgcolor": "white",
           "lakecolor": "white",
           "landcolor": "#E5ECF6",
           "showlakes": true,
           "showland": true,
           "subunitcolor": "white"
          },
          "hoverlabel": {
           "align": "left"
          },
          "hovermode": "closest",
          "mapbox": {
           "style": "light"
          },
          "paper_bgcolor": "white",
          "plot_bgcolor": "#E5ECF6",
          "polar": {
           "angularaxis": {
            "gridcolor": "white",
            "linecolor": "white",
            "ticks": ""
           },
           "bgcolor": "#E5ECF6",
           "radialaxis": {
            "gridcolor": "white",
            "linecolor": "white",
            "ticks": ""
           }
          },
          "scene": {
           "xaxis": {
            "backgroundcolor": "#E5ECF6",
            "gridcolor": "white",
            "gridwidth": 2,
            "linecolor": "white",
            "showbackground": true,
            "ticks": "",
            "zerolinecolor": "white"
           },
           "yaxis": {
            "backgroundcolor": "#E5ECF6",
            "gridcolor": "white",
            "gridwidth": 2,
            "linecolor": "white",
            "showbackground": true,
            "ticks": "",
            "zerolinecolor": "white"
           },
           "zaxis": {
            "backgroundcolor": "#E5ECF6",
            "gridcolor": "white",
            "gridwidth": 2,
            "linecolor": "white",
            "showbackground": true,
            "ticks": "",
            "zerolinecolor": "white"
           }
          },
          "shapedefaults": {
           "line": {
            "color": "#2a3f5f"
           }
          },
          "ternary": {
           "aaxis": {
            "gridcolor": "white",
            "linecolor": "white",
            "ticks": ""
           },
           "baxis": {
            "gridcolor": "white",
            "linecolor": "white",
            "ticks": ""
           },
           "bgcolor": "#E5ECF6",
           "caxis": {
            "gridcolor": "white",
            "linecolor": "white",
            "ticks": ""
           }
          },
          "title": {
           "x": 0.05
          },
          "xaxis": {
           "automargin": true,
           "gridcolor": "white",
           "linecolor": "white",
           "ticks": "",
           "title": {
            "standoff": 15
           },
           "zerolinecolor": "white",
           "zerolinewidth": 2
          },
          "yaxis": {
           "automargin": true,
           "gridcolor": "white",
           "linecolor": "white",
           "ticks": "",
           "title": {
            "standoff": 15
           },
           "zerolinecolor": "white",
           "zerolinewidth": 2
          }
         }
        },
        "title": {
         "text": "<b>age_group</b> frequency distribution"
        },
        "xaxis": {
         "autorange": true,
         "range": [
          -0.5,
          8.5
         ],
         "rangemode": "tozero",
         "type": "category"
        },
        "yaxis": {
         "autorange": true,
         "gridcolor": "#eee",
         "range": [
          0,
          233544.2105263158
         ],
         "rangemode": "tozero",
         "title": {
          "text": "frequency"
         },
         "type": "linear"
        }
       }
      },
      "text/html": [
       "<div>                            <div id=\"a8229d79-28f6-4eb2-a709-5ea33163a0c4\" class=\"plotly-graph-div\" style=\"height:400px; width:100%;\"></div>            <script type=\"text/javascript\">                require([\"plotly\"], function(Plotly) {                    window.PLOTLYENV=window.PLOTLYENV || {};                                    if (document.getElementById(\"a8229d79-28f6-4eb2-a709-5ea33163a0c4\")) {                    Plotly.newPlot(                        \"a8229d79-28f6-4eb2-a709-5ea33163a0c4\",                        [{\"hovertemplate\":\"Value: %{x}<br>Frequency: %{y:,}<br><extra></extra>\",\"hovertext\":[\"children (< 13 years)\",\"adolescents (13 - 17 years)\",\"young adulthood (18 - 26 years)\",\"30-ish (27 - 34 years)\",\"early middle age (35 - 44 years)\",\"middle age (45 - 54 years)\",\"late middle age (55 - 64 years)\",\"older adults (>= 65 years)\",\"unknown\"],\"x\":[\"children (< 13 years)\",\"adolescents (13 - 17 years)\",\"young adulthood (18 - 26 years)\",\"30-ish (27 - 34 years)\",\"early middle age (35 - 44 years)\",\"middle age (45 - 54 years)\",\"late middle age (55 - 64 years)\",\"older adults (>= 65 years)\",\"unknown\"],\"y\":[6875,46218,221867,90676,25030,6786,4537,3978,86409],\"type\":\"bar\"}],                        {\"template\":{\"data\":{\"histogram2dcontour\":[{\"type\":\"histogram2dcontour\",\"colorbar\":{\"outlinewidth\":0,\"ticks\":\"\"},\"colorscale\":[[0.0,\"#0d0887\"],[0.1111111111111111,\"#46039f\"],[0.2222222222222222,\"#7201a8\"],[0.3333333333333333,\"#9c179e\"],[0.4444444444444444,\"#bd3786\"],[0.5555555555555556,\"#d8576b\"],[0.6666666666666666,\"#ed7953\"],[0.7777777777777778,\"#fb9f3a\"],[0.8888888888888888,\"#fdca26\"],[1.0,\"#f0f921\"]]}],\"choropleth\":[{\"type\":\"choropleth\",\"colorbar\":{\"outlinewidth\":0,\"ticks\":\"\"}}],\"histogram2d\":[{\"type\":\"histogram2d\",\"colorbar\":{\"outlinewidth\":0,\"ticks\":\"\"},\"colorscale\":[[0.0,\"#0d0887\"],[0.1111111111111111,\"#46039f\"],[0.2222222222222222,\"#7201a8\"],[0.3333333333333333,\"#9c179e\"],[0.4444444444444444,\"#bd3786\"],[0.5555555555555556,\"#d8576b\"],[0.6666666666666666,\"#ed7953\"],[0.7777777777777778,\"#fb9f3a\"],[0.8888888888888888,\"#fdca26\"],[1.0,\"#f0f921\"]]}],\"heatmap\":[{\"type\":\"heatmap\",\"colorbar\":{\"outlinewidth\":0,\"ticks\":\"\"},\"colorscale\":[[0.0,\"#0d0887\"],[0.1111111111111111,\"#46039f\"],[0.2222222222222222,\"#7201a8\"],[0.3333333333333333,\"#9c179e\"],[0.4444444444444444,\"#bd3786\"],[0.5555555555555556,\"#d8576b\"],[0.6666666666666666,\"#ed7953\"],[0.7777777777777778,\"#fb9f3a\"],[0.8888888888888888,\"#fdca26\"],[1.0,\"#f0f921\"]]}],\"heatmapgl\":[{\"type\":\"heatmapgl\",\"colorbar\":{\"outlinewidth\":0,\"ticks\":\"\"},\"colorscale\":[[0.0,\"#0d0887\"],[0.1111111111111111,\"#46039f\"],[0.2222222222222222,\"#7201a8\"],[0.3333333333333333,\"#9c179e\"],[0.4444444444444444,\"#bd3786\"],[0.5555555555555556,\"#d8576b\"],[0.6666666666666666,\"#ed7953\"],[0.7777777777777778,\"#fb9f3a\"],[0.8888888888888888,\"#fdca26\"],[1.0,\"#f0f921\"]]}],\"contourcarpet\":[{\"type\":\"contourcarpet\",\"colorbar\":{\"outlinewidth\":0,\"ticks\":\"\"}}],\"contour\":[{\"type\":\"contour\",\"colorbar\":{\"outlinewidth\":0,\"ticks\":\"\"},\"colorscale\":[[0.0,\"#0d0887\"],[0.1111111111111111,\"#46039f\"],[0.2222222222222222,\"#7201a8\"],[0.3333333333333333,\"#9c179e\"],[0.4444444444444444,\"#bd3786\"],[0.5555555555555556,\"#d8576b\"],[0.6666666666666666,\"#ed7953\"],[0.7777777777777778,\"#fb9f3a\"],[0.8888888888888888,\"#fdca26\"],[1.0,\"#f0f921\"]]}],\"surface\":[{\"type\":\"surface\",\"colorbar\":{\"outlinewidth\":0,\"ticks\":\"\"},\"colorscale\":[[0.0,\"#0d0887\"],[0.1111111111111111,\"#46039f\"],[0.2222222222222222,\"#7201a8\"],[0.3333333333333333,\"#9c179e\"],[0.4444444444444444,\"#bd3786\"],[0.5555555555555556,\"#d8576b\"],[0.6666666666666666,\"#ed7953\"],[0.7777777777777778,\"#fb9f3a\"],[0.8888888888888888,\"#fdca26\"],[1.0,\"#f0f921\"]]}],\"mesh3d\":[{\"type\":\"mesh3d\",\"colorbar\":{\"outlinewidth\":0,\"ticks\":\"\"}}],\"scatter\":[{\"fillpattern\":{\"fillmode\":\"overlay\",\"size\":10,\"solidity\":0.2},\"type\":\"scatter\"}],\"parcoords\":[{\"type\":\"parcoords\",\"line\":{\"colorbar\":{\"outlinewidth\":0,\"ticks\":\"\"}}}],\"scatterpolargl\":[{\"type\":\"scatterpolargl\",\"marker\":{\"colorbar\":{\"outlinewidth\":0,\"ticks\":\"\"}}}],\"bar\":[{\"error_x\":{\"color\":\"#2a3f5f\"},\"error_y\":{\"color\":\"#2a3f5f\"},\"marker\":{\"line\":{\"color\":\"#E5ECF6\",\"width\":0.5},\"pattern\":{\"fillmode\":\"overlay\",\"size\":10,\"solidity\":0.2}},\"type\":\"bar\"}],\"scattergeo\":[{\"type\":\"scattergeo\",\"marker\":{\"colorbar\":{\"outlinewidth\":0,\"ticks\":\"\"}}}],\"scatterpolar\":[{\"type\":\"scatterpolar\",\"marker\":{\"colorbar\":{\"outlinewidth\":0,\"ticks\":\"\"}}}],\"histogram\":[{\"marker\":{\"pattern\":{\"fillmode\":\"overlay\",\"size\":10,\"solidity\":0.2}},\"type\":\"histogram\"}],\"scattergl\":[{\"type\":\"scattergl\",\"marker\":{\"colorbar\":{\"outlinewidth\":0,\"ticks\":\"\"}}}],\"scatter3d\":[{\"type\":\"scatter3d\",\"line\":{\"colorbar\":{\"outlinewidth\":0,\"ticks\":\"\"}},\"marker\":{\"colorbar\":{\"outlinewidth\":0,\"ticks\":\"\"}}}],\"scattermapbox\":[{\"type\":\"scattermapbox\",\"marker\":{\"colorbar\":{\"outlinewidth\":0,\"ticks\":\"\"}}}],\"scatterternary\":[{\"type\":\"scatterternary\",\"marker\":{\"colorbar\":{\"outlinewidth\":0,\"ticks\":\"\"}}}],\"scattercarpet\":[{\"type\":\"scattercarpet\",\"marker\":{\"colorbar\":{\"outlinewidth\":0,\"ticks\":\"\"}}}],\"carpet\":[{\"aaxis\":{\"endlinecolor\":\"#2a3f5f\",\"gridcolor\":\"white\",\"linecolor\":\"white\",\"minorgridcolor\":\"white\",\"startlinecolor\":\"#2a3f5f\"},\"baxis\":{\"endlinecolor\":\"#2a3f5f\",\"gridcolor\":\"white\",\"linecolor\":\"white\",\"minorgridcolor\":\"white\",\"startlinecolor\":\"#2a3f5f\"},\"type\":\"carpet\"}],\"table\":[{\"cells\":{\"fill\":{\"color\":\"#EBF0F8\"},\"line\":{\"color\":\"white\"}},\"header\":{\"fill\":{\"color\":\"#C8D4E3\"},\"line\":{\"color\":\"white\"}},\"type\":\"table\"}],\"barpolar\":[{\"marker\":{\"line\":{\"color\":\"#E5ECF6\",\"width\":0.5},\"pattern\":{\"fillmode\":\"overlay\",\"size\":10,\"solidity\":0.2}},\"type\":\"barpolar\"}],\"pie\":[{\"automargin\":true,\"type\":\"pie\"}]},\"layout\":{\"autotypenumbers\":\"strict\",\"colorway\":[\"#636efa\",\"#EF553B\",\"#00cc96\",\"#ab63fa\",\"#FFA15A\",\"#19d3f3\",\"#FF6692\",\"#B6E880\",\"#FF97FF\",\"#FECB52\"],\"font\":{\"color\":\"#2a3f5f\"},\"hovermode\":\"closest\",\"hoverlabel\":{\"align\":\"left\"},\"paper_bgcolor\":\"white\",\"plot_bgcolor\":\"#E5ECF6\",\"polar\":{\"bgcolor\":\"#E5ECF6\",\"angularaxis\":{\"gridcolor\":\"white\",\"linecolor\":\"white\",\"ticks\":\"\"},\"radialaxis\":{\"gridcolor\":\"white\",\"linecolor\":\"white\",\"ticks\":\"\"}},\"ternary\":{\"bgcolor\":\"#E5ECF6\",\"aaxis\":{\"gridcolor\":\"white\",\"linecolor\":\"white\",\"ticks\":\"\"},\"baxis\":{\"gridcolor\":\"white\",\"linecolor\":\"white\",\"ticks\":\"\"},\"caxis\":{\"gridcolor\":\"white\",\"linecolor\":\"white\",\"ticks\":\"\"}},\"coloraxis\":{\"colorbar\":{\"outlinewidth\":0,\"ticks\":\"\"}},\"colorscale\":{\"sequential\":[[0.0,\"#0d0887\"],[0.1111111111111111,\"#46039f\"],[0.2222222222222222,\"#7201a8\"],[0.3333333333333333,\"#9c179e\"],[0.4444444444444444,\"#bd3786\"],[0.5555555555555556,\"#d8576b\"],[0.6666666666666666,\"#ed7953\"],[0.7777777777777778,\"#fb9f3a\"],[0.8888888888888888,\"#fdca26\"],[1.0,\"#f0f921\"]],\"sequentialminus\":[[0.0,\"#0d0887\"],[0.1111111111111111,\"#46039f\"],[0.2222222222222222,\"#7201a8\"],[0.3333333333333333,\"#9c179e\"],[0.4444444444444444,\"#bd3786\"],[0.5555555555555556,\"#d8576b\"],[0.6666666666666666,\"#ed7953\"],[0.7777777777777778,\"#fb9f3a\"],[0.8888888888888888,\"#fdca26\"],[1.0,\"#f0f921\"]],\"diverging\":[[0,\"#8e0152\"],[0.1,\"#c51b7d\"],[0.2,\"#de77ae\"],[0.3,\"#f1b6da\"],[0.4,\"#fde0ef\"],[0.5,\"#f7f7f7\"],[0.6,\"#e6f5d0\"],[0.7,\"#b8e186\"],[0.8,\"#7fbc41\"],[0.9,\"#4d9221\"],[1,\"#276419\"]]},\"xaxis\":{\"gridcolor\":\"white\",\"linecolor\":\"white\",\"ticks\":\"\",\"title\":{\"standoff\":15},\"zerolinecolor\":\"white\",\"automargin\":true,\"zerolinewidth\":2},\"yaxis\":{\"gridcolor\":\"white\",\"linecolor\":\"white\",\"ticks\":\"\",\"title\":{\"standoff\":15},\"zerolinecolor\":\"white\",\"automargin\":true,\"zerolinewidth\":2},\"scene\":{\"xaxis\":{\"backgroundcolor\":\"#E5ECF6\",\"gridcolor\":\"white\",\"linecolor\":\"white\",\"showbackground\":true,\"ticks\":\"\",\"zerolinecolor\":\"white\",\"gridwidth\":2},\"yaxis\":{\"backgroundcolor\":\"#E5ECF6\",\"gridcolor\":\"white\",\"linecolor\":\"white\",\"showbackground\":true,\"ticks\":\"\",\"zerolinecolor\":\"white\",\"gridwidth\":2},\"zaxis\":{\"backgroundcolor\":\"#E5ECF6\",\"gridcolor\":\"white\",\"linecolor\":\"white\",\"showbackground\":true,\"ticks\":\"\",\"zerolinecolor\":\"white\",\"gridwidth\":2}},\"shapedefaults\":{\"line\":{\"color\":\"#2a3f5f\"}},\"annotationdefaults\":{\"arrowcolor\":\"#2a3f5f\",\"arrowhead\":0,\"arrowwidth\":1},\"geo\":{\"bgcolor\":\"white\",\"landcolor\":\"#E5ECF6\",\"subunitcolor\":\"white\",\"showland\":true,\"showlakes\":true,\"lakecolor\":\"white\"},\"title\":{\"x\":0.05},\"mapbox\":{\"style\":\"light\"}}},\"yaxis\":{\"gridcolor\":\"#eee\",\"title\":{\"text\":\"frequency\"},\"rangemode\":\"tozero\"},\"xaxis\":{\"rangemode\":\"tozero\"},\"title\":{\"text\":\"<b>age_group</b> frequency distribution\"},\"plot_bgcolor\":\"#fff\",\"showlegend\":false,\"height\":400},                        {\"responsive\": true}                    ).then(function(){\n",
       "                            \n",
       "var gd = document.getElementById('a8229d79-28f6-4eb2-a709-5ea33163a0c4');\n",
       "var x = new MutationObserver(function (mutations, observer) {{\n",
       "        var display = window.getComputedStyle(gd).display;\n",
       "        if (!display || display === 'none') {{\n",
       "            console.log([gd, 'removed!']);\n",
       "            Plotly.purge(gd);\n",
       "            observer.disconnect();\n",
       "        }}\n",
       "}});\n",
       "\n",
       "// Listen for the removal of the full notebook cells\n",
       "var notebookContainer = gd.closest('#notebook-container');\n",
       "if (notebookContainer) {{\n",
       "    x.observe(notebookContainer, {childList: true});\n",
       "}}\n",
       "\n",
       "// Listen for the clearing of the current output cell\n",
       "var outputEl = gd.closest('.output');\n",
       "if (outputEl) {{\n",
       "    x.observe(outputEl, {childList: true});\n",
       "}}\n",
       "\n",
       "                        })                };                });            </script>        </div>"
      ]
     },
     "metadata": {},
     "output_type": "display_data"
    }
   ],
   "source": [
    "cat_freq_plot(df, 'age_group', AGE_GROUPS_LABELS_W_AGE_RANGE_ORDERED_LIST)"
   ]
  },
  {
   "cell_type": "markdown",
   "id": "27641a1e-64fa-4dc6-8dac-47b5643c122e",
   "metadata": {},
   "source": [
    "## Sex assigned at birth analysis"
   ]
  },
  {
   "cell_type": "code",
   "execution_count": 250,
   "id": "0c71f71e-7c8c-4ba5-8157-c9d03177ca53",
   "metadata": {},
   "outputs": [
    {
     "data": {
      "text/plain": [
       "count     306244\n",
       "unique         2\n",
       "top         AMAB\n",
       "freq      166470\n",
       "Name: sex, dtype: object"
      ]
     },
     "execution_count": 250,
     "metadata": {},
     "output_type": "execute_result"
    }
   ],
   "source": [
    "df['sex'].describe()"
   ]
  },
  {
   "cell_type": "code",
   "execution_count": 251,
   "id": "8cb7d73e-06ef-4791-8fe2-1b8aa0820d51",
   "metadata": {},
   "outputs": [
    {
     "data": {
      "text/plain": [
       "sex\n",
       "NaN     186132\n",
       "AMAB    166470\n",
       "AFAB    139774\n",
       "Name: count, dtype: int64"
      ]
     },
     "execution_count": 251,
     "metadata": {},
     "output_type": "execute_result"
    }
   ],
   "source": [
    "df['sex'].value_counts(dropna=False)"
   ]
  },
  {
   "cell_type": "code",
   "execution_count": 252,
   "id": "426ba1ee-31ad-4238-aa6b-b0b1a7658e84",
   "metadata": {},
   "outputs": [
    {
     "data": {
      "text/plain": [
       "sex\n",
       "NaN     0.378028\n",
       "AMAB    0.338095\n",
       "AFAB    0.283877\n",
       "Name: proportion, dtype: float64"
      ]
     },
     "execution_count": 252,
     "metadata": {},
     "output_type": "execute_result"
    }
   ],
   "source": [
    "df['sex'].value_counts(dropna=False, normalize=True)"
   ]
  },
  {
   "cell_type": "code",
   "execution_count": 253,
   "id": "c7aab52c-e610-4fae-93d7-47dd52fa88e1",
   "metadata": {},
   "outputs": [],
   "source": [
    "df['sex'].fillna('unknown', inplace=True)"
   ]
  },
  {
   "cell_type": "code",
   "execution_count": 254,
   "id": "8e5737df-fcac-480d-a127-11d1cbb2e97f",
   "metadata": {},
   "outputs": [],
   "source": [
    "SEX_LABELS_ORDERED_LIST = ['AFAB', 'AMAB', 'unknown']"
   ]
  },
  {
   "cell_type": "code",
   "execution_count": 255,
   "id": "c8062b78-9e65-4bca-8505-26434244b7d8",
   "metadata": {},
   "outputs": [
    {
     "data": {
      "application/vnd.plotly.v1+json": {
       "config": {
        "plotlyServerURL": "https://plotly.com"
       },
       "data": [
        {
         "hovertemplate": "Value: %{x}<br>Frequency: %{y:,}<br><extra></extra>",
         "hovertext": [
          "AFAB",
          "AMAB",
          "unknown"
         ],
         "type": "bar",
         "x": [
          "AFAB",
          "AMAB",
          "unknown"
         ],
         "y": [
          139774,
          166470,
          186132
         ]
        }
       ],
       "layout": {
        "autosize": true,
        "plot_bgcolor": "#fff",
        "showlegend": false,
        "template": {
         "data": {
          "bar": [
           {
            "error_x": {
             "color": "#2a3f5f"
            },
            "error_y": {
             "color": "#2a3f5f"
            },
            "marker": {
             "line": {
              "color": "#E5ECF6",
              "width": 0.5
             },
             "pattern": {
              "fillmode": "overlay",
              "size": 10,
              "solidity": 0.2
             }
            },
            "type": "bar"
           }
          ],
          "barpolar": [
           {
            "marker": {
             "line": {
              "color": "#E5ECF6",
              "width": 0.5
             },
             "pattern": {
              "fillmode": "overlay",
              "size": 10,
              "solidity": 0.2
             }
            },
            "type": "barpolar"
           }
          ],
          "carpet": [
           {
            "aaxis": {
             "endlinecolor": "#2a3f5f",
             "gridcolor": "white",
             "linecolor": "white",
             "minorgridcolor": "white",
             "startlinecolor": "#2a3f5f"
            },
            "baxis": {
             "endlinecolor": "#2a3f5f",
             "gridcolor": "white",
             "linecolor": "white",
             "minorgridcolor": "white",
             "startlinecolor": "#2a3f5f"
            },
            "type": "carpet"
           }
          ],
          "choropleth": [
           {
            "colorbar": {
             "outlinewidth": 0,
             "ticks": ""
            },
            "type": "choropleth"
           }
          ],
          "contour": [
           {
            "colorbar": {
             "outlinewidth": 0,
             "ticks": ""
            },
            "colorscale": [
             [
              0,
              "#0d0887"
             ],
             [
              0.1111111111111111,
              "#46039f"
             ],
             [
              0.2222222222222222,
              "#7201a8"
             ],
             [
              0.3333333333333333,
              "#9c179e"
             ],
             [
              0.4444444444444444,
              "#bd3786"
             ],
             [
              0.5555555555555556,
              "#d8576b"
             ],
             [
              0.6666666666666666,
              "#ed7953"
             ],
             [
              0.7777777777777778,
              "#fb9f3a"
             ],
             [
              0.8888888888888888,
              "#fdca26"
             ],
             [
              1,
              "#f0f921"
             ]
            ],
            "type": "contour"
           }
          ],
          "contourcarpet": [
           {
            "colorbar": {
             "outlinewidth": 0,
             "ticks": ""
            },
            "type": "contourcarpet"
           }
          ],
          "heatmap": [
           {
            "colorbar": {
             "outlinewidth": 0,
             "ticks": ""
            },
            "colorscale": [
             [
              0,
              "#0d0887"
             ],
             [
              0.1111111111111111,
              "#46039f"
             ],
             [
              0.2222222222222222,
              "#7201a8"
             ],
             [
              0.3333333333333333,
              "#9c179e"
             ],
             [
              0.4444444444444444,
              "#bd3786"
             ],
             [
              0.5555555555555556,
              "#d8576b"
             ],
             [
              0.6666666666666666,
              "#ed7953"
             ],
             [
              0.7777777777777778,
              "#fb9f3a"
             ],
             [
              0.8888888888888888,
              "#fdca26"
             ],
             [
              1,
              "#f0f921"
             ]
            ],
            "type": "heatmap"
           }
          ],
          "heatmapgl": [
           {
            "colorbar": {
             "outlinewidth": 0,
             "ticks": ""
            },
            "colorscale": [
             [
              0,
              "#0d0887"
             ],
             [
              0.1111111111111111,
              "#46039f"
             ],
             [
              0.2222222222222222,
              "#7201a8"
             ],
             [
              0.3333333333333333,
              "#9c179e"
             ],
             [
              0.4444444444444444,
              "#bd3786"
             ],
             [
              0.5555555555555556,
              "#d8576b"
             ],
             [
              0.6666666666666666,
              "#ed7953"
             ],
             [
              0.7777777777777778,
              "#fb9f3a"
             ],
             [
              0.8888888888888888,
              "#fdca26"
             ],
             [
              1,
              "#f0f921"
             ]
            ],
            "type": "heatmapgl"
           }
          ],
          "histogram": [
           {
            "marker": {
             "pattern": {
              "fillmode": "overlay",
              "size": 10,
              "solidity": 0.2
             }
            },
            "type": "histogram"
           }
          ],
          "histogram2d": [
           {
            "colorbar": {
             "outlinewidth": 0,
             "ticks": ""
            },
            "colorscale": [
             [
              0,
              "#0d0887"
             ],
             [
              0.1111111111111111,
              "#46039f"
             ],
             [
              0.2222222222222222,
              "#7201a8"
             ],
             [
              0.3333333333333333,
              "#9c179e"
             ],
             [
              0.4444444444444444,
              "#bd3786"
             ],
             [
              0.5555555555555556,
              "#d8576b"
             ],
             [
              0.6666666666666666,
              "#ed7953"
             ],
             [
              0.7777777777777778,
              "#fb9f3a"
             ],
             [
              0.8888888888888888,
              "#fdca26"
             ],
             [
              1,
              "#f0f921"
             ]
            ],
            "type": "histogram2d"
           }
          ],
          "histogram2dcontour": [
           {
            "colorbar": {
             "outlinewidth": 0,
             "ticks": ""
            },
            "colorscale": [
             [
              0,
              "#0d0887"
             ],
             [
              0.1111111111111111,
              "#46039f"
             ],
             [
              0.2222222222222222,
              "#7201a8"
             ],
             [
              0.3333333333333333,
              "#9c179e"
             ],
             [
              0.4444444444444444,
              "#bd3786"
             ],
             [
              0.5555555555555556,
              "#d8576b"
             ],
             [
              0.6666666666666666,
              "#ed7953"
             ],
             [
              0.7777777777777778,
              "#fb9f3a"
             ],
             [
              0.8888888888888888,
              "#fdca26"
             ],
             [
              1,
              "#f0f921"
             ]
            ],
            "type": "histogram2dcontour"
           }
          ],
          "mesh3d": [
           {
            "colorbar": {
             "outlinewidth": 0,
             "ticks": ""
            },
            "type": "mesh3d"
           }
          ],
          "parcoords": [
           {
            "line": {
             "colorbar": {
              "outlinewidth": 0,
              "ticks": ""
             }
            },
            "type": "parcoords"
           }
          ],
          "pie": [
           {
            "automargin": true,
            "type": "pie"
           }
          ],
          "scatter": [
           {
            "fillpattern": {
             "fillmode": "overlay",
             "size": 10,
             "solidity": 0.2
            },
            "type": "scatter"
           }
          ],
          "scatter3d": [
           {
            "line": {
             "colorbar": {
              "outlinewidth": 0,
              "ticks": ""
             }
            },
            "marker": {
             "colorbar": {
              "outlinewidth": 0,
              "ticks": ""
             }
            },
            "type": "scatter3d"
           }
          ],
          "scattercarpet": [
           {
            "marker": {
             "colorbar": {
              "outlinewidth": 0,
              "ticks": ""
             }
            },
            "type": "scattercarpet"
           }
          ],
          "scattergeo": [
           {
            "marker": {
             "colorbar": {
              "outlinewidth": 0,
              "ticks": ""
             }
            },
            "type": "scattergeo"
           }
          ],
          "scattergl": [
           {
            "marker": {
             "colorbar": {
              "outlinewidth": 0,
              "ticks": ""
             }
            },
            "type": "scattergl"
           }
          ],
          "scattermapbox": [
           {
            "marker": {
             "colorbar": {
              "outlinewidth": 0,
              "ticks": ""
             }
            },
            "type": "scattermapbox"
           }
          ],
          "scatterpolar": [
           {
            "marker": {
             "colorbar": {
              "outlinewidth": 0,
              "ticks": ""
             }
            },
            "type": "scatterpolar"
           }
          ],
          "scatterpolargl": [
           {
            "marker": {
             "colorbar": {
              "outlinewidth": 0,
              "ticks": ""
             }
            },
            "type": "scatterpolargl"
           }
          ],
          "scatterternary": [
           {
            "marker": {
             "colorbar": {
              "outlinewidth": 0,
              "ticks": ""
             }
            },
            "type": "scatterternary"
           }
          ],
          "surface": [
           {
            "colorbar": {
             "outlinewidth": 0,
             "ticks": ""
            },
            "colorscale": [
             [
              0,
              "#0d0887"
             ],
             [
              0.1111111111111111,
              "#46039f"
             ],
             [
              0.2222222222222222,
              "#7201a8"
             ],
             [
              0.3333333333333333,
              "#9c179e"
             ],
             [
              0.4444444444444444,
              "#bd3786"
             ],
             [
              0.5555555555555556,
              "#d8576b"
             ],
             [
              0.6666666666666666,
              "#ed7953"
             ],
             [
              0.7777777777777778,
              "#fb9f3a"
             ],
             [
              0.8888888888888888,
              "#fdca26"
             ],
             [
              1,
              "#f0f921"
             ]
            ],
            "type": "surface"
           }
          ],
          "table": [
           {
            "cells": {
             "fill": {
              "color": "#EBF0F8"
             },
             "line": {
              "color": "white"
             }
            },
            "header": {
             "fill": {
              "color": "#C8D4E3"
             },
             "line": {
              "color": "white"
             }
            },
            "type": "table"
           }
          ]
         },
         "layout": {
          "annotationdefaults": {
           "arrowcolor": "#2a3f5f",
           "arrowhead": 0,
           "arrowwidth": 1
          },
          "autotypenumbers": "strict",
          "coloraxis": {
           "colorbar": {
            "outlinewidth": 0,
            "ticks": ""
           }
          },
          "colorscale": {
           "diverging": [
            [
             0,
             "#8e0152"
            ],
            [
             0.1,
             "#c51b7d"
            ],
            [
             0.2,
             "#de77ae"
            ],
            [
             0.3,
             "#f1b6da"
            ],
            [
             0.4,
             "#fde0ef"
            ],
            [
             0.5,
             "#f7f7f7"
            ],
            [
             0.6,
             "#e6f5d0"
            ],
            [
             0.7,
             "#b8e186"
            ],
            [
             0.8,
             "#7fbc41"
            ],
            [
             0.9,
             "#4d9221"
            ],
            [
             1,
             "#276419"
            ]
           ],
           "sequential": [
            [
             0,
             "#0d0887"
            ],
            [
             0.1111111111111111,
             "#46039f"
            ],
            [
             0.2222222222222222,
             "#7201a8"
            ],
            [
             0.3333333333333333,
             "#9c179e"
            ],
            [
             0.4444444444444444,
             "#bd3786"
            ],
            [
             0.5555555555555556,
             "#d8576b"
            ],
            [
             0.6666666666666666,
             "#ed7953"
            ],
            [
             0.7777777777777778,
             "#fb9f3a"
            ],
            [
             0.8888888888888888,
             "#fdca26"
            ],
            [
             1,
             "#f0f921"
            ]
           ],
           "sequentialminus": [
            [
             0,
             "#0d0887"
            ],
            [
             0.1111111111111111,
             "#46039f"
            ],
            [
             0.2222222222222222,
             "#7201a8"
            ],
            [
             0.3333333333333333,
             "#9c179e"
            ],
            [
             0.4444444444444444,
             "#bd3786"
            ],
            [
             0.5555555555555556,
             "#d8576b"
            ],
            [
             0.6666666666666666,
             "#ed7953"
            ],
            [
             0.7777777777777778,
             "#fb9f3a"
            ],
            [
             0.8888888888888888,
             "#fdca26"
            ],
            [
             1,
             "#f0f921"
            ]
           ]
          },
          "colorway": [
           "#636efa",
           "#EF553B",
           "#00cc96",
           "#ab63fa",
           "#FFA15A",
           "#19d3f3",
           "#FF6692",
           "#B6E880",
           "#FF97FF",
           "#FECB52"
          ],
          "font": {
           "color": "#2a3f5f"
          },
          "geo": {
           "bgcolor": "white",
           "lakecolor": "white",
           "landcolor": "#E5ECF6",
           "showlakes": true,
           "showland": true,
           "subunitcolor": "white"
          },
          "hoverlabel": {
           "align": "left"
          },
          "hovermode": "closest",
          "mapbox": {
           "style": "light"
          },
          "paper_bgcolor": "white",
          "plot_bgcolor": "#E5ECF6",
          "polar": {
           "angularaxis": {
            "gridcolor": "white",
            "linecolor": "white",
            "ticks": ""
           },
           "bgcolor": "#E5ECF6",
           "radialaxis": {
            "gridcolor": "white",
            "linecolor": "white",
            "ticks": ""
           }
          },
          "scene": {
           "xaxis": {
            "backgroundcolor": "#E5ECF6",
            "gridcolor": "white",
            "gridwidth": 2,
            "linecolor": "white",
            "showbackground": true,
            "ticks": "",
            "zerolinecolor": "white"
           },
           "yaxis": {
            "backgroundcolor": "#E5ECF6",
            "gridcolor": "white",
            "gridwidth": 2,
            "linecolor": "white",
            "showbackground": true,
            "ticks": "",
            "zerolinecolor": "white"
           },
           "zaxis": {
            "backgroundcolor": "#E5ECF6",
            "gridcolor": "white",
            "gridwidth": 2,
            "linecolor": "white",
            "showbackground": true,
            "ticks": "",
            "zerolinecolor": "white"
           }
          },
          "shapedefaults": {
           "line": {
            "color": "#2a3f5f"
           }
          },
          "ternary": {
           "aaxis": {
            "gridcolor": "white",
            "linecolor": "white",
            "ticks": ""
           },
           "baxis": {
            "gridcolor": "white",
            "linecolor": "white",
            "ticks": ""
           },
           "bgcolor": "#E5ECF6",
           "caxis": {
            "gridcolor": "white",
            "linecolor": "white",
            "ticks": ""
           }
          },
          "title": {
           "x": 0.05
          },
          "xaxis": {
           "automargin": true,
           "gridcolor": "white",
           "linecolor": "white",
           "ticks": "",
           "title": {
            "standoff": 15
           },
           "zerolinecolor": "white",
           "zerolinewidth": 2
          },
          "yaxis": {
           "automargin": true,
           "gridcolor": "white",
           "linecolor": "white",
           "ticks": "",
           "title": {
            "standoff": 15
           },
           "zerolinecolor": "white",
           "zerolinewidth": 2
          }
         }
        },
        "title": {
         "text": "<b>sex</b> frequency distribution"
        },
        "xaxis": {
         "autorange": true,
         "range": [
          -0.5,
          2.5
         ],
         "rangemode": "tozero",
         "type": "category"
        },
        "yaxis": {
         "autorange": true,
         "gridcolor": "#eee",
         "range": [
          0,
          195928.42105263157
         ],
         "rangemode": "tozero",
         "title": {
          "text": "frequency"
         },
         "type": "linear"
        }
       }
      },
      "text/html": [
       "<div>                            <div id=\"df32f38e-12be-4982-a3cb-45947c53cae1\" class=\"plotly-graph-div\" style=\"height:400px; width:100%;\"></div>            <script type=\"text/javascript\">                require([\"plotly\"], function(Plotly) {                    window.PLOTLYENV=window.PLOTLYENV || {};                                    if (document.getElementById(\"df32f38e-12be-4982-a3cb-45947c53cae1\")) {                    Plotly.newPlot(                        \"df32f38e-12be-4982-a3cb-45947c53cae1\",                        [{\"hovertemplate\":\"Value: %{x}<br>Frequency: %{y:,}<br><extra></extra>\",\"hovertext\":[\"AFAB\",\"AMAB\",\"unknown\"],\"x\":[\"AFAB\",\"AMAB\",\"unknown\"],\"y\":[139774,166470,186132],\"type\":\"bar\"}],                        {\"template\":{\"data\":{\"histogram2dcontour\":[{\"type\":\"histogram2dcontour\",\"colorbar\":{\"outlinewidth\":0,\"ticks\":\"\"},\"colorscale\":[[0.0,\"#0d0887\"],[0.1111111111111111,\"#46039f\"],[0.2222222222222222,\"#7201a8\"],[0.3333333333333333,\"#9c179e\"],[0.4444444444444444,\"#bd3786\"],[0.5555555555555556,\"#d8576b\"],[0.6666666666666666,\"#ed7953\"],[0.7777777777777778,\"#fb9f3a\"],[0.8888888888888888,\"#fdca26\"],[1.0,\"#f0f921\"]]}],\"choropleth\":[{\"type\":\"choropleth\",\"colorbar\":{\"outlinewidth\":0,\"ticks\":\"\"}}],\"histogram2d\":[{\"type\":\"histogram2d\",\"colorbar\":{\"outlinewidth\":0,\"ticks\":\"\"},\"colorscale\":[[0.0,\"#0d0887\"],[0.1111111111111111,\"#46039f\"],[0.2222222222222222,\"#7201a8\"],[0.3333333333333333,\"#9c179e\"],[0.4444444444444444,\"#bd3786\"],[0.5555555555555556,\"#d8576b\"],[0.6666666666666666,\"#ed7953\"],[0.7777777777777778,\"#fb9f3a\"],[0.8888888888888888,\"#fdca26\"],[1.0,\"#f0f921\"]]}],\"heatmap\":[{\"type\":\"heatmap\",\"colorbar\":{\"outlinewidth\":0,\"ticks\":\"\"},\"colorscale\":[[0.0,\"#0d0887\"],[0.1111111111111111,\"#46039f\"],[0.2222222222222222,\"#7201a8\"],[0.3333333333333333,\"#9c179e\"],[0.4444444444444444,\"#bd3786\"],[0.5555555555555556,\"#d8576b\"],[0.6666666666666666,\"#ed7953\"],[0.7777777777777778,\"#fb9f3a\"],[0.8888888888888888,\"#fdca26\"],[1.0,\"#f0f921\"]]}],\"heatmapgl\":[{\"type\":\"heatmapgl\",\"colorbar\":{\"outlinewidth\":0,\"ticks\":\"\"},\"colorscale\":[[0.0,\"#0d0887\"],[0.1111111111111111,\"#46039f\"],[0.2222222222222222,\"#7201a8\"],[0.3333333333333333,\"#9c179e\"],[0.4444444444444444,\"#bd3786\"],[0.5555555555555556,\"#d8576b\"],[0.6666666666666666,\"#ed7953\"],[0.7777777777777778,\"#fb9f3a\"],[0.8888888888888888,\"#fdca26\"],[1.0,\"#f0f921\"]]}],\"contourcarpet\":[{\"type\":\"contourcarpet\",\"colorbar\":{\"outlinewidth\":0,\"ticks\":\"\"}}],\"contour\":[{\"type\":\"contour\",\"colorbar\":{\"outlinewidth\":0,\"ticks\":\"\"},\"colorscale\":[[0.0,\"#0d0887\"],[0.1111111111111111,\"#46039f\"],[0.2222222222222222,\"#7201a8\"],[0.3333333333333333,\"#9c179e\"],[0.4444444444444444,\"#bd3786\"],[0.5555555555555556,\"#d8576b\"],[0.6666666666666666,\"#ed7953\"],[0.7777777777777778,\"#fb9f3a\"],[0.8888888888888888,\"#fdca26\"],[1.0,\"#f0f921\"]]}],\"surface\":[{\"type\":\"surface\",\"colorbar\":{\"outlinewidth\":0,\"ticks\":\"\"},\"colorscale\":[[0.0,\"#0d0887\"],[0.1111111111111111,\"#46039f\"],[0.2222222222222222,\"#7201a8\"],[0.3333333333333333,\"#9c179e\"],[0.4444444444444444,\"#bd3786\"],[0.5555555555555556,\"#d8576b\"],[0.6666666666666666,\"#ed7953\"],[0.7777777777777778,\"#fb9f3a\"],[0.8888888888888888,\"#fdca26\"],[1.0,\"#f0f921\"]]}],\"mesh3d\":[{\"type\":\"mesh3d\",\"colorbar\":{\"outlinewidth\":0,\"ticks\":\"\"}}],\"scatter\":[{\"fillpattern\":{\"fillmode\":\"overlay\",\"size\":10,\"solidity\":0.2},\"type\":\"scatter\"}],\"parcoords\":[{\"type\":\"parcoords\",\"line\":{\"colorbar\":{\"outlinewidth\":0,\"ticks\":\"\"}}}],\"scatterpolargl\":[{\"type\":\"scatterpolargl\",\"marker\":{\"colorbar\":{\"outlinewidth\":0,\"ticks\":\"\"}}}],\"bar\":[{\"error_x\":{\"color\":\"#2a3f5f\"},\"error_y\":{\"color\":\"#2a3f5f\"},\"marker\":{\"line\":{\"color\":\"#E5ECF6\",\"width\":0.5},\"pattern\":{\"fillmode\":\"overlay\",\"size\":10,\"solidity\":0.2}},\"type\":\"bar\"}],\"scattergeo\":[{\"type\":\"scattergeo\",\"marker\":{\"colorbar\":{\"outlinewidth\":0,\"ticks\":\"\"}}}],\"scatterpolar\":[{\"type\":\"scatterpolar\",\"marker\":{\"colorbar\":{\"outlinewidth\":0,\"ticks\":\"\"}}}],\"histogram\":[{\"marker\":{\"pattern\":{\"fillmode\":\"overlay\",\"size\":10,\"solidity\":0.2}},\"type\":\"histogram\"}],\"scattergl\":[{\"type\":\"scattergl\",\"marker\":{\"colorbar\":{\"outlinewidth\":0,\"ticks\":\"\"}}}],\"scatter3d\":[{\"type\":\"scatter3d\",\"line\":{\"colorbar\":{\"outlinewidth\":0,\"ticks\":\"\"}},\"marker\":{\"colorbar\":{\"outlinewidth\":0,\"ticks\":\"\"}}}],\"scattermapbox\":[{\"type\":\"scattermapbox\",\"marker\":{\"colorbar\":{\"outlinewidth\":0,\"ticks\":\"\"}}}],\"scatterternary\":[{\"type\":\"scatterternary\",\"marker\":{\"colorbar\":{\"outlinewidth\":0,\"ticks\":\"\"}}}],\"scattercarpet\":[{\"type\":\"scattercarpet\",\"marker\":{\"colorbar\":{\"outlinewidth\":0,\"ticks\":\"\"}}}],\"carpet\":[{\"aaxis\":{\"endlinecolor\":\"#2a3f5f\",\"gridcolor\":\"white\",\"linecolor\":\"white\",\"minorgridcolor\":\"white\",\"startlinecolor\":\"#2a3f5f\"},\"baxis\":{\"endlinecolor\":\"#2a3f5f\",\"gridcolor\":\"white\",\"linecolor\":\"white\",\"minorgridcolor\":\"white\",\"startlinecolor\":\"#2a3f5f\"},\"type\":\"carpet\"}],\"table\":[{\"cells\":{\"fill\":{\"color\":\"#EBF0F8\"},\"line\":{\"color\":\"white\"}},\"header\":{\"fill\":{\"color\":\"#C8D4E3\"},\"line\":{\"color\":\"white\"}},\"type\":\"table\"}],\"barpolar\":[{\"marker\":{\"line\":{\"color\":\"#E5ECF6\",\"width\":0.5},\"pattern\":{\"fillmode\":\"overlay\",\"size\":10,\"solidity\":0.2}},\"type\":\"barpolar\"}],\"pie\":[{\"automargin\":true,\"type\":\"pie\"}]},\"layout\":{\"autotypenumbers\":\"strict\",\"colorway\":[\"#636efa\",\"#EF553B\",\"#00cc96\",\"#ab63fa\",\"#FFA15A\",\"#19d3f3\",\"#FF6692\",\"#B6E880\",\"#FF97FF\",\"#FECB52\"],\"font\":{\"color\":\"#2a3f5f\"},\"hovermode\":\"closest\",\"hoverlabel\":{\"align\":\"left\"},\"paper_bgcolor\":\"white\",\"plot_bgcolor\":\"#E5ECF6\",\"polar\":{\"bgcolor\":\"#E5ECF6\",\"angularaxis\":{\"gridcolor\":\"white\",\"linecolor\":\"white\",\"ticks\":\"\"},\"radialaxis\":{\"gridcolor\":\"white\",\"linecolor\":\"white\",\"ticks\":\"\"}},\"ternary\":{\"bgcolor\":\"#E5ECF6\",\"aaxis\":{\"gridcolor\":\"white\",\"linecolor\":\"white\",\"ticks\":\"\"},\"baxis\":{\"gridcolor\":\"white\",\"linecolor\":\"white\",\"ticks\":\"\"},\"caxis\":{\"gridcolor\":\"white\",\"linecolor\":\"white\",\"ticks\":\"\"}},\"coloraxis\":{\"colorbar\":{\"outlinewidth\":0,\"ticks\":\"\"}},\"colorscale\":{\"sequential\":[[0.0,\"#0d0887\"],[0.1111111111111111,\"#46039f\"],[0.2222222222222222,\"#7201a8\"],[0.3333333333333333,\"#9c179e\"],[0.4444444444444444,\"#bd3786\"],[0.5555555555555556,\"#d8576b\"],[0.6666666666666666,\"#ed7953\"],[0.7777777777777778,\"#fb9f3a\"],[0.8888888888888888,\"#fdca26\"],[1.0,\"#f0f921\"]],\"sequentialminus\":[[0.0,\"#0d0887\"],[0.1111111111111111,\"#46039f\"],[0.2222222222222222,\"#7201a8\"],[0.3333333333333333,\"#9c179e\"],[0.4444444444444444,\"#bd3786\"],[0.5555555555555556,\"#d8576b\"],[0.6666666666666666,\"#ed7953\"],[0.7777777777777778,\"#fb9f3a\"],[0.8888888888888888,\"#fdca26\"],[1.0,\"#f0f921\"]],\"diverging\":[[0,\"#8e0152\"],[0.1,\"#c51b7d\"],[0.2,\"#de77ae\"],[0.3,\"#f1b6da\"],[0.4,\"#fde0ef\"],[0.5,\"#f7f7f7\"],[0.6,\"#e6f5d0\"],[0.7,\"#b8e186\"],[0.8,\"#7fbc41\"],[0.9,\"#4d9221\"],[1,\"#276419\"]]},\"xaxis\":{\"gridcolor\":\"white\",\"linecolor\":\"white\",\"ticks\":\"\",\"title\":{\"standoff\":15},\"zerolinecolor\":\"white\",\"automargin\":true,\"zerolinewidth\":2},\"yaxis\":{\"gridcolor\":\"white\",\"linecolor\":\"white\",\"ticks\":\"\",\"title\":{\"standoff\":15},\"zerolinecolor\":\"white\",\"automargin\":true,\"zerolinewidth\":2},\"scene\":{\"xaxis\":{\"backgroundcolor\":\"#E5ECF6\",\"gridcolor\":\"white\",\"linecolor\":\"white\",\"showbackground\":true,\"ticks\":\"\",\"zerolinecolor\":\"white\",\"gridwidth\":2},\"yaxis\":{\"backgroundcolor\":\"#E5ECF6\",\"gridcolor\":\"white\",\"linecolor\":\"white\",\"showbackground\":true,\"ticks\":\"\",\"zerolinecolor\":\"white\",\"gridwidth\":2},\"zaxis\":{\"backgroundcolor\":\"#E5ECF6\",\"gridcolor\":\"white\",\"linecolor\":\"white\",\"showbackground\":true,\"ticks\":\"\",\"zerolinecolor\":\"white\",\"gridwidth\":2}},\"shapedefaults\":{\"line\":{\"color\":\"#2a3f5f\"}},\"annotationdefaults\":{\"arrowcolor\":\"#2a3f5f\",\"arrowhead\":0,\"arrowwidth\":1},\"geo\":{\"bgcolor\":\"white\",\"landcolor\":\"#E5ECF6\",\"subunitcolor\":\"white\",\"showland\":true,\"showlakes\":true,\"lakecolor\":\"white\"},\"title\":{\"x\":0.05},\"mapbox\":{\"style\":\"light\"}}},\"yaxis\":{\"gridcolor\":\"#eee\",\"title\":{\"text\":\"frequency\"},\"rangemode\":\"tozero\"},\"xaxis\":{\"rangemode\":\"tozero\"},\"title\":{\"text\":\"<b>sex</b> frequency distribution\"},\"plot_bgcolor\":\"#fff\",\"showlegend\":false,\"height\":400},                        {\"responsive\": true}                    ).then(function(){\n",
       "                            \n",
       "var gd = document.getElementById('df32f38e-12be-4982-a3cb-45947c53cae1');\n",
       "var x = new MutationObserver(function (mutations, observer) {{\n",
       "        var display = window.getComputedStyle(gd).display;\n",
       "        if (!display || display === 'none') {{\n",
       "            console.log([gd, 'removed!']);\n",
       "            Plotly.purge(gd);\n",
       "            observer.disconnect();\n",
       "        }}\n",
       "}});\n",
       "\n",
       "// Listen for the removal of the full notebook cells\n",
       "var notebookContainer = gd.closest('#notebook-container');\n",
       "if (notebookContainer) {{\n",
       "    x.observe(notebookContainer, {childList: true});\n",
       "}}\n",
       "\n",
       "// Listen for the clearing of the current output cell\n",
       "var outputEl = gd.closest('.output');\n",
       "if (outputEl) {{\n",
       "    x.observe(outputEl, {childList: true});\n",
       "}}\n",
       "\n",
       "                        })                };                });            </script>        </div>"
      ]
     },
     "metadata": {},
     "output_type": "display_data"
    }
   ],
   "source": [
    "cat_freq_plot(df, 'sex', SEX_LABELS_ORDERED_LIST)"
   ]
  },
  {
   "cell_type": "markdown",
   "id": "932a92c8-66b6-4988-b7db-a494e7c3cd33",
   "metadata": {},
   "source": [
    "## Comparing age and sex"
   ]
  },
  {
   "cell_type": "code",
   "execution_count": 256,
   "id": "d62f6545-ebd4-4c5c-adba-3cc34ecb189a",
   "metadata": {},
   "outputs": [
    {
     "data": {
      "text/plain": [
       "age_group                         sex    \n",
       "children (< 13 years)             AFAB       0.281891\n",
       "                                  AMAB       0.321891\n",
       "                                  unknown    0.396218\n",
       "adolescents (13 - 17 years)       AFAB       0.223160\n",
       "                                  AMAB       0.455926\n",
       "                                  unknown    0.320914\n",
       "young adulthood (18 - 26 years)   AFAB       0.330671\n",
       "                                  AMAB       0.383243\n",
       "                                  unknown    0.286086\n",
       "30-ish (27 - 34 years)            AFAB       0.342229\n",
       "                                  AMAB       0.359742\n",
       "                                  unknown    0.298028\n",
       "early middle age (35 - 44 years)  AFAB       0.343628\n",
       "                                  AMAB       0.369796\n",
       "                                  unknown    0.286576\n",
       "middle age (45 - 54 years)        AFAB       0.404657\n",
       "                                  AMAB       0.311082\n",
       "                                  unknown    0.284262\n",
       "late middle age (55 - 64 years)   AFAB       0.370068\n",
       "                                  AMAB       0.342517\n",
       "                                  unknown    0.287415\n",
       "older adults (>= 65 years)        AFAB       0.392408\n",
       "                                  AMAB       0.316491\n",
       "                                  unknown    0.291101\n",
       "unknown                           AFAB       0.098809\n",
       "                                  AMAB       0.131421\n",
       "                                  unknown    0.769769\n",
       "Name: proportion, dtype: float64"
      ]
     },
     "execution_count": 256,
     "metadata": {},
     "output_type": "execute_result"
    }
   ],
   "source": [
    "df.groupby('age_group')['sex'].value_counts(normalize=True)\\\n",
    "    .reindex(AGE_GROUPS_LABELS_W_AGE_RANGE_ORDERED_LIST, level=0)\\\n",
    "    .reindex(SEX_LABELS_ORDERED_LIST, level=1)"
   ]
  },
  {
   "cell_type": "code",
   "execution_count": 257,
   "id": "dab1a81e-531a-4446-b2b8-b42700d7ccf4",
   "metadata": {},
   "outputs": [
    {
     "data": {
      "text/plain": [
       "age_group                         sex    \n",
       "children (< 13 years)             AFAB        1938\n",
       "                                  AMAB        2213\n",
       "                                  unknown     2724\n",
       "adolescents (13 - 17 years)       AFAB       10314\n",
       "                                  AMAB       21072\n",
       "                                  unknown    14832\n",
       "young adulthood (18 - 26 years)   AFAB       73365\n",
       "                                  AMAB       85029\n",
       "                                  unknown    63473\n",
       "30-ish (27 - 34 years)            AFAB       31032\n",
       "                                  AMAB       32620\n",
       "                                  unknown    27024\n",
       "early middle age (35 - 44 years)  AFAB        8601\n",
       "                                  AMAB        9256\n",
       "                                  unknown     7173\n",
       "middle age (45 - 54 years)        AFAB        2746\n",
       "                                  AMAB        2111\n",
       "                                  unknown     1929\n",
       "late middle age (55 - 64 years)   AFAB        1679\n",
       "                                  AMAB        1554\n",
       "                                  unknown     1304\n",
       "older adults (>= 65 years)        AFAB        1561\n",
       "                                  AMAB        1259\n",
       "                                  unknown     1158\n",
       "unknown                           AFAB        8538\n",
       "                                  AMAB       11356\n",
       "                                  unknown    66515\n",
       "Name: count, dtype: int64"
      ]
     },
     "execution_count": 257,
     "metadata": {},
     "output_type": "execute_result"
    }
   ],
   "source": [
    "df.groupby('age_group')['sex'].value_counts()\\\n",
    "    .reindex(AGE_GROUPS_LABELS_W_AGE_RANGE_ORDERED_LIST, level=0)\\\n",
    "    .reindex(SEX_LABELS_ORDERED_LIST, level=1)"
   ]
  },
  {
   "cell_type": "code",
   "execution_count": 258,
   "id": "7c1b8342-a34e-4220-b123-1e46b3ea48fe",
   "metadata": {},
   "outputs": [
    {
     "data": {
      "text/html": [
       "<div>\n",
       "<style scoped>\n",
       "    .dataframe tbody tr th:only-of-type {\n",
       "        vertical-align: middle;\n",
       "    }\n",
       "\n",
       "    .dataframe tbody tr th {\n",
       "        vertical-align: top;\n",
       "    }\n",
       "\n",
       "    .dataframe thead th {\n",
       "        text-align: right;\n",
       "    }\n",
       "</style>\n",
       "<table border=\"1\" class=\"dataframe\">\n",
       "  <thead>\n",
       "    <tr style=\"text-align: right;\">\n",
       "      <th>sex</th>\n",
       "      <th>AFAB</th>\n",
       "      <th>AMAB</th>\n",
       "      <th>unknown</th>\n",
       "    </tr>\n",
       "    <tr>\n",
       "      <th>age_group</th>\n",
       "      <th></th>\n",
       "      <th></th>\n",
       "      <th></th>\n",
       "    </tr>\n",
       "  </thead>\n",
       "  <tbody>\n",
       "    <tr>\n",
       "      <th>children (&lt; 13 years)</th>\n",
       "      <td>1938</td>\n",
       "      <td>2213</td>\n",
       "      <td>2724</td>\n",
       "    </tr>\n",
       "    <tr>\n",
       "      <th>adolescents (13 - 17 years)</th>\n",
       "      <td>10314</td>\n",
       "      <td>21072</td>\n",
       "      <td>14832</td>\n",
       "    </tr>\n",
       "    <tr>\n",
       "      <th>young adulthood (18 - 26 years)</th>\n",
       "      <td>73365</td>\n",
       "      <td>85029</td>\n",
       "      <td>63473</td>\n",
       "    </tr>\n",
       "    <tr>\n",
       "      <th>30-ish (27 - 34 years)</th>\n",
       "      <td>31032</td>\n",
       "      <td>32620</td>\n",
       "      <td>27024</td>\n",
       "    </tr>\n",
       "    <tr>\n",
       "      <th>early middle age (35 - 44 years)</th>\n",
       "      <td>8601</td>\n",
       "      <td>9256</td>\n",
       "      <td>7173</td>\n",
       "    </tr>\n",
       "    <tr>\n",
       "      <th>middle age (45 - 54 years)</th>\n",
       "      <td>2746</td>\n",
       "      <td>2111</td>\n",
       "      <td>1929</td>\n",
       "    </tr>\n",
       "    <tr>\n",
       "      <th>late middle age (55 - 64 years)</th>\n",
       "      <td>1679</td>\n",
       "      <td>1554</td>\n",
       "      <td>1304</td>\n",
       "    </tr>\n",
       "    <tr>\n",
       "      <th>older adults (&gt;= 65 years)</th>\n",
       "      <td>1561</td>\n",
       "      <td>1259</td>\n",
       "      <td>1158</td>\n",
       "    </tr>\n",
       "    <tr>\n",
       "      <th>unknown</th>\n",
       "      <td>8538</td>\n",
       "      <td>11356</td>\n",
       "      <td>66515</td>\n",
       "    </tr>\n",
       "  </tbody>\n",
       "</table>\n",
       "</div>"
      ],
      "text/plain": [
       "sex                                AFAB   AMAB  unknown\n",
       "age_group                                              \n",
       "children (< 13 years)              1938   2213     2724\n",
       "adolescents (13 - 17 years)       10314  21072    14832\n",
       "young adulthood (18 - 26 years)   73365  85029    63473\n",
       "30-ish (27 - 34 years)            31032  32620    27024\n",
       "early middle age (35 - 44 years)   8601   9256     7173\n",
       "middle age (45 - 54 years)         2746   2111     1929\n",
       "late middle age (55 - 64 years)    1679   1554     1304\n",
       "older adults (>= 65 years)         1561   1259     1158\n",
       "unknown                            8538  11356    66515"
      ]
     },
     "execution_count": 258,
     "metadata": {},
     "output_type": "execute_result"
    }
   ],
   "source": [
    "pd.crosstab(df['age_group'], df['sex']).reindex(AGE_GROUPS_LABELS_W_AGE_RANGE_ORDERED_LIST)"
   ]
  },
  {
   "cell_type": "code",
   "execution_count": 259,
   "id": "776208ef-d38f-4a9b-b571-084d79250ca3",
   "metadata": {},
   "outputs": [
    {
     "data": {
      "text/html": [
       "<div>\n",
       "<style scoped>\n",
       "    .dataframe tbody tr th:only-of-type {\n",
       "        vertical-align: middle;\n",
       "    }\n",
       "\n",
       "    .dataframe tbody tr th {\n",
       "        vertical-align: top;\n",
       "    }\n",
       "\n",
       "    .dataframe thead th {\n",
       "        text-align: right;\n",
       "    }\n",
       "</style>\n",
       "<table border=\"1\" class=\"dataframe\">\n",
       "  <thead>\n",
       "    <tr style=\"text-align: right;\">\n",
       "      <th>sex</th>\n",
       "      <th>AFAB</th>\n",
       "      <th>AMAB</th>\n",
       "      <th>unknown</th>\n",
       "    </tr>\n",
       "    <tr>\n",
       "      <th>age_group</th>\n",
       "      <th></th>\n",
       "      <th></th>\n",
       "      <th></th>\n",
       "    </tr>\n",
       "  </thead>\n",
       "  <tbody>\n",
       "    <tr>\n",
       "      <th>children (&lt; 13 years)</th>\n",
       "      <td>0.281891</td>\n",
       "      <td>0.321891</td>\n",
       "      <td>0.396218</td>\n",
       "    </tr>\n",
       "    <tr>\n",
       "      <th>adolescents (13 - 17 years)</th>\n",
       "      <td>0.223160</td>\n",
       "      <td>0.455926</td>\n",
       "      <td>0.320914</td>\n",
       "    </tr>\n",
       "    <tr>\n",
       "      <th>young adulthood (18 - 26 years)</th>\n",
       "      <td>0.330671</td>\n",
       "      <td>0.383243</td>\n",
       "      <td>0.286086</td>\n",
       "    </tr>\n",
       "    <tr>\n",
       "      <th>30-ish (27 - 34 years)</th>\n",
       "      <td>0.342229</td>\n",
       "      <td>0.359742</td>\n",
       "      <td>0.298028</td>\n",
       "    </tr>\n",
       "    <tr>\n",
       "      <th>early middle age (35 - 44 years)</th>\n",
       "      <td>0.343628</td>\n",
       "      <td>0.369796</td>\n",
       "      <td>0.286576</td>\n",
       "    </tr>\n",
       "    <tr>\n",
       "      <th>middle age (45 - 54 years)</th>\n",
       "      <td>0.404657</td>\n",
       "      <td>0.311082</td>\n",
       "      <td>0.284262</td>\n",
       "    </tr>\n",
       "    <tr>\n",
       "      <th>late middle age (55 - 64 years)</th>\n",
       "      <td>0.370068</td>\n",
       "      <td>0.342517</td>\n",
       "      <td>0.287415</td>\n",
       "    </tr>\n",
       "    <tr>\n",
       "      <th>older adults (&gt;= 65 years)</th>\n",
       "      <td>0.392408</td>\n",
       "      <td>0.316491</td>\n",
       "      <td>0.291101</td>\n",
       "    </tr>\n",
       "    <tr>\n",
       "      <th>unknown</th>\n",
       "      <td>0.098809</td>\n",
       "      <td>0.131421</td>\n",
       "      <td>0.769769</td>\n",
       "    </tr>\n",
       "  </tbody>\n",
       "</table>\n",
       "</div>"
      ],
      "text/plain": [
       "sex                                   AFAB      AMAB   unknown\n",
       "age_group                                                     \n",
       "children (< 13 years)             0.281891  0.321891  0.396218\n",
       "adolescents (13 - 17 years)       0.223160  0.455926  0.320914\n",
       "young adulthood (18 - 26 years)   0.330671  0.383243  0.286086\n",
       "30-ish (27 - 34 years)            0.342229  0.359742  0.298028\n",
       "early middle age (35 - 44 years)  0.343628  0.369796  0.286576\n",
       "middle age (45 - 54 years)        0.404657  0.311082  0.284262\n",
       "late middle age (55 - 64 years)   0.370068  0.342517  0.287415\n",
       "older adults (>= 65 years)        0.392408  0.316491  0.291101\n",
       "unknown                           0.098809  0.131421  0.769769"
      ]
     },
     "execution_count": 259,
     "metadata": {},
     "output_type": "execute_result"
    }
   ],
   "source": [
    "pd.crosstab(\n",
    "    df['age_group'], \n",
    "    df['sex'], \n",
    "    normalize=0, \n",
    ").reindex(AGE_GROUPS_LABELS_W_AGE_RANGE_ORDERED_LIST)"
   ]
  },
  {
   "cell_type": "code",
   "execution_count": 260,
   "id": "8a78c2cf-10db-4f8a-9e1d-cc00fdc94b53",
   "metadata": {},
   "outputs": [],
   "source": [
    "def cat_crosstab_freq_plot(\n",
    "    df, \n",
    "    field_x, categories_ordered_list_field_x, \n",
    "    field_grp, categories_ordered_list_field_grp\n",
    "):\n",
    "\n",
    "    xtab = pd.crosstab(\n",
    "        df[field_x], \n",
    "        df[field_grp], \n",
    "    ).reindex(categories_ordered_list_field_x)\n",
    "    \n",
    "    traces = []\n",
    "    for i in categories_ordered_list_field_grp:\n",
    "        trace = go.Bar(\n",
    "            x=xtab.index,\n",
    "            y=xtab[i],\n",
    "            name=i\n",
    "        ) \n",
    "        traces.append(trace)\n",
    "\n",
    "    fig = go.Figure(traces)\n",
    "    \n",
    "        \n",
    "    fig.update_yaxes(gridcolor='#eee', title='frequency', rangemode='tozero')\n",
    "    fig.update_xaxes(rangemode='tozero')\n",
    "    fig.update_layout(\n",
    "        title=f'Crosstab frequency distribution of <b>{field_x}</b> by <b>{field_grp}</b>',\n",
    "        legend_title_text=f'{field_grp}:',\n",
    "        plot_bgcolor='#fff',\n",
    "        height=400\n",
    "    )\n",
    "\n",
    "    return fig"
   ]
  },
  {
   "cell_type": "code",
   "execution_count": 261,
   "id": "bb885ccd-9059-41ba-b41a-e86e26088c68",
   "metadata": {},
   "outputs": [
    {
     "data": {
      "application/vnd.plotly.v1+json": {
       "config": {
        "plotlyServerURL": "https://plotly.com"
       },
       "data": [
        {
         "name": "AFAB",
         "type": "bar",
         "x": [
          "children (< 13 years)",
          "adolescents (13 - 17 years)",
          "young adulthood (18 - 26 years)",
          "30-ish (27 - 34 years)",
          "early middle age (35 - 44 years)",
          "middle age (45 - 54 years)",
          "late middle age (55 - 64 years)",
          "older adults (>= 65 years)",
          "unknown"
         ],
         "y": [
          1938,
          10314,
          73365,
          31032,
          8601,
          2746,
          1679,
          1561,
          8538
         ]
        },
        {
         "name": "AMAB",
         "type": "bar",
         "x": [
          "children (< 13 years)",
          "adolescents (13 - 17 years)",
          "young adulthood (18 - 26 years)",
          "30-ish (27 - 34 years)",
          "early middle age (35 - 44 years)",
          "middle age (45 - 54 years)",
          "late middle age (55 - 64 years)",
          "older adults (>= 65 years)",
          "unknown"
         ],
         "y": [
          2213,
          21072,
          85029,
          32620,
          9256,
          2111,
          1554,
          1259,
          11356
         ]
        },
        {
         "name": "unknown",
         "type": "bar",
         "x": [
          "children (< 13 years)",
          "adolescents (13 - 17 years)",
          "young adulthood (18 - 26 years)",
          "30-ish (27 - 34 years)",
          "early middle age (35 - 44 years)",
          "middle age (45 - 54 years)",
          "late middle age (55 - 64 years)",
          "older adults (>= 65 years)",
          "unknown"
         ],
         "y": [
          2724,
          14832,
          63473,
          27024,
          7173,
          1929,
          1304,
          1158,
          66515
         ]
        }
       ],
       "layout": {
        "autosize": true,
        "legend": {
         "title": {
          "text": "sex:"
         }
        },
        "plot_bgcolor": "#fff",
        "template": {
         "data": {
          "bar": [
           {
            "error_x": {
             "color": "#2a3f5f"
            },
            "error_y": {
             "color": "#2a3f5f"
            },
            "marker": {
             "line": {
              "color": "#E5ECF6",
              "width": 0.5
             },
             "pattern": {
              "fillmode": "overlay",
              "size": 10,
              "solidity": 0.2
             }
            },
            "type": "bar"
           }
          ],
          "barpolar": [
           {
            "marker": {
             "line": {
              "color": "#E5ECF6",
              "width": 0.5
             },
             "pattern": {
              "fillmode": "overlay",
              "size": 10,
              "solidity": 0.2
             }
            },
            "type": "barpolar"
           }
          ],
          "carpet": [
           {
            "aaxis": {
             "endlinecolor": "#2a3f5f",
             "gridcolor": "white",
             "linecolor": "white",
             "minorgridcolor": "white",
             "startlinecolor": "#2a3f5f"
            },
            "baxis": {
             "endlinecolor": "#2a3f5f",
             "gridcolor": "white",
             "linecolor": "white",
             "minorgridcolor": "white",
             "startlinecolor": "#2a3f5f"
            },
            "type": "carpet"
           }
          ],
          "choropleth": [
           {
            "colorbar": {
             "outlinewidth": 0,
             "ticks": ""
            },
            "type": "choropleth"
           }
          ],
          "contour": [
           {
            "colorbar": {
             "outlinewidth": 0,
             "ticks": ""
            },
            "colorscale": [
             [
              0,
              "#0d0887"
             ],
             [
              0.1111111111111111,
              "#46039f"
             ],
             [
              0.2222222222222222,
              "#7201a8"
             ],
             [
              0.3333333333333333,
              "#9c179e"
             ],
             [
              0.4444444444444444,
              "#bd3786"
             ],
             [
              0.5555555555555556,
              "#d8576b"
             ],
             [
              0.6666666666666666,
              "#ed7953"
             ],
             [
              0.7777777777777778,
              "#fb9f3a"
             ],
             [
              0.8888888888888888,
              "#fdca26"
             ],
             [
              1,
              "#f0f921"
             ]
            ],
            "type": "contour"
           }
          ],
          "contourcarpet": [
           {
            "colorbar": {
             "outlinewidth": 0,
             "ticks": ""
            },
            "type": "contourcarpet"
           }
          ],
          "heatmap": [
           {
            "colorbar": {
             "outlinewidth": 0,
             "ticks": ""
            },
            "colorscale": [
             [
              0,
              "#0d0887"
             ],
             [
              0.1111111111111111,
              "#46039f"
             ],
             [
              0.2222222222222222,
              "#7201a8"
             ],
             [
              0.3333333333333333,
              "#9c179e"
             ],
             [
              0.4444444444444444,
              "#bd3786"
             ],
             [
              0.5555555555555556,
              "#d8576b"
             ],
             [
              0.6666666666666666,
              "#ed7953"
             ],
             [
              0.7777777777777778,
              "#fb9f3a"
             ],
             [
              0.8888888888888888,
              "#fdca26"
             ],
             [
              1,
              "#f0f921"
             ]
            ],
            "type": "heatmap"
           }
          ],
          "heatmapgl": [
           {
            "colorbar": {
             "outlinewidth": 0,
             "ticks": ""
            },
            "colorscale": [
             [
              0,
              "#0d0887"
             ],
             [
              0.1111111111111111,
              "#46039f"
             ],
             [
              0.2222222222222222,
              "#7201a8"
             ],
             [
              0.3333333333333333,
              "#9c179e"
             ],
             [
              0.4444444444444444,
              "#bd3786"
             ],
             [
              0.5555555555555556,
              "#d8576b"
             ],
             [
              0.6666666666666666,
              "#ed7953"
             ],
             [
              0.7777777777777778,
              "#fb9f3a"
             ],
             [
              0.8888888888888888,
              "#fdca26"
             ],
             [
              1,
              "#f0f921"
             ]
            ],
            "type": "heatmapgl"
           }
          ],
          "histogram": [
           {
            "marker": {
             "pattern": {
              "fillmode": "overlay",
              "size": 10,
              "solidity": 0.2
             }
            },
            "type": "histogram"
           }
          ],
          "histogram2d": [
           {
            "colorbar": {
             "outlinewidth": 0,
             "ticks": ""
            },
            "colorscale": [
             [
              0,
              "#0d0887"
             ],
             [
              0.1111111111111111,
              "#46039f"
             ],
             [
              0.2222222222222222,
              "#7201a8"
             ],
             [
              0.3333333333333333,
              "#9c179e"
             ],
             [
              0.4444444444444444,
              "#bd3786"
             ],
             [
              0.5555555555555556,
              "#d8576b"
             ],
             [
              0.6666666666666666,
              "#ed7953"
             ],
             [
              0.7777777777777778,
              "#fb9f3a"
             ],
             [
              0.8888888888888888,
              "#fdca26"
             ],
             [
              1,
              "#f0f921"
             ]
            ],
            "type": "histogram2d"
           }
          ],
          "histogram2dcontour": [
           {
            "colorbar": {
             "outlinewidth": 0,
             "ticks": ""
            },
            "colorscale": [
             [
              0,
              "#0d0887"
             ],
             [
              0.1111111111111111,
              "#46039f"
             ],
             [
              0.2222222222222222,
              "#7201a8"
             ],
             [
              0.3333333333333333,
              "#9c179e"
             ],
             [
              0.4444444444444444,
              "#bd3786"
             ],
             [
              0.5555555555555556,
              "#d8576b"
             ],
             [
              0.6666666666666666,
              "#ed7953"
             ],
             [
              0.7777777777777778,
              "#fb9f3a"
             ],
             [
              0.8888888888888888,
              "#fdca26"
             ],
             [
              1,
              "#f0f921"
             ]
            ],
            "type": "histogram2dcontour"
           }
          ],
          "mesh3d": [
           {
            "colorbar": {
             "outlinewidth": 0,
             "ticks": ""
            },
            "type": "mesh3d"
           }
          ],
          "parcoords": [
           {
            "line": {
             "colorbar": {
              "outlinewidth": 0,
              "ticks": ""
             }
            },
            "type": "parcoords"
           }
          ],
          "pie": [
           {
            "automargin": true,
            "type": "pie"
           }
          ],
          "scatter": [
           {
            "fillpattern": {
             "fillmode": "overlay",
             "size": 10,
             "solidity": 0.2
            },
            "type": "scatter"
           }
          ],
          "scatter3d": [
           {
            "line": {
             "colorbar": {
              "outlinewidth": 0,
              "ticks": ""
             }
            },
            "marker": {
             "colorbar": {
              "outlinewidth": 0,
              "ticks": ""
             }
            },
            "type": "scatter3d"
           }
          ],
          "scattercarpet": [
           {
            "marker": {
             "colorbar": {
              "outlinewidth": 0,
              "ticks": ""
             }
            },
            "type": "scattercarpet"
           }
          ],
          "scattergeo": [
           {
            "marker": {
             "colorbar": {
              "outlinewidth": 0,
              "ticks": ""
             }
            },
            "type": "scattergeo"
           }
          ],
          "scattergl": [
           {
            "marker": {
             "colorbar": {
              "outlinewidth": 0,
              "ticks": ""
             }
            },
            "type": "scattergl"
           }
          ],
          "scattermapbox": [
           {
            "marker": {
             "colorbar": {
              "outlinewidth": 0,
              "ticks": ""
             }
            },
            "type": "scattermapbox"
           }
          ],
          "scatterpolar": [
           {
            "marker": {
             "colorbar": {
              "outlinewidth": 0,
              "ticks": ""
             }
            },
            "type": "scatterpolar"
           }
          ],
          "scatterpolargl": [
           {
            "marker": {
             "colorbar": {
              "outlinewidth": 0,
              "ticks": ""
             }
            },
            "type": "scatterpolargl"
           }
          ],
          "scatterternary": [
           {
            "marker": {
             "colorbar": {
              "outlinewidth": 0,
              "ticks": ""
             }
            },
            "type": "scatterternary"
           }
          ],
          "surface": [
           {
            "colorbar": {
             "outlinewidth": 0,
             "ticks": ""
            },
            "colorscale": [
             [
              0,
              "#0d0887"
             ],
             [
              0.1111111111111111,
              "#46039f"
             ],
             [
              0.2222222222222222,
              "#7201a8"
             ],
             [
              0.3333333333333333,
              "#9c179e"
             ],
             [
              0.4444444444444444,
              "#bd3786"
             ],
             [
              0.5555555555555556,
              "#d8576b"
             ],
             [
              0.6666666666666666,
              "#ed7953"
             ],
             [
              0.7777777777777778,
              "#fb9f3a"
             ],
             [
              0.8888888888888888,
              "#fdca26"
             ],
             [
              1,
              "#f0f921"
             ]
            ],
            "type": "surface"
           }
          ],
          "table": [
           {
            "cells": {
             "fill": {
              "color": "#EBF0F8"
             },
             "line": {
              "color": "white"
             }
            },
            "header": {
             "fill": {
              "color": "#C8D4E3"
             },
             "line": {
              "color": "white"
             }
            },
            "type": "table"
           }
          ]
         },
         "layout": {
          "annotationdefaults": {
           "arrowcolor": "#2a3f5f",
           "arrowhead": 0,
           "arrowwidth": 1
          },
          "autotypenumbers": "strict",
          "coloraxis": {
           "colorbar": {
            "outlinewidth": 0,
            "ticks": ""
           }
          },
          "colorscale": {
           "diverging": [
            [
             0,
             "#8e0152"
            ],
            [
             0.1,
             "#c51b7d"
            ],
            [
             0.2,
             "#de77ae"
            ],
            [
             0.3,
             "#f1b6da"
            ],
            [
             0.4,
             "#fde0ef"
            ],
            [
             0.5,
             "#f7f7f7"
            ],
            [
             0.6,
             "#e6f5d0"
            ],
            [
             0.7,
             "#b8e186"
            ],
            [
             0.8,
             "#7fbc41"
            ],
            [
             0.9,
             "#4d9221"
            ],
            [
             1,
             "#276419"
            ]
           ],
           "sequential": [
            [
             0,
             "#0d0887"
            ],
            [
             0.1111111111111111,
             "#46039f"
            ],
            [
             0.2222222222222222,
             "#7201a8"
            ],
            [
             0.3333333333333333,
             "#9c179e"
            ],
            [
             0.4444444444444444,
             "#bd3786"
            ],
            [
             0.5555555555555556,
             "#d8576b"
            ],
            [
             0.6666666666666666,
             "#ed7953"
            ],
            [
             0.7777777777777778,
             "#fb9f3a"
            ],
            [
             0.8888888888888888,
             "#fdca26"
            ],
            [
             1,
             "#f0f921"
            ]
           ],
           "sequentialminus": [
            [
             0,
             "#0d0887"
            ],
            [
             0.1111111111111111,
             "#46039f"
            ],
            [
             0.2222222222222222,
             "#7201a8"
            ],
            [
             0.3333333333333333,
             "#9c179e"
            ],
            [
             0.4444444444444444,
             "#bd3786"
            ],
            [
             0.5555555555555556,
             "#d8576b"
            ],
            [
             0.6666666666666666,
             "#ed7953"
            ],
            [
             0.7777777777777778,
             "#fb9f3a"
            ],
            [
             0.8888888888888888,
             "#fdca26"
            ],
            [
             1,
             "#f0f921"
            ]
           ]
          },
          "colorway": [
           "#636efa",
           "#EF553B",
           "#00cc96",
           "#ab63fa",
           "#FFA15A",
           "#19d3f3",
           "#FF6692",
           "#B6E880",
           "#FF97FF",
           "#FECB52"
          ],
          "font": {
           "color": "#2a3f5f"
          },
          "geo": {
           "bgcolor": "white",
           "lakecolor": "white",
           "landcolor": "#E5ECF6",
           "showlakes": true,
           "showland": true,
           "subunitcolor": "white"
          },
          "hoverlabel": {
           "align": "left"
          },
          "hovermode": "closest",
          "mapbox": {
           "style": "light"
          },
          "paper_bgcolor": "white",
          "plot_bgcolor": "#E5ECF6",
          "polar": {
           "angularaxis": {
            "gridcolor": "white",
            "linecolor": "white",
            "ticks": ""
           },
           "bgcolor": "#E5ECF6",
           "radialaxis": {
            "gridcolor": "white",
            "linecolor": "white",
            "ticks": ""
           }
          },
          "scene": {
           "xaxis": {
            "backgroundcolor": "#E5ECF6",
            "gridcolor": "white",
            "gridwidth": 2,
            "linecolor": "white",
            "showbackground": true,
            "ticks": "",
            "zerolinecolor": "white"
           },
           "yaxis": {
            "backgroundcolor": "#E5ECF6",
            "gridcolor": "white",
            "gridwidth": 2,
            "linecolor": "white",
            "showbackground": true,
            "ticks": "",
            "zerolinecolor": "white"
           },
           "zaxis": {
            "backgroundcolor": "#E5ECF6",
            "gridcolor": "white",
            "gridwidth": 2,
            "linecolor": "white",
            "showbackground": true,
            "ticks": "",
            "zerolinecolor": "white"
           }
          },
          "shapedefaults": {
           "line": {
            "color": "#2a3f5f"
           }
          },
          "ternary": {
           "aaxis": {
            "gridcolor": "white",
            "linecolor": "white",
            "ticks": ""
           },
           "baxis": {
            "gridcolor": "white",
            "linecolor": "white",
            "ticks": ""
           },
           "bgcolor": "#E5ECF6",
           "caxis": {
            "gridcolor": "white",
            "linecolor": "white",
            "ticks": ""
           }
          },
          "title": {
           "x": 0.05
          },
          "xaxis": {
           "automargin": true,
           "gridcolor": "white",
           "linecolor": "white",
           "ticks": "",
           "title": {
            "standoff": 15
           },
           "zerolinecolor": "white",
           "zerolinewidth": 2
          },
          "yaxis": {
           "automargin": true,
           "gridcolor": "white",
           "linecolor": "white",
           "ticks": "",
           "title": {
            "standoff": 15
           },
           "zerolinecolor": "white",
           "zerolinewidth": 2
          }
         }
        },
        "title": {
         "text": "Crosstab frequency distribution of <b>age_group</b> by <b>sex</b>"
        },
        "xaxis": {
         "autorange": true,
         "range": [
          -0.5,
          8.5
         ],
         "rangemode": "tozero",
         "type": "category"
        },
        "yaxis": {
         "autorange": true,
         "gridcolor": "#eee",
         "range": [
          0,
          89504.21052631579
         ],
         "rangemode": "tozero",
         "title": {
          "text": "frequency"
         },
         "type": "linear"
        }
       }
      },
      "text/html": [
       "<div>                            <div id=\"8def1de6-a8c5-4c38-97fb-9f625f78e1a8\" class=\"plotly-graph-div\" style=\"height:400px; width:100%;\"></div>            <script type=\"text/javascript\">                require([\"plotly\"], function(Plotly) {                    window.PLOTLYENV=window.PLOTLYENV || {};                                    if (document.getElementById(\"8def1de6-a8c5-4c38-97fb-9f625f78e1a8\")) {                    Plotly.newPlot(                        \"8def1de6-a8c5-4c38-97fb-9f625f78e1a8\",                        [{\"name\":\"AFAB\",\"x\":[\"children (< 13 years)\",\"adolescents (13 - 17 years)\",\"young adulthood (18 - 26 years)\",\"30-ish (27 - 34 years)\",\"early middle age (35 - 44 years)\",\"middle age (45 - 54 years)\",\"late middle age (55 - 64 years)\",\"older adults (>= 65 years)\",\"unknown\"],\"y\":[1938,10314,73365,31032,8601,2746,1679,1561,8538],\"type\":\"bar\"},{\"name\":\"AMAB\",\"x\":[\"children (< 13 years)\",\"adolescents (13 - 17 years)\",\"young adulthood (18 - 26 years)\",\"30-ish (27 - 34 years)\",\"early middle age (35 - 44 years)\",\"middle age (45 - 54 years)\",\"late middle age (55 - 64 years)\",\"older adults (>= 65 years)\",\"unknown\"],\"y\":[2213,21072,85029,32620,9256,2111,1554,1259,11356],\"type\":\"bar\"},{\"name\":\"unknown\",\"x\":[\"children (< 13 years)\",\"adolescents (13 - 17 years)\",\"young adulthood (18 - 26 years)\",\"30-ish (27 - 34 years)\",\"early middle age (35 - 44 years)\",\"middle age (45 - 54 years)\",\"late middle age (55 - 64 years)\",\"older adults (>= 65 years)\",\"unknown\"],\"y\":[2724,14832,63473,27024,7173,1929,1304,1158,66515],\"type\":\"bar\"}],                        {\"template\":{\"data\":{\"histogram2dcontour\":[{\"type\":\"histogram2dcontour\",\"colorbar\":{\"outlinewidth\":0,\"ticks\":\"\"},\"colorscale\":[[0.0,\"#0d0887\"],[0.1111111111111111,\"#46039f\"],[0.2222222222222222,\"#7201a8\"],[0.3333333333333333,\"#9c179e\"],[0.4444444444444444,\"#bd3786\"],[0.5555555555555556,\"#d8576b\"],[0.6666666666666666,\"#ed7953\"],[0.7777777777777778,\"#fb9f3a\"],[0.8888888888888888,\"#fdca26\"],[1.0,\"#f0f921\"]]}],\"choropleth\":[{\"type\":\"choropleth\",\"colorbar\":{\"outlinewidth\":0,\"ticks\":\"\"}}],\"histogram2d\":[{\"type\":\"histogram2d\",\"colorbar\":{\"outlinewidth\":0,\"ticks\":\"\"},\"colorscale\":[[0.0,\"#0d0887\"],[0.1111111111111111,\"#46039f\"],[0.2222222222222222,\"#7201a8\"],[0.3333333333333333,\"#9c179e\"],[0.4444444444444444,\"#bd3786\"],[0.5555555555555556,\"#d8576b\"],[0.6666666666666666,\"#ed7953\"],[0.7777777777777778,\"#fb9f3a\"],[0.8888888888888888,\"#fdca26\"],[1.0,\"#f0f921\"]]}],\"heatmap\":[{\"type\":\"heatmap\",\"colorbar\":{\"outlinewidth\":0,\"ticks\":\"\"},\"colorscale\":[[0.0,\"#0d0887\"],[0.1111111111111111,\"#46039f\"],[0.2222222222222222,\"#7201a8\"],[0.3333333333333333,\"#9c179e\"],[0.4444444444444444,\"#bd3786\"],[0.5555555555555556,\"#d8576b\"],[0.6666666666666666,\"#ed7953\"],[0.7777777777777778,\"#fb9f3a\"],[0.8888888888888888,\"#fdca26\"],[1.0,\"#f0f921\"]]}],\"heatmapgl\":[{\"type\":\"heatmapgl\",\"colorbar\":{\"outlinewidth\":0,\"ticks\":\"\"},\"colorscale\":[[0.0,\"#0d0887\"],[0.1111111111111111,\"#46039f\"],[0.2222222222222222,\"#7201a8\"],[0.3333333333333333,\"#9c179e\"],[0.4444444444444444,\"#bd3786\"],[0.5555555555555556,\"#d8576b\"],[0.6666666666666666,\"#ed7953\"],[0.7777777777777778,\"#fb9f3a\"],[0.8888888888888888,\"#fdca26\"],[1.0,\"#f0f921\"]]}],\"contourcarpet\":[{\"type\":\"contourcarpet\",\"colorbar\":{\"outlinewidth\":0,\"ticks\":\"\"}}],\"contour\":[{\"type\":\"contour\",\"colorbar\":{\"outlinewidth\":0,\"ticks\":\"\"},\"colorscale\":[[0.0,\"#0d0887\"],[0.1111111111111111,\"#46039f\"],[0.2222222222222222,\"#7201a8\"],[0.3333333333333333,\"#9c179e\"],[0.4444444444444444,\"#bd3786\"],[0.5555555555555556,\"#d8576b\"],[0.6666666666666666,\"#ed7953\"],[0.7777777777777778,\"#fb9f3a\"],[0.8888888888888888,\"#fdca26\"],[1.0,\"#f0f921\"]]}],\"surface\":[{\"type\":\"surface\",\"colorbar\":{\"outlinewidth\":0,\"ticks\":\"\"},\"colorscale\":[[0.0,\"#0d0887\"],[0.1111111111111111,\"#46039f\"],[0.2222222222222222,\"#7201a8\"],[0.3333333333333333,\"#9c179e\"],[0.4444444444444444,\"#bd3786\"],[0.5555555555555556,\"#d8576b\"],[0.6666666666666666,\"#ed7953\"],[0.7777777777777778,\"#fb9f3a\"],[0.8888888888888888,\"#fdca26\"],[1.0,\"#f0f921\"]]}],\"mesh3d\":[{\"type\":\"mesh3d\",\"colorbar\":{\"outlinewidth\":0,\"ticks\":\"\"}}],\"scatter\":[{\"fillpattern\":{\"fillmode\":\"overlay\",\"size\":10,\"solidity\":0.2},\"type\":\"scatter\"}],\"parcoords\":[{\"type\":\"parcoords\",\"line\":{\"colorbar\":{\"outlinewidth\":0,\"ticks\":\"\"}}}],\"scatterpolargl\":[{\"type\":\"scatterpolargl\",\"marker\":{\"colorbar\":{\"outlinewidth\":0,\"ticks\":\"\"}}}],\"bar\":[{\"error_x\":{\"color\":\"#2a3f5f\"},\"error_y\":{\"color\":\"#2a3f5f\"},\"marker\":{\"line\":{\"color\":\"#E5ECF6\",\"width\":0.5},\"pattern\":{\"fillmode\":\"overlay\",\"size\":10,\"solidity\":0.2}},\"type\":\"bar\"}],\"scattergeo\":[{\"type\":\"scattergeo\",\"marker\":{\"colorbar\":{\"outlinewidth\":0,\"ticks\":\"\"}}}],\"scatterpolar\":[{\"type\":\"scatterpolar\",\"marker\":{\"colorbar\":{\"outlinewidth\":0,\"ticks\":\"\"}}}],\"histogram\":[{\"marker\":{\"pattern\":{\"fillmode\":\"overlay\",\"size\":10,\"solidity\":0.2}},\"type\":\"histogram\"}],\"scattergl\":[{\"type\":\"scattergl\",\"marker\":{\"colorbar\":{\"outlinewidth\":0,\"ticks\":\"\"}}}],\"scatter3d\":[{\"type\":\"scatter3d\",\"line\":{\"colorbar\":{\"outlinewidth\":0,\"ticks\":\"\"}},\"marker\":{\"colorbar\":{\"outlinewidth\":0,\"ticks\":\"\"}}}],\"scattermapbox\":[{\"type\":\"scattermapbox\",\"marker\":{\"colorbar\":{\"outlinewidth\":0,\"ticks\":\"\"}}}],\"scatterternary\":[{\"type\":\"scatterternary\",\"marker\":{\"colorbar\":{\"outlinewidth\":0,\"ticks\":\"\"}}}],\"scattercarpet\":[{\"type\":\"scattercarpet\",\"marker\":{\"colorbar\":{\"outlinewidth\":0,\"ticks\":\"\"}}}],\"carpet\":[{\"aaxis\":{\"endlinecolor\":\"#2a3f5f\",\"gridcolor\":\"white\",\"linecolor\":\"white\",\"minorgridcolor\":\"white\",\"startlinecolor\":\"#2a3f5f\"},\"baxis\":{\"endlinecolor\":\"#2a3f5f\",\"gridcolor\":\"white\",\"linecolor\":\"white\",\"minorgridcolor\":\"white\",\"startlinecolor\":\"#2a3f5f\"},\"type\":\"carpet\"}],\"table\":[{\"cells\":{\"fill\":{\"color\":\"#EBF0F8\"},\"line\":{\"color\":\"white\"}},\"header\":{\"fill\":{\"color\":\"#C8D4E3\"},\"line\":{\"color\":\"white\"}},\"type\":\"table\"}],\"barpolar\":[{\"marker\":{\"line\":{\"color\":\"#E5ECF6\",\"width\":0.5},\"pattern\":{\"fillmode\":\"overlay\",\"size\":10,\"solidity\":0.2}},\"type\":\"barpolar\"}],\"pie\":[{\"automargin\":true,\"type\":\"pie\"}]},\"layout\":{\"autotypenumbers\":\"strict\",\"colorway\":[\"#636efa\",\"#EF553B\",\"#00cc96\",\"#ab63fa\",\"#FFA15A\",\"#19d3f3\",\"#FF6692\",\"#B6E880\",\"#FF97FF\",\"#FECB52\"],\"font\":{\"color\":\"#2a3f5f\"},\"hovermode\":\"closest\",\"hoverlabel\":{\"align\":\"left\"},\"paper_bgcolor\":\"white\",\"plot_bgcolor\":\"#E5ECF6\",\"polar\":{\"bgcolor\":\"#E5ECF6\",\"angularaxis\":{\"gridcolor\":\"white\",\"linecolor\":\"white\",\"ticks\":\"\"},\"radialaxis\":{\"gridcolor\":\"white\",\"linecolor\":\"white\",\"ticks\":\"\"}},\"ternary\":{\"bgcolor\":\"#E5ECF6\",\"aaxis\":{\"gridcolor\":\"white\",\"linecolor\":\"white\",\"ticks\":\"\"},\"baxis\":{\"gridcolor\":\"white\",\"linecolor\":\"white\",\"ticks\":\"\"},\"caxis\":{\"gridcolor\":\"white\",\"linecolor\":\"white\",\"ticks\":\"\"}},\"coloraxis\":{\"colorbar\":{\"outlinewidth\":0,\"ticks\":\"\"}},\"colorscale\":{\"sequential\":[[0.0,\"#0d0887\"],[0.1111111111111111,\"#46039f\"],[0.2222222222222222,\"#7201a8\"],[0.3333333333333333,\"#9c179e\"],[0.4444444444444444,\"#bd3786\"],[0.5555555555555556,\"#d8576b\"],[0.6666666666666666,\"#ed7953\"],[0.7777777777777778,\"#fb9f3a\"],[0.8888888888888888,\"#fdca26\"],[1.0,\"#f0f921\"]],\"sequentialminus\":[[0.0,\"#0d0887\"],[0.1111111111111111,\"#46039f\"],[0.2222222222222222,\"#7201a8\"],[0.3333333333333333,\"#9c179e\"],[0.4444444444444444,\"#bd3786\"],[0.5555555555555556,\"#d8576b\"],[0.6666666666666666,\"#ed7953\"],[0.7777777777777778,\"#fb9f3a\"],[0.8888888888888888,\"#fdca26\"],[1.0,\"#f0f921\"]],\"diverging\":[[0,\"#8e0152\"],[0.1,\"#c51b7d\"],[0.2,\"#de77ae\"],[0.3,\"#f1b6da\"],[0.4,\"#fde0ef\"],[0.5,\"#f7f7f7\"],[0.6,\"#e6f5d0\"],[0.7,\"#b8e186\"],[0.8,\"#7fbc41\"],[0.9,\"#4d9221\"],[1,\"#276419\"]]},\"xaxis\":{\"gridcolor\":\"white\",\"linecolor\":\"white\",\"ticks\":\"\",\"title\":{\"standoff\":15},\"zerolinecolor\":\"white\",\"automargin\":true,\"zerolinewidth\":2},\"yaxis\":{\"gridcolor\":\"white\",\"linecolor\":\"white\",\"ticks\":\"\",\"title\":{\"standoff\":15},\"zerolinecolor\":\"white\",\"automargin\":true,\"zerolinewidth\":2},\"scene\":{\"xaxis\":{\"backgroundcolor\":\"#E5ECF6\",\"gridcolor\":\"white\",\"linecolor\":\"white\",\"showbackground\":true,\"ticks\":\"\",\"zerolinecolor\":\"white\",\"gridwidth\":2},\"yaxis\":{\"backgroundcolor\":\"#E5ECF6\",\"gridcolor\":\"white\",\"linecolor\":\"white\",\"showbackground\":true,\"ticks\":\"\",\"zerolinecolor\":\"white\",\"gridwidth\":2},\"zaxis\":{\"backgroundcolor\":\"#E5ECF6\",\"gridcolor\":\"white\",\"linecolor\":\"white\",\"showbackground\":true,\"ticks\":\"\",\"zerolinecolor\":\"white\",\"gridwidth\":2}},\"shapedefaults\":{\"line\":{\"color\":\"#2a3f5f\"}},\"annotationdefaults\":{\"arrowcolor\":\"#2a3f5f\",\"arrowhead\":0,\"arrowwidth\":1},\"geo\":{\"bgcolor\":\"white\",\"landcolor\":\"#E5ECF6\",\"subunitcolor\":\"white\",\"showland\":true,\"showlakes\":true,\"lakecolor\":\"white\"},\"title\":{\"x\":0.05},\"mapbox\":{\"style\":\"light\"}}},\"yaxis\":{\"gridcolor\":\"#eee\",\"title\":{\"text\":\"frequency\"},\"rangemode\":\"tozero\"},\"xaxis\":{\"rangemode\":\"tozero\"},\"legend\":{\"title\":{\"text\":\"sex:\"}},\"title\":{\"text\":\"Crosstab frequency distribution of <b>age_group</b> by <b>sex</b>\"},\"plot_bgcolor\":\"#fff\",\"height\":400},                        {\"responsive\": true}                    ).then(function(){\n",
       "                            \n",
       "var gd = document.getElementById('8def1de6-a8c5-4c38-97fb-9f625f78e1a8');\n",
       "var x = new MutationObserver(function (mutations, observer) {{\n",
       "        var display = window.getComputedStyle(gd).display;\n",
       "        if (!display || display === 'none') {{\n",
       "            console.log([gd, 'removed!']);\n",
       "            Plotly.purge(gd);\n",
       "            observer.disconnect();\n",
       "        }}\n",
       "}});\n",
       "\n",
       "// Listen for the removal of the full notebook cells\n",
       "var notebookContainer = gd.closest('#notebook-container');\n",
       "if (notebookContainer) {{\n",
       "    x.observe(notebookContainer, {childList: true});\n",
       "}}\n",
       "\n",
       "// Listen for the clearing of the current output cell\n",
       "var outputEl = gd.closest('.output');\n",
       "if (outputEl) {{\n",
       "    x.observe(outputEl, {childList: true});\n",
       "}}\n",
       "\n",
       "                        })                };                });            </script>        </div>"
      ]
     },
     "metadata": {},
     "output_type": "display_data"
    }
   ],
   "source": [
    "cat_crosstab_freq_plot(\n",
    "    df, \n",
    "    'age_group', AGE_GROUPS_LABELS_W_AGE_RANGE_ORDERED_LIST, \n",
    "    'sex', SEX_LABELS_ORDERED_LIST, \n",
    ")"
   ]
  },
  {
   "cell_type": "code",
   "execution_count": 262,
   "id": "7e1380fc-6278-4f80-b217-b3c5b99c7d61",
   "metadata": {},
   "outputs": [
    {
     "data": {
      "application/vnd.plotly.v1+json": {
       "config": {
        "plotlyServerURL": "https://plotly.com"
       },
       "data": [
        {
         "name": "children (< 13 years)",
         "type": "bar",
         "x": [
          "AFAB",
          "AMAB",
          "unknown"
         ],
         "y": [
          1938,
          2213,
          2724
         ]
        },
        {
         "name": "adolescents (13 - 17 years)",
         "type": "bar",
         "x": [
          "AFAB",
          "AMAB",
          "unknown"
         ],
         "y": [
          10314,
          21072,
          14832
         ]
        },
        {
         "name": "young adulthood (18 - 26 years)",
         "type": "bar",
         "x": [
          "AFAB",
          "AMAB",
          "unknown"
         ],
         "y": [
          73365,
          85029,
          63473
         ]
        },
        {
         "name": "30-ish (27 - 34 years)",
         "type": "bar",
         "x": [
          "AFAB",
          "AMAB",
          "unknown"
         ],
         "y": [
          31032,
          32620,
          27024
         ]
        },
        {
         "name": "early middle age (35 - 44 years)",
         "type": "bar",
         "x": [
          "AFAB",
          "AMAB",
          "unknown"
         ],
         "y": [
          8601,
          9256,
          7173
         ]
        },
        {
         "name": "middle age (45 - 54 years)",
         "type": "bar",
         "x": [
          "AFAB",
          "AMAB",
          "unknown"
         ],
         "y": [
          2746,
          2111,
          1929
         ]
        },
        {
         "name": "late middle age (55 - 64 years)",
         "type": "bar",
         "x": [
          "AFAB",
          "AMAB",
          "unknown"
         ],
         "y": [
          1679,
          1554,
          1304
         ]
        },
        {
         "name": "older adults (>= 65 years)",
         "type": "bar",
         "x": [
          "AFAB",
          "AMAB",
          "unknown"
         ],
         "y": [
          1561,
          1259,
          1158
         ]
        },
        {
         "name": "unknown",
         "type": "bar",
         "x": [
          "AFAB",
          "AMAB",
          "unknown"
         ],
         "y": [
          8538,
          11356,
          66515
         ]
        }
       ],
       "layout": {
        "autosize": true,
        "legend": {
         "title": {
          "text": "age_group:"
         }
        },
        "plot_bgcolor": "#fff",
        "template": {
         "data": {
          "bar": [
           {
            "error_x": {
             "color": "#2a3f5f"
            },
            "error_y": {
             "color": "#2a3f5f"
            },
            "marker": {
             "line": {
              "color": "#E5ECF6",
              "width": 0.5
             },
             "pattern": {
              "fillmode": "overlay",
              "size": 10,
              "solidity": 0.2
             }
            },
            "type": "bar"
           }
          ],
          "barpolar": [
           {
            "marker": {
             "line": {
              "color": "#E5ECF6",
              "width": 0.5
             },
             "pattern": {
              "fillmode": "overlay",
              "size": 10,
              "solidity": 0.2
             }
            },
            "type": "barpolar"
           }
          ],
          "carpet": [
           {
            "aaxis": {
             "endlinecolor": "#2a3f5f",
             "gridcolor": "white",
             "linecolor": "white",
             "minorgridcolor": "white",
             "startlinecolor": "#2a3f5f"
            },
            "baxis": {
             "endlinecolor": "#2a3f5f",
             "gridcolor": "white",
             "linecolor": "white",
             "minorgridcolor": "white",
             "startlinecolor": "#2a3f5f"
            },
            "type": "carpet"
           }
          ],
          "choropleth": [
           {
            "colorbar": {
             "outlinewidth": 0,
             "ticks": ""
            },
            "type": "choropleth"
           }
          ],
          "contour": [
           {
            "colorbar": {
             "outlinewidth": 0,
             "ticks": ""
            },
            "colorscale": [
             [
              0,
              "#0d0887"
             ],
             [
              0.1111111111111111,
              "#46039f"
             ],
             [
              0.2222222222222222,
              "#7201a8"
             ],
             [
              0.3333333333333333,
              "#9c179e"
             ],
             [
              0.4444444444444444,
              "#bd3786"
             ],
             [
              0.5555555555555556,
              "#d8576b"
             ],
             [
              0.6666666666666666,
              "#ed7953"
             ],
             [
              0.7777777777777778,
              "#fb9f3a"
             ],
             [
              0.8888888888888888,
              "#fdca26"
             ],
             [
              1,
              "#f0f921"
             ]
            ],
            "type": "contour"
           }
          ],
          "contourcarpet": [
           {
            "colorbar": {
             "outlinewidth": 0,
             "ticks": ""
            },
            "type": "contourcarpet"
           }
          ],
          "heatmap": [
           {
            "colorbar": {
             "outlinewidth": 0,
             "ticks": ""
            },
            "colorscale": [
             [
              0,
              "#0d0887"
             ],
             [
              0.1111111111111111,
              "#46039f"
             ],
             [
              0.2222222222222222,
              "#7201a8"
             ],
             [
              0.3333333333333333,
              "#9c179e"
             ],
             [
              0.4444444444444444,
              "#bd3786"
             ],
             [
              0.5555555555555556,
              "#d8576b"
             ],
             [
              0.6666666666666666,
              "#ed7953"
             ],
             [
              0.7777777777777778,
              "#fb9f3a"
             ],
             [
              0.8888888888888888,
              "#fdca26"
             ],
             [
              1,
              "#f0f921"
             ]
            ],
            "type": "heatmap"
           }
          ],
          "heatmapgl": [
           {
            "colorbar": {
             "outlinewidth": 0,
             "ticks": ""
            },
            "colorscale": [
             [
              0,
              "#0d0887"
             ],
             [
              0.1111111111111111,
              "#46039f"
             ],
             [
              0.2222222222222222,
              "#7201a8"
             ],
             [
              0.3333333333333333,
              "#9c179e"
             ],
             [
              0.4444444444444444,
              "#bd3786"
             ],
             [
              0.5555555555555556,
              "#d8576b"
             ],
             [
              0.6666666666666666,
              "#ed7953"
             ],
             [
              0.7777777777777778,
              "#fb9f3a"
             ],
             [
              0.8888888888888888,
              "#fdca26"
             ],
             [
              1,
              "#f0f921"
             ]
            ],
            "type": "heatmapgl"
           }
          ],
          "histogram": [
           {
            "marker": {
             "pattern": {
              "fillmode": "overlay",
              "size": 10,
              "solidity": 0.2
             }
            },
            "type": "histogram"
           }
          ],
          "histogram2d": [
           {
            "colorbar": {
             "outlinewidth": 0,
             "ticks": ""
            },
            "colorscale": [
             [
              0,
              "#0d0887"
             ],
             [
              0.1111111111111111,
              "#46039f"
             ],
             [
              0.2222222222222222,
              "#7201a8"
             ],
             [
              0.3333333333333333,
              "#9c179e"
             ],
             [
              0.4444444444444444,
              "#bd3786"
             ],
             [
              0.5555555555555556,
              "#d8576b"
             ],
             [
              0.6666666666666666,
              "#ed7953"
             ],
             [
              0.7777777777777778,
              "#fb9f3a"
             ],
             [
              0.8888888888888888,
              "#fdca26"
             ],
             [
              1,
              "#f0f921"
             ]
            ],
            "type": "histogram2d"
           }
          ],
          "histogram2dcontour": [
           {
            "colorbar": {
             "outlinewidth": 0,
             "ticks": ""
            },
            "colorscale": [
             [
              0,
              "#0d0887"
             ],
             [
              0.1111111111111111,
              "#46039f"
             ],
             [
              0.2222222222222222,
              "#7201a8"
             ],
             [
              0.3333333333333333,
              "#9c179e"
             ],
             [
              0.4444444444444444,
              "#bd3786"
             ],
             [
              0.5555555555555556,
              "#d8576b"
             ],
             [
              0.6666666666666666,
              "#ed7953"
             ],
             [
              0.7777777777777778,
              "#fb9f3a"
             ],
             [
              0.8888888888888888,
              "#fdca26"
             ],
             [
              1,
              "#f0f921"
             ]
            ],
            "type": "histogram2dcontour"
           }
          ],
          "mesh3d": [
           {
            "colorbar": {
             "outlinewidth": 0,
             "ticks": ""
            },
            "type": "mesh3d"
           }
          ],
          "parcoords": [
           {
            "line": {
             "colorbar": {
              "outlinewidth": 0,
              "ticks": ""
             }
            },
            "type": "parcoords"
           }
          ],
          "pie": [
           {
            "automargin": true,
            "type": "pie"
           }
          ],
          "scatter": [
           {
            "fillpattern": {
             "fillmode": "overlay",
             "size": 10,
             "solidity": 0.2
            },
            "type": "scatter"
           }
          ],
          "scatter3d": [
           {
            "line": {
             "colorbar": {
              "outlinewidth": 0,
              "ticks": ""
             }
            },
            "marker": {
             "colorbar": {
              "outlinewidth": 0,
              "ticks": ""
             }
            },
            "type": "scatter3d"
           }
          ],
          "scattercarpet": [
           {
            "marker": {
             "colorbar": {
              "outlinewidth": 0,
              "ticks": ""
             }
            },
            "type": "scattercarpet"
           }
          ],
          "scattergeo": [
           {
            "marker": {
             "colorbar": {
              "outlinewidth": 0,
              "ticks": ""
             }
            },
            "type": "scattergeo"
           }
          ],
          "scattergl": [
           {
            "marker": {
             "colorbar": {
              "outlinewidth": 0,
              "ticks": ""
             }
            },
            "type": "scattergl"
           }
          ],
          "scattermapbox": [
           {
            "marker": {
             "colorbar": {
              "outlinewidth": 0,
              "ticks": ""
             }
            },
            "type": "scattermapbox"
           }
          ],
          "scatterpolar": [
           {
            "marker": {
             "colorbar": {
              "outlinewidth": 0,
              "ticks": ""
             }
            },
            "type": "scatterpolar"
           }
          ],
          "scatterpolargl": [
           {
            "marker": {
             "colorbar": {
              "outlinewidth": 0,
              "ticks": ""
             }
            },
            "type": "scatterpolargl"
           }
          ],
          "scatterternary": [
           {
            "marker": {
             "colorbar": {
              "outlinewidth": 0,
              "ticks": ""
             }
            },
            "type": "scatterternary"
           }
          ],
          "surface": [
           {
            "colorbar": {
             "outlinewidth": 0,
             "ticks": ""
            },
            "colorscale": [
             [
              0,
              "#0d0887"
             ],
             [
              0.1111111111111111,
              "#46039f"
             ],
             [
              0.2222222222222222,
              "#7201a8"
             ],
             [
              0.3333333333333333,
              "#9c179e"
             ],
             [
              0.4444444444444444,
              "#bd3786"
             ],
             [
              0.5555555555555556,
              "#d8576b"
             ],
             [
              0.6666666666666666,
              "#ed7953"
             ],
             [
              0.7777777777777778,
              "#fb9f3a"
             ],
             [
              0.8888888888888888,
              "#fdca26"
             ],
             [
              1,
              "#f0f921"
             ]
            ],
            "type": "surface"
           }
          ],
          "table": [
           {
            "cells": {
             "fill": {
              "color": "#EBF0F8"
             },
             "line": {
              "color": "white"
             }
            },
            "header": {
             "fill": {
              "color": "#C8D4E3"
             },
             "line": {
              "color": "white"
             }
            },
            "type": "table"
           }
          ]
         },
         "layout": {
          "annotationdefaults": {
           "arrowcolor": "#2a3f5f",
           "arrowhead": 0,
           "arrowwidth": 1
          },
          "autotypenumbers": "strict",
          "coloraxis": {
           "colorbar": {
            "outlinewidth": 0,
            "ticks": ""
           }
          },
          "colorscale": {
           "diverging": [
            [
             0,
             "#8e0152"
            ],
            [
             0.1,
             "#c51b7d"
            ],
            [
             0.2,
             "#de77ae"
            ],
            [
             0.3,
             "#f1b6da"
            ],
            [
             0.4,
             "#fde0ef"
            ],
            [
             0.5,
             "#f7f7f7"
            ],
            [
             0.6,
             "#e6f5d0"
            ],
            [
             0.7,
             "#b8e186"
            ],
            [
             0.8,
             "#7fbc41"
            ],
            [
             0.9,
             "#4d9221"
            ],
            [
             1,
             "#276419"
            ]
           ],
           "sequential": [
            [
             0,
             "#0d0887"
            ],
            [
             0.1111111111111111,
             "#46039f"
            ],
            [
             0.2222222222222222,
             "#7201a8"
            ],
            [
             0.3333333333333333,
             "#9c179e"
            ],
            [
             0.4444444444444444,
             "#bd3786"
            ],
            [
             0.5555555555555556,
             "#d8576b"
            ],
            [
             0.6666666666666666,
             "#ed7953"
            ],
            [
             0.7777777777777778,
             "#fb9f3a"
            ],
            [
             0.8888888888888888,
             "#fdca26"
            ],
            [
             1,
             "#f0f921"
            ]
           ],
           "sequentialminus": [
            [
             0,
             "#0d0887"
            ],
            [
             0.1111111111111111,
             "#46039f"
            ],
            [
             0.2222222222222222,
             "#7201a8"
            ],
            [
             0.3333333333333333,
             "#9c179e"
            ],
            [
             0.4444444444444444,
             "#bd3786"
            ],
            [
             0.5555555555555556,
             "#d8576b"
            ],
            [
             0.6666666666666666,
             "#ed7953"
            ],
            [
             0.7777777777777778,
             "#fb9f3a"
            ],
            [
             0.8888888888888888,
             "#fdca26"
            ],
            [
             1,
             "#f0f921"
            ]
           ]
          },
          "colorway": [
           "#636efa",
           "#EF553B",
           "#00cc96",
           "#ab63fa",
           "#FFA15A",
           "#19d3f3",
           "#FF6692",
           "#B6E880",
           "#FF97FF",
           "#FECB52"
          ],
          "font": {
           "color": "#2a3f5f"
          },
          "geo": {
           "bgcolor": "white",
           "lakecolor": "white",
           "landcolor": "#E5ECF6",
           "showlakes": true,
           "showland": true,
           "subunitcolor": "white"
          },
          "hoverlabel": {
           "align": "left"
          },
          "hovermode": "closest",
          "mapbox": {
           "style": "light"
          },
          "paper_bgcolor": "white",
          "plot_bgcolor": "#E5ECF6",
          "polar": {
           "angularaxis": {
            "gridcolor": "white",
            "linecolor": "white",
            "ticks": ""
           },
           "bgcolor": "#E5ECF6",
           "radialaxis": {
            "gridcolor": "white",
            "linecolor": "white",
            "ticks": ""
           }
          },
          "scene": {
           "xaxis": {
            "backgroundcolor": "#E5ECF6",
            "gridcolor": "white",
            "gridwidth": 2,
            "linecolor": "white",
            "showbackground": true,
            "ticks": "",
            "zerolinecolor": "white"
           },
           "yaxis": {
            "backgroundcolor": "#E5ECF6",
            "gridcolor": "white",
            "gridwidth": 2,
            "linecolor": "white",
            "showbackground": true,
            "ticks": "",
            "zerolinecolor": "white"
           },
           "zaxis": {
            "backgroundcolor": "#E5ECF6",
            "gridcolor": "white",
            "gridwidth": 2,
            "linecolor": "white",
            "showbackground": true,
            "ticks": "",
            "zerolinecolor": "white"
           }
          },
          "shapedefaults": {
           "line": {
            "color": "#2a3f5f"
           }
          },
          "ternary": {
           "aaxis": {
            "gridcolor": "white",
            "linecolor": "white",
            "ticks": ""
           },
           "baxis": {
            "gridcolor": "white",
            "linecolor": "white",
            "ticks": ""
           },
           "bgcolor": "#E5ECF6",
           "caxis": {
            "gridcolor": "white",
            "linecolor": "white",
            "ticks": ""
           }
          },
          "title": {
           "x": 0.05
          },
          "xaxis": {
           "automargin": true,
           "gridcolor": "white",
           "linecolor": "white",
           "ticks": "",
           "title": {
            "standoff": 15
           },
           "zerolinecolor": "white",
           "zerolinewidth": 2
          },
          "yaxis": {
           "automargin": true,
           "gridcolor": "white",
           "linecolor": "white",
           "ticks": "",
           "title": {
            "standoff": 15
           },
           "zerolinecolor": "white",
           "zerolinewidth": 2
          }
         }
        },
        "title": {
         "text": "Crosstab frequency distribution of <b>sex</b> by <b>age_group</b>"
        },
        "xaxis": {
         "autorange": true,
         "range": [
          -0.5,
          2.5
         ],
         "rangemode": "tozero",
         "type": "category"
        },
        "yaxis": {
         "autorange": true,
         "gridcolor": "#eee",
         "range": [
          0,
          89504.21052631579
         ],
         "rangemode": "tozero",
         "title": {
          "text": "frequency"
         },
         "type": "linear"
        }
       }
      },
      "text/html": [
       "<div>                            <div id=\"3cfc5202-7c18-4d72-9f0a-852103730a76\" class=\"plotly-graph-div\" style=\"height:400px; width:100%;\"></div>            <script type=\"text/javascript\">                require([\"plotly\"], function(Plotly) {                    window.PLOTLYENV=window.PLOTLYENV || {};                                    if (document.getElementById(\"3cfc5202-7c18-4d72-9f0a-852103730a76\")) {                    Plotly.newPlot(                        \"3cfc5202-7c18-4d72-9f0a-852103730a76\",                        [{\"name\":\"children (< 13 years)\",\"x\":[\"AFAB\",\"AMAB\",\"unknown\"],\"y\":[1938,2213,2724],\"type\":\"bar\"},{\"name\":\"adolescents (13 - 17 years)\",\"x\":[\"AFAB\",\"AMAB\",\"unknown\"],\"y\":[10314,21072,14832],\"type\":\"bar\"},{\"name\":\"young adulthood (18 - 26 years)\",\"x\":[\"AFAB\",\"AMAB\",\"unknown\"],\"y\":[73365,85029,63473],\"type\":\"bar\"},{\"name\":\"30-ish (27 - 34 years)\",\"x\":[\"AFAB\",\"AMAB\",\"unknown\"],\"y\":[31032,32620,27024],\"type\":\"bar\"},{\"name\":\"early middle age (35 - 44 years)\",\"x\":[\"AFAB\",\"AMAB\",\"unknown\"],\"y\":[8601,9256,7173],\"type\":\"bar\"},{\"name\":\"middle age (45 - 54 years)\",\"x\":[\"AFAB\",\"AMAB\",\"unknown\"],\"y\":[2746,2111,1929],\"type\":\"bar\"},{\"name\":\"late middle age (55 - 64 years)\",\"x\":[\"AFAB\",\"AMAB\",\"unknown\"],\"y\":[1679,1554,1304],\"type\":\"bar\"},{\"name\":\"older adults (>= 65 years)\",\"x\":[\"AFAB\",\"AMAB\",\"unknown\"],\"y\":[1561,1259,1158],\"type\":\"bar\"},{\"name\":\"unknown\",\"x\":[\"AFAB\",\"AMAB\",\"unknown\"],\"y\":[8538,11356,66515],\"type\":\"bar\"}],                        {\"template\":{\"data\":{\"histogram2dcontour\":[{\"type\":\"histogram2dcontour\",\"colorbar\":{\"outlinewidth\":0,\"ticks\":\"\"},\"colorscale\":[[0.0,\"#0d0887\"],[0.1111111111111111,\"#46039f\"],[0.2222222222222222,\"#7201a8\"],[0.3333333333333333,\"#9c179e\"],[0.4444444444444444,\"#bd3786\"],[0.5555555555555556,\"#d8576b\"],[0.6666666666666666,\"#ed7953\"],[0.7777777777777778,\"#fb9f3a\"],[0.8888888888888888,\"#fdca26\"],[1.0,\"#f0f921\"]]}],\"choropleth\":[{\"type\":\"choropleth\",\"colorbar\":{\"outlinewidth\":0,\"ticks\":\"\"}}],\"histogram2d\":[{\"type\":\"histogram2d\",\"colorbar\":{\"outlinewidth\":0,\"ticks\":\"\"},\"colorscale\":[[0.0,\"#0d0887\"],[0.1111111111111111,\"#46039f\"],[0.2222222222222222,\"#7201a8\"],[0.3333333333333333,\"#9c179e\"],[0.4444444444444444,\"#bd3786\"],[0.5555555555555556,\"#d8576b\"],[0.6666666666666666,\"#ed7953\"],[0.7777777777777778,\"#fb9f3a\"],[0.8888888888888888,\"#fdca26\"],[1.0,\"#f0f921\"]]}],\"heatmap\":[{\"type\":\"heatmap\",\"colorbar\":{\"outlinewidth\":0,\"ticks\":\"\"},\"colorscale\":[[0.0,\"#0d0887\"],[0.1111111111111111,\"#46039f\"],[0.2222222222222222,\"#7201a8\"],[0.3333333333333333,\"#9c179e\"],[0.4444444444444444,\"#bd3786\"],[0.5555555555555556,\"#d8576b\"],[0.6666666666666666,\"#ed7953\"],[0.7777777777777778,\"#fb9f3a\"],[0.8888888888888888,\"#fdca26\"],[1.0,\"#f0f921\"]]}],\"heatmapgl\":[{\"type\":\"heatmapgl\",\"colorbar\":{\"outlinewidth\":0,\"ticks\":\"\"},\"colorscale\":[[0.0,\"#0d0887\"],[0.1111111111111111,\"#46039f\"],[0.2222222222222222,\"#7201a8\"],[0.3333333333333333,\"#9c179e\"],[0.4444444444444444,\"#bd3786\"],[0.5555555555555556,\"#d8576b\"],[0.6666666666666666,\"#ed7953\"],[0.7777777777777778,\"#fb9f3a\"],[0.8888888888888888,\"#fdca26\"],[1.0,\"#f0f921\"]]}],\"contourcarpet\":[{\"type\":\"contourcarpet\",\"colorbar\":{\"outlinewidth\":0,\"ticks\":\"\"}}],\"contour\":[{\"type\":\"contour\",\"colorbar\":{\"outlinewidth\":0,\"ticks\":\"\"},\"colorscale\":[[0.0,\"#0d0887\"],[0.1111111111111111,\"#46039f\"],[0.2222222222222222,\"#7201a8\"],[0.3333333333333333,\"#9c179e\"],[0.4444444444444444,\"#bd3786\"],[0.5555555555555556,\"#d8576b\"],[0.6666666666666666,\"#ed7953\"],[0.7777777777777778,\"#fb9f3a\"],[0.8888888888888888,\"#fdca26\"],[1.0,\"#f0f921\"]]}],\"surface\":[{\"type\":\"surface\",\"colorbar\":{\"outlinewidth\":0,\"ticks\":\"\"},\"colorscale\":[[0.0,\"#0d0887\"],[0.1111111111111111,\"#46039f\"],[0.2222222222222222,\"#7201a8\"],[0.3333333333333333,\"#9c179e\"],[0.4444444444444444,\"#bd3786\"],[0.5555555555555556,\"#d8576b\"],[0.6666666666666666,\"#ed7953\"],[0.7777777777777778,\"#fb9f3a\"],[0.8888888888888888,\"#fdca26\"],[1.0,\"#f0f921\"]]}],\"mesh3d\":[{\"type\":\"mesh3d\",\"colorbar\":{\"outlinewidth\":0,\"ticks\":\"\"}}],\"scatter\":[{\"fillpattern\":{\"fillmode\":\"overlay\",\"size\":10,\"solidity\":0.2},\"type\":\"scatter\"}],\"parcoords\":[{\"type\":\"parcoords\",\"line\":{\"colorbar\":{\"outlinewidth\":0,\"ticks\":\"\"}}}],\"scatterpolargl\":[{\"type\":\"scatterpolargl\",\"marker\":{\"colorbar\":{\"outlinewidth\":0,\"ticks\":\"\"}}}],\"bar\":[{\"error_x\":{\"color\":\"#2a3f5f\"},\"error_y\":{\"color\":\"#2a3f5f\"},\"marker\":{\"line\":{\"color\":\"#E5ECF6\",\"width\":0.5},\"pattern\":{\"fillmode\":\"overlay\",\"size\":10,\"solidity\":0.2}},\"type\":\"bar\"}],\"scattergeo\":[{\"type\":\"scattergeo\",\"marker\":{\"colorbar\":{\"outlinewidth\":0,\"ticks\":\"\"}}}],\"scatterpolar\":[{\"type\":\"scatterpolar\",\"marker\":{\"colorbar\":{\"outlinewidth\":0,\"ticks\":\"\"}}}],\"histogram\":[{\"marker\":{\"pattern\":{\"fillmode\":\"overlay\",\"size\":10,\"solidity\":0.2}},\"type\":\"histogram\"}],\"scattergl\":[{\"type\":\"scattergl\",\"marker\":{\"colorbar\":{\"outlinewidth\":0,\"ticks\":\"\"}}}],\"scatter3d\":[{\"type\":\"scatter3d\",\"line\":{\"colorbar\":{\"outlinewidth\":0,\"ticks\":\"\"}},\"marker\":{\"colorbar\":{\"outlinewidth\":0,\"ticks\":\"\"}}}],\"scattermapbox\":[{\"type\":\"scattermapbox\",\"marker\":{\"colorbar\":{\"outlinewidth\":0,\"ticks\":\"\"}}}],\"scatterternary\":[{\"type\":\"scatterternary\",\"marker\":{\"colorbar\":{\"outlinewidth\":0,\"ticks\":\"\"}}}],\"scattercarpet\":[{\"type\":\"scattercarpet\",\"marker\":{\"colorbar\":{\"outlinewidth\":0,\"ticks\":\"\"}}}],\"carpet\":[{\"aaxis\":{\"endlinecolor\":\"#2a3f5f\",\"gridcolor\":\"white\",\"linecolor\":\"white\",\"minorgridcolor\":\"white\",\"startlinecolor\":\"#2a3f5f\"},\"baxis\":{\"endlinecolor\":\"#2a3f5f\",\"gridcolor\":\"white\",\"linecolor\":\"white\",\"minorgridcolor\":\"white\",\"startlinecolor\":\"#2a3f5f\"},\"type\":\"carpet\"}],\"table\":[{\"cells\":{\"fill\":{\"color\":\"#EBF0F8\"},\"line\":{\"color\":\"white\"}},\"header\":{\"fill\":{\"color\":\"#C8D4E3\"},\"line\":{\"color\":\"white\"}},\"type\":\"table\"}],\"barpolar\":[{\"marker\":{\"line\":{\"color\":\"#E5ECF6\",\"width\":0.5},\"pattern\":{\"fillmode\":\"overlay\",\"size\":10,\"solidity\":0.2}},\"type\":\"barpolar\"}],\"pie\":[{\"automargin\":true,\"type\":\"pie\"}]},\"layout\":{\"autotypenumbers\":\"strict\",\"colorway\":[\"#636efa\",\"#EF553B\",\"#00cc96\",\"#ab63fa\",\"#FFA15A\",\"#19d3f3\",\"#FF6692\",\"#B6E880\",\"#FF97FF\",\"#FECB52\"],\"font\":{\"color\":\"#2a3f5f\"},\"hovermode\":\"closest\",\"hoverlabel\":{\"align\":\"left\"},\"paper_bgcolor\":\"white\",\"plot_bgcolor\":\"#E5ECF6\",\"polar\":{\"bgcolor\":\"#E5ECF6\",\"angularaxis\":{\"gridcolor\":\"white\",\"linecolor\":\"white\",\"ticks\":\"\"},\"radialaxis\":{\"gridcolor\":\"white\",\"linecolor\":\"white\",\"ticks\":\"\"}},\"ternary\":{\"bgcolor\":\"#E5ECF6\",\"aaxis\":{\"gridcolor\":\"white\",\"linecolor\":\"white\",\"ticks\":\"\"},\"baxis\":{\"gridcolor\":\"white\",\"linecolor\":\"white\",\"ticks\":\"\"},\"caxis\":{\"gridcolor\":\"white\",\"linecolor\":\"white\",\"ticks\":\"\"}},\"coloraxis\":{\"colorbar\":{\"outlinewidth\":0,\"ticks\":\"\"}},\"colorscale\":{\"sequential\":[[0.0,\"#0d0887\"],[0.1111111111111111,\"#46039f\"],[0.2222222222222222,\"#7201a8\"],[0.3333333333333333,\"#9c179e\"],[0.4444444444444444,\"#bd3786\"],[0.5555555555555556,\"#d8576b\"],[0.6666666666666666,\"#ed7953\"],[0.7777777777777778,\"#fb9f3a\"],[0.8888888888888888,\"#fdca26\"],[1.0,\"#f0f921\"]],\"sequentialminus\":[[0.0,\"#0d0887\"],[0.1111111111111111,\"#46039f\"],[0.2222222222222222,\"#7201a8\"],[0.3333333333333333,\"#9c179e\"],[0.4444444444444444,\"#bd3786\"],[0.5555555555555556,\"#d8576b\"],[0.6666666666666666,\"#ed7953\"],[0.7777777777777778,\"#fb9f3a\"],[0.8888888888888888,\"#fdca26\"],[1.0,\"#f0f921\"]],\"diverging\":[[0,\"#8e0152\"],[0.1,\"#c51b7d\"],[0.2,\"#de77ae\"],[0.3,\"#f1b6da\"],[0.4,\"#fde0ef\"],[0.5,\"#f7f7f7\"],[0.6,\"#e6f5d0\"],[0.7,\"#b8e186\"],[0.8,\"#7fbc41\"],[0.9,\"#4d9221\"],[1,\"#276419\"]]},\"xaxis\":{\"gridcolor\":\"white\",\"linecolor\":\"white\",\"ticks\":\"\",\"title\":{\"standoff\":15},\"zerolinecolor\":\"white\",\"automargin\":true,\"zerolinewidth\":2},\"yaxis\":{\"gridcolor\":\"white\",\"linecolor\":\"white\",\"ticks\":\"\",\"title\":{\"standoff\":15},\"zerolinecolor\":\"white\",\"automargin\":true,\"zerolinewidth\":2},\"scene\":{\"xaxis\":{\"backgroundcolor\":\"#E5ECF6\",\"gridcolor\":\"white\",\"linecolor\":\"white\",\"showbackground\":true,\"ticks\":\"\",\"zerolinecolor\":\"white\",\"gridwidth\":2},\"yaxis\":{\"backgroundcolor\":\"#E5ECF6\",\"gridcolor\":\"white\",\"linecolor\":\"white\",\"showbackground\":true,\"ticks\":\"\",\"zerolinecolor\":\"white\",\"gridwidth\":2},\"zaxis\":{\"backgroundcolor\":\"#E5ECF6\",\"gridcolor\":\"white\",\"linecolor\":\"white\",\"showbackground\":true,\"ticks\":\"\",\"zerolinecolor\":\"white\",\"gridwidth\":2}},\"shapedefaults\":{\"line\":{\"color\":\"#2a3f5f\"}},\"annotationdefaults\":{\"arrowcolor\":\"#2a3f5f\",\"arrowhead\":0,\"arrowwidth\":1},\"geo\":{\"bgcolor\":\"white\",\"landcolor\":\"#E5ECF6\",\"subunitcolor\":\"white\",\"showland\":true,\"showlakes\":true,\"lakecolor\":\"white\"},\"title\":{\"x\":0.05},\"mapbox\":{\"style\":\"light\"}}},\"yaxis\":{\"gridcolor\":\"#eee\",\"title\":{\"text\":\"frequency\"},\"rangemode\":\"tozero\"},\"xaxis\":{\"rangemode\":\"tozero\"},\"legend\":{\"title\":{\"text\":\"age_group:\"}},\"title\":{\"text\":\"Crosstab frequency distribution of <b>sex</b> by <b>age_group</b>\"},\"plot_bgcolor\":\"#fff\",\"height\":400},                        {\"responsive\": true}                    ).then(function(){\n",
       "                            \n",
       "var gd = document.getElementById('3cfc5202-7c18-4d72-9f0a-852103730a76');\n",
       "var x = new MutationObserver(function (mutations, observer) {{\n",
       "        var display = window.getComputedStyle(gd).display;\n",
       "        if (!display || display === 'none') {{\n",
       "            console.log([gd, 'removed!']);\n",
       "            Plotly.purge(gd);\n",
       "            observer.disconnect();\n",
       "        }}\n",
       "}});\n",
       "\n",
       "// Listen for the removal of the full notebook cells\n",
       "var notebookContainer = gd.closest('#notebook-container');\n",
       "if (notebookContainer) {{\n",
       "    x.observe(notebookContainer, {childList: true});\n",
       "}}\n",
       "\n",
       "// Listen for the clearing of the current output cell\n",
       "var outputEl = gd.closest('.output');\n",
       "if (outputEl) {{\n",
       "    x.observe(outputEl, {childList: true});\n",
       "}}\n",
       "\n",
       "                        })                };                });            </script>        </div>"
      ]
     },
     "metadata": {},
     "output_type": "display_data"
    }
   ],
   "source": [
    "cat_crosstab_freq_plot(\n",
    "    df, \n",
    "    'sex', SEX_LABELS_ORDERED_LIST, \n",
    "    'age_group', AGE_GROUPS_LABELS_W_AGE_RANGE_ORDERED_LIST\n",
    ")"
   ]
  },
  {
   "cell_type": "code",
   "execution_count": 263,
   "id": "5cedfad0-4120-4b60-93aa-76cc611f07f0",
   "metadata": {},
   "outputs": [
    {
     "data": {
      "text/html": [
       "<div>\n",
       "<style scoped>\n",
       "    .dataframe tbody tr th:only-of-type {\n",
       "        vertical-align: middle;\n",
       "    }\n",
       "\n",
       "    .dataframe tbody tr th {\n",
       "        vertical-align: top;\n",
       "    }\n",
       "\n",
       "    .dataframe thead th {\n",
       "        text-align: right;\n",
       "    }\n",
       "</style>\n",
       "<table border=\"1\" class=\"dataframe\">\n",
       "  <thead>\n",
       "    <tr style=\"text-align: right;\">\n",
       "      <th>sex</th>\n",
       "      <th>AFAB</th>\n",
       "      <th>AMAB</th>\n",
       "      <th>unknown</th>\n",
       "    </tr>\n",
       "    <tr>\n",
       "      <th>age_group</th>\n",
       "      <th></th>\n",
       "      <th></th>\n",
       "      <th></th>\n",
       "    </tr>\n",
       "  </thead>\n",
       "  <tbody>\n",
       "    <tr>\n",
       "      <th>children (&lt; 13 years)</th>\n",
       "      <td>0.003936</td>\n",
       "      <td>0.004495</td>\n",
       "      <td>0.005532</td>\n",
       "    </tr>\n",
       "    <tr>\n",
       "      <th>adolescents (13 - 17 years)</th>\n",
       "      <td>0.020947</td>\n",
       "      <td>0.042797</td>\n",
       "      <td>0.030123</td>\n",
       "    </tr>\n",
       "    <tr>\n",
       "      <th>young adulthood (18 - 26 years)</th>\n",
       "      <td>0.149002</td>\n",
       "      <td>0.172691</td>\n",
       "      <td>0.128912</td>\n",
       "    </tr>\n",
       "    <tr>\n",
       "      <th>30-ish (27 - 34 years)</th>\n",
       "      <td>0.063025</td>\n",
       "      <td>0.066250</td>\n",
       "      <td>0.054885</td>\n",
       "    </tr>\n",
       "    <tr>\n",
       "      <th>early middle age (35 - 44 years)</th>\n",
       "      <td>0.017468</td>\n",
       "      <td>0.018799</td>\n",
       "      <td>0.014568</td>\n",
       "    </tr>\n",
       "    <tr>\n",
       "      <th>middle age (45 - 54 years)</th>\n",
       "      <td>0.005577</td>\n",
       "      <td>0.004287</td>\n",
       "      <td>0.003918</td>\n",
       "    </tr>\n",
       "    <tr>\n",
       "      <th>late middle age (55 - 64 years)</th>\n",
       "      <td>0.003410</td>\n",
       "      <td>0.003156</td>\n",
       "      <td>0.002648</td>\n",
       "    </tr>\n",
       "    <tr>\n",
       "      <th>older adults (&gt;= 65 years)</th>\n",
       "      <td>0.003170</td>\n",
       "      <td>0.002557</td>\n",
       "      <td>0.002352</td>\n",
       "    </tr>\n",
       "    <tr>\n",
       "      <th>unknown</th>\n",
       "      <td>0.017340</td>\n",
       "      <td>0.023064</td>\n",
       "      <td>0.135090</td>\n",
       "    </tr>\n",
       "  </tbody>\n",
       "</table>\n",
       "</div>"
      ],
      "text/plain": [
       "sex                                   AFAB      AMAB   unknown\n",
       "age_group                                                     \n",
       "children (< 13 years)             0.003936  0.004495  0.005532\n",
       "adolescents (13 - 17 years)       0.020947  0.042797  0.030123\n",
       "young adulthood (18 - 26 years)   0.149002  0.172691  0.128912\n",
       "30-ish (27 - 34 years)            0.063025  0.066250  0.054885\n",
       "early middle age (35 - 44 years)  0.017468  0.018799  0.014568\n",
       "middle age (45 - 54 years)        0.005577  0.004287  0.003918\n",
       "late middle age (55 - 64 years)   0.003410  0.003156  0.002648\n",
       "older adults (>= 65 years)        0.003170  0.002557  0.002352\n",
       "unknown                           0.017340  0.023064  0.135090"
      ]
     },
     "execution_count": 263,
     "metadata": {},
     "output_type": "execute_result"
    }
   ],
   "source": [
    "# Crosstabs normalized across all observations\n",
    "xtab = pd.crosstab(\n",
    "    df['age_group'], \n",
    "    df['sex'], \n",
    "    normalize=True, \n",
    ").reindex(AGE_GROUPS_LABELS_W_AGE_RANGE_ORDERED_LIST)\n",
    "\n",
    "xtab"
   ]
  },
  {
   "cell_type": "code",
   "execution_count": 264,
   "id": "eda38343-779f-4147-ab11-f888fdf60df9",
   "metadata": {},
   "outputs": [
    {
     "data": {
      "image/png": "[encoded data removed]",
      "text/plain": [
       "<Figure size 640x480 with 1 Axes>"
      ]
     },
     "metadata": {},
     "output_type": "display_data"
    }
   ],
   "source": [
    "age_group = xtab.index.to_list()\n",
    "sex = xtab.columns.to_list()\n",
    "pct = xtab.values\n",
    "\n",
    "fig, ax = plt.subplots()\n",
    "im = ax.imshow(pct)\n",
    "\n",
    "# Show all ticks and label them with the respective list entries\n",
    "ax.set_xticks(np.arange(len(sex)), labels=sex)\n",
    "ax.set_yticks(np.arange(len(age_group)), labels=age_group)\n",
    "\n",
    "# Rotate the tick labels and set their alignment.\n",
    "plt.setp(ax.get_xticklabels(), rotation=45, ha=\"right\", rotation_mode=\"anchor\")\n",
    "\n",
    "# Loop over data dimensions and create text annotations.\n",
    "for i in range(len(age_group)):\n",
    "    for j in range(len(sex)):\n",
    "        text = ax.text(j, i, round(pct[i, j]*100, 2), ha=\"center\", va=\"center\", color=\"w\")\n",
    "\n",
    "ax.set_title(\"% frequency distribution of AskDocs posts by age and sex\")\n",
    "fig.tight_layout()\n",
    "plt.show()"
   ]
  },
  {
   "cell_type": "markdown",
   "id": "a6f986c9-20ee-44e1-905a-3503aa0c4604",
   "metadata": {},
   "source": [
    "## Author"
   ]
  },
  {
   "cell_type": "code",
   "execution_count": 265,
   "id": "6bf4da3f-0709-424e-80d8-73a8ac9fdc4c",
   "metadata": {},
   "outputs": [
    {
     "data": {
      "text/plain": [
       "count               492376\n",
       "unique              312571\n",
       "top       SensitiveBorder2\n",
       "freq                   274\n",
       "Name: author, dtype: object"
      ]
     },
     "execution_count": 265,
     "metadata": {},
     "output_type": "execute_result"
    }
   ],
   "source": [
    "df['author'].describe()"
   ]
  },
  {
   "cell_type": "code",
   "execution_count": 266,
   "id": "78489d61-dcdc-4b39-8fcf-c7c119463d63",
   "metadata": {},
   "outputs": [
    {
     "data": {
      "text/plain": [
       "0"
      ]
     },
     "execution_count": 266,
     "metadata": {},
     "output_type": "execute_result"
    }
   ],
   "source": [
    "len(df[df['author'].isna()])"
   ]
  },
  {
   "cell_type": "code",
   "execution_count": 267,
   "id": "ef5e9353-3882-4597-b80e-875d6dc6c6bd",
   "metadata": {},
   "outputs": [
    {
     "data": {
      "text/plain": [
       "author\n",
       "SensitiveBorder2       274\n",
       "[deleted]              274\n",
       "Help_Me_Reddit01       218\n",
       "throwlega              149\n",
       "Docquest117            139\n",
       "                      ... \n",
       "skylerwhiteisawhore      1\n",
       "Stephane69               1\n",
       "logany56                 1\n",
       "novel_airline            1\n",
       "nominsinjun              1\n",
       "Name: count, Length: 312571, dtype: int64"
      ]
     },
     "execution_count": 267,
     "metadata": {},
     "output_type": "execute_result"
    }
   ],
   "source": [
    "df['author'].value_counts()"
   ]
  },
  {
   "cell_type": "code",
   "execution_count": 268,
   "id": "92c60576-1a73-4638-aa03-416384ce3ff4",
   "metadata": {},
   "outputs": [
    {
     "data": {
      "text/plain": [
       "author\n",
       "SensitiveBorder2       0.000556\n",
       "[deleted]              0.000556\n",
       "Help_Me_Reddit01       0.000443\n",
       "throwlega              0.000303\n",
       "Docquest117            0.000282\n",
       "                         ...   \n",
       "skylerwhiteisawhore    0.000002\n",
       "Stephane69             0.000002\n",
       "logany56               0.000002\n",
       "novel_airline          0.000002\n",
       "nominsinjun            0.000002\n",
       "Name: proportion, Length: 312571, dtype: float64"
      ]
     },
     "execution_count": 268,
     "metadata": {},
     "output_type": "execute_result"
    }
   ],
   "source": [
    "df['author'].value_counts(normalize=True)"
   ]
  },
  {
   "cell_type": "code",
   "execution_count": 269,
   "id": "faf7fbb5-fca5-4966-a0b6-14b88b11fb7f",
   "metadata": {},
   "outputs": [
    {
     "data": {
      "text/html": [
       "<div>\n",
       "<style scoped>\n",
       "    .dataframe tbody tr th:only-of-type {\n",
       "        vertical-align: middle;\n",
       "    }\n",
       "\n",
       "    .dataframe tbody tr th {\n",
       "        vertical-align: top;\n",
       "    }\n",
       "\n",
       "    .dataframe thead th {\n",
       "        text-align: right;\n",
       "    }\n",
       "</style>\n",
       "<table border=\"1\" class=\"dataframe\">\n",
       "  <thead>\n",
       "    <tr style=\"text-align: right;\">\n",
       "      <th></th>\n",
       "      <th>author</th>\n",
       "      <th>count</th>\n",
       "    </tr>\n",
       "  </thead>\n",
       "  <tbody>\n",
       "    <tr>\n",
       "      <th>0</th>\n",
       "      <td>SensitiveBorder2</td>\n",
       "      <td>274</td>\n",
       "    </tr>\n",
       "    <tr>\n",
       "      <th>1</th>\n",
       "      <td>[deleted]</td>\n",
       "      <td>274</td>\n",
       "    </tr>\n",
       "    <tr>\n",
       "      <th>2</th>\n",
       "      <td>Help_Me_Reddit01</td>\n",
       "      <td>218</td>\n",
       "    </tr>\n",
       "    <tr>\n",
       "      <th>3</th>\n",
       "      <td>throwlega</td>\n",
       "      <td>149</td>\n",
       "    </tr>\n",
       "    <tr>\n",
       "      <th>4</th>\n",
       "      <td>Docquest117</td>\n",
       "      <td>139</td>\n",
       "    </tr>\n",
       "  </tbody>\n",
       "</table>\n",
       "</div>"
      ],
      "text/plain": [
       "             author  count\n",
       "0  SensitiveBorder2    274\n",
       "1         [deleted]    274\n",
       "2  Help_Me_Reddit01    218\n",
       "3         throwlega    149\n",
       "4       Docquest117    139"
      ]
     },
     "execution_count": 269,
     "metadata": {},
     "output_type": "execute_result"
    }
   ],
   "source": [
    "author_vc = df['author'].value_counts().reset_index()\n",
    "author_vc.head()"
   ]
  },
  {
   "cell_type": "code",
   "execution_count": 270,
   "id": "7bc734b0-5760-4055-81ac-fbd57d84a321",
   "metadata": {},
   "outputs": [
    {
     "data": {
      "text/html": [
       "<div>\n",
       "<style scoped>\n",
       "    .dataframe tbody tr th:only-of-type {\n",
       "        vertical-align: middle;\n",
       "    }\n",
       "\n",
       "    .dataframe tbody tr th {\n",
       "        vertical-align: top;\n",
       "    }\n",
       "\n",
       "    .dataframe thead th {\n",
       "        text-align: right;\n",
       "    }\n",
       "</style>\n",
       "<table border=\"1\" class=\"dataframe\">\n",
       "  <thead>\n",
       "    <tr style=\"text-align: right;\">\n",
       "      <th></th>\n",
       "      <th>author_posts_count</th>\n",
       "      <th>proportion</th>\n",
       "    </tr>\n",
       "  </thead>\n",
       "  <tbody>\n",
       "    <tr>\n",
       "      <th>0</th>\n",
       "      <td>1</td>\n",
       "      <td>0.761245</td>\n",
       "    </tr>\n",
       "    <tr>\n",
       "      <th>1</th>\n",
       "      <td>2</td>\n",
       "      <td>0.137764</td>\n",
       "    </tr>\n",
       "    <tr>\n",
       "      <th>2</th>\n",
       "      <td>3</td>\n",
       "      <td>0.044511</td>\n",
       "    </tr>\n",
       "    <tr>\n",
       "      <th>3</th>\n",
       "      <td>4</td>\n",
       "      <td>0.020226</td>\n",
       "    </tr>\n",
       "    <tr>\n",
       "      <th>4</th>\n",
       "      <td>5</td>\n",
       "      <td>0.011121</td>\n",
       "    </tr>\n",
       "    <tr>\n",
       "      <th>5</th>\n",
       "      <td>6</td>\n",
       "      <td>0.006734</td>\n",
       "    </tr>\n",
       "    <tr>\n",
       "      <th>6</th>\n",
       "      <td>7</td>\n",
       "      <td>0.004482</td>\n",
       "    </tr>\n",
       "    <tr>\n",
       "      <th>7</th>\n",
       "      <td>8</td>\n",
       "      <td>0.002972</td>\n",
       "    </tr>\n",
       "    <tr>\n",
       "      <th>8</th>\n",
       "      <td>9</td>\n",
       "      <td>0.002102</td>\n",
       "    </tr>\n",
       "    <tr>\n",
       "      <th>9</th>\n",
       "      <td>10</td>\n",
       "      <td>0.001462</td>\n",
       "    </tr>\n",
       "  </tbody>\n",
       "</table>\n",
       "</div>"
      ],
      "text/plain": [
       "   author_posts_count  proportion\n",
       "0                   1    0.761245\n",
       "1                   2    0.137764\n",
       "2                   3    0.044511\n",
       "3                   4    0.020226\n",
       "4                   5    0.011121\n",
       "5                   6    0.006734\n",
       "6                   7    0.004482\n",
       "7                   8    0.002972\n",
       "8                   9    0.002102\n",
       "9                  10    0.001462"
      ]
     },
     "execution_count": 270,
     "metadata": {},
     "output_type": "execute_result"
    }
   ],
   "source": [
    "author_posts_count_vc = author_vc['count'].value_counts(normalize=True).sort_index()\\\n",
    "    .reset_index()\n",
    "author_posts_count_vc.rename(\n",
    "    columns={'count': 'author_posts_count'},\n",
    "    inplace=True\n",
    ")\n",
    "author_posts_count_vc.head(10)"
   ]
  },
  {
   "cell_type": "code",
   "execution_count": 271,
   "id": "d3189102-d65f-48df-9ac6-ca8c41aa1b49",
   "metadata": {},
   "outputs": [
    {
     "data": {
      "application/vnd.plotly.v1+json": {
       "config": {
        "plotlyServerURL": "https://plotly.com"
       },
       "data": [
        {
         "mode": "markers",
         "type": "scatter",
         "x": [
          1,
          2,
          3,
          4,
          5,
          6,
          7,
          8,
          9,
          10,
          11,
          12,
          13,
          14,
          15,
          16,
          17,
          18,
          19,
          20,
          21,
          22,
          23,
          24,
          25,
          26,
          27,
          28,
          29,
          30,
          31,
          32,
          33,
          34,
          35,
          36,
          37,
          38,
          39,
          40,
          41,
          42,
          43,
          44,
          45,
          46,
          47,
          48,
          49,
          50,
          51,
          52,
          53,
          54,
          55,
          56,
          57,
          58,
          59,
          60,
          61,
          62,
          63,
          65,
          66,
          67,
          68,
          70,
          71,
          75,
          76,
          77,
          80,
          82,
          83,
          87,
          89,
          90,
          91,
          92,
          93,
          97,
          103,
          114,
          129,
          134,
          137,
          139,
          149,
          218,
          274
         ],
         "y": [
          0.7612446452166068,
          0.13776390004191047,
          0.044511486990155835,
          0.020225804697172802,
          0.01112067338300738,
          0.00673446992843226,
          0.0044821816483294995,
          0.0029721247332606033,
          0.0021019224432209,
          0.001462067818191707,
          0.001257314338182365,
          0.000966180483794082,
          0.0007870211887859079,
          0.0006270575325286095,
          0.0005662713431508361,
          0.00043830041814499744,
          0.00027513748876255317,
          0.00022074984563507172,
          0.00024634403063623943,
          0.00020475348000934188,
          0.00016636220250759026,
          0.0002335469381356556,
          0.0001151738325052548,
          0.00011197455938010884,
          0.00011197455938010884,
          8.318110125379513e-05,
          8.957964750408707e-05,
          3.8391277501751604e-05,
          7.358328187835723e-05,
          7.038400875321127e-05,
          3.8391277501751604e-05,
          3.8391277501751604e-05,
          5.438764312748144e-05,
          4.4789823752043534e-05,
          3.8391277501751604e-05,
          4.4789823752043534e-05,
          2.2394911876021767e-05,
          1.9195638750875802e-05,
          2.87934581263137e-05,
          1.9195638750875802e-05,
          1.5996365625729834e-05,
          1.5996365625729834e-05,
          2.2394911876021767e-05,
          1.5996365625729834e-05,
          2.87934581263137e-05,
          1.5996365625729834e-05,
          1.2797092500583868e-05,
          3.199273125145967e-06,
          9.597819375437901e-06,
          3.199273125145967e-06,
          1.2797092500583868e-05,
          3.199273125145967e-06,
          3.199273125145967e-06,
          1.2797092500583868e-05,
          3.199273125145967e-06,
          1.5996365625729834e-05,
          6.398546250291934e-06,
          6.398546250291934e-06,
          9.597819375437901e-06,
          6.398546250291934e-06,
          9.597819375437901e-06,
          3.199273125145967e-06,
          6.398546250291934e-06,
          3.199273125145967e-06,
          3.199273125145967e-06,
          6.398546250291934e-06,
          3.199273125145967e-06,
          3.199273125145967e-06,
          9.597819375437901e-06,
          3.199273125145967e-06,
          3.199273125145967e-06,
          6.398546250291934e-06,
          3.199273125145967e-06,
          3.199273125145967e-06,
          3.199273125145967e-06,
          3.199273125145967e-06,
          3.199273125145967e-06,
          3.199273125145967e-06,
          3.199273125145967e-06,
          3.199273125145967e-06,
          3.199273125145967e-06,
          3.199273125145967e-06,
          3.199273125145967e-06,
          3.199273125145967e-06,
          3.199273125145967e-06,
          3.199273125145967e-06,
          3.199273125145967e-06,
          3.199273125145967e-06,
          3.199273125145967e-06,
          3.199273125145967e-06,
          6.398546250291934e-06
         ]
        }
       ],
       "layout": {
        "autosize": true,
        "plot_bgcolor": "#fff",
        "showlegend": false,
        "template": {
         "data": {
          "bar": [
           {
            "error_x": {
             "color": "#2a3f5f"
            },
            "error_y": {
             "color": "#2a3f5f"
            },
            "marker": {
             "line": {
              "color": "#E5ECF6",
              "width": 0.5
             },
             "pattern": {
              "fillmode": "overlay",
              "size": 10,
              "solidity": 0.2
             }
            },
            "type": "bar"
           }
          ],
          "barpolar": [
           {
            "marker": {
             "line": {
              "color": "#E5ECF6",
              "width": 0.5
             },
             "pattern": {
              "fillmode": "overlay",
              "size": 10,
              "solidity": 0.2
             }
            },
            "type": "barpolar"
           }
          ],
          "carpet": [
           {
            "aaxis": {
             "endlinecolor": "#2a3f5f",
             "gridcolor": "white",
             "linecolor": "white",
             "minorgridcolor": "white",
             "startlinecolor": "#2a3f5f"
            },
            "baxis": {
             "endlinecolor": "#2a3f5f",
             "gridcolor": "white",
             "linecolor": "white",
             "minorgridcolor": "white",
             "startlinecolor": "#2a3f5f"
            },
            "type": "carpet"
           }
          ],
          "choropleth": [
           {
            "colorbar": {
             "outlinewidth": 0,
             "ticks": ""
            },
            "type": "choropleth"
           }
          ],
          "contour": [
           {
            "colorbar": {
             "outlinewidth": 0,
             "ticks": ""
            },
            "colorscale": [
             [
              0,
              "#0d0887"
             ],
             [
              0.1111111111111111,
              "#46039f"
             ],
             [
              0.2222222222222222,
              "#7201a8"
             ],
             [
              0.3333333333333333,
              "#9c179e"
             ],
             [
              0.4444444444444444,
              "#bd3786"
             ],
             [
              0.5555555555555556,
              "#d8576b"
             ],
             [
              0.6666666666666666,
              "#ed7953"
             ],
             [
              0.7777777777777778,
              "#fb9f3a"
             ],
             [
              0.8888888888888888,
              "#fdca26"
             ],
             [
              1,
              "#f0f921"
             ]
            ],
            "type": "contour"
           }
          ],
          "contourcarpet": [
           {
            "colorbar": {
             "outlinewidth": 0,
             "ticks": ""
            },
            "type": "contourcarpet"
           }
          ],
          "heatmap": [
           {
            "colorbar": {
             "outlinewidth": 0,
             "ticks": ""
            },
            "colorscale": [
             [
              0,
              "#0d0887"
             ],
             [
              0.1111111111111111,
              "#46039f"
             ],
             [
              0.2222222222222222,
              "#7201a8"
             ],
             [
              0.3333333333333333,
              "#9c179e"
             ],
             [
              0.4444444444444444,
              "#bd3786"
             ],
             [
              0.5555555555555556,
              "#d8576b"
             ],
             [
              0.6666666666666666,
              "#ed7953"
             ],
             [
              0.7777777777777778,
              "#fb9f3a"
             ],
             [
              0.8888888888888888,
              "#fdca26"
             ],
             [
              1,
              "#f0f921"
             ]
            ],
            "type": "heatmap"
           }
          ],
          "heatmapgl": [
           {
            "colorbar": {
             "outlinewidth": 0,
             "ticks": ""
            },
            "colorscale": [
             [
              0,
              "#0d0887"
             ],
             [
              0.1111111111111111,
              "#46039f"
             ],
             [
              0.2222222222222222,
              "#7201a8"
             ],
             [
              0.3333333333333333,
              "#9c179e"
             ],
             [
              0.4444444444444444,
              "#bd3786"
             ],
             [
              0.5555555555555556,
              "#d8576b"
             ],
             [
              0.6666666666666666,
              "#ed7953"
             ],
             [
              0.7777777777777778,
              "#fb9f3a"
             ],
             [
              0.8888888888888888,
              "#fdca26"
             ],
             [
              1,
              "#f0f921"
             ]
            ],
            "type": "heatmapgl"
           }
          ],
          "histogram": [
           {
            "marker": {
             "pattern": {
              "fillmode": "overlay",
              "size": 10,
              "solidity": 0.2
             }
            },
            "type": "histogram"
           }
          ],
          "histogram2d": [
           {
            "colorbar": {
             "outlinewidth": 0,
             "ticks": ""
            },
            "colorscale": [
             [
              0,
              "#0d0887"
             ],
             [
              0.1111111111111111,
              "#46039f"
             ],
             [
              0.2222222222222222,
              "#7201a8"
             ],
             [
              0.3333333333333333,
              "#9c179e"
             ],
             [
              0.4444444444444444,
              "#bd3786"
             ],
             [
              0.5555555555555556,
              "#d8576b"
             ],
             [
              0.6666666666666666,
              "#ed7953"
             ],
             [
              0.7777777777777778,
              "#fb9f3a"
             ],
             [
              0.8888888888888888,
              "#fdca26"
             ],
             [
              1,
              "#f0f921"
             ]
            ],
            "type": "histogram2d"
           }
          ],
          "histogram2dcontour": [
           {
            "colorbar": {
             "outlinewidth": 0,
             "ticks": ""
            },
            "colorscale": [
             [
              0,
              "#0d0887"
             ],
             [
              0.1111111111111111,
              "#46039f"
             ],
             [
              0.2222222222222222,
              "#7201a8"
             ],
             [
              0.3333333333333333,
              "#9c179e"
             ],
             [
              0.4444444444444444,
              "#bd3786"
             ],
             [
              0.5555555555555556,
              "#d8576b"
             ],
             [
              0.6666666666666666,
              "#ed7953"
             ],
             [
              0.7777777777777778,
              "#fb9f3a"
             ],
             [
              0.8888888888888888,
              "#fdca26"
             ],
             [
              1,
              "#f0f921"
             ]
            ],
            "type": "histogram2dcontour"
           }
          ],
          "mesh3d": [
           {
            "colorbar": {
             "outlinewidth": 0,
             "ticks": ""
            },
            "type": "mesh3d"
           }
          ],
          "parcoords": [
           {
            "line": {
             "colorbar": {
              "outlinewidth": 0,
              "ticks": ""
             }
            },
            "type": "parcoords"
           }
          ],
          "pie": [
           {
            "automargin": true,
            "type": "pie"
           }
          ],
          "scatter": [
           {
            "fillpattern": {
             "fillmode": "overlay",
             "size": 10,
             "solidity": 0.2
            },
            "type": "scatter"
           }
          ],
          "scatter3d": [
           {
            "line": {
             "colorbar": {
              "outlinewidth": 0,
              "ticks": ""
             }
            },
            "marker": {
             "colorbar": {
              "outlinewidth": 0,
              "ticks": ""
             }
            },
            "type": "scatter3d"
           }
          ],
          "scattercarpet": [
           {
            "marker": {
             "colorbar": {
              "outlinewidth": 0,
              "ticks": ""
             }
            },
            "type": "scattercarpet"
           }
          ],
          "scattergeo": [
           {
            "marker": {
             "colorbar": {
              "outlinewidth": 0,
              "ticks": ""
             }
            },
            "type": "scattergeo"
           }
          ],
          "scattergl": [
           {
            "marker": {
             "colorbar": {
              "outlinewidth": 0,
              "ticks": ""
             }
            },
            "type": "scattergl"
           }
          ],
          "scattermapbox": [
           {
            "marker": {
             "colorbar": {
              "outlinewidth": 0,
              "ticks": ""
             }
            },
            "type": "scattermapbox"
           }
          ],
          "scatterpolar": [
           {
            "marker": {
             "colorbar": {
              "outlinewidth": 0,
              "ticks": ""
             }
            },
            "type": "scatterpolar"
           }
          ],
          "scatterpolargl": [
           {
            "marker": {
             "colorbar": {
              "outlinewidth": 0,
              "ticks": ""
             }
            },
            "type": "scatterpolargl"
           }
          ],
          "scatterternary": [
           {
            "marker": {
             "colorbar": {
              "outlinewidth": 0,
              "ticks": ""
             }
            },
            "type": "scatterternary"
           }
          ],
          "surface": [
           {
            "colorbar": {
             "outlinewidth": 0,
             "ticks": ""
            },
            "colorscale": [
             [
              0,
              "#0d0887"
             ],
             [
              0.1111111111111111,
              "#46039f"
             ],
             [
              0.2222222222222222,
              "#7201a8"
             ],
             [
              0.3333333333333333,
              "#9c179e"
             ],
             [
              0.4444444444444444,
              "#bd3786"
             ],
             [
              0.5555555555555556,
              "#d8576b"
             ],
             [
              0.6666666666666666,
              "#ed7953"
             ],
             [
              0.7777777777777778,
              "#fb9f3a"
             ],
             [
              0.8888888888888888,
              "#fdca26"
             ],
             [
              1,
              "#f0f921"
             ]
            ],
            "type": "surface"
           }
          ],
          "table": [
           {
            "cells": {
             "fill": {
              "color": "#EBF0F8"
             },
             "line": {
              "color": "white"
             }
            },
            "header": {
             "fill": {
              "color": "#C8D4E3"
             },
             "line": {
              "color": "white"
             }
            },
            "type": "table"
           }
          ]
         },
         "layout": {
          "annotationdefaults": {
           "arrowcolor": "#2a3f5f",
           "arrowhead": 0,
           "arrowwidth": 1
          },
          "autotypenumbers": "strict",
          "coloraxis": {
           "colorbar": {
            "outlinewidth": 0,
            "ticks": ""
           }
          },
          "colorscale": {
           "diverging": [
            [
             0,
             "#8e0152"
            ],
            [
             0.1,
             "#c51b7d"
            ],
            [
             0.2,
             "#de77ae"
            ],
            [
             0.3,
             "#f1b6da"
            ],
            [
             0.4,
             "#fde0ef"
            ],
            [
             0.5,
             "#f7f7f7"
            ],
            [
             0.6,
             "#e6f5d0"
            ],
            [
             0.7,
             "#b8e186"
            ],
            [
             0.8,
             "#7fbc41"
            ],
            [
             0.9,
             "#4d9221"
            ],
            [
             1,
             "#276419"
            ]
           ],
           "sequential": [
            [
             0,
             "#0d0887"
            ],
            [
             0.1111111111111111,
             "#46039f"
            ],
            [
             0.2222222222222222,
             "#7201a8"
            ],
            [
             0.3333333333333333,
             "#9c179e"
            ],
            [
             0.4444444444444444,
             "#bd3786"
            ],
            [
             0.5555555555555556,
             "#d8576b"
            ],
            [
             0.6666666666666666,
             "#ed7953"
            ],
            [
             0.7777777777777778,
             "#fb9f3a"
            ],
            [
             0.8888888888888888,
             "#fdca26"
            ],
            [
             1,
             "#f0f921"
            ]
           ],
           "sequentialminus": [
            [
             0,
             "#0d0887"
            ],
            [
             0.1111111111111111,
             "#46039f"
            ],
            [
             0.2222222222222222,
             "#7201a8"
            ],
            [
             0.3333333333333333,
             "#9c179e"
            ],
            [
             0.4444444444444444,
             "#bd3786"
            ],
            [
             0.5555555555555556,
             "#d8576b"
            ],
            [
             0.6666666666666666,
             "#ed7953"
            ],
            [
             0.7777777777777778,
             "#fb9f3a"
            ],
            [
             0.8888888888888888,
             "#fdca26"
            ],
            [
             1,
             "#f0f921"
            ]
           ]
          },
          "colorway": [
           "#636efa",
           "#EF553B",
           "#00cc96",
           "#ab63fa",
           "#FFA15A",
           "#19d3f3",
           "#FF6692",
           "#B6E880",
           "#FF97FF",
           "#FECB52"
          ],
          "font": {
           "color": "#2a3f5f"
          },
          "geo": {
           "bgcolor": "white",
           "lakecolor": "white",
           "landcolor": "#E5ECF6",
           "showlakes": true,
           "showland": true,
           "subunitcolor": "white"
          },
          "hoverlabel": {
           "align": "left"
          },
          "hovermode": "closest",
          "mapbox": {
           "style": "light"
          },
          "paper_bgcolor": "white",
          "plot_bgcolor": "#E5ECF6",
          "polar": {
           "angularaxis": {
            "gridcolor": "white",
            "linecolor": "white",
            "ticks": ""
           },
           "bgcolor": "#E5ECF6",
           "radialaxis": {
            "gridcolor": "white",
            "linecolor": "white",
            "ticks": ""
           }
          },
          "scene": {
           "xaxis": {
            "backgroundcolor": "#E5ECF6",
            "gridcolor": "white",
            "gridwidth": 2,
            "linecolor": "white",
            "showbackground": true,
            "ticks": "",
            "zerolinecolor": "white"
           },
           "yaxis": {
            "backgroundcolor": "#E5ECF6",
            "gridcolor": "white",
            "gridwidth": 2,
            "linecolor": "white",
            "showbackground": true,
            "ticks": "",
            "zerolinecolor": "white"
           },
           "zaxis": {
            "backgroundcolor": "#E5ECF6",
            "gridcolor": "white",
            "gridwidth": 2,
            "linecolor": "white",
            "showbackground": true,
            "ticks": "",
            "zerolinecolor": "white"
           }
          },
          "shapedefaults": {
           "line": {
            "color": "#2a3f5f"
           }
          },
          "ternary": {
           "aaxis": {
            "gridcolor": "white",
            "linecolor": "white",
            "ticks": ""
           },
           "baxis": {
            "gridcolor": "white",
            "linecolor": "white",
            "ticks": ""
           },
           "bgcolor": "#E5ECF6",
           "caxis": {
            "gridcolor": "white",
            "linecolor": "white",
            "ticks": ""
           }
          },
          "title": {
           "x": 0.05
          },
          "xaxis": {
           "automargin": true,
           "gridcolor": "white",
           "linecolor": "white",
           "ticks": "",
           "title": {
            "standoff": 15
           },
           "zerolinecolor": "white",
           "zerolinewidth": 2
          },
          "yaxis": {
           "automargin": true,
           "gridcolor": "white",
           "linecolor": "white",
           "ticks": "",
           "title": {
            "standoff": 15
           },
           "zerolinecolor": "white",
           "zerolinewidth": 2
          }
         }
        },
        "title": {
         "text": "<b>Author posts count</b> frequency plot"
        },
        "xaxis": {
         "autorange": true,
         "range": [
          0,
          290.3838127211687
         ],
         "rangemode": "tozero",
         "title": {
          "text": "author posts count"
         },
         "type": "linear"
        },
        "yaxis": {
         "autorange": true,
         "gridcolor": "#eee",
         "range": [
          0,
          0.8159504114380195
         ],
         "rangemode": "tozero",
         "title": {
          "text": "proportion"
         },
         "type": "linear"
        }
       }
      },
      "text/html": [
       "<div>                            <div id=\"4638eaf1-6ea3-4b4f-8ae4-85bd00cf3f43\" class=\"plotly-graph-div\" style=\"height:400px; width:100%;\"></div>            <script type=\"text/javascript\">                require([\"plotly\"], function(Plotly) {                    window.PLOTLYENV=window.PLOTLYENV || {};                                    if (document.getElementById(\"4638eaf1-6ea3-4b4f-8ae4-85bd00cf3f43\")) {                    Plotly.newPlot(                        \"4638eaf1-6ea3-4b4f-8ae4-85bd00cf3f43\",                        [{\"mode\":\"markers\",\"x\":[1,2,3,4,5,6,7,8,9,10,11,12,13,14,15,16,17,18,19,20,21,22,23,24,25,26,27,28,29,30,31,32,33,34,35,36,37,38,39,40,41,42,43,44,45,46,47,48,49,50,51,52,53,54,55,56,57,58,59,60,61,62,63,65,66,67,68,70,71,75,76,77,80,82,83,87,89,90,91,92,93,97,103,114,129,134,137,139,149,218,274],\"y\":[0.7612446452166068,0.13776390004191047,0.044511486990155835,0.020225804697172802,0.01112067338300738,0.00673446992843226,0.0044821816483294995,0.0029721247332606033,0.0021019224432209,0.001462067818191707,0.001257314338182365,0.000966180483794082,0.0007870211887859079,0.0006270575325286095,0.0005662713431508361,0.00043830041814499744,0.00027513748876255317,0.00022074984563507172,0.00024634403063623943,0.00020475348000934188,0.00016636220250759026,0.0002335469381356556,0.0001151738325052548,0.00011197455938010884,0.00011197455938010884,8.318110125379513e-05,8.957964750408707e-05,3.8391277501751604e-05,7.358328187835723e-05,7.038400875321127e-05,3.8391277501751604e-05,3.8391277501751604e-05,5.438764312748144e-05,4.4789823752043534e-05,3.8391277501751604e-05,4.4789823752043534e-05,2.2394911876021767e-05,1.9195638750875802e-05,2.87934581263137e-05,1.9195638750875802e-05,1.5996365625729834e-05,1.5996365625729834e-05,2.2394911876021767e-05,1.5996365625729834e-05,2.87934581263137e-05,1.5996365625729834e-05,1.2797092500583868e-05,3.199273125145967e-06,9.597819375437901e-06,3.199273125145967e-06,1.2797092500583868e-05,3.199273125145967e-06,3.199273125145967e-06,1.2797092500583868e-05,3.199273125145967e-06,1.5996365625729834e-05,6.398546250291934e-06,6.398546250291934e-06,9.597819375437901e-06,6.398546250291934e-06,9.597819375437901e-06,3.199273125145967e-06,6.398546250291934e-06,3.199273125145967e-06,3.199273125145967e-06,6.398546250291934e-06,3.199273125145967e-06,3.199273125145967e-06,9.597819375437901e-06,3.199273125145967e-06,3.199273125145967e-06,6.398546250291934e-06,3.199273125145967e-06,3.199273125145967e-06,3.199273125145967e-06,3.199273125145967e-06,3.199273125145967e-06,3.199273125145967e-06,3.199273125145967e-06,3.199273125145967e-06,3.199273125145967e-06,3.199273125145967e-06,3.199273125145967e-06,3.199273125145967e-06,3.199273125145967e-06,3.199273125145967e-06,3.199273125145967e-06,3.199273125145967e-06,3.199273125145967e-06,3.199273125145967e-06,6.398546250291934e-06],\"type\":\"scatter\"}],                        {\"template\":{\"data\":{\"histogram2dcontour\":[{\"type\":\"histogram2dcontour\",\"colorbar\":{\"outlinewidth\":0,\"ticks\":\"\"},\"colorscale\":[[0.0,\"#0d0887\"],[0.1111111111111111,\"#46039f\"],[0.2222222222222222,\"#7201a8\"],[0.3333333333333333,\"#9c179e\"],[0.4444444444444444,\"#bd3786\"],[0.5555555555555556,\"#d8576b\"],[0.6666666666666666,\"#ed7953\"],[0.7777777777777778,\"#fb9f3a\"],[0.8888888888888888,\"#fdca26\"],[1.0,\"#f0f921\"]]}],\"choropleth\":[{\"type\":\"choropleth\",\"colorbar\":{\"outlinewidth\":0,\"ticks\":\"\"}}],\"histogram2d\":[{\"type\":\"histogram2d\",\"colorbar\":{\"outlinewidth\":0,\"ticks\":\"\"},\"colorscale\":[[0.0,\"#0d0887\"],[0.1111111111111111,\"#46039f\"],[0.2222222222222222,\"#7201a8\"],[0.3333333333333333,\"#9c179e\"],[0.4444444444444444,\"#bd3786\"],[0.5555555555555556,\"#d8576b\"],[0.6666666666666666,\"#ed7953\"],[0.7777777777777778,\"#fb9f3a\"],[0.8888888888888888,\"#fdca26\"],[1.0,\"#f0f921\"]]}],\"heatmap\":[{\"type\":\"heatmap\",\"colorbar\":{\"outlinewidth\":0,\"ticks\":\"\"},\"colorscale\":[[0.0,\"#0d0887\"],[0.1111111111111111,\"#46039f\"],[0.2222222222222222,\"#7201a8\"],[0.3333333333333333,\"#9c179e\"],[0.4444444444444444,\"#bd3786\"],[0.5555555555555556,\"#d8576b\"],[0.6666666666666666,\"#ed7953\"],[0.7777777777777778,\"#fb9f3a\"],[0.8888888888888888,\"#fdca26\"],[1.0,\"#f0f921\"]]}],\"heatmapgl\":[{\"type\":\"heatmapgl\",\"colorbar\":{\"outlinewidth\":0,\"ticks\":\"\"},\"colorscale\":[[0.0,\"#0d0887\"],[0.1111111111111111,\"#46039f\"],[0.2222222222222222,\"#7201a8\"],[0.3333333333333333,\"#9c179e\"],[0.4444444444444444,\"#bd3786\"],[0.5555555555555556,\"#d8576b\"],[0.6666666666666666,\"#ed7953\"],[0.7777777777777778,\"#fb9f3a\"],[0.8888888888888888,\"#fdca26\"],[1.0,\"#f0f921\"]]}],\"contourcarpet\":[{\"type\":\"contourcarpet\",\"colorbar\":{\"outlinewidth\":0,\"ticks\":\"\"}}],\"contour\":[{\"type\":\"contour\",\"colorbar\":{\"outlinewidth\":0,\"ticks\":\"\"},\"colorscale\":[[0.0,\"#0d0887\"],[0.1111111111111111,\"#46039f\"],[0.2222222222222222,\"#7201a8\"],[0.3333333333333333,\"#9c179e\"],[0.4444444444444444,\"#bd3786\"],[0.5555555555555556,\"#d8576b\"],[0.6666666666666666,\"#ed7953\"],[0.7777777777777778,\"#fb9f3a\"],[0.8888888888888888,\"#fdca26\"],[1.0,\"#f0f921\"]]}],\"surface\":[{\"type\":\"surface\",\"colorbar\":{\"outlinewidth\":0,\"ticks\":\"\"},\"colorscale\":[[0.0,\"#0d0887\"],[0.1111111111111111,\"#46039f\"],[0.2222222222222222,\"#7201a8\"],[0.3333333333333333,\"#9c179e\"],[0.4444444444444444,\"#bd3786\"],[0.5555555555555556,\"#d8576b\"],[0.6666666666666666,\"#ed7953\"],[0.7777777777777778,\"#fb9f3a\"],[0.8888888888888888,\"#fdca26\"],[1.0,\"#f0f921\"]]}],\"mesh3d\":[{\"type\":\"mesh3d\",\"colorbar\":{\"outlinewidth\":0,\"ticks\":\"\"}}],\"scatter\":[{\"fillpattern\":{\"fillmode\":\"overlay\",\"size\":10,\"solidity\":0.2},\"type\":\"scatter\"}],\"parcoords\":[{\"type\":\"parcoords\",\"line\":{\"colorbar\":{\"outlinewidth\":0,\"ticks\":\"\"}}}],\"scatterpolargl\":[{\"type\":\"scatterpolargl\",\"marker\":{\"colorbar\":{\"outlinewidth\":0,\"ticks\":\"\"}}}],\"bar\":[{\"error_x\":{\"color\":\"#2a3f5f\"},\"error_y\":{\"color\":\"#2a3f5f\"},\"marker\":{\"line\":{\"color\":\"#E5ECF6\",\"width\":0.5},\"pattern\":{\"fillmode\":\"overlay\",\"size\":10,\"solidity\":0.2}},\"type\":\"bar\"}],\"scattergeo\":[{\"type\":\"scattergeo\",\"marker\":{\"colorbar\":{\"outlinewidth\":0,\"ticks\":\"\"}}}],\"scatterpolar\":[{\"type\":\"scatterpolar\",\"marker\":{\"colorbar\":{\"outlinewidth\":0,\"ticks\":\"\"}}}],\"histogram\":[{\"marker\":{\"pattern\":{\"fillmode\":\"overlay\",\"size\":10,\"solidity\":0.2}},\"type\":\"histogram\"}],\"scattergl\":[{\"type\":\"scattergl\",\"marker\":{\"colorbar\":{\"outlinewidth\":0,\"ticks\":\"\"}}}],\"scatter3d\":[{\"type\":\"scatter3d\",\"line\":{\"colorbar\":{\"outlinewidth\":0,\"ticks\":\"\"}},\"marker\":{\"colorbar\":{\"outlinewidth\":0,\"ticks\":\"\"}}}],\"scattermapbox\":[{\"type\":\"scattermapbox\",\"marker\":{\"colorbar\":{\"outlinewidth\":0,\"ticks\":\"\"}}}],\"scatterternary\":[{\"type\":\"scatterternary\",\"marker\":{\"colorbar\":{\"outlinewidth\":0,\"ticks\":\"\"}}}],\"scattercarpet\":[{\"type\":\"scattercarpet\",\"marker\":{\"colorbar\":{\"outlinewidth\":0,\"ticks\":\"\"}}}],\"carpet\":[{\"aaxis\":{\"endlinecolor\":\"#2a3f5f\",\"gridcolor\":\"white\",\"linecolor\":\"white\",\"minorgridcolor\":\"white\",\"startlinecolor\":\"#2a3f5f\"},\"baxis\":{\"endlinecolor\":\"#2a3f5f\",\"gridcolor\":\"white\",\"linecolor\":\"white\",\"minorgridcolor\":\"white\",\"startlinecolor\":\"#2a3f5f\"},\"type\":\"carpet\"}],\"table\":[{\"cells\":{\"fill\":{\"color\":\"#EBF0F8\"},\"line\":{\"color\":\"white\"}},\"header\":{\"fill\":{\"color\":\"#C8D4E3\"},\"line\":{\"color\":\"white\"}},\"type\":\"table\"}],\"barpolar\":[{\"marker\":{\"line\":{\"color\":\"#E5ECF6\",\"width\":0.5},\"pattern\":{\"fillmode\":\"overlay\",\"size\":10,\"solidity\":0.2}},\"type\":\"barpolar\"}],\"pie\":[{\"automargin\":true,\"type\":\"pie\"}]},\"layout\":{\"autotypenumbers\":\"strict\",\"colorway\":[\"#636efa\",\"#EF553B\",\"#00cc96\",\"#ab63fa\",\"#FFA15A\",\"#19d3f3\",\"#FF6692\",\"#B6E880\",\"#FF97FF\",\"#FECB52\"],\"font\":{\"color\":\"#2a3f5f\"},\"hovermode\":\"closest\",\"hoverlabel\":{\"align\":\"left\"},\"paper_bgcolor\":\"white\",\"plot_bgcolor\":\"#E5ECF6\",\"polar\":{\"bgcolor\":\"#E5ECF6\",\"angularaxis\":{\"gridcolor\":\"white\",\"linecolor\":\"white\",\"ticks\":\"\"},\"radialaxis\":{\"gridcolor\":\"white\",\"linecolor\":\"white\",\"ticks\":\"\"}},\"ternary\":{\"bgcolor\":\"#E5ECF6\",\"aaxis\":{\"gridcolor\":\"white\",\"linecolor\":\"white\",\"ticks\":\"\"},\"baxis\":{\"gridcolor\":\"white\",\"linecolor\":\"white\",\"ticks\":\"\"},\"caxis\":{\"gridcolor\":\"white\",\"linecolor\":\"white\",\"ticks\":\"\"}},\"coloraxis\":{\"colorbar\":{\"outlinewidth\":0,\"ticks\":\"\"}},\"colorscale\":{\"sequential\":[[0.0,\"#0d0887\"],[0.1111111111111111,\"#46039f\"],[0.2222222222222222,\"#7201a8\"],[0.3333333333333333,\"#9c179e\"],[0.4444444444444444,\"#bd3786\"],[0.5555555555555556,\"#d8576b\"],[0.6666666666666666,\"#ed7953\"],[0.7777777777777778,\"#fb9f3a\"],[0.8888888888888888,\"#fdca26\"],[1.0,\"#f0f921\"]],\"sequentialminus\":[[0.0,\"#0d0887\"],[0.1111111111111111,\"#46039f\"],[0.2222222222222222,\"#7201a8\"],[0.3333333333333333,\"#9c179e\"],[0.4444444444444444,\"#bd3786\"],[0.5555555555555556,\"#d8576b\"],[0.6666666666666666,\"#ed7953\"],[0.7777777777777778,\"#fb9f3a\"],[0.8888888888888888,\"#fdca26\"],[1.0,\"#f0f921\"]],\"diverging\":[[0,\"#8e0152\"],[0.1,\"#c51b7d\"],[0.2,\"#de77ae\"],[0.3,\"#f1b6da\"],[0.4,\"#fde0ef\"],[0.5,\"#f7f7f7\"],[0.6,\"#e6f5d0\"],[0.7,\"#b8e186\"],[0.8,\"#7fbc41\"],[0.9,\"#4d9221\"],[1,\"#276419\"]]},\"xaxis\":{\"gridcolor\":\"white\",\"linecolor\":\"white\",\"ticks\":\"\",\"title\":{\"standoff\":15},\"zerolinecolor\":\"white\",\"automargin\":true,\"zerolinewidth\":2},\"yaxis\":{\"gridcolor\":\"white\",\"linecolor\":\"white\",\"ticks\":\"\",\"title\":{\"standoff\":15},\"zerolinecolor\":\"white\",\"automargin\":true,\"zerolinewidth\":2},\"scene\":{\"xaxis\":{\"backgroundcolor\":\"#E5ECF6\",\"gridcolor\":\"white\",\"linecolor\":\"white\",\"showbackground\":true,\"ticks\":\"\",\"zerolinecolor\":\"white\",\"gridwidth\":2},\"yaxis\":{\"backgroundcolor\":\"#E5ECF6\",\"gridcolor\":\"white\",\"linecolor\":\"white\",\"showbackground\":true,\"ticks\":\"\",\"zerolinecolor\":\"white\",\"gridwidth\":2},\"zaxis\":{\"backgroundcolor\":\"#E5ECF6\",\"gridcolor\":\"white\",\"linecolor\":\"white\",\"showbackground\":true,\"ticks\":\"\",\"zerolinecolor\":\"white\",\"gridwidth\":2}},\"shapedefaults\":{\"line\":{\"color\":\"#2a3f5f\"}},\"annotationdefaults\":{\"arrowcolor\":\"#2a3f5f\",\"arrowhead\":0,\"arrowwidth\":1},\"geo\":{\"bgcolor\":\"white\",\"landcolor\":\"#E5ECF6\",\"subunitcolor\":\"white\",\"showland\":true,\"showlakes\":true,\"lakecolor\":\"white\"},\"title\":{\"x\":0.05},\"mapbox\":{\"style\":\"light\"}}},\"yaxis\":{\"gridcolor\":\"#eee\",\"title\":{\"text\":\"proportion\"},\"rangemode\":\"tozero\"},\"xaxis\":{\"title\":{\"text\":\"author posts count\"},\"rangemode\":\"tozero\"},\"title\":{\"text\":\"<b>Author posts count</b> frequency plot\"},\"plot_bgcolor\":\"#fff\",\"showlegend\":false,\"height\":400},                        {\"responsive\": true}                    ).then(function(){\n",
       "                            \n",
       "var gd = document.getElementById('4638eaf1-6ea3-4b4f-8ae4-85bd00cf3f43');\n",
       "var x = new MutationObserver(function (mutations, observer) {{\n",
       "        var display = window.getComputedStyle(gd).display;\n",
       "        if (!display || display === 'none') {{\n",
       "            console.log([gd, 'removed!']);\n",
       "            Plotly.purge(gd);\n",
       "            observer.disconnect();\n",
       "        }}\n",
       "}});\n",
       "\n",
       "// Listen for the removal of the full notebook cells\n",
       "var notebookContainer = gd.closest('#notebook-container');\n",
       "if (notebookContainer) {{\n",
       "    x.observe(notebookContainer, {childList: true});\n",
       "}}\n",
       "\n",
       "// Listen for the clearing of the current output cell\n",
       "var outputEl = gd.closest('.output');\n",
       "if (outputEl) {{\n",
       "    x.observe(outputEl, {childList: true});\n",
       "}}\n",
       "\n",
       "                        })                };                });            </script>        </div>"
      ]
     },
     "metadata": {},
     "output_type": "display_data"
    }
   ],
   "source": [
    "traces = []\n",
    "trace = go.Scatter(\n",
    "    x=author_posts_count_vc['author_posts_count'],\n",
    "    y=author_posts_count_vc['proportion'],\n",
    "    mode='markers'\n",
    ")\n",
    "traces.append(trace)\n",
    "fig = go.Figure(traces)\n",
    "\n",
    "    \n",
    "fig.update_yaxes(gridcolor='#eee', title='proportion', rangemode='tozero')\n",
    "fig.update_xaxes(title='author posts count', rangemode='tozero')\n",
    "fig.update_layout(\n",
    "    title=f'<b>Author posts count</b> frequency plot',\n",
    "    plot_bgcolor='#fff',\n",
    "    showlegend=False,\n",
    "    height=400\n",
    ")\n",
    "\n",
    "fig.show()"
   ]
  },
  {
   "cell_type": "code",
   "execution_count": null,
   "id": "3404aa3e-68d3-4dd9-8cd1-7fa4558d462c",
   "metadata": {},
   "outputs": [],
   "source": []
  },
  {
   "cell_type": "code",
   "execution_count": null,
   "id": "ece6b502-07e8-4082-ac5f-a487a21d15e8",
   "metadata": {},
   "outputs": [],
   "source": []
  },
  {
   "cell_type": "markdown",
   "id": "d479082a-f6ef-45de-9d3e-2610efb6bfda",
   "metadata": {},
   "source": [
    "Let's create author categories based on how often they post."
   ]
  },
  {
   "cell_type": "code",
   "execution_count": 272,
   "id": "978e7a5c-3755-48a3-84c5-58ddd749c4ce",
   "metadata": {},
   "outputs": [],
   "source": [
    "POSTING_FREQ_GROUPS_ORDERED_LIST = [\n",
    "    {\n",
    "        'label': 'one-time poster',\n",
    "        'incusive_lb': 1,\n",
    "        'inclusive_ub': 1\n",
    "    },\n",
    "    {\n",
    "        'label': 'posted 2-3 times',\n",
    "        'incusive_lb': 2,\n",
    "        'inclusive_ub': 3\n",
    "    },\n",
    "    {\n",
    "        'label': 'posted 4-10 times',\n",
    "        'incusive_lb': 4,\n",
    "        'inclusive_ub': 10\n",
    "    },\n",
    "    {\n",
    "        'label': 'posted 11-50 times',\n",
    "        'incusive_lb': 11,\n",
    "        'inclusive_ub': 50\n",
    "    },\n",
    "    {\n",
    "        'label': 'posted 51-100 times',\n",
    "        'incusive_lb': 51,\n",
    "        'inclusive_ub': 100\n",
    "    },\n",
    "    {\n",
    "        'label': 'posted 101-200 times',\n",
    "        'incusive_lb': 101,\n",
    "        'inclusive_ub': 200\n",
    "    },\n",
    "    {\n",
    "        'label': 'posted over 200 times',\n",
    "        'incusive_lb': 201,\n",
    "        'inclusive_ub': 100_000_000  # above expected max limit\n",
    "    },\n",
    "]"
   ]
  },
  {
   "cell_type": "code",
   "execution_count": 273,
   "id": "169ab675-7aac-47d6-ac05-665f729be702",
   "metadata": {},
   "outputs": [
    {
     "data": {
      "text/plain": [
       "[{'label': 'one-time poster', 'incusive_lb': 1, 'inclusive_ub': 1},\n",
       " {'label': 'posted 2-3 times', 'incusive_lb': 2, 'inclusive_ub': 3},\n",
       " {'label': 'posted 4-10 times', 'incusive_lb': 4, 'inclusive_ub': 10},\n",
       " {'label': 'posted 11-50 times', 'incusive_lb': 11, 'inclusive_ub': 50},\n",
       " {'label': 'posted 51-100 times', 'incusive_lb': 51, 'inclusive_ub': 100},\n",
       " {'label': 'posted 101-200 times', 'incusive_lb': 101, 'inclusive_ub': 200},\n",
       " {'label': 'posted over 200 times',\n",
       "  'incusive_lb': 201,\n",
       "  'inclusive_ub': 100000000}]"
      ]
     },
     "execution_count": 273,
     "metadata": {},
     "output_type": "execute_result"
    }
   ],
   "source": [
    "POSTING_FREQ_GROUPS_ORDERED_LIST"
   ]
  },
  {
   "cell_type": "code",
   "execution_count": 274,
   "id": "eb69b8c4-9009-4c06-bd2a-aa8812eabea1",
   "metadata": {},
   "outputs": [],
   "source": [
    "def assign_posting_freq_group(posting_freq, posting_freq_groups_ordered_list):\n",
    "    assigned_posting_freq_group = ''\n",
    "    \n",
    "    for posting_freq_group in posting_freq_groups_ordered_list:\n",
    "        if (\n",
    "            (not np.isnan(posting_freq)) \n",
    "            and posting_freq <= posting_freq_group['inclusive_ub']\n",
    "        ):\n",
    "            assigned_posting_freq_group = posting_freq_group['label']\n",
    "            break\n",
    "            \n",
    "    return assigned_posting_freq_group"
   ]
  },
  {
   "cell_type": "code",
   "execution_count": 275,
   "id": "0626324b-26be-432f-adc0-c3c08fcee5b3",
   "metadata": {},
   "outputs": [
    {
     "data": {
      "text/plain": [
       "['one-time poster',\n",
       " 'posted 2-3 times',\n",
       " 'posted 4-10 times',\n",
       " 'posted 11-50 times',\n",
       " 'posted 51-100 times',\n",
       " 'posted 101-200 times',\n",
       " 'posted over 200 times']"
      ]
     },
     "execution_count": 275,
     "metadata": {},
     "output_type": "execute_result"
    }
   ],
   "source": [
    "POSTING_FREQ_GROUPS_LABELS_ORDERED_LIST = [\n",
    "    x['label'] for x in POSTING_FREQ_GROUPS_ORDERED_LIST\n",
    "]\n",
    "\n",
    "POSTING_FREQ_GROUPS_LABELS_ORDERED_LIST"
   ]
  },
  {
   "cell_type": "code",
   "execution_count": 276,
   "id": "561f6e78-8150-4ec0-990b-6492d8bc503f",
   "metadata": {},
   "outputs": [],
   "source": [
    "author_vc['author_posting_freq_group'] = author_vc['count'].apply(\n",
    "    assign_posting_freq_group, \n",
    "    args=(POSTING_FREQ_GROUPS_ORDERED_LIST,)\n",
    ")"
   ]
  },
  {
   "cell_type": "code",
   "execution_count": 277,
   "id": "ae5e2a5d-83be-4c2e-813d-f1ec5412b2ad",
   "metadata": {},
   "outputs": [
    {
     "data": {
      "text/html": [
       "<div>\n",
       "<style scoped>\n",
       "    .dataframe tbody tr th:only-of-type {\n",
       "        vertical-align: middle;\n",
       "    }\n",
       "\n",
       "    .dataframe tbody tr th {\n",
       "        vertical-align: top;\n",
       "    }\n",
       "\n",
       "    .dataframe thead th {\n",
       "        text-align: right;\n",
       "    }\n",
       "</style>\n",
       "<table border=\"1\" class=\"dataframe\">\n",
       "  <thead>\n",
       "    <tr style=\"text-align: right;\">\n",
       "      <th></th>\n",
       "      <th>author</th>\n",
       "      <th>count</th>\n",
       "      <th>author_posting_freq_group</th>\n",
       "    </tr>\n",
       "  </thead>\n",
       "  <tbody>\n",
       "    <tr>\n",
       "      <th>0</th>\n",
       "      <td>SensitiveBorder2</td>\n",
       "      <td>274</td>\n",
       "      <td>posted over 200 times</td>\n",
       "    </tr>\n",
       "    <tr>\n",
       "      <th>1</th>\n",
       "      <td>[deleted]</td>\n",
       "      <td>274</td>\n",
       "      <td>posted over 200 times</td>\n",
       "    </tr>\n",
       "    <tr>\n",
       "      <th>2</th>\n",
       "      <td>Help_Me_Reddit01</td>\n",
       "      <td>218</td>\n",
       "      <td>posted over 200 times</td>\n",
       "    </tr>\n",
       "    <tr>\n",
       "      <th>3</th>\n",
       "      <td>throwlega</td>\n",
       "      <td>149</td>\n",
       "      <td>posted 101-200 times</td>\n",
       "    </tr>\n",
       "    <tr>\n",
       "      <th>4</th>\n",
       "      <td>Docquest117</td>\n",
       "      <td>139</td>\n",
       "      <td>posted 101-200 times</td>\n",
       "    </tr>\n",
       "    <tr>\n",
       "      <th>5</th>\n",
       "      <td>ukjungle</td>\n",
       "      <td>137</td>\n",
       "      <td>posted 101-200 times</td>\n",
       "    </tr>\n",
       "    <tr>\n",
       "      <th>6</th>\n",
       "      <td>dizson</td>\n",
       "      <td>134</td>\n",
       "      <td>posted 101-200 times</td>\n",
       "    </tr>\n",
       "    <tr>\n",
       "      <th>7</th>\n",
       "      <td>johndoejohndoes</td>\n",
       "      <td>129</td>\n",
       "      <td>posted 101-200 times</td>\n",
       "    </tr>\n",
       "    <tr>\n",
       "      <th>8</th>\n",
       "      <td>__throwawaypt__</td>\n",
       "      <td>114</td>\n",
       "      <td>posted 101-200 times</td>\n",
       "    </tr>\n",
       "    <tr>\n",
       "      <th>9</th>\n",
       "      <td>meg-c</td>\n",
       "      <td>103</td>\n",
       "      <td>posted 101-200 times</td>\n",
       "    </tr>\n",
       "    <tr>\n",
       "      <th>10</th>\n",
       "      <td>Enraged-Bee</td>\n",
       "      <td>97</td>\n",
       "      <td>posted 51-100 times</td>\n",
       "    </tr>\n",
       "    <tr>\n",
       "      <th>11</th>\n",
       "      <td>Zeddexs</td>\n",
       "      <td>93</td>\n",
       "      <td>posted 51-100 times</td>\n",
       "    </tr>\n",
       "    <tr>\n",
       "      <th>12</th>\n",
       "      <td>Ak51915</td>\n",
       "      <td>92</td>\n",
       "      <td>posted 51-100 times</td>\n",
       "    </tr>\n",
       "    <tr>\n",
       "      <th>13</th>\n",
       "      <td>xking_lionx</td>\n",
       "      <td>91</td>\n",
       "      <td>posted 51-100 times</td>\n",
       "    </tr>\n",
       "    <tr>\n",
       "      <th>14</th>\n",
       "      <td>datenschutz21</td>\n",
       "      <td>90</td>\n",
       "      <td>posted 51-100 times</td>\n",
       "    </tr>\n",
       "    <tr>\n",
       "      <th>15</th>\n",
       "      <td>ghsNICK</td>\n",
       "      <td>89</td>\n",
       "      <td>posted 51-100 times</td>\n",
       "    </tr>\n",
       "    <tr>\n",
       "      <th>16</th>\n",
       "      <td>goodluckchuck11</td>\n",
       "      <td>87</td>\n",
       "      <td>posted 51-100 times</td>\n",
       "    </tr>\n",
       "    <tr>\n",
       "      <th>17</th>\n",
       "      <td>Environmental-Ice-23</td>\n",
       "      <td>83</td>\n",
       "      <td>posted 51-100 times</td>\n",
       "    </tr>\n",
       "    <tr>\n",
       "      <th>18</th>\n",
       "      <td>whoninj4</td>\n",
       "      <td>82</td>\n",
       "      <td>posted 51-100 times</td>\n",
       "    </tr>\n",
       "    <tr>\n",
       "      <th>19</th>\n",
       "      <td>Automatic-Cry5871</td>\n",
       "      <td>80</td>\n",
       "      <td>posted 51-100 times</td>\n",
       "    </tr>\n",
       "  </tbody>\n",
       "</table>\n",
       "</div>"
      ],
      "text/plain": [
       "                  author  count author_posting_freq_group\n",
       "0       SensitiveBorder2    274     posted over 200 times\n",
       "1              [deleted]    274     posted over 200 times\n",
       "2       Help_Me_Reddit01    218     posted over 200 times\n",
       "3              throwlega    149      posted 101-200 times\n",
       "4            Docquest117    139      posted 101-200 times\n",
       "5               ukjungle    137      posted 101-200 times\n",
       "6                 dizson    134      posted 101-200 times\n",
       "7        johndoejohndoes    129      posted 101-200 times\n",
       "8        __throwawaypt__    114      posted 101-200 times\n",
       "9                  meg-c    103      posted 101-200 times\n",
       "10           Enraged-Bee     97       posted 51-100 times\n",
       "11               Zeddexs     93       posted 51-100 times\n",
       "12               Ak51915     92       posted 51-100 times\n",
       "13           xking_lionx     91       posted 51-100 times\n",
       "14         datenschutz21     90       posted 51-100 times\n",
       "15               ghsNICK     89       posted 51-100 times\n",
       "16       goodluckchuck11     87       posted 51-100 times\n",
       "17  Environmental-Ice-23     83       posted 51-100 times\n",
       "18              whoninj4     82       posted 51-100 times\n",
       "19     Automatic-Cry5871     80       posted 51-100 times"
      ]
     },
     "execution_count": 277,
     "metadata": {},
     "output_type": "execute_result"
    }
   ],
   "source": [
    "author_vc.head(20)"
   ]
  },
  {
   "cell_type": "code",
   "execution_count": 278,
   "id": "75c3696e-a4f5-44bb-ae1c-de8181884d92",
   "metadata": {},
   "outputs": [
    {
     "data": {
      "text/plain": [
       "492376"
      ]
     },
     "execution_count": 278,
     "metadata": {},
     "output_type": "execute_result"
    }
   ],
   "source": [
    "len(df)"
   ]
  },
  {
   "cell_type": "code",
   "execution_count": 279,
   "id": "faa4a247-f3f9-4dca-b262-145a1d805649",
   "metadata": {},
   "outputs": [
    {
     "data": {
      "text/html": [
       "<div>\n",
       "<style scoped>\n",
       "    .dataframe tbody tr th:only-of-type {\n",
       "        vertical-align: middle;\n",
       "    }\n",
       "\n",
       "    .dataframe tbody tr th {\n",
       "        vertical-align: top;\n",
       "    }\n",
       "\n",
       "    .dataframe thead th {\n",
       "        text-align: right;\n",
       "    }\n",
       "</style>\n",
       "<table border=\"1\" class=\"dataframe\">\n",
       "  <thead>\n",
       "    <tr style=\"text-align: right;\">\n",
       "      <th></th>\n",
       "      <th>author</th>\n",
       "      <th>num_comments</th>\n",
       "      <th>full_post_text</th>\n",
       "      <th>created_utc_ns_dt</th>\n",
       "      <th>age</th>\n",
       "      <th>sex</th>\n",
       "      <th>url</th>\n",
       "      <th>age_group</th>\n",
       "      <th>author_posting_freq_group</th>\n",
       "    </tr>\n",
       "  </thead>\n",
       "  <tbody>\n",
       "    <tr>\n",
       "      <th>0</th>\n",
       "      <td>DavisTheMagicSheep</td>\n",
       "      <td>2</td>\n",
       "      <td>My ears feel like there is pressure inside of ...</td>\n",
       "      <td>2017-12-31 23:43:19</td>\n",
       "      <td>NaN</td>\n",
       "      <td>unknown</td>\n",
       "      <td>https://www.reddit.com/r/AskDocs/comments/7nbu...</td>\n",
       "      <td>unknown</td>\n",
       "      <td>posted 2-3 times</td>\n",
       "    </tr>\n",
       "    <tr>\n",
       "      <th>1</th>\n",
       "      <td>DavisTheMagicSheep</td>\n",
       "      <td>1</td>\n",
       "      <td>(16m) extreme anxiety issues and rib cage look...</td>\n",
       "      <td>2018-09-15 01:45:42</td>\n",
       "      <td>16.0</td>\n",
       "      <td>unknown</td>\n",
       "      <td>https://www.reddit.com/r/AskDocs/comments/9fxs...</td>\n",
       "      <td>adolescents (13 - 17 years)</td>\n",
       "      <td>posted 2-3 times</td>\n",
       "    </tr>\n",
       "    <tr>\n",
       "      <th>2</th>\n",
       "      <td>DavisTheMagicSheep</td>\n",
       "      <td>1</td>\n",
       "      <td>M16 clogged nose and blurry left eye | For the...</td>\n",
       "      <td>2018-10-02 20:55:53</td>\n",
       "      <td>16.0</td>\n",
       "      <td>AMAB</td>\n",
       "      <td>https://www.reddit.com/r/AskDocs/comments/9kuj...</td>\n",
       "      <td>adolescents (13 - 17 years)</td>\n",
       "      <td>posted 2-3 times</td>\n",
       "    </tr>\n",
       "    <tr>\n",
       "      <th>3</th>\n",
       "      <td>Dontgetscooped</td>\n",
       "      <td>1</td>\n",
       "      <td>IBS maybe? | (first about me : 32 white male 5...</td>\n",
       "      <td>2017-12-31 23:33:08</td>\n",
       "      <td>NaN</td>\n",
       "      <td>AMAB</td>\n",
       "      <td>https://www.reddit.com/r/AskDocs/comments/7nbs...</td>\n",
       "      <td>unknown</td>\n",
       "      <td>one-time poster</td>\n",
       "    </tr>\n",
       "    <tr>\n",
       "      <th>4</th>\n",
       "      <td>AveryFenix</td>\n",
       "      <td>7</td>\n",
       "      <td>Mole or scar? Should I be worried about melano...</td>\n",
       "      <td>2017-12-31 23:10:39</td>\n",
       "      <td>21.0</td>\n",
       "      <td>unknown</td>\n",
       "      <td>https://www.reddit.com/r/AskDocs/comments/7nbo...</td>\n",
       "      <td>young adulthood (18 - 26 years)</td>\n",
       "      <td>posted 2-3 times</td>\n",
       "    </tr>\n",
       "  </tbody>\n",
       "</table>\n",
       "</div>"
      ],
      "text/plain": [
       "               author  num_comments  \\\n",
       "0  DavisTheMagicSheep             2   \n",
       "1  DavisTheMagicSheep             1   \n",
       "2  DavisTheMagicSheep             1   \n",
       "3      Dontgetscooped             1   \n",
       "4          AveryFenix             7   \n",
       "\n",
       "                                      full_post_text   created_utc_ns_dt  \\\n",
       "0  My ears feel like there is pressure inside of ... 2017-12-31 23:43:19   \n",
       "1  (16m) extreme anxiety issues and rib cage look... 2018-09-15 01:45:42   \n",
       "2  M16 clogged nose and blurry left eye | For the... 2018-10-02 20:55:53   \n",
       "3  IBS maybe? | (first about me : 32 white male 5... 2017-12-31 23:33:08   \n",
       "4  Mole or scar? Should I be worried about melano... 2017-12-31 23:10:39   \n",
       "\n",
       "    age      sex                                                url  \\\n",
       "0   NaN  unknown  https://www.reddit.com/r/AskDocs/comments/7nbu...   \n",
       "1  16.0  unknown  https://www.reddit.com/r/AskDocs/comments/9fxs...   \n",
       "2  16.0     AMAB  https://www.reddit.com/r/AskDocs/comments/9kuj...   \n",
       "3   NaN     AMAB  https://www.reddit.com/r/AskDocs/comments/7nbs...   \n",
       "4  21.0  unknown  https://www.reddit.com/r/AskDocs/comments/7nbo...   \n",
       "\n",
       "                         age_group author_posting_freq_group  \n",
       "0                          unknown          posted 2-3 times  \n",
       "1      adolescents (13 - 17 years)          posted 2-3 times  \n",
       "2      adolescents (13 - 17 years)          posted 2-3 times  \n",
       "3                          unknown           one-time poster  \n",
       "4  young adulthood (18 - 26 years)          posted 2-3 times  "
      ]
     },
     "execution_count": 279,
     "metadata": {},
     "output_type": "execute_result"
    }
   ],
   "source": [
    "df = df.merge(author_vc[['author', 'author_posting_freq_group']], on='author')\n",
    "df.head()"
   ]
  },
  {
   "cell_type": "code",
   "execution_count": 280,
   "id": "bd1193af-c076-4046-a056-8f59e2fff7c0",
   "metadata": {},
   "outputs": [
    {
     "data": {
      "application/vnd.plotly.v1+json": {
       "config": {
        "plotlyServerURL": "https://plotly.com"
       },
       "data": [
        {
         "hovertemplate": "Value: %{x}<br>Frequency: %{y:,}<br><extra></extra>",
         "hovertext": [
          "one-time poster",
          "posted 2-3 times",
          "posted 4-10 times",
          "posted 11-50 times",
          "posted 51-100 times",
          "posted 101-200 times",
          "posted over 200 times"
         ],
         "type": "bar",
         "x": [
          "one-time poster",
          "posted 2-3 times",
          "posted 4-10 times",
          "posted 11-50 times",
          "posted 51-100 times",
          "posted 101-200 times",
          "posted over 200 times"
         ],
         "y": [
          237943,
          127861,
          83020,
          38318,
          3563,
          905,
          766
         ]
        }
       ],
       "layout": {
        "autosize": true,
        "plot_bgcolor": "#fff",
        "showlegend": false,
        "template": {
         "data": {
          "bar": [
           {
            "error_x": {
             "color": "#2a3f5f"
            },
            "error_y": {
             "color": "#2a3f5f"
            },
            "marker": {
             "line": {
              "color": "#E5ECF6",
              "width": 0.5
             },
             "pattern": {
              "fillmode": "overlay",
              "size": 10,
              "solidity": 0.2
             }
            },
            "type": "bar"
           }
          ],
          "barpolar": [
           {
            "marker": {
             "line": {
              "color": "#E5ECF6",
              "width": 0.5
             },
             "pattern": {
              "fillmode": "overlay",
              "size": 10,
              "solidity": 0.2
             }
            },
            "type": "barpolar"
           }
          ],
          "carpet": [
           {
            "aaxis": {
             "endlinecolor": "#2a3f5f",
             "gridcolor": "white",
             "linecolor": "white",
             "minorgridcolor": "white",
             "startlinecolor": "#2a3f5f"
            },
            "baxis": {
             "endlinecolor": "#2a3f5f",
             "gridcolor": "white",
             "linecolor": "white",
             "minorgridcolor": "white",
             "startlinecolor": "#2a3f5f"
            },
            "type": "carpet"
           }
          ],
          "choropleth": [
           {
            "colorbar": {
             "outlinewidth": 0,
             "ticks": ""
            },
            "type": "choropleth"
           }
          ],
          "contour": [
           {
            "colorbar": {
             "outlinewidth": 0,
             "ticks": ""
            },
            "colorscale": [
             [
              0,
              "#0d0887"
             ],
             [
              0.1111111111111111,
              "#46039f"
             ],
             [
              0.2222222222222222,
              "#7201a8"
             ],
             [
              0.3333333333333333,
              "#9c179e"
             ],
             [
              0.4444444444444444,
              "#bd3786"
             ],
             [
              0.5555555555555556,
              "#d8576b"
             ],
             [
              0.6666666666666666,
              "#ed7953"
             ],
             [
              0.7777777777777778,
              "#fb9f3a"
             ],
             [
              0.8888888888888888,
              "#fdca26"
             ],
             [
              1,
              "#f0f921"
             ]
            ],
            "type": "contour"
           }
          ],
          "contourcarpet": [
           {
            "colorbar": {
             "outlinewidth": 0,
             "ticks": ""
            },
            "type": "contourcarpet"
           }
          ],
          "heatmap": [
           {
            "colorbar": {
             "outlinewidth": 0,
             "ticks": ""
            },
            "colorscale": [
             [
              0,
              "#0d0887"
             ],
             [
              0.1111111111111111,
              "#46039f"
             ],
             [
              0.2222222222222222,
              "#7201a8"
             ],
             [
              0.3333333333333333,
              "#9c179e"
             ],
             [
              0.4444444444444444,
              "#bd3786"
             ],
             [
              0.5555555555555556,
              "#d8576b"
             ],
             [
              0.6666666666666666,
              "#ed7953"
             ],
             [
              0.7777777777777778,
              "#fb9f3a"
             ],
             [
              0.8888888888888888,
              "#fdca26"
             ],
             [
              1,
              "#f0f921"
             ]
            ],
            "type": "heatmap"
           }
          ],
          "heatmapgl": [
           {
            "colorbar": {
             "outlinewidth": 0,
             "ticks": ""
            },
            "colorscale": [
             [
              0,
              "#0d0887"
             ],
             [
              0.1111111111111111,
              "#46039f"
             ],
             [
              0.2222222222222222,
              "#7201a8"
             ],
             [
              0.3333333333333333,
              "#9c179e"
             ],
             [
              0.4444444444444444,
              "#bd3786"
             ],
             [
              0.5555555555555556,
              "#d8576b"
             ],
             [
              0.6666666666666666,
              "#ed7953"
             ],
             [
              0.7777777777777778,
              "#fb9f3a"
             ],
             [
              0.8888888888888888,
              "#fdca26"
             ],
             [
              1,
              "#f0f921"
             ]
            ],
            "type": "heatmapgl"
           }
          ],
          "histogram": [
           {
            "marker": {
             "pattern": {
              "fillmode": "overlay",
              "size": 10,
              "solidity": 0.2
             }
            },
            "type": "histogram"
           }
          ],
          "histogram2d": [
           {
            "colorbar": {
             "outlinewidth": 0,
             "ticks": ""
            },
            "colorscale": [
             [
              0,
              "#0d0887"
             ],
             [
              0.1111111111111111,
              "#46039f"
             ],
             [
              0.2222222222222222,
              "#7201a8"
             ],
             [
              0.3333333333333333,
              "#9c179e"
             ],
             [
              0.4444444444444444,
              "#bd3786"
             ],
             [
              0.5555555555555556,
              "#d8576b"
             ],
             [
              0.6666666666666666,
              "#ed7953"
             ],
             [
              0.7777777777777778,
              "#fb9f3a"
             ],
             [
              0.8888888888888888,
              "#fdca26"
             ],
             [
              1,
              "#f0f921"
             ]
            ],
            "type": "histogram2d"
           }
          ],
          "histogram2dcontour": [
           {
            "colorbar": {
             "outlinewidth": 0,
             "ticks": ""
            },
            "colorscale": [
             [
              0,
              "#0d0887"
             ],
             [
              0.1111111111111111,
              "#46039f"
             ],
             [
              0.2222222222222222,
              "#7201a8"
             ],
             [
              0.3333333333333333,
              "#9c179e"
             ],
             [
              0.4444444444444444,
              "#bd3786"
             ],
             [
              0.5555555555555556,
              "#d8576b"
             ],
             [
              0.6666666666666666,
              "#ed7953"
             ],
             [
              0.7777777777777778,
              "#fb9f3a"
             ],
             [
              0.8888888888888888,
              "#fdca26"
             ],
             [
              1,
              "#f0f921"
             ]
            ],
            "type": "histogram2dcontour"
           }
          ],
          "mesh3d": [
           {
            "colorbar": {
             "outlinewidth": 0,
             "ticks": ""
            },
            "type": "mesh3d"
           }
          ],
          "parcoords": [
           {
            "line": {
             "colorbar": {
              "outlinewidth": 0,
              "ticks": ""
             }
            },
            "type": "parcoords"
           }
          ],
          "pie": [
           {
            "automargin": true,
            "type": "pie"
           }
          ],
          "scatter": [
           {
            "fillpattern": {
             "fillmode": "overlay",
             "size": 10,
             "solidity": 0.2
            },
            "type": "scatter"
           }
          ],
          "scatter3d": [
           {
            "line": {
             "colorbar": {
              "outlinewidth": 0,
              "ticks": ""
             }
            },
            "marker": {
             "colorbar": {
              "outlinewidth": 0,
              "ticks": ""
             }
            },
            "type": "scatter3d"
           }
          ],
          "scattercarpet": [
           {
            "marker": {
             "colorbar": {
              "outlinewidth": 0,
              "ticks": ""
             }
            },
            "type": "scattercarpet"
           }
          ],
          "scattergeo": [
           {
            "marker": {
             "colorbar": {
              "outlinewidth": 0,
              "ticks": ""
             }
            },
            "type": "scattergeo"
           }
          ],
          "scattergl": [
           {
            "marker": {
             "colorbar": {
              "outlinewidth": 0,
              "ticks": ""
             }
            },
            "type": "scattergl"
           }
          ],
          "scattermapbox": [
           {
            "marker": {
             "colorbar": {
              "outlinewidth": 0,
              "ticks": ""
             }
            },
            "type": "scattermapbox"
           }
          ],
          "scatterpolar": [
           {
            "marker": {
             "colorbar": {
              "outlinewidth": 0,
              "ticks": ""
             }
            },
            "type": "scatterpolar"
           }
          ],
          "scatterpolargl": [
           {
            "marker": {
             "colorbar": {
              "outlinewidth": 0,
              "ticks": ""
             }
            },
            "type": "scatterpolargl"
           }
          ],
          "scatterternary": [
           {
            "marker": {
             "colorbar": {
              "outlinewidth": 0,
              "ticks": ""
             }
            },
            "type": "scatterternary"
           }
          ],
          "surface": [
           {
            "colorbar": {
             "outlinewidth": 0,
             "ticks": ""
            },
            "colorscale": [
             [
              0,
              "#0d0887"
             ],
             [
              0.1111111111111111,
              "#46039f"
             ],
             [
              0.2222222222222222,
              "#7201a8"
             ],
             [
              0.3333333333333333,
              "#9c179e"
             ],
             [
              0.4444444444444444,
              "#bd3786"
             ],
             [
              0.5555555555555556,
              "#d8576b"
             ],
             [
              0.6666666666666666,
              "#ed7953"
             ],
             [
              0.7777777777777778,
              "#fb9f3a"
             ],
             [
              0.8888888888888888,
              "#fdca26"
             ],
             [
              1,
              "#f0f921"
             ]
            ],
            "type": "surface"
           }
          ],
          "table": [
           {
            "cells": {
             "fill": {
              "color": "#EBF0F8"
             },
             "line": {
              "color": "white"
             }
            },
            "header": {
             "fill": {
              "color": "#C8D4E3"
             },
             "line": {
              "color": "white"
             }
            },
            "type": "table"
           }
          ]
         },
         "layout": {
          "annotationdefaults": {
           "arrowcolor": "#2a3f5f",
           "arrowhead": 0,
           "arrowwidth": 1
          },
          "autotypenumbers": "strict",
          "coloraxis": {
           "colorbar": {
            "outlinewidth": 0,
            "ticks": ""
           }
          },
          "colorscale": {
           "diverging": [
            [
             0,
             "#8e0152"
            ],
            [
             0.1,
             "#c51b7d"
            ],
            [
             0.2,
             "#de77ae"
            ],
            [
             0.3,
             "#f1b6da"
            ],
            [
             0.4,
             "#fde0ef"
            ],
            [
             0.5,
             "#f7f7f7"
            ],
            [
             0.6,
             "#e6f5d0"
            ],
            [
             0.7,
             "#b8e186"
            ],
            [
             0.8,
             "#7fbc41"
            ],
            [
             0.9,
             "#4d9221"
            ],
            [
             1,
             "#276419"
            ]
           ],
           "sequential": [
            [
             0,
             "#0d0887"
            ],
            [
             0.1111111111111111,
             "#46039f"
            ],
            [
             0.2222222222222222,
             "#7201a8"
            ],
            [
             0.3333333333333333,
             "#9c179e"
            ],
            [
             0.4444444444444444,
             "#bd3786"
            ],
            [
             0.5555555555555556,
             "#d8576b"
            ],
            [
             0.6666666666666666,
             "#ed7953"
            ],
            [
             0.7777777777777778,
             "#fb9f3a"
            ],
            [
             0.8888888888888888,
             "#fdca26"
            ],
            [
             1,
             "#f0f921"
            ]
           ],
           "sequentialminus": [
            [
             0,
             "#0d0887"
            ],
            [
             0.1111111111111111,
             "#46039f"
            ],
            [
             0.2222222222222222,
             "#7201a8"
            ],
            [
             0.3333333333333333,
             "#9c179e"
            ],
            [
             0.4444444444444444,
             "#bd3786"
            ],
            [
             0.5555555555555556,
             "#d8576b"
            ],
            [
             0.6666666666666666,
             "#ed7953"
            ],
            [
             0.7777777777777778,
             "#fb9f3a"
            ],
            [
             0.8888888888888888,
             "#fdca26"
            ],
            [
             1,
             "#f0f921"
            ]
           ]
          },
          "colorway": [
           "#636efa",
           "#EF553B",
           "#00cc96",
           "#ab63fa",
           "#FFA15A",
           "#19d3f3",
           "#FF6692",
           "#B6E880",
           "#FF97FF",
           "#FECB52"
          ],
          "font": {
           "color": "#2a3f5f"
          },
          "geo": {
           "bgcolor": "white",
           "lakecolor": "white",
           "landcolor": "#E5ECF6",
           "showlakes": true,
           "showland": true,
           "subunitcolor": "white"
          },
          "hoverlabel": {
           "align": "left"
          },
          "hovermode": "closest",
          "mapbox": {
           "style": "light"
          },
          "paper_bgcolor": "white",
          "plot_bgcolor": "#E5ECF6",
          "polar": {
           "angularaxis": {
            "gridcolor": "white",
            "linecolor": "white",
            "ticks": ""
           },
           "bgcolor": "#E5ECF6",
           "radialaxis": {
            "gridcolor": "white",
            "linecolor": "white",
            "ticks": ""
           }
          },
          "scene": {
           "xaxis": {
            "backgroundcolor": "#E5ECF6",
            "gridcolor": "white",
            "gridwidth": 2,
            "linecolor": "white",
            "showbackground": true,
            "ticks": "",
            "zerolinecolor": "white"
           },
           "yaxis": {
            "backgroundcolor": "#E5ECF6",
            "gridcolor": "white",
            "gridwidth": 2,
            "linecolor": "white",
            "showbackground": true,
            "ticks": "",
            "zerolinecolor": "white"
           },
           "zaxis": {
            "backgroundcolor": "#E5ECF6",
            "gridcolor": "white",
            "gridwidth": 2,
            "linecolor": "white",
            "showbackground": true,
            "ticks": "",
            "zerolinecolor": "white"
           }
          },
          "shapedefaults": {
           "line": {
            "color": "#2a3f5f"
           }
          },
          "ternary": {
           "aaxis": {
            "gridcolor": "white",
            "linecolor": "white",
            "ticks": ""
           },
           "baxis": {
            "gridcolor": "white",
            "linecolor": "white",
            "ticks": ""
           },
           "bgcolor": "#E5ECF6",
           "caxis": {
            "gridcolor": "white",
            "linecolor": "white",
            "ticks": ""
           }
          },
          "title": {
           "x": 0.05
          },
          "xaxis": {
           "automargin": true,
           "gridcolor": "white",
           "linecolor": "white",
           "ticks": "",
           "title": {
            "standoff": 15
           },
           "zerolinecolor": "white",
           "zerolinewidth": 2
          },
          "yaxis": {
           "automargin": true,
           "gridcolor": "white",
           "linecolor": "white",
           "ticks": "",
           "title": {
            "standoff": 15
           },
           "zerolinecolor": "white",
           "zerolinewidth": 2
          }
         }
        },
        "title": {
         "text": "<b>author_posting_freq_group</b> frequency distribution"
        },
        "xaxis": {
         "autorange": true,
         "range": [
          -0.5,
          6.5
         ],
         "rangemode": "tozero",
         "type": "category"
        },
        "yaxis": {
         "autorange": true,
         "gridcolor": "#eee",
         "range": [
          0,
          250466.31578947368
         ],
         "rangemode": "tozero",
         "title": {
          "text": "frequency"
         },
         "type": "linear"
        }
       }
      },
      "text/html": [
       "<div>                            <div id=\"fac43b4f-6aeb-4b63-9580-f5e30ce5b700\" class=\"plotly-graph-div\" style=\"height:400px; width:100%;\"></div>            <script type=\"text/javascript\">                require([\"plotly\"], function(Plotly) {                    window.PLOTLYENV=window.PLOTLYENV || {};                                    if (document.getElementById(\"fac43b4f-6aeb-4b63-9580-f5e30ce5b700\")) {                    Plotly.newPlot(                        \"fac43b4f-6aeb-4b63-9580-f5e30ce5b700\",                        [{\"hovertemplate\":\"Value: %{x}<br>Frequency: %{y:,}<br><extra></extra>\",\"hovertext\":[\"one-time poster\",\"posted 2-3 times\",\"posted 4-10 times\",\"posted 11-50 times\",\"posted 51-100 times\",\"posted 101-200 times\",\"posted over 200 times\"],\"x\":[\"one-time poster\",\"posted 2-3 times\",\"posted 4-10 times\",\"posted 11-50 times\",\"posted 51-100 times\",\"posted 101-200 times\",\"posted over 200 times\"],\"y\":[237943,127861,83020,38318,3563,905,766],\"type\":\"bar\"}],                        {\"template\":{\"data\":{\"histogram2dcontour\":[{\"type\":\"histogram2dcontour\",\"colorbar\":{\"outlinewidth\":0,\"ticks\":\"\"},\"colorscale\":[[0.0,\"#0d0887\"],[0.1111111111111111,\"#46039f\"],[0.2222222222222222,\"#7201a8\"],[0.3333333333333333,\"#9c179e\"],[0.4444444444444444,\"#bd3786\"],[0.5555555555555556,\"#d8576b\"],[0.6666666666666666,\"#ed7953\"],[0.7777777777777778,\"#fb9f3a\"],[0.8888888888888888,\"#fdca26\"],[1.0,\"#f0f921\"]]}],\"choropleth\":[{\"type\":\"choropleth\",\"colorbar\":{\"outlinewidth\":0,\"ticks\":\"\"}}],\"histogram2d\":[{\"type\":\"histogram2d\",\"colorbar\":{\"outlinewidth\":0,\"ticks\":\"\"},\"colorscale\":[[0.0,\"#0d0887\"],[0.1111111111111111,\"#46039f\"],[0.2222222222222222,\"#7201a8\"],[0.3333333333333333,\"#9c179e\"],[0.4444444444444444,\"#bd3786\"],[0.5555555555555556,\"#d8576b\"],[0.6666666666666666,\"#ed7953\"],[0.7777777777777778,\"#fb9f3a\"],[0.8888888888888888,\"#fdca26\"],[1.0,\"#f0f921\"]]}],\"heatmap\":[{\"type\":\"heatmap\",\"colorbar\":{\"outlinewidth\":0,\"ticks\":\"\"},\"colorscale\":[[0.0,\"#0d0887\"],[0.1111111111111111,\"#46039f\"],[0.2222222222222222,\"#7201a8\"],[0.3333333333333333,\"#9c179e\"],[0.4444444444444444,\"#bd3786\"],[0.5555555555555556,\"#d8576b\"],[0.6666666666666666,\"#ed7953\"],[0.7777777777777778,\"#fb9f3a\"],[0.8888888888888888,\"#fdca26\"],[1.0,\"#f0f921\"]]}],\"heatmapgl\":[{\"type\":\"heatmapgl\",\"colorbar\":{\"outlinewidth\":0,\"ticks\":\"\"},\"colorscale\":[[0.0,\"#0d0887\"],[0.1111111111111111,\"#46039f\"],[0.2222222222222222,\"#7201a8\"],[0.3333333333333333,\"#9c179e\"],[0.4444444444444444,\"#bd3786\"],[0.5555555555555556,\"#d8576b\"],[0.6666666666666666,\"#ed7953\"],[0.7777777777777778,\"#fb9f3a\"],[0.8888888888888888,\"#fdca26\"],[1.0,\"#f0f921\"]]}],\"contourcarpet\":[{\"type\":\"contourcarpet\",\"colorbar\":{\"outlinewidth\":0,\"ticks\":\"\"}}],\"contour\":[{\"type\":\"contour\",\"colorbar\":{\"outlinewidth\":0,\"ticks\":\"\"},\"colorscale\":[[0.0,\"#0d0887\"],[0.1111111111111111,\"#46039f\"],[0.2222222222222222,\"#7201a8\"],[0.3333333333333333,\"#9c179e\"],[0.4444444444444444,\"#bd3786\"],[0.5555555555555556,\"#d8576b\"],[0.6666666666666666,\"#ed7953\"],[0.7777777777777778,\"#fb9f3a\"],[0.8888888888888888,\"#fdca26\"],[1.0,\"#f0f921\"]]}],\"surface\":[{\"type\":\"surface\",\"colorbar\":{\"outlinewidth\":0,\"ticks\":\"\"},\"colorscale\":[[0.0,\"#0d0887\"],[0.1111111111111111,\"#46039f\"],[0.2222222222222222,\"#7201a8\"],[0.3333333333333333,\"#9c179e\"],[0.4444444444444444,\"#bd3786\"],[0.5555555555555556,\"#d8576b\"],[0.6666666666666666,\"#ed7953\"],[0.7777777777777778,\"#fb9f3a\"],[0.8888888888888888,\"#fdca26\"],[1.0,\"#f0f921\"]]}],\"mesh3d\":[{\"type\":\"mesh3d\",\"colorbar\":{\"outlinewidth\":0,\"ticks\":\"\"}}],\"scatter\":[{\"fillpattern\":{\"fillmode\":\"overlay\",\"size\":10,\"solidity\":0.2},\"type\":\"scatter\"}],\"parcoords\":[{\"type\":\"parcoords\",\"line\":{\"colorbar\":{\"outlinewidth\":0,\"ticks\":\"\"}}}],\"scatterpolargl\":[{\"type\":\"scatterpolargl\",\"marker\":{\"colorbar\":{\"outlinewidth\":0,\"ticks\":\"\"}}}],\"bar\":[{\"error_x\":{\"color\":\"#2a3f5f\"},\"error_y\":{\"color\":\"#2a3f5f\"},\"marker\":{\"line\":{\"color\":\"#E5ECF6\",\"width\":0.5},\"pattern\":{\"fillmode\":\"overlay\",\"size\":10,\"solidity\":0.2}},\"type\":\"bar\"}],\"scattergeo\":[{\"type\":\"scattergeo\",\"marker\":{\"colorbar\":{\"outlinewidth\":0,\"ticks\":\"\"}}}],\"scatterpolar\":[{\"type\":\"scatterpolar\",\"marker\":{\"colorbar\":{\"outlinewidth\":0,\"ticks\":\"\"}}}],\"histogram\":[{\"marker\":{\"pattern\":{\"fillmode\":\"overlay\",\"size\":10,\"solidity\":0.2}},\"type\":\"histogram\"}],\"scattergl\":[{\"type\":\"scattergl\",\"marker\":{\"colorbar\":{\"outlinewidth\":0,\"ticks\":\"\"}}}],\"scatter3d\":[{\"type\":\"scatter3d\",\"line\":{\"colorbar\":{\"outlinewidth\":0,\"ticks\":\"\"}},\"marker\":{\"colorbar\":{\"outlinewidth\":0,\"ticks\":\"\"}}}],\"scattermapbox\":[{\"type\":\"scattermapbox\",\"marker\":{\"colorbar\":{\"outlinewidth\":0,\"ticks\":\"\"}}}],\"scatterternary\":[{\"type\":\"scatterternary\",\"marker\":{\"colorbar\":{\"outlinewidth\":0,\"ticks\":\"\"}}}],\"scattercarpet\":[{\"type\":\"scattercarpet\",\"marker\":{\"colorbar\":{\"outlinewidth\":0,\"ticks\":\"\"}}}],\"carpet\":[{\"aaxis\":{\"endlinecolor\":\"#2a3f5f\",\"gridcolor\":\"white\",\"linecolor\":\"white\",\"minorgridcolor\":\"white\",\"startlinecolor\":\"#2a3f5f\"},\"baxis\":{\"endlinecolor\":\"#2a3f5f\",\"gridcolor\":\"white\",\"linecolor\":\"white\",\"minorgridcolor\":\"white\",\"startlinecolor\":\"#2a3f5f\"},\"type\":\"carpet\"}],\"table\":[{\"cells\":{\"fill\":{\"color\":\"#EBF0F8\"},\"line\":{\"color\":\"white\"}},\"header\":{\"fill\":{\"color\":\"#C8D4E3\"},\"line\":{\"color\":\"white\"}},\"type\":\"table\"}],\"barpolar\":[{\"marker\":{\"line\":{\"color\":\"#E5ECF6\",\"width\":0.5},\"pattern\":{\"fillmode\":\"overlay\",\"size\":10,\"solidity\":0.2}},\"type\":\"barpolar\"}],\"pie\":[{\"automargin\":true,\"type\":\"pie\"}]},\"layout\":{\"autotypenumbers\":\"strict\",\"colorway\":[\"#636efa\",\"#EF553B\",\"#00cc96\",\"#ab63fa\",\"#FFA15A\",\"#19d3f3\",\"#FF6692\",\"#B6E880\",\"#FF97FF\",\"#FECB52\"],\"font\":{\"color\":\"#2a3f5f\"},\"hovermode\":\"closest\",\"hoverlabel\":{\"align\":\"left\"},\"paper_bgcolor\":\"white\",\"plot_bgcolor\":\"#E5ECF6\",\"polar\":{\"bgcolor\":\"#E5ECF6\",\"angularaxis\":{\"gridcolor\":\"white\",\"linecolor\":\"white\",\"ticks\":\"\"},\"radialaxis\":{\"gridcolor\":\"white\",\"linecolor\":\"white\",\"ticks\":\"\"}},\"ternary\":{\"bgcolor\":\"#E5ECF6\",\"aaxis\":{\"gridcolor\":\"white\",\"linecolor\":\"white\",\"ticks\":\"\"},\"baxis\":{\"gridcolor\":\"white\",\"linecolor\":\"white\",\"ticks\":\"\"},\"caxis\":{\"gridcolor\":\"white\",\"linecolor\":\"white\",\"ticks\":\"\"}},\"coloraxis\":{\"colorbar\":{\"outlinewidth\":0,\"ticks\":\"\"}},\"colorscale\":{\"sequential\":[[0.0,\"#0d0887\"],[0.1111111111111111,\"#46039f\"],[0.2222222222222222,\"#7201a8\"],[0.3333333333333333,\"#9c179e\"],[0.4444444444444444,\"#bd3786\"],[0.5555555555555556,\"#d8576b\"],[0.6666666666666666,\"#ed7953\"],[0.7777777777777778,\"#fb9f3a\"],[0.8888888888888888,\"#fdca26\"],[1.0,\"#f0f921\"]],\"sequentialminus\":[[0.0,\"#0d0887\"],[0.1111111111111111,\"#46039f\"],[0.2222222222222222,\"#7201a8\"],[0.3333333333333333,\"#9c179e\"],[0.4444444444444444,\"#bd3786\"],[0.5555555555555556,\"#d8576b\"],[0.6666666666666666,\"#ed7953\"],[0.7777777777777778,\"#fb9f3a\"],[0.8888888888888888,\"#fdca26\"],[1.0,\"#f0f921\"]],\"diverging\":[[0,\"#8e0152\"],[0.1,\"#c51b7d\"],[0.2,\"#de77ae\"],[0.3,\"#f1b6da\"],[0.4,\"#fde0ef\"],[0.5,\"#f7f7f7\"],[0.6,\"#e6f5d0\"],[0.7,\"#b8e186\"],[0.8,\"#7fbc41\"],[0.9,\"#4d9221\"],[1,\"#276419\"]]},\"xaxis\":{\"gridcolor\":\"white\",\"linecolor\":\"white\",\"ticks\":\"\",\"title\":{\"standoff\":15},\"zerolinecolor\":\"white\",\"automargin\":true,\"zerolinewidth\":2},\"yaxis\":{\"gridcolor\":\"white\",\"linecolor\":\"white\",\"ticks\":\"\",\"title\":{\"standoff\":15},\"zerolinecolor\":\"white\",\"automargin\":true,\"zerolinewidth\":2},\"scene\":{\"xaxis\":{\"backgroundcolor\":\"#E5ECF6\",\"gridcolor\":\"white\",\"linecolor\":\"white\",\"showbackground\":true,\"ticks\":\"\",\"zerolinecolor\":\"white\",\"gridwidth\":2},\"yaxis\":{\"backgroundcolor\":\"#E5ECF6\",\"gridcolor\":\"white\",\"linecolor\":\"white\",\"showbackground\":true,\"ticks\":\"\",\"zerolinecolor\":\"white\",\"gridwidth\":2},\"zaxis\":{\"backgroundcolor\":\"#E5ECF6\",\"gridcolor\":\"white\",\"linecolor\":\"white\",\"showbackground\":true,\"ticks\":\"\",\"zerolinecolor\":\"white\",\"gridwidth\":2}},\"shapedefaults\":{\"line\":{\"color\":\"#2a3f5f\"}},\"annotationdefaults\":{\"arrowcolor\":\"#2a3f5f\",\"arrowhead\":0,\"arrowwidth\":1},\"geo\":{\"bgcolor\":\"white\",\"landcolor\":\"#E5ECF6\",\"subunitcolor\":\"white\",\"showland\":true,\"showlakes\":true,\"lakecolor\":\"white\"},\"title\":{\"x\":0.05},\"mapbox\":{\"style\":\"light\"}}},\"yaxis\":{\"gridcolor\":\"#eee\",\"title\":{\"text\":\"frequency\"},\"rangemode\":\"tozero\"},\"xaxis\":{\"rangemode\":\"tozero\"},\"title\":{\"text\":\"<b>author_posting_freq_group</b> frequency distribution\"},\"plot_bgcolor\":\"#fff\",\"showlegend\":false,\"height\":400},                        {\"responsive\": true}                    ).then(function(){\n",
       "                            \n",
       "var gd = document.getElementById('fac43b4f-6aeb-4b63-9580-f5e30ce5b700');\n",
       "var x = new MutationObserver(function (mutations, observer) {{\n",
       "        var display = window.getComputedStyle(gd).display;\n",
       "        if (!display || display === 'none') {{\n",
       "            console.log([gd, 'removed!']);\n",
       "            Plotly.purge(gd);\n",
       "            observer.disconnect();\n",
       "        }}\n",
       "}});\n",
       "\n",
       "// Listen for the removal of the full notebook cells\n",
       "var notebookContainer = gd.closest('#notebook-container');\n",
       "if (notebookContainer) {{\n",
       "    x.observe(notebookContainer, {childList: true});\n",
       "}}\n",
       "\n",
       "// Listen for the clearing of the current output cell\n",
       "var outputEl = gd.closest('.output');\n",
       "if (outputEl) {{\n",
       "    x.observe(outputEl, {childList: true});\n",
       "}}\n",
       "\n",
       "                        })                };                });            </script>        </div>"
      ]
     },
     "metadata": {},
     "output_type": "display_data"
    }
   ],
   "source": [
    "cat_freq_plot(df, 'author_posting_freq_group', POSTING_FREQ_GROUPS_LABELS_ORDERED_LIST)"
   ]
  },
  {
   "cell_type": "code",
   "execution_count": 281,
   "id": "75db6a76-fb93-4c16-81ee-6240a4d029ac",
   "metadata": {},
   "outputs": [
    {
     "data": {
      "application/vnd.plotly.v1+json": {
       "config": {
        "plotlyServerURL": "https://plotly.com"
       },
       "data": [
        {
         "name": "AFAB",
         "type": "bar",
         "x": [
          "one-time poster",
          "posted 2-3 times",
          "posted 4-10 times",
          "posted 11-50 times",
          "posted 51-100 times",
          "posted 101-200 times",
          "posted over 200 times"
         ],
         "y": [
          63786,
          37305,
          26392,
          11023,
          764,
          250,
          254
         ]
        },
        {
         "name": "AMAB",
         "type": "bar",
         "x": [
          "one-time poster",
          "posted 2-3 times",
          "posted 4-10 times",
          "posted 11-50 times",
          "posted 51-100 times",
          "posted 101-200 times",
          "posted over 200 times"
         ],
         "y": [
          84394,
          42213,
          25762,
          12174,
          1336,
          246,
          345
         ]
        },
        {
         "name": "unknown",
         "type": "bar",
         "x": [
          "one-time poster",
          "posted 2-3 times",
          "posted 4-10 times",
          "posted 11-50 times",
          "posted 51-100 times",
          "posted 101-200 times",
          "posted over 200 times"
         ],
         "y": [
          89763,
          48343,
          30866,
          15121,
          1463,
          409,
          167
         ]
        }
       ],
       "layout": {
        "autosize": true,
        "legend": {
         "title": {
          "text": "sex:"
         }
        },
        "plot_bgcolor": "#fff",
        "template": {
         "data": {
          "bar": [
           {
            "error_x": {
             "color": "#2a3f5f"
            },
            "error_y": {
             "color": "#2a3f5f"
            },
            "marker": {
             "line": {
              "color": "#E5ECF6",
              "width": 0.5
             },
             "pattern": {
              "fillmode": "overlay",
              "size": 10,
              "solidity": 0.2
             }
            },
            "type": "bar"
           }
          ],
          "barpolar": [
           {
            "marker": {
             "line": {
              "color": "#E5ECF6",
              "width": 0.5
             },
             "pattern": {
              "fillmode": "overlay",
              "size": 10,
              "solidity": 0.2
             }
            },
            "type": "barpolar"
           }
          ],
          "carpet": [
           {
            "aaxis": {
             "endlinecolor": "#2a3f5f",
             "gridcolor": "white",
             "linecolor": "white",
             "minorgridcolor": "white",
             "startlinecolor": "#2a3f5f"
            },
            "baxis": {
             "endlinecolor": "#2a3f5f",
             "gridcolor": "white",
             "linecolor": "white",
             "minorgridcolor": "white",
             "startlinecolor": "#2a3f5f"
            },
            "type": "carpet"
           }
          ],
          "choropleth": [
           {
            "colorbar": {
             "outlinewidth": 0,
             "ticks": ""
            },
            "type": "choropleth"
           }
          ],
          "contour": [
           {
            "colorbar": {
             "outlinewidth": 0,
             "ticks": ""
            },
            "colorscale": [
             [
              0,
              "#0d0887"
             ],
             [
              0.1111111111111111,
              "#46039f"
             ],
             [
              0.2222222222222222,
              "#7201a8"
             ],
             [
              0.3333333333333333,
              "#9c179e"
             ],
             [
              0.4444444444444444,
              "#bd3786"
             ],
             [
              0.5555555555555556,
              "#d8576b"
             ],
             [
              0.6666666666666666,
              "#ed7953"
             ],
             [
              0.7777777777777778,
              "#fb9f3a"
             ],
             [
              0.8888888888888888,
              "#fdca26"
             ],
             [
              1,
              "#f0f921"
             ]
            ],
            "type": "contour"
           }
          ],
          "contourcarpet": [
           {
            "colorbar": {
             "outlinewidth": 0,
             "ticks": ""
            },
            "type": "contourcarpet"
           }
          ],
          "heatmap": [
           {
            "colorbar": {
             "outlinewidth": 0,
             "ticks": ""
            },
            "colorscale": [
             [
              0,
              "#0d0887"
             ],
             [
              0.1111111111111111,
              "#46039f"
             ],
             [
              0.2222222222222222,
              "#7201a8"
             ],
             [
              0.3333333333333333,
              "#9c179e"
             ],
             [
              0.4444444444444444,
              "#bd3786"
             ],
             [
              0.5555555555555556,
              "#d8576b"
             ],
             [
              0.6666666666666666,
              "#ed7953"
             ],
             [
              0.7777777777777778,
              "#fb9f3a"
             ],
             [
              0.8888888888888888,
              "#fdca26"
             ],
             [
              1,
              "#f0f921"
             ]
            ],
            "type": "heatmap"
           }
          ],
          "heatmapgl": [
           {
            "colorbar": {
             "outlinewidth": 0,
             "ticks": ""
            },
            "colorscale": [
             [
              0,
              "#0d0887"
             ],
             [
              0.1111111111111111,
              "#46039f"
             ],
             [
              0.2222222222222222,
              "#7201a8"
             ],
             [
              0.3333333333333333,
              "#9c179e"
             ],
             [
              0.4444444444444444,
              "#bd3786"
             ],
             [
              0.5555555555555556,
              "#d8576b"
             ],
             [
              0.6666666666666666,
              "#ed7953"
             ],
             [
              0.7777777777777778,
              "#fb9f3a"
             ],
             [
              0.8888888888888888,
              "#fdca26"
             ],
             [
              1,
              "#f0f921"
             ]
            ],
            "type": "heatmapgl"
           }
          ],
          "histogram": [
           {
            "marker": {
             "pattern": {
              "fillmode": "overlay",
              "size": 10,
              "solidity": 0.2
             }
            },
            "type": "histogram"
           }
          ],
          "histogram2d": [
           {
            "colorbar": {
             "outlinewidth": 0,
             "ticks": ""
            },
            "colorscale": [
             [
              0,
              "#0d0887"
             ],
             [
              0.1111111111111111,
              "#46039f"
             ],
             [
              0.2222222222222222,
              "#7201a8"
             ],
             [
              0.3333333333333333,
              "#9c179e"
             ],
             [
              0.4444444444444444,
              "#bd3786"
             ],
             [
              0.5555555555555556,
              "#d8576b"
             ],
             [
              0.6666666666666666,
              "#ed7953"
             ],
             [
              0.7777777777777778,
              "#fb9f3a"
             ],
             [
              0.8888888888888888,
              "#fdca26"
             ],
             [
              1,
              "#f0f921"
             ]
            ],
            "type": "histogram2d"
           }
          ],
          "histogram2dcontour": [
           {
            "colorbar": {
             "outlinewidth": 0,
             "ticks": ""
            },
            "colorscale": [
             [
              0,
              "#0d0887"
             ],
             [
              0.1111111111111111,
              "#46039f"
             ],
             [
              0.2222222222222222,
              "#7201a8"
             ],
             [
              0.3333333333333333,
              "#9c179e"
             ],
             [
              0.4444444444444444,
              "#bd3786"
             ],
             [
              0.5555555555555556,
              "#d8576b"
             ],
             [
              0.6666666666666666,
              "#ed7953"
             ],
             [
              0.7777777777777778,
              "#fb9f3a"
             ],
             [
              0.8888888888888888,
              "#fdca26"
             ],
             [
              1,
              "#f0f921"
             ]
            ],
            "type": "histogram2dcontour"
           }
          ],
          "mesh3d": [
           {
            "colorbar": {
             "outlinewidth": 0,
             "ticks": ""
            },
            "type": "mesh3d"
           }
          ],
          "parcoords": [
           {
            "line": {
             "colorbar": {
              "outlinewidth": 0,
              "ticks": ""
             }
            },
            "type": "parcoords"
           }
          ],
          "pie": [
           {
            "automargin": true,
            "type": "pie"
           }
          ],
          "scatter": [
           {
            "fillpattern": {
             "fillmode": "overlay",
             "size": 10,
             "solidity": 0.2
            },
            "type": "scatter"
           }
          ],
          "scatter3d": [
           {
            "line": {
             "colorbar": {
              "outlinewidth": 0,
              "ticks": ""
             }
            },
            "marker": {
             "colorbar": {
              "outlinewidth": 0,
              "ticks": ""
             }
            },
            "type": "scatter3d"
           }
          ],
          "scattercarpet": [
           {
            "marker": {
             "colorbar": {
              "outlinewidth": 0,
              "ticks": ""
             }
            },
            "type": "scattercarpet"
           }
          ],
          "scattergeo": [
           {
            "marker": {
             "colorbar": {
              "outlinewidth": 0,
              "ticks": ""
             }
            },
            "type": "scattergeo"
           }
          ],
          "scattergl": [
           {
            "marker": {
             "colorbar": {
              "outlinewidth": 0,
              "ticks": ""
             }
            },
            "type": "scattergl"
           }
          ],
          "scattermapbox": [
           {
            "marker": {
             "colorbar": {
              "outlinewidth": 0,
              "ticks": ""
             }
            },
            "type": "scattermapbox"
           }
          ],
          "scatterpolar": [
           {
            "marker": {
             "colorbar": {
              "outlinewidth": 0,
              "ticks": ""
             }
            },
            "type": "scatterpolar"
           }
          ],
          "scatterpolargl": [
           {
            "marker": {
             "colorbar": {
              "outlinewidth": 0,
              "ticks": ""
             }
            },
            "type": "scatterpolargl"
           }
          ],
          "scatterternary": [
           {
            "marker": {
             "colorbar": {
              "outlinewidth": 0,
              "ticks": ""
             }
            },
            "type": "scatterternary"
           }
          ],
          "surface": [
           {
            "colorbar": {
             "outlinewidth": 0,
             "ticks": ""
            },
            "colorscale": [
             [
              0,
              "#0d0887"
             ],
             [
              0.1111111111111111,
              "#46039f"
             ],
             [
              0.2222222222222222,
              "#7201a8"
             ],
             [
              0.3333333333333333,
              "#9c179e"
             ],
             [
              0.4444444444444444,
              "#bd3786"
             ],
             [
              0.5555555555555556,
              "#d8576b"
             ],
             [
              0.6666666666666666,
              "#ed7953"
             ],
             [
              0.7777777777777778,
              "#fb9f3a"
             ],
             [
              0.8888888888888888,
              "#fdca26"
             ],
             [
              1,
              "#f0f921"
             ]
            ],
            "type": "surface"
           }
          ],
          "table": [
           {
            "cells": {
             "fill": {
              "color": "#EBF0F8"
             },
             "line": {
              "color": "white"
             }
            },
            "header": {
             "fill": {
              "color": "#C8D4E3"
             },
             "line": {
              "color": "white"
             }
            },
            "type": "table"
           }
          ]
         },
         "layout": {
          "annotationdefaults": {
           "arrowcolor": "#2a3f5f",
           "arrowhead": 0,
           "arrowwidth": 1
          },
          "autotypenumbers": "strict",
          "coloraxis": {
           "colorbar": {
            "outlinewidth": 0,
            "ticks": ""
           }
          },
          "colorscale": {
           "diverging": [
            [
             0,
             "#8e0152"
            ],
            [
             0.1,
             "#c51b7d"
            ],
            [
             0.2,
             "#de77ae"
            ],
            [
             0.3,
             "#f1b6da"
            ],
            [
             0.4,
             "#fde0ef"
            ],
            [
             0.5,
             "#f7f7f7"
            ],
            [
             0.6,
             "#e6f5d0"
            ],
            [
             0.7,
             "#b8e186"
            ],
            [
             0.8,
             "#7fbc41"
            ],
            [
             0.9,
             "#4d9221"
            ],
            [
             1,
             "#276419"
            ]
           ],
           "sequential": [
            [
             0,
             "#0d0887"
            ],
            [
             0.1111111111111111,
             "#46039f"
            ],
            [
             0.2222222222222222,
             "#7201a8"
            ],
            [
             0.3333333333333333,
             "#9c179e"
            ],
            [
             0.4444444444444444,
             "#bd3786"
            ],
            [
             0.5555555555555556,
             "#d8576b"
            ],
            [
             0.6666666666666666,
             "#ed7953"
            ],
            [
             0.7777777777777778,
             "#fb9f3a"
            ],
            [
             0.8888888888888888,
             "#fdca26"
            ],
            [
             1,
             "#f0f921"
            ]
           ],
           "sequentialminus": [
            [
             0,
             "#0d0887"
            ],
            [
             0.1111111111111111,
             "#46039f"
            ],
            [
             0.2222222222222222,
             "#7201a8"
            ],
            [
             0.3333333333333333,
             "#9c179e"
            ],
            [
             0.4444444444444444,
             "#bd3786"
            ],
            [
             0.5555555555555556,
             "#d8576b"
            ],
            [
             0.6666666666666666,
             "#ed7953"
            ],
            [
             0.7777777777777778,
             "#fb9f3a"
            ],
            [
             0.8888888888888888,
             "#fdca26"
            ],
            [
             1,
             "#f0f921"
            ]
           ]
          },
          "colorway": [
           "#636efa",
           "#EF553B",
           "#00cc96",
           "#ab63fa",
           "#FFA15A",
           "#19d3f3",
           "#FF6692",
           "#B6E880",
           "#FF97FF",
           "#FECB52"
          ],
          "font": {
           "color": "#2a3f5f"
          },
          "geo": {
           "bgcolor": "white",
           "lakecolor": "white",
           "landcolor": "#E5ECF6",
           "showlakes": true,
           "showland": true,
           "subunitcolor": "white"
          },
          "hoverlabel": {
           "align": "left"
          },
          "hovermode": "closest",
          "mapbox": {
           "style": "light"
          },
          "paper_bgcolor": "white",
          "plot_bgcolor": "#E5ECF6",
          "polar": {
           "angularaxis": {
            "gridcolor": "white",
            "linecolor": "white",
            "ticks": ""
           },
           "bgcolor": "#E5ECF6",
           "radialaxis": {
            "gridcolor": "white",
            "linecolor": "white",
            "ticks": ""
           }
          },
          "scene": {
           "xaxis": {
            "backgroundcolor": "#E5ECF6",
            "gridcolor": "white",
            "gridwidth": 2,
            "linecolor": "white",
            "showbackground": true,
            "ticks": "",
            "zerolinecolor": "white"
           },
           "yaxis": {
            "backgroundcolor": "#E5ECF6",
            "gridcolor": "white",
            "gridwidth": 2,
            "linecolor": "white",
            "showbackground": true,
            "ticks": "",
            "zerolinecolor": "white"
           },
           "zaxis": {
            "backgroundcolor": "#E5ECF6",
            "gridcolor": "white",
            "gridwidth": 2,
            "linecolor": "white",
            "showbackground": true,
            "ticks": "",
            "zerolinecolor": "white"
           }
          },
          "shapedefaults": {
           "line": {
            "color": "#2a3f5f"
           }
          },
          "ternary": {
           "aaxis": {
            "gridcolor": "white",
            "linecolor": "white",
            "ticks": ""
           },
           "baxis": {
            "gridcolor": "white",
            "linecolor": "white",
            "ticks": ""
           },
           "bgcolor": "#E5ECF6",
           "caxis": {
            "gridcolor": "white",
            "linecolor": "white",
            "ticks": ""
           }
          },
          "title": {
           "x": 0.05
          },
          "xaxis": {
           "automargin": true,
           "gridcolor": "white",
           "linecolor": "white",
           "ticks": "",
           "title": {
            "standoff": 15
           },
           "zerolinecolor": "white",
           "zerolinewidth": 2
          },
          "yaxis": {
           "automargin": true,
           "gridcolor": "white",
           "linecolor": "white",
           "ticks": "",
           "title": {
            "standoff": 15
           },
           "zerolinecolor": "white",
           "zerolinewidth": 2
          }
         }
        },
        "title": {
         "text": "Crosstab frequency distribution of <b>author_posting_freq_group</b> by <b>sex</b>"
        },
        "xaxis": {
         "autorange": true,
         "range": [
          -0.5,
          6.5
         ],
         "rangemode": "tozero",
         "showspikes": false,
         "type": "category"
        },
        "yaxis": {
         "autorange": true,
         "gridcolor": "#eee",
         "range": [
          0,
          94487.36842105263
         ],
         "rangemode": "tozero",
         "showspikes": false,
         "title": {
          "text": "frequency"
         },
         "type": "linear"
        }
       }
      },
      "text/html": [
       "<div>                            <div id=\"2f9d25d1-0da6-46d1-a3ef-6f47d4033434\" class=\"plotly-graph-div\" style=\"height:400px; width:100%;\"></div>            <script type=\"text/javascript\">                require([\"plotly\"], function(Plotly) {                    window.PLOTLYENV=window.PLOTLYENV || {};                                    if (document.getElementById(\"2f9d25d1-0da6-46d1-a3ef-6f47d4033434\")) {                    Plotly.newPlot(                        \"2f9d25d1-0da6-46d1-a3ef-6f47d4033434\",                        [{\"name\":\"AFAB\",\"x\":[\"one-time poster\",\"posted 2-3 times\",\"posted 4-10 times\",\"posted 11-50 times\",\"posted 51-100 times\",\"posted 101-200 times\",\"posted over 200 times\"],\"y\":[63786,37305,26392,11023,764,250,254],\"type\":\"bar\"},{\"name\":\"AMAB\",\"x\":[\"one-time poster\",\"posted 2-3 times\",\"posted 4-10 times\",\"posted 11-50 times\",\"posted 51-100 times\",\"posted 101-200 times\",\"posted over 200 times\"],\"y\":[84394,42213,25762,12174,1336,246,345],\"type\":\"bar\"},{\"name\":\"unknown\",\"x\":[\"one-time poster\",\"posted 2-3 times\",\"posted 4-10 times\",\"posted 11-50 times\",\"posted 51-100 times\",\"posted 101-200 times\",\"posted over 200 times\"],\"y\":[89763,48343,30866,15121,1463,409,167],\"type\":\"bar\"}],                        {\"template\":{\"data\":{\"histogram2dcontour\":[{\"type\":\"histogram2dcontour\",\"colorbar\":{\"outlinewidth\":0,\"ticks\":\"\"},\"colorscale\":[[0.0,\"#0d0887\"],[0.1111111111111111,\"#46039f\"],[0.2222222222222222,\"#7201a8\"],[0.3333333333333333,\"#9c179e\"],[0.4444444444444444,\"#bd3786\"],[0.5555555555555556,\"#d8576b\"],[0.6666666666666666,\"#ed7953\"],[0.7777777777777778,\"#fb9f3a\"],[0.8888888888888888,\"#fdca26\"],[1.0,\"#f0f921\"]]}],\"choropleth\":[{\"type\":\"choropleth\",\"colorbar\":{\"outlinewidth\":0,\"ticks\":\"\"}}],\"histogram2d\":[{\"type\":\"histogram2d\",\"colorbar\":{\"outlinewidth\":0,\"ticks\":\"\"},\"colorscale\":[[0.0,\"#0d0887\"],[0.1111111111111111,\"#46039f\"],[0.2222222222222222,\"#7201a8\"],[0.3333333333333333,\"#9c179e\"],[0.4444444444444444,\"#bd3786\"],[0.5555555555555556,\"#d8576b\"],[0.6666666666666666,\"#ed7953\"],[0.7777777777777778,\"#fb9f3a\"],[0.8888888888888888,\"#fdca26\"],[1.0,\"#f0f921\"]]}],\"heatmap\":[{\"type\":\"heatmap\",\"colorbar\":{\"outlinewidth\":0,\"ticks\":\"\"},\"colorscale\":[[0.0,\"#0d0887\"],[0.1111111111111111,\"#46039f\"],[0.2222222222222222,\"#7201a8\"],[0.3333333333333333,\"#9c179e\"],[0.4444444444444444,\"#bd3786\"],[0.5555555555555556,\"#d8576b\"],[0.6666666666666666,\"#ed7953\"],[0.7777777777777778,\"#fb9f3a\"],[0.8888888888888888,\"#fdca26\"],[1.0,\"#f0f921\"]]}],\"heatmapgl\":[{\"type\":\"heatmapgl\",\"colorbar\":{\"outlinewidth\":0,\"ticks\":\"\"},\"colorscale\":[[0.0,\"#0d0887\"],[0.1111111111111111,\"#46039f\"],[0.2222222222222222,\"#7201a8\"],[0.3333333333333333,\"#9c179e\"],[0.4444444444444444,\"#bd3786\"],[0.5555555555555556,\"#d8576b\"],[0.6666666666666666,\"#ed7953\"],[0.7777777777777778,\"#fb9f3a\"],[0.8888888888888888,\"#fdca26\"],[1.0,\"#f0f921\"]]}],\"contourcarpet\":[{\"type\":\"contourcarpet\",\"colorbar\":{\"outlinewidth\":0,\"ticks\":\"\"}}],\"contour\":[{\"type\":\"contour\",\"colorbar\":{\"outlinewidth\":0,\"ticks\":\"\"},\"colorscale\":[[0.0,\"#0d0887\"],[0.1111111111111111,\"#46039f\"],[0.2222222222222222,\"#7201a8\"],[0.3333333333333333,\"#9c179e\"],[0.4444444444444444,\"#bd3786\"],[0.5555555555555556,\"#d8576b\"],[0.6666666666666666,\"#ed7953\"],[0.7777777777777778,\"#fb9f3a\"],[0.8888888888888888,\"#fdca26\"],[1.0,\"#f0f921\"]]}],\"surface\":[{\"type\":\"surface\",\"colorbar\":{\"outlinewidth\":0,\"ticks\":\"\"},\"colorscale\":[[0.0,\"#0d0887\"],[0.1111111111111111,\"#46039f\"],[0.2222222222222222,\"#7201a8\"],[0.3333333333333333,\"#9c179e\"],[0.4444444444444444,\"#bd3786\"],[0.5555555555555556,\"#d8576b\"],[0.6666666666666666,\"#ed7953\"],[0.7777777777777778,\"#fb9f3a\"],[0.8888888888888888,\"#fdca26\"],[1.0,\"#f0f921\"]]}],\"mesh3d\":[{\"type\":\"mesh3d\",\"colorbar\":{\"outlinewidth\":0,\"ticks\":\"\"}}],\"scatter\":[{\"fillpattern\":{\"fillmode\":\"overlay\",\"size\":10,\"solidity\":0.2},\"type\":\"scatter\"}],\"parcoords\":[{\"type\":\"parcoords\",\"line\":{\"colorbar\":{\"outlinewidth\":0,\"ticks\":\"\"}}}],\"scatterpolargl\":[{\"type\":\"scatterpolargl\",\"marker\":{\"colorbar\":{\"outlinewidth\":0,\"ticks\":\"\"}}}],\"bar\":[{\"error_x\":{\"color\":\"#2a3f5f\"},\"error_y\":{\"color\":\"#2a3f5f\"},\"marker\":{\"line\":{\"color\":\"#E5ECF6\",\"width\":0.5},\"pattern\":{\"fillmode\":\"overlay\",\"size\":10,\"solidity\":0.2}},\"type\":\"bar\"}],\"scattergeo\":[{\"type\":\"scattergeo\",\"marker\":{\"colorbar\":{\"outlinewidth\":0,\"ticks\":\"\"}}}],\"scatterpolar\":[{\"type\":\"scatterpolar\",\"marker\":{\"colorbar\":{\"outlinewidth\":0,\"ticks\":\"\"}}}],\"histogram\":[{\"marker\":{\"pattern\":{\"fillmode\":\"overlay\",\"size\":10,\"solidity\":0.2}},\"type\":\"histogram\"}],\"scattergl\":[{\"type\":\"scattergl\",\"marker\":{\"colorbar\":{\"outlinewidth\":0,\"ticks\":\"\"}}}],\"scatter3d\":[{\"type\":\"scatter3d\",\"line\":{\"colorbar\":{\"outlinewidth\":0,\"ticks\":\"\"}},\"marker\":{\"colorbar\":{\"outlinewidth\":0,\"ticks\":\"\"}}}],\"scattermapbox\":[{\"type\":\"scattermapbox\",\"marker\":{\"colorbar\":{\"outlinewidth\":0,\"ticks\":\"\"}}}],\"scatterternary\":[{\"type\":\"scatterternary\",\"marker\":{\"colorbar\":{\"outlinewidth\":0,\"ticks\":\"\"}}}],\"scattercarpet\":[{\"type\":\"scattercarpet\",\"marker\":{\"colorbar\":{\"outlinewidth\":0,\"ticks\":\"\"}}}],\"carpet\":[{\"aaxis\":{\"endlinecolor\":\"#2a3f5f\",\"gridcolor\":\"white\",\"linecolor\":\"white\",\"minorgridcolor\":\"white\",\"startlinecolor\":\"#2a3f5f\"},\"baxis\":{\"endlinecolor\":\"#2a3f5f\",\"gridcolor\":\"white\",\"linecolor\":\"white\",\"minorgridcolor\":\"white\",\"startlinecolor\":\"#2a3f5f\"},\"type\":\"carpet\"}],\"table\":[{\"cells\":{\"fill\":{\"color\":\"#EBF0F8\"},\"line\":{\"color\":\"white\"}},\"header\":{\"fill\":{\"color\":\"#C8D4E3\"},\"line\":{\"color\":\"white\"}},\"type\":\"table\"}],\"barpolar\":[{\"marker\":{\"line\":{\"color\":\"#E5ECF6\",\"width\":0.5},\"pattern\":{\"fillmode\":\"overlay\",\"size\":10,\"solidity\":0.2}},\"type\":\"barpolar\"}],\"pie\":[{\"automargin\":true,\"type\":\"pie\"}]},\"layout\":{\"autotypenumbers\":\"strict\",\"colorway\":[\"#636efa\",\"#EF553B\",\"#00cc96\",\"#ab63fa\",\"#FFA15A\",\"#19d3f3\",\"#FF6692\",\"#B6E880\",\"#FF97FF\",\"#FECB52\"],\"font\":{\"color\":\"#2a3f5f\"},\"hovermode\":\"closest\",\"hoverlabel\":{\"align\":\"left\"},\"paper_bgcolor\":\"white\",\"plot_bgcolor\":\"#E5ECF6\",\"polar\":{\"bgcolor\":\"#E5ECF6\",\"angularaxis\":{\"gridcolor\":\"white\",\"linecolor\":\"white\",\"ticks\":\"\"},\"radialaxis\":{\"gridcolor\":\"white\",\"linecolor\":\"white\",\"ticks\":\"\"}},\"ternary\":{\"bgcolor\":\"#E5ECF6\",\"aaxis\":{\"gridcolor\":\"white\",\"linecolor\":\"white\",\"ticks\":\"\"},\"baxis\":{\"gridcolor\":\"white\",\"linecolor\":\"white\",\"ticks\":\"\"},\"caxis\":{\"gridcolor\":\"white\",\"linecolor\":\"white\",\"ticks\":\"\"}},\"coloraxis\":{\"colorbar\":{\"outlinewidth\":0,\"ticks\":\"\"}},\"colorscale\":{\"sequential\":[[0.0,\"#0d0887\"],[0.1111111111111111,\"#46039f\"],[0.2222222222222222,\"#7201a8\"],[0.3333333333333333,\"#9c179e\"],[0.4444444444444444,\"#bd3786\"],[0.5555555555555556,\"#d8576b\"],[0.6666666666666666,\"#ed7953\"],[0.7777777777777778,\"#fb9f3a\"],[0.8888888888888888,\"#fdca26\"],[1.0,\"#f0f921\"]],\"sequentialminus\":[[0.0,\"#0d0887\"],[0.1111111111111111,\"#46039f\"],[0.2222222222222222,\"#7201a8\"],[0.3333333333333333,\"#9c179e\"],[0.4444444444444444,\"#bd3786\"],[0.5555555555555556,\"#d8576b\"],[0.6666666666666666,\"#ed7953\"],[0.7777777777777778,\"#fb9f3a\"],[0.8888888888888888,\"#fdca26\"],[1.0,\"#f0f921\"]],\"diverging\":[[0,\"#8e0152\"],[0.1,\"#c51b7d\"],[0.2,\"#de77ae\"],[0.3,\"#f1b6da\"],[0.4,\"#fde0ef\"],[0.5,\"#f7f7f7\"],[0.6,\"#e6f5d0\"],[0.7,\"#b8e186\"],[0.8,\"#7fbc41\"],[0.9,\"#4d9221\"],[1,\"#276419\"]]},\"xaxis\":{\"gridcolor\":\"white\",\"linecolor\":\"white\",\"ticks\":\"\",\"title\":{\"standoff\":15},\"zerolinecolor\":\"white\",\"automargin\":true,\"zerolinewidth\":2},\"yaxis\":{\"gridcolor\":\"white\",\"linecolor\":\"white\",\"ticks\":\"\",\"title\":{\"standoff\":15},\"zerolinecolor\":\"white\",\"automargin\":true,\"zerolinewidth\":2},\"scene\":{\"xaxis\":{\"backgroundcolor\":\"#E5ECF6\",\"gridcolor\":\"white\",\"linecolor\":\"white\",\"showbackground\":true,\"ticks\":\"\",\"zerolinecolor\":\"white\",\"gridwidth\":2},\"yaxis\":{\"backgroundcolor\":\"#E5ECF6\",\"gridcolor\":\"white\",\"linecolor\":\"white\",\"showbackground\":true,\"ticks\":\"\",\"zerolinecolor\":\"white\",\"gridwidth\":2},\"zaxis\":{\"backgroundcolor\":\"#E5ECF6\",\"gridcolor\":\"white\",\"linecolor\":\"white\",\"showbackground\":true,\"ticks\":\"\",\"zerolinecolor\":\"white\",\"gridwidth\":2}},\"shapedefaults\":{\"line\":{\"color\":\"#2a3f5f\"}},\"annotationdefaults\":{\"arrowcolor\":\"#2a3f5f\",\"arrowhead\":0,\"arrowwidth\":1},\"geo\":{\"bgcolor\":\"white\",\"landcolor\":\"#E5ECF6\",\"subunitcolor\":\"white\",\"showland\":true,\"showlakes\":true,\"lakecolor\":\"white\"},\"title\":{\"x\":0.05},\"mapbox\":{\"style\":\"light\"}}},\"yaxis\":{\"gridcolor\":\"#eee\",\"title\":{\"text\":\"frequency\"},\"rangemode\":\"tozero\"},\"xaxis\":{\"rangemode\":\"tozero\"},\"legend\":{\"title\":{\"text\":\"sex:\"}},\"title\":{\"text\":\"Crosstab frequency distribution of <b>author_posting_freq_group</b> by <b>sex</b>\"},\"plot_bgcolor\":\"#fff\",\"height\":400},                        {\"responsive\": true}                    ).then(function(){\n",
       "                            \n",
       "var gd = document.getElementById('2f9d25d1-0da6-46d1-a3ef-6f47d4033434');\n",
       "var x = new MutationObserver(function (mutations, observer) {{\n",
       "        var display = window.getComputedStyle(gd).display;\n",
       "        if (!display || display === 'none') {{\n",
       "            console.log([gd, 'removed!']);\n",
       "            Plotly.purge(gd);\n",
       "            observer.disconnect();\n",
       "        }}\n",
       "}});\n",
       "\n",
       "// Listen for the removal of the full notebook cells\n",
       "var notebookContainer = gd.closest('#notebook-container');\n",
       "if (notebookContainer) {{\n",
       "    x.observe(notebookContainer, {childList: true});\n",
       "}}\n",
       "\n",
       "// Listen for the clearing of the current output cell\n",
       "var outputEl = gd.closest('.output');\n",
       "if (outputEl) {{\n",
       "    x.observe(outputEl, {childList: true});\n",
       "}}\n",
       "\n",
       "                        })                };                });            </script>        </div>"
      ]
     },
     "metadata": {},
     "output_type": "display_data"
    }
   ],
   "source": [
    "cat_crosstab_freq_plot(\n",
    "    df, \n",
    "    'author_posting_freq_group', POSTING_FREQ_GROUPS_LABELS_ORDERED_LIST, \n",
    "    'sex', SEX_LABELS_ORDERED_LIST, \n",
    ")"
   ]
  },
  {
   "cell_type": "code",
   "execution_count": null,
   "id": "a6b3163f-6946-465d-9b16-991628074bae",
   "metadata": {},
   "outputs": [],
   "source": []
  },
  {
   "cell_type": "code",
   "execution_count": 284,
   "id": "e994a199-5ef8-471a-8ce0-a8547a06145a",
   "metadata": {},
   "outputs": [
    {
     "data": {
      "text/html": [
       "<div>\n",
       "<style scoped>\n",
       "    .dataframe tbody tr th:only-of-type {\n",
       "        vertical-align: middle;\n",
       "    }\n",
       "\n",
       "    .dataframe tbody tr th {\n",
       "        vertical-align: top;\n",
       "    }\n",
       "\n",
       "    .dataframe thead th {\n",
       "        text-align: right;\n",
       "    }\n",
       "</style>\n",
       "<table border=\"1\" class=\"dataframe\">\n",
       "  <thead>\n",
       "    <tr style=\"text-align: right;\">\n",
       "      <th>author_posting_freq_group</th>\n",
       "      <th>one-time poster</th>\n",
       "      <th>posted 2-3 times</th>\n",
       "      <th>posted 4-10 times</th>\n",
       "      <th>posted 11-50 times</th>\n",
       "      <th>posted 51-100 times</th>\n",
       "      <th>posted 101-200 times</th>\n",
       "      <th>posted over 200 times</th>\n",
       "    </tr>\n",
       "    <tr>\n",
       "      <th>age_group</th>\n",
       "      <th></th>\n",
       "      <th></th>\n",
       "      <th></th>\n",
       "      <th></th>\n",
       "      <th></th>\n",
       "      <th></th>\n",
       "      <th></th>\n",
       "    </tr>\n",
       "  </thead>\n",
       "  <tbody>\n",
       "    <tr>\n",
       "      <th>children (&lt; 13 years)</th>\n",
       "      <td>0.007074</td>\n",
       "      <td>0.003625</td>\n",
       "      <td>0.002332</td>\n",
       "      <td>0.000839</td>\n",
       "      <td>0.000061</td>\n",
       "      <td>0.000016</td>\n",
       "      <td>0.000016</td>\n",
       "    </tr>\n",
       "    <tr>\n",
       "      <th>adolescents (13 - 17 years)</th>\n",
       "      <td>0.048936</td>\n",
       "      <td>0.024857</td>\n",
       "      <td>0.014595</td>\n",
       "      <td>0.005396</td>\n",
       "      <td>0.000045</td>\n",
       "      <td>0.000002</td>\n",
       "      <td>0.000037</td>\n",
       "    </tr>\n",
       "    <tr>\n",
       "      <th>young adulthood (18 - 26 years)</th>\n",
       "      <td>0.211716</td>\n",
       "      <td>0.116385</td>\n",
       "      <td>0.079039</td>\n",
       "      <td>0.037504</td>\n",
       "      <td>0.003599</td>\n",
       "      <td>0.001176</td>\n",
       "      <td>0.001186</td>\n",
       "    </tr>\n",
       "    <tr>\n",
       "      <th>30-ish (27 - 34 years)</th>\n",
       "      <td>0.085676</td>\n",
       "      <td>0.047464</td>\n",
       "      <td>0.032847</td>\n",
       "      <td>0.016307</td>\n",
       "      <td>0.001676</td>\n",
       "      <td>0.000130</td>\n",
       "      <td>0.000061</td>\n",
       "    </tr>\n",
       "    <tr>\n",
       "      <th>early middle age (35 - 44 years)</th>\n",
       "      <td>0.024378</td>\n",
       "      <td>0.013244</td>\n",
       "      <td>0.008733</td>\n",
       "      <td>0.003883</td>\n",
       "      <td>0.000583</td>\n",
       "      <td>0.000002</td>\n",
       "      <td>0.000012</td>\n",
       "    </tr>\n",
       "    <tr>\n",
       "      <th>middle age (45 - 54 years)</th>\n",
       "      <td>0.007112</td>\n",
       "      <td>0.003654</td>\n",
       "      <td>0.002167</td>\n",
       "      <td>0.000790</td>\n",
       "      <td>0.000051</td>\n",
       "      <td>0.000004</td>\n",
       "      <td>0.000004</td>\n",
       "    </tr>\n",
       "    <tr>\n",
       "      <th>late middle age (55 - 64 years)</th>\n",
       "      <td>0.004574</td>\n",
       "      <td>0.002386</td>\n",
       "      <td>0.001645</td>\n",
       "      <td>0.000554</td>\n",
       "      <td>0.000047</td>\n",
       "      <td>0.000004</td>\n",
       "      <td>0.000004</td>\n",
       "    </tr>\n",
       "    <tr>\n",
       "      <th>older adults (&gt;= 65 years)</th>\n",
       "      <td>0.004245</td>\n",
       "      <td>0.002033</td>\n",
       "      <td>0.001255</td>\n",
       "      <td>0.000516</td>\n",
       "      <td>0.000024</td>\n",
       "      <td>0.000004</td>\n",
       "      <td>0.000002</td>\n",
       "    </tr>\n",
       "    <tr>\n",
       "      <th>unknown</th>\n",
       "      <td>0.089543</td>\n",
       "      <td>0.046034</td>\n",
       "      <td>0.025998</td>\n",
       "      <td>0.012033</td>\n",
       "      <td>0.001152</td>\n",
       "      <td>0.000500</td>\n",
       "      <td>0.000234</td>\n",
       "    </tr>\n",
       "  </tbody>\n",
       "</table>\n",
       "</div>"
      ],
      "text/plain": [
       "author_posting_freq_group         one-time poster  posted 2-3 times  \\\n",
       "age_group                                                             \n",
       "children (< 13 years)                    0.007074          0.003625   \n",
       "adolescents (13 - 17 years)              0.048936          0.024857   \n",
       "young adulthood (18 - 26 years)          0.211716          0.116385   \n",
       "30-ish (27 - 34 years)                   0.085676          0.047464   \n",
       "early middle age (35 - 44 years)         0.024378          0.013244   \n",
       "middle age (45 - 54 years)               0.007112          0.003654   \n",
       "late middle age (55 - 64 years)          0.004574          0.002386   \n",
       "older adults (>= 65 years)               0.004245          0.002033   \n",
       "unknown                                  0.089543          0.046034   \n",
       "\n",
       "author_posting_freq_group         posted 4-10 times  posted 11-50 times  \\\n",
       "age_group                                                                 \n",
       "children (< 13 years)                      0.002332            0.000839   \n",
       "adolescents (13 - 17 years)                0.014595            0.005396   \n",
       "young adulthood (18 - 26 years)            0.079039            0.037504   \n",
       "30-ish (27 - 34 years)                     0.032847            0.016307   \n",
       "early middle age (35 - 44 years)           0.008733            0.003883   \n",
       "middle age (45 - 54 years)                 0.002167            0.000790   \n",
       "late middle age (55 - 64 years)            0.001645            0.000554   \n",
       "older adults (>= 65 years)                 0.001255            0.000516   \n",
       "unknown                                    0.025998            0.012033   \n",
       "\n",
       "author_posting_freq_group         posted 51-100 times  posted 101-200 times  \\\n",
       "age_group                                                                     \n",
       "children (< 13 years)                        0.000061              0.000016   \n",
       "adolescents (13 - 17 years)                  0.000045              0.000002   \n",
       "young adulthood (18 - 26 years)              0.003599              0.001176   \n",
       "30-ish (27 - 34 years)                       0.001676              0.000130   \n",
       "early middle age (35 - 44 years)             0.000583              0.000002   \n",
       "middle age (45 - 54 years)                   0.000051              0.000004   \n",
       "late middle age (55 - 64 years)              0.000047              0.000004   \n",
       "older adults (>= 65 years)                   0.000024              0.000004   \n",
       "unknown                                      0.001152              0.000500   \n",
       "\n",
       "author_posting_freq_group         posted over 200 times  \n",
       "age_group                                                \n",
       "children (< 13 years)                          0.000016  \n",
       "adolescents (13 - 17 years)                    0.000037  \n",
       "young adulthood (18 - 26 years)                0.001186  \n",
       "30-ish (27 - 34 years)                         0.000061  \n",
       "early middle age (35 - 44 years)               0.000012  \n",
       "middle age (45 - 54 years)                     0.000004  \n",
       "late middle age (55 - 64 years)                0.000004  \n",
       "older adults (>= 65 years)                     0.000002  \n",
       "unknown                                        0.000234  "
      ]
     },
     "execution_count": 284,
     "metadata": {},
     "output_type": "execute_result"
    }
   ],
   "source": [
    "# Crosstabs normalized across all observations\n",
    "xtab2 = pd.crosstab(\n",
    "    df['age_group'], \n",
    "    df['author_posting_freq_group'], \n",
    "    normalize=True, \n",
    ").reindex(AGE_GROUPS_LABELS_W_AGE_RANGE_ORDERED_LIST)\n",
    "\n",
    "xtab2 = xtab2[POSTING_FREQ_GROUPS_LABELS_ORDERED_LIST]\n",
    "xtab2"
   ]
  },
  {
   "cell_type": "code",
   "execution_count": 313,
   "id": "599729a2-8291-46ef-a72d-910f5bbebb8d",
   "metadata": {},
   "outputs": [
    {
     "data": {
      "image/png": "[encoded data removed]",
      "text/plain": [
       "<Figure size 640x480 with 1 Axes>"
      ]
     },
     "metadata": {},
     "output_type": "display_data"
    }
   ],
   "source": [
    "row_labels = xtab2.index.to_list()\n",
    "column_labels = xtab2.columns.to_list()\n",
    "pct = xtab2.values\n",
    "\n",
    "fig, ax = plt.subplots()\n",
    "im = ax.imshow(pct)\n",
    "\n",
    "# Show all ticks and label them with the respective list entries\n",
    "ax.set_xticks(np.arange(len(column_labels)), labels=column_labels)\n",
    "ax.set_yticks(np.arange(len(row_labels)), labels=row_labels)\n",
    "\n",
    "# Rotate the tick labels and set their alignment.\n",
    "plt.setp(ax.get_xticklabels(), rotation=45, ha=\"right\", rotation_mode=\"anchor\")\n",
    "\n",
    "# Loop over data dimensions and create text annotations.\n",
    "for i in range(len(row_labels)):\n",
    "    for j in range(len(column_labels)):\n",
    "        text = ax.text(j, i, round(pct[i, j]*100, 1), ha=\"center\", va=\"center\", color=\"w\")\n",
    "\n",
    "ax.set_title(\"% frequency distribution of AskDocs posts \\nby age and author posting frequency\")\n",
    "fig.tight_layout()\n",
    "plt.show()"
   ]
  },
  {
   "cell_type": "code",
   "execution_count": 294,
   "id": "e7aeb379-7a34-48ae-832c-9c9271fb375c",
   "metadata": {},
   "outputs": [
    {
     "data": {
      "text/html": [
       "<div>\n",
       "<style scoped>\n",
       "    .dataframe tbody tr th:only-of-type {\n",
       "        vertical-align: middle;\n",
       "    }\n",
       "\n",
       "    .dataframe tbody tr th {\n",
       "        vertical-align: top;\n",
       "    }\n",
       "\n",
       "    .dataframe thead th {\n",
       "        text-align: right;\n",
       "    }\n",
       "</style>\n",
       "<table border=\"1\" class=\"dataframe\">\n",
       "  <thead>\n",
       "    <tr style=\"text-align: right;\">\n",
       "      <th></th>\n",
       "      <th>author_posting_freq_group</th>\n",
       "      <th>one-time poster</th>\n",
       "      <th>posted 2-3 times</th>\n",
       "      <th>posted 4-10 times</th>\n",
       "      <th>posted 11-50 times</th>\n",
       "      <th>posted 51-100 times</th>\n",
       "      <th>posted 101-200 times</th>\n",
       "      <th>posted over 200 times</th>\n",
       "    </tr>\n",
       "    <tr>\n",
       "      <th>age_group</th>\n",
       "      <th>sex</th>\n",
       "      <th></th>\n",
       "      <th></th>\n",
       "      <th></th>\n",
       "      <th></th>\n",
       "      <th></th>\n",
       "      <th></th>\n",
       "      <th></th>\n",
       "    </tr>\n",
       "  </thead>\n",
       "  <tbody>\n",
       "    <tr>\n",
       "      <th rowspan=\"3\" valign=\"top\">children (&lt; 13 years)</th>\n",
       "      <th>AFAB</th>\n",
       "      <td>0.001848</td>\n",
       "      <td>0.001093</td>\n",
       "      <td>0.000749</td>\n",
       "      <td>0.000227</td>\n",
       "      <td>0.000016</td>\n",
       "      <td>0.000000</td>\n",
       "      <td>0.000002</td>\n",
       "    </tr>\n",
       "    <tr>\n",
       "      <th>AMAB</th>\n",
       "      <td>0.002218</td>\n",
       "      <td>0.001188</td>\n",
       "      <td>0.000741</td>\n",
       "      <td>0.000307</td>\n",
       "      <td>0.000020</td>\n",
       "      <td>0.000006</td>\n",
       "      <td>0.000014</td>\n",
       "    </tr>\n",
       "    <tr>\n",
       "      <th>unknown</th>\n",
       "      <td>0.003008</td>\n",
       "      <td>0.001345</td>\n",
       "      <td>0.000841</td>\n",
       "      <td>0.000305</td>\n",
       "      <td>0.000024</td>\n",
       "      <td>0.000010</td>\n",
       "      <td>0.000000</td>\n",
       "    </tr>\n",
       "    <tr>\n",
       "      <th rowspan=\"3\" valign=\"top\">adolescents (13 - 17 years)</th>\n",
       "      <th>AFAB</th>\n",
       "      <td>0.010545</td>\n",
       "      <td>0.005993</td>\n",
       "      <td>0.003436</td>\n",
       "      <td>0.000959</td>\n",
       "      <td>0.000004</td>\n",
       "      <td>0.000002</td>\n",
       "      <td>0.000008</td>\n",
       "    </tr>\n",
       "    <tr>\n",
       "      <th>AMAB</th>\n",
       "      <td>0.022800</td>\n",
       "      <td>0.010902</td>\n",
       "      <td>0.006335</td>\n",
       "      <td>0.002717</td>\n",
       "      <td>0.000024</td>\n",
       "      <td>0.000000</td>\n",
       "      <td>0.000018</td>\n",
       "    </tr>\n",
       "    <tr>\n",
       "      <th>unknown</th>\n",
       "      <td>0.015592</td>\n",
       "      <td>0.007961</td>\n",
       "      <td>0.004824</td>\n",
       "      <td>0.001720</td>\n",
       "      <td>0.000016</td>\n",
       "      <td>0.000000</td>\n",
       "      <td>0.000010</td>\n",
       "    </tr>\n",
       "    <tr>\n",
       "      <th rowspan=\"3\" valign=\"top\">young adulthood (18 - 26 years)</th>\n",
       "      <th>AFAB</th>\n",
       "      <td>0.066388</td>\n",
       "      <td>0.039289</td>\n",
       "      <td>0.029122</td>\n",
       "      <td>0.012590</td>\n",
       "      <td>0.000680</td>\n",
       "      <td>0.000479</td>\n",
       "      <td>0.000453</td>\n",
       "    </tr>\n",
       "    <tr>\n",
       "      <th>AMAB</th>\n",
       "      <td>0.085343</td>\n",
       "      <td>0.043918</td>\n",
       "      <td>0.027148</td>\n",
       "      <td>0.013321</td>\n",
       "      <td>0.001852</td>\n",
       "      <td>0.000481</td>\n",
       "      <td>0.000628</td>\n",
       "    </tr>\n",
       "    <tr>\n",
       "      <th>unknown</th>\n",
       "      <td>0.059985</td>\n",
       "      <td>0.033178</td>\n",
       "      <td>0.022769</td>\n",
       "      <td>0.011593</td>\n",
       "      <td>0.001066</td>\n",
       "      <td>0.000215</td>\n",
       "      <td>0.000106</td>\n",
       "    </tr>\n",
       "    <tr>\n",
       "      <th rowspan=\"3\" valign=\"top\">30-ish (27 - 34 years)</th>\n",
       "      <th>AFAB</th>\n",
       "      <td>0.027544</td>\n",
       "      <td>0.016959</td>\n",
       "      <td>0.012521</td>\n",
       "      <td>0.005435</td>\n",
       "      <td>0.000542</td>\n",
       "      <td>0.000004</td>\n",
       "      <td>0.000020</td>\n",
       "    </tr>\n",
       "    <tr>\n",
       "      <th>AMAB</th>\n",
       "      <td>0.033397</td>\n",
       "      <td>0.016987</td>\n",
       "      <td>0.010334</td>\n",
       "      <td>0.005118</td>\n",
       "      <td>0.000404</td>\n",
       "      <td>0.000000</td>\n",
       "      <td>0.000010</td>\n",
       "    </tr>\n",
       "    <tr>\n",
       "      <th>unknown</th>\n",
       "      <td>0.024735</td>\n",
       "      <td>0.013518</td>\n",
       "      <td>0.009992</td>\n",
       "      <td>0.005754</td>\n",
       "      <td>0.000729</td>\n",
       "      <td>0.000126</td>\n",
       "      <td>0.000030</td>\n",
       "    </tr>\n",
       "    <tr>\n",
       "      <th rowspan=\"3\" valign=\"top\">early middle age (35 - 44 years)</th>\n",
       "      <th>AFAB</th>\n",
       "      <td>0.007953</td>\n",
       "      <td>0.004793</td>\n",
       "      <td>0.003241</td>\n",
       "      <td>0.001316</td>\n",
       "      <td>0.000160</td>\n",
       "      <td>0.000002</td>\n",
       "      <td>0.000002</td>\n",
       "    </tr>\n",
       "    <tr>\n",
       "      <th>AMAB</th>\n",
       "      <td>0.009544</td>\n",
       "      <td>0.004592</td>\n",
       "      <td>0.002955</td>\n",
       "      <td>0.001418</td>\n",
       "      <td>0.000286</td>\n",
       "      <td>0.000000</td>\n",
       "      <td>0.000004</td>\n",
       "    </tr>\n",
       "    <tr>\n",
       "      <th>unknown</th>\n",
       "      <td>0.006881</td>\n",
       "      <td>0.003859</td>\n",
       "      <td>0.002537</td>\n",
       "      <td>0.001150</td>\n",
       "      <td>0.000136</td>\n",
       "      <td>0.000000</td>\n",
       "      <td>0.000006</td>\n",
       "    </tr>\n",
       "    <tr>\n",
       "      <th rowspan=\"3\" valign=\"top\">middle age (45 - 54 years)</th>\n",
       "      <th>AFAB</th>\n",
       "      <td>0.002669</td>\n",
       "      <td>0.001458</td>\n",
       "      <td>0.001005</td>\n",
       "      <td>0.000406</td>\n",
       "      <td>0.000030</td>\n",
       "      <td>0.000004</td>\n",
       "      <td>0.000004</td>\n",
       "    </tr>\n",
       "    <tr>\n",
       "      <th>AMAB</th>\n",
       "      <td>0.002449</td>\n",
       "      <td>0.001160</td>\n",
       "      <td>0.000550</td>\n",
       "      <td>0.000124</td>\n",
       "      <td>0.000004</td>\n",
       "      <td>0.000000</td>\n",
       "      <td>0.000000</td>\n",
       "    </tr>\n",
       "    <tr>\n",
       "      <th>unknown</th>\n",
       "      <td>0.001994</td>\n",
       "      <td>0.001036</td>\n",
       "      <td>0.000611</td>\n",
       "      <td>0.000260</td>\n",
       "      <td>0.000016</td>\n",
       "      <td>0.000000</td>\n",
       "      <td>0.000000</td>\n",
       "    </tr>\n",
       "    <tr>\n",
       "      <th rowspan=\"3\" valign=\"top\">late middle age (55 - 64 years)</th>\n",
       "      <th>AFAB</th>\n",
       "      <td>0.001647</td>\n",
       "      <td>0.000932</td>\n",
       "      <td>0.000571</td>\n",
       "      <td>0.000229</td>\n",
       "      <td>0.000028</td>\n",
       "      <td>0.000002</td>\n",
       "      <td>0.000000</td>\n",
       "    </tr>\n",
       "    <tr>\n",
       "      <th>AMAB</th>\n",
       "      <td>0.001641</td>\n",
       "      <td>0.000833</td>\n",
       "      <td>0.000561</td>\n",
       "      <td>0.000112</td>\n",
       "      <td>0.000008</td>\n",
       "      <td>0.000000</td>\n",
       "      <td>0.000002</td>\n",
       "    </tr>\n",
       "    <tr>\n",
       "      <th>unknown</th>\n",
       "      <td>0.001286</td>\n",
       "      <td>0.000621</td>\n",
       "      <td>0.000514</td>\n",
       "      <td>0.000213</td>\n",
       "      <td>0.000010</td>\n",
       "      <td>0.000002</td>\n",
       "      <td>0.000002</td>\n",
       "    </tr>\n",
       "    <tr>\n",
       "      <th rowspan=\"3\" valign=\"top\">older adults (&gt;= 65 years)</th>\n",
       "      <th>AFAB</th>\n",
       "      <td>0.001645</td>\n",
       "      <td>0.000855</td>\n",
       "      <td>0.000477</td>\n",
       "      <td>0.000183</td>\n",
       "      <td>0.000008</td>\n",
       "      <td>0.000000</td>\n",
       "      <td>0.000002</td>\n",
       "    </tr>\n",
       "    <tr>\n",
       "      <th>AMAB</th>\n",
       "      <td>0.001357</td>\n",
       "      <td>0.000630</td>\n",
       "      <td>0.000378</td>\n",
       "      <td>0.000183</td>\n",
       "      <td>0.000008</td>\n",
       "      <td>0.000002</td>\n",
       "      <td>0.000000</td>\n",
       "    </tr>\n",
       "    <tr>\n",
       "      <th>unknown</th>\n",
       "      <td>0.001243</td>\n",
       "      <td>0.000548</td>\n",
       "      <td>0.000400</td>\n",
       "      <td>0.000150</td>\n",
       "      <td>0.000008</td>\n",
       "      <td>0.000002</td>\n",
       "      <td>0.000000</td>\n",
       "    </tr>\n",
       "    <tr>\n",
       "      <th rowspan=\"3\" valign=\"top\">unknown</th>\n",
       "      <th>AFAB</th>\n",
       "      <td>0.009308</td>\n",
       "      <td>0.004393</td>\n",
       "      <td>0.002478</td>\n",
       "      <td>0.001042</td>\n",
       "      <td>0.000081</td>\n",
       "      <td>0.000014</td>\n",
       "      <td>0.000024</td>\n",
       "    </tr>\n",
       "    <tr>\n",
       "      <th>AMAB</th>\n",
       "      <td>0.012653</td>\n",
       "      <td>0.005524</td>\n",
       "      <td>0.003321</td>\n",
       "      <td>0.001426</td>\n",
       "      <td>0.000106</td>\n",
       "      <td>0.000010</td>\n",
       "      <td>0.000024</td>\n",
       "    </tr>\n",
       "    <tr>\n",
       "      <th>unknown</th>\n",
       "      <td>0.067582</td>\n",
       "      <td>0.036117</td>\n",
       "      <td>0.020200</td>\n",
       "      <td>0.009566</td>\n",
       "      <td>0.000965</td>\n",
       "      <td>0.000475</td>\n",
       "      <td>0.000185</td>\n",
       "    </tr>\n",
       "  </tbody>\n",
       "</table>\n",
       "</div>"
      ],
      "text/plain": [
       "author_posting_freq_group                 one-time poster  posted 2-3 times  \\\n",
       "age_group                        sex                                          \n",
       "children (< 13 years)            AFAB            0.001848          0.001093   \n",
       "                                 AMAB            0.002218          0.001188   \n",
       "                                 unknown         0.003008          0.001345   \n",
       "adolescents (13 - 17 years)      AFAB            0.010545          0.005993   \n",
       "                                 AMAB            0.022800          0.010902   \n",
       "                                 unknown         0.015592          0.007961   \n",
       "young adulthood (18 - 26 years)  AFAB            0.066388          0.039289   \n",
       "                                 AMAB            0.085343          0.043918   \n",
       "                                 unknown         0.059985          0.033178   \n",
       "30-ish (27 - 34 years)           AFAB            0.027544          0.016959   \n",
       "                                 AMAB            0.033397          0.016987   \n",
       "                                 unknown         0.024735          0.013518   \n",
       "early middle age (35 - 44 years) AFAB            0.007953          0.004793   \n",
       "                                 AMAB            0.009544          0.004592   \n",
       "                                 unknown         0.006881          0.003859   \n",
       "middle age (45 - 54 years)       AFAB            0.002669          0.001458   \n",
       "                                 AMAB            0.002449          0.001160   \n",
       "                                 unknown         0.001994          0.001036   \n",
       "late middle age (55 - 64 years)  AFAB            0.001647          0.000932   \n",
       "                                 AMAB            0.001641          0.000833   \n",
       "                                 unknown         0.001286          0.000621   \n",
       "older adults (>= 65 years)       AFAB            0.001645          0.000855   \n",
       "                                 AMAB            0.001357          0.000630   \n",
       "                                 unknown         0.001243          0.000548   \n",
       "unknown                          AFAB            0.009308          0.004393   \n",
       "                                 AMAB            0.012653          0.005524   \n",
       "                                 unknown         0.067582          0.036117   \n",
       "\n",
       "author_posting_freq_group                 posted 4-10 times  \\\n",
       "age_group                        sex                          \n",
       "children (< 13 years)            AFAB              0.000749   \n",
       "                                 AMAB              0.000741   \n",
       "                                 unknown           0.000841   \n",
       "adolescents (13 - 17 years)      AFAB              0.003436   \n",
       "                                 AMAB              0.006335   \n",
       "                                 unknown           0.004824   \n",
       "young adulthood (18 - 26 years)  AFAB              0.029122   \n",
       "                                 AMAB              0.027148   \n",
       "                                 unknown           0.022769   \n",
       "30-ish (27 - 34 years)           AFAB              0.012521   \n",
       "                                 AMAB              0.010334   \n",
       "                                 unknown           0.009992   \n",
       "early middle age (35 - 44 years) AFAB              0.003241   \n",
       "                                 AMAB              0.002955   \n",
       "                                 unknown           0.002537   \n",
       "middle age (45 - 54 years)       AFAB              0.001005   \n",
       "                                 AMAB              0.000550   \n",
       "                                 unknown           0.000611   \n",
       "late middle age (55 - 64 years)  AFAB              0.000571   \n",
       "                                 AMAB              0.000561   \n",
       "                                 unknown           0.000514   \n",
       "older adults (>= 65 years)       AFAB              0.000477   \n",
       "                                 AMAB              0.000378   \n",
       "                                 unknown           0.000400   \n",
       "unknown                          AFAB              0.002478   \n",
       "                                 AMAB              0.003321   \n",
       "                                 unknown           0.020200   \n",
       "\n",
       "author_posting_freq_group                 posted 11-50 times  \\\n",
       "age_group                        sex                           \n",
       "children (< 13 years)            AFAB               0.000227   \n",
       "                                 AMAB               0.000307   \n",
       "                                 unknown            0.000305   \n",
       "adolescents (13 - 17 years)      AFAB               0.000959   \n",
       "                                 AMAB               0.002717   \n",
       "                                 unknown            0.001720   \n",
       "young adulthood (18 - 26 years)  AFAB               0.012590   \n",
       "                                 AMAB               0.013321   \n",
       "                                 unknown            0.011593   \n",
       "30-ish (27 - 34 years)           AFAB               0.005435   \n",
       "                                 AMAB               0.005118   \n",
       "                                 unknown            0.005754   \n",
       "early middle age (35 - 44 years) AFAB               0.001316   \n",
       "                                 AMAB               0.001418   \n",
       "                                 unknown            0.001150   \n",
       "middle age (45 - 54 years)       AFAB               0.000406   \n",
       "                                 AMAB               0.000124   \n",
       "                                 unknown            0.000260   \n",
       "late middle age (55 - 64 years)  AFAB               0.000229   \n",
       "                                 AMAB               0.000112   \n",
       "                                 unknown            0.000213   \n",
       "older adults (>= 65 years)       AFAB               0.000183   \n",
       "                                 AMAB               0.000183   \n",
       "                                 unknown            0.000150   \n",
       "unknown                          AFAB               0.001042   \n",
       "                                 AMAB               0.001426   \n",
       "                                 unknown            0.009566   \n",
       "\n",
       "author_posting_freq_group                 posted 51-100 times  \\\n",
       "age_group                        sex                            \n",
       "children (< 13 years)            AFAB                0.000016   \n",
       "                                 AMAB                0.000020   \n",
       "                                 unknown             0.000024   \n",
       "adolescents (13 - 17 years)      AFAB                0.000004   \n",
       "                                 AMAB                0.000024   \n",
       "                                 unknown             0.000016   \n",
       "young adulthood (18 - 26 years)  AFAB                0.000680   \n",
       "                                 AMAB                0.001852   \n",
       "                                 unknown             0.001066   \n",
       "30-ish (27 - 34 years)           AFAB                0.000542   \n",
       "                                 AMAB                0.000404   \n",
       "                                 unknown             0.000729   \n",
       "early middle age (35 - 44 years) AFAB                0.000160   \n",
       "                                 AMAB                0.000286   \n",
       "                                 unknown             0.000136   \n",
       "middle age (45 - 54 years)       AFAB                0.000030   \n",
       "                                 AMAB                0.000004   \n",
       "                                 unknown             0.000016   \n",
       "late middle age (55 - 64 years)  AFAB                0.000028   \n",
       "                                 AMAB                0.000008   \n",
       "                                 unknown             0.000010   \n",
       "older adults (>= 65 years)       AFAB                0.000008   \n",
       "                                 AMAB                0.000008   \n",
       "                                 unknown             0.000008   \n",
       "unknown                          AFAB                0.000081   \n",
       "                                 AMAB                0.000106   \n",
       "                                 unknown             0.000965   \n",
       "\n",
       "author_posting_freq_group                 posted 101-200 times  \\\n",
       "age_group                        sex                             \n",
       "children (< 13 years)            AFAB                 0.000000   \n",
       "                                 AMAB                 0.000006   \n",
       "                                 unknown              0.000010   \n",
       "adolescents (13 - 17 years)      AFAB                 0.000002   \n",
       "                                 AMAB                 0.000000   \n",
       "                                 unknown              0.000000   \n",
       "young adulthood (18 - 26 years)  AFAB                 0.000479   \n",
       "                                 AMAB                 0.000481   \n",
       "                                 unknown              0.000215   \n",
       "30-ish (27 - 34 years)           AFAB                 0.000004   \n",
       "                                 AMAB                 0.000000   \n",
       "                                 unknown              0.000126   \n",
       "early middle age (35 - 44 years) AFAB                 0.000002   \n",
       "                                 AMAB                 0.000000   \n",
       "                                 unknown              0.000000   \n",
       "middle age (45 - 54 years)       AFAB                 0.000004   \n",
       "                                 AMAB                 0.000000   \n",
       "                                 unknown              0.000000   \n",
       "late middle age (55 - 64 years)  AFAB                 0.000002   \n",
       "                                 AMAB                 0.000000   \n",
       "                                 unknown              0.000002   \n",
       "older adults (>= 65 years)       AFAB                 0.000000   \n",
       "                                 AMAB                 0.000002   \n",
       "                                 unknown              0.000002   \n",
       "unknown                          AFAB                 0.000014   \n",
       "                                 AMAB                 0.000010   \n",
       "                                 unknown              0.000475   \n",
       "\n",
       "author_posting_freq_group                 posted over 200 times  \n",
       "age_group                        sex                             \n",
       "children (< 13 years)            AFAB                  0.000002  \n",
       "                                 AMAB                  0.000014  \n",
       "                                 unknown               0.000000  \n",
       "adolescents (13 - 17 years)      AFAB                  0.000008  \n",
       "                                 AMAB                  0.000018  \n",
       "                                 unknown               0.000010  \n",
       "young adulthood (18 - 26 years)  AFAB                  0.000453  \n",
       "                                 AMAB                  0.000628  \n",
       "                                 unknown               0.000106  \n",
       "30-ish (27 - 34 years)           AFAB                  0.000020  \n",
       "                                 AMAB                  0.000010  \n",
       "                                 unknown               0.000030  \n",
       "early middle age (35 - 44 years) AFAB                  0.000002  \n",
       "                                 AMAB                  0.000004  \n",
       "                                 unknown               0.000006  \n",
       "middle age (45 - 54 years)       AFAB                  0.000004  \n",
       "                                 AMAB                  0.000000  \n",
       "                                 unknown               0.000000  \n",
       "late middle age (55 - 64 years)  AFAB                  0.000000  \n",
       "                                 AMAB                  0.000002  \n",
       "                                 unknown               0.000002  \n",
       "older adults (>= 65 years)       AFAB                  0.000002  \n",
       "                                 AMAB                  0.000000  \n",
       "                                 unknown               0.000000  \n",
       "unknown                          AFAB                  0.000024  \n",
       "                                 AMAB                  0.000024  \n",
       "                                 unknown               0.000185  "
      ]
     },
     "execution_count": 294,
     "metadata": {},
     "output_type": "execute_result"
    }
   ],
   "source": [
    "# Crosstabs normalized across all observations\n",
    "xtab3 = pd.crosstab(\n",
    "    [df['age_group'], df['sex']], \n",
    "    df['author_posting_freq_group'], \n",
    "    normalize=True, \n",
    ").reindex(AGE_GROUPS_LABELS_W_AGE_RANGE_ORDERED_LIST, level=0)\\\n",
    "    .reindex(SEX_LABELS_ORDERED_LIST, level=1)\\\n",
    "\n",
    "xtab3 = xtab3[POSTING_FREQ_GROUPS_LABELS_ORDERED_LIST]\n",
    "xtab3"
   ]
  },
  {
   "cell_type": "code",
   "execution_count": 296,
   "id": "b76189aa-b956-41e6-8de3-356b66cea129",
   "metadata": {},
   "outputs": [
    {
     "data": {
      "text/plain": [
       "[('children (< 13 years)', 'AFAB'),\n",
       " ('children (< 13 years)', 'AMAB'),\n",
       " ('children (< 13 years)', 'unknown'),\n",
       " ('adolescents (13 - 17 years)', 'AFAB'),\n",
       " ('adolescents (13 - 17 years)', 'AMAB'),\n",
       " ('adolescents (13 - 17 years)', 'unknown'),\n",
       " ('young adulthood (18 - 26 years)', 'AFAB'),\n",
       " ('young adulthood (18 - 26 years)', 'AMAB'),\n",
       " ('young adulthood (18 - 26 years)', 'unknown'),\n",
       " ('30-ish (27 - 34 years)', 'AFAB'),\n",
       " ('30-ish (27 - 34 years)', 'AMAB'),\n",
       " ('30-ish (27 - 34 years)', 'unknown'),\n",
       " ('early middle age (35 - 44 years)', 'AFAB'),\n",
       " ('early middle age (35 - 44 years)', 'AMAB'),\n",
       " ('early middle age (35 - 44 years)', 'unknown'),\n",
       " ('middle age (45 - 54 years)', 'AFAB'),\n",
       " ('middle age (45 - 54 years)', 'AMAB'),\n",
       " ('middle age (45 - 54 years)', 'unknown'),\n",
       " ('late middle age (55 - 64 years)', 'AFAB'),\n",
       " ('late middle age (55 - 64 years)', 'AMAB'),\n",
       " ('late middle age (55 - 64 years)', 'unknown'),\n",
       " ('older adults (>= 65 years)', 'AFAB'),\n",
       " ('older adults (>= 65 years)', 'AMAB'),\n",
       " ('older adults (>= 65 years)', 'unknown'),\n",
       " ('unknown', 'AFAB'),\n",
       " ('unknown', 'AMAB'),\n",
       " ('unknown', 'unknown')]"
      ]
     },
     "execution_count": 296,
     "metadata": {},
     "output_type": "execute_result"
    }
   ],
   "source": [
    "xtab3.index.to_flat_index().to_list()"
   ]
  },
  {
   "cell_type": "code",
   "execution_count": 311,
   "id": "cda807de-85f5-44de-93ad-5f4ce9bd5835",
   "metadata": {},
   "outputs": [
    {
     "data": {
      "image/png": "[encoded data removed]",
      "text/plain": [
       "<Figure size 600x1000 with 1 Axes>"
      ]
     },
     "metadata": {},
     "output_type": "display_data"
    }
   ],
   "source": [
    "row_labels = xtab3.index.to_flat_index().to_list()\n",
    "column_labels = xtab3.columns.to_list()\n",
    "pct = xtab3.values\n",
    "\n",
    "fig, ax = plt.subplots(figsize=(6, 10))\n",
    "im = ax.imshow(pct)\n",
    "\n",
    "# Show all ticks and label them with the respective list entries\n",
    "ax.set_xticks(np.arange(len(column_labels)), labels=column_labels)\n",
    "ax.set_yticks(np.arange(len(row_labels)), labels=row_labels)\n",
    "\n",
    "# Rotate the tick labels and set their alignment.\n",
    "plt.setp(ax.get_xticklabels(), rotation=45, ha=\"right\", rotation_mode=\"anchor\")\n",
    "\n",
    "# Loop over data dimensions and create text annotations.\n",
    "for i in range(len(row_labels)):\n",
    "    for j in range(len(column_labels)):\n",
    "        text = ax.text(j, i, round(pct[i, j]*100, 1), ha=\"center\", va=\"center\", color=\"w\")\n",
    "\n",
    "ax.set_title(\"% frequency distribution of AskDocs posts \\nby age, sex and author posting frequency\")\n",
    "fig.tight_layout()\n",
    "\n",
    "plt.show()"
   ]
  },
  {
   "cell_type": "markdown",
   "id": "be4a12e0-75ea-424f-80b8-3387919f8dc0",
   "metadata": {},
   "source": [
    "## Author anonymity"
   ]
  },
  {
   "cell_type": "code",
   "execution_count": 319,
   "id": "df600fd1-23c2-44ac-9b32-ddee85c71f1e",
   "metadata": {},
   "outputs": [
    {
     "data": {
      "text/plain": [
       "492376"
      ]
     },
     "execution_count": 319,
     "metadata": {},
     "output_type": "execute_result"
    }
   ],
   "source": [
    "len(df)"
   ]
  },
  {
   "cell_type": "code",
   "execution_count": 318,
   "id": "77c13835-d010-4b2e-98e6-3ae2a3f647e6",
   "metadata": {},
   "outputs": [
    {
     "data": {
      "text/plain": [
       "15815"
      ]
     },
     "execution_count": 318,
     "metadata": {},
     "output_type": "execute_result"
    }
   ],
   "source": [
    "len(df[df['author'].str.contains('throwaway', case=False)])"
   ]
  },
  {
   "cell_type": "code",
   "execution_count": 325,
   "id": "67df4134-93b5-4b62-aeca-4d05c2850675",
   "metadata": {},
   "outputs": [
    {
     "data": {
      "text/plain": [
       "17223"
      ]
     },
     "execution_count": 325,
     "metadata": {},
     "output_type": "execute_result"
    }
   ],
   "source": [
    "len(df[df['author'].str.contains('throw.*away', case=False)])"
   ]
  },
  {
   "cell_type": "code",
   "execution_count": 326,
   "id": "896f10cd-1a33-4173-a178-d9263685cdb8",
   "metadata": {},
   "outputs": [
    {
     "data": {
      "text/html": [
       "<div>\n",
       "<style scoped>\n",
       "    .dataframe tbody tr th:only-of-type {\n",
       "        vertical-align: middle;\n",
       "    }\n",
       "\n",
       "    .dataframe tbody tr th {\n",
       "        vertical-align: top;\n",
       "    }\n",
       "\n",
       "    .dataframe thead th {\n",
       "        text-align: right;\n",
       "    }\n",
       "</style>\n",
       "<table border=\"1\" class=\"dataframe\">\n",
       "  <thead>\n",
       "    <tr style=\"text-align: right;\">\n",
       "      <th></th>\n",
       "      <th>author</th>\n",
       "      <th>num_comments</th>\n",
       "      <th>full_post_text</th>\n",
       "      <th>created_utc_ns_dt</th>\n",
       "      <th>age</th>\n",
       "      <th>sex</th>\n",
       "      <th>url</th>\n",
       "      <th>age_group</th>\n",
       "      <th>author_posting_freq_group</th>\n",
       "    </tr>\n",
       "  </thead>\n",
       "  <tbody>\n",
       "    <tr>\n",
       "      <th>1163</th>\n",
       "      <td>throwmeawayforgood_</td>\n",
       "      <td>2</td>\n",
       "      <td>Patches of red bumps appearing on torso. | I a...</td>\n",
       "      <td>2017-12-29 00:22:31</td>\n",
       "      <td>25.0</td>\n",
       "      <td>AMAB</td>\n",
       "      <td>https://www.reddit.com/r/AskDocs/comments/7mqo...</td>\n",
       "      <td>young adulthood (18 - 26 years)</td>\n",
       "      <td>one-time poster</td>\n",
       "    </tr>\n",
       "    <tr>\n",
       "      <th>1474</th>\n",
       "      <td>throwinitaway3334</td>\n",
       "      <td>3</td>\n",
       "      <td>[NSFW] What is this pimple-like thing near my ...</td>\n",
       "      <td>2017-12-28 05:43:17</td>\n",
       "      <td>18.0</td>\n",
       "      <td>AMAB</td>\n",
       "      <td>https://www.reddit.com/r/AskDocs/comments/7mkq...</td>\n",
       "      <td>young adulthood (18 - 26 years)</td>\n",
       "      <td>one-time poster</td>\n",
       "    </tr>\n",
       "    <tr>\n",
       "      <th>1831</th>\n",
       "      <td>legsthrowsaways</td>\n",
       "      <td>9</td>\n",
       "      <td>17m is this normal? I like to see people in pa...</td>\n",
       "      <td>2017-12-27 08:01:07</td>\n",
       "      <td>17.0</td>\n",
       "      <td>unknown</td>\n",
       "      <td>https://www.reddit.com/r/AskDocs/comments/7mdq...</td>\n",
       "      <td>adolescents (13 - 17 years)</td>\n",
       "      <td>one-time poster</td>\n",
       "    </tr>\n",
       "    <tr>\n",
       "      <th>2789</th>\n",
       "      <td>throwingthisAway9951</td>\n",
       "      <td>4</td>\n",
       "      <td>Difficulty starting to urine. | Hello,\\n\\nI am...</td>\n",
       "      <td>2017-12-24 09:00:17</td>\n",
       "      <td>22.0</td>\n",
       "      <td>AMAB</td>\n",
       "      <td>https://www.reddit.com/r/AskDocs/comments/7lu9...</td>\n",
       "      <td>young adulthood (18 - 26 years)</td>\n",
       "      <td>one-time poster</td>\n",
       "    </tr>\n",
       "    <tr>\n",
       "      <th>2912</th>\n",
       "      <td>throw-health-away</td>\n",
       "      <td>2</td>\n",
       "      <td>GI abnormalities and skin/bladder issues. Plea...</td>\n",
       "      <td>2017-12-24 00:09:12</td>\n",
       "      <td>23.0</td>\n",
       "      <td>AMAB</td>\n",
       "      <td>https://www.reddit.com/r/AskDocs/comments/7ls0...</td>\n",
       "      <td>young adulthood (18 - 26 years)</td>\n",
       "      <td>one-time poster</td>\n",
       "    </tr>\n",
       "    <tr>\n",
       "      <th>...</th>\n",
       "      <td>...</td>\n",
       "      <td>...</td>\n",
       "      <td>...</td>\n",
       "      <td>...</td>\n",
       "      <td>...</td>\n",
       "      <td>...</td>\n",
       "      <td>...</td>\n",
       "      <td>...</td>\n",
       "      <td>...</td>\n",
       "    </tr>\n",
       "    <tr>\n",
       "      <th>489849</th>\n",
       "      <td>Throwerawayer121</td>\n",
       "      <td>1</td>\n",
       "      <td>26M, change in body function over several year...</td>\n",
       "      <td>2022-01-10 08:48:02</td>\n",
       "      <td>26.0</td>\n",
       "      <td>AMAB</td>\n",
       "      <td>https://www.reddit.com/r/AskDocs/comments/s0fh...</td>\n",
       "      <td>young adulthood (18 - 26 years)</td>\n",
       "      <td>one-time poster</td>\n",
       "    </tr>\n",
       "    <tr>\n",
       "      <th>490058</th>\n",
       "      <td>throw_away708</td>\n",
       "      <td>1</td>\n",
       "      <td>[16F] Red/brownish armpit rash | I notice that...</td>\n",
       "      <td>2022-01-09 17:17:23</td>\n",
       "      <td>16.0</td>\n",
       "      <td>AFAB</td>\n",
       "      <td>https://www.reddit.com/r/AskDocs/comments/rzwd...</td>\n",
       "      <td>adolescents (13 - 17 years)</td>\n",
       "      <td>one-time poster</td>\n",
       "    </tr>\n",
       "    <tr>\n",
       "      <th>490231</th>\n",
       "      <td>Throw_itaway_444</td>\n",
       "      <td>1</td>\n",
       "      <td>I Think I have a hemorrhoid for the first time...</td>\n",
       "      <td>2022-01-09 00:30:03</td>\n",
       "      <td>26.0</td>\n",
       "      <td>AMAB</td>\n",
       "      <td>https://www.reddit.com/r/AskDocs/comments/rzen...</td>\n",
       "      <td>young adulthood (18 - 26 years)</td>\n",
       "      <td>one-time poster</td>\n",
       "    </tr>\n",
       "    <tr>\n",
       "      <th>490454</th>\n",
       "      <td>throwthrowawayawayw</td>\n",
       "      <td>1</td>\n",
       "      <td>Likelihood of false negative pregnancy test re...</td>\n",
       "      <td>2022-01-08 04:24:52</td>\n",
       "      <td>22.0</td>\n",
       "      <td>AFAB</td>\n",
       "      <td>https://www.reddit.com/r/AskDocs/comments/ryr8...</td>\n",
       "      <td>young adulthood (18 - 26 years)</td>\n",
       "      <td>one-time poster</td>\n",
       "    </tr>\n",
       "    <tr>\n",
       "      <th>491502</th>\n",
       "      <td>throwmoiaway_</td>\n",
       "      <td>1</td>\n",
       "      <td>STD without actual sexual contact | 20F, Cauca...</td>\n",
       "      <td>2022-01-04 14:58:16</td>\n",
       "      <td>20.0</td>\n",
       "      <td>AFAB</td>\n",
       "      <td>https://www.reddit.com/r/AskDocs/comments/rvw9...</td>\n",
       "      <td>young adulthood (18 - 26 years)</td>\n",
       "      <td>one-time poster</td>\n",
       "    </tr>\n",
       "  </tbody>\n",
       "</table>\n",
       "<p>1551 rows × 9 columns</p>\n",
       "</div>"
      ],
      "text/plain": [
       "                      author  num_comments  \\\n",
       "1163     throwmeawayforgood_             2   \n",
       "1474       throwinitaway3334             3   \n",
       "1831         legsthrowsaways             9   \n",
       "2789    throwingthisAway9951             4   \n",
       "2912       throw-health-away             2   \n",
       "...                      ...           ...   \n",
       "489849      Throwerawayer121             1   \n",
       "490058         throw_away708             1   \n",
       "490231      Throw_itaway_444             1   \n",
       "490454   throwthrowawayawayw             1   \n",
       "491502         throwmoiaway_             1   \n",
       "\n",
       "                                           full_post_text   created_utc_ns_dt  \\\n",
       "1163    Patches of red bumps appearing on torso. | I a... 2017-12-29 00:22:31   \n",
       "1474    [NSFW] What is this pimple-like thing near my ... 2017-12-28 05:43:17   \n",
       "1831    17m is this normal? I like to see people in pa... 2017-12-27 08:01:07   \n",
       "2789    Difficulty starting to urine. | Hello,\\n\\nI am... 2017-12-24 09:00:17   \n",
       "2912    GI abnormalities and skin/bladder issues. Plea... 2017-12-24 00:09:12   \n",
       "...                                                   ...                 ...   \n",
       "489849  26M, change in body function over several year... 2022-01-10 08:48:02   \n",
       "490058  [16F] Red/brownish armpit rash | I notice that... 2022-01-09 17:17:23   \n",
       "490231  I Think I have a hemorrhoid for the first time... 2022-01-09 00:30:03   \n",
       "490454  Likelihood of false negative pregnancy test re... 2022-01-08 04:24:52   \n",
       "491502  STD without actual sexual contact | 20F, Cauca... 2022-01-04 14:58:16   \n",
       "\n",
       "         age      sex                                                url  \\\n",
       "1163    25.0     AMAB  https://www.reddit.com/r/AskDocs/comments/7mqo...   \n",
       "1474    18.0     AMAB  https://www.reddit.com/r/AskDocs/comments/7mkq...   \n",
       "1831    17.0  unknown  https://www.reddit.com/r/AskDocs/comments/7mdq...   \n",
       "2789    22.0     AMAB  https://www.reddit.com/r/AskDocs/comments/7lu9...   \n",
       "2912    23.0     AMAB  https://www.reddit.com/r/AskDocs/comments/7ls0...   \n",
       "...      ...      ...                                                ...   \n",
       "489849  26.0     AMAB  https://www.reddit.com/r/AskDocs/comments/s0fh...   \n",
       "490058  16.0     AFAB  https://www.reddit.com/r/AskDocs/comments/rzwd...   \n",
       "490231  26.0     AMAB  https://www.reddit.com/r/AskDocs/comments/rzen...   \n",
       "490454  22.0     AFAB  https://www.reddit.com/r/AskDocs/comments/ryr8...   \n",
       "491502  20.0     AFAB  https://www.reddit.com/r/AskDocs/comments/rvw9...   \n",
       "\n",
       "                              age_group author_posting_freq_group  \n",
       "1163    young adulthood (18 - 26 years)           one-time poster  \n",
       "1474    young adulthood (18 - 26 years)           one-time poster  \n",
       "1831        adolescents (13 - 17 years)           one-time poster  \n",
       "2789    young adulthood (18 - 26 years)           one-time poster  \n",
       "2912    young adulthood (18 - 26 years)           one-time poster  \n",
       "...                                 ...                       ...  \n",
       "489849  young adulthood (18 - 26 years)           one-time poster  \n",
       "490058      adolescents (13 - 17 years)           one-time poster  \n",
       "490231  young adulthood (18 - 26 years)           one-time poster  \n",
       "490454  young adulthood (18 - 26 years)           one-time poster  \n",
       "491502  young adulthood (18 - 26 years)           one-time poster  \n",
       "\n",
       "[1551 rows x 9 columns]"
      ]
     },
     "execution_count": 326,
     "metadata": {},
     "output_type": "execute_result"
    }
   ],
   "source": [
    "df[df['author'].str.contains('throw.+away', case=False)]"
   ]
  },
  {
   "cell_type": "code",
   "execution_count": null,
   "id": "38844ddf-5126-41a1-9515-82133479edac",
   "metadata": {},
   "outputs": [],
   "source": []
  }
 ],
 "metadata": {
  "kernelspec": {
   "display_name": "Python 3 (ipykernel)",
   "language": "python",
   "name": "python3"
  },
  "language_info": {
   "codemirror_mode": {
    "name": "ipython",
    "version": 3
   },
   "file_extension": ".py",
   "mimetype": "text/x-python",
   "name": "python",
   "nbconvert_exporter": "python",
   "pygments_lexer": "ipython3",
   "version": "3.11.4"
  }
 },
 "nbformat": 4,
 "nbformat_minor": 5
}
