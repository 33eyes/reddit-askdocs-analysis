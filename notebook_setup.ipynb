{
 "cells": [
  {
   "cell_type": "markdown",
   "id": "0317d94a-a95c-4da7-852e-9a57496c3283",
   "metadata": {},
   "source": [
    "# Notebook setup"
   ]
  },
  {
   "cell_type": "code",
   "execution_count": 3,
   "id": "25119ae4-ea14-4235-9358-fc123061f1cb",
   "metadata": {},
   "outputs": [],
   "source": [
    "import pickle\n",
    "import pandas as pd\n",
    "import numpy as np\n",
    "from IPython.display import display, HTML, Markdown, clear_output\n",
    "import ipywidgets as widgets\n",
    "import time \n",
    "import re\n",
    "\n",
    "import plotly.graph_objects as go\n",
    "\n",
    "# for chime alerts for query success/fails\n",
    "import chime"
   ]
  },
  {
   "cell_type": "code",
   "execution_count": null,
   "id": "e92493a9-cc6c-4870-8548-cbd29924b13e",
   "metadata": {},
   "outputs": [],
   "source": [
    "chime.theme('zelda')"
   ]
  },
  {
   "cell_type": "code",
   "execution_count": 18,
   "id": "aaeaf13e-7e32-4677-a87d-3f9871d7dd55",
   "metadata": {},
   "outputs": [
    {
     "data": {
      "text/html": [
       "<h3>Notebook setup</h3>"
      ],
      "text/plain": [
       "<IPython.core.display.HTML object>"
      ]
     },
     "metadata": {},
     "output_type": "display_data"
    }
   ],
   "source": [
    "display(HTML('<h3>Notebook setup</h3>'))"
   ]
  },
  {
   "cell_type": "code",
   "execution_count": 19,
   "id": "63e696c0-8bec-4812-bc7f-a9da1b2ddab7",
   "metadata": {},
   "outputs": [
    {
     "data": {
      "text/html": [
       "<h4>Variables:</h4>"
      ],
      "text/plain": [
       "<IPython.core.display.HTML object>"
      ]
     },
     "metadata": {},
     "output_type": "display_data"
    }
   ],
   "source": [
    "display(HTML('<h4>Variables:</h4>'))"
   ]
  },
  {
   "cell_type": "code",
   "execution_count": 20,
   "id": "be7fe9a8-a9f7-45fa-81fb-966d187cf0a4",
   "metadata": {},
   "outputs": [],
   "source": [
    "DATA_PATH = 'data/'\n",
    "OUTPUT_PATH = 'output/'"
   ]
  },
  {
   "cell_type": "code",
   "execution_count": 21,
   "id": "9df53544-5217-430d-b026-24369ceb5840",
   "metadata": {},
   "outputs": [
    {
     "name": "stdout",
     "output_type": "stream",
     "text": [
      "DATA_PATH='data/'\n",
      "OUTPUT_PATH='output/'\n"
     ]
    }
   ],
   "source": [
    "print(f'{DATA_PATH=}')\n",
    "print(f'{OUTPUT_PATH=}')"
   ]
  },
  {
   "cell_type": "code",
   "execution_count": 22,
   "id": "de49c0ec-d684-4974-9875-a69a7820bb9b",
   "metadata": {},
   "outputs": [
    {
     "data": {
      "text/html": [
       "<h4>Functions:</h4>"
      ],
      "text/plain": [
       "<IPython.core.display.HTML object>"
      ]
     },
     "metadata": {},
     "output_type": "display_data"
    }
   ],
   "source": [
    "display(HTML('<h4>Functions:</h4>'))"
   ]
  },
  {
   "cell_type": "code",
   "execution_count": 6,
   "id": "ec8e1a1f-179d-4986-96d7-5489c32ee9db",
   "metadata": {},
   "outputs": [],
   "source": [
    "def num_freq_plot(df, field, color=''):\n",
    "    '''Makes a plotly bar chart plot for the selected num type field.'''\n",
    "    freq_df = df[field].value_counts().sort_index().reset_index()\n",
    "    freq_df.columns = ['value', 'count']\n",
    "    \n",
    "    traces = []\n",
    "        \n",
    "    trace = go.Bar(\n",
    "        x=freq_df['value'],\n",
    "        y=freq_df['count'],\n",
    "        hovertext=freq_df['value'],\n",
    "        hovertemplate=\"Value: %{x:,}<br>\" +\n",
    "            \"Frequency: %{y:,}<br>\" +\n",
    "            \"<extra></extra>\",\n",
    "    )\n",
    "    traces.append(trace)\n",
    "\n",
    "    fig = go.Figure(traces)\n",
    "    \n",
    "    if len(color) > 0:\n",
    "        fig.update_traces(marker_color=color)\n",
    "        \n",
    "    fig.update_yaxes(gridcolor='#eee', title='frequency', rangemode='tozero')\n",
    "    fig.update_xaxes(rangemode='tozero')\n",
    "    fig.update_layout(\n",
    "        title=f'<b>{field}</b> frequency distribution',\n",
    "        plot_bgcolor='#fff',\n",
    "        showlegend=False,\n",
    "        height=400\n",
    "    )\n",
    "    \n",
    "    if len(freq_df) >= 10:\n",
    "        fig.update_layout(height=500)\n",
    "\n",
    "    return fig"
   ]
  },
  {
   "cell_type": "code",
   "execution_count": 17,
   "id": "0b6115b7-7980-4f36-a016-5f0db107c8b0",
   "metadata": {},
   "outputs": [
    {
     "name": "stdout",
     "output_type": "stream",
     "text": [
      "num_freq_plot(df, field, color='')\n"
     ]
    }
   ],
   "source": [
    "print(\"num_freq_plot(df, field, color='')\")"
   ]
  },
  {
   "cell_type": "code",
   "execution_count": null,
   "id": "1bb7c815-534e-4452-a8c6-c883519117a5",
   "metadata": {},
   "outputs": [],
   "source": []
  }
 ],
 "metadata": {
  "kernelspec": {
   "display_name": "Python 3 (ipykernel)",
   "language": "python",
   "name": "python3"
  },
  "language_info": {
   "codemirror_mode": {
    "name": "ipython",
    "version": 3
   },
   "file_extension": ".py",
   "mimetype": "text/x-python",
   "name": "python",
   "nbconvert_exporter": "python",
   "pygments_lexer": "ipython3",
   "version": "3.11.4"
  }
 },
 "nbformat": 4,
 "nbformat_minor": 5
}
