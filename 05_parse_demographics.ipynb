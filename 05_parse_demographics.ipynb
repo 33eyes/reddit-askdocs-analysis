{
 "cells": [
  {
   "cell_type": "markdown",
   "id": "d8bd0a15-3c30-4d67-9c7c-d44dd52d1e56",
   "metadata": {},
   "source": [
    "# Parse demographics  \n",
    "The rules of the AskDocs subreddit require at least some demographics (age and sex), and encourage detailed demographics, diagnoses, medical history and medications information.  \n",
    "\n",
    "#### Notebook objectives:  \n",
    "- Parse demographic data\n",
    "- Parse any additional info  \n",
    "- Save the resulting analysis dataset  \n",
    "\n",
    "#### Steps:  \n",
    "First, we need to work out the needed parsing steps on a smaller data subset. We'll use a small random sample of the data for that.  \n",
    "1. [Load and sample data](#Load-and-sample-data)  \n",
    "2. Parse age & sex/gender patterns  \n",
    "3. Parse age only patterns\n",
    "4. Parse sex/gender only patterns  \n",
    "\n",
    "Next, we apply the above parsing prep steps to the entire dataset.  \n",
    "7. [Load all data](#Load-all-data)  \n",
    "8. [Apply the parsing steps](#Apply-the-parsing-steps)  \n",
    "9. [Save the analysis dataset](#Save-the-analysis-dataset)\n",
    "   "
   ]
  },
  {
   "cell_type": "code",
   "execution_count": 1,
   "id": "50bd07e7-e327-4d84-9990-8aee764a4cce",
   "metadata": {},
   "outputs": [
    {
     "data": {
      "text/html": [
       "<h3>Notebook setup</h3>"
      ],
      "text/plain": [
       "<IPython.core.display.HTML object>"
      ]
     },
     "metadata": {},
     "output_type": "display_data"
    },
    {
     "data": {
      "text/html": [
       "<h4>Variables:</h4>"
      ],
      "text/plain": [
       "<IPython.core.display.HTML object>"
      ]
     },
     "metadata": {},
     "output_type": "display_data"
    },
    {
     "name": "stdout",
     "output_type": "stream",
     "text": [
      "DATA_PATH='data/'\n",
      "OUTPUT_PATH='output/'\n"
     ]
    },
    {
     "data": {
      "text/html": [
       "<h4>Functions:</h4>"
      ],
      "text/plain": [
       "<IPython.core.display.HTML object>"
      ]
     },
     "metadata": {},
     "output_type": "display_data"
    },
    {
     "name": "stdout",
     "output_type": "stream",
     "text": [
      "num_freq_plot(df, field, color='')\n"
     ]
    }
   ],
   "source": [
    "%run notebook_setup.ipynb"
   ]
  },
  {
   "cell_type": "markdown",
   "id": "d5746e1e-6299-4385-b972-c4f411e6be6d",
   "metadata": {},
   "source": [
    "## Load and sample data"
   ]
  },
  {
   "cell_type": "code",
   "execution_count": 2,
   "id": "978848fa-16df-416d-aaf8-d194eddbd2eb",
   "metadata": {},
   "outputs": [],
   "source": [
    "df = pd.read_csv(\n",
    "    DATA_PATH + 'reddit_askdocs_submissions_2017_to_20220121_analysis_ds.zip',\n",
    "    low_memory=False\n",
    ")"
   ]
  },
  {
   "cell_type": "code",
   "execution_count": 3,
   "id": "5b75cc45-d2cf-415e-a307-945b4c76dc5b",
   "metadata": {
    "collapsed": true,
    "jupyter": {
     "outputs_hidden": true
    }
   },
   "outputs": [
    {
     "data": {
      "text/html": [
       "<div>\n",
       "<style scoped>\n",
       "    .dataframe tbody tr th:only-of-type {\n",
       "        vertical-align: middle;\n",
       "    }\n",
       "\n",
       "    .dataframe tbody tr th {\n",
       "        vertical-align: top;\n",
       "    }\n",
       "\n",
       "    .dataframe thead th {\n",
       "        text-align: right;\n",
       "    }\n",
       "</style>\n",
       "<table border=\"1\" class=\"dataframe\">\n",
       "  <thead>\n",
       "    <tr style=\"text-align: right;\">\n",
       "      <th></th>\n",
       "      <th>author</th>\n",
       "      <th>author_flair_text</th>\n",
       "      <th>domain</th>\n",
       "      <th>full_link</th>\n",
       "      <th>id</th>\n",
       "      <th>locked</th>\n",
       "      <th>num_comments</th>\n",
       "      <th>num_crossposts</th>\n",
       "      <th>over_18</th>\n",
       "      <th>score</th>\n",
       "      <th>selftext</th>\n",
       "      <th>title</th>\n",
       "      <th>url</th>\n",
       "      <th>crosspost_subreddits</th>\n",
       "      <th>full_post_text</th>\n",
       "      <th>created_utc_ns_dt</th>\n",
       "      <th>edited_utc_ns_dt</th>\n",
       "    </tr>\n",
       "  </thead>\n",
       "  <tbody>\n",
       "    <tr>\n",
       "      <th>0</th>\n",
       "      <td>[deleted]</td>\n",
       "      <td>NaN</td>\n",
       "      <td>self.AskDocs</td>\n",
       "      <td>https://www.reddit.com/r/AskDocs/comments/7nbw...</td>\n",
       "      <td>7nbwtn</td>\n",
       "      <td>False</td>\n",
       "      <td>0</td>\n",
       "      <td>0.0</td>\n",
       "      <td>False</td>\n",
       "      <td>2</td>\n",
       "      <td>NaN</td>\n",
       "      <td>Appendicitis removed 1 month ago but feel a pa...</td>\n",
       "      <td>https://www.reddit.com/r/AskDocs/comments/7nbw...</td>\n",
       "      <td>NaN</td>\n",
       "      <td>Appendicitis removed 1 month ago but feel a pa...</td>\n",
       "      <td>1514764452000000000</td>\n",
       "      <td>NaN</td>\n",
       "    </tr>\n",
       "    <tr>\n",
       "      <th>1</th>\n",
       "      <td>[deleted]</td>\n",
       "      <td>NaN</td>\n",
       "      <td>self.AskDocs</td>\n",
       "      <td>https://www.reddit.com/r/AskDocs/comments/7nbv...</td>\n",
       "      <td>7nbvln</td>\n",
       "      <td>False</td>\n",
       "      <td>1</td>\n",
       "      <td>0.0</td>\n",
       "      <td>False</td>\n",
       "      <td>1</td>\n",
       "      <td>NaN</td>\n",
       "      <td>My grandma has neck/back pain and little to no...</td>\n",
       "      <td>https://www.reddit.com/r/AskDocs/comments/7nbv...</td>\n",
       "      <td>NaN</td>\n",
       "      <td>My grandma has neck/back pain and little to no...</td>\n",
       "      <td>1514764055000000000</td>\n",
       "      <td>NaN</td>\n",
       "    </tr>\n",
       "    <tr>\n",
       "      <th>2</th>\n",
       "      <td>DavisTheMagicSheep</td>\n",
       "      <td>This user has not yet been verified.</td>\n",
       "      <td>self.AskDocs</td>\n",
       "      <td>https://www.reddit.com/r/AskDocs/comments/7nbu...</td>\n",
       "      <td>7nburb</td>\n",
       "      <td>False</td>\n",
       "      <td>2</td>\n",
       "      <td>0.0</td>\n",
       "      <td>False</td>\n",
       "      <td>1</td>\n",
       "      <td>I've had a cold for the last couple days now, ...</td>\n",
       "      <td>My ears feel like there is pressure inside of ...</td>\n",
       "      <td>https://www.reddit.com/r/AskDocs/comments/7nbu...</td>\n",
       "      <td>NaN</td>\n",
       "      <td>My ears feel like there is pressure inside of ...</td>\n",
       "      <td>1514763799000000000</td>\n",
       "      <td>NaN</td>\n",
       "    </tr>\n",
       "    <tr>\n",
       "      <th>3</th>\n",
       "      <td>Dontgetscooped</td>\n",
       "      <td>This user has not yet been verified.</td>\n",
       "      <td>self.AskDocs</td>\n",
       "      <td>https://www.reddit.com/r/AskDocs/comments/7nbs...</td>\n",
       "      <td>7nbsw2</td>\n",
       "      <td>False</td>\n",
       "      <td>1</td>\n",
       "      <td>0.0</td>\n",
       "      <td>False</td>\n",
       "      <td>1</td>\n",
       "      <td>(first about me : 32 white male 5 foot 5 225lb...</td>\n",
       "      <td>IBS maybe?</td>\n",
       "      <td>https://www.reddit.com/r/AskDocs/comments/7nbs...</td>\n",
       "      <td>NaN</td>\n",
       "      <td>IBS maybe? | (first about me : 32 white male 5...</td>\n",
       "      <td>1514763188000000000</td>\n",
       "      <td>NaN</td>\n",
       "    </tr>\n",
       "    <tr>\n",
       "      <th>4</th>\n",
       "      <td>AveryFenix</td>\n",
       "      <td>This user has not yet been verified.</td>\n",
       "      <td>self.AskDocs</td>\n",
       "      <td>https://www.reddit.com/r/AskDocs/comments/7nbo...</td>\n",
       "      <td>7nbolv</td>\n",
       "      <td>False</td>\n",
       "      <td>7</td>\n",
       "      <td>0.0</td>\n",
       "      <td>False</td>\n",
       "      <td>7</td>\n",
       "      <td>I've had these marks on my stomach ever since ...</td>\n",
       "      <td>Mole or scar? Should I be worried about melanoma?</td>\n",
       "      <td>https://www.reddit.com/r/AskDocs/comments/7nbo...</td>\n",
       "      <td>NaN</td>\n",
       "      <td>Mole or scar? Should I be worried about melano...</td>\n",
       "      <td>1514761839000000000</td>\n",
       "      <td>NaN</td>\n",
       "    </tr>\n",
       "  </tbody>\n",
       "</table>\n",
       "</div>"
      ],
      "text/plain": [
       "               author                     author_flair_text        domain   \n",
       "0           [deleted]                                   NaN  self.AskDocs  \\\n",
       "1           [deleted]                                   NaN  self.AskDocs   \n",
       "2  DavisTheMagicSheep  This user has not yet been verified.  self.AskDocs   \n",
       "3      Dontgetscooped  This user has not yet been verified.  self.AskDocs   \n",
       "4          AveryFenix  This user has not yet been verified.  self.AskDocs   \n",
       "\n",
       "                                           full_link      id  locked   \n",
       "0  https://www.reddit.com/r/AskDocs/comments/7nbw...  7nbwtn   False  \\\n",
       "1  https://www.reddit.com/r/AskDocs/comments/7nbv...  7nbvln   False   \n",
       "2  https://www.reddit.com/r/AskDocs/comments/7nbu...  7nburb   False   \n",
       "3  https://www.reddit.com/r/AskDocs/comments/7nbs...  7nbsw2   False   \n",
       "4  https://www.reddit.com/r/AskDocs/comments/7nbo...  7nbolv   False   \n",
       "\n",
       "   num_comments  num_crossposts  over_18  score   \n",
       "0             0             0.0    False      2  \\\n",
       "1             1             0.0    False      1   \n",
       "2             2             0.0    False      1   \n",
       "3             1             0.0    False      1   \n",
       "4             7             0.0    False      7   \n",
       "\n",
       "                                            selftext   \n",
       "0                                                NaN  \\\n",
       "1                                                NaN   \n",
       "2  I've had a cold for the last couple days now, ...   \n",
       "3  (first about me : 32 white male 5 foot 5 225lb...   \n",
       "4  I've had these marks on my stomach ever since ...   \n",
       "\n",
       "                                               title   \n",
       "0  Appendicitis removed 1 month ago but feel a pa...  \\\n",
       "1  My grandma has neck/back pain and little to no...   \n",
       "2  My ears feel like there is pressure inside of ...   \n",
       "3                                         IBS maybe?   \n",
       "4  Mole or scar? Should I be worried about melanoma?   \n",
       "\n",
       "                                                 url crosspost_subreddits   \n",
       "0  https://www.reddit.com/r/AskDocs/comments/7nbw...                  NaN  \\\n",
       "1  https://www.reddit.com/r/AskDocs/comments/7nbv...                  NaN   \n",
       "2  https://www.reddit.com/r/AskDocs/comments/7nbu...                  NaN   \n",
       "3  https://www.reddit.com/r/AskDocs/comments/7nbs...                  NaN   \n",
       "4  https://www.reddit.com/r/AskDocs/comments/7nbo...                  NaN   \n",
       "\n",
       "                                      full_post_text    created_utc_ns_dt   \n",
       "0  Appendicitis removed 1 month ago but feel a pa...  1514764452000000000  \\\n",
       "1  My grandma has neck/back pain and little to no...  1514764055000000000   \n",
       "2  My ears feel like there is pressure inside of ...  1514763799000000000   \n",
       "3  IBS maybe? | (first about me : 32 white male 5...  1514763188000000000   \n",
       "4  Mole or scar? Should I be worried about melano...  1514761839000000000   \n",
       "\n",
       "   edited_utc_ns_dt  \n",
       "0               NaN  \n",
       "1               NaN  \n",
       "2               NaN  \n",
       "3               NaN  \n",
       "4               NaN  "
      ]
     },
     "execution_count": 3,
     "metadata": {},
     "output_type": "execute_result"
    }
   ],
   "source": [
    "df.head()"
   ]
  },
  {
   "cell_type": "code",
   "execution_count": 4,
   "id": "33d5661b-a2c4-4da6-acbb-1353ddad01ff",
   "metadata": {},
   "outputs": [],
   "source": [
    "df_sample = df.sample(n=10_000, random_state=1)"
   ]
  },
  {
   "cell_type": "code",
   "execution_count": 5,
   "id": "cd61761f-8d36-4240-bfc9-bcab20f0d713",
   "metadata": {},
   "outputs": [],
   "source": [
    "del df"
   ]
  },
  {
   "cell_type": "code",
   "execution_count": 6,
   "id": "7496421e-aa3f-45f5-9846-a35993567cc0",
   "metadata": {},
   "outputs": [],
   "source": [
    "# a copy of the sample that's ok to mess up\n",
    "df_sample2 = df_sample.copy()"
   ]
  },
  {
   "cell_type": "markdown",
   "id": "e4102b2a-d77a-45d8-86e8-f0735e41010d",
   "metadata": {},
   "source": [
    "## Parse age & sex/gender patterns"
   ]
  },
  {
   "cell_type": "code",
   "execution_count": 15,
   "id": "5799d555-0365-4ec2-8dd1-58b4a71ae363",
   "metadata": {},
   "outputs": [
    {
     "data": {
      "text/plain": [
       "full_post_text\n",
       "Help |                                                          3\n",
       "Do cannabis withdrawal symptoms come and go through its dura    2\n",
       "Tonsillitis question |                                          2\n",
       "What do I have |                                                2\n",
       "Ear infection |                                                 2\n",
       "Why does my sternum “pop” if I’ve been sitting leaning over     2\n",
       "Dull chest pain after infected by COVID that doesn't feel se    2\n",
       "Does this need stitches? |                                      2\n",
       "Bright Red Blood &amp; Clotting In Stool - NSAID/Alcohol | H    1\n",
       "What are these red dots on my skin? | Hi all, on Wednesday t    1\n",
       "Name: count, dtype: int64"
      ]
     },
     "execution_count": 15,
     "metadata": {},
     "output_type": "execute_result"
    }
   ],
   "source": [
    "df_sample2['full_post_text'].str[:60].value_counts().head(10)"
   ]
  },
  {
   "cell_type": "markdown",
   "id": "95101e01-9e73-4d09-ac66-d6178c231787",
   "metadata": {},
   "source": [
    "### Age and gender pattern 1  \n",
    "Pattern like:  \n",
    " - 28F  \n",
    " - 28 female  \n",
    " - 28, AMAB  \n",
    " - etc.  "
   ]
  },
  {
   "cell_type": "code",
   "execution_count": 17,
   "id": "f89e0d98-5eb5-4054-9760-5038f3824bff",
   "metadata": {},
   "outputs": [],
   "source": [
    "regexp_gender_kwds = r'(F|M|AFAB|AMAB|MTF|FTM|female|male|boy|girl|man|woman|father|mother|daughter|son|brother|sister|grandma|grandpa|grandmother|grandfather)'"
   ]
  },
  {
   "cell_type": "code",
   "execution_count": 18,
   "id": "77230514-6f4e-45ae-b459-93b004a01685",
   "metadata": {},
   "outputs": [],
   "source": [
    "regexp_age_gender_1 = r'''(?<![.,'\"])\\b([1-9]\\d?)[,/]? ?''' + regexp_gender_kwds + r'\\b'\n",
    "\n",
    "regexp_age_gender_1_extracts = df_sample2['full_post_text'].str.extract(\n",
    "        regexp_age_gender_1,\n",
    "        flags=re.IGNORECASE\n",
    "    ).rename(columns={\n",
    "        0: 'patient_age',\n",
    "        1: 'patient_gender'\n",
    "    })\n",
    "\n",
    "regexp_age_gender_1_extracts.dropna(inplace=True)\n",
    "\n",
    "regexp_age_gender_1_extracts['patient_age'] = \\\n",
    "    regexp_age_gender_1_extracts['patient_age'].astype('int')"
   ]
  },
  {
   "cell_type": "code",
   "execution_count": 19,
   "id": "fb75df46-3889-4f92-b084-222008f34236",
   "metadata": {},
   "outputs": [
    {
     "data": {
      "text/plain": [
       "0.3183"
      ]
     },
     "execution_count": 19,
     "metadata": {},
     "output_type": "execute_result"
    }
   ],
   "source": [
    "len(regexp_age_gender_1_extracts)/len(df_sample2)"
   ]
  },
  {
   "cell_type": "code",
   "execution_count": 20,
   "id": "47873085-ff85-4891-b006-d93ddf7af52a",
   "metadata": {},
   "outputs": [
    {
     "data": {
      "text/html": [
       "<div>\n",
       "<style scoped>\n",
       "    .dataframe tbody tr th:only-of-type {\n",
       "        vertical-align: middle;\n",
       "    }\n",
       "\n",
       "    .dataframe tbody tr th {\n",
       "        vertical-align: top;\n",
       "    }\n",
       "\n",
       "    .dataframe thead th {\n",
       "        text-align: right;\n",
       "    }\n",
       "</style>\n",
       "<table border=\"1\" class=\"dataframe\">\n",
       "  <thead>\n",
       "    <tr style=\"text-align: right;\">\n",
       "      <th></th>\n",
       "      <th>patient_age</th>\n",
       "      <th>patient_gender</th>\n",
       "    </tr>\n",
       "  </thead>\n",
       "  <tbody>\n",
       "    <tr>\n",
       "      <th>count</th>\n",
       "      <td>3183.000000</td>\n",
       "      <td>3183</td>\n",
       "    </tr>\n",
       "    <tr>\n",
       "      <th>unique</th>\n",
       "      <td>NaN</td>\n",
       "      <td>17</td>\n",
       "    </tr>\n",
       "    <tr>\n",
       "      <th>top</th>\n",
       "      <td>NaN</td>\n",
       "      <td>F</td>\n",
       "    </tr>\n",
       "    <tr>\n",
       "      <th>freq</th>\n",
       "      <td>NaN</td>\n",
       "      <td>1151</td>\n",
       "    </tr>\n",
       "    <tr>\n",
       "      <th>mean</th>\n",
       "      <td>25.121583</td>\n",
       "      <td>NaN</td>\n",
       "    </tr>\n",
       "    <tr>\n",
       "      <th>std</th>\n",
       "      <td>8.937768</td>\n",
       "      <td>NaN</td>\n",
       "    </tr>\n",
       "    <tr>\n",
       "      <th>min</th>\n",
       "      <td>1.000000</td>\n",
       "      <td>NaN</td>\n",
       "    </tr>\n",
       "    <tr>\n",
       "      <th>25%</th>\n",
       "      <td>20.000000</td>\n",
       "      <td>NaN</td>\n",
       "    </tr>\n",
       "    <tr>\n",
       "      <th>50%</th>\n",
       "      <td>23.000000</td>\n",
       "      <td>NaN</td>\n",
       "    </tr>\n",
       "    <tr>\n",
       "      <th>75%</th>\n",
       "      <td>28.000000</td>\n",
       "      <td>NaN</td>\n",
       "    </tr>\n",
       "    <tr>\n",
       "      <th>max</th>\n",
       "      <td>99.000000</td>\n",
       "      <td>NaN</td>\n",
       "    </tr>\n",
       "  </tbody>\n",
       "</table>\n",
       "</div>"
      ],
      "text/plain": [
       "        patient_age patient_gender\n",
       "count   3183.000000           3183\n",
       "unique          NaN             17\n",
       "top             NaN              F\n",
       "freq            NaN           1151\n",
       "mean      25.121583            NaN\n",
       "std        8.937768            NaN\n",
       "min        1.000000            NaN\n",
       "25%       20.000000            NaN\n",
       "50%       23.000000            NaN\n",
       "75%       28.000000            NaN\n",
       "max       99.000000            NaN"
      ]
     },
     "execution_count": 20,
     "metadata": {},
     "output_type": "execute_result"
    }
   ],
   "source": [
    "regexp_age_gender_1_extracts.describe(include='all')"
   ]
  },
  {
   "cell_type": "code",
   "execution_count": 21,
   "id": "8daa6e97-eb65-4567-a6c0-a8618f638898",
   "metadata": {},
   "outputs": [
    {
     "data": {
      "text/plain": [
       "patient_age\n",
       "1     2\n",
       "2     7\n",
       "3     5\n",
       "4     1\n",
       "5     3\n",
       "     ..\n",
       "82    1\n",
       "85    1\n",
       "91    1\n",
       "98    1\n",
       "99    1\n",
       "Name: count, Length: 75, dtype: int64"
      ]
     },
     "execution_count": 21,
     "metadata": {},
     "output_type": "execute_result"
    }
   ],
   "source": [
    "regexp_age_gender_1_extracts['patient_age'].value_counts().sort_index()"
   ]
  },
  {
   "cell_type": "code",
   "execution_count": 22,
   "id": "ceccd87e-bf3c-4548-a05d-236ea9463efe",
   "metadata": {},
   "outputs": [
    {
     "data": {
      "application/vnd.plotly.v1+json": {
       "config": {
        "plotlyServerURL": "https://plotly.com"
       },
       "data": [
        {
         "hovertemplate": "Value: %{x:,}<br>Frequency: %{y:,}<br><extra></extra>",
         "hovertext": [
          1,
          2,
          3,
          4,
          5,
          6,
          8,
          10,
          11,
          13,
          14,
          15,
          16,
          17,
          18,
          19,
          20,
          21,
          22,
          23,
          24,
          25,
          26,
          27,
          28,
          29,
          30,
          31,
          32,
          33,
          34,
          35,
          36,
          37,
          38,
          39,
          40,
          41,
          42,
          43,
          44,
          45,
          46,
          47,
          48,
          49,
          50,
          51,
          52,
          53,
          54,
          55,
          56,
          57,
          58,
          59,
          60,
          61,
          63,
          64,
          65,
          67,
          68,
          70,
          72,
          73,
          74,
          75,
          76,
          79,
          82,
          85,
          91,
          98,
          99
         ],
         "type": "bar",
         "x": [
          1,
          2,
          3,
          4,
          5,
          6,
          8,
          10,
          11,
          13,
          14,
          15,
          16,
          17,
          18,
          19,
          20,
          21,
          22,
          23,
          24,
          25,
          26,
          27,
          28,
          29,
          30,
          31,
          32,
          33,
          34,
          35,
          36,
          37,
          38,
          39,
          40,
          41,
          42,
          43,
          44,
          45,
          46,
          47,
          48,
          49,
          50,
          51,
          52,
          53,
          54,
          55,
          56,
          57,
          58,
          59,
          60,
          61,
          63,
          64,
          65,
          67,
          68,
          70,
          72,
          73,
          74,
          75,
          76,
          79,
          82,
          85,
          91,
          98,
          99
         ],
         "y": [
          2,
          7,
          5,
          1,
          3,
          1,
          2,
          5,
          2,
          22,
          47,
          63,
          103,
          105,
          198,
          191,
          205,
          204,
          229,
          207,
          212,
          191,
          157,
          130,
          109,
          75,
          120,
          80,
          68,
          60,
          57,
          54,
          40,
          28,
          20,
          15,
          22,
          13,
          8,
          8,
          10,
          8,
          8,
          4,
          6,
          5,
          5,
          3,
          3,
          3,
          1,
          6,
          2,
          3,
          7,
          6,
          4,
          1,
          4,
          2,
          1,
          2,
          2,
          3,
          1,
          3,
          1,
          3,
          1,
          1,
          1,
          1,
          1,
          1,
          1
         ]
        }
       ],
       "layout": {
        "autosize": true,
        "plot_bgcolor": "#fff",
        "showlegend": false,
        "template": {
         "data": {
          "bar": [
           {
            "error_x": {
             "color": "#2a3f5f"
            },
            "error_y": {
             "color": "#2a3f5f"
            },
            "marker": {
             "line": {
              "color": "#E5ECF6",
              "width": 0.5
             },
             "pattern": {
              "fillmode": "overlay",
              "size": 10,
              "solidity": 0.2
             }
            },
            "type": "bar"
           }
          ],
          "barpolar": [
           {
            "marker": {
             "line": {
              "color": "#E5ECF6",
              "width": 0.5
             },
             "pattern": {
              "fillmode": "overlay",
              "size": 10,
              "solidity": 0.2
             }
            },
            "type": "barpolar"
           }
          ],
          "carpet": [
           {
            "aaxis": {
             "endlinecolor": "#2a3f5f",
             "gridcolor": "white",
             "linecolor": "white",
             "minorgridcolor": "white",
             "startlinecolor": "#2a3f5f"
            },
            "baxis": {
             "endlinecolor": "#2a3f5f",
             "gridcolor": "white",
             "linecolor": "white",
             "minorgridcolor": "white",
             "startlinecolor": "#2a3f5f"
            },
            "type": "carpet"
           }
          ],
          "choropleth": [
           {
            "colorbar": {
             "outlinewidth": 0,
             "ticks": ""
            },
            "type": "choropleth"
           }
          ],
          "contour": [
           {
            "colorbar": {
             "outlinewidth": 0,
             "ticks": ""
            },
            "colorscale": [
             [
              0,
              "#0d0887"
             ],
             [
              0.1111111111111111,
              "#46039f"
             ],
             [
              0.2222222222222222,
              "#7201a8"
             ],
             [
              0.3333333333333333,
              "#9c179e"
             ],
             [
              0.4444444444444444,
              "#bd3786"
             ],
             [
              0.5555555555555556,
              "#d8576b"
             ],
             [
              0.6666666666666666,
              "#ed7953"
             ],
             [
              0.7777777777777778,
              "#fb9f3a"
             ],
             [
              0.8888888888888888,
              "#fdca26"
             ],
             [
              1,
              "#f0f921"
             ]
            ],
            "type": "contour"
           }
          ],
          "contourcarpet": [
           {
            "colorbar": {
             "outlinewidth": 0,
             "ticks": ""
            },
            "type": "contourcarpet"
           }
          ],
          "heatmap": [
           {
            "colorbar": {
             "outlinewidth": 0,
             "ticks": ""
            },
            "colorscale": [
             [
              0,
              "#0d0887"
             ],
             [
              0.1111111111111111,
              "#46039f"
             ],
             [
              0.2222222222222222,
              "#7201a8"
             ],
             [
              0.3333333333333333,
              "#9c179e"
             ],
             [
              0.4444444444444444,
              "#bd3786"
             ],
             [
              0.5555555555555556,
              "#d8576b"
             ],
             [
              0.6666666666666666,
              "#ed7953"
             ],
             [
              0.7777777777777778,
              "#fb9f3a"
             ],
             [
              0.8888888888888888,
              "#fdca26"
             ],
             [
              1,
              "#f0f921"
             ]
            ],
            "type": "heatmap"
           }
          ],
          "heatmapgl": [
           {
            "colorbar": {
             "outlinewidth": 0,
             "ticks": ""
            },
            "colorscale": [
             [
              0,
              "#0d0887"
             ],
             [
              0.1111111111111111,
              "#46039f"
             ],
             [
              0.2222222222222222,
              "#7201a8"
             ],
             [
              0.3333333333333333,
              "#9c179e"
             ],
             [
              0.4444444444444444,
              "#bd3786"
             ],
             [
              0.5555555555555556,
              "#d8576b"
             ],
             [
              0.6666666666666666,
              "#ed7953"
             ],
             [
              0.7777777777777778,
              "#fb9f3a"
             ],
             [
              0.8888888888888888,
              "#fdca26"
             ],
             [
              1,
              "#f0f921"
             ]
            ],
            "type": "heatmapgl"
           }
          ],
          "histogram": [
           {
            "marker": {
             "pattern": {
              "fillmode": "overlay",
              "size": 10,
              "solidity": 0.2
             }
            },
            "type": "histogram"
           }
          ],
          "histogram2d": [
           {
            "colorbar": {
             "outlinewidth": 0,
             "ticks": ""
            },
            "colorscale": [
             [
              0,
              "#0d0887"
             ],
             [
              0.1111111111111111,
              "#46039f"
             ],
             [
              0.2222222222222222,
              "#7201a8"
             ],
             [
              0.3333333333333333,
              "#9c179e"
             ],
             [
              0.4444444444444444,
              "#bd3786"
             ],
             [
              0.5555555555555556,
              "#d8576b"
             ],
             [
              0.6666666666666666,
              "#ed7953"
             ],
             [
              0.7777777777777778,
              "#fb9f3a"
             ],
             [
              0.8888888888888888,
              "#fdca26"
             ],
             [
              1,
              "#f0f921"
             ]
            ],
            "type": "histogram2d"
           }
          ],
          "histogram2dcontour": [
           {
            "colorbar": {
             "outlinewidth": 0,
             "ticks": ""
            },
            "colorscale": [
             [
              0,
              "#0d0887"
             ],
             [
              0.1111111111111111,
              "#46039f"
             ],
             [
              0.2222222222222222,
              "#7201a8"
             ],
             [
              0.3333333333333333,
              "#9c179e"
             ],
             [
              0.4444444444444444,
              "#bd3786"
             ],
             [
              0.5555555555555556,
              "#d8576b"
             ],
             [
              0.6666666666666666,
              "#ed7953"
             ],
             [
              0.7777777777777778,
              "#fb9f3a"
             ],
             [
              0.8888888888888888,
              "#fdca26"
             ],
             [
              1,
              "#f0f921"
             ]
            ],
            "type": "histogram2dcontour"
           }
          ],
          "mesh3d": [
           {
            "colorbar": {
             "outlinewidth": 0,
             "ticks": ""
            },
            "type": "mesh3d"
           }
          ],
          "parcoords": [
           {
            "line": {
             "colorbar": {
              "outlinewidth": 0,
              "ticks": ""
             }
            },
            "type": "parcoords"
           }
          ],
          "pie": [
           {
            "automargin": true,
            "type": "pie"
           }
          ],
          "scatter": [
           {
            "fillpattern": {
             "fillmode": "overlay",
             "size": 10,
             "solidity": 0.2
            },
            "type": "scatter"
           }
          ],
          "scatter3d": [
           {
            "line": {
             "colorbar": {
              "outlinewidth": 0,
              "ticks": ""
             }
            },
            "marker": {
             "colorbar": {
              "outlinewidth": 0,
              "ticks": ""
             }
            },
            "type": "scatter3d"
           }
          ],
          "scattercarpet": [
           {
            "marker": {
             "colorbar": {
              "outlinewidth": 0,
              "ticks": ""
             }
            },
            "type": "scattercarpet"
           }
          ],
          "scattergeo": [
           {
            "marker": {
             "colorbar": {
              "outlinewidth": 0,
              "ticks": ""
             }
            },
            "type": "scattergeo"
           }
          ],
          "scattergl": [
           {
            "marker": {
             "colorbar": {
              "outlinewidth": 0,
              "ticks": ""
             }
            },
            "type": "scattergl"
           }
          ],
          "scattermapbox": [
           {
            "marker": {
             "colorbar": {
              "outlinewidth": 0,
              "ticks": ""
             }
            },
            "type": "scattermapbox"
           }
          ],
          "scatterpolar": [
           {
            "marker": {
             "colorbar": {
              "outlinewidth": 0,
              "ticks": ""
             }
            },
            "type": "scatterpolar"
           }
          ],
          "scatterpolargl": [
           {
            "marker": {
             "colorbar": {
              "outlinewidth": 0,
              "ticks": ""
             }
            },
            "type": "scatterpolargl"
           }
          ],
          "scatterternary": [
           {
            "marker": {
             "colorbar": {
              "outlinewidth": 0,
              "ticks": ""
             }
            },
            "type": "scatterternary"
           }
          ],
          "surface": [
           {
            "colorbar": {
             "outlinewidth": 0,
             "ticks": ""
            },
            "colorscale": [
             [
              0,
              "#0d0887"
             ],
             [
              0.1111111111111111,
              "#46039f"
             ],
             [
              0.2222222222222222,
              "#7201a8"
             ],
             [
              0.3333333333333333,
              "#9c179e"
             ],
             [
              0.4444444444444444,
              "#bd3786"
             ],
             [
              0.5555555555555556,
              "#d8576b"
             ],
             [
              0.6666666666666666,
              "#ed7953"
             ],
             [
              0.7777777777777778,
              "#fb9f3a"
             ],
             [
              0.8888888888888888,
              "#fdca26"
             ],
             [
              1,
              "#f0f921"
             ]
            ],
            "type": "surface"
           }
          ],
          "table": [
           {
            "cells": {
             "fill": {
              "color": "#EBF0F8"
             },
             "line": {
              "color": "white"
             }
            },
            "header": {
             "fill": {
              "color": "#C8D4E3"
             },
             "line": {
              "color": "white"
             }
            },
            "type": "table"
           }
          ]
         },
         "layout": {
          "annotationdefaults": {
           "arrowcolor": "#2a3f5f",
           "arrowhead": 0,
           "arrowwidth": 1
          },
          "autotypenumbers": "strict",
          "coloraxis": {
           "colorbar": {
            "outlinewidth": 0,
            "ticks": ""
           }
          },
          "colorscale": {
           "diverging": [
            [
             0,
             "#8e0152"
            ],
            [
             0.1,
             "#c51b7d"
            ],
            [
             0.2,
             "#de77ae"
            ],
            [
             0.3,
             "#f1b6da"
            ],
            [
             0.4,
             "#fde0ef"
            ],
            [
             0.5,
             "#f7f7f7"
            ],
            [
             0.6,
             "#e6f5d0"
            ],
            [
             0.7,
             "#b8e186"
            ],
            [
             0.8,
             "#7fbc41"
            ],
            [
             0.9,
             "#4d9221"
            ],
            [
             1,
             "#276419"
            ]
           ],
           "sequential": [
            [
             0,
             "#0d0887"
            ],
            [
             0.1111111111111111,
             "#46039f"
            ],
            [
             0.2222222222222222,
             "#7201a8"
            ],
            [
             0.3333333333333333,
             "#9c179e"
            ],
            [
             0.4444444444444444,
             "#bd3786"
            ],
            [
             0.5555555555555556,
             "#d8576b"
            ],
            [
             0.6666666666666666,
             "#ed7953"
            ],
            [
             0.7777777777777778,
             "#fb9f3a"
            ],
            [
             0.8888888888888888,
             "#fdca26"
            ],
            [
             1,
             "#f0f921"
            ]
           ],
           "sequentialminus": [
            [
             0,
             "#0d0887"
            ],
            [
             0.1111111111111111,
             "#46039f"
            ],
            [
             0.2222222222222222,
             "#7201a8"
            ],
            [
             0.3333333333333333,
             "#9c179e"
            ],
            [
             0.4444444444444444,
             "#bd3786"
            ],
            [
             0.5555555555555556,
             "#d8576b"
            ],
            [
             0.6666666666666666,
             "#ed7953"
            ],
            [
             0.7777777777777778,
             "#fb9f3a"
            ],
            [
             0.8888888888888888,
             "#fdca26"
            ],
            [
             1,
             "#f0f921"
            ]
           ]
          },
          "colorway": [
           "#636efa",
           "#EF553B",
           "#00cc96",
           "#ab63fa",
           "#FFA15A",
           "#19d3f3",
           "#FF6692",
           "#B6E880",
           "#FF97FF",
           "#FECB52"
          ],
          "font": {
           "color": "#2a3f5f"
          },
          "geo": {
           "bgcolor": "white",
           "lakecolor": "white",
           "landcolor": "#E5ECF6",
           "showlakes": true,
           "showland": true,
           "subunitcolor": "white"
          },
          "hoverlabel": {
           "align": "left"
          },
          "hovermode": "closest",
          "mapbox": {
           "style": "light"
          },
          "paper_bgcolor": "white",
          "plot_bgcolor": "#E5ECF6",
          "polar": {
           "angularaxis": {
            "gridcolor": "white",
            "linecolor": "white",
            "ticks": ""
           },
           "bgcolor": "#E5ECF6",
           "radialaxis": {
            "gridcolor": "white",
            "linecolor": "white",
            "ticks": ""
           }
          },
          "scene": {
           "xaxis": {
            "backgroundcolor": "#E5ECF6",
            "gridcolor": "white",
            "gridwidth": 2,
            "linecolor": "white",
            "showbackground": true,
            "ticks": "",
            "zerolinecolor": "white"
           },
           "yaxis": {
            "backgroundcolor": "#E5ECF6",
            "gridcolor": "white",
            "gridwidth": 2,
            "linecolor": "white",
            "showbackground": true,
            "ticks": "",
            "zerolinecolor": "white"
           },
           "zaxis": {
            "backgroundcolor": "#E5ECF6",
            "gridcolor": "white",
            "gridwidth": 2,
            "linecolor": "white",
            "showbackground": true,
            "ticks": "",
            "zerolinecolor": "white"
           }
          },
          "shapedefaults": {
           "line": {
            "color": "#2a3f5f"
           }
          },
          "ternary": {
           "aaxis": {
            "gridcolor": "white",
            "linecolor": "white",
            "ticks": ""
           },
           "baxis": {
            "gridcolor": "white",
            "linecolor": "white",
            "ticks": ""
           },
           "bgcolor": "#E5ECF6",
           "caxis": {
            "gridcolor": "white",
            "linecolor": "white",
            "ticks": ""
           }
          },
          "title": {
           "x": 0.05
          },
          "xaxis": {
           "automargin": true,
           "gridcolor": "white",
           "linecolor": "white",
           "ticks": "",
           "title": {
            "standoff": 15
           },
           "zerolinecolor": "white",
           "zerolinewidth": 2
          },
          "yaxis": {
           "automargin": true,
           "gridcolor": "white",
           "linecolor": "white",
           "ticks": "",
           "title": {
            "standoff": 15
           },
           "zerolinecolor": "white",
           "zerolinewidth": 2
          }
         }
        },
        "title": {
         "text": "<b>patient_age</b> frequency distribution"
        },
        "xaxis": {
         "autorange": true,
         "range": [
          0,
          99.5
         ],
         "rangemode": "tozero",
         "type": "linear"
        },
        "yaxis": {
         "autorange": true,
         "gridcolor": "#eee",
         "range": [
          0,
          241.05263157894737
         ],
         "rangemode": "tozero",
         "title": {
          "text": "frequency"
         },
         "type": "linear"
        }
       }
      },
      "text/html": [
       "<div>                            <div id=\"6a54a8ec-4621-458d-9972-c34567f5a225\" class=\"plotly-graph-div\" style=\"height:500px; width:100%;\"></div>            <script type=\"text/javascript\">                require([\"plotly\"], function(Plotly) {                    window.PLOTLYENV=window.PLOTLYENV || {};                                    if (document.getElementById(\"6a54a8ec-4621-458d-9972-c34567f5a225\")) {                    Plotly.newPlot(                        \"6a54a8ec-4621-458d-9972-c34567f5a225\",                        [{\"hovertemplate\":\"Value: %{x:,}<br>Frequency: %{y:,}<br><extra></extra>\",\"hovertext\":[1.0,2.0,3.0,4.0,5.0,6.0,8.0,10.0,11.0,13.0,14.0,15.0,16.0,17.0,18.0,19.0,20.0,21.0,22.0,23.0,24.0,25.0,26.0,27.0,28.0,29.0,30.0,31.0,32.0,33.0,34.0,35.0,36.0,37.0,38.0,39.0,40.0,41.0,42.0,43.0,44.0,45.0,46.0,47.0,48.0,49.0,50.0,51.0,52.0,53.0,54.0,55.0,56.0,57.0,58.0,59.0,60.0,61.0,63.0,64.0,65.0,67.0,68.0,70.0,72.0,73.0,74.0,75.0,76.0,79.0,82.0,85.0,91.0,98.0,99.0],\"x\":[1,2,3,4,5,6,8,10,11,13,14,15,16,17,18,19,20,21,22,23,24,25,26,27,28,29,30,31,32,33,34,35,36,37,38,39,40,41,42,43,44,45,46,47,48,49,50,51,52,53,54,55,56,57,58,59,60,61,63,64,65,67,68,70,72,73,74,75,76,79,82,85,91,98,99],\"y\":[2,7,5,1,3,1,2,5,2,22,47,63,103,105,198,191,205,204,229,207,212,191,157,130,109,75,120,80,68,60,57,54,40,28,20,15,22,13,8,8,10,8,8,4,6,5,5,3,3,3,1,6,2,3,7,6,4,1,4,2,1,2,2,3,1,3,1,3,1,1,1,1,1,1,1],\"type\":\"bar\"}],                        {\"template\":{\"data\":{\"histogram2dcontour\":[{\"type\":\"histogram2dcontour\",\"colorbar\":{\"outlinewidth\":0,\"ticks\":\"\"},\"colorscale\":[[0.0,\"#0d0887\"],[0.1111111111111111,\"#46039f\"],[0.2222222222222222,\"#7201a8\"],[0.3333333333333333,\"#9c179e\"],[0.4444444444444444,\"#bd3786\"],[0.5555555555555556,\"#d8576b\"],[0.6666666666666666,\"#ed7953\"],[0.7777777777777778,\"#fb9f3a\"],[0.8888888888888888,\"#fdca26\"],[1.0,\"#f0f921\"]]}],\"choropleth\":[{\"type\":\"choropleth\",\"colorbar\":{\"outlinewidth\":0,\"ticks\":\"\"}}],\"histogram2d\":[{\"type\":\"histogram2d\",\"colorbar\":{\"outlinewidth\":0,\"ticks\":\"\"},\"colorscale\":[[0.0,\"#0d0887\"],[0.1111111111111111,\"#46039f\"],[0.2222222222222222,\"#7201a8\"],[0.3333333333333333,\"#9c179e\"],[0.4444444444444444,\"#bd3786\"],[0.5555555555555556,\"#d8576b\"],[0.6666666666666666,\"#ed7953\"],[0.7777777777777778,\"#fb9f3a\"],[0.8888888888888888,\"#fdca26\"],[1.0,\"#f0f921\"]]}],\"heatmap\":[{\"type\":\"heatmap\",\"colorbar\":{\"outlinewidth\":0,\"ticks\":\"\"},\"colorscale\":[[0.0,\"#0d0887\"],[0.1111111111111111,\"#46039f\"],[0.2222222222222222,\"#7201a8\"],[0.3333333333333333,\"#9c179e\"],[0.4444444444444444,\"#bd3786\"],[0.5555555555555556,\"#d8576b\"],[0.6666666666666666,\"#ed7953\"],[0.7777777777777778,\"#fb9f3a\"],[0.8888888888888888,\"#fdca26\"],[1.0,\"#f0f921\"]]}],\"heatmapgl\":[{\"type\":\"heatmapgl\",\"colorbar\":{\"outlinewidth\":0,\"ticks\":\"\"},\"colorscale\":[[0.0,\"#0d0887\"],[0.1111111111111111,\"#46039f\"],[0.2222222222222222,\"#7201a8\"],[0.3333333333333333,\"#9c179e\"],[0.4444444444444444,\"#bd3786\"],[0.5555555555555556,\"#d8576b\"],[0.6666666666666666,\"#ed7953\"],[0.7777777777777778,\"#fb9f3a\"],[0.8888888888888888,\"#fdca26\"],[1.0,\"#f0f921\"]]}],\"contourcarpet\":[{\"type\":\"contourcarpet\",\"colorbar\":{\"outlinewidth\":0,\"ticks\":\"\"}}],\"contour\":[{\"type\":\"contour\",\"colorbar\":{\"outlinewidth\":0,\"ticks\":\"\"},\"colorscale\":[[0.0,\"#0d0887\"],[0.1111111111111111,\"#46039f\"],[0.2222222222222222,\"#7201a8\"],[0.3333333333333333,\"#9c179e\"],[0.4444444444444444,\"#bd3786\"],[0.5555555555555556,\"#d8576b\"],[0.6666666666666666,\"#ed7953\"],[0.7777777777777778,\"#fb9f3a\"],[0.8888888888888888,\"#fdca26\"],[1.0,\"#f0f921\"]]}],\"surface\":[{\"type\":\"surface\",\"colorbar\":{\"outlinewidth\":0,\"ticks\":\"\"},\"colorscale\":[[0.0,\"#0d0887\"],[0.1111111111111111,\"#46039f\"],[0.2222222222222222,\"#7201a8\"],[0.3333333333333333,\"#9c179e\"],[0.4444444444444444,\"#bd3786\"],[0.5555555555555556,\"#d8576b\"],[0.6666666666666666,\"#ed7953\"],[0.7777777777777778,\"#fb9f3a\"],[0.8888888888888888,\"#fdca26\"],[1.0,\"#f0f921\"]]}],\"mesh3d\":[{\"type\":\"mesh3d\",\"colorbar\":{\"outlinewidth\":0,\"ticks\":\"\"}}],\"scatter\":[{\"fillpattern\":{\"fillmode\":\"overlay\",\"size\":10,\"solidity\":0.2},\"type\":\"scatter\"}],\"parcoords\":[{\"type\":\"parcoords\",\"line\":{\"colorbar\":{\"outlinewidth\":0,\"ticks\":\"\"}}}],\"scatterpolargl\":[{\"type\":\"scatterpolargl\",\"marker\":{\"colorbar\":{\"outlinewidth\":0,\"ticks\":\"\"}}}],\"bar\":[{\"error_x\":{\"color\":\"#2a3f5f\"},\"error_y\":{\"color\":\"#2a3f5f\"},\"marker\":{\"line\":{\"color\":\"#E5ECF6\",\"width\":0.5},\"pattern\":{\"fillmode\":\"overlay\",\"size\":10,\"solidity\":0.2}},\"type\":\"bar\"}],\"scattergeo\":[{\"type\":\"scattergeo\",\"marker\":{\"colorbar\":{\"outlinewidth\":0,\"ticks\":\"\"}}}],\"scatterpolar\":[{\"type\":\"scatterpolar\",\"marker\":{\"colorbar\":{\"outlinewidth\":0,\"ticks\":\"\"}}}],\"histogram\":[{\"marker\":{\"pattern\":{\"fillmode\":\"overlay\",\"size\":10,\"solidity\":0.2}},\"type\":\"histogram\"}],\"scattergl\":[{\"type\":\"scattergl\",\"marker\":{\"colorbar\":{\"outlinewidth\":0,\"ticks\":\"\"}}}],\"scatter3d\":[{\"type\":\"scatter3d\",\"line\":{\"colorbar\":{\"outlinewidth\":0,\"ticks\":\"\"}},\"marker\":{\"colorbar\":{\"outlinewidth\":0,\"ticks\":\"\"}}}],\"scattermapbox\":[{\"type\":\"scattermapbox\",\"marker\":{\"colorbar\":{\"outlinewidth\":0,\"ticks\":\"\"}}}],\"scatterternary\":[{\"type\":\"scatterternary\",\"marker\":{\"colorbar\":{\"outlinewidth\":0,\"ticks\":\"\"}}}],\"scattercarpet\":[{\"type\":\"scattercarpet\",\"marker\":{\"colorbar\":{\"outlinewidth\":0,\"ticks\":\"\"}}}],\"carpet\":[{\"aaxis\":{\"endlinecolor\":\"#2a3f5f\",\"gridcolor\":\"white\",\"linecolor\":\"white\",\"minorgridcolor\":\"white\",\"startlinecolor\":\"#2a3f5f\"},\"baxis\":{\"endlinecolor\":\"#2a3f5f\",\"gridcolor\":\"white\",\"linecolor\":\"white\",\"minorgridcolor\":\"white\",\"startlinecolor\":\"#2a3f5f\"},\"type\":\"carpet\"}],\"table\":[{\"cells\":{\"fill\":{\"color\":\"#EBF0F8\"},\"line\":{\"color\":\"white\"}},\"header\":{\"fill\":{\"color\":\"#C8D4E3\"},\"line\":{\"color\":\"white\"}},\"type\":\"table\"}],\"barpolar\":[{\"marker\":{\"line\":{\"color\":\"#E5ECF6\",\"width\":0.5},\"pattern\":{\"fillmode\":\"overlay\",\"size\":10,\"solidity\":0.2}},\"type\":\"barpolar\"}],\"pie\":[{\"automargin\":true,\"type\":\"pie\"}]},\"layout\":{\"autotypenumbers\":\"strict\",\"colorway\":[\"#636efa\",\"#EF553B\",\"#00cc96\",\"#ab63fa\",\"#FFA15A\",\"#19d3f3\",\"#FF6692\",\"#B6E880\",\"#FF97FF\",\"#FECB52\"],\"font\":{\"color\":\"#2a3f5f\"},\"hovermode\":\"closest\",\"hoverlabel\":{\"align\":\"left\"},\"paper_bgcolor\":\"white\",\"plot_bgcolor\":\"#E5ECF6\",\"polar\":{\"bgcolor\":\"#E5ECF6\",\"angularaxis\":{\"gridcolor\":\"white\",\"linecolor\":\"white\",\"ticks\":\"\"},\"radialaxis\":{\"gridcolor\":\"white\",\"linecolor\":\"white\",\"ticks\":\"\"}},\"ternary\":{\"bgcolor\":\"#E5ECF6\",\"aaxis\":{\"gridcolor\":\"white\",\"linecolor\":\"white\",\"ticks\":\"\"},\"baxis\":{\"gridcolor\":\"white\",\"linecolor\":\"white\",\"ticks\":\"\"},\"caxis\":{\"gridcolor\":\"white\",\"linecolor\":\"white\",\"ticks\":\"\"}},\"coloraxis\":{\"colorbar\":{\"outlinewidth\":0,\"ticks\":\"\"}},\"colorscale\":{\"sequential\":[[0.0,\"#0d0887\"],[0.1111111111111111,\"#46039f\"],[0.2222222222222222,\"#7201a8\"],[0.3333333333333333,\"#9c179e\"],[0.4444444444444444,\"#bd3786\"],[0.5555555555555556,\"#d8576b\"],[0.6666666666666666,\"#ed7953\"],[0.7777777777777778,\"#fb9f3a\"],[0.8888888888888888,\"#fdca26\"],[1.0,\"#f0f921\"]],\"sequentialminus\":[[0.0,\"#0d0887\"],[0.1111111111111111,\"#46039f\"],[0.2222222222222222,\"#7201a8\"],[0.3333333333333333,\"#9c179e\"],[0.4444444444444444,\"#bd3786\"],[0.5555555555555556,\"#d8576b\"],[0.6666666666666666,\"#ed7953\"],[0.7777777777777778,\"#fb9f3a\"],[0.8888888888888888,\"#fdca26\"],[1.0,\"#f0f921\"]],\"diverging\":[[0,\"#8e0152\"],[0.1,\"#c51b7d\"],[0.2,\"#de77ae\"],[0.3,\"#f1b6da\"],[0.4,\"#fde0ef\"],[0.5,\"#f7f7f7\"],[0.6,\"#e6f5d0\"],[0.7,\"#b8e186\"],[0.8,\"#7fbc41\"],[0.9,\"#4d9221\"],[1,\"#276419\"]]},\"xaxis\":{\"gridcolor\":\"white\",\"linecolor\":\"white\",\"ticks\":\"\",\"title\":{\"standoff\":15},\"zerolinecolor\":\"white\",\"automargin\":true,\"zerolinewidth\":2},\"yaxis\":{\"gridcolor\":\"white\",\"linecolor\":\"white\",\"ticks\":\"\",\"title\":{\"standoff\":15},\"zerolinecolor\":\"white\",\"automargin\":true,\"zerolinewidth\":2},\"scene\":{\"xaxis\":{\"backgroundcolor\":\"#E5ECF6\",\"gridcolor\":\"white\",\"linecolor\":\"white\",\"showbackground\":true,\"ticks\":\"\",\"zerolinecolor\":\"white\",\"gridwidth\":2},\"yaxis\":{\"backgroundcolor\":\"#E5ECF6\",\"gridcolor\":\"white\",\"linecolor\":\"white\",\"showbackground\":true,\"ticks\":\"\",\"zerolinecolor\":\"white\",\"gridwidth\":2},\"zaxis\":{\"backgroundcolor\":\"#E5ECF6\",\"gridcolor\":\"white\",\"linecolor\":\"white\",\"showbackground\":true,\"ticks\":\"\",\"zerolinecolor\":\"white\",\"gridwidth\":2}},\"shapedefaults\":{\"line\":{\"color\":\"#2a3f5f\"}},\"annotationdefaults\":{\"arrowcolor\":\"#2a3f5f\",\"arrowhead\":0,\"arrowwidth\":1},\"geo\":{\"bgcolor\":\"white\",\"landcolor\":\"#E5ECF6\",\"subunitcolor\":\"white\",\"showland\":true,\"showlakes\":true,\"lakecolor\":\"white\"},\"title\":{\"x\":0.05},\"mapbox\":{\"style\":\"light\"}}},\"yaxis\":{\"gridcolor\":\"#eee\",\"title\":{\"text\":\"frequency\"},\"rangemode\":\"tozero\"},\"xaxis\":{\"rangemode\":\"tozero\"},\"title\":{\"text\":\"<b>patient_age</b> frequency distribution\"},\"plot_bgcolor\":\"#fff\",\"showlegend\":false,\"height\":500},                        {\"responsive\": true}                    ).then(function(){\n",
       "                            \n",
       "var gd = document.getElementById('6a54a8ec-4621-458d-9972-c34567f5a225');\n",
       "var x = new MutationObserver(function (mutations, observer) {{\n",
       "        var display = window.getComputedStyle(gd).display;\n",
       "        if (!display || display === 'none') {{\n",
       "            console.log([gd, 'removed!']);\n",
       "            Plotly.purge(gd);\n",
       "            observer.disconnect();\n",
       "        }}\n",
       "}});\n",
       "\n",
       "// Listen for the removal of the full notebook cells\n",
       "var notebookContainer = gd.closest('#notebook-container');\n",
       "if (notebookContainer) {{\n",
       "    x.observe(notebookContainer, {childList: true});\n",
       "}}\n",
       "\n",
       "// Listen for the clearing of the current output cell\n",
       "var outputEl = gd.closest('.output');\n",
       "if (outputEl) {{\n",
       "    x.observe(outputEl, {childList: true});\n",
       "}}\n",
       "\n",
       "                        })                };                });            </script>        </div>"
      ]
     },
     "metadata": {},
     "output_type": "display_data"
    }
   ],
   "source": [
    "num_freq_plot(regexp_age_gender_1_extracts, 'patient_age')"
   ]
  },
  {
   "cell_type": "code",
   "execution_count": 23,
   "id": "70a77932-074e-4718-961a-0294730663c3",
   "metadata": {
    "scrolled": true
   },
   "outputs": [
    {
     "name": "stdout",
     "output_type": "stream",
     "text": [
      "\n",
      "\n",
      "----------------\n",
      "Extracted values:\n",
      "Age = 18\n",
      "Gender = M\n",
      "\n",
      "Full text:\n",
      "I scratched open a little bumb on my head and now my mom got concerned | For as long as I [18M] can remember I've had this little, red (I think) bumb on my head a few centimeters above my ear (so under my hair). Today I scratched it open and it started bleeding a bit so I informed my mom about the bumb and she got quiet concerned. Is this something to worry about?\n",
      "\n",
      "Url:\n",
      "https://www.reddit.com/r/AskDocs/comments/j4z0az/i_scratched_open_a_little_bumb_on_my_head_and_now/\n",
      "\n",
      "\n",
      "----------------\n",
      "Extracted values:\n",
      "Age = 25\n",
      "Gender = F\n",
      "\n",
      "Full text:\n",
      "Forehead nerve hurts to touch?? | 25F. I found this spot (by touch, not visible) at the right side of my hair line. Ever so slightly raised and when I lightly graze it, it shoots an umbrella of headache on that side of my head. Is this weird??? I’m guessing it’s a nerve? Is it odd for it to be so superficial?\n",
      "\n",
      "Url:\n",
      "https://www.reddit.com/r/AskDocs/comments/ft6zjk/forehead_nerve_hurts_to_touch/\n",
      "\n",
      "\n",
      "----------------\n",
      "Extracted values:\n",
      "Age = 26\n",
      "Gender = f\n",
      "\n",
      "Full text:\n",
      "Chalazion or stye? Hormone-related? | 26f, chronic dry eyes currently being treated with Xiidra and sometimes lotemax or eyesuvis. I always thought my dry eyes were caused by inflammation and conjunctivitis rather than MGD, especially because one of the ophtalmologists I went to see told me that my glands looked 'perfect' (she also told me to just not look at computer screens and blink more, which I thought was rather dismissive as I've never had problems this bad with my eyes before and I use the computer quite a lot - I know what eye strain feels like and how to minimize it). Warm compresses seemed to be making my issues worse and only provided short relief, so I don't use it as often and cold compresses feel much better. I can also usually tell whether I am due for a warm compress because my eyes 'feel cold' (this is the best I can describe it - essentially it feels like the tears are evaporating so quickly that it cools down my eyes like when you come out of a shower) and I just assumed it's because I use cold compresses, which might be making the oils in my meibomian glands harden.\n",
      "\n",
      "I had a bit of blepharitis last week which went down within a couple of days, but then noticed that the outer part of my left eye still felt swollen and I could see some of the hair follicles 'popping out' as if they had keratin plugs (I also have keratosis lol 😭😭). Honestly, these come up every so often when I have allergies, so I assumed it would go down and took some allegra. But then today I felt a hard bean under my eyelid and found this yellow spot when I lifted up the lid to have a look. This is a chalazion, right? I've called my ophthalmologists office but they're closed for New Year's.\n",
      "\n",
      "Aside from identification, I also was wondering if anyone had any opinions on my theory that my eye problems were hormone-related. I started taking Orilissa/elagolix for endometriosis i  January 2021 and have been having a myriad of health problems since. Bone density issues, teeth cracking, etc. Spring 2021 was the worst bout of allergies I had had since I was about 9, and after that cleared up, I started having dry eye issues in June. I had asked my gyno about whether the medication might be causing my eye issues but she said it wasn't possible because it wasn't on the list of side effects. This only told me that she didn't actually know how the medication worked or at the very least couldn't explain why she didn't think it was possible physiologically, so I changed gynos in September.\n",
      "\n",
      "The new gyno heard me out and said it might be worth looking into, but she was more interested in the bone density and dental problems, so we stopped the medication and I'm checking in with her in a couple of weeks. But I wanted to know if it might be plausible that the medication affected my eyes as well. Elagolix is a GnRH inhibitor and would effect my androgens as well as my estrogen production, right? And I saw that  a deficiency in androgens may lead to MGD... \n",
      "\n",
      "Since stopping the Orilissa medication, my eyes have gotten better but I'm not sure if thats because I also started Xiidra (i.e. I'm afraid that if I stop using Xiidra, my symptoms will become severe again).\n",
      "\n",
      "so tl;dr\n",
      "1. is this a chalazion\n",
      "2. does this mean my eyes are dry because of MGD, rather than just conjunctivitis or inflammation\n",
      "3. could this have been caused by fluctuating hormone levels due to having taken a GnRH inhibitor for endometriosis? \n",
      "4. if nobody is able to answer the above question without breaking the rules of the subreddit, could you direct me to which specialist I can see to ask questions? I'm planning on bringing it up to my gyno but have been thinking about trying to get a referral for an endocrinologist in case she can't help me. I had asked my eye doctor about the hormone thing, but she made it clear that she wasn't sure and didn't want to speculate too much.\n",
      "\n",
      "Url:\n",
      "https://www.reddit.com/r/AskDocs/comments/rtu948/chalazion_or_stye_hormonerelated/\n",
      "\n",
      "\n",
      "----------------\n",
      "Extracted values:\n",
      "Age = 63\n",
      "Gender = F\n",
      "\n",
      "Full text:\n",
      "My mom (63F) tested positive for COVID on a PCR test. No one in the house has COVID symptoms. How do we negotiate isolation within the household? | Household of 3 in northeast US: \n",
      "\n",
      "* 63 female (5'4\", 150 lbs), no medical conditions or current medications (double vaccinated with Moderna + boosted, booster in Nov 2021). \n",
      "* 67 male (5'8\", 200 lbs), hx depression, GERD, follicular lymphoma (not active, treated with radiation 2020), HLD, obesity (double vaccinated with Moderna + boosted, booster in Nov 2021). \n",
      "* 26 female (5'2\", 145 lbs), hx hypothyroidism (double vaccinated with Pfizer, boosted with Moderna in Oct 2021). \n",
      "\n",
      "I'm a 26 year old female living with my parents, medical histories above. My mom took a COVID PCR test Friday, 12/31 as a requirement for her job and it came back positive (she had previously tested negative 12/21). No one in the household has fever, cough or respiratory symptoms, loss of taste/smell, or any other typical COVID symptoms. (My mom does say, \"I have been feeling dizzier than usual.\")\n",
      "\n",
      "Tests are in high demand so there's no way to get tested today and likely no public tests available tomorrow or possibly even the next few days. I'm a healthcare worker (who has recently worked with COVID patients), so I'll be calling my employee health tomorrow to try to get tested ASAP and get their guidance. \n",
      "\n",
      "Everyone's on board with isolating from the outside world -- not going out. However, isolating within our living space is difficult. My dad's arguement is \"the result is 48 hours old at this point, we've all been breathing the same air, we're all vaccinated, there's no point in trying to isolate from each other at this point.\" He doesn't feel isolation \\*within\\* the house is warranted, and it's causing a certain amount of family tension.\n",
      "\n",
      "My mom (who had the positive test result) is more inclined to follow the more conservative guidance of staying isolated (i.e. sleeping separetely, masking up indoors, staying in separate rooms) within the household. \n",
      "\n",
      "From my perspective, it makes a certain amount of sense for us to attempt to isolate as much as possible until all members of the household can get tested. \n",
      "\n",
      "Is there any concrete guidance on what to do in this particular scenario -- asymptomatic PCR positive in a vaccinated household?\n",
      "\n",
      "Url:\n",
      "https://www.reddit.com/r/AskDocs/comments/rueqlm/my_mom_63f_tested_positive_for_covid_on_a_pcr/\n",
      "\n",
      "\n",
      "----------------\n",
      "Extracted values:\n",
      "Age = 21\n",
      "Gender = Female\n",
      "\n",
      "Full text:\n",
      "(21 Female) am I have brain shakes?? Or is something wrong?? | 21 Female 5’7. Taking amitryptiline for migraines. \n",
      "\n",
      "I have Orthostatic hypotension and postural intolerance— I’m currently on amitryptiline (30mg) for migraines since the beginning of September??? And then early November it was raised to 75mg for anxiety, that never helped so beginning of decemeber it was dropped back to 30mg. And Starting last week Thursday I’ve been dizzy ever since.\n",
      "\n",
      "My eyes are seeing white things running across (like bright floaters) and I’m still getting headaches, whenever someone shakes something I’m sitting on (or walking) my head starts feeling like it’s spinning like my brain is spinning back and forth and my vision turns completely white and I feel like I can hear a rubbing noise. It happens for like 3 seconds... \n",
      "\n",
      "The only way to get out this feeling is go to sleep. I feel as though I can feel my heart beat in the back of my head and top of it — I feel like I can feel my heart beat all over my body to the point that I’m moving with it .... it’s scary.... what may be happening ??? Should I worry??? The vertigo comes in and out and messes with my balance \n",
      "\n",
      "(Not an ear disorder cause I went through vestibular therapy .....)\n",
      "\n",
      "Also during that therapy I would shake my head to try to mess with my balance and fix it ? And whenever I would shake my head I would get dizzy all over again, like I would feel this pressure from my head down my spine making my legs feel like I’m on a dock.\n",
      "\n",
      "Url:\n",
      "https://www.reddit.com/r/AskDocs/comments/khuuch/21_female_am_i_have_brain_shakes_or_is_something/\n"
     ]
    }
   ],
   "source": [
    "upper_bound = 90\n",
    "lower_bound = 12\n",
    "in_range_ind = regexp_age_gender_1_extracts[\n",
    "    (regexp_age_gender_1_extracts['patient_age'] <= upper_bound) \n",
    "    & (regexp_age_gender_1_extracts['patient_age'] >= lower_bound)\n",
    "].index\n",
    "\n",
    "for i in in_range_ind[:5]:\n",
    "    print('\\n\\n----------------')\n",
    "    print('Extracted values:')\n",
    "    print(f'''Age = {regexp_age_gender_1_extracts['patient_age'].loc[i]}''')\n",
    "    print(f'''Gender = {regexp_age_gender_1_extracts['patient_gender'].loc[i]}''')\n",
    "\n",
    "    print('\\nFull text:')\n",
    "    print(df_sample2['full_post_text'].loc[i])\n",
    "    print('\\nUrl:')\n",
    "    print(df_sample2['url'].loc[i])"
   ]
  },
  {
   "cell_type": "code",
   "execution_count": 24,
   "id": "72c51046-1d70-4dd6-9ad2-ed436b9b8260",
   "metadata": {},
   "outputs": [],
   "source": [
    "# Filter out out-of-range values\n",
    "regexp_age_gender_1_extracts = regexp_age_gender_1_extracts.loc[in_range_ind]"
   ]
  },
  {
   "cell_type": "code",
   "execution_count": 25,
   "id": "f819580a-5042-4169-9e45-277a6a414234",
   "metadata": {},
   "outputs": [
    {
     "data": {
      "application/vnd.plotly.v1+json": {
       "config": {
        "plotlyServerURL": "https://plotly.com"
       },
       "data": [
        {
         "hovertemplate": "Value: %{x:,}<br>Frequency: %{y:,}<br><extra></extra>",
         "hovertext": [
          13,
          14,
          15,
          16,
          17,
          18,
          19,
          20,
          21,
          22,
          23,
          24,
          25,
          26,
          27,
          28,
          29,
          30,
          31,
          32,
          33,
          34,
          35,
          36,
          37,
          38,
          39,
          40,
          41,
          42,
          43,
          44,
          45,
          46,
          47,
          48,
          49,
          50,
          51,
          52,
          53,
          54,
          55,
          56,
          57,
          58,
          59,
          60,
          61,
          63,
          64,
          65,
          67,
          68,
          70,
          72,
          73,
          74,
          75,
          76,
          79,
          82,
          85
         ],
         "type": "bar",
         "x": [
          13,
          14,
          15,
          16,
          17,
          18,
          19,
          20,
          21,
          22,
          23,
          24,
          25,
          26,
          27,
          28,
          29,
          30,
          31,
          32,
          33,
          34,
          35,
          36,
          37,
          38,
          39,
          40,
          41,
          42,
          43,
          44,
          45,
          46,
          47,
          48,
          49,
          50,
          51,
          52,
          53,
          54,
          55,
          56,
          57,
          58,
          59,
          60,
          61,
          63,
          64,
          65,
          67,
          68,
          70,
          72,
          73,
          74,
          75,
          76,
          79,
          82,
          85
         ],
         "y": [
          22,
          47,
          63,
          103,
          105,
          198,
          191,
          205,
          204,
          229,
          207,
          212,
          191,
          157,
          130,
          109,
          75,
          120,
          80,
          68,
          60,
          57,
          54,
          40,
          28,
          20,
          15,
          22,
          13,
          8,
          8,
          10,
          8,
          8,
          4,
          6,
          5,
          5,
          3,
          3,
          3,
          1,
          6,
          2,
          3,
          7,
          6,
          4,
          1,
          4,
          2,
          1,
          2,
          2,
          3,
          1,
          3,
          1,
          3,
          1,
          1,
          1,
          1
         ]
        }
       ],
       "layout": {
        "autosize": true,
        "plot_bgcolor": "#fff",
        "showlegend": false,
        "template": {
         "data": {
          "bar": [
           {
            "error_x": {
             "color": "#2a3f5f"
            },
            "error_y": {
             "color": "#2a3f5f"
            },
            "marker": {
             "line": {
              "color": "#E5ECF6",
              "width": 0.5
             },
             "pattern": {
              "fillmode": "overlay",
              "size": 10,
              "solidity": 0.2
             }
            },
            "type": "bar"
           }
          ],
          "barpolar": [
           {
            "marker": {
             "line": {
              "color": "#E5ECF6",
              "width": 0.5
             },
             "pattern": {
              "fillmode": "overlay",
              "size": 10,
              "solidity": 0.2
             }
            },
            "type": "barpolar"
           }
          ],
          "carpet": [
           {
            "aaxis": {
             "endlinecolor": "#2a3f5f",
             "gridcolor": "white",
             "linecolor": "white",
             "minorgridcolor": "white",
             "startlinecolor": "#2a3f5f"
            },
            "baxis": {
             "endlinecolor": "#2a3f5f",
             "gridcolor": "white",
             "linecolor": "white",
             "minorgridcolor": "white",
             "startlinecolor": "#2a3f5f"
            },
            "type": "carpet"
           }
          ],
          "choropleth": [
           {
            "colorbar": {
             "outlinewidth": 0,
             "ticks": ""
            },
            "type": "choropleth"
           }
          ],
          "contour": [
           {
            "colorbar": {
             "outlinewidth": 0,
             "ticks": ""
            },
            "colorscale": [
             [
              0,
              "#0d0887"
             ],
             [
              0.1111111111111111,
              "#46039f"
             ],
             [
              0.2222222222222222,
              "#7201a8"
             ],
             [
              0.3333333333333333,
              "#9c179e"
             ],
             [
              0.4444444444444444,
              "#bd3786"
             ],
             [
              0.5555555555555556,
              "#d8576b"
             ],
             [
              0.6666666666666666,
              "#ed7953"
             ],
             [
              0.7777777777777778,
              "#fb9f3a"
             ],
             [
              0.8888888888888888,
              "#fdca26"
             ],
             [
              1,
              "#f0f921"
             ]
            ],
            "type": "contour"
           }
          ],
          "contourcarpet": [
           {
            "colorbar": {
             "outlinewidth": 0,
             "ticks": ""
            },
            "type": "contourcarpet"
           }
          ],
          "heatmap": [
           {
            "colorbar": {
             "outlinewidth": 0,
             "ticks": ""
            },
            "colorscale": [
             [
              0,
              "#0d0887"
             ],
             [
              0.1111111111111111,
              "#46039f"
             ],
             [
              0.2222222222222222,
              "#7201a8"
             ],
             [
              0.3333333333333333,
              "#9c179e"
             ],
             [
              0.4444444444444444,
              "#bd3786"
             ],
             [
              0.5555555555555556,
              "#d8576b"
             ],
             [
              0.6666666666666666,
              "#ed7953"
             ],
             [
              0.7777777777777778,
              "#fb9f3a"
             ],
             [
              0.8888888888888888,
              "#fdca26"
             ],
             [
              1,
              "#f0f921"
             ]
            ],
            "type": "heatmap"
           }
          ],
          "heatmapgl": [
           {
            "colorbar": {
             "outlinewidth": 0,
             "ticks": ""
            },
            "colorscale": [
             [
              0,
              "#0d0887"
             ],
             [
              0.1111111111111111,
              "#46039f"
             ],
             [
              0.2222222222222222,
              "#7201a8"
             ],
             [
              0.3333333333333333,
              "#9c179e"
             ],
             [
              0.4444444444444444,
              "#bd3786"
             ],
             [
              0.5555555555555556,
              "#d8576b"
             ],
             [
              0.6666666666666666,
              "#ed7953"
             ],
             [
              0.7777777777777778,
              "#fb9f3a"
             ],
             [
              0.8888888888888888,
              "#fdca26"
             ],
             [
              1,
              "#f0f921"
             ]
            ],
            "type": "heatmapgl"
           }
          ],
          "histogram": [
           {
            "marker": {
             "pattern": {
              "fillmode": "overlay",
              "size": 10,
              "solidity": 0.2
             }
            },
            "type": "histogram"
           }
          ],
          "histogram2d": [
           {
            "colorbar": {
             "outlinewidth": 0,
             "ticks": ""
            },
            "colorscale": [
             [
              0,
              "#0d0887"
             ],
             [
              0.1111111111111111,
              "#46039f"
             ],
             [
              0.2222222222222222,
              "#7201a8"
             ],
             [
              0.3333333333333333,
              "#9c179e"
             ],
             [
              0.4444444444444444,
              "#bd3786"
             ],
             [
              0.5555555555555556,
              "#d8576b"
             ],
             [
              0.6666666666666666,
              "#ed7953"
             ],
             [
              0.7777777777777778,
              "#fb9f3a"
             ],
             [
              0.8888888888888888,
              "#fdca26"
             ],
             [
              1,
              "#f0f921"
             ]
            ],
            "type": "histogram2d"
           }
          ],
          "histogram2dcontour": [
           {
            "colorbar": {
             "outlinewidth": 0,
             "ticks": ""
            },
            "colorscale": [
             [
              0,
              "#0d0887"
             ],
             [
              0.1111111111111111,
              "#46039f"
             ],
             [
              0.2222222222222222,
              "#7201a8"
             ],
             [
              0.3333333333333333,
              "#9c179e"
             ],
             [
              0.4444444444444444,
              "#bd3786"
             ],
             [
              0.5555555555555556,
              "#d8576b"
             ],
             [
              0.6666666666666666,
              "#ed7953"
             ],
             [
              0.7777777777777778,
              "#fb9f3a"
             ],
             [
              0.8888888888888888,
              "#fdca26"
             ],
             [
              1,
              "#f0f921"
             ]
            ],
            "type": "histogram2dcontour"
           }
          ],
          "mesh3d": [
           {
            "colorbar": {
             "outlinewidth": 0,
             "ticks": ""
            },
            "type": "mesh3d"
           }
          ],
          "parcoords": [
           {
            "line": {
             "colorbar": {
              "outlinewidth": 0,
              "ticks": ""
             }
            },
            "type": "parcoords"
           }
          ],
          "pie": [
           {
            "automargin": true,
            "type": "pie"
           }
          ],
          "scatter": [
           {
            "fillpattern": {
             "fillmode": "overlay",
             "size": 10,
             "solidity": 0.2
            },
            "type": "scatter"
           }
          ],
          "scatter3d": [
           {
            "line": {
             "colorbar": {
              "outlinewidth": 0,
              "ticks": ""
             }
            },
            "marker": {
             "colorbar": {
              "outlinewidth": 0,
              "ticks": ""
             }
            },
            "type": "scatter3d"
           }
          ],
          "scattercarpet": [
           {
            "marker": {
             "colorbar": {
              "outlinewidth": 0,
              "ticks": ""
             }
            },
            "type": "scattercarpet"
           }
          ],
          "scattergeo": [
           {
            "marker": {
             "colorbar": {
              "outlinewidth": 0,
              "ticks": ""
             }
            },
            "type": "scattergeo"
           }
          ],
          "scattergl": [
           {
            "marker": {
             "colorbar": {
              "outlinewidth": 0,
              "ticks": ""
             }
            },
            "type": "scattergl"
           }
          ],
          "scattermapbox": [
           {
            "marker": {
             "colorbar": {
              "outlinewidth": 0,
              "ticks": ""
             }
            },
            "type": "scattermapbox"
           }
          ],
          "scatterpolar": [
           {
            "marker": {
             "colorbar": {
              "outlinewidth": 0,
              "ticks": ""
             }
            },
            "type": "scatterpolar"
           }
          ],
          "scatterpolargl": [
           {
            "marker": {
             "colorbar": {
              "outlinewidth": 0,
              "ticks": ""
             }
            },
            "type": "scatterpolargl"
           }
          ],
          "scatterternary": [
           {
            "marker": {
             "colorbar": {
              "outlinewidth": 0,
              "ticks": ""
             }
            },
            "type": "scatterternary"
           }
          ],
          "surface": [
           {
            "colorbar": {
             "outlinewidth": 0,
             "ticks": ""
            },
            "colorscale": [
             [
              0,
              "#0d0887"
             ],
             [
              0.1111111111111111,
              "#46039f"
             ],
             [
              0.2222222222222222,
              "#7201a8"
             ],
             [
              0.3333333333333333,
              "#9c179e"
             ],
             [
              0.4444444444444444,
              "#bd3786"
             ],
             [
              0.5555555555555556,
              "#d8576b"
             ],
             [
              0.6666666666666666,
              "#ed7953"
             ],
             [
              0.7777777777777778,
              "#fb9f3a"
             ],
             [
              0.8888888888888888,
              "#fdca26"
             ],
             [
              1,
              "#f0f921"
             ]
            ],
            "type": "surface"
           }
          ],
          "table": [
           {
            "cells": {
             "fill": {
              "color": "#EBF0F8"
             },
             "line": {
              "color": "white"
             }
            },
            "header": {
             "fill": {
              "color": "#C8D4E3"
             },
             "line": {
              "color": "white"
             }
            },
            "type": "table"
           }
          ]
         },
         "layout": {
          "annotationdefaults": {
           "arrowcolor": "#2a3f5f",
           "arrowhead": 0,
           "arrowwidth": 1
          },
          "autotypenumbers": "strict",
          "coloraxis": {
           "colorbar": {
            "outlinewidth": 0,
            "ticks": ""
           }
          },
          "colorscale": {
           "diverging": [
            [
             0,
             "#8e0152"
            ],
            [
             0.1,
             "#c51b7d"
            ],
            [
             0.2,
             "#de77ae"
            ],
            [
             0.3,
             "#f1b6da"
            ],
            [
             0.4,
             "#fde0ef"
            ],
            [
             0.5,
             "#f7f7f7"
            ],
            [
             0.6,
             "#e6f5d0"
            ],
            [
             0.7,
             "#b8e186"
            ],
            [
             0.8,
             "#7fbc41"
            ],
            [
             0.9,
             "#4d9221"
            ],
            [
             1,
             "#276419"
            ]
           ],
           "sequential": [
            [
             0,
             "#0d0887"
            ],
            [
             0.1111111111111111,
             "#46039f"
            ],
            [
             0.2222222222222222,
             "#7201a8"
            ],
            [
             0.3333333333333333,
             "#9c179e"
            ],
            [
             0.4444444444444444,
             "#bd3786"
            ],
            [
             0.5555555555555556,
             "#d8576b"
            ],
            [
             0.6666666666666666,
             "#ed7953"
            ],
            [
             0.7777777777777778,
             "#fb9f3a"
            ],
            [
             0.8888888888888888,
             "#fdca26"
            ],
            [
             1,
             "#f0f921"
            ]
           ],
           "sequentialminus": [
            [
             0,
             "#0d0887"
            ],
            [
             0.1111111111111111,
             "#46039f"
            ],
            [
             0.2222222222222222,
             "#7201a8"
            ],
            [
             0.3333333333333333,
             "#9c179e"
            ],
            [
             0.4444444444444444,
             "#bd3786"
            ],
            [
             0.5555555555555556,
             "#d8576b"
            ],
            [
             0.6666666666666666,
             "#ed7953"
            ],
            [
             0.7777777777777778,
             "#fb9f3a"
            ],
            [
             0.8888888888888888,
             "#fdca26"
            ],
            [
             1,
             "#f0f921"
            ]
           ]
          },
          "colorway": [
           "#636efa",
           "#EF553B",
           "#00cc96",
           "#ab63fa",
           "#FFA15A",
           "#19d3f3",
           "#FF6692",
           "#B6E880",
           "#FF97FF",
           "#FECB52"
          ],
          "font": {
           "color": "#2a3f5f"
          },
          "geo": {
           "bgcolor": "white",
           "lakecolor": "white",
           "landcolor": "#E5ECF6",
           "showlakes": true,
           "showland": true,
           "subunitcolor": "white"
          },
          "hoverlabel": {
           "align": "left"
          },
          "hovermode": "closest",
          "mapbox": {
           "style": "light"
          },
          "paper_bgcolor": "white",
          "plot_bgcolor": "#E5ECF6",
          "polar": {
           "angularaxis": {
            "gridcolor": "white",
            "linecolor": "white",
            "ticks": ""
           },
           "bgcolor": "#E5ECF6",
           "radialaxis": {
            "gridcolor": "white",
            "linecolor": "white",
            "ticks": ""
           }
          },
          "scene": {
           "xaxis": {
            "backgroundcolor": "#E5ECF6",
            "gridcolor": "white",
            "gridwidth": 2,
            "linecolor": "white",
            "showbackground": true,
            "ticks": "",
            "zerolinecolor": "white"
           },
           "yaxis": {
            "backgroundcolor": "#E5ECF6",
            "gridcolor": "white",
            "gridwidth": 2,
            "linecolor": "white",
            "showbackground": true,
            "ticks": "",
            "zerolinecolor": "white"
           },
           "zaxis": {
            "backgroundcolor": "#E5ECF6",
            "gridcolor": "white",
            "gridwidth": 2,
            "linecolor": "white",
            "showbackground": true,
            "ticks": "",
            "zerolinecolor": "white"
           }
          },
          "shapedefaults": {
           "line": {
            "color": "#2a3f5f"
           }
          },
          "ternary": {
           "aaxis": {
            "gridcolor": "white",
            "linecolor": "white",
            "ticks": ""
           },
           "baxis": {
            "gridcolor": "white",
            "linecolor": "white",
            "ticks": ""
           },
           "bgcolor": "#E5ECF6",
           "caxis": {
            "gridcolor": "white",
            "linecolor": "white",
            "ticks": ""
           }
          },
          "title": {
           "x": 0.05
          },
          "xaxis": {
           "automargin": true,
           "gridcolor": "white",
           "linecolor": "white",
           "ticks": "",
           "title": {
            "standoff": 15
           },
           "zerolinecolor": "white",
           "zerolinewidth": 2
          },
          "yaxis": {
           "automargin": true,
           "gridcolor": "white",
           "linecolor": "white",
           "ticks": "",
           "title": {
            "standoff": 15
           },
           "zerolinecolor": "white",
           "zerolinewidth": 2
          }
         }
        },
        "title": {
         "text": "<b>patient_age</b> frequency distribution"
        },
        "xaxis": {
         "autorange": true,
         "range": [
          0,
          85.5
         ],
         "rangemode": "tozero",
         "type": "linear"
        },
        "yaxis": {
         "autorange": true,
         "gridcolor": "#eee",
         "range": [
          0,
          241.05263157894737
         ],
         "rangemode": "tozero",
         "title": {
          "text": "frequency"
         },
         "type": "linear"
        }
       }
      },
      "text/html": [
       "<div>                            <div id=\"4f9fdf0e-2c77-4230-b486-a457c036b684\" class=\"plotly-graph-div\" style=\"height:500px; width:100%;\"></div>            <script type=\"text/javascript\">                require([\"plotly\"], function(Plotly) {                    window.PLOTLYENV=window.PLOTLYENV || {};                                    if (document.getElementById(\"4f9fdf0e-2c77-4230-b486-a457c036b684\")) {                    Plotly.newPlot(                        \"4f9fdf0e-2c77-4230-b486-a457c036b684\",                        [{\"hovertemplate\":\"Value: %{x:,}<br>Frequency: %{y:,}<br><extra></extra>\",\"hovertext\":[13.0,14.0,15.0,16.0,17.0,18.0,19.0,20.0,21.0,22.0,23.0,24.0,25.0,26.0,27.0,28.0,29.0,30.0,31.0,32.0,33.0,34.0,35.0,36.0,37.0,38.0,39.0,40.0,41.0,42.0,43.0,44.0,45.0,46.0,47.0,48.0,49.0,50.0,51.0,52.0,53.0,54.0,55.0,56.0,57.0,58.0,59.0,60.0,61.0,63.0,64.0,65.0,67.0,68.0,70.0,72.0,73.0,74.0,75.0,76.0,79.0,82.0,85.0],\"x\":[13,14,15,16,17,18,19,20,21,22,23,24,25,26,27,28,29,30,31,32,33,34,35,36,37,38,39,40,41,42,43,44,45,46,47,48,49,50,51,52,53,54,55,56,57,58,59,60,61,63,64,65,67,68,70,72,73,74,75,76,79,82,85],\"y\":[22,47,63,103,105,198,191,205,204,229,207,212,191,157,130,109,75,120,80,68,60,57,54,40,28,20,15,22,13,8,8,10,8,8,4,6,5,5,3,3,3,1,6,2,3,7,6,4,1,4,2,1,2,2,3,1,3,1,3,1,1,1,1],\"type\":\"bar\"}],                        {\"template\":{\"data\":{\"histogram2dcontour\":[{\"type\":\"histogram2dcontour\",\"colorbar\":{\"outlinewidth\":0,\"ticks\":\"\"},\"colorscale\":[[0.0,\"#0d0887\"],[0.1111111111111111,\"#46039f\"],[0.2222222222222222,\"#7201a8\"],[0.3333333333333333,\"#9c179e\"],[0.4444444444444444,\"#bd3786\"],[0.5555555555555556,\"#d8576b\"],[0.6666666666666666,\"#ed7953\"],[0.7777777777777778,\"#fb9f3a\"],[0.8888888888888888,\"#fdca26\"],[1.0,\"#f0f921\"]]}],\"choropleth\":[{\"type\":\"choropleth\",\"colorbar\":{\"outlinewidth\":0,\"ticks\":\"\"}}],\"histogram2d\":[{\"type\":\"histogram2d\",\"colorbar\":{\"outlinewidth\":0,\"ticks\":\"\"},\"colorscale\":[[0.0,\"#0d0887\"],[0.1111111111111111,\"#46039f\"],[0.2222222222222222,\"#7201a8\"],[0.3333333333333333,\"#9c179e\"],[0.4444444444444444,\"#bd3786\"],[0.5555555555555556,\"#d8576b\"],[0.6666666666666666,\"#ed7953\"],[0.7777777777777778,\"#fb9f3a\"],[0.8888888888888888,\"#fdca26\"],[1.0,\"#f0f921\"]]}],\"heatmap\":[{\"type\":\"heatmap\",\"colorbar\":{\"outlinewidth\":0,\"ticks\":\"\"},\"colorscale\":[[0.0,\"#0d0887\"],[0.1111111111111111,\"#46039f\"],[0.2222222222222222,\"#7201a8\"],[0.3333333333333333,\"#9c179e\"],[0.4444444444444444,\"#bd3786\"],[0.5555555555555556,\"#d8576b\"],[0.6666666666666666,\"#ed7953\"],[0.7777777777777778,\"#fb9f3a\"],[0.8888888888888888,\"#fdca26\"],[1.0,\"#f0f921\"]]}],\"heatmapgl\":[{\"type\":\"heatmapgl\",\"colorbar\":{\"outlinewidth\":0,\"ticks\":\"\"},\"colorscale\":[[0.0,\"#0d0887\"],[0.1111111111111111,\"#46039f\"],[0.2222222222222222,\"#7201a8\"],[0.3333333333333333,\"#9c179e\"],[0.4444444444444444,\"#bd3786\"],[0.5555555555555556,\"#d8576b\"],[0.6666666666666666,\"#ed7953\"],[0.7777777777777778,\"#fb9f3a\"],[0.8888888888888888,\"#fdca26\"],[1.0,\"#f0f921\"]]}],\"contourcarpet\":[{\"type\":\"contourcarpet\",\"colorbar\":{\"outlinewidth\":0,\"ticks\":\"\"}}],\"contour\":[{\"type\":\"contour\",\"colorbar\":{\"outlinewidth\":0,\"ticks\":\"\"},\"colorscale\":[[0.0,\"#0d0887\"],[0.1111111111111111,\"#46039f\"],[0.2222222222222222,\"#7201a8\"],[0.3333333333333333,\"#9c179e\"],[0.4444444444444444,\"#bd3786\"],[0.5555555555555556,\"#d8576b\"],[0.6666666666666666,\"#ed7953\"],[0.7777777777777778,\"#fb9f3a\"],[0.8888888888888888,\"#fdca26\"],[1.0,\"#f0f921\"]]}],\"surface\":[{\"type\":\"surface\",\"colorbar\":{\"outlinewidth\":0,\"ticks\":\"\"},\"colorscale\":[[0.0,\"#0d0887\"],[0.1111111111111111,\"#46039f\"],[0.2222222222222222,\"#7201a8\"],[0.3333333333333333,\"#9c179e\"],[0.4444444444444444,\"#bd3786\"],[0.5555555555555556,\"#d8576b\"],[0.6666666666666666,\"#ed7953\"],[0.7777777777777778,\"#fb9f3a\"],[0.8888888888888888,\"#fdca26\"],[1.0,\"#f0f921\"]]}],\"mesh3d\":[{\"type\":\"mesh3d\",\"colorbar\":{\"outlinewidth\":0,\"ticks\":\"\"}}],\"scatter\":[{\"fillpattern\":{\"fillmode\":\"overlay\",\"size\":10,\"solidity\":0.2},\"type\":\"scatter\"}],\"parcoords\":[{\"type\":\"parcoords\",\"line\":{\"colorbar\":{\"outlinewidth\":0,\"ticks\":\"\"}}}],\"scatterpolargl\":[{\"type\":\"scatterpolargl\",\"marker\":{\"colorbar\":{\"outlinewidth\":0,\"ticks\":\"\"}}}],\"bar\":[{\"error_x\":{\"color\":\"#2a3f5f\"},\"error_y\":{\"color\":\"#2a3f5f\"},\"marker\":{\"line\":{\"color\":\"#E5ECF6\",\"width\":0.5},\"pattern\":{\"fillmode\":\"overlay\",\"size\":10,\"solidity\":0.2}},\"type\":\"bar\"}],\"scattergeo\":[{\"type\":\"scattergeo\",\"marker\":{\"colorbar\":{\"outlinewidth\":0,\"ticks\":\"\"}}}],\"scatterpolar\":[{\"type\":\"scatterpolar\",\"marker\":{\"colorbar\":{\"outlinewidth\":0,\"ticks\":\"\"}}}],\"histogram\":[{\"marker\":{\"pattern\":{\"fillmode\":\"overlay\",\"size\":10,\"solidity\":0.2}},\"type\":\"histogram\"}],\"scattergl\":[{\"type\":\"scattergl\",\"marker\":{\"colorbar\":{\"outlinewidth\":0,\"ticks\":\"\"}}}],\"scatter3d\":[{\"type\":\"scatter3d\",\"line\":{\"colorbar\":{\"outlinewidth\":0,\"ticks\":\"\"}},\"marker\":{\"colorbar\":{\"outlinewidth\":0,\"ticks\":\"\"}}}],\"scattermapbox\":[{\"type\":\"scattermapbox\",\"marker\":{\"colorbar\":{\"outlinewidth\":0,\"ticks\":\"\"}}}],\"scatterternary\":[{\"type\":\"scatterternary\",\"marker\":{\"colorbar\":{\"outlinewidth\":0,\"ticks\":\"\"}}}],\"scattercarpet\":[{\"type\":\"scattercarpet\",\"marker\":{\"colorbar\":{\"outlinewidth\":0,\"ticks\":\"\"}}}],\"carpet\":[{\"aaxis\":{\"endlinecolor\":\"#2a3f5f\",\"gridcolor\":\"white\",\"linecolor\":\"white\",\"minorgridcolor\":\"white\",\"startlinecolor\":\"#2a3f5f\"},\"baxis\":{\"endlinecolor\":\"#2a3f5f\",\"gridcolor\":\"white\",\"linecolor\":\"white\",\"minorgridcolor\":\"white\",\"startlinecolor\":\"#2a3f5f\"},\"type\":\"carpet\"}],\"table\":[{\"cells\":{\"fill\":{\"color\":\"#EBF0F8\"},\"line\":{\"color\":\"white\"}},\"header\":{\"fill\":{\"color\":\"#C8D4E3\"},\"line\":{\"color\":\"white\"}},\"type\":\"table\"}],\"barpolar\":[{\"marker\":{\"line\":{\"color\":\"#E5ECF6\",\"width\":0.5},\"pattern\":{\"fillmode\":\"overlay\",\"size\":10,\"solidity\":0.2}},\"type\":\"barpolar\"}],\"pie\":[{\"automargin\":true,\"type\":\"pie\"}]},\"layout\":{\"autotypenumbers\":\"strict\",\"colorway\":[\"#636efa\",\"#EF553B\",\"#00cc96\",\"#ab63fa\",\"#FFA15A\",\"#19d3f3\",\"#FF6692\",\"#B6E880\",\"#FF97FF\",\"#FECB52\"],\"font\":{\"color\":\"#2a3f5f\"},\"hovermode\":\"closest\",\"hoverlabel\":{\"align\":\"left\"},\"paper_bgcolor\":\"white\",\"plot_bgcolor\":\"#E5ECF6\",\"polar\":{\"bgcolor\":\"#E5ECF6\",\"angularaxis\":{\"gridcolor\":\"white\",\"linecolor\":\"white\",\"ticks\":\"\"},\"radialaxis\":{\"gridcolor\":\"white\",\"linecolor\":\"white\",\"ticks\":\"\"}},\"ternary\":{\"bgcolor\":\"#E5ECF6\",\"aaxis\":{\"gridcolor\":\"white\",\"linecolor\":\"white\",\"ticks\":\"\"},\"baxis\":{\"gridcolor\":\"white\",\"linecolor\":\"white\",\"ticks\":\"\"},\"caxis\":{\"gridcolor\":\"white\",\"linecolor\":\"white\",\"ticks\":\"\"}},\"coloraxis\":{\"colorbar\":{\"outlinewidth\":0,\"ticks\":\"\"}},\"colorscale\":{\"sequential\":[[0.0,\"#0d0887\"],[0.1111111111111111,\"#46039f\"],[0.2222222222222222,\"#7201a8\"],[0.3333333333333333,\"#9c179e\"],[0.4444444444444444,\"#bd3786\"],[0.5555555555555556,\"#d8576b\"],[0.6666666666666666,\"#ed7953\"],[0.7777777777777778,\"#fb9f3a\"],[0.8888888888888888,\"#fdca26\"],[1.0,\"#f0f921\"]],\"sequentialminus\":[[0.0,\"#0d0887\"],[0.1111111111111111,\"#46039f\"],[0.2222222222222222,\"#7201a8\"],[0.3333333333333333,\"#9c179e\"],[0.4444444444444444,\"#bd3786\"],[0.5555555555555556,\"#d8576b\"],[0.6666666666666666,\"#ed7953\"],[0.7777777777777778,\"#fb9f3a\"],[0.8888888888888888,\"#fdca26\"],[1.0,\"#f0f921\"]],\"diverging\":[[0,\"#8e0152\"],[0.1,\"#c51b7d\"],[0.2,\"#de77ae\"],[0.3,\"#f1b6da\"],[0.4,\"#fde0ef\"],[0.5,\"#f7f7f7\"],[0.6,\"#e6f5d0\"],[0.7,\"#b8e186\"],[0.8,\"#7fbc41\"],[0.9,\"#4d9221\"],[1,\"#276419\"]]},\"xaxis\":{\"gridcolor\":\"white\",\"linecolor\":\"white\",\"ticks\":\"\",\"title\":{\"standoff\":15},\"zerolinecolor\":\"white\",\"automargin\":true,\"zerolinewidth\":2},\"yaxis\":{\"gridcolor\":\"white\",\"linecolor\":\"white\",\"ticks\":\"\",\"title\":{\"standoff\":15},\"zerolinecolor\":\"white\",\"automargin\":true,\"zerolinewidth\":2},\"scene\":{\"xaxis\":{\"backgroundcolor\":\"#E5ECF6\",\"gridcolor\":\"white\",\"linecolor\":\"white\",\"showbackground\":true,\"ticks\":\"\",\"zerolinecolor\":\"white\",\"gridwidth\":2},\"yaxis\":{\"backgroundcolor\":\"#E5ECF6\",\"gridcolor\":\"white\",\"linecolor\":\"white\",\"showbackground\":true,\"ticks\":\"\",\"zerolinecolor\":\"white\",\"gridwidth\":2},\"zaxis\":{\"backgroundcolor\":\"#E5ECF6\",\"gridcolor\":\"white\",\"linecolor\":\"white\",\"showbackground\":true,\"ticks\":\"\",\"zerolinecolor\":\"white\",\"gridwidth\":2}},\"shapedefaults\":{\"line\":{\"color\":\"#2a3f5f\"}},\"annotationdefaults\":{\"arrowcolor\":\"#2a3f5f\",\"arrowhead\":0,\"arrowwidth\":1},\"geo\":{\"bgcolor\":\"white\",\"landcolor\":\"#E5ECF6\",\"subunitcolor\":\"white\",\"showland\":true,\"showlakes\":true,\"lakecolor\":\"white\"},\"title\":{\"x\":0.05},\"mapbox\":{\"style\":\"light\"}}},\"yaxis\":{\"gridcolor\":\"#eee\",\"title\":{\"text\":\"frequency\"},\"rangemode\":\"tozero\"},\"xaxis\":{\"rangemode\":\"tozero\"},\"title\":{\"text\":\"<b>patient_age</b> frequency distribution\"},\"plot_bgcolor\":\"#fff\",\"showlegend\":false,\"height\":500},                        {\"responsive\": true}                    ).then(function(){\n",
       "                            \n",
       "var gd = document.getElementById('4f9fdf0e-2c77-4230-b486-a457c036b684');\n",
       "var x = new MutationObserver(function (mutations, observer) {{\n",
       "        var display = window.getComputedStyle(gd).display;\n",
       "        if (!display || display === 'none') {{\n",
       "            console.log([gd, 'removed!']);\n",
       "            Plotly.purge(gd);\n",
       "            observer.disconnect();\n",
       "        }}\n",
       "}});\n",
       "\n",
       "// Listen for the removal of the full notebook cells\n",
       "var notebookContainer = gd.closest('#notebook-container');\n",
       "if (notebookContainer) {{\n",
       "    x.observe(notebookContainer, {childList: true});\n",
       "}}\n",
       "\n",
       "// Listen for the clearing of the current output cell\n",
       "var outputEl = gd.closest('.output');\n",
       "if (outputEl) {{\n",
       "    x.observe(outputEl, {childList: true});\n",
       "}}\n",
       "\n",
       "                        })                };                });            </script>        </div>"
      ]
     },
     "metadata": {},
     "output_type": "display_data"
    }
   ],
   "source": [
    "num_freq_plot(regexp_age_gender_1_extracts, 'patient_age')"
   ]
  },
  {
   "cell_type": "markdown",
   "id": "03b0adb1-336d-439e-918f-89446fc5f27c",
   "metadata": {},
   "source": [
    "This pattern matches the following proportion of the data sample:"
   ]
  },
  {
   "cell_type": "code",
   "execution_count": 26,
   "id": "7d74214f-f456-4b01-9f5c-739380909433",
   "metadata": {},
   "outputs": [
    {
     "data": {
      "text/plain": [
       "0.3152"
      ]
     },
     "execution_count": 26,
     "metadata": {},
     "output_type": "execute_result"
    }
   ],
   "source": [
    "len(regexp_age_gender_1_extracts)/len(df_sample2)"
   ]
  },
  {
   "cell_type": "code",
   "execution_count": 27,
   "id": "773761d2-1223-4f32-8806-b7dbf96c6aca",
   "metadata": {},
   "outputs": [],
   "source": [
    "remainder = df_sample2[\n",
    "    ~df_sample2.index.isin(regexp_age_gender_1_extracts.index)\n",
    "].copy()"
   ]
  },
  {
   "cell_type": "code",
   "execution_count": 28,
   "id": "75349076-e2bc-4ccf-9a01-4fc019ac8096",
   "metadata": {},
   "outputs": [
    {
     "data": {
      "text/plain": [
       "6848"
      ]
     },
     "execution_count": 28,
     "metadata": {},
     "output_type": "execute_result"
    }
   ],
   "source": [
    "len(remainder)"
   ]
  },
  {
   "cell_type": "markdown",
   "id": "d27253bc-aa29-48e3-a40b-18d5b0a5d979",
   "metadata": {},
   "source": [
    "### Age and gender pattern 2  \n",
    "Pattern like:  \n",
    " - 28 year-old F  \n",
    " - 28-years-old female  \n",
    " - 28 years old , AMAB  \n",
    " - etc.  "
   ]
  },
  {
   "cell_type": "code",
   "execution_count": 29,
   "id": "4dd431e1-88b7-4c53-a4fb-d24af0ffc129",
   "metadata": {},
   "outputs": [],
   "source": [
    "regexp_age_gender_2 = r'''(?<![.,'\"])\\b([1-9]\\d?)[ \\-]?years?-? ?old,? ''' + regexp_gender_kwds + r'\\b'\n",
    "\n",
    "regexp_age_gender_2_extracts = remainder['full_post_text'].str.extract(\n",
    "        regexp_age_gender_2,\n",
    "        flags=re.IGNORECASE\n",
    "    ).rename(columns={\n",
    "        0: 'patient_age',\n",
    "        1: 'patient_gender'\n",
    "    })\n",
    "\n",
    "regexp_age_gender_2_extracts.dropna(inplace=True)\n",
    "\n",
    "regexp_age_gender_2_extracts['patient_age'] = \\\n",
    "    regexp_age_gender_2_extracts['patient_age'].astype('int')"
   ]
  },
  {
   "cell_type": "code",
   "execution_count": 30,
   "id": "ed1a8ac5-c5d1-49c4-9370-b5b089e6e248",
   "metadata": {},
   "outputs": [
    {
     "data": {
      "text/plain": [
       "0.0603"
      ]
     },
     "execution_count": 30,
     "metadata": {},
     "output_type": "execute_result"
    }
   ],
   "source": [
    "len(regexp_age_gender_2_extracts)/len(df_sample2)"
   ]
  },
  {
   "cell_type": "code",
   "execution_count": 31,
   "id": "f0108470-5213-4a19-a905-20ce7a8415c1",
   "metadata": {},
   "outputs": [
    {
     "data": {
      "text/html": [
       "<div>\n",
       "<style scoped>\n",
       "    .dataframe tbody tr th:only-of-type {\n",
       "        vertical-align: middle;\n",
       "    }\n",
       "\n",
       "    .dataframe tbody tr th {\n",
       "        vertical-align: top;\n",
       "    }\n",
       "\n",
       "    .dataframe thead th {\n",
       "        text-align: right;\n",
       "    }\n",
       "</style>\n",
       "<table border=\"1\" class=\"dataframe\">\n",
       "  <thead>\n",
       "    <tr style=\"text-align: right;\">\n",
       "      <th></th>\n",
       "      <th>patient_age</th>\n",
       "      <th>patient_gender</th>\n",
       "    </tr>\n",
       "  </thead>\n",
       "  <tbody>\n",
       "    <tr>\n",
       "      <th>count</th>\n",
       "      <td>603.000000</td>\n",
       "      <td>603</td>\n",
       "    </tr>\n",
       "    <tr>\n",
       "      <th>unique</th>\n",
       "      <td>NaN</td>\n",
       "      <td>20</td>\n",
       "    </tr>\n",
       "    <tr>\n",
       "      <th>top</th>\n",
       "      <td>NaN</td>\n",
       "      <td>male</td>\n",
       "    </tr>\n",
       "    <tr>\n",
       "      <th>freq</th>\n",
       "      <td>NaN</td>\n",
       "      <td>298</td>\n",
       "    </tr>\n",
       "    <tr>\n",
       "      <th>mean</th>\n",
       "      <td>24.019900</td>\n",
       "      <td>NaN</td>\n",
       "    </tr>\n",
       "    <tr>\n",
       "      <th>std</th>\n",
       "      <td>9.710234</td>\n",
       "      <td>NaN</td>\n",
       "    </tr>\n",
       "    <tr>\n",
       "      <th>min</th>\n",
       "      <td>1.000000</td>\n",
       "      <td>NaN</td>\n",
       "    </tr>\n",
       "    <tr>\n",
       "      <th>25%</th>\n",
       "      <td>19.000000</td>\n",
       "      <td>NaN</td>\n",
       "    </tr>\n",
       "    <tr>\n",
       "      <th>50%</th>\n",
       "      <td>23.000000</td>\n",
       "      <td>NaN</td>\n",
       "    </tr>\n",
       "    <tr>\n",
       "      <th>75%</th>\n",
       "      <td>27.000000</td>\n",
       "      <td>NaN</td>\n",
       "    </tr>\n",
       "    <tr>\n",
       "      <th>max</th>\n",
       "      <td>91.000000</td>\n",
       "      <td>NaN</td>\n",
       "    </tr>\n",
       "  </tbody>\n",
       "</table>\n",
       "</div>"
      ],
      "text/plain": [
       "        patient_age patient_gender\n",
       "count    603.000000            603\n",
       "unique          NaN             20\n",
       "top             NaN           male\n",
       "freq            NaN            298\n",
       "mean      24.019900            NaN\n",
       "std        9.710234            NaN\n",
       "min        1.000000            NaN\n",
       "25%       19.000000            NaN\n",
       "50%       23.000000            NaN\n",
       "75%       27.000000            NaN\n",
       "max       91.000000            NaN"
      ]
     },
     "execution_count": 31,
     "metadata": {},
     "output_type": "execute_result"
    }
   ],
   "source": [
    "regexp_age_gender_2_extracts.describe(include='all')"
   ]
  },
  {
   "cell_type": "code",
   "execution_count": 32,
   "id": "41c55789-f733-4f2b-a212-1accf5aa98c9",
   "metadata": {},
   "outputs": [
    {
     "data": {
      "text/plain": [
       "patient_age\n",
       "1      1\n",
       "2      6\n",
       "3      1\n",
       "4      2\n",
       "5      3\n",
       "6      2\n",
       "7      1\n",
       "8      3\n",
       "9      2\n",
       "10     3\n",
       "11     1\n",
       "12     4\n",
       "13     5\n",
       "14     5\n",
       "15    17\n",
       "16    20\n",
       "17    23\n",
       "18    30\n",
       "19    36\n",
       "20    57\n",
       "21    43\n",
       "22    35\n",
       "23    36\n",
       "24    34\n",
       "25    32\n",
       "26    26\n",
       "27    26\n",
       "28    23\n",
       "29    12\n",
       "30    25\n",
       "31     8\n",
       "32    13\n",
       "33     9\n",
       "34     4\n",
       "35     6\n",
       "36     8\n",
       "37     3\n",
       "38     6\n",
       "39     3\n",
       "40     5\n",
       "41     2\n",
       "42     3\n",
       "45     2\n",
       "46     2\n",
       "47     1\n",
       "48     1\n",
       "50     1\n",
       "52     1\n",
       "54     1\n",
       "55     1\n",
       "57     1\n",
       "60     1\n",
       "67     1\n",
       "70     3\n",
       "74     1\n",
       "87     1\n",
       "91     1\n",
       "Name: count, dtype: int64"
      ]
     },
     "execution_count": 32,
     "metadata": {},
     "output_type": "execute_result"
    }
   ],
   "source": [
    "regexp_age_gender_2_extracts['patient_age'].value_counts().sort_index()"
   ]
  },
  {
   "cell_type": "code",
   "execution_count": 33,
   "id": "8ad36d75-98f6-4498-9f7b-c338d5582ee6",
   "metadata": {},
   "outputs": [
    {
     "data": {
      "application/vnd.plotly.v1+json": {
       "config": {
        "plotlyServerURL": "https://plotly.com"
       },
       "data": [
        {
         "hovertemplate": "Value: %{x:,}<br>Frequency: %{y:,}<br><extra></extra>",
         "hovertext": [
          1,
          2,
          3,
          4,
          5,
          6,
          7,
          8,
          9,
          10,
          11,
          12,
          13,
          14,
          15,
          16,
          17,
          18,
          19,
          20,
          21,
          22,
          23,
          24,
          25,
          26,
          27,
          28,
          29,
          30,
          31,
          32,
          33,
          34,
          35,
          36,
          37,
          38,
          39,
          40,
          41,
          42,
          45,
          46,
          47,
          48,
          50,
          52,
          54,
          55,
          57,
          60,
          67,
          70,
          74,
          87,
          91
         ],
         "type": "bar",
         "x": [
          1,
          2,
          3,
          4,
          5,
          6,
          7,
          8,
          9,
          10,
          11,
          12,
          13,
          14,
          15,
          16,
          17,
          18,
          19,
          20,
          21,
          22,
          23,
          24,
          25,
          26,
          27,
          28,
          29,
          30,
          31,
          32,
          33,
          34,
          35,
          36,
          37,
          38,
          39,
          40,
          41,
          42,
          45,
          46,
          47,
          48,
          50,
          52,
          54,
          55,
          57,
          60,
          67,
          70,
          74,
          87,
          91
         ],
         "y": [
          1,
          6,
          1,
          2,
          3,
          2,
          1,
          3,
          2,
          3,
          1,
          4,
          5,
          5,
          17,
          20,
          23,
          30,
          36,
          57,
          43,
          35,
          36,
          34,
          32,
          26,
          26,
          23,
          12,
          25,
          8,
          13,
          9,
          4,
          6,
          8,
          3,
          6,
          3,
          5,
          2,
          3,
          2,
          2,
          1,
          1,
          1,
          1,
          1,
          1,
          1,
          1,
          1,
          3,
          1,
          1,
          1
         ]
        }
       ],
       "layout": {
        "autosize": true,
        "plot_bgcolor": "#fff",
        "showlegend": false,
        "template": {
         "data": {
          "bar": [
           {
            "error_x": {
             "color": "#2a3f5f"
            },
            "error_y": {
             "color": "#2a3f5f"
            },
            "marker": {
             "line": {
              "color": "#E5ECF6",
              "width": 0.5
             },
             "pattern": {
              "fillmode": "overlay",
              "size": 10,
              "solidity": 0.2
             }
            },
            "type": "bar"
           }
          ],
          "barpolar": [
           {
            "marker": {
             "line": {
              "color": "#E5ECF6",
              "width": 0.5
             },
             "pattern": {
              "fillmode": "overlay",
              "size": 10,
              "solidity": 0.2
             }
            },
            "type": "barpolar"
           }
          ],
          "carpet": [
           {
            "aaxis": {
             "endlinecolor": "#2a3f5f",
             "gridcolor": "white",
             "linecolor": "white",
             "minorgridcolor": "white",
             "startlinecolor": "#2a3f5f"
            },
            "baxis": {
             "endlinecolor": "#2a3f5f",
             "gridcolor": "white",
             "linecolor": "white",
             "minorgridcolor": "white",
             "startlinecolor": "#2a3f5f"
            },
            "type": "carpet"
           }
          ],
          "choropleth": [
           {
            "colorbar": {
             "outlinewidth": 0,
             "ticks": ""
            },
            "type": "choropleth"
           }
          ],
          "contour": [
           {
            "colorbar": {
             "outlinewidth": 0,
             "ticks": ""
            },
            "colorscale": [
             [
              0,
              "#0d0887"
             ],
             [
              0.1111111111111111,
              "#46039f"
             ],
             [
              0.2222222222222222,
              "#7201a8"
             ],
             [
              0.3333333333333333,
              "#9c179e"
             ],
             [
              0.4444444444444444,
              "#bd3786"
             ],
             [
              0.5555555555555556,
              "#d8576b"
             ],
             [
              0.6666666666666666,
              "#ed7953"
             ],
             [
              0.7777777777777778,
              "#fb9f3a"
             ],
             [
              0.8888888888888888,
              "#fdca26"
             ],
             [
              1,
              "#f0f921"
             ]
            ],
            "type": "contour"
           }
          ],
          "contourcarpet": [
           {
            "colorbar": {
             "outlinewidth": 0,
             "ticks": ""
            },
            "type": "contourcarpet"
           }
          ],
          "heatmap": [
           {
            "colorbar": {
             "outlinewidth": 0,
             "ticks": ""
            },
            "colorscale": [
             [
              0,
              "#0d0887"
             ],
             [
              0.1111111111111111,
              "#46039f"
             ],
             [
              0.2222222222222222,
              "#7201a8"
             ],
             [
              0.3333333333333333,
              "#9c179e"
             ],
             [
              0.4444444444444444,
              "#bd3786"
             ],
             [
              0.5555555555555556,
              "#d8576b"
             ],
             [
              0.6666666666666666,
              "#ed7953"
             ],
             [
              0.7777777777777778,
              "#fb9f3a"
             ],
             [
              0.8888888888888888,
              "#fdca26"
             ],
             [
              1,
              "#f0f921"
             ]
            ],
            "type": "heatmap"
           }
          ],
          "heatmapgl": [
           {
            "colorbar": {
             "outlinewidth": 0,
             "ticks": ""
            },
            "colorscale": [
             [
              0,
              "#0d0887"
             ],
             [
              0.1111111111111111,
              "#46039f"
             ],
             [
              0.2222222222222222,
              "#7201a8"
             ],
             [
              0.3333333333333333,
              "#9c179e"
             ],
             [
              0.4444444444444444,
              "#bd3786"
             ],
             [
              0.5555555555555556,
              "#d8576b"
             ],
             [
              0.6666666666666666,
              "#ed7953"
             ],
             [
              0.7777777777777778,
              "#fb9f3a"
             ],
             [
              0.8888888888888888,
              "#fdca26"
             ],
             [
              1,
              "#f0f921"
             ]
            ],
            "type": "heatmapgl"
           }
          ],
          "histogram": [
           {
            "marker": {
             "pattern": {
              "fillmode": "overlay",
              "size": 10,
              "solidity": 0.2
             }
            },
            "type": "histogram"
           }
          ],
          "histogram2d": [
           {
            "colorbar": {
             "outlinewidth": 0,
             "ticks": ""
            },
            "colorscale": [
             [
              0,
              "#0d0887"
             ],
             [
              0.1111111111111111,
              "#46039f"
             ],
             [
              0.2222222222222222,
              "#7201a8"
             ],
             [
              0.3333333333333333,
              "#9c179e"
             ],
             [
              0.4444444444444444,
              "#bd3786"
             ],
             [
              0.5555555555555556,
              "#d8576b"
             ],
             [
              0.6666666666666666,
              "#ed7953"
             ],
             [
              0.7777777777777778,
              "#fb9f3a"
             ],
             [
              0.8888888888888888,
              "#fdca26"
             ],
             [
              1,
              "#f0f921"
             ]
            ],
            "type": "histogram2d"
           }
          ],
          "histogram2dcontour": [
           {
            "colorbar": {
             "outlinewidth": 0,
             "ticks": ""
            },
            "colorscale": [
             [
              0,
              "#0d0887"
             ],
             [
              0.1111111111111111,
              "#46039f"
             ],
             [
              0.2222222222222222,
              "#7201a8"
             ],
             [
              0.3333333333333333,
              "#9c179e"
             ],
             [
              0.4444444444444444,
              "#bd3786"
             ],
             [
              0.5555555555555556,
              "#d8576b"
             ],
             [
              0.6666666666666666,
              "#ed7953"
             ],
             [
              0.7777777777777778,
              "#fb9f3a"
             ],
             [
              0.8888888888888888,
              "#fdca26"
             ],
             [
              1,
              "#f0f921"
             ]
            ],
            "type": "histogram2dcontour"
           }
          ],
          "mesh3d": [
           {
            "colorbar": {
             "outlinewidth": 0,
             "ticks": ""
            },
            "type": "mesh3d"
           }
          ],
          "parcoords": [
           {
            "line": {
             "colorbar": {
              "outlinewidth": 0,
              "ticks": ""
             }
            },
            "type": "parcoords"
           }
          ],
          "pie": [
           {
            "automargin": true,
            "type": "pie"
           }
          ],
          "scatter": [
           {
            "fillpattern": {
             "fillmode": "overlay",
             "size": 10,
             "solidity": 0.2
            },
            "type": "scatter"
           }
          ],
          "scatter3d": [
           {
            "line": {
             "colorbar": {
              "outlinewidth": 0,
              "ticks": ""
             }
            },
            "marker": {
             "colorbar": {
              "outlinewidth": 0,
              "ticks": ""
             }
            },
            "type": "scatter3d"
           }
          ],
          "scattercarpet": [
           {
            "marker": {
             "colorbar": {
              "outlinewidth": 0,
              "ticks": ""
             }
            },
            "type": "scattercarpet"
           }
          ],
          "scattergeo": [
           {
            "marker": {
             "colorbar": {
              "outlinewidth": 0,
              "ticks": ""
             }
            },
            "type": "scattergeo"
           }
          ],
          "scattergl": [
           {
            "marker": {
             "colorbar": {
              "outlinewidth": 0,
              "ticks": ""
             }
            },
            "type": "scattergl"
           }
          ],
          "scattermapbox": [
           {
            "marker": {
             "colorbar": {
              "outlinewidth": 0,
              "ticks": ""
             }
            },
            "type": "scattermapbox"
           }
          ],
          "scatterpolar": [
           {
            "marker": {
             "colorbar": {
              "outlinewidth": 0,
              "ticks": ""
             }
            },
            "type": "scatterpolar"
           }
          ],
          "scatterpolargl": [
           {
            "marker": {
             "colorbar": {
              "outlinewidth": 0,
              "ticks": ""
             }
            },
            "type": "scatterpolargl"
           }
          ],
          "scatterternary": [
           {
            "marker": {
             "colorbar": {
              "outlinewidth": 0,
              "ticks": ""
             }
            },
            "type": "scatterternary"
           }
          ],
          "surface": [
           {
            "colorbar": {
             "outlinewidth": 0,
             "ticks": ""
            },
            "colorscale": [
             [
              0,
              "#0d0887"
             ],
             [
              0.1111111111111111,
              "#46039f"
             ],
             [
              0.2222222222222222,
              "#7201a8"
             ],
             [
              0.3333333333333333,
              "#9c179e"
             ],
             [
              0.4444444444444444,
              "#bd3786"
             ],
             [
              0.5555555555555556,
              "#d8576b"
             ],
             [
              0.6666666666666666,
              "#ed7953"
             ],
             [
              0.7777777777777778,
              "#fb9f3a"
             ],
             [
              0.8888888888888888,
              "#fdca26"
             ],
             [
              1,
              "#f0f921"
             ]
            ],
            "type": "surface"
           }
          ],
          "table": [
           {
            "cells": {
             "fill": {
              "color": "#EBF0F8"
             },
             "line": {
              "color": "white"
             }
            },
            "header": {
             "fill": {
              "color": "#C8D4E3"
             },
             "line": {
              "color": "white"
             }
            },
            "type": "table"
           }
          ]
         },
         "layout": {
          "annotationdefaults": {
           "arrowcolor": "#2a3f5f",
           "arrowhead": 0,
           "arrowwidth": 1
          },
          "autotypenumbers": "strict",
          "coloraxis": {
           "colorbar": {
            "outlinewidth": 0,
            "ticks": ""
           }
          },
          "colorscale": {
           "diverging": [
            [
             0,
             "#8e0152"
            ],
            [
             0.1,
             "#c51b7d"
            ],
            [
             0.2,
             "#de77ae"
            ],
            [
             0.3,
             "#f1b6da"
            ],
            [
             0.4,
             "#fde0ef"
            ],
            [
             0.5,
             "#f7f7f7"
            ],
            [
             0.6,
             "#e6f5d0"
            ],
            [
             0.7,
             "#b8e186"
            ],
            [
             0.8,
             "#7fbc41"
            ],
            [
             0.9,
             "#4d9221"
            ],
            [
             1,
             "#276419"
            ]
           ],
           "sequential": [
            [
             0,
             "#0d0887"
            ],
            [
             0.1111111111111111,
             "#46039f"
            ],
            [
             0.2222222222222222,
             "#7201a8"
            ],
            [
             0.3333333333333333,
             "#9c179e"
            ],
            [
             0.4444444444444444,
             "#bd3786"
            ],
            [
             0.5555555555555556,
             "#d8576b"
            ],
            [
             0.6666666666666666,
             "#ed7953"
            ],
            [
             0.7777777777777778,
             "#fb9f3a"
            ],
            [
             0.8888888888888888,
             "#fdca26"
            ],
            [
             1,
             "#f0f921"
            ]
           ],
           "sequentialminus": [
            [
             0,
             "#0d0887"
            ],
            [
             0.1111111111111111,
             "#46039f"
            ],
            [
             0.2222222222222222,
             "#7201a8"
            ],
            [
             0.3333333333333333,
             "#9c179e"
            ],
            [
             0.4444444444444444,
             "#bd3786"
            ],
            [
             0.5555555555555556,
             "#d8576b"
            ],
            [
             0.6666666666666666,
             "#ed7953"
            ],
            [
             0.7777777777777778,
             "#fb9f3a"
            ],
            [
             0.8888888888888888,
             "#fdca26"
            ],
            [
             1,
             "#f0f921"
            ]
           ]
          },
          "colorway": [
           "#636efa",
           "#EF553B",
           "#00cc96",
           "#ab63fa",
           "#FFA15A",
           "#19d3f3",
           "#FF6692",
           "#B6E880",
           "#FF97FF",
           "#FECB52"
          ],
          "font": {
           "color": "#2a3f5f"
          },
          "geo": {
           "bgcolor": "white",
           "lakecolor": "white",
           "landcolor": "#E5ECF6",
           "showlakes": true,
           "showland": true,
           "subunitcolor": "white"
          },
          "hoverlabel": {
           "align": "left"
          },
          "hovermode": "closest",
          "mapbox": {
           "style": "light"
          },
          "paper_bgcolor": "white",
          "plot_bgcolor": "#E5ECF6",
          "polar": {
           "angularaxis": {
            "gridcolor": "white",
            "linecolor": "white",
            "ticks": ""
           },
           "bgcolor": "#E5ECF6",
           "radialaxis": {
            "gridcolor": "white",
            "linecolor": "white",
            "ticks": ""
           }
          },
          "scene": {
           "xaxis": {
            "backgroundcolor": "#E5ECF6",
            "gridcolor": "white",
            "gridwidth": 2,
            "linecolor": "white",
            "showbackground": true,
            "ticks": "",
            "zerolinecolor": "white"
           },
           "yaxis": {
            "backgroundcolor": "#E5ECF6",
            "gridcolor": "white",
            "gridwidth": 2,
            "linecolor": "white",
            "showbackground": true,
            "ticks": "",
            "zerolinecolor": "white"
           },
           "zaxis": {
            "backgroundcolor": "#E5ECF6",
            "gridcolor": "white",
            "gridwidth": 2,
            "linecolor": "white",
            "showbackground": true,
            "ticks": "",
            "zerolinecolor": "white"
           }
          },
          "shapedefaults": {
           "line": {
            "color": "#2a3f5f"
           }
          },
          "ternary": {
           "aaxis": {
            "gridcolor": "white",
            "linecolor": "white",
            "ticks": ""
           },
           "baxis": {
            "gridcolor": "white",
            "linecolor": "white",
            "ticks": ""
           },
           "bgcolor": "#E5ECF6",
           "caxis": {
            "gridcolor": "white",
            "linecolor": "white",
            "ticks": ""
           }
          },
          "title": {
           "x": 0.05
          },
          "xaxis": {
           "automargin": true,
           "gridcolor": "white",
           "linecolor": "white",
           "ticks": "",
           "title": {
            "standoff": 15
           },
           "zerolinecolor": "white",
           "zerolinewidth": 2
          },
          "yaxis": {
           "automargin": true,
           "gridcolor": "white",
           "linecolor": "white",
           "ticks": "",
           "title": {
            "standoff": 15
           },
           "zerolinecolor": "white",
           "zerolinewidth": 2
          }
         }
        },
        "title": {
         "text": "<b>patient_age</b> frequency distribution"
        },
        "xaxis": {
         "autorange": true,
         "range": [
          0,
          91.5
         ],
         "rangemode": "tozero",
         "type": "linear"
        },
        "yaxis": {
         "autorange": true,
         "gridcolor": "#eee",
         "range": [
          0,
          60
         ],
         "rangemode": "tozero",
         "title": {
          "text": "frequency"
         },
         "type": "linear"
        }
       }
      },
      "text/html": [
       "<div>                            <div id=\"3f6974fa-e022-4660-9416-c028cd6ab6a4\" class=\"plotly-graph-div\" style=\"height:500px; width:100%;\"></div>            <script type=\"text/javascript\">                require([\"plotly\"], function(Plotly) {                    window.PLOTLYENV=window.PLOTLYENV || {};                                    if (document.getElementById(\"3f6974fa-e022-4660-9416-c028cd6ab6a4\")) {                    Plotly.newPlot(                        \"3f6974fa-e022-4660-9416-c028cd6ab6a4\",                        [{\"hovertemplate\":\"Value: %{x:,}<br>Frequency: %{y:,}<br><extra></extra>\",\"hovertext\":[1.0,2.0,3.0,4.0,5.0,6.0,7.0,8.0,9.0,10.0,11.0,12.0,13.0,14.0,15.0,16.0,17.0,18.0,19.0,20.0,21.0,22.0,23.0,24.0,25.0,26.0,27.0,28.0,29.0,30.0,31.0,32.0,33.0,34.0,35.0,36.0,37.0,38.0,39.0,40.0,41.0,42.0,45.0,46.0,47.0,48.0,50.0,52.0,54.0,55.0,57.0,60.0,67.0,70.0,74.0,87.0,91.0],\"x\":[1,2,3,4,5,6,7,8,9,10,11,12,13,14,15,16,17,18,19,20,21,22,23,24,25,26,27,28,29,30,31,32,33,34,35,36,37,38,39,40,41,42,45,46,47,48,50,52,54,55,57,60,67,70,74,87,91],\"y\":[1,6,1,2,3,2,1,3,2,3,1,4,5,5,17,20,23,30,36,57,43,35,36,34,32,26,26,23,12,25,8,13,9,4,6,8,3,6,3,5,2,3,2,2,1,1,1,1,1,1,1,1,1,3,1,1,1],\"type\":\"bar\"}],                        {\"template\":{\"data\":{\"histogram2dcontour\":[{\"type\":\"histogram2dcontour\",\"colorbar\":{\"outlinewidth\":0,\"ticks\":\"\"},\"colorscale\":[[0.0,\"#0d0887\"],[0.1111111111111111,\"#46039f\"],[0.2222222222222222,\"#7201a8\"],[0.3333333333333333,\"#9c179e\"],[0.4444444444444444,\"#bd3786\"],[0.5555555555555556,\"#d8576b\"],[0.6666666666666666,\"#ed7953\"],[0.7777777777777778,\"#fb9f3a\"],[0.8888888888888888,\"#fdca26\"],[1.0,\"#f0f921\"]]}],\"choropleth\":[{\"type\":\"choropleth\",\"colorbar\":{\"outlinewidth\":0,\"ticks\":\"\"}}],\"histogram2d\":[{\"type\":\"histogram2d\",\"colorbar\":{\"outlinewidth\":0,\"ticks\":\"\"},\"colorscale\":[[0.0,\"#0d0887\"],[0.1111111111111111,\"#46039f\"],[0.2222222222222222,\"#7201a8\"],[0.3333333333333333,\"#9c179e\"],[0.4444444444444444,\"#bd3786\"],[0.5555555555555556,\"#d8576b\"],[0.6666666666666666,\"#ed7953\"],[0.7777777777777778,\"#fb9f3a\"],[0.8888888888888888,\"#fdca26\"],[1.0,\"#f0f921\"]]}],\"heatmap\":[{\"type\":\"heatmap\",\"colorbar\":{\"outlinewidth\":0,\"ticks\":\"\"},\"colorscale\":[[0.0,\"#0d0887\"],[0.1111111111111111,\"#46039f\"],[0.2222222222222222,\"#7201a8\"],[0.3333333333333333,\"#9c179e\"],[0.4444444444444444,\"#bd3786\"],[0.5555555555555556,\"#d8576b\"],[0.6666666666666666,\"#ed7953\"],[0.7777777777777778,\"#fb9f3a\"],[0.8888888888888888,\"#fdca26\"],[1.0,\"#f0f921\"]]}],\"heatmapgl\":[{\"type\":\"heatmapgl\",\"colorbar\":{\"outlinewidth\":0,\"ticks\":\"\"},\"colorscale\":[[0.0,\"#0d0887\"],[0.1111111111111111,\"#46039f\"],[0.2222222222222222,\"#7201a8\"],[0.3333333333333333,\"#9c179e\"],[0.4444444444444444,\"#bd3786\"],[0.5555555555555556,\"#d8576b\"],[0.6666666666666666,\"#ed7953\"],[0.7777777777777778,\"#fb9f3a\"],[0.8888888888888888,\"#fdca26\"],[1.0,\"#f0f921\"]]}],\"contourcarpet\":[{\"type\":\"contourcarpet\",\"colorbar\":{\"outlinewidth\":0,\"ticks\":\"\"}}],\"contour\":[{\"type\":\"contour\",\"colorbar\":{\"outlinewidth\":0,\"ticks\":\"\"},\"colorscale\":[[0.0,\"#0d0887\"],[0.1111111111111111,\"#46039f\"],[0.2222222222222222,\"#7201a8\"],[0.3333333333333333,\"#9c179e\"],[0.4444444444444444,\"#bd3786\"],[0.5555555555555556,\"#d8576b\"],[0.6666666666666666,\"#ed7953\"],[0.7777777777777778,\"#fb9f3a\"],[0.8888888888888888,\"#fdca26\"],[1.0,\"#f0f921\"]]}],\"surface\":[{\"type\":\"surface\",\"colorbar\":{\"outlinewidth\":0,\"ticks\":\"\"},\"colorscale\":[[0.0,\"#0d0887\"],[0.1111111111111111,\"#46039f\"],[0.2222222222222222,\"#7201a8\"],[0.3333333333333333,\"#9c179e\"],[0.4444444444444444,\"#bd3786\"],[0.5555555555555556,\"#d8576b\"],[0.6666666666666666,\"#ed7953\"],[0.7777777777777778,\"#fb9f3a\"],[0.8888888888888888,\"#fdca26\"],[1.0,\"#f0f921\"]]}],\"mesh3d\":[{\"type\":\"mesh3d\",\"colorbar\":{\"outlinewidth\":0,\"ticks\":\"\"}}],\"scatter\":[{\"fillpattern\":{\"fillmode\":\"overlay\",\"size\":10,\"solidity\":0.2},\"type\":\"scatter\"}],\"parcoords\":[{\"type\":\"parcoords\",\"line\":{\"colorbar\":{\"outlinewidth\":0,\"ticks\":\"\"}}}],\"scatterpolargl\":[{\"type\":\"scatterpolargl\",\"marker\":{\"colorbar\":{\"outlinewidth\":0,\"ticks\":\"\"}}}],\"bar\":[{\"error_x\":{\"color\":\"#2a3f5f\"},\"error_y\":{\"color\":\"#2a3f5f\"},\"marker\":{\"line\":{\"color\":\"#E5ECF6\",\"width\":0.5},\"pattern\":{\"fillmode\":\"overlay\",\"size\":10,\"solidity\":0.2}},\"type\":\"bar\"}],\"scattergeo\":[{\"type\":\"scattergeo\",\"marker\":{\"colorbar\":{\"outlinewidth\":0,\"ticks\":\"\"}}}],\"scatterpolar\":[{\"type\":\"scatterpolar\",\"marker\":{\"colorbar\":{\"outlinewidth\":0,\"ticks\":\"\"}}}],\"histogram\":[{\"marker\":{\"pattern\":{\"fillmode\":\"overlay\",\"size\":10,\"solidity\":0.2}},\"type\":\"histogram\"}],\"scattergl\":[{\"type\":\"scattergl\",\"marker\":{\"colorbar\":{\"outlinewidth\":0,\"ticks\":\"\"}}}],\"scatter3d\":[{\"type\":\"scatter3d\",\"line\":{\"colorbar\":{\"outlinewidth\":0,\"ticks\":\"\"}},\"marker\":{\"colorbar\":{\"outlinewidth\":0,\"ticks\":\"\"}}}],\"scattermapbox\":[{\"type\":\"scattermapbox\",\"marker\":{\"colorbar\":{\"outlinewidth\":0,\"ticks\":\"\"}}}],\"scatterternary\":[{\"type\":\"scatterternary\",\"marker\":{\"colorbar\":{\"outlinewidth\":0,\"ticks\":\"\"}}}],\"scattercarpet\":[{\"type\":\"scattercarpet\",\"marker\":{\"colorbar\":{\"outlinewidth\":0,\"ticks\":\"\"}}}],\"carpet\":[{\"aaxis\":{\"endlinecolor\":\"#2a3f5f\",\"gridcolor\":\"white\",\"linecolor\":\"white\",\"minorgridcolor\":\"white\",\"startlinecolor\":\"#2a3f5f\"},\"baxis\":{\"endlinecolor\":\"#2a3f5f\",\"gridcolor\":\"white\",\"linecolor\":\"white\",\"minorgridcolor\":\"white\",\"startlinecolor\":\"#2a3f5f\"},\"type\":\"carpet\"}],\"table\":[{\"cells\":{\"fill\":{\"color\":\"#EBF0F8\"},\"line\":{\"color\":\"white\"}},\"header\":{\"fill\":{\"color\":\"#C8D4E3\"},\"line\":{\"color\":\"white\"}},\"type\":\"table\"}],\"barpolar\":[{\"marker\":{\"line\":{\"color\":\"#E5ECF6\",\"width\":0.5},\"pattern\":{\"fillmode\":\"overlay\",\"size\":10,\"solidity\":0.2}},\"type\":\"barpolar\"}],\"pie\":[{\"automargin\":true,\"type\":\"pie\"}]},\"layout\":{\"autotypenumbers\":\"strict\",\"colorway\":[\"#636efa\",\"#EF553B\",\"#00cc96\",\"#ab63fa\",\"#FFA15A\",\"#19d3f3\",\"#FF6692\",\"#B6E880\",\"#FF97FF\",\"#FECB52\"],\"font\":{\"color\":\"#2a3f5f\"},\"hovermode\":\"closest\",\"hoverlabel\":{\"align\":\"left\"},\"paper_bgcolor\":\"white\",\"plot_bgcolor\":\"#E5ECF6\",\"polar\":{\"bgcolor\":\"#E5ECF6\",\"angularaxis\":{\"gridcolor\":\"white\",\"linecolor\":\"white\",\"ticks\":\"\"},\"radialaxis\":{\"gridcolor\":\"white\",\"linecolor\":\"white\",\"ticks\":\"\"}},\"ternary\":{\"bgcolor\":\"#E5ECF6\",\"aaxis\":{\"gridcolor\":\"white\",\"linecolor\":\"white\",\"ticks\":\"\"},\"baxis\":{\"gridcolor\":\"white\",\"linecolor\":\"white\",\"ticks\":\"\"},\"caxis\":{\"gridcolor\":\"white\",\"linecolor\":\"white\",\"ticks\":\"\"}},\"coloraxis\":{\"colorbar\":{\"outlinewidth\":0,\"ticks\":\"\"}},\"colorscale\":{\"sequential\":[[0.0,\"#0d0887\"],[0.1111111111111111,\"#46039f\"],[0.2222222222222222,\"#7201a8\"],[0.3333333333333333,\"#9c179e\"],[0.4444444444444444,\"#bd3786\"],[0.5555555555555556,\"#d8576b\"],[0.6666666666666666,\"#ed7953\"],[0.7777777777777778,\"#fb9f3a\"],[0.8888888888888888,\"#fdca26\"],[1.0,\"#f0f921\"]],\"sequentialminus\":[[0.0,\"#0d0887\"],[0.1111111111111111,\"#46039f\"],[0.2222222222222222,\"#7201a8\"],[0.3333333333333333,\"#9c179e\"],[0.4444444444444444,\"#bd3786\"],[0.5555555555555556,\"#d8576b\"],[0.6666666666666666,\"#ed7953\"],[0.7777777777777778,\"#fb9f3a\"],[0.8888888888888888,\"#fdca26\"],[1.0,\"#f0f921\"]],\"diverging\":[[0,\"#8e0152\"],[0.1,\"#c51b7d\"],[0.2,\"#de77ae\"],[0.3,\"#f1b6da\"],[0.4,\"#fde0ef\"],[0.5,\"#f7f7f7\"],[0.6,\"#e6f5d0\"],[0.7,\"#b8e186\"],[0.8,\"#7fbc41\"],[0.9,\"#4d9221\"],[1,\"#276419\"]]},\"xaxis\":{\"gridcolor\":\"white\",\"linecolor\":\"white\",\"ticks\":\"\",\"title\":{\"standoff\":15},\"zerolinecolor\":\"white\",\"automargin\":true,\"zerolinewidth\":2},\"yaxis\":{\"gridcolor\":\"white\",\"linecolor\":\"white\",\"ticks\":\"\",\"title\":{\"standoff\":15},\"zerolinecolor\":\"white\",\"automargin\":true,\"zerolinewidth\":2},\"scene\":{\"xaxis\":{\"backgroundcolor\":\"#E5ECF6\",\"gridcolor\":\"white\",\"linecolor\":\"white\",\"showbackground\":true,\"ticks\":\"\",\"zerolinecolor\":\"white\",\"gridwidth\":2},\"yaxis\":{\"backgroundcolor\":\"#E5ECF6\",\"gridcolor\":\"white\",\"linecolor\":\"white\",\"showbackground\":true,\"ticks\":\"\",\"zerolinecolor\":\"white\",\"gridwidth\":2},\"zaxis\":{\"backgroundcolor\":\"#E5ECF6\",\"gridcolor\":\"white\",\"linecolor\":\"white\",\"showbackground\":true,\"ticks\":\"\",\"zerolinecolor\":\"white\",\"gridwidth\":2}},\"shapedefaults\":{\"line\":{\"color\":\"#2a3f5f\"}},\"annotationdefaults\":{\"arrowcolor\":\"#2a3f5f\",\"arrowhead\":0,\"arrowwidth\":1},\"geo\":{\"bgcolor\":\"white\",\"landcolor\":\"#E5ECF6\",\"subunitcolor\":\"white\",\"showland\":true,\"showlakes\":true,\"lakecolor\":\"white\"},\"title\":{\"x\":0.05},\"mapbox\":{\"style\":\"light\"}}},\"yaxis\":{\"gridcolor\":\"#eee\",\"title\":{\"text\":\"frequency\"},\"rangemode\":\"tozero\"},\"xaxis\":{\"rangemode\":\"tozero\"},\"title\":{\"text\":\"<b>patient_age</b> frequency distribution\"},\"plot_bgcolor\":\"#fff\",\"showlegend\":false,\"height\":500},                        {\"responsive\": true}                    ).then(function(){\n",
       "                            \n",
       "var gd = document.getElementById('3f6974fa-e022-4660-9416-c028cd6ab6a4');\n",
       "var x = new MutationObserver(function (mutations, observer) {{\n",
       "        var display = window.getComputedStyle(gd).display;\n",
       "        if (!display || display === 'none') {{\n",
       "            console.log([gd, 'removed!']);\n",
       "            Plotly.purge(gd);\n",
       "            observer.disconnect();\n",
       "        }}\n",
       "}});\n",
       "\n",
       "// Listen for the removal of the full notebook cells\n",
       "var notebookContainer = gd.closest('#notebook-container');\n",
       "if (notebookContainer) {{\n",
       "    x.observe(notebookContainer, {childList: true});\n",
       "}}\n",
       "\n",
       "// Listen for the clearing of the current output cell\n",
       "var outputEl = gd.closest('.output');\n",
       "if (outputEl) {{\n",
       "    x.observe(outputEl, {childList: true});\n",
       "}}\n",
       "\n",
       "                        })                };                });            </script>        </div>"
      ]
     },
     "metadata": {},
     "output_type": "display_data"
    }
   ],
   "source": [
    "num_freq_plot(regexp_age_gender_2_extracts, 'patient_age')"
   ]
  },
  {
   "cell_type": "code",
   "execution_count": 34,
   "id": "275f5f50-3f59-40e1-8636-50af6176e796",
   "metadata": {},
   "outputs": [
    {
     "name": "stdout",
     "output_type": "stream",
     "text": [
      "\n",
      "\n",
      "----------------\n",
      "Extracted values:\n",
      "Age = 2\n",
      "Gender = son\n",
      "\n",
      "Full text:\n",
      "Vaccines | So my son is 5 weeks old today and one of my friends has a 2 year old son who is not vaccinated what so ever. Can we go over to their house to visit? Please no hateful comments, I’m a first time mom and I’m just trying my best.\n",
      "\n",
      "Url:\n",
      "https://www.reddit.com/r/AskDocs/comments/kgix3s/vaccines/\n",
      "\n",
      "\n",
      "----------------\n",
      "Extracted values:\n",
      "Age = 2\n",
      "Gender = son\n",
      "\n",
      "Full text:\n",
      "The flu and contagiousness | Male, 36, 5’8, 170lbs. Non smoker, social drinker, Caucasian. Take cymbalta, and various supplements (Vit D drops, elderberry, Vit B complex, Milk thistle).\n",
      "\n",
      "I got the flu vaccine in February, late, but seem to have come down with it since Friday.  I have a wife and 2 year old son. My son was vaccinated, but my wife chose not to. I am currently on tamiflu (only 2 doses thus far) and am worried about my wife. We were intimate the night before I started showing symptoms.  Is it pretty much guaranteed she’s going to get it?\n",
      "\n",
      "Url:\n",
      "https://www.reddit.com/r/AskDocs/comments/8e3t9o/the_flu_and_contagiousness/\n",
      "\n",
      "\n",
      "----------------\n",
      "Extracted values:\n",
      "Age = 6\n",
      "Gender = boy\n",
      "\n",
      "Full text:\n",
      "Seeing a physician and this has us stumped. Swelling and spots on a toddler. | 6 year old boy\n",
      "46\"\n",
      "54 pounds\n",
      "This is week two\n",
      "Legs, we are in the southern US\n",
      "\n",
      "No meds, just finished a round of bactrim\n",
      "\n",
      "Son came home two weeks ago with his knees very swollen and trouble walking. I took him to urgent care. Doctor thought infection and gave him Amoxycilin. Next day (a Saturday) I called his regular pediatrician and was told to take him to the ER. Took him to Arkansas Children's Hospital ER. He was seen by 4 different MDs while there. By this time the swelling in his knees was gone but his scrotum was swollen to about twice its normal size. Ultrasound was done to rule out torsion. Urine screen came back clear. Doctors couldn't figure out what it was and discharged him with a change to bactrim and told us to follow up on Monday.\n",
      "\n",
      "Monday I took him to his normal pediatrician. They did a second urine screen and withdrew two vials of blood. At this time swelling was minor in his scrotum but he had begun to have small spots on his legs (see picture). Doctor said it was like HSP but the symptoms were in reverse order. They tested his blood for HSP and it came back negative. Sent the second vial off for several other tests including rheumatoid. All negative. After a day or two the swelling in his scrotum was gone and his wrist was swollen.\n",
      "\n",
      "Now coming up on the start of another week he has no swelling. No pain complaints (slight stiffness in a knee). But the spots have gotten a bit worse. I'm planning on getting the pictures to his doctor tomorrow but was wondering what the reddit hivemind thought of this.\n",
      "\n",
      "The spots have flattened out and they don't turn white when pushed.\n",
      "\n",
      "No general fever all though while swollen joints have felt warm to touch.\n",
      "\n",
      "http://imgur.com/H8WtatW\n",
      "http://imgur.com/3h3pVNN\n",
      "\n",
      "Url:\n",
      "https://www.reddit.com/r/AskDocs/comments/5wdd0h/seeing_a_physician_and_this_has_us_stumped/\n",
      "\n",
      "\n",
      "----------------\n",
      "Extracted values:\n",
      "Age = 12\n",
      "Gender = girl\n",
      "\n",
      "Full text:\n",
      "Any ideas? | I feel like it’s a complete shot in the dark to come on here but we need the help. A young member of my family (12 year old girl) has spent the last five nights in the hospital. No one is sure of what’s going on with her but I’ll give you guys the rundown and what we know so far.\n",
      "\n",
      "This all started without much warning, she woke up one morning with a 102 fever so they gave her Motrin and had her lay down for a while, later on that day she went to stand up and said she couldn’t see and passed out on the floor. When she woke up she started vomiting and they rushed her to the nearest Children’s Hospital. Her highest fever even under care there has hit 104.5. Her resting heart rate is constantly between 130 and 150 even when she is sleeping and her blood pressure is high as well. Her O2 levels are perfectly fine and she has no signs of a regular cold/flu. There is also blood in her urine and debris in her stool. Since she has been there she has almost passed out twice and cannot keep food down. Just recently she is starting to form a rash aside from the heat rash he already has, they’re circles about 3 inches in diameter all around her stomach, arms, and back. \n",
      "They have tested her for Covid which just came back negative 3 times, but she does have the antibodies. They have tested her for flu and meningitis as well. Multiple rounds of labs have all came back normal. \n",
      "\n",
      "Are there any tests we can look into or any possible ideas of what is going on? We’re getting desperate.\n",
      "\n",
      "Url:\n",
      "https://www.reddit.com/r/AskDocs/comments/qfwdi4/any_ideas/\n",
      "\n",
      "\n",
      "----------------\n",
      "Extracted values:\n",
      "Age = 4\n",
      "Gender = boy\n",
      "\n",
      "Full text:\n",
      "4 year old boy. What looks like bites appear after we wash his sheets. Only in specific spots as shown in the link. He's one of 3 children and none of the others ever get these. No signs of fleas, bed bugs or any other bug in our house. Any ideas? We've exhausted our knowledge and need help! | http://imgur.com/a/GSv5tlN\n",
      "\n",
      "Url:\n",
      "https://www.reddit.com/r/AskDocs/comments/9wkj33/4_year_old_boy_what_looks_like_bites_appear_after/\n"
     ]
    }
   ],
   "source": [
    "upper_bound = 90\n",
    "lower_bound = 12\n",
    "in_range_ind = regexp_age_gender_2_extracts[\n",
    "    (regexp_age_gender_2_extracts['patient_age'] < 13)\n",
    "].index\n",
    "\n",
    "for i in in_range_ind[:5]:\n",
    "    print('\\n\\n----------------')\n",
    "    print('Extracted values:')\n",
    "    print(f'''Age = {regexp_age_gender_2_extracts['patient_age'].loc[i]}''')\n",
    "    print(f'''Gender = {regexp_age_gender_2_extracts['patient_gender'].loc[i]}''')\n",
    "\n",
    "    print('\\nFull text:')\n",
    "    print(df_sample2['full_post_text'].loc[i])\n",
    "    print('\\nUrl:')\n",
    "    print(df_sample2['url'].loc[i])"
   ]
  },
  {
   "cell_type": "markdown",
   "id": "122fdd0d-c239-41ec-b54b-8c1fdf2a7235",
   "metadata": {},
   "source": [
    "From testing in the above, we don't need to filter out out-of-range values here."
   ]
  },
  {
   "cell_type": "markdown",
   "id": "82779e0f-df77-45a6-8bfd-1d83089bc859",
   "metadata": {},
   "source": [
    "This pattern matches the following proportion of the data sample:"
   ]
  },
  {
   "cell_type": "code",
   "execution_count": 35,
   "id": "db7baeb7-b06f-41b3-bf28-db2ba2006df3",
   "metadata": {},
   "outputs": [
    {
     "data": {
      "text/plain": [
       "0.0603"
      ]
     },
     "execution_count": 35,
     "metadata": {},
     "output_type": "execute_result"
    }
   ],
   "source": [
    "len(regexp_age_gender_2_extracts)/len(df_sample2)"
   ]
  },
  {
   "cell_type": "code",
   "execution_count": 36,
   "id": "658c4002-9c12-45e9-b5d3-88f4519e0ebd",
   "metadata": {},
   "outputs": [],
   "source": [
    "remainder = remainder[\n",
    "    ~remainder.index.isin(regexp_age_gender_2_extracts.index)\n",
    "].copy()"
   ]
  },
  {
   "cell_type": "code",
   "execution_count": 37,
   "id": "72f91cdc-f7ab-4230-8156-faa133318f02",
   "metadata": {},
   "outputs": [
    {
     "data": {
      "text/plain": [
       "6245"
      ]
     },
     "execution_count": 37,
     "metadata": {},
     "output_type": "execute_result"
    }
   ],
   "source": [
    "len(remainder)"
   ]
  },
  {
   "cell_type": "code",
   "execution_count": 38,
   "id": "04c7e63d-27f5-4499-838b-23f748da06f9",
   "metadata": {},
   "outputs": [
    {
     "data": {
      "text/plain": [
       "0.6245"
      ]
     },
     "execution_count": 38,
     "metadata": {},
     "output_type": "execute_result"
    }
   ],
   "source": [
    "len(remainder)/len(df_sample2)"
   ]
  },
  {
   "cell_type": "markdown",
   "id": "98150030-9194-4370-bc1d-247a0d8f397e",
   "metadata": {},
   "source": [
    "### Age and gender pattern 3  \n",
    "Pattern like:  \n",
    " - 28YO F  \n",
    " - 28 y.o. female  \n",
    " - 28 y/o, AMAB  \n",
    " - etc.  "
   ]
  },
  {
   "cell_type": "code",
   "execution_count": 39,
   "id": "c271424c-3379-43cd-b9de-4d6079d0718f",
   "metadata": {},
   "outputs": [],
   "source": [
    "regexp_age_gender_3 = r'''(?<![.,'\"])\\b([1-9]\\d?)[ \\-]?y\\.?/? ?o\\.?,? ''' + regexp_gender_kwds + r'\\b'\n",
    "\n",
    "regexp_age_gender_3_extracts = remainder['full_post_text'].str.extract(\n",
    "        regexp_age_gender_3,\n",
    "        flags=re.IGNORECASE\n",
    "    ).rename(columns={\n",
    "        0: 'patient_age',\n",
    "        1: 'patient_gender'\n",
    "    })\n",
    "\n",
    "regexp_age_gender_3_extracts.dropna(inplace=True)\n",
    "\n",
    "regexp_age_gender_3_extracts['patient_age'] = \\\n",
    "    regexp_age_gender_3_extracts['patient_age'].astype('int')"
   ]
  },
  {
   "cell_type": "code",
   "execution_count": 40,
   "id": "d1e5b113-123e-4370-b64f-0c576d640bd0",
   "metadata": {},
   "outputs": [
    {
     "data": {
      "text/plain": [
       "0.0191"
      ]
     },
     "execution_count": 40,
     "metadata": {},
     "output_type": "execute_result"
    }
   ],
   "source": [
    "len(regexp_age_gender_3_extracts)/len(df_sample2)"
   ]
  },
  {
   "cell_type": "code",
   "execution_count": 41,
   "id": "2f50db8e-de34-4c4c-9717-2a33e58027eb",
   "metadata": {},
   "outputs": [
    {
     "data": {
      "text/html": [
       "<div>\n",
       "<style scoped>\n",
       "    .dataframe tbody tr th:only-of-type {\n",
       "        vertical-align: middle;\n",
       "    }\n",
       "\n",
       "    .dataframe tbody tr th {\n",
       "        vertical-align: top;\n",
       "    }\n",
       "\n",
       "    .dataframe thead th {\n",
       "        text-align: right;\n",
       "    }\n",
       "</style>\n",
       "<table border=\"1\" class=\"dataframe\">\n",
       "  <thead>\n",
       "    <tr style=\"text-align: right;\">\n",
       "      <th></th>\n",
       "      <th>patient_age</th>\n",
       "      <th>patient_gender</th>\n",
       "    </tr>\n",
       "  </thead>\n",
       "  <tbody>\n",
       "    <tr>\n",
       "      <th>count</th>\n",
       "      <td>191.000000</td>\n",
       "      <td>191</td>\n",
       "    </tr>\n",
       "    <tr>\n",
       "      <th>unique</th>\n",
       "      <td>NaN</td>\n",
       "      <td>12</td>\n",
       "    </tr>\n",
       "    <tr>\n",
       "      <th>top</th>\n",
       "      <td>NaN</td>\n",
       "      <td>male</td>\n",
       "    </tr>\n",
       "    <tr>\n",
       "      <th>freq</th>\n",
       "      <td>NaN</td>\n",
       "      <td>88</td>\n",
       "    </tr>\n",
       "    <tr>\n",
       "      <th>mean</th>\n",
       "      <td>24.958115</td>\n",
       "      <td>NaN</td>\n",
       "    </tr>\n",
       "    <tr>\n",
       "      <th>std</th>\n",
       "      <td>9.919589</td>\n",
       "      <td>NaN</td>\n",
       "    </tr>\n",
       "    <tr>\n",
       "      <th>min</th>\n",
       "      <td>1.000000</td>\n",
       "      <td>NaN</td>\n",
       "    </tr>\n",
       "    <tr>\n",
       "      <th>25%</th>\n",
       "      <td>19.500000</td>\n",
       "      <td>NaN</td>\n",
       "    </tr>\n",
       "    <tr>\n",
       "      <th>50%</th>\n",
       "      <td>23.000000</td>\n",
       "      <td>NaN</td>\n",
       "    </tr>\n",
       "    <tr>\n",
       "      <th>75%</th>\n",
       "      <td>28.500000</td>\n",
       "      <td>NaN</td>\n",
       "    </tr>\n",
       "    <tr>\n",
       "      <th>max</th>\n",
       "      <td>73.000000</td>\n",
       "      <td>NaN</td>\n",
       "    </tr>\n",
       "  </tbody>\n",
       "</table>\n",
       "</div>"
      ],
      "text/plain": [
       "        patient_age patient_gender\n",
       "count    191.000000            191\n",
       "unique          NaN             12\n",
       "top             NaN           male\n",
       "freq            NaN             88\n",
       "mean      24.958115            NaN\n",
       "std        9.919589            NaN\n",
       "min        1.000000            NaN\n",
       "25%       19.500000            NaN\n",
       "50%       23.000000            NaN\n",
       "75%       28.500000            NaN\n",
       "max       73.000000            NaN"
      ]
     },
     "execution_count": 41,
     "metadata": {},
     "output_type": "execute_result"
    }
   ],
   "source": [
    "regexp_age_gender_3_extracts.describe(include='all')"
   ]
  },
  {
   "cell_type": "code",
   "execution_count": 42,
   "id": "37379726-30ae-49f5-bbeb-87ce63050865",
   "metadata": {},
   "outputs": [
    {
     "data": {
      "text/plain": [
       "patient_age\n",
       "1      1\n",
       "2      2\n",
       "3      1\n",
       "4      1\n",
       "6      1\n",
       "12     1\n",
       "14     3\n",
       "15     2\n",
       "16    11\n",
       "17     4\n",
       "18     7\n",
       "19    14\n",
       "20    14\n",
       "21     8\n",
       "22     8\n",
       "23    18\n",
       "24    10\n",
       "25    16\n",
       "26    10\n",
       "27     4\n",
       "28     7\n",
       "29     6\n",
       "30     7\n",
       "31     4\n",
       "32     3\n",
       "33     7\n",
       "34     1\n",
       "35     1\n",
       "36     1\n",
       "37     2\n",
       "38     2\n",
       "39     4\n",
       "40     1\n",
       "43     1\n",
       "46     1\n",
       "47     1\n",
       "48     1\n",
       "56     1\n",
       "58     1\n",
       "60     1\n",
       "70     1\n",
       "73     1\n",
       "Name: count, dtype: int64"
      ]
     },
     "execution_count": 42,
     "metadata": {},
     "output_type": "execute_result"
    }
   ],
   "source": [
    "regexp_age_gender_3_extracts['patient_age'].value_counts().sort_index()"
   ]
  },
  {
   "cell_type": "code",
   "execution_count": 43,
   "id": "4fcd921b-2d24-44ee-9df6-efcf29f7fd43",
   "metadata": {},
   "outputs": [
    {
     "data": {
      "application/vnd.plotly.v1+json": {
       "config": {
        "plotlyServerURL": "https://plotly.com"
       },
       "data": [
        {
         "hovertemplate": "Value: %{x:,}<br>Frequency: %{y:,}<br><extra></extra>",
         "hovertext": [
          1,
          2,
          3,
          4,
          6,
          12,
          14,
          15,
          16,
          17,
          18,
          19,
          20,
          21,
          22,
          23,
          24,
          25,
          26,
          27,
          28,
          29,
          30,
          31,
          32,
          33,
          34,
          35,
          36,
          37,
          38,
          39,
          40,
          43,
          46,
          47,
          48,
          56,
          58,
          60,
          70,
          73
         ],
         "type": "bar",
         "x": [
          1,
          2,
          3,
          4,
          6,
          12,
          14,
          15,
          16,
          17,
          18,
          19,
          20,
          21,
          22,
          23,
          24,
          25,
          26,
          27,
          28,
          29,
          30,
          31,
          32,
          33,
          34,
          35,
          36,
          37,
          38,
          39,
          40,
          43,
          46,
          47,
          48,
          56,
          58,
          60,
          70,
          73
         ],
         "y": [
          1,
          2,
          1,
          1,
          1,
          1,
          3,
          2,
          11,
          4,
          7,
          14,
          14,
          8,
          8,
          18,
          10,
          16,
          10,
          4,
          7,
          6,
          7,
          4,
          3,
          7,
          1,
          1,
          1,
          2,
          2,
          4,
          1,
          1,
          1,
          1,
          1,
          1,
          1,
          1,
          1,
          1
         ]
        }
       ],
       "layout": {
        "autosize": true,
        "plot_bgcolor": "#fff",
        "showlegend": false,
        "template": {
         "data": {
          "bar": [
           {
            "error_x": {
             "color": "#2a3f5f"
            },
            "error_y": {
             "color": "#2a3f5f"
            },
            "marker": {
             "line": {
              "color": "#E5ECF6",
              "width": 0.5
             },
             "pattern": {
              "fillmode": "overlay",
              "size": 10,
              "solidity": 0.2
             }
            },
            "type": "bar"
           }
          ],
          "barpolar": [
           {
            "marker": {
             "line": {
              "color": "#E5ECF6",
              "width": 0.5
             },
             "pattern": {
              "fillmode": "overlay",
              "size": 10,
              "solidity": 0.2
             }
            },
            "type": "barpolar"
           }
          ],
          "carpet": [
           {
            "aaxis": {
             "endlinecolor": "#2a3f5f",
             "gridcolor": "white",
             "linecolor": "white",
             "minorgridcolor": "white",
             "startlinecolor": "#2a3f5f"
            },
            "baxis": {
             "endlinecolor": "#2a3f5f",
             "gridcolor": "white",
             "linecolor": "white",
             "minorgridcolor": "white",
             "startlinecolor": "#2a3f5f"
            },
            "type": "carpet"
           }
          ],
          "choropleth": [
           {
            "colorbar": {
             "outlinewidth": 0,
             "ticks": ""
            },
            "type": "choropleth"
           }
          ],
          "contour": [
           {
            "colorbar": {
             "outlinewidth": 0,
             "ticks": ""
            },
            "colorscale": [
             [
              0,
              "#0d0887"
             ],
             [
              0.1111111111111111,
              "#46039f"
             ],
             [
              0.2222222222222222,
              "#7201a8"
             ],
             [
              0.3333333333333333,
              "#9c179e"
             ],
             [
              0.4444444444444444,
              "#bd3786"
             ],
             [
              0.5555555555555556,
              "#d8576b"
             ],
             [
              0.6666666666666666,
              "#ed7953"
             ],
             [
              0.7777777777777778,
              "#fb9f3a"
             ],
             [
              0.8888888888888888,
              "#fdca26"
             ],
             [
              1,
              "#f0f921"
             ]
            ],
            "type": "contour"
           }
          ],
          "contourcarpet": [
           {
            "colorbar": {
             "outlinewidth": 0,
             "ticks": ""
            },
            "type": "contourcarpet"
           }
          ],
          "heatmap": [
           {
            "colorbar": {
             "outlinewidth": 0,
             "ticks": ""
            },
            "colorscale": [
             [
              0,
              "#0d0887"
             ],
             [
              0.1111111111111111,
              "#46039f"
             ],
             [
              0.2222222222222222,
              "#7201a8"
             ],
             [
              0.3333333333333333,
              "#9c179e"
             ],
             [
              0.4444444444444444,
              "#bd3786"
             ],
             [
              0.5555555555555556,
              "#d8576b"
             ],
             [
              0.6666666666666666,
              "#ed7953"
             ],
             [
              0.7777777777777778,
              "#fb9f3a"
             ],
             [
              0.8888888888888888,
              "#fdca26"
             ],
             [
              1,
              "#f0f921"
             ]
            ],
            "type": "heatmap"
           }
          ],
          "heatmapgl": [
           {
            "colorbar": {
             "outlinewidth": 0,
             "ticks": ""
            },
            "colorscale": [
             [
              0,
              "#0d0887"
             ],
             [
              0.1111111111111111,
              "#46039f"
             ],
             [
              0.2222222222222222,
              "#7201a8"
             ],
             [
              0.3333333333333333,
              "#9c179e"
             ],
             [
              0.4444444444444444,
              "#bd3786"
             ],
             [
              0.5555555555555556,
              "#d8576b"
             ],
             [
              0.6666666666666666,
              "#ed7953"
             ],
             [
              0.7777777777777778,
              "#fb9f3a"
             ],
             [
              0.8888888888888888,
              "#fdca26"
             ],
             [
              1,
              "#f0f921"
             ]
            ],
            "type": "heatmapgl"
           }
          ],
          "histogram": [
           {
            "marker": {
             "pattern": {
              "fillmode": "overlay",
              "size": 10,
              "solidity": 0.2
             }
            },
            "type": "histogram"
           }
          ],
          "histogram2d": [
           {
            "colorbar": {
             "outlinewidth": 0,
             "ticks": ""
            },
            "colorscale": [
             [
              0,
              "#0d0887"
             ],
             [
              0.1111111111111111,
              "#46039f"
             ],
             [
              0.2222222222222222,
              "#7201a8"
             ],
             [
              0.3333333333333333,
              "#9c179e"
             ],
             [
              0.4444444444444444,
              "#bd3786"
             ],
             [
              0.5555555555555556,
              "#d8576b"
             ],
             [
              0.6666666666666666,
              "#ed7953"
             ],
             [
              0.7777777777777778,
              "#fb9f3a"
             ],
             [
              0.8888888888888888,
              "#fdca26"
             ],
             [
              1,
              "#f0f921"
             ]
            ],
            "type": "histogram2d"
           }
          ],
          "histogram2dcontour": [
           {
            "colorbar": {
             "outlinewidth": 0,
             "ticks": ""
            },
            "colorscale": [
             [
              0,
              "#0d0887"
             ],
             [
              0.1111111111111111,
              "#46039f"
             ],
             [
              0.2222222222222222,
              "#7201a8"
             ],
             [
              0.3333333333333333,
              "#9c179e"
             ],
             [
              0.4444444444444444,
              "#bd3786"
             ],
             [
              0.5555555555555556,
              "#d8576b"
             ],
             [
              0.6666666666666666,
              "#ed7953"
             ],
             [
              0.7777777777777778,
              "#fb9f3a"
             ],
             [
              0.8888888888888888,
              "#fdca26"
             ],
             [
              1,
              "#f0f921"
             ]
            ],
            "type": "histogram2dcontour"
           }
          ],
          "mesh3d": [
           {
            "colorbar": {
             "outlinewidth": 0,
             "ticks": ""
            },
            "type": "mesh3d"
           }
          ],
          "parcoords": [
           {
            "line": {
             "colorbar": {
              "outlinewidth": 0,
              "ticks": ""
             }
            },
            "type": "parcoords"
           }
          ],
          "pie": [
           {
            "automargin": true,
            "type": "pie"
           }
          ],
          "scatter": [
           {
            "fillpattern": {
             "fillmode": "overlay",
             "size": 10,
             "solidity": 0.2
            },
            "type": "scatter"
           }
          ],
          "scatter3d": [
           {
            "line": {
             "colorbar": {
              "outlinewidth": 0,
              "ticks": ""
             }
            },
            "marker": {
             "colorbar": {
              "outlinewidth": 0,
              "ticks": ""
             }
            },
            "type": "scatter3d"
           }
          ],
          "scattercarpet": [
           {
            "marker": {
             "colorbar": {
              "outlinewidth": 0,
              "ticks": ""
             }
            },
            "type": "scattercarpet"
           }
          ],
          "scattergeo": [
           {
            "marker": {
             "colorbar": {
              "outlinewidth": 0,
              "ticks": ""
             }
            },
            "type": "scattergeo"
           }
          ],
          "scattergl": [
           {
            "marker": {
             "colorbar": {
              "outlinewidth": 0,
              "ticks": ""
             }
            },
            "type": "scattergl"
           }
          ],
          "scattermapbox": [
           {
            "marker": {
             "colorbar": {
              "outlinewidth": 0,
              "ticks": ""
             }
            },
            "type": "scattermapbox"
           }
          ],
          "scatterpolar": [
           {
            "marker": {
             "colorbar": {
              "outlinewidth": 0,
              "ticks": ""
             }
            },
            "type": "scatterpolar"
           }
          ],
          "scatterpolargl": [
           {
            "marker": {
             "colorbar": {
              "outlinewidth": 0,
              "ticks": ""
             }
            },
            "type": "scatterpolargl"
           }
          ],
          "scatterternary": [
           {
            "marker": {
             "colorbar": {
              "outlinewidth": 0,
              "ticks": ""
             }
            },
            "type": "scatterternary"
           }
          ],
          "surface": [
           {
            "colorbar": {
             "outlinewidth": 0,
             "ticks": ""
            },
            "colorscale": [
             [
              0,
              "#0d0887"
             ],
             [
              0.1111111111111111,
              "#46039f"
             ],
             [
              0.2222222222222222,
              "#7201a8"
             ],
             [
              0.3333333333333333,
              "#9c179e"
             ],
             [
              0.4444444444444444,
              "#bd3786"
             ],
             [
              0.5555555555555556,
              "#d8576b"
             ],
             [
              0.6666666666666666,
              "#ed7953"
             ],
             [
              0.7777777777777778,
              "#fb9f3a"
             ],
             [
              0.8888888888888888,
              "#fdca26"
             ],
             [
              1,
              "#f0f921"
             ]
            ],
            "type": "surface"
           }
          ],
          "table": [
           {
            "cells": {
             "fill": {
              "color": "#EBF0F8"
             },
             "line": {
              "color": "white"
             }
            },
            "header": {
             "fill": {
              "color": "#C8D4E3"
             },
             "line": {
              "color": "white"
             }
            },
            "type": "table"
           }
          ]
         },
         "layout": {
          "annotationdefaults": {
           "arrowcolor": "#2a3f5f",
           "arrowhead": 0,
           "arrowwidth": 1
          },
          "autotypenumbers": "strict",
          "coloraxis": {
           "colorbar": {
            "outlinewidth": 0,
            "ticks": ""
           }
          },
          "colorscale": {
           "diverging": [
            [
             0,
             "#8e0152"
            ],
            [
             0.1,
             "#c51b7d"
            ],
            [
             0.2,
             "#de77ae"
            ],
            [
             0.3,
             "#f1b6da"
            ],
            [
             0.4,
             "#fde0ef"
            ],
            [
             0.5,
             "#f7f7f7"
            ],
            [
             0.6,
             "#e6f5d0"
            ],
            [
             0.7,
             "#b8e186"
            ],
            [
             0.8,
             "#7fbc41"
            ],
            [
             0.9,
             "#4d9221"
            ],
            [
             1,
             "#276419"
            ]
           ],
           "sequential": [
            [
             0,
             "#0d0887"
            ],
            [
             0.1111111111111111,
             "#46039f"
            ],
            [
             0.2222222222222222,
             "#7201a8"
            ],
            [
             0.3333333333333333,
             "#9c179e"
            ],
            [
             0.4444444444444444,
             "#bd3786"
            ],
            [
             0.5555555555555556,
             "#d8576b"
            ],
            [
             0.6666666666666666,
             "#ed7953"
            ],
            [
             0.7777777777777778,
             "#fb9f3a"
            ],
            [
             0.8888888888888888,
             "#fdca26"
            ],
            [
             1,
             "#f0f921"
            ]
           ],
           "sequentialminus": [
            [
             0,
             "#0d0887"
            ],
            [
             0.1111111111111111,
             "#46039f"
            ],
            [
             0.2222222222222222,
             "#7201a8"
            ],
            [
             0.3333333333333333,
             "#9c179e"
            ],
            [
             0.4444444444444444,
             "#bd3786"
            ],
            [
             0.5555555555555556,
             "#d8576b"
            ],
            [
             0.6666666666666666,
             "#ed7953"
            ],
            [
             0.7777777777777778,
             "#fb9f3a"
            ],
            [
             0.8888888888888888,
             "#fdca26"
            ],
            [
             1,
             "#f0f921"
            ]
           ]
          },
          "colorway": [
           "#636efa",
           "#EF553B",
           "#00cc96",
           "#ab63fa",
           "#FFA15A",
           "#19d3f3",
           "#FF6692",
           "#B6E880",
           "#FF97FF",
           "#FECB52"
          ],
          "font": {
           "color": "#2a3f5f"
          },
          "geo": {
           "bgcolor": "white",
           "lakecolor": "white",
           "landcolor": "#E5ECF6",
           "showlakes": true,
           "showland": true,
           "subunitcolor": "white"
          },
          "hoverlabel": {
           "align": "left"
          },
          "hovermode": "closest",
          "mapbox": {
           "style": "light"
          },
          "paper_bgcolor": "white",
          "plot_bgcolor": "#E5ECF6",
          "polar": {
           "angularaxis": {
            "gridcolor": "white",
            "linecolor": "white",
            "ticks": ""
           },
           "bgcolor": "#E5ECF6",
           "radialaxis": {
            "gridcolor": "white",
            "linecolor": "white",
            "ticks": ""
           }
          },
          "scene": {
           "xaxis": {
            "backgroundcolor": "#E5ECF6",
            "gridcolor": "white",
            "gridwidth": 2,
            "linecolor": "white",
            "showbackground": true,
            "ticks": "",
            "zerolinecolor": "white"
           },
           "yaxis": {
            "backgroundcolor": "#E5ECF6",
            "gridcolor": "white",
            "gridwidth": 2,
            "linecolor": "white",
            "showbackground": true,
            "ticks": "",
            "zerolinecolor": "white"
           },
           "zaxis": {
            "backgroundcolor": "#E5ECF6",
            "gridcolor": "white",
            "gridwidth": 2,
            "linecolor": "white",
            "showbackground": true,
            "ticks": "",
            "zerolinecolor": "white"
           }
          },
          "shapedefaults": {
           "line": {
            "color": "#2a3f5f"
           }
          },
          "ternary": {
           "aaxis": {
            "gridcolor": "white",
            "linecolor": "white",
            "ticks": ""
           },
           "baxis": {
            "gridcolor": "white",
            "linecolor": "white",
            "ticks": ""
           },
           "bgcolor": "#E5ECF6",
           "caxis": {
            "gridcolor": "white",
            "linecolor": "white",
            "ticks": ""
           }
          },
          "title": {
           "x": 0.05
          },
          "xaxis": {
           "automargin": true,
           "gridcolor": "white",
           "linecolor": "white",
           "ticks": "",
           "title": {
            "standoff": 15
           },
           "zerolinecolor": "white",
           "zerolinewidth": 2
          },
          "yaxis": {
           "automargin": true,
           "gridcolor": "white",
           "linecolor": "white",
           "ticks": "",
           "title": {
            "standoff": 15
           },
           "zerolinecolor": "white",
           "zerolinewidth": 2
          }
         }
        },
        "title": {
         "text": "<b>patient_age</b> frequency distribution"
        },
        "xaxis": {
         "autorange": true,
         "range": [
          0,
          73.5
         ],
         "rangemode": "tozero",
         "type": "linear"
        },
        "yaxis": {
         "autorange": true,
         "gridcolor": "#eee",
         "range": [
          0,
          18.94736842105263
         ],
         "rangemode": "tozero",
         "title": {
          "text": "frequency"
         },
         "type": "linear"
        }
       }
      },
      "text/html": [
       "<div>                            <div id=\"be477c55-74de-419a-8ef5-a5fbf9ca99b1\" class=\"plotly-graph-div\" style=\"height:500px; width:100%;\"></div>            <script type=\"text/javascript\">                require([\"plotly\"], function(Plotly) {                    window.PLOTLYENV=window.PLOTLYENV || {};                                    if (document.getElementById(\"be477c55-74de-419a-8ef5-a5fbf9ca99b1\")) {                    Plotly.newPlot(                        \"be477c55-74de-419a-8ef5-a5fbf9ca99b1\",                        [{\"hovertemplate\":\"Value: %{x:,}<br>Frequency: %{y:,}<br><extra></extra>\",\"hovertext\":[1.0,2.0,3.0,4.0,6.0,12.0,14.0,15.0,16.0,17.0,18.0,19.0,20.0,21.0,22.0,23.0,24.0,25.0,26.0,27.0,28.0,29.0,30.0,31.0,32.0,33.0,34.0,35.0,36.0,37.0,38.0,39.0,40.0,43.0,46.0,47.0,48.0,56.0,58.0,60.0,70.0,73.0],\"x\":[1,2,3,4,6,12,14,15,16,17,18,19,20,21,22,23,24,25,26,27,28,29,30,31,32,33,34,35,36,37,38,39,40,43,46,47,48,56,58,60,70,73],\"y\":[1,2,1,1,1,1,3,2,11,4,7,14,14,8,8,18,10,16,10,4,7,6,7,4,3,7,1,1,1,2,2,4,1,1,1,1,1,1,1,1,1,1],\"type\":\"bar\"}],                        {\"template\":{\"data\":{\"histogram2dcontour\":[{\"type\":\"histogram2dcontour\",\"colorbar\":{\"outlinewidth\":0,\"ticks\":\"\"},\"colorscale\":[[0.0,\"#0d0887\"],[0.1111111111111111,\"#46039f\"],[0.2222222222222222,\"#7201a8\"],[0.3333333333333333,\"#9c179e\"],[0.4444444444444444,\"#bd3786\"],[0.5555555555555556,\"#d8576b\"],[0.6666666666666666,\"#ed7953\"],[0.7777777777777778,\"#fb9f3a\"],[0.8888888888888888,\"#fdca26\"],[1.0,\"#f0f921\"]]}],\"choropleth\":[{\"type\":\"choropleth\",\"colorbar\":{\"outlinewidth\":0,\"ticks\":\"\"}}],\"histogram2d\":[{\"type\":\"histogram2d\",\"colorbar\":{\"outlinewidth\":0,\"ticks\":\"\"},\"colorscale\":[[0.0,\"#0d0887\"],[0.1111111111111111,\"#46039f\"],[0.2222222222222222,\"#7201a8\"],[0.3333333333333333,\"#9c179e\"],[0.4444444444444444,\"#bd3786\"],[0.5555555555555556,\"#d8576b\"],[0.6666666666666666,\"#ed7953\"],[0.7777777777777778,\"#fb9f3a\"],[0.8888888888888888,\"#fdca26\"],[1.0,\"#f0f921\"]]}],\"heatmap\":[{\"type\":\"heatmap\",\"colorbar\":{\"outlinewidth\":0,\"ticks\":\"\"},\"colorscale\":[[0.0,\"#0d0887\"],[0.1111111111111111,\"#46039f\"],[0.2222222222222222,\"#7201a8\"],[0.3333333333333333,\"#9c179e\"],[0.4444444444444444,\"#bd3786\"],[0.5555555555555556,\"#d8576b\"],[0.6666666666666666,\"#ed7953\"],[0.7777777777777778,\"#fb9f3a\"],[0.8888888888888888,\"#fdca26\"],[1.0,\"#f0f921\"]]}],\"heatmapgl\":[{\"type\":\"heatmapgl\",\"colorbar\":{\"outlinewidth\":0,\"ticks\":\"\"},\"colorscale\":[[0.0,\"#0d0887\"],[0.1111111111111111,\"#46039f\"],[0.2222222222222222,\"#7201a8\"],[0.3333333333333333,\"#9c179e\"],[0.4444444444444444,\"#bd3786\"],[0.5555555555555556,\"#d8576b\"],[0.6666666666666666,\"#ed7953\"],[0.7777777777777778,\"#fb9f3a\"],[0.8888888888888888,\"#fdca26\"],[1.0,\"#f0f921\"]]}],\"contourcarpet\":[{\"type\":\"contourcarpet\",\"colorbar\":{\"outlinewidth\":0,\"ticks\":\"\"}}],\"contour\":[{\"type\":\"contour\",\"colorbar\":{\"outlinewidth\":0,\"ticks\":\"\"},\"colorscale\":[[0.0,\"#0d0887\"],[0.1111111111111111,\"#46039f\"],[0.2222222222222222,\"#7201a8\"],[0.3333333333333333,\"#9c179e\"],[0.4444444444444444,\"#bd3786\"],[0.5555555555555556,\"#d8576b\"],[0.6666666666666666,\"#ed7953\"],[0.7777777777777778,\"#fb9f3a\"],[0.8888888888888888,\"#fdca26\"],[1.0,\"#f0f921\"]]}],\"surface\":[{\"type\":\"surface\",\"colorbar\":{\"outlinewidth\":0,\"ticks\":\"\"},\"colorscale\":[[0.0,\"#0d0887\"],[0.1111111111111111,\"#46039f\"],[0.2222222222222222,\"#7201a8\"],[0.3333333333333333,\"#9c179e\"],[0.4444444444444444,\"#bd3786\"],[0.5555555555555556,\"#d8576b\"],[0.6666666666666666,\"#ed7953\"],[0.7777777777777778,\"#fb9f3a\"],[0.8888888888888888,\"#fdca26\"],[1.0,\"#f0f921\"]]}],\"mesh3d\":[{\"type\":\"mesh3d\",\"colorbar\":{\"outlinewidth\":0,\"ticks\":\"\"}}],\"scatter\":[{\"fillpattern\":{\"fillmode\":\"overlay\",\"size\":10,\"solidity\":0.2},\"type\":\"scatter\"}],\"parcoords\":[{\"type\":\"parcoords\",\"line\":{\"colorbar\":{\"outlinewidth\":0,\"ticks\":\"\"}}}],\"scatterpolargl\":[{\"type\":\"scatterpolargl\",\"marker\":{\"colorbar\":{\"outlinewidth\":0,\"ticks\":\"\"}}}],\"bar\":[{\"error_x\":{\"color\":\"#2a3f5f\"},\"error_y\":{\"color\":\"#2a3f5f\"},\"marker\":{\"line\":{\"color\":\"#E5ECF6\",\"width\":0.5},\"pattern\":{\"fillmode\":\"overlay\",\"size\":10,\"solidity\":0.2}},\"type\":\"bar\"}],\"scattergeo\":[{\"type\":\"scattergeo\",\"marker\":{\"colorbar\":{\"outlinewidth\":0,\"ticks\":\"\"}}}],\"scatterpolar\":[{\"type\":\"scatterpolar\",\"marker\":{\"colorbar\":{\"outlinewidth\":0,\"ticks\":\"\"}}}],\"histogram\":[{\"marker\":{\"pattern\":{\"fillmode\":\"overlay\",\"size\":10,\"solidity\":0.2}},\"type\":\"histogram\"}],\"scattergl\":[{\"type\":\"scattergl\",\"marker\":{\"colorbar\":{\"outlinewidth\":0,\"ticks\":\"\"}}}],\"scatter3d\":[{\"type\":\"scatter3d\",\"line\":{\"colorbar\":{\"outlinewidth\":0,\"ticks\":\"\"}},\"marker\":{\"colorbar\":{\"outlinewidth\":0,\"ticks\":\"\"}}}],\"scattermapbox\":[{\"type\":\"scattermapbox\",\"marker\":{\"colorbar\":{\"outlinewidth\":0,\"ticks\":\"\"}}}],\"scatterternary\":[{\"type\":\"scatterternary\",\"marker\":{\"colorbar\":{\"outlinewidth\":0,\"ticks\":\"\"}}}],\"scattercarpet\":[{\"type\":\"scattercarpet\",\"marker\":{\"colorbar\":{\"outlinewidth\":0,\"ticks\":\"\"}}}],\"carpet\":[{\"aaxis\":{\"endlinecolor\":\"#2a3f5f\",\"gridcolor\":\"white\",\"linecolor\":\"white\",\"minorgridcolor\":\"white\",\"startlinecolor\":\"#2a3f5f\"},\"baxis\":{\"endlinecolor\":\"#2a3f5f\",\"gridcolor\":\"white\",\"linecolor\":\"white\",\"minorgridcolor\":\"white\",\"startlinecolor\":\"#2a3f5f\"},\"type\":\"carpet\"}],\"table\":[{\"cells\":{\"fill\":{\"color\":\"#EBF0F8\"},\"line\":{\"color\":\"white\"}},\"header\":{\"fill\":{\"color\":\"#C8D4E3\"},\"line\":{\"color\":\"white\"}},\"type\":\"table\"}],\"barpolar\":[{\"marker\":{\"line\":{\"color\":\"#E5ECF6\",\"width\":0.5},\"pattern\":{\"fillmode\":\"overlay\",\"size\":10,\"solidity\":0.2}},\"type\":\"barpolar\"}],\"pie\":[{\"automargin\":true,\"type\":\"pie\"}]},\"layout\":{\"autotypenumbers\":\"strict\",\"colorway\":[\"#636efa\",\"#EF553B\",\"#00cc96\",\"#ab63fa\",\"#FFA15A\",\"#19d3f3\",\"#FF6692\",\"#B6E880\",\"#FF97FF\",\"#FECB52\"],\"font\":{\"color\":\"#2a3f5f\"},\"hovermode\":\"closest\",\"hoverlabel\":{\"align\":\"left\"},\"paper_bgcolor\":\"white\",\"plot_bgcolor\":\"#E5ECF6\",\"polar\":{\"bgcolor\":\"#E5ECF6\",\"angularaxis\":{\"gridcolor\":\"white\",\"linecolor\":\"white\",\"ticks\":\"\"},\"radialaxis\":{\"gridcolor\":\"white\",\"linecolor\":\"white\",\"ticks\":\"\"}},\"ternary\":{\"bgcolor\":\"#E5ECF6\",\"aaxis\":{\"gridcolor\":\"white\",\"linecolor\":\"white\",\"ticks\":\"\"},\"baxis\":{\"gridcolor\":\"white\",\"linecolor\":\"white\",\"ticks\":\"\"},\"caxis\":{\"gridcolor\":\"white\",\"linecolor\":\"white\",\"ticks\":\"\"}},\"coloraxis\":{\"colorbar\":{\"outlinewidth\":0,\"ticks\":\"\"}},\"colorscale\":{\"sequential\":[[0.0,\"#0d0887\"],[0.1111111111111111,\"#46039f\"],[0.2222222222222222,\"#7201a8\"],[0.3333333333333333,\"#9c179e\"],[0.4444444444444444,\"#bd3786\"],[0.5555555555555556,\"#d8576b\"],[0.6666666666666666,\"#ed7953\"],[0.7777777777777778,\"#fb9f3a\"],[0.8888888888888888,\"#fdca26\"],[1.0,\"#f0f921\"]],\"sequentialminus\":[[0.0,\"#0d0887\"],[0.1111111111111111,\"#46039f\"],[0.2222222222222222,\"#7201a8\"],[0.3333333333333333,\"#9c179e\"],[0.4444444444444444,\"#bd3786\"],[0.5555555555555556,\"#d8576b\"],[0.6666666666666666,\"#ed7953\"],[0.7777777777777778,\"#fb9f3a\"],[0.8888888888888888,\"#fdca26\"],[1.0,\"#f0f921\"]],\"diverging\":[[0,\"#8e0152\"],[0.1,\"#c51b7d\"],[0.2,\"#de77ae\"],[0.3,\"#f1b6da\"],[0.4,\"#fde0ef\"],[0.5,\"#f7f7f7\"],[0.6,\"#e6f5d0\"],[0.7,\"#b8e186\"],[0.8,\"#7fbc41\"],[0.9,\"#4d9221\"],[1,\"#276419\"]]},\"xaxis\":{\"gridcolor\":\"white\",\"linecolor\":\"white\",\"ticks\":\"\",\"title\":{\"standoff\":15},\"zerolinecolor\":\"white\",\"automargin\":true,\"zerolinewidth\":2},\"yaxis\":{\"gridcolor\":\"white\",\"linecolor\":\"white\",\"ticks\":\"\",\"title\":{\"standoff\":15},\"zerolinecolor\":\"white\",\"automargin\":true,\"zerolinewidth\":2},\"scene\":{\"xaxis\":{\"backgroundcolor\":\"#E5ECF6\",\"gridcolor\":\"white\",\"linecolor\":\"white\",\"showbackground\":true,\"ticks\":\"\",\"zerolinecolor\":\"white\",\"gridwidth\":2},\"yaxis\":{\"backgroundcolor\":\"#E5ECF6\",\"gridcolor\":\"white\",\"linecolor\":\"white\",\"showbackground\":true,\"ticks\":\"\",\"zerolinecolor\":\"white\",\"gridwidth\":2},\"zaxis\":{\"backgroundcolor\":\"#E5ECF6\",\"gridcolor\":\"white\",\"linecolor\":\"white\",\"showbackground\":true,\"ticks\":\"\",\"zerolinecolor\":\"white\",\"gridwidth\":2}},\"shapedefaults\":{\"line\":{\"color\":\"#2a3f5f\"}},\"annotationdefaults\":{\"arrowcolor\":\"#2a3f5f\",\"arrowhead\":0,\"arrowwidth\":1},\"geo\":{\"bgcolor\":\"white\",\"landcolor\":\"#E5ECF6\",\"subunitcolor\":\"white\",\"showland\":true,\"showlakes\":true,\"lakecolor\":\"white\"},\"title\":{\"x\":0.05},\"mapbox\":{\"style\":\"light\"}}},\"yaxis\":{\"gridcolor\":\"#eee\",\"title\":{\"text\":\"frequency\"},\"rangemode\":\"tozero\"},\"xaxis\":{\"rangemode\":\"tozero\"},\"title\":{\"text\":\"<b>patient_age</b> frequency distribution\"},\"plot_bgcolor\":\"#fff\",\"showlegend\":false,\"height\":500},                        {\"responsive\": true}                    ).then(function(){\n",
       "                            \n",
       "var gd = document.getElementById('be477c55-74de-419a-8ef5-a5fbf9ca99b1');\n",
       "var x = new MutationObserver(function (mutations, observer) {{\n",
       "        var display = window.getComputedStyle(gd).display;\n",
       "        if (!display || display === 'none') {{\n",
       "            console.log([gd, 'removed!']);\n",
       "            Plotly.purge(gd);\n",
       "            observer.disconnect();\n",
       "        }}\n",
       "}});\n",
       "\n",
       "// Listen for the removal of the full notebook cells\n",
       "var notebookContainer = gd.closest('#notebook-container');\n",
       "if (notebookContainer) {{\n",
       "    x.observe(notebookContainer, {childList: true});\n",
       "}}\n",
       "\n",
       "// Listen for the clearing of the current output cell\n",
       "var outputEl = gd.closest('.output');\n",
       "if (outputEl) {{\n",
       "    x.observe(outputEl, {childList: true});\n",
       "}}\n",
       "\n",
       "                        })                };                });            </script>        </div>"
      ]
     },
     "metadata": {},
     "output_type": "display_data"
    }
   ],
   "source": [
    "num_freq_plot(regexp_age_gender_3_extracts, 'patient_age')"
   ]
  },
  {
   "cell_type": "code",
   "execution_count": 44,
   "id": "4b9c394e-3a52-407c-a7f9-8b30c818bbf7",
   "metadata": {},
   "outputs": [
    {
     "name": "stdout",
     "output_type": "stream",
     "text": [
      "\n",
      "\n",
      "----------------\n",
      "Extracted values:\n",
      "Age = 4\n",
      "Gender = son\n",
      "\n",
      "Full text:\n",
      "4yo son broke his arm, received the doctor's \"narrative and impression.\" What exactly does this mean and is there any action I need to take? | M4 45 pounds\n",
      "\n",
      " XR: Elbow Left Complete\n",
      "\n",
      "Clinical  History: Displaced simple supracondylar fracture without intercondylar  fracture of left humerus, initial encounter for close fracture.\n",
      "\n",
      "Comparison: 4/24/2021\n",
      "\n",
      "Impression:\n",
      "\n",
      "Type I supracondylar fracture with unchanged alignment. Increased boy sclerosis about the fracture line which remains visible.\n",
      "\n",
      "The anterior humeral line is respected and radiocapitellar alignment is preserved. A small effusion remains present.\n",
      "\n",
      "Can someone ELI5 here for me? Thank you!\n",
      "\n",
      "Url:\n",
      "https://www.reddit.com/r/AskDocs/comments/nm1eai/4yo_son_broke_his_arm_received_the_doctors/\n",
      "\n",
      "\n",
      "----------------\n",
      "Extracted values:\n",
      "Age = 2\n",
      "Gender = boy\n",
      "\n",
      "Full text:\n",
      "2M son has a weird bug bite... Wide circle and red | Our 2YO boy loves to play outside. Caucasian, about 28/32 pounds.\n",
      "\n",
      "Son is usually a good candidate to get bitten by bugs. Yesterday night he had a small bright red circle near is armpit. Me and my wife made juste told ourselves poor kid he got stung or bit again.\n",
      "\n",
      "Every was fine today and actually he still is top shape no fever, but when undressed to take a bath we notice the bite got way bigger kinda looks like a circle \n",
      "\n",
      "We are scare for cellulitis or tick bite (Lyme desease).\n",
      "\n",
      "We gave him benadryl for now and delimited the bite with a black pen.\n",
      "\n",
      "Should we worry and go see a physician immediately?\n",
      "\n",
      "This is the pictures we just took.\n",
      "\n",
      "http://imgur.com/a/FjJA6wL\n",
      "\n",
      "Url:\n",
      "https://www.reddit.com/r/AskDocs/comments/o2aaa6/2m_son_has_a_weird_bug_bite_wide_circle_and_red/\n",
      "\n",
      "\n",
      "----------------\n",
      "Extracted values:\n",
      "Age = 3\n",
      "Gender = daughter\n",
      "\n",
      "Full text:\n",
      "3YO with Arachnoid Cyst exerting mild mass effect pressure on Cerebellum | https://imgur.com/a/RBD9w\n",
      "\n",
      "During a ER visit for a head injury, they did a CT scan, and discovered an Arachnoid Cyst in my 3YO daughter. She has motor planning, balance and coordination difficulties and a moderate to severe speech delay, as well as Sensory Integration Disorder. The doctor does not seem to think the cyst and her difficulties are related, but ordered an MRI to rule it out. I realize that MOST Arachnoid cysts are asymptomatic, but what are the chances that these issues are not caused by the 7.5 cm x 8.5cm x 3 cm cyst? (Also she may be experiencing Absent Seizures, but we have yet to get testing to confirm.)\n",
      "We had the MRI today, but doctor's follow up appointment is a week away, and I want to have all my questions in order before we see him, as he is a very busy doctor. \n",
      "Also, the cyst is measuring larger than it did on the CT scan over a month ago. Could this be due to better imaging on the MRI, or could the cyst be growing?\n",
      "\n",
      "Url:\n",
      "https://www.reddit.com/r/AskDocs/comments/847ew2/3yo_with_arachnoid_cyst_exerting_mild_mass_effect/\n",
      "\n",
      "\n",
      "----------------\n",
      "Extracted values:\n",
      "Age = 12\n",
      "Gender = daughter\n",
      "\n",
      "Full text:\n",
      "My daughter has a pilonidal cyst and low fever should I be taking her to the ER? | I took my 12YO daughter into her pediatrician as she had a low fever of 101°,  pain on her bottom and she couldn't sit down. The area near her tailbone looked a little swollen and was warm to the touch but otherwise there wasn't an obvious lump. The Dr said it was a Pilonidal Cyst and gave us some antibiotics and told her to sit in hot baths 2-3 times a day and then to call and make an appointment with the pediatric surgeon to have it lanced. Is this typical? From what I understand antibiotics don't do anything for cysts. The cyst has gotten bigger now and you can obviously see a head, her fever also hasn't gone away. Was the Dr right to tell us to wait or should I take her to the ER instead?\n",
      "\n",
      "Url:\n",
      "https://www.reddit.com/r/AskDocs/comments/92zoze/my_daughter_has_a_pilonidal_cyst_and_low_fever/\n",
      "\n",
      "\n",
      "----------------\n",
      "Extracted values:\n",
      "Age = 1\n",
      "Gender = daughter\n",
      "\n",
      "Full text:\n",
      "My 1y/o daughter has suddenly developed a tic where her head jerks every so often, what could it be? | \n",
      "\n",
      "Url:\n",
      "https://www.reddit.com/r/AskDocs/comments/rfgqld/my_1yo_daughter_has_suddenly_developed_a_tic/\n"
     ]
    }
   ],
   "source": [
    "upper_bound = 90\n",
    "lower_bound = 12\n",
    "in_range_ind = regexp_age_gender_3_extracts[\n",
    "    (regexp_age_gender_3_extracts['patient_age'] < 13)\n",
    "].index\n",
    "\n",
    "for i in in_range_ind[:5]:\n",
    "    print('\\n\\n----------------')\n",
    "    print('Extracted values:')\n",
    "    print(f'''Age = {regexp_age_gender_3_extracts['patient_age'].loc[i]}''')\n",
    "    print(f'''Gender = {regexp_age_gender_3_extracts['patient_gender'].loc[i]}''')\n",
    "\n",
    "    print('\\nFull text:')\n",
    "    print(df_sample2['full_post_text'].loc[i])\n",
    "    print('\\nUrl:')\n",
    "    print(df_sample2['url'].loc[i])"
   ]
  },
  {
   "cell_type": "markdown",
   "id": "d152386b-0f1d-4ca9-ad82-3a63a401d4c5",
   "metadata": {},
   "source": [
    "From testing in the above, we don't need to filter out out-of-range values here."
   ]
  },
  {
   "cell_type": "markdown",
   "id": "dcd39912-9d5b-4547-8f87-1a1e6e0e1aa5",
   "metadata": {},
   "source": [
    "This pattern matches the following proportion of the data sample:"
   ]
  },
  {
   "cell_type": "code",
   "execution_count": 45,
   "id": "f46e1a79-4b9c-4c2f-a7e1-495cf5a416c0",
   "metadata": {},
   "outputs": [
    {
     "data": {
      "text/plain": [
       "0.0191"
      ]
     },
     "execution_count": 45,
     "metadata": {},
     "output_type": "execute_result"
    }
   ],
   "source": [
    "len(regexp_age_gender_3_extracts)/len(df_sample2)"
   ]
  },
  {
   "cell_type": "code",
   "execution_count": 46,
   "id": "18afa64a-477c-43b1-a073-d14c3c5f300f",
   "metadata": {},
   "outputs": [],
   "source": [
    "remainder = remainder[\n",
    "    ~remainder.index.isin(regexp_age_gender_3_extracts.index)\n",
    "].copy()"
   ]
  },
  {
   "cell_type": "code",
   "execution_count": 47,
   "id": "5afa817b-5b42-4673-88ec-07efd98daa49",
   "metadata": {},
   "outputs": [
    {
     "data": {
      "text/plain": [
       "6054"
      ]
     },
     "execution_count": 47,
     "metadata": {},
     "output_type": "execute_result"
    }
   ],
   "source": [
    "len(remainder)"
   ]
  },
  {
   "cell_type": "code",
   "execution_count": 48,
   "id": "e0849b5a-0ffa-4996-8109-f4fc1d3fcd63",
   "metadata": {},
   "outputs": [
    {
     "data": {
      "text/plain": [
       "0.6054"
      ]
     },
     "execution_count": 48,
     "metadata": {},
     "output_type": "execute_result"
    }
   ],
   "source": [
    "len(remainder)/len(df_sample2)"
   ]
  },
  {
   "cell_type": "markdown",
   "id": "be172ec2-0e6f-414f-ba71-07ac12794c31",
   "metadata": {},
   "source": [
    "### Age and gender pattern 4  \n",
    "Pattern like:  \n",
    " - F28  \n",
    " - female28   \n",
    " - etc."
   ]
  },
  {
   "cell_type": "code",
   "execution_count": 49,
   "id": "c4d18a38-1705-4431-bfda-a74ce163d01d",
   "metadata": {},
   "outputs": [],
   "source": [
    "regexp_age_gender_4 = (\n",
    "    r'\\b' \n",
    "    + regexp_gender_kwds \n",
    "    + r'''([1-9]\\d)\\b'''\n",
    ")\n",
    "\n",
    "regexp_age_gender_4_extracts = remainder['full_post_text'].str.extract(\n",
    "        regexp_age_gender_4,\n",
    "        flags=re.IGNORECASE\n",
    "    ).rename(columns={\n",
    "        0: 'patient_gender', \n",
    "        1: 'patient_age',\n",
    "    })\n",
    "\n",
    "regexp_age_gender_4_extracts.dropna(inplace=True)\n",
    "\n",
    "regexp_age_gender_4_extracts['patient_age'] = \\\n",
    "    regexp_age_gender_4_extracts['patient_age'].astype('int')"
   ]
  },
  {
   "cell_type": "code",
   "execution_count": 50,
   "id": "7eb02737-dac0-4ab2-88d1-08a390cf1bb1",
   "metadata": {},
   "outputs": [
    {
     "data": {
      "text/plain": [
       "0.0213"
      ]
     },
     "execution_count": 50,
     "metadata": {},
     "output_type": "execute_result"
    }
   ],
   "source": [
    "len(regexp_age_gender_4_extracts)/len(df_sample2)"
   ]
  },
  {
   "cell_type": "code",
   "execution_count": 51,
   "id": "1e1c82a1-ad9e-4976-af57-1ebad3095a0d",
   "metadata": {},
   "outputs": [
    {
     "data": {
      "text/html": [
       "<div>\n",
       "<style scoped>\n",
       "    .dataframe tbody tr th:only-of-type {\n",
       "        vertical-align: middle;\n",
       "    }\n",
       "\n",
       "    .dataframe tbody tr th {\n",
       "        vertical-align: top;\n",
       "    }\n",
       "\n",
       "    .dataframe thead th {\n",
       "        text-align: right;\n",
       "    }\n",
       "</style>\n",
       "<table border=\"1\" class=\"dataframe\">\n",
       "  <thead>\n",
       "    <tr style=\"text-align: right;\">\n",
       "      <th></th>\n",
       "      <th>patient_gender</th>\n",
       "      <th>patient_age</th>\n",
       "    </tr>\n",
       "  </thead>\n",
       "  <tbody>\n",
       "    <tr>\n",
       "      <th>count</th>\n",
       "      <td>213</td>\n",
       "      <td>213.000000</td>\n",
       "    </tr>\n",
       "    <tr>\n",
       "      <th>unique</th>\n",
       "      <td>6</td>\n",
       "      <td>NaN</td>\n",
       "    </tr>\n",
       "    <tr>\n",
       "      <th>top</th>\n",
       "      <td>F</td>\n",
       "      <td>NaN</td>\n",
       "    </tr>\n",
       "    <tr>\n",
       "      <th>freq</th>\n",
       "      <td>102</td>\n",
       "      <td>NaN</td>\n",
       "    </tr>\n",
       "    <tr>\n",
       "      <th>mean</th>\n",
       "      <td>NaN</td>\n",
       "      <td>24.169014</td>\n",
       "    </tr>\n",
       "    <tr>\n",
       "      <th>std</th>\n",
       "      <td>NaN</td>\n",
       "      <td>8.672206</td>\n",
       "    </tr>\n",
       "    <tr>\n",
       "      <th>min</th>\n",
       "      <td>NaN</td>\n",
       "      <td>13.000000</td>\n",
       "    </tr>\n",
       "    <tr>\n",
       "      <th>25%</th>\n",
       "      <td>NaN</td>\n",
       "      <td>19.000000</td>\n",
       "    </tr>\n",
       "    <tr>\n",
       "      <th>50%</th>\n",
       "      <td>NaN</td>\n",
       "      <td>22.000000</td>\n",
       "    </tr>\n",
       "    <tr>\n",
       "      <th>75%</th>\n",
       "      <td>NaN</td>\n",
       "      <td>27.000000</td>\n",
       "    </tr>\n",
       "    <tr>\n",
       "      <th>max</th>\n",
       "      <td>NaN</td>\n",
       "      <td>68.000000</td>\n",
       "    </tr>\n",
       "  </tbody>\n",
       "</table>\n",
       "</div>"
      ],
      "text/plain": [
       "       patient_gender  patient_age\n",
       "count             213   213.000000\n",
       "unique              6          NaN\n",
       "top                 F          NaN\n",
       "freq              102          NaN\n",
       "mean              NaN    24.169014\n",
       "std               NaN     8.672206\n",
       "min               NaN    13.000000\n",
       "25%               NaN    19.000000\n",
       "50%               NaN    22.000000\n",
       "75%               NaN    27.000000\n",
       "max               NaN    68.000000"
      ]
     },
     "execution_count": 51,
     "metadata": {},
     "output_type": "execute_result"
    }
   ],
   "source": [
    "regexp_age_gender_4_extracts.describe(include='all')"
   ]
  },
  {
   "cell_type": "code",
   "execution_count": 52,
   "id": "ef85e046-d50c-496c-aedf-f35544e0e13e",
   "metadata": {},
   "outputs": [
    {
     "data": {
      "text/plain": [
       "patient_age\n",
       "13     5\n",
       "14     4\n",
       "15     5\n",
       "16     8\n",
       "17     9\n",
       "18    13\n",
       "19    16\n",
       "20    19\n",
       "21    13\n",
       "22    15\n",
       "23    16\n",
       "24     6\n",
       "25    19\n",
       "26     9\n",
       "27     8\n",
       "28    10\n",
       "29     8\n",
       "30     6\n",
       "31     2\n",
       "32     3\n",
       "33     4\n",
       "35     2\n",
       "37     1\n",
       "41     1\n",
       "42     1\n",
       "43     1\n",
       "44     1\n",
       "45     1\n",
       "46     1\n",
       "52     1\n",
       "55     1\n",
       "60     1\n",
       "61     1\n",
       "67     1\n",
       "68     1\n",
       "Name: count, dtype: int64"
      ]
     },
     "execution_count": 52,
     "metadata": {},
     "output_type": "execute_result"
    }
   ],
   "source": [
    "regexp_age_gender_4_extracts['patient_age'].value_counts().sort_index()"
   ]
  },
  {
   "cell_type": "code",
   "execution_count": 53,
   "id": "82adb559-3020-44aa-ac85-d70290a5149e",
   "metadata": {},
   "outputs": [
    {
     "data": {
      "application/vnd.plotly.v1+json": {
       "config": {
        "plotlyServerURL": "https://plotly.com"
       },
       "data": [
        {
         "hovertemplate": "Value: %{x:,}<br>Frequency: %{y:,}<br><extra></extra>",
         "hovertext": [
          13,
          14,
          15,
          16,
          17,
          18,
          19,
          20,
          21,
          22,
          23,
          24,
          25,
          26,
          27,
          28,
          29,
          30,
          31,
          32,
          33,
          35,
          37,
          41,
          42,
          43,
          44,
          45,
          46,
          52,
          55,
          60,
          61,
          67,
          68
         ],
         "type": "bar",
         "x": [
          13,
          14,
          15,
          16,
          17,
          18,
          19,
          20,
          21,
          22,
          23,
          24,
          25,
          26,
          27,
          28,
          29,
          30,
          31,
          32,
          33,
          35,
          37,
          41,
          42,
          43,
          44,
          45,
          46,
          52,
          55,
          60,
          61,
          67,
          68
         ],
         "y": [
          5,
          4,
          5,
          8,
          9,
          13,
          16,
          19,
          13,
          15,
          16,
          6,
          19,
          9,
          8,
          10,
          8,
          6,
          2,
          3,
          4,
          2,
          1,
          1,
          1,
          1,
          1,
          1,
          1,
          1,
          1,
          1,
          1,
          1,
          1
         ]
        }
       ],
       "layout": {
        "autosize": true,
        "plot_bgcolor": "#fff",
        "showlegend": false,
        "template": {
         "data": {
          "bar": [
           {
            "error_x": {
             "color": "#2a3f5f"
            },
            "error_y": {
             "color": "#2a3f5f"
            },
            "marker": {
             "line": {
              "color": "#E5ECF6",
              "width": 0.5
             },
             "pattern": {
              "fillmode": "overlay",
              "size": 10,
              "solidity": 0.2
             }
            },
            "type": "bar"
           }
          ],
          "barpolar": [
           {
            "marker": {
             "line": {
              "color": "#E5ECF6",
              "width": 0.5
             },
             "pattern": {
              "fillmode": "overlay",
              "size": 10,
              "solidity": 0.2
             }
            },
            "type": "barpolar"
           }
          ],
          "carpet": [
           {
            "aaxis": {
             "endlinecolor": "#2a3f5f",
             "gridcolor": "white",
             "linecolor": "white",
             "minorgridcolor": "white",
             "startlinecolor": "#2a3f5f"
            },
            "baxis": {
             "endlinecolor": "#2a3f5f",
             "gridcolor": "white",
             "linecolor": "white",
             "minorgridcolor": "white",
             "startlinecolor": "#2a3f5f"
            },
            "type": "carpet"
           }
          ],
          "choropleth": [
           {
            "colorbar": {
             "outlinewidth": 0,
             "ticks": ""
            },
            "type": "choropleth"
           }
          ],
          "contour": [
           {
            "colorbar": {
             "outlinewidth": 0,
             "ticks": ""
            },
            "colorscale": [
             [
              0,
              "#0d0887"
             ],
             [
              0.1111111111111111,
              "#46039f"
             ],
             [
              0.2222222222222222,
              "#7201a8"
             ],
             [
              0.3333333333333333,
              "#9c179e"
             ],
             [
              0.4444444444444444,
              "#bd3786"
             ],
             [
              0.5555555555555556,
              "#d8576b"
             ],
             [
              0.6666666666666666,
              "#ed7953"
             ],
             [
              0.7777777777777778,
              "#fb9f3a"
             ],
             [
              0.8888888888888888,
              "#fdca26"
             ],
             [
              1,
              "#f0f921"
             ]
            ],
            "type": "contour"
           }
          ],
          "contourcarpet": [
           {
            "colorbar": {
             "outlinewidth": 0,
             "ticks": ""
            },
            "type": "contourcarpet"
           }
          ],
          "heatmap": [
           {
            "colorbar": {
             "outlinewidth": 0,
             "ticks": ""
            },
            "colorscale": [
             [
              0,
              "#0d0887"
             ],
             [
              0.1111111111111111,
              "#46039f"
             ],
             [
              0.2222222222222222,
              "#7201a8"
             ],
             [
              0.3333333333333333,
              "#9c179e"
             ],
             [
              0.4444444444444444,
              "#bd3786"
             ],
             [
              0.5555555555555556,
              "#d8576b"
             ],
             [
              0.6666666666666666,
              "#ed7953"
             ],
             [
              0.7777777777777778,
              "#fb9f3a"
             ],
             [
              0.8888888888888888,
              "#fdca26"
             ],
             [
              1,
              "#f0f921"
             ]
            ],
            "type": "heatmap"
           }
          ],
          "heatmapgl": [
           {
            "colorbar": {
             "outlinewidth": 0,
             "ticks": ""
            },
            "colorscale": [
             [
              0,
              "#0d0887"
             ],
             [
              0.1111111111111111,
              "#46039f"
             ],
             [
              0.2222222222222222,
              "#7201a8"
             ],
             [
              0.3333333333333333,
              "#9c179e"
             ],
             [
              0.4444444444444444,
              "#bd3786"
             ],
             [
              0.5555555555555556,
              "#d8576b"
             ],
             [
              0.6666666666666666,
              "#ed7953"
             ],
             [
              0.7777777777777778,
              "#fb9f3a"
             ],
             [
              0.8888888888888888,
              "#fdca26"
             ],
             [
              1,
              "#f0f921"
             ]
            ],
            "type": "heatmapgl"
           }
          ],
          "histogram": [
           {
            "marker": {
             "pattern": {
              "fillmode": "overlay",
              "size": 10,
              "solidity": 0.2
             }
            },
            "type": "histogram"
           }
          ],
          "histogram2d": [
           {
            "colorbar": {
             "outlinewidth": 0,
             "ticks": ""
            },
            "colorscale": [
             [
              0,
              "#0d0887"
             ],
             [
              0.1111111111111111,
              "#46039f"
             ],
             [
              0.2222222222222222,
              "#7201a8"
             ],
             [
              0.3333333333333333,
              "#9c179e"
             ],
             [
              0.4444444444444444,
              "#bd3786"
             ],
             [
              0.5555555555555556,
              "#d8576b"
             ],
             [
              0.6666666666666666,
              "#ed7953"
             ],
             [
              0.7777777777777778,
              "#fb9f3a"
             ],
             [
              0.8888888888888888,
              "#fdca26"
             ],
             [
              1,
              "#f0f921"
             ]
            ],
            "type": "histogram2d"
           }
          ],
          "histogram2dcontour": [
           {
            "colorbar": {
             "outlinewidth": 0,
             "ticks": ""
            },
            "colorscale": [
             [
              0,
              "#0d0887"
             ],
             [
              0.1111111111111111,
              "#46039f"
             ],
             [
              0.2222222222222222,
              "#7201a8"
             ],
             [
              0.3333333333333333,
              "#9c179e"
             ],
             [
              0.4444444444444444,
              "#bd3786"
             ],
             [
              0.5555555555555556,
              "#d8576b"
             ],
             [
              0.6666666666666666,
              "#ed7953"
             ],
             [
              0.7777777777777778,
              "#fb9f3a"
             ],
             [
              0.8888888888888888,
              "#fdca26"
             ],
             [
              1,
              "#f0f921"
             ]
            ],
            "type": "histogram2dcontour"
           }
          ],
          "mesh3d": [
           {
            "colorbar": {
             "outlinewidth": 0,
             "ticks": ""
            },
            "type": "mesh3d"
           }
          ],
          "parcoords": [
           {
            "line": {
             "colorbar": {
              "outlinewidth": 0,
              "ticks": ""
             }
            },
            "type": "parcoords"
           }
          ],
          "pie": [
           {
            "automargin": true,
            "type": "pie"
           }
          ],
          "scatter": [
           {
            "fillpattern": {
             "fillmode": "overlay",
             "size": 10,
             "solidity": 0.2
            },
            "type": "scatter"
           }
          ],
          "scatter3d": [
           {
            "line": {
             "colorbar": {
              "outlinewidth": 0,
              "ticks": ""
             }
            },
            "marker": {
             "colorbar": {
              "outlinewidth": 0,
              "ticks": ""
             }
            },
            "type": "scatter3d"
           }
          ],
          "scattercarpet": [
           {
            "marker": {
             "colorbar": {
              "outlinewidth": 0,
              "ticks": ""
             }
            },
            "type": "scattercarpet"
           }
          ],
          "scattergeo": [
           {
            "marker": {
             "colorbar": {
              "outlinewidth": 0,
              "ticks": ""
             }
            },
            "type": "scattergeo"
           }
          ],
          "scattergl": [
           {
            "marker": {
             "colorbar": {
              "outlinewidth": 0,
              "ticks": ""
             }
            },
            "type": "scattergl"
           }
          ],
          "scattermapbox": [
           {
            "marker": {
             "colorbar": {
              "outlinewidth": 0,
              "ticks": ""
             }
            },
            "type": "scattermapbox"
           }
          ],
          "scatterpolar": [
           {
            "marker": {
             "colorbar": {
              "outlinewidth": 0,
              "ticks": ""
             }
            },
            "type": "scatterpolar"
           }
          ],
          "scatterpolargl": [
           {
            "marker": {
             "colorbar": {
              "outlinewidth": 0,
              "ticks": ""
             }
            },
            "type": "scatterpolargl"
           }
          ],
          "scatterternary": [
           {
            "marker": {
             "colorbar": {
              "outlinewidth": 0,
              "ticks": ""
             }
            },
            "type": "scatterternary"
           }
          ],
          "surface": [
           {
            "colorbar": {
             "outlinewidth": 0,
             "ticks": ""
            },
            "colorscale": [
             [
              0,
              "#0d0887"
             ],
             [
              0.1111111111111111,
              "#46039f"
             ],
             [
              0.2222222222222222,
              "#7201a8"
             ],
             [
              0.3333333333333333,
              "#9c179e"
             ],
             [
              0.4444444444444444,
              "#bd3786"
             ],
             [
              0.5555555555555556,
              "#d8576b"
             ],
             [
              0.6666666666666666,
              "#ed7953"
             ],
             [
              0.7777777777777778,
              "#fb9f3a"
             ],
             [
              0.8888888888888888,
              "#fdca26"
             ],
             [
              1,
              "#f0f921"
             ]
            ],
            "type": "surface"
           }
          ],
          "table": [
           {
            "cells": {
             "fill": {
              "color": "#EBF0F8"
             },
             "line": {
              "color": "white"
             }
            },
            "header": {
             "fill": {
              "color": "#C8D4E3"
             },
             "line": {
              "color": "white"
             }
            },
            "type": "table"
           }
          ]
         },
         "layout": {
          "annotationdefaults": {
           "arrowcolor": "#2a3f5f",
           "arrowhead": 0,
           "arrowwidth": 1
          },
          "autotypenumbers": "strict",
          "coloraxis": {
           "colorbar": {
            "outlinewidth": 0,
            "ticks": ""
           }
          },
          "colorscale": {
           "diverging": [
            [
             0,
             "#8e0152"
            ],
            [
             0.1,
             "#c51b7d"
            ],
            [
             0.2,
             "#de77ae"
            ],
            [
             0.3,
             "#f1b6da"
            ],
            [
             0.4,
             "#fde0ef"
            ],
            [
             0.5,
             "#f7f7f7"
            ],
            [
             0.6,
             "#e6f5d0"
            ],
            [
             0.7,
             "#b8e186"
            ],
            [
             0.8,
             "#7fbc41"
            ],
            [
             0.9,
             "#4d9221"
            ],
            [
             1,
             "#276419"
            ]
           ],
           "sequential": [
            [
             0,
             "#0d0887"
            ],
            [
             0.1111111111111111,
             "#46039f"
            ],
            [
             0.2222222222222222,
             "#7201a8"
            ],
            [
             0.3333333333333333,
             "#9c179e"
            ],
            [
             0.4444444444444444,
             "#bd3786"
            ],
            [
             0.5555555555555556,
             "#d8576b"
            ],
            [
             0.6666666666666666,
             "#ed7953"
            ],
            [
             0.7777777777777778,
             "#fb9f3a"
            ],
            [
             0.8888888888888888,
             "#fdca26"
            ],
            [
             1,
             "#f0f921"
            ]
           ],
           "sequentialminus": [
            [
             0,
             "#0d0887"
            ],
            [
             0.1111111111111111,
             "#46039f"
            ],
            [
             0.2222222222222222,
             "#7201a8"
            ],
            [
             0.3333333333333333,
             "#9c179e"
            ],
            [
             0.4444444444444444,
             "#bd3786"
            ],
            [
             0.5555555555555556,
             "#d8576b"
            ],
            [
             0.6666666666666666,
             "#ed7953"
            ],
            [
             0.7777777777777778,
             "#fb9f3a"
            ],
            [
             0.8888888888888888,
             "#fdca26"
            ],
            [
             1,
             "#f0f921"
            ]
           ]
          },
          "colorway": [
           "#636efa",
           "#EF553B",
           "#00cc96",
           "#ab63fa",
           "#FFA15A",
           "#19d3f3",
           "#FF6692",
           "#B6E880",
           "#FF97FF",
           "#FECB52"
          ],
          "font": {
           "color": "#2a3f5f"
          },
          "geo": {
           "bgcolor": "white",
           "lakecolor": "white",
           "landcolor": "#E5ECF6",
           "showlakes": true,
           "showland": true,
           "subunitcolor": "white"
          },
          "hoverlabel": {
           "align": "left"
          },
          "hovermode": "closest",
          "mapbox": {
           "style": "light"
          },
          "paper_bgcolor": "white",
          "plot_bgcolor": "#E5ECF6",
          "polar": {
           "angularaxis": {
            "gridcolor": "white",
            "linecolor": "white",
            "ticks": ""
           },
           "bgcolor": "#E5ECF6",
           "radialaxis": {
            "gridcolor": "white",
            "linecolor": "white",
            "ticks": ""
           }
          },
          "scene": {
           "xaxis": {
            "backgroundcolor": "#E5ECF6",
            "gridcolor": "white",
            "gridwidth": 2,
            "linecolor": "white",
            "showbackground": true,
            "ticks": "",
            "zerolinecolor": "white"
           },
           "yaxis": {
            "backgroundcolor": "#E5ECF6",
            "gridcolor": "white",
            "gridwidth": 2,
            "linecolor": "white",
            "showbackground": true,
            "ticks": "",
            "zerolinecolor": "white"
           },
           "zaxis": {
            "backgroundcolor": "#E5ECF6",
            "gridcolor": "white",
            "gridwidth": 2,
            "linecolor": "white",
            "showbackground": true,
            "ticks": "",
            "zerolinecolor": "white"
           }
          },
          "shapedefaults": {
           "line": {
            "color": "#2a3f5f"
           }
          },
          "ternary": {
           "aaxis": {
            "gridcolor": "white",
            "linecolor": "white",
            "ticks": ""
           },
           "baxis": {
            "gridcolor": "white",
            "linecolor": "white",
            "ticks": ""
           },
           "bgcolor": "#E5ECF6",
           "caxis": {
            "gridcolor": "white",
            "linecolor": "white",
            "ticks": ""
           }
          },
          "title": {
           "x": 0.05
          },
          "xaxis": {
           "automargin": true,
           "gridcolor": "white",
           "linecolor": "white",
           "ticks": "",
           "title": {
            "standoff": 15
           },
           "zerolinecolor": "white",
           "zerolinewidth": 2
          },
          "yaxis": {
           "automargin": true,
           "gridcolor": "white",
           "linecolor": "white",
           "ticks": "",
           "title": {
            "standoff": 15
           },
           "zerolinecolor": "white",
           "zerolinewidth": 2
          }
         }
        },
        "title": {
         "text": "<b>patient_age</b> frequency distribution"
        },
        "xaxis": {
         "autorange": true,
         "range": [
          0,
          68.5
         ],
         "rangemode": "tozero",
         "type": "linear"
        },
        "yaxis": {
         "autorange": true,
         "gridcolor": "#eee",
         "range": [
          0,
          20
         ],
         "rangemode": "tozero",
         "title": {
          "text": "frequency"
         },
         "type": "linear"
        }
       }
      },
      "text/html": [
       "<div>                            <div id=\"ec56bce8-9fda-4fa0-81e5-f7b0d0e93727\" class=\"plotly-graph-div\" style=\"height:500px; width:100%;\"></div>            <script type=\"text/javascript\">                require([\"plotly\"], function(Plotly) {                    window.PLOTLYENV=window.PLOTLYENV || {};                                    if (document.getElementById(\"ec56bce8-9fda-4fa0-81e5-f7b0d0e93727\")) {                    Plotly.newPlot(                        \"ec56bce8-9fda-4fa0-81e5-f7b0d0e93727\",                        [{\"hovertemplate\":\"Value: %{x:,}<br>Frequency: %{y:,}<br><extra></extra>\",\"hovertext\":[13.0,14.0,15.0,16.0,17.0,18.0,19.0,20.0,21.0,22.0,23.0,24.0,25.0,26.0,27.0,28.0,29.0,30.0,31.0,32.0,33.0,35.0,37.0,41.0,42.0,43.0,44.0,45.0,46.0,52.0,55.0,60.0,61.0,67.0,68.0],\"x\":[13,14,15,16,17,18,19,20,21,22,23,24,25,26,27,28,29,30,31,32,33,35,37,41,42,43,44,45,46,52,55,60,61,67,68],\"y\":[5,4,5,8,9,13,16,19,13,15,16,6,19,9,8,10,8,6,2,3,4,2,1,1,1,1,1,1,1,1,1,1,1,1,1],\"type\":\"bar\"}],                        {\"template\":{\"data\":{\"histogram2dcontour\":[{\"type\":\"histogram2dcontour\",\"colorbar\":{\"outlinewidth\":0,\"ticks\":\"\"},\"colorscale\":[[0.0,\"#0d0887\"],[0.1111111111111111,\"#46039f\"],[0.2222222222222222,\"#7201a8\"],[0.3333333333333333,\"#9c179e\"],[0.4444444444444444,\"#bd3786\"],[0.5555555555555556,\"#d8576b\"],[0.6666666666666666,\"#ed7953\"],[0.7777777777777778,\"#fb9f3a\"],[0.8888888888888888,\"#fdca26\"],[1.0,\"#f0f921\"]]}],\"choropleth\":[{\"type\":\"choropleth\",\"colorbar\":{\"outlinewidth\":0,\"ticks\":\"\"}}],\"histogram2d\":[{\"type\":\"histogram2d\",\"colorbar\":{\"outlinewidth\":0,\"ticks\":\"\"},\"colorscale\":[[0.0,\"#0d0887\"],[0.1111111111111111,\"#46039f\"],[0.2222222222222222,\"#7201a8\"],[0.3333333333333333,\"#9c179e\"],[0.4444444444444444,\"#bd3786\"],[0.5555555555555556,\"#d8576b\"],[0.6666666666666666,\"#ed7953\"],[0.7777777777777778,\"#fb9f3a\"],[0.8888888888888888,\"#fdca26\"],[1.0,\"#f0f921\"]]}],\"heatmap\":[{\"type\":\"heatmap\",\"colorbar\":{\"outlinewidth\":0,\"ticks\":\"\"},\"colorscale\":[[0.0,\"#0d0887\"],[0.1111111111111111,\"#46039f\"],[0.2222222222222222,\"#7201a8\"],[0.3333333333333333,\"#9c179e\"],[0.4444444444444444,\"#bd3786\"],[0.5555555555555556,\"#d8576b\"],[0.6666666666666666,\"#ed7953\"],[0.7777777777777778,\"#fb9f3a\"],[0.8888888888888888,\"#fdca26\"],[1.0,\"#f0f921\"]]}],\"heatmapgl\":[{\"type\":\"heatmapgl\",\"colorbar\":{\"outlinewidth\":0,\"ticks\":\"\"},\"colorscale\":[[0.0,\"#0d0887\"],[0.1111111111111111,\"#46039f\"],[0.2222222222222222,\"#7201a8\"],[0.3333333333333333,\"#9c179e\"],[0.4444444444444444,\"#bd3786\"],[0.5555555555555556,\"#d8576b\"],[0.6666666666666666,\"#ed7953\"],[0.7777777777777778,\"#fb9f3a\"],[0.8888888888888888,\"#fdca26\"],[1.0,\"#f0f921\"]]}],\"contourcarpet\":[{\"type\":\"contourcarpet\",\"colorbar\":{\"outlinewidth\":0,\"ticks\":\"\"}}],\"contour\":[{\"type\":\"contour\",\"colorbar\":{\"outlinewidth\":0,\"ticks\":\"\"},\"colorscale\":[[0.0,\"#0d0887\"],[0.1111111111111111,\"#46039f\"],[0.2222222222222222,\"#7201a8\"],[0.3333333333333333,\"#9c179e\"],[0.4444444444444444,\"#bd3786\"],[0.5555555555555556,\"#d8576b\"],[0.6666666666666666,\"#ed7953\"],[0.7777777777777778,\"#fb9f3a\"],[0.8888888888888888,\"#fdca26\"],[1.0,\"#f0f921\"]]}],\"surface\":[{\"type\":\"surface\",\"colorbar\":{\"outlinewidth\":0,\"ticks\":\"\"},\"colorscale\":[[0.0,\"#0d0887\"],[0.1111111111111111,\"#46039f\"],[0.2222222222222222,\"#7201a8\"],[0.3333333333333333,\"#9c179e\"],[0.4444444444444444,\"#bd3786\"],[0.5555555555555556,\"#d8576b\"],[0.6666666666666666,\"#ed7953\"],[0.7777777777777778,\"#fb9f3a\"],[0.8888888888888888,\"#fdca26\"],[1.0,\"#f0f921\"]]}],\"mesh3d\":[{\"type\":\"mesh3d\",\"colorbar\":{\"outlinewidth\":0,\"ticks\":\"\"}}],\"scatter\":[{\"fillpattern\":{\"fillmode\":\"overlay\",\"size\":10,\"solidity\":0.2},\"type\":\"scatter\"}],\"parcoords\":[{\"type\":\"parcoords\",\"line\":{\"colorbar\":{\"outlinewidth\":0,\"ticks\":\"\"}}}],\"scatterpolargl\":[{\"type\":\"scatterpolargl\",\"marker\":{\"colorbar\":{\"outlinewidth\":0,\"ticks\":\"\"}}}],\"bar\":[{\"error_x\":{\"color\":\"#2a3f5f\"},\"error_y\":{\"color\":\"#2a3f5f\"},\"marker\":{\"line\":{\"color\":\"#E5ECF6\",\"width\":0.5},\"pattern\":{\"fillmode\":\"overlay\",\"size\":10,\"solidity\":0.2}},\"type\":\"bar\"}],\"scattergeo\":[{\"type\":\"scattergeo\",\"marker\":{\"colorbar\":{\"outlinewidth\":0,\"ticks\":\"\"}}}],\"scatterpolar\":[{\"type\":\"scatterpolar\",\"marker\":{\"colorbar\":{\"outlinewidth\":0,\"ticks\":\"\"}}}],\"histogram\":[{\"marker\":{\"pattern\":{\"fillmode\":\"overlay\",\"size\":10,\"solidity\":0.2}},\"type\":\"histogram\"}],\"scattergl\":[{\"type\":\"scattergl\",\"marker\":{\"colorbar\":{\"outlinewidth\":0,\"ticks\":\"\"}}}],\"scatter3d\":[{\"type\":\"scatter3d\",\"line\":{\"colorbar\":{\"outlinewidth\":0,\"ticks\":\"\"}},\"marker\":{\"colorbar\":{\"outlinewidth\":0,\"ticks\":\"\"}}}],\"scattermapbox\":[{\"type\":\"scattermapbox\",\"marker\":{\"colorbar\":{\"outlinewidth\":0,\"ticks\":\"\"}}}],\"scatterternary\":[{\"type\":\"scatterternary\",\"marker\":{\"colorbar\":{\"outlinewidth\":0,\"ticks\":\"\"}}}],\"scattercarpet\":[{\"type\":\"scattercarpet\",\"marker\":{\"colorbar\":{\"outlinewidth\":0,\"ticks\":\"\"}}}],\"carpet\":[{\"aaxis\":{\"endlinecolor\":\"#2a3f5f\",\"gridcolor\":\"white\",\"linecolor\":\"white\",\"minorgridcolor\":\"white\",\"startlinecolor\":\"#2a3f5f\"},\"baxis\":{\"endlinecolor\":\"#2a3f5f\",\"gridcolor\":\"white\",\"linecolor\":\"white\",\"minorgridcolor\":\"white\",\"startlinecolor\":\"#2a3f5f\"},\"type\":\"carpet\"}],\"table\":[{\"cells\":{\"fill\":{\"color\":\"#EBF0F8\"},\"line\":{\"color\":\"white\"}},\"header\":{\"fill\":{\"color\":\"#C8D4E3\"},\"line\":{\"color\":\"white\"}},\"type\":\"table\"}],\"barpolar\":[{\"marker\":{\"line\":{\"color\":\"#E5ECF6\",\"width\":0.5},\"pattern\":{\"fillmode\":\"overlay\",\"size\":10,\"solidity\":0.2}},\"type\":\"barpolar\"}],\"pie\":[{\"automargin\":true,\"type\":\"pie\"}]},\"layout\":{\"autotypenumbers\":\"strict\",\"colorway\":[\"#636efa\",\"#EF553B\",\"#00cc96\",\"#ab63fa\",\"#FFA15A\",\"#19d3f3\",\"#FF6692\",\"#B6E880\",\"#FF97FF\",\"#FECB52\"],\"font\":{\"color\":\"#2a3f5f\"},\"hovermode\":\"closest\",\"hoverlabel\":{\"align\":\"left\"},\"paper_bgcolor\":\"white\",\"plot_bgcolor\":\"#E5ECF6\",\"polar\":{\"bgcolor\":\"#E5ECF6\",\"angularaxis\":{\"gridcolor\":\"white\",\"linecolor\":\"white\",\"ticks\":\"\"},\"radialaxis\":{\"gridcolor\":\"white\",\"linecolor\":\"white\",\"ticks\":\"\"}},\"ternary\":{\"bgcolor\":\"#E5ECF6\",\"aaxis\":{\"gridcolor\":\"white\",\"linecolor\":\"white\",\"ticks\":\"\"},\"baxis\":{\"gridcolor\":\"white\",\"linecolor\":\"white\",\"ticks\":\"\"},\"caxis\":{\"gridcolor\":\"white\",\"linecolor\":\"white\",\"ticks\":\"\"}},\"coloraxis\":{\"colorbar\":{\"outlinewidth\":0,\"ticks\":\"\"}},\"colorscale\":{\"sequential\":[[0.0,\"#0d0887\"],[0.1111111111111111,\"#46039f\"],[0.2222222222222222,\"#7201a8\"],[0.3333333333333333,\"#9c179e\"],[0.4444444444444444,\"#bd3786\"],[0.5555555555555556,\"#d8576b\"],[0.6666666666666666,\"#ed7953\"],[0.7777777777777778,\"#fb9f3a\"],[0.8888888888888888,\"#fdca26\"],[1.0,\"#f0f921\"]],\"sequentialminus\":[[0.0,\"#0d0887\"],[0.1111111111111111,\"#46039f\"],[0.2222222222222222,\"#7201a8\"],[0.3333333333333333,\"#9c179e\"],[0.4444444444444444,\"#bd3786\"],[0.5555555555555556,\"#d8576b\"],[0.6666666666666666,\"#ed7953\"],[0.7777777777777778,\"#fb9f3a\"],[0.8888888888888888,\"#fdca26\"],[1.0,\"#f0f921\"]],\"diverging\":[[0,\"#8e0152\"],[0.1,\"#c51b7d\"],[0.2,\"#de77ae\"],[0.3,\"#f1b6da\"],[0.4,\"#fde0ef\"],[0.5,\"#f7f7f7\"],[0.6,\"#e6f5d0\"],[0.7,\"#b8e186\"],[0.8,\"#7fbc41\"],[0.9,\"#4d9221\"],[1,\"#276419\"]]},\"xaxis\":{\"gridcolor\":\"white\",\"linecolor\":\"white\",\"ticks\":\"\",\"title\":{\"standoff\":15},\"zerolinecolor\":\"white\",\"automargin\":true,\"zerolinewidth\":2},\"yaxis\":{\"gridcolor\":\"white\",\"linecolor\":\"white\",\"ticks\":\"\",\"title\":{\"standoff\":15},\"zerolinecolor\":\"white\",\"automargin\":true,\"zerolinewidth\":2},\"scene\":{\"xaxis\":{\"backgroundcolor\":\"#E5ECF6\",\"gridcolor\":\"white\",\"linecolor\":\"white\",\"showbackground\":true,\"ticks\":\"\",\"zerolinecolor\":\"white\",\"gridwidth\":2},\"yaxis\":{\"backgroundcolor\":\"#E5ECF6\",\"gridcolor\":\"white\",\"linecolor\":\"white\",\"showbackground\":true,\"ticks\":\"\",\"zerolinecolor\":\"white\",\"gridwidth\":2},\"zaxis\":{\"backgroundcolor\":\"#E5ECF6\",\"gridcolor\":\"white\",\"linecolor\":\"white\",\"showbackground\":true,\"ticks\":\"\",\"zerolinecolor\":\"white\",\"gridwidth\":2}},\"shapedefaults\":{\"line\":{\"color\":\"#2a3f5f\"}},\"annotationdefaults\":{\"arrowcolor\":\"#2a3f5f\",\"arrowhead\":0,\"arrowwidth\":1},\"geo\":{\"bgcolor\":\"white\",\"landcolor\":\"#E5ECF6\",\"subunitcolor\":\"white\",\"showland\":true,\"showlakes\":true,\"lakecolor\":\"white\"},\"title\":{\"x\":0.05},\"mapbox\":{\"style\":\"light\"}}},\"yaxis\":{\"gridcolor\":\"#eee\",\"title\":{\"text\":\"frequency\"},\"rangemode\":\"tozero\"},\"xaxis\":{\"rangemode\":\"tozero\"},\"title\":{\"text\":\"<b>patient_age</b> frequency distribution\"},\"plot_bgcolor\":\"#fff\",\"showlegend\":false,\"height\":500},                        {\"responsive\": true}                    ).then(function(){\n",
       "                            \n",
       "var gd = document.getElementById('ec56bce8-9fda-4fa0-81e5-f7b0d0e93727');\n",
       "var x = new MutationObserver(function (mutations, observer) {{\n",
       "        var display = window.getComputedStyle(gd).display;\n",
       "        if (!display || display === 'none') {{\n",
       "            console.log([gd, 'removed!']);\n",
       "            Plotly.purge(gd);\n",
       "            observer.disconnect();\n",
       "        }}\n",
       "}});\n",
       "\n",
       "// Listen for the removal of the full notebook cells\n",
       "var notebookContainer = gd.closest('#notebook-container');\n",
       "if (notebookContainer) {{\n",
       "    x.observe(notebookContainer, {childList: true});\n",
       "}}\n",
       "\n",
       "// Listen for the clearing of the current output cell\n",
       "var outputEl = gd.closest('.output');\n",
       "if (outputEl) {{\n",
       "    x.observe(outputEl, {childList: true});\n",
       "}}\n",
       "\n",
       "                        })                };                });            </script>        </div>"
      ]
     },
     "metadata": {},
     "output_type": "display_data"
    }
   ],
   "source": [
    "num_freq_plot(regexp_age_gender_4_extracts, 'patient_age')"
   ]
  },
  {
   "cell_type": "code",
   "execution_count": 54,
   "id": "d32f86ce-f753-4da7-9e0b-89cc8dadfa30",
   "metadata": {},
   "outputs": [
    {
     "name": "stdout",
     "output_type": "stream",
     "text": [
      "\n",
      "\n",
      "----------------\n",
      "Extracted values:\n",
      "Age = 19\n",
      "Gender = F\n",
      "\n",
      "Full text:\n",
      "Could my birth control/PCOS be messing with my(F19) cycle or could it be something else? | Female, 19, 5’3, 80kg, PCOS\n",
      "\n",
      "I have PCOS and I started taking birth control during the first day of my last period. My period only lasted 3 days and it was really light compared to most of my periods but the blood was bright red and there were clots so I assumed it was my period and not implantation bleeding. I had protected sex on the 5th day once I was sure my period had ended. I bled again on the 6th day but it was really light, bright red with like 1 clot and had spotting/brown discharge for the 2 days following that. I’m assuming it was caused by the sex and any uterine contractions I might have experienced as well as the pills stopping my period early.\n",
      "\n",
      "I am currently on the 11th day of my current cycle and I’m starting ovulation (on the first day of my fertile period according to my period tracking app), but for the first time ever I’m experiencing some bleeding/spotting and light cramping. I’m supposed to ovulate in 5 days but I’m scared that what I’m currently experiencing might somehow be implantation bleeding. Is there any chance it could be something else? I know the only way to be sure would be to take a pregnancy test but I’m unable to do that for another 2 days and I want to know if there’s anything else it could be because I’m stressed as fuck and all alone in this. \n",
      "\n",
      "The birth control I’m taking is called Bellaface. It’s 2mg Dienogest, 0.3mg Ethinylestradiol.\n",
      "\n",
      "Url:\n",
      "https://www.reddit.com/r/AskDocs/comments/eza1dp/could_my_birth_controlpcos_be_messing_with_myf19/\n",
      "\n",
      "\n",
      "----------------\n",
      "Extracted values:\n",
      "Age = 19\n",
      "Gender = M\n",
      "\n",
      "Full text:\n",
      "Stiffness and Sleeping Excessively | Hey guys, M19 here, 5'11\" and about 170 lbs.  I've been having this problem with sleeping excessively for about the past two years, especially in the past year.  I find myself needing at least 10 hours of sleep each night, or else I have a seriously hard time getting up.  Even 8 hours doesn't seem to cut it.  Sometimes I'll even fall back asleep after my alarms go off and wake up much later, having missed classes or other important events.  In addition, I have really bad muscle and joint stiffness when I wake up, especially throughout my back, which usually subsides after a few hours.  This problem also happened during the summer, when I let myself sleep for 11-12 hours each night.\n",
      "\n",
      "I've had reduced productivity and trouble making it on time to things as a result of this problem, and I have to deal with feeling overall crappy each day.  What might possibly be behind this, and what can I do to address the issues?\n",
      "\n",
      "I'm gonna add some lifestyle details here to make it easier.  I used to run cross-country and do rowing, but I quit around the time I started having the problems.  Nowadays, I occasionally lift weights and go on bike rides, but overall I'm no athlete, and I'm sedentary most of the time.  I haven't really done cardio for the past year or so.  In terms of food, I was eating unhealthy during last year's fall and winter semesters, but I cleaned up since the university I go to sent us home.   I have quite a lot of screen time on a computer each day for homework, class sessions, and other personal stuff.  I was usually going to bed around 2 AM during the summer (as well as since this year's fall semester started).  I'm indoors most of the time in a 2-story suburban house.\n",
      "\n",
      "Url:\n",
      "https://www.reddit.com/r/AskDocs/comments/itclvn/stiffness_and_sleeping_excessively/\n",
      "\n",
      "\n",
      "----------------\n",
      "Extracted values:\n",
      "Age = 19\n",
      "Gender = F\n",
      "\n",
      "Full text:\n",
      "Tender, swollen side of finger Contagious? | [F19] Today my pinky finger became extremely tender and very slightly red and swollen on the side of my finger next to my nail. I looked up symptoms and paronychia came up. If it is that this would have to be an extremely mild version because you can hardly see any redness or notice the swelling visually. Are there any other possibilities? Would this be contagious to other parts of the body like to other fingers, toes, or vaginas? Thank you!\n",
      "\n",
      "Url:\n",
      "https://www.reddit.com/r/AskDocs/comments/oof6a6/tender_swollen_side_of_finger_contagious/\n",
      "\n",
      "\n",
      "----------------\n",
      "Extracted values:\n",
      "Age = 15\n",
      "Gender = f\n",
      "\n",
      "Full text:\n",
      "(f15, 5’4, Weight-79kg) There’s a swelling on my neck and it isnt any lump but a long line like a vein swelling(not sure) | \n",
      "\n",
      "Url:\n",
      "https://www.reddit.com/r/AskDocs/comments/ppu9nm/f15_54_weight79kg_theres_a_swelling_on_my_neck/\n",
      "\n",
      "\n",
      "----------------\n",
      "Extracted values:\n",
      "Age = 18\n",
      "Gender = M\n",
      "\n",
      "Full text:\n",
      "I (M18) just got 8 teeth removed, 4 being wisdom. What can I eat and when? And what should I be careful of? | I lost all 3 wisdom teeth and 4 other teeth (all for pf the tooth that's right behind your canines, because of overcrowding and braces) and there's holes all over my mouth so I'm not sure how exactly I can eat much. What would be a good guideline to follow?\n",
      "\n",
      "Url:\n",
      "https://www.reddit.com/r/AskDocs/comments/mrnra1/i_m18_just_got_8_teeth_removed_4_being_wisdom/\n"
     ]
    }
   ],
   "source": [
    "upper_bound = 90\n",
    "lower_bound = 12\n",
    "in_range_ind = regexp_age_gender_4_extracts[\n",
    "    (regexp_age_gender_4_extracts['patient_age'] < 20)\n",
    "].index\n",
    "\n",
    "for i in in_range_ind[:5]:\n",
    "    print('\\n\\n----------------')\n",
    "    print('Extracted values:')\n",
    "    print(f'''Age = {regexp_age_gender_4_extracts['patient_age'].loc[i]}''')\n",
    "    print(f'''Gender = {regexp_age_gender_4_extracts['patient_gender'].loc[i]}''')\n",
    "\n",
    "    print('\\nFull text:')\n",
    "    print(df_sample2['full_post_text'].loc[i])\n",
    "    print('\\nUrl:')\n",
    "    print(df_sample2['url'].loc[i])"
   ]
  },
  {
   "cell_type": "markdown",
   "id": "d0d64560-088d-4892-860f-69877798a652",
   "metadata": {},
   "source": [
    "From testing in the above, we don't need to filter out out-of-range values here."
   ]
  },
  {
   "cell_type": "markdown",
   "id": "6454072a-7e65-49ff-aa3a-b216be9e6736",
   "metadata": {},
   "source": [
    "This pattern matches the following proportion of the data sample:"
   ]
  },
  {
   "cell_type": "code",
   "execution_count": 55,
   "id": "08b0a88d-b7a5-43e9-866a-2ae2a7c6ee57",
   "metadata": {},
   "outputs": [
    {
     "data": {
      "text/plain": [
       "0.0213"
      ]
     },
     "execution_count": 55,
     "metadata": {},
     "output_type": "execute_result"
    }
   ],
   "source": [
    "len(regexp_age_gender_4_extracts)/len(df_sample2)"
   ]
  },
  {
   "cell_type": "code",
   "execution_count": 56,
   "id": "4dacf71b-5c71-4f23-a7d5-927308a1c927",
   "metadata": {},
   "outputs": [],
   "source": [
    "remainder = remainder[\n",
    "    ~remainder.index.isin(regexp_age_gender_4_extracts.index)\n",
    "].copy()"
   ]
  },
  {
   "cell_type": "code",
   "execution_count": 57,
   "id": "b58e4b0e-8f00-4046-84f1-6daa27baa5d6",
   "metadata": {},
   "outputs": [
    {
     "data": {
      "text/plain": [
       "5841"
      ]
     },
     "execution_count": 57,
     "metadata": {},
     "output_type": "execute_result"
    }
   ],
   "source": [
    "len(remainder)"
   ]
  },
  {
   "cell_type": "code",
   "execution_count": 58,
   "id": "81119dc1-48d3-4042-aa26-d02389ef1811",
   "metadata": {},
   "outputs": [
    {
     "data": {
      "text/plain": [
       "0.5841"
      ]
     },
     "execution_count": 58,
     "metadata": {},
     "output_type": "execute_result"
    }
   ],
   "source": [
    "len(remainder)/len(df_sample2)"
   ]
  },
  {
   "cell_type": "code",
   "execution_count": 59,
   "id": "c1a6fbc9-8235-4141-b60b-081147d1af77",
   "metadata": {},
   "outputs": [
    {
     "data": {
      "text/plain": [
       "selftext\n",
       "False    3235\n",
       "True     2606\n",
       "Name: count, dtype: int64"
      ]
     },
     "execution_count": 59,
     "metadata": {},
     "output_type": "execute_result"
    }
   ],
   "source": [
    "remainder['selftext'].isna().value_counts()"
   ]
  },
  {
   "cell_type": "code",
   "execution_count": 265,
   "id": "ca43796b-e46a-4aab-8bba-c21de1b19aa7",
   "metadata": {
    "scrolled": true
   },
   "outputs": [
    {
     "name": "stdout",
     "output_type": "stream",
     "text": [
      "\n",
      "\n",
      "----------------\n",
      "\n",
      "Full text:\n",
      "Pain in groin, itchy scrotum/anus | Hi all. I've been experiencing the following symptoms off and on for about four months:\n",
      "\n",
      "1) Pain in groin. Sometimes extending to testicles (more the right testicle but pain is felt in both)\n",
      "\n",
      "2) Intense itchy feeling on scrotum and anus. It feels like bugs crawling. There is no redness or rash.\n",
      "\n",
      "3) Increased urgency when needing to urinate.\n",
      "\n",
      "4) (potentially a red herring and is unrelated but I'm not sure) increased frequency of bowel movements. \n",
      "\n",
      "I've seen three general practitioners and one urologist with these issues and no one has been any help. The urologist visit was recent and he said it could potentially be a hernia and referred to me a surgeon, this doesn't seem right to me and he didn't seem convinced himself. We can rule out any STIs (including crabs/scabies) as I've been tested for all of those (twice!) since all of this started, although I did have and was treated for gonorrhea about seven months ago. \n",
      "\n",
      "-----\n",
      "\n",
      "Age: 25\n",
      "\n",
      "Sex: male\n",
      "\n",
      "Height: 5'11\"\n",
      "\n",
      "Weight: 180lbs\n",
      "\n",
      "Race: Caucasian\n",
      "\n",
      "Duration of complaint: ~ four months\n",
      "\n",
      "Location (Geographic): Berlin, Germany\n",
      "\n",
      "Location (on body): see description\n",
      "\n",
      "Any existing relevant medical issues (if any): n/a\n",
      "\n",
      "Current medications (if any, this includes recreational drugs) : infrequent MDMA, infrequent cocaine, full time cigarette smoker\n",
      "\n",
      "Include a photo if relevant (skin condition for example): n/a\n",
      "\n",
      "Thanks in advance!\n",
      "\n",
      "Url:\n",
      "https://www.reddit.com/r/AskDocs/comments/78pgwc/pain_in_groin_itchy_scrotumanus/\n",
      "\n",
      "\n",
      "----------------\n",
      "\n",
      "Full text:\n",
      "Spinal cord inflammation or muscle? | 16 years old\n",
      "\n",
      "Athletic\n",
      "\n",
      "245lbs\n",
      "\n",
      "Right below my shoulder blades I feel like the two muscles are consistently contracting. In other words they just feel extremely tight. I’ve never had this trouble in this particular area before. I There is a sharp pain sometimes on the spine. I went to the chiropractor about five hours ago. He popped that area and my neck. Muscles are still tight as of now. How can I tell if this is inflammation instead of a tweaked nerve?\n",
      "\n",
      "Url:\n",
      "https://www.reddit.com/r/AskDocs/comments/kejttn/spinal_cord_inflammation_or_muscle/\n",
      "\n",
      "\n",
      "----------------\n",
      "\n",
      "Full text:\n",
      "Phlegm | I smoked for 2-3 years and it's been a week almost 2 since I stopped now I smoked cigs for a little over a year, then I switched to a vape and I smoked weed the entire time I smoked cigs and a vape, then I quit both cigs and vaping and only smoked weed and now I stopped smoking weed which had been that week or so. But my question is I am constantly clearing my throat of phlegm and most the time it's clear but now sometimes it's a yellow brown. Is it me just coughing up tar since I quit or should I be concerned of infection. I have a physical this week still needed to address my question for you guys\n",
      "\n",
      "Url:\n",
      "https://www.reddit.com/r/AskDocs/comments/6b0bg1/phlegm/\n",
      "\n",
      "\n",
      "----------------\n",
      "\n",
      "Full text:\n",
      "Chronic Pain Question | Hello doctors and nurses of Reddit.\n",
      "\n",
      "Age: 24 Meds: 5mg hydrocodone / 600mg gabapentin Height: 5' 11\" Sex: M Weight: 210lbs\n",
      "\n",
      "My pain clinic is pretty bad at explaining what exactly is going on. My goal I gave them was pretty self explanatory when I was first seen 2 years ago for chronic back pain/shooting leg pain (due to a pinched nerve and severe arthritis from long term abuse from competitive BMX when I was a kid). My goal was to not need pain medicine to live a normal life. I've never asked for my medicine dose to go up and said I would prefer a long term solution.\n",
      "\n",
      "I've been getting steroid injections very sporadically due to an insurance issue and it was explained to me on that they needed to be consistent for them to help. Well I'm not liking this current plan and it doesn't seem to be consistent. I have been getting one injection, waiting 4 weeks for an insurance approval of another one, then waiting around 6 weeks, then 2 and so on, randomly. They honestly don't help that much and I've relayed this to my doctor. The first two days I'm very sore at the injection spot, and the medicine only gives me about 50% relief for about 5 days before it wears off. Well the doctor is adamant I need to have a certain number before I can get an RFA (which she believes will be my long term solution) but I can't get that done until I'm done with injections, and she said I have 3 left. I haven't asked if having to wait was due to insurance or the offices policy or something.\n",
      "\n",
      "So no here is the problem. My pain has gotten significantly worse over the past two months. I don't know what caused it to get worse, but some mornings I'm having to take an extra dose of pain medicine just to get out of bed and it still hurts like hell and I end up with crippling leg pain. I don't want to ask for a raise in dosage, but I don't know if I could make it another two months plus without going insane.\n",
      "\n",
      "What's my best option here, if there even is one? Can I personally fight insurance to any avail to speed this up? Can I tell my doctor I refuse to wait and want the RFA done now? Is getting a raise in dosage my only bet?\n",
      "\n",
      "Side question: TENS units are actually a huge help for my pain. However the most expensive one I can buy at Walgreens doesn't seem to have enough 'juice' to be as effective as the ones at physical therapy have been. Is it possible to buy one of this caliper? What about having insurance pay for it? (They aren't cheap)\n",
      "\n",
      "It's incredibly draining to be only 24 and having these problems, especially when I still want to live an active lifestyle and can't. Also, it really sucks to be treated like a junkie by almost everyone in the process assuming I'm faking it (even though there is very obvious proof on MRIs and X-Rays). The only person who is understandable during all of this is my doctor herself. Pharmacists, the office workers at the doctor's office, insurance reps, etc all treat me like dirt and make underhanded comments at me.\n",
      "\n",
      "Url:\n",
      "https://www.reddit.com/r/AskDocs/comments/8me34l/chronic_pain_question/\n",
      "\n",
      "\n",
      "----------------\n",
      "\n",
      "Full text:\n",
      "Weird rash on body | Age 31\n",
      "Sex M\n",
      "Height 5'8\"\n",
      "Weight 162\n",
      "Race Mixed\n",
      "Duration of complaint 2 days\n",
      "Location (Geographic and on body) abdomen area\n",
      "Any existing relevant medical issues (if any) N/A\n",
      "Current medications (if any) anti-bacterial cream\n",
      "Include a photo if relevant (skin condition for example) https://imgur.com/a/0Ugvb\n",
      "\n",
      "Hello, I am not sure how this started but I noticed this rash getting darker over the past couple of days. I was in Bali for the last 2 weeks if this helps. I went to see a GP today and he referred me to a specialist since he wasn't very well versed on the topic. He didn't seem to think it was something urgent but he mentioned that he hadn't seen anything like this before. He asked me to use Gentriderm for the time being as the wait time for the dermatologist is a couple of weeks at the very least.\n",
      "\n",
      "Aany help on the matter in the meantime is welcome!\n",
      "\n",
      "Thanks!\n",
      "\n",
      "Url:\n",
      "https://www.reddit.com/r/AskDocs/comments/7ktxoe/weird_rash_on_body/\n"
     ]
    }
   ],
   "source": [
    "for i, r in remainder[remainder['selftext'].notna()].head().iterrows():\n",
    "    print('\\n\\n----------------')\n",
    "\n",
    "    print('\\nFull text:')\n",
    "    print(r['full_post_text'])\n",
    "    print('\\nUrl:')\n",
    "    print(r['url'])"
   ]
  },
  {
   "cell_type": "markdown",
   "id": "a40d137e-2bed-4f60-a7db-415f6128dff1",
   "metadata": {},
   "source": [
    "## Age only patterns"
   ]
  },
  {
   "cell_type": "markdown",
   "id": "1c14f138-ecdc-44b8-bc97-0818c495183d",
   "metadata": {},
   "source": [
    "### Age pattern 1"
   ]
  },
  {
   "cell_type": "code",
   "execution_count": 266,
   "id": "b6bc05e1-770d-45de-8f40-cec8b9814805",
   "metadata": {},
   "outputs": [],
   "source": [
    "regexp_age_1 = r'''\\baged? ?[:\\-]? ?([1-9]\\d?)\\b'''\n",
    "\n",
    "regexp_age_1_extracts = remainder['full_post_text'].str.extract(\n",
    "        regexp_age_1,\n",
    "        flags=re.IGNORECASE\n",
    "    ).rename(columns={\n",
    "        0: 'patient_age'\n",
    "    })\n",
    "\n",
    "regexp_age_1_extracts.dropna(inplace=True)\n",
    "\n",
    "regexp_age_1_extracts['patient_age'] = \\\n",
    "    regexp_age_1_extracts['patient_age'].astype('int')"
   ]
  },
  {
   "cell_type": "code",
   "execution_count": 267,
   "id": "221125ec-8f30-477f-bd81-5a8fc16665b0",
   "metadata": {},
   "outputs": [
    {
     "data": {
      "text/plain": [
       "0.0942"
      ]
     },
     "execution_count": 267,
     "metadata": {},
     "output_type": "execute_result"
    }
   ],
   "source": [
    "len(regexp_age_1_extracts)/len(df_sample2)"
   ]
  },
  {
   "cell_type": "code",
   "execution_count": 268,
   "id": "5f2d7a49-dd63-4cd2-9b6f-bce1cdf15da8",
   "metadata": {},
   "outputs": [
    {
     "data": {
      "text/html": [
       "<div>\n",
       "<style scoped>\n",
       "    .dataframe tbody tr th:only-of-type {\n",
       "        vertical-align: middle;\n",
       "    }\n",
       "\n",
       "    .dataframe tbody tr th {\n",
       "        vertical-align: top;\n",
       "    }\n",
       "\n",
       "    .dataframe thead th {\n",
       "        text-align: right;\n",
       "    }\n",
       "</style>\n",
       "<table border=\"1\" class=\"dataframe\">\n",
       "  <thead>\n",
       "    <tr style=\"text-align: right;\">\n",
       "      <th></th>\n",
       "      <th>patient_age</th>\n",
       "    </tr>\n",
       "  </thead>\n",
       "  <tbody>\n",
       "    <tr>\n",
       "      <th>count</th>\n",
       "      <td>942.000000</td>\n",
       "    </tr>\n",
       "    <tr>\n",
       "      <th>mean</th>\n",
       "      <td>25.619958</td>\n",
       "    </tr>\n",
       "    <tr>\n",
       "      <th>std</th>\n",
       "      <td>9.490526</td>\n",
       "    </tr>\n",
       "    <tr>\n",
       "      <th>min</th>\n",
       "      <td>4.000000</td>\n",
       "    </tr>\n",
       "    <tr>\n",
       "      <th>25%</th>\n",
       "      <td>20.000000</td>\n",
       "    </tr>\n",
       "    <tr>\n",
       "      <th>50%</th>\n",
       "      <td>24.000000</td>\n",
       "    </tr>\n",
       "    <tr>\n",
       "      <th>75%</th>\n",
       "      <td>29.000000</td>\n",
       "    </tr>\n",
       "    <tr>\n",
       "      <th>max</th>\n",
       "      <td>84.000000</td>\n",
       "    </tr>\n",
       "  </tbody>\n",
       "</table>\n",
       "</div>"
      ],
      "text/plain": [
       "       patient_age\n",
       "count   942.000000\n",
       "mean     25.619958\n",
       "std       9.490526\n",
       "min       4.000000\n",
       "25%      20.000000\n",
       "50%      24.000000\n",
       "75%      29.000000\n",
       "max      84.000000"
      ]
     },
     "execution_count": 268,
     "metadata": {},
     "output_type": "execute_result"
    }
   ],
   "source": [
    "regexp_age_1_extracts.describe(include='all')"
   ]
  },
  {
   "cell_type": "code",
   "execution_count": 269,
   "id": "49d846e0-eaf3-4a65-b0e8-a6b8878f9f82",
   "metadata": {},
   "outputs": [
    {
     "data": {
      "text/plain": [
       "patient_age\n",
       "4      2\n",
       "5      2\n",
       "6      1\n",
       "7      1\n",
       "8      3\n",
       "9      1\n",
       "11     4\n",
       "12     3\n",
       "13     4\n",
       "14     7\n",
       "15    21\n",
       "16    29\n",
       "17    38\n",
       "18    62\n",
       "19    44\n",
       "20    62\n",
       "21    58\n",
       "22    61\n",
       "23    51\n",
       "24    48\n",
       "25    52\n",
       "26    50\n",
       "27    30\n",
       "28    50\n",
       "29    33\n",
       "30    42\n",
       "31    27\n",
       "32    20\n",
       "33    21\n",
       "34    10\n",
       "35    17\n",
       "36     6\n",
       "37     8\n",
       "38     7\n",
       "39     7\n",
       "40     4\n",
       "41     2\n",
       "42     3\n",
       "43     1\n",
       "44     4\n",
       "45     5\n",
       "46     4\n",
       "47     4\n",
       "49     3\n",
       "50     1\n",
       "52     2\n",
       "53     4\n",
       "55     3\n",
       "57     1\n",
       "58     1\n",
       "59     1\n",
       "60     2\n",
       "61     3\n",
       "63     2\n",
       "64     4\n",
       "65     2\n",
       "69     1\n",
       "74     1\n",
       "77     1\n",
       "84     1\n",
       "Name: count, dtype: int64"
      ]
     },
     "execution_count": 269,
     "metadata": {},
     "output_type": "execute_result"
    }
   ],
   "source": [
    "regexp_age_1_extracts['patient_age'].value_counts().sort_index()"
   ]
  },
  {
   "cell_type": "code",
   "execution_count": 270,
   "id": "91b6f352-70b8-4146-ab1e-e3b12223232a",
   "metadata": {},
   "outputs": [
    {
     "data": {
      "application/vnd.plotly.v1+json": {
       "config": {
        "plotlyServerURL": "https://plotly.com"
       },
       "data": [
        {
         "hovertemplate": "Value: %{x:,}<br>Frequency: %{y:,}<br><extra></extra>",
         "hovertext": [
          4,
          5,
          6,
          7,
          8,
          9,
          11,
          12,
          13,
          14,
          15,
          16,
          17,
          18,
          19,
          20,
          21,
          22,
          23,
          24,
          25,
          26,
          27,
          28,
          29,
          30,
          31,
          32,
          33,
          34,
          35,
          36,
          37,
          38,
          39,
          40,
          41,
          42,
          43,
          44,
          45,
          46,
          47,
          49,
          50,
          52,
          53,
          55,
          57,
          58,
          59,
          60,
          61,
          63,
          64,
          65,
          69,
          74,
          77,
          84
         ],
         "type": "bar",
         "x": [
          4,
          5,
          6,
          7,
          8,
          9,
          11,
          12,
          13,
          14,
          15,
          16,
          17,
          18,
          19,
          20,
          21,
          22,
          23,
          24,
          25,
          26,
          27,
          28,
          29,
          30,
          31,
          32,
          33,
          34,
          35,
          36,
          37,
          38,
          39,
          40,
          41,
          42,
          43,
          44,
          45,
          46,
          47,
          49,
          50,
          52,
          53,
          55,
          57,
          58,
          59,
          60,
          61,
          63,
          64,
          65,
          69,
          74,
          77,
          84
         ],
         "y": [
          2,
          2,
          1,
          1,
          3,
          1,
          4,
          3,
          4,
          7,
          21,
          29,
          38,
          62,
          44,
          62,
          58,
          61,
          51,
          48,
          52,
          50,
          30,
          50,
          33,
          42,
          27,
          20,
          21,
          10,
          17,
          6,
          8,
          7,
          7,
          4,
          2,
          3,
          1,
          4,
          5,
          4,
          4,
          3,
          1,
          2,
          4,
          3,
          1,
          1,
          1,
          2,
          3,
          2,
          4,
          2,
          1,
          1,
          1,
          1
         ]
        }
       ],
       "layout": {
        "autosize": true,
        "plot_bgcolor": "#fff",
        "showlegend": false,
        "template": {
         "data": {
          "bar": [
           {
            "error_x": {
             "color": "#2a3f5f"
            },
            "error_y": {
             "color": "#2a3f5f"
            },
            "marker": {
             "line": {
              "color": "#E5ECF6",
              "width": 0.5
             },
             "pattern": {
              "fillmode": "overlay",
              "size": 10,
              "solidity": 0.2
             }
            },
            "type": "bar"
           }
          ],
          "barpolar": [
           {
            "marker": {
             "line": {
              "color": "#E5ECF6",
              "width": 0.5
             },
             "pattern": {
              "fillmode": "overlay",
              "size": 10,
              "solidity": 0.2
             }
            },
            "type": "barpolar"
           }
          ],
          "carpet": [
           {
            "aaxis": {
             "endlinecolor": "#2a3f5f",
             "gridcolor": "white",
             "linecolor": "white",
             "minorgridcolor": "white",
             "startlinecolor": "#2a3f5f"
            },
            "baxis": {
             "endlinecolor": "#2a3f5f",
             "gridcolor": "white",
             "linecolor": "white",
             "minorgridcolor": "white",
             "startlinecolor": "#2a3f5f"
            },
            "type": "carpet"
           }
          ],
          "choropleth": [
           {
            "colorbar": {
             "outlinewidth": 0,
             "ticks": ""
            },
            "type": "choropleth"
           }
          ],
          "contour": [
           {
            "colorbar": {
             "outlinewidth": 0,
             "ticks": ""
            },
            "colorscale": [
             [
              0,
              "#0d0887"
             ],
             [
              0.1111111111111111,
              "#46039f"
             ],
             [
              0.2222222222222222,
              "#7201a8"
             ],
             [
              0.3333333333333333,
              "#9c179e"
             ],
             [
              0.4444444444444444,
              "#bd3786"
             ],
             [
              0.5555555555555556,
              "#d8576b"
             ],
             [
              0.6666666666666666,
              "#ed7953"
             ],
             [
              0.7777777777777778,
              "#fb9f3a"
             ],
             [
              0.8888888888888888,
              "#fdca26"
             ],
             [
              1,
              "#f0f921"
             ]
            ],
            "type": "contour"
           }
          ],
          "contourcarpet": [
           {
            "colorbar": {
             "outlinewidth": 0,
             "ticks": ""
            },
            "type": "contourcarpet"
           }
          ],
          "heatmap": [
           {
            "colorbar": {
             "outlinewidth": 0,
             "ticks": ""
            },
            "colorscale": [
             [
              0,
              "#0d0887"
             ],
             [
              0.1111111111111111,
              "#46039f"
             ],
             [
              0.2222222222222222,
              "#7201a8"
             ],
             [
              0.3333333333333333,
              "#9c179e"
             ],
             [
              0.4444444444444444,
              "#bd3786"
             ],
             [
              0.5555555555555556,
              "#d8576b"
             ],
             [
              0.6666666666666666,
              "#ed7953"
             ],
             [
              0.7777777777777778,
              "#fb9f3a"
             ],
             [
              0.8888888888888888,
              "#fdca26"
             ],
             [
              1,
              "#f0f921"
             ]
            ],
            "type": "heatmap"
           }
          ],
          "heatmapgl": [
           {
            "colorbar": {
             "outlinewidth": 0,
             "ticks": ""
            },
            "colorscale": [
             [
              0,
              "#0d0887"
             ],
             [
              0.1111111111111111,
              "#46039f"
             ],
             [
              0.2222222222222222,
              "#7201a8"
             ],
             [
              0.3333333333333333,
              "#9c179e"
             ],
             [
              0.4444444444444444,
              "#bd3786"
             ],
             [
              0.5555555555555556,
              "#d8576b"
             ],
             [
              0.6666666666666666,
              "#ed7953"
             ],
             [
              0.7777777777777778,
              "#fb9f3a"
             ],
             [
              0.8888888888888888,
              "#fdca26"
             ],
             [
              1,
              "#f0f921"
             ]
            ],
            "type": "heatmapgl"
           }
          ],
          "histogram": [
           {
            "marker": {
             "pattern": {
              "fillmode": "overlay",
              "size": 10,
              "solidity": 0.2
             }
            },
            "type": "histogram"
           }
          ],
          "histogram2d": [
           {
            "colorbar": {
             "outlinewidth": 0,
             "ticks": ""
            },
            "colorscale": [
             [
              0,
              "#0d0887"
             ],
             [
              0.1111111111111111,
              "#46039f"
             ],
             [
              0.2222222222222222,
              "#7201a8"
             ],
             [
              0.3333333333333333,
              "#9c179e"
             ],
             [
              0.4444444444444444,
              "#bd3786"
             ],
             [
              0.5555555555555556,
              "#d8576b"
             ],
             [
              0.6666666666666666,
              "#ed7953"
             ],
             [
              0.7777777777777778,
              "#fb9f3a"
             ],
             [
              0.8888888888888888,
              "#fdca26"
             ],
             [
              1,
              "#f0f921"
             ]
            ],
            "type": "histogram2d"
           }
          ],
          "histogram2dcontour": [
           {
            "colorbar": {
             "outlinewidth": 0,
             "ticks": ""
            },
            "colorscale": [
             [
              0,
              "#0d0887"
             ],
             [
              0.1111111111111111,
              "#46039f"
             ],
             [
              0.2222222222222222,
              "#7201a8"
             ],
             [
              0.3333333333333333,
              "#9c179e"
             ],
             [
              0.4444444444444444,
              "#bd3786"
             ],
             [
              0.5555555555555556,
              "#d8576b"
             ],
             [
              0.6666666666666666,
              "#ed7953"
             ],
             [
              0.7777777777777778,
              "#fb9f3a"
             ],
             [
              0.8888888888888888,
              "#fdca26"
             ],
             [
              1,
              "#f0f921"
             ]
            ],
            "type": "histogram2dcontour"
           }
          ],
          "mesh3d": [
           {
            "colorbar": {
             "outlinewidth": 0,
             "ticks": ""
            },
            "type": "mesh3d"
           }
          ],
          "parcoords": [
           {
            "line": {
             "colorbar": {
              "outlinewidth": 0,
              "ticks": ""
             }
            },
            "type": "parcoords"
           }
          ],
          "pie": [
           {
            "automargin": true,
            "type": "pie"
           }
          ],
          "scatter": [
           {
            "fillpattern": {
             "fillmode": "overlay",
             "size": 10,
             "solidity": 0.2
            },
            "type": "scatter"
           }
          ],
          "scatter3d": [
           {
            "line": {
             "colorbar": {
              "outlinewidth": 0,
              "ticks": ""
             }
            },
            "marker": {
             "colorbar": {
              "outlinewidth": 0,
              "ticks": ""
             }
            },
            "type": "scatter3d"
           }
          ],
          "scattercarpet": [
           {
            "marker": {
             "colorbar": {
              "outlinewidth": 0,
              "ticks": ""
             }
            },
            "type": "scattercarpet"
           }
          ],
          "scattergeo": [
           {
            "marker": {
             "colorbar": {
              "outlinewidth": 0,
              "ticks": ""
             }
            },
            "type": "scattergeo"
           }
          ],
          "scattergl": [
           {
            "marker": {
             "colorbar": {
              "outlinewidth": 0,
              "ticks": ""
             }
            },
            "type": "scattergl"
           }
          ],
          "scattermapbox": [
           {
            "marker": {
             "colorbar": {
              "outlinewidth": 0,
              "ticks": ""
             }
            },
            "type": "scattermapbox"
           }
          ],
          "scatterpolar": [
           {
            "marker": {
             "colorbar": {
              "outlinewidth": 0,
              "ticks": ""
             }
            },
            "type": "scatterpolar"
           }
          ],
          "scatterpolargl": [
           {
            "marker": {
             "colorbar": {
              "outlinewidth": 0,
              "ticks": ""
             }
            },
            "type": "scatterpolargl"
           }
          ],
          "scatterternary": [
           {
            "marker": {
             "colorbar": {
              "outlinewidth": 0,
              "ticks": ""
             }
            },
            "type": "scatterternary"
           }
          ],
          "surface": [
           {
            "colorbar": {
             "outlinewidth": 0,
             "ticks": ""
            },
            "colorscale": [
             [
              0,
              "#0d0887"
             ],
             [
              0.1111111111111111,
              "#46039f"
             ],
             [
              0.2222222222222222,
              "#7201a8"
             ],
             [
              0.3333333333333333,
              "#9c179e"
             ],
             [
              0.4444444444444444,
              "#bd3786"
             ],
             [
              0.5555555555555556,
              "#d8576b"
             ],
             [
              0.6666666666666666,
              "#ed7953"
             ],
             [
              0.7777777777777778,
              "#fb9f3a"
             ],
             [
              0.8888888888888888,
              "#fdca26"
             ],
             [
              1,
              "#f0f921"
             ]
            ],
            "type": "surface"
           }
          ],
          "table": [
           {
            "cells": {
             "fill": {
              "color": "#EBF0F8"
             },
             "line": {
              "color": "white"
             }
            },
            "header": {
             "fill": {
              "color": "#C8D4E3"
             },
             "line": {
              "color": "white"
             }
            },
            "type": "table"
           }
          ]
         },
         "layout": {
          "annotationdefaults": {
           "arrowcolor": "#2a3f5f",
           "arrowhead": 0,
           "arrowwidth": 1
          },
          "autotypenumbers": "strict",
          "coloraxis": {
           "colorbar": {
            "outlinewidth": 0,
            "ticks": ""
           }
          },
          "colorscale": {
           "diverging": [
            [
             0,
             "#8e0152"
            ],
            [
             0.1,
             "#c51b7d"
            ],
            [
             0.2,
             "#de77ae"
            ],
            [
             0.3,
             "#f1b6da"
            ],
            [
             0.4,
             "#fde0ef"
            ],
            [
             0.5,
             "#f7f7f7"
            ],
            [
             0.6,
             "#e6f5d0"
            ],
            [
             0.7,
             "#b8e186"
            ],
            [
             0.8,
             "#7fbc41"
            ],
            [
             0.9,
             "#4d9221"
            ],
            [
             1,
             "#276419"
            ]
           ],
           "sequential": [
            [
             0,
             "#0d0887"
            ],
            [
             0.1111111111111111,
             "#46039f"
            ],
            [
             0.2222222222222222,
             "#7201a8"
            ],
            [
             0.3333333333333333,
             "#9c179e"
            ],
            [
             0.4444444444444444,
             "#bd3786"
            ],
            [
             0.5555555555555556,
             "#d8576b"
            ],
            [
             0.6666666666666666,
             "#ed7953"
            ],
            [
             0.7777777777777778,
             "#fb9f3a"
            ],
            [
             0.8888888888888888,
             "#fdca26"
            ],
            [
             1,
             "#f0f921"
            ]
           ],
           "sequentialminus": [
            [
             0,
             "#0d0887"
            ],
            [
             0.1111111111111111,
             "#46039f"
            ],
            [
             0.2222222222222222,
             "#7201a8"
            ],
            [
             0.3333333333333333,
             "#9c179e"
            ],
            [
             0.4444444444444444,
             "#bd3786"
            ],
            [
             0.5555555555555556,
             "#d8576b"
            ],
            [
             0.6666666666666666,
             "#ed7953"
            ],
            [
             0.7777777777777778,
             "#fb9f3a"
            ],
            [
             0.8888888888888888,
             "#fdca26"
            ],
            [
             1,
             "#f0f921"
            ]
           ]
          },
          "colorway": [
           "#636efa",
           "#EF553B",
           "#00cc96",
           "#ab63fa",
           "#FFA15A",
           "#19d3f3",
           "#FF6692",
           "#B6E880",
           "#FF97FF",
           "#FECB52"
          ],
          "font": {
           "color": "#2a3f5f"
          },
          "geo": {
           "bgcolor": "white",
           "lakecolor": "white",
           "landcolor": "#E5ECF6",
           "showlakes": true,
           "showland": true,
           "subunitcolor": "white"
          },
          "hoverlabel": {
           "align": "left"
          },
          "hovermode": "closest",
          "mapbox": {
           "style": "light"
          },
          "paper_bgcolor": "white",
          "plot_bgcolor": "#E5ECF6",
          "polar": {
           "angularaxis": {
            "gridcolor": "white",
            "linecolor": "white",
            "ticks": ""
           },
           "bgcolor": "#E5ECF6",
           "radialaxis": {
            "gridcolor": "white",
            "linecolor": "white",
            "ticks": ""
           }
          },
          "scene": {
           "xaxis": {
            "backgroundcolor": "#E5ECF6",
            "gridcolor": "white",
            "gridwidth": 2,
            "linecolor": "white",
            "showbackground": true,
            "ticks": "",
            "zerolinecolor": "white"
           },
           "yaxis": {
            "backgroundcolor": "#E5ECF6",
            "gridcolor": "white",
            "gridwidth": 2,
            "linecolor": "white",
            "showbackground": true,
            "ticks": "",
            "zerolinecolor": "white"
           },
           "zaxis": {
            "backgroundcolor": "#E5ECF6",
            "gridcolor": "white",
            "gridwidth": 2,
            "linecolor": "white",
            "showbackground": true,
            "ticks": "",
            "zerolinecolor": "white"
           }
          },
          "shapedefaults": {
           "line": {
            "color": "#2a3f5f"
           }
          },
          "ternary": {
           "aaxis": {
            "gridcolor": "white",
            "linecolor": "white",
            "ticks": ""
           },
           "baxis": {
            "gridcolor": "white",
            "linecolor": "white",
            "ticks": ""
           },
           "bgcolor": "#E5ECF6",
           "caxis": {
            "gridcolor": "white",
            "linecolor": "white",
            "ticks": ""
           }
          },
          "title": {
           "x": 0.05
          },
          "xaxis": {
           "automargin": true,
           "gridcolor": "white",
           "linecolor": "white",
           "ticks": "",
           "title": {
            "standoff": 15
           },
           "zerolinecolor": "white",
           "zerolinewidth": 2
          },
          "yaxis": {
           "automargin": true,
           "gridcolor": "white",
           "linecolor": "white",
           "ticks": "",
           "title": {
            "standoff": 15
           },
           "zerolinecolor": "white",
           "zerolinewidth": 2
          }
         }
        },
        "title": {
         "text": "<b>patient_age</b> frequency distribution"
        },
        "xaxis": {
         "autorange": true,
         "range": [
          0,
          84.5
         ],
         "rangemode": "tozero",
         "type": "linear"
        },
        "yaxis": {
         "autorange": true,
         "gridcolor": "#eee",
         "range": [
          0,
          65.26315789473684
         ],
         "rangemode": "tozero",
         "title": {
          "text": "frequency"
         },
         "type": "linear"
        }
       }
      },
      "text/html": [
       "<div>                            <div id=\"75e07865-9df9-40ad-9919-0c05b15d07e1\" class=\"plotly-graph-div\" style=\"height:500px; width:100%;\"></div>            <script type=\"text/javascript\">                require([\"plotly\"], function(Plotly) {                    window.PLOTLYENV=window.PLOTLYENV || {};                                    if (document.getElementById(\"75e07865-9df9-40ad-9919-0c05b15d07e1\")) {                    Plotly.newPlot(                        \"75e07865-9df9-40ad-9919-0c05b15d07e1\",                        [{\"hovertemplate\":\"Value: %{x:,}<br>Frequency: %{y:,}<br><extra></extra>\",\"hovertext\":[4.0,5.0,6.0,7.0,8.0,9.0,11.0,12.0,13.0,14.0,15.0,16.0,17.0,18.0,19.0,20.0,21.0,22.0,23.0,24.0,25.0,26.0,27.0,28.0,29.0,30.0,31.0,32.0,33.0,34.0,35.0,36.0,37.0,38.0,39.0,40.0,41.0,42.0,43.0,44.0,45.0,46.0,47.0,49.0,50.0,52.0,53.0,55.0,57.0,58.0,59.0,60.0,61.0,63.0,64.0,65.0,69.0,74.0,77.0,84.0],\"x\":[4,5,6,7,8,9,11,12,13,14,15,16,17,18,19,20,21,22,23,24,25,26,27,28,29,30,31,32,33,34,35,36,37,38,39,40,41,42,43,44,45,46,47,49,50,52,53,55,57,58,59,60,61,63,64,65,69,74,77,84],\"y\":[2,2,1,1,3,1,4,3,4,7,21,29,38,62,44,62,58,61,51,48,52,50,30,50,33,42,27,20,21,10,17,6,8,7,7,4,2,3,1,4,5,4,4,3,1,2,4,3,1,1,1,2,3,2,4,2,1,1,1,1],\"type\":\"bar\"}],                        {\"template\":{\"data\":{\"histogram2dcontour\":[{\"type\":\"histogram2dcontour\",\"colorbar\":{\"outlinewidth\":0,\"ticks\":\"\"},\"colorscale\":[[0.0,\"#0d0887\"],[0.1111111111111111,\"#46039f\"],[0.2222222222222222,\"#7201a8\"],[0.3333333333333333,\"#9c179e\"],[0.4444444444444444,\"#bd3786\"],[0.5555555555555556,\"#d8576b\"],[0.6666666666666666,\"#ed7953\"],[0.7777777777777778,\"#fb9f3a\"],[0.8888888888888888,\"#fdca26\"],[1.0,\"#f0f921\"]]}],\"choropleth\":[{\"type\":\"choropleth\",\"colorbar\":{\"outlinewidth\":0,\"ticks\":\"\"}}],\"histogram2d\":[{\"type\":\"histogram2d\",\"colorbar\":{\"outlinewidth\":0,\"ticks\":\"\"},\"colorscale\":[[0.0,\"#0d0887\"],[0.1111111111111111,\"#46039f\"],[0.2222222222222222,\"#7201a8\"],[0.3333333333333333,\"#9c179e\"],[0.4444444444444444,\"#bd3786\"],[0.5555555555555556,\"#d8576b\"],[0.6666666666666666,\"#ed7953\"],[0.7777777777777778,\"#fb9f3a\"],[0.8888888888888888,\"#fdca26\"],[1.0,\"#f0f921\"]]}],\"heatmap\":[{\"type\":\"heatmap\",\"colorbar\":{\"outlinewidth\":0,\"ticks\":\"\"},\"colorscale\":[[0.0,\"#0d0887\"],[0.1111111111111111,\"#46039f\"],[0.2222222222222222,\"#7201a8\"],[0.3333333333333333,\"#9c179e\"],[0.4444444444444444,\"#bd3786\"],[0.5555555555555556,\"#d8576b\"],[0.6666666666666666,\"#ed7953\"],[0.7777777777777778,\"#fb9f3a\"],[0.8888888888888888,\"#fdca26\"],[1.0,\"#f0f921\"]]}],\"heatmapgl\":[{\"type\":\"heatmapgl\",\"colorbar\":{\"outlinewidth\":0,\"ticks\":\"\"},\"colorscale\":[[0.0,\"#0d0887\"],[0.1111111111111111,\"#46039f\"],[0.2222222222222222,\"#7201a8\"],[0.3333333333333333,\"#9c179e\"],[0.4444444444444444,\"#bd3786\"],[0.5555555555555556,\"#d8576b\"],[0.6666666666666666,\"#ed7953\"],[0.7777777777777778,\"#fb9f3a\"],[0.8888888888888888,\"#fdca26\"],[1.0,\"#f0f921\"]]}],\"contourcarpet\":[{\"type\":\"contourcarpet\",\"colorbar\":{\"outlinewidth\":0,\"ticks\":\"\"}}],\"contour\":[{\"type\":\"contour\",\"colorbar\":{\"outlinewidth\":0,\"ticks\":\"\"},\"colorscale\":[[0.0,\"#0d0887\"],[0.1111111111111111,\"#46039f\"],[0.2222222222222222,\"#7201a8\"],[0.3333333333333333,\"#9c179e\"],[0.4444444444444444,\"#bd3786\"],[0.5555555555555556,\"#d8576b\"],[0.6666666666666666,\"#ed7953\"],[0.7777777777777778,\"#fb9f3a\"],[0.8888888888888888,\"#fdca26\"],[1.0,\"#f0f921\"]]}],\"surface\":[{\"type\":\"surface\",\"colorbar\":{\"outlinewidth\":0,\"ticks\":\"\"},\"colorscale\":[[0.0,\"#0d0887\"],[0.1111111111111111,\"#46039f\"],[0.2222222222222222,\"#7201a8\"],[0.3333333333333333,\"#9c179e\"],[0.4444444444444444,\"#bd3786\"],[0.5555555555555556,\"#d8576b\"],[0.6666666666666666,\"#ed7953\"],[0.7777777777777778,\"#fb9f3a\"],[0.8888888888888888,\"#fdca26\"],[1.0,\"#f0f921\"]]}],\"mesh3d\":[{\"type\":\"mesh3d\",\"colorbar\":{\"outlinewidth\":0,\"ticks\":\"\"}}],\"scatter\":[{\"fillpattern\":{\"fillmode\":\"overlay\",\"size\":10,\"solidity\":0.2},\"type\":\"scatter\"}],\"parcoords\":[{\"type\":\"parcoords\",\"line\":{\"colorbar\":{\"outlinewidth\":0,\"ticks\":\"\"}}}],\"scatterpolargl\":[{\"type\":\"scatterpolargl\",\"marker\":{\"colorbar\":{\"outlinewidth\":0,\"ticks\":\"\"}}}],\"bar\":[{\"error_x\":{\"color\":\"#2a3f5f\"},\"error_y\":{\"color\":\"#2a3f5f\"},\"marker\":{\"line\":{\"color\":\"#E5ECF6\",\"width\":0.5},\"pattern\":{\"fillmode\":\"overlay\",\"size\":10,\"solidity\":0.2}},\"type\":\"bar\"}],\"scattergeo\":[{\"type\":\"scattergeo\",\"marker\":{\"colorbar\":{\"outlinewidth\":0,\"ticks\":\"\"}}}],\"scatterpolar\":[{\"type\":\"scatterpolar\",\"marker\":{\"colorbar\":{\"outlinewidth\":0,\"ticks\":\"\"}}}],\"histogram\":[{\"marker\":{\"pattern\":{\"fillmode\":\"overlay\",\"size\":10,\"solidity\":0.2}},\"type\":\"histogram\"}],\"scattergl\":[{\"type\":\"scattergl\",\"marker\":{\"colorbar\":{\"outlinewidth\":0,\"ticks\":\"\"}}}],\"scatter3d\":[{\"type\":\"scatter3d\",\"line\":{\"colorbar\":{\"outlinewidth\":0,\"ticks\":\"\"}},\"marker\":{\"colorbar\":{\"outlinewidth\":0,\"ticks\":\"\"}}}],\"scattermapbox\":[{\"type\":\"scattermapbox\",\"marker\":{\"colorbar\":{\"outlinewidth\":0,\"ticks\":\"\"}}}],\"scatterternary\":[{\"type\":\"scatterternary\",\"marker\":{\"colorbar\":{\"outlinewidth\":0,\"ticks\":\"\"}}}],\"scattercarpet\":[{\"type\":\"scattercarpet\",\"marker\":{\"colorbar\":{\"outlinewidth\":0,\"ticks\":\"\"}}}],\"carpet\":[{\"aaxis\":{\"endlinecolor\":\"#2a3f5f\",\"gridcolor\":\"white\",\"linecolor\":\"white\",\"minorgridcolor\":\"white\",\"startlinecolor\":\"#2a3f5f\"},\"baxis\":{\"endlinecolor\":\"#2a3f5f\",\"gridcolor\":\"white\",\"linecolor\":\"white\",\"minorgridcolor\":\"white\",\"startlinecolor\":\"#2a3f5f\"},\"type\":\"carpet\"}],\"table\":[{\"cells\":{\"fill\":{\"color\":\"#EBF0F8\"},\"line\":{\"color\":\"white\"}},\"header\":{\"fill\":{\"color\":\"#C8D4E3\"},\"line\":{\"color\":\"white\"}},\"type\":\"table\"}],\"barpolar\":[{\"marker\":{\"line\":{\"color\":\"#E5ECF6\",\"width\":0.5},\"pattern\":{\"fillmode\":\"overlay\",\"size\":10,\"solidity\":0.2}},\"type\":\"barpolar\"}],\"pie\":[{\"automargin\":true,\"type\":\"pie\"}]},\"layout\":{\"autotypenumbers\":\"strict\",\"colorway\":[\"#636efa\",\"#EF553B\",\"#00cc96\",\"#ab63fa\",\"#FFA15A\",\"#19d3f3\",\"#FF6692\",\"#B6E880\",\"#FF97FF\",\"#FECB52\"],\"font\":{\"color\":\"#2a3f5f\"},\"hovermode\":\"closest\",\"hoverlabel\":{\"align\":\"left\"},\"paper_bgcolor\":\"white\",\"plot_bgcolor\":\"#E5ECF6\",\"polar\":{\"bgcolor\":\"#E5ECF6\",\"angularaxis\":{\"gridcolor\":\"white\",\"linecolor\":\"white\",\"ticks\":\"\"},\"radialaxis\":{\"gridcolor\":\"white\",\"linecolor\":\"white\",\"ticks\":\"\"}},\"ternary\":{\"bgcolor\":\"#E5ECF6\",\"aaxis\":{\"gridcolor\":\"white\",\"linecolor\":\"white\",\"ticks\":\"\"},\"baxis\":{\"gridcolor\":\"white\",\"linecolor\":\"white\",\"ticks\":\"\"},\"caxis\":{\"gridcolor\":\"white\",\"linecolor\":\"white\",\"ticks\":\"\"}},\"coloraxis\":{\"colorbar\":{\"outlinewidth\":0,\"ticks\":\"\"}},\"colorscale\":{\"sequential\":[[0.0,\"#0d0887\"],[0.1111111111111111,\"#46039f\"],[0.2222222222222222,\"#7201a8\"],[0.3333333333333333,\"#9c179e\"],[0.4444444444444444,\"#bd3786\"],[0.5555555555555556,\"#d8576b\"],[0.6666666666666666,\"#ed7953\"],[0.7777777777777778,\"#fb9f3a\"],[0.8888888888888888,\"#fdca26\"],[1.0,\"#f0f921\"]],\"sequentialminus\":[[0.0,\"#0d0887\"],[0.1111111111111111,\"#46039f\"],[0.2222222222222222,\"#7201a8\"],[0.3333333333333333,\"#9c179e\"],[0.4444444444444444,\"#bd3786\"],[0.5555555555555556,\"#d8576b\"],[0.6666666666666666,\"#ed7953\"],[0.7777777777777778,\"#fb9f3a\"],[0.8888888888888888,\"#fdca26\"],[1.0,\"#f0f921\"]],\"diverging\":[[0,\"#8e0152\"],[0.1,\"#c51b7d\"],[0.2,\"#de77ae\"],[0.3,\"#f1b6da\"],[0.4,\"#fde0ef\"],[0.5,\"#f7f7f7\"],[0.6,\"#e6f5d0\"],[0.7,\"#b8e186\"],[0.8,\"#7fbc41\"],[0.9,\"#4d9221\"],[1,\"#276419\"]]},\"xaxis\":{\"gridcolor\":\"white\",\"linecolor\":\"white\",\"ticks\":\"\",\"title\":{\"standoff\":15},\"zerolinecolor\":\"white\",\"automargin\":true,\"zerolinewidth\":2},\"yaxis\":{\"gridcolor\":\"white\",\"linecolor\":\"white\",\"ticks\":\"\",\"title\":{\"standoff\":15},\"zerolinecolor\":\"white\",\"automargin\":true,\"zerolinewidth\":2},\"scene\":{\"xaxis\":{\"backgroundcolor\":\"#E5ECF6\",\"gridcolor\":\"white\",\"linecolor\":\"white\",\"showbackground\":true,\"ticks\":\"\",\"zerolinecolor\":\"white\",\"gridwidth\":2},\"yaxis\":{\"backgroundcolor\":\"#E5ECF6\",\"gridcolor\":\"white\",\"linecolor\":\"white\",\"showbackground\":true,\"ticks\":\"\",\"zerolinecolor\":\"white\",\"gridwidth\":2},\"zaxis\":{\"backgroundcolor\":\"#E5ECF6\",\"gridcolor\":\"white\",\"linecolor\":\"white\",\"showbackground\":true,\"ticks\":\"\",\"zerolinecolor\":\"white\",\"gridwidth\":2}},\"shapedefaults\":{\"line\":{\"color\":\"#2a3f5f\"}},\"annotationdefaults\":{\"arrowcolor\":\"#2a3f5f\",\"arrowhead\":0,\"arrowwidth\":1},\"geo\":{\"bgcolor\":\"white\",\"landcolor\":\"#E5ECF6\",\"subunitcolor\":\"white\",\"showland\":true,\"showlakes\":true,\"lakecolor\":\"white\"},\"title\":{\"x\":0.05},\"mapbox\":{\"style\":\"light\"}}},\"yaxis\":{\"gridcolor\":\"#eee\",\"title\":{\"text\":\"frequency\"},\"rangemode\":\"tozero\"},\"xaxis\":{\"rangemode\":\"tozero\"},\"title\":{\"text\":\"<b>patient_age</b> frequency distribution\"},\"plot_bgcolor\":\"#fff\",\"showlegend\":false,\"height\":500},                        {\"responsive\": true}                    ).then(function(){\n",
       "                            \n",
       "var gd = document.getElementById('75e07865-9df9-40ad-9919-0c05b15d07e1');\n",
       "var x = new MutationObserver(function (mutations, observer) {{\n",
       "        var display = window.getComputedStyle(gd).display;\n",
       "        if (!display || display === 'none') {{\n",
       "            console.log([gd, 'removed!']);\n",
       "            Plotly.purge(gd);\n",
       "            observer.disconnect();\n",
       "        }}\n",
       "}});\n",
       "\n",
       "// Listen for the removal of the full notebook cells\n",
       "var notebookContainer = gd.closest('#notebook-container');\n",
       "if (notebookContainer) {{\n",
       "    x.observe(notebookContainer, {childList: true});\n",
       "}}\n",
       "\n",
       "// Listen for the clearing of the current output cell\n",
       "var outputEl = gd.closest('.output');\n",
       "if (outputEl) {{\n",
       "    x.observe(outputEl, {childList: true});\n",
       "}}\n",
       "\n",
       "                        })                };                });            </script>        </div>"
      ]
     },
     "metadata": {},
     "output_type": "display_data"
    }
   ],
   "source": [
    "num_freq_plot(regexp_age_1_extracts, 'patient_age')"
   ]
  },
  {
   "cell_type": "code",
   "execution_count": 271,
   "id": "3624b48d-6d40-420d-9c24-bf8fa84ec741",
   "metadata": {},
   "outputs": [
    {
     "name": "stdout",
     "output_type": "stream",
     "text": [
      "\n",
      "\n",
      "----------------\n",
      "Extracted value:\n",
      "Age = 84\n",
      "\n",
      "Full text:\n",
      "Is it ethical (or legal) for a doctor to advise family members to NOT call 911 if a dementia patient has a medical emergency because they \"have no quality of life\"? | Age: 84\n",
      "Sex: M\n",
      "Height: 5.8\n",
      "Weight: 140\n",
      "Race: white\n",
      "Duration: 5 years\n",
      "Location: not relevant\n",
      "Relevant Medical Issues: dementia, heart attack, stroke, enlarged prostate\n",
      "Current Meds: Flomax, Coreg, Tranxene, aspirin\n",
      "\n",
      "Url:\n",
      "https://www.reddit.com/r/AskDocs/comments/6bhkn7/is_it_ethical_or_legal_for_a_doctor_to_advise/\n"
     ]
    }
   ],
   "source": [
    "in_range_ind = regexp_age_1_extracts[\n",
    "    (regexp_age_1_extracts['patient_age'] > 80)\n",
    "].index\n",
    "\n",
    "for i in in_range_ind[:5]:\n",
    "    print('\\n\\n----------------')\n",
    "    print('Extracted value:')\n",
    "    print(f'''Age = {regexp_age_1_extracts['patient_age'].loc[i]}''')\n",
    "\n",
    "    print('\\nFull text:')\n",
    "    print(df_sample2['full_post_text'].loc[i])\n",
    "    print('\\nUrl:')\n",
    "    print(df_sample2['url'].loc[i])"
   ]
  },
  {
   "cell_type": "markdown",
   "id": "d69c02ad-0f02-4015-b1dd-33160bba29d6",
   "metadata": {},
   "source": [
    "From testing in the above, we don't need to filter out out-of-range values here."
   ]
  },
  {
   "cell_type": "markdown",
   "id": "9563843d-ac13-4aa6-b6f6-46245d62822f",
   "metadata": {},
   "source": [
    "This pattern matches the following proportion of the data sample:"
   ]
  },
  {
   "cell_type": "code",
   "execution_count": 272,
   "id": "85f447b9-478e-4d1a-a965-cd309559150e",
   "metadata": {},
   "outputs": [
    {
     "data": {
      "text/plain": [
       "0.0942"
      ]
     },
     "execution_count": 272,
     "metadata": {},
     "output_type": "execute_result"
    }
   ],
   "source": [
    "len(regexp_age_1_extracts)/len(df_sample2)"
   ]
  },
  {
   "cell_type": "code",
   "execution_count": 273,
   "id": "4570536c-bb80-4bdb-b762-55e4576b072d",
   "metadata": {},
   "outputs": [],
   "source": [
    "remainder_age_only = remainder[\n",
    "    ~remainder.index.isin(regexp_age_1_extracts.index)\n",
    "].copy()"
   ]
  },
  {
   "cell_type": "code",
   "execution_count": 274,
   "id": "9396820c-13e7-489f-b41f-1dc86a0029da",
   "metadata": {},
   "outputs": [
    {
     "data": {
      "text/plain": [
       "4899"
      ]
     },
     "execution_count": 274,
     "metadata": {},
     "output_type": "execute_result"
    }
   ],
   "source": [
    "len(remainder_age_only)"
   ]
  },
  {
   "cell_type": "code",
   "execution_count": 275,
   "id": "2b52d7b1-1cb5-446b-a417-3d6f86c70581",
   "metadata": {},
   "outputs": [
    {
     "data": {
      "text/plain": [
       "0.4899"
      ]
     },
     "execution_count": 275,
     "metadata": {},
     "output_type": "execute_result"
    }
   ],
   "source": [
    "len(remainder_age_only)/len(df_sample2)"
   ]
  },
  {
   "cell_type": "markdown",
   "id": "c270a7d3-c4b1-4b04-8dc7-061a216dcf07",
   "metadata": {},
   "source": [
    "### Age pattern 2"
   ]
  },
  {
   "cell_type": "code",
   "execution_count": 276,
   "id": "64d9b995-1586-4339-91db-af70863a1998",
   "metadata": {},
   "outputs": [],
   "source": [
    "regexp_age_2 = r'''\\b([1-9]\\d?)[ \\-]?ye?a?rs?-? ?old\\b'''\n",
    "\n",
    "regexp_age_2_extracts = remainder_age_only['full_post_text'].str.extract(\n",
    "        regexp_age_2,\n",
    "        flags=re.IGNORECASE\n",
    "    ).rename(columns={\n",
    "        0: 'patient_age'\n",
    "    })\n",
    "\n",
    "regexp_age_2_extracts.dropna(inplace=True)\n",
    "\n",
    "regexp_age_2_extracts['patient_age'] = \\\n",
    "    regexp_age_2_extracts['patient_age'].astype('int')"
   ]
  },
  {
   "cell_type": "code",
   "execution_count": 277,
   "id": "928f1af4-893f-4478-803d-63b75bcdf535",
   "metadata": {},
   "outputs": [
    {
     "data": {
      "text/plain": [
       "0.0556"
      ]
     },
     "execution_count": 277,
     "metadata": {},
     "output_type": "execute_result"
    }
   ],
   "source": [
    "len(regexp_age_2_extracts)/len(df_sample2)"
   ]
  },
  {
   "cell_type": "code",
   "execution_count": 278,
   "id": "fe3afccb-3b81-4025-a371-7601bb8c98fd",
   "metadata": {},
   "outputs": [
    {
     "data": {
      "text/html": [
       "<div>\n",
       "<style scoped>\n",
       "    .dataframe tbody tr th:only-of-type {\n",
       "        vertical-align: middle;\n",
       "    }\n",
       "\n",
       "    .dataframe tbody tr th {\n",
       "        vertical-align: top;\n",
       "    }\n",
       "\n",
       "    .dataframe thead th {\n",
       "        text-align: right;\n",
       "    }\n",
       "</style>\n",
       "<table border=\"1\" class=\"dataframe\">\n",
       "  <thead>\n",
       "    <tr style=\"text-align: right;\">\n",
       "      <th></th>\n",
       "      <th>patient_age</th>\n",
       "    </tr>\n",
       "  </thead>\n",
       "  <tbody>\n",
       "    <tr>\n",
       "      <th>count</th>\n",
       "      <td>556.000000</td>\n",
       "    </tr>\n",
       "    <tr>\n",
       "      <th>mean</th>\n",
       "      <td>25.023381</td>\n",
       "    </tr>\n",
       "    <tr>\n",
       "      <th>std</th>\n",
       "      <td>12.402172</td>\n",
       "    </tr>\n",
       "    <tr>\n",
       "      <th>min</th>\n",
       "      <td>1.000000</td>\n",
       "    </tr>\n",
       "    <tr>\n",
       "      <th>25%</th>\n",
       "      <td>19.000000</td>\n",
       "    </tr>\n",
       "    <tr>\n",
       "      <th>50%</th>\n",
       "      <td>23.000000</td>\n",
       "    </tr>\n",
       "    <tr>\n",
       "      <th>75%</th>\n",
       "      <td>28.000000</td>\n",
       "    </tr>\n",
       "    <tr>\n",
       "      <th>max</th>\n",
       "      <td>98.000000</td>\n",
       "    </tr>\n",
       "  </tbody>\n",
       "</table>\n",
       "</div>"
      ],
      "text/plain": [
       "       patient_age\n",
       "count   556.000000\n",
       "mean     25.023381\n",
       "std      12.402172\n",
       "min       1.000000\n",
       "25%      19.000000\n",
       "50%      23.000000\n",
       "75%      28.000000\n",
       "max      98.000000"
      ]
     },
     "execution_count": 278,
     "metadata": {},
     "output_type": "execute_result"
    }
   ],
   "source": [
    "regexp_age_2_extracts.describe(include='all')"
   ]
  },
  {
   "cell_type": "code",
   "execution_count": 279,
   "id": "6651b77b-83fa-4031-b1c9-77f7595d010f",
   "metadata": {},
   "outputs": [
    {
     "data": {
      "text/plain": [
       "patient_age\n",
       "1     1\n",
       "2     1\n",
       "3     3\n",
       "4     2\n",
       "5     5\n",
       "     ..\n",
       "79    1\n",
       "81    1\n",
       "95    1\n",
       "97    1\n",
       "98    1\n",
       "Name: count, Length: 64, dtype: int64"
      ]
     },
     "execution_count": 279,
     "metadata": {},
     "output_type": "execute_result"
    }
   ],
   "source": [
    "regexp_age_2_extracts['patient_age'].value_counts().sort_index()"
   ]
  },
  {
   "cell_type": "code",
   "execution_count": 280,
   "id": "cc9aff89-3e27-4b6e-9957-c53b0640bd33",
   "metadata": {},
   "outputs": [
    {
     "data": {
      "application/vnd.plotly.v1+json": {
       "config": {
        "plotlyServerURL": "https://plotly.com"
       },
       "data": [
        {
         "hovertemplate": "Value: %{x:,}<br>Frequency: %{y:,}<br><extra></extra>",
         "hovertext": [
          1,
          2,
          3,
          4,
          5,
          6,
          7,
          8,
          9,
          10,
          11,
          12,
          13,
          14,
          15,
          16,
          17,
          18,
          19,
          20,
          21,
          22,
          23,
          24,
          25,
          26,
          27,
          28,
          29,
          30,
          31,
          32,
          33,
          34,
          35,
          36,
          37,
          38,
          39,
          40,
          41,
          43,
          44,
          48,
          50,
          51,
          52,
          54,
          55,
          59,
          60,
          62,
          63,
          64,
          65,
          70,
          71,
          72,
          75,
          79,
          81,
          95,
          97,
          98
         ],
         "type": "bar",
         "x": [
          1,
          2,
          3,
          4,
          5,
          6,
          7,
          8,
          9,
          10,
          11,
          12,
          13,
          14,
          15,
          16,
          17,
          18,
          19,
          20,
          21,
          22,
          23,
          24,
          25,
          26,
          27,
          28,
          29,
          30,
          31,
          32,
          33,
          34,
          35,
          36,
          37,
          38,
          39,
          40,
          41,
          43,
          44,
          48,
          50,
          51,
          52,
          54,
          55,
          59,
          60,
          62,
          63,
          64,
          65,
          70,
          71,
          72,
          75,
          79,
          81,
          95,
          97,
          98
         ],
         "y": [
          1,
          1,
          3,
          2,
          5,
          2,
          1,
          2,
          5,
          3,
          3,
          1,
          7,
          6,
          16,
          24,
          17,
          32,
          43,
          39,
          31,
          30,
          28,
          37,
          33,
          19,
          15,
          20,
          13,
          19,
          9,
          14,
          5,
          8,
          5,
          4,
          2,
          4,
          4,
          5,
          1,
          5,
          1,
          1,
          3,
          2,
          2,
          1,
          1,
          1,
          3,
          1,
          1,
          2,
          2,
          3,
          1,
          1,
          1,
          1,
          1,
          1,
          1,
          1
         ]
        }
       ],
       "layout": {
        "autosize": true,
        "plot_bgcolor": "#fff",
        "showlegend": false,
        "template": {
         "data": {
          "bar": [
           {
            "error_x": {
             "color": "#2a3f5f"
            },
            "error_y": {
             "color": "#2a3f5f"
            },
            "marker": {
             "line": {
              "color": "#E5ECF6",
              "width": 0.5
             },
             "pattern": {
              "fillmode": "overlay",
              "size": 10,
              "solidity": 0.2
             }
            },
            "type": "bar"
           }
          ],
          "barpolar": [
           {
            "marker": {
             "line": {
              "color": "#E5ECF6",
              "width": 0.5
             },
             "pattern": {
              "fillmode": "overlay",
              "size": 10,
              "solidity": 0.2
             }
            },
            "type": "barpolar"
           }
          ],
          "carpet": [
           {
            "aaxis": {
             "endlinecolor": "#2a3f5f",
             "gridcolor": "white",
             "linecolor": "white",
             "minorgridcolor": "white",
             "startlinecolor": "#2a3f5f"
            },
            "baxis": {
             "endlinecolor": "#2a3f5f",
             "gridcolor": "white",
             "linecolor": "white",
             "minorgridcolor": "white",
             "startlinecolor": "#2a3f5f"
            },
            "type": "carpet"
           }
          ],
          "choropleth": [
           {
            "colorbar": {
             "outlinewidth": 0,
             "ticks": ""
            },
            "type": "choropleth"
           }
          ],
          "contour": [
           {
            "colorbar": {
             "outlinewidth": 0,
             "ticks": ""
            },
            "colorscale": [
             [
              0,
              "#0d0887"
             ],
             [
              0.1111111111111111,
              "#46039f"
             ],
             [
              0.2222222222222222,
              "#7201a8"
             ],
             [
              0.3333333333333333,
              "#9c179e"
             ],
             [
              0.4444444444444444,
              "#bd3786"
             ],
             [
              0.5555555555555556,
              "#d8576b"
             ],
             [
              0.6666666666666666,
              "#ed7953"
             ],
             [
              0.7777777777777778,
              "#fb9f3a"
             ],
             [
              0.8888888888888888,
              "#fdca26"
             ],
             [
              1,
              "#f0f921"
             ]
            ],
            "type": "contour"
           }
          ],
          "contourcarpet": [
           {
            "colorbar": {
             "outlinewidth": 0,
             "ticks": ""
            },
            "type": "contourcarpet"
           }
          ],
          "heatmap": [
           {
            "colorbar": {
             "outlinewidth": 0,
             "ticks": ""
            },
            "colorscale": [
             [
              0,
              "#0d0887"
             ],
             [
              0.1111111111111111,
              "#46039f"
             ],
             [
              0.2222222222222222,
              "#7201a8"
             ],
             [
              0.3333333333333333,
              "#9c179e"
             ],
             [
              0.4444444444444444,
              "#bd3786"
             ],
             [
              0.5555555555555556,
              "#d8576b"
             ],
             [
              0.6666666666666666,
              "#ed7953"
             ],
             [
              0.7777777777777778,
              "#fb9f3a"
             ],
             [
              0.8888888888888888,
              "#fdca26"
             ],
             [
              1,
              "#f0f921"
             ]
            ],
            "type": "heatmap"
           }
          ],
          "heatmapgl": [
           {
            "colorbar": {
             "outlinewidth": 0,
             "ticks": ""
            },
            "colorscale": [
             [
              0,
              "#0d0887"
             ],
             [
              0.1111111111111111,
              "#46039f"
             ],
             [
              0.2222222222222222,
              "#7201a8"
             ],
             [
              0.3333333333333333,
              "#9c179e"
             ],
             [
              0.4444444444444444,
              "#bd3786"
             ],
             [
              0.5555555555555556,
              "#d8576b"
             ],
             [
              0.6666666666666666,
              "#ed7953"
             ],
             [
              0.7777777777777778,
              "#fb9f3a"
             ],
             [
              0.8888888888888888,
              "#fdca26"
             ],
             [
              1,
              "#f0f921"
             ]
            ],
            "type": "heatmapgl"
           }
          ],
          "histogram": [
           {
            "marker": {
             "pattern": {
              "fillmode": "overlay",
              "size": 10,
              "solidity": 0.2
             }
            },
            "type": "histogram"
           }
          ],
          "histogram2d": [
           {
            "colorbar": {
             "outlinewidth": 0,
             "ticks": ""
            },
            "colorscale": [
             [
              0,
              "#0d0887"
             ],
             [
              0.1111111111111111,
              "#46039f"
             ],
             [
              0.2222222222222222,
              "#7201a8"
             ],
             [
              0.3333333333333333,
              "#9c179e"
             ],
             [
              0.4444444444444444,
              "#bd3786"
             ],
             [
              0.5555555555555556,
              "#d8576b"
             ],
             [
              0.6666666666666666,
              "#ed7953"
             ],
             [
              0.7777777777777778,
              "#fb9f3a"
             ],
             [
              0.8888888888888888,
              "#fdca26"
             ],
             [
              1,
              "#f0f921"
             ]
            ],
            "type": "histogram2d"
           }
          ],
          "histogram2dcontour": [
           {
            "colorbar": {
             "outlinewidth": 0,
             "ticks": ""
            },
            "colorscale": [
             [
              0,
              "#0d0887"
             ],
             [
              0.1111111111111111,
              "#46039f"
             ],
             [
              0.2222222222222222,
              "#7201a8"
             ],
             [
              0.3333333333333333,
              "#9c179e"
             ],
             [
              0.4444444444444444,
              "#bd3786"
             ],
             [
              0.5555555555555556,
              "#d8576b"
             ],
             [
              0.6666666666666666,
              "#ed7953"
             ],
             [
              0.7777777777777778,
              "#fb9f3a"
             ],
             [
              0.8888888888888888,
              "#fdca26"
             ],
             [
              1,
              "#f0f921"
             ]
            ],
            "type": "histogram2dcontour"
           }
          ],
          "mesh3d": [
           {
            "colorbar": {
             "outlinewidth": 0,
             "ticks": ""
            },
            "type": "mesh3d"
           }
          ],
          "parcoords": [
           {
            "line": {
             "colorbar": {
              "outlinewidth": 0,
              "ticks": ""
             }
            },
            "type": "parcoords"
           }
          ],
          "pie": [
           {
            "automargin": true,
            "type": "pie"
           }
          ],
          "scatter": [
           {
            "fillpattern": {
             "fillmode": "overlay",
             "size": 10,
             "solidity": 0.2
            },
            "type": "scatter"
           }
          ],
          "scatter3d": [
           {
            "line": {
             "colorbar": {
              "outlinewidth": 0,
              "ticks": ""
             }
            },
            "marker": {
             "colorbar": {
              "outlinewidth": 0,
              "ticks": ""
             }
            },
            "type": "scatter3d"
           }
          ],
          "scattercarpet": [
           {
            "marker": {
             "colorbar": {
              "outlinewidth": 0,
              "ticks": ""
             }
            },
            "type": "scattercarpet"
           }
          ],
          "scattergeo": [
           {
            "marker": {
             "colorbar": {
              "outlinewidth": 0,
              "ticks": ""
             }
            },
            "type": "scattergeo"
           }
          ],
          "scattergl": [
           {
            "marker": {
             "colorbar": {
              "outlinewidth": 0,
              "ticks": ""
             }
            },
            "type": "scattergl"
           }
          ],
          "scattermapbox": [
           {
            "marker": {
             "colorbar": {
              "outlinewidth": 0,
              "ticks": ""
             }
            },
            "type": "scattermapbox"
           }
          ],
          "scatterpolar": [
           {
            "marker": {
             "colorbar": {
              "outlinewidth": 0,
              "ticks": ""
             }
            },
            "type": "scatterpolar"
           }
          ],
          "scatterpolargl": [
           {
            "marker": {
             "colorbar": {
              "outlinewidth": 0,
              "ticks": ""
             }
            },
            "type": "scatterpolargl"
           }
          ],
          "scatterternary": [
           {
            "marker": {
             "colorbar": {
              "outlinewidth": 0,
              "ticks": ""
             }
            },
            "type": "scatterternary"
           }
          ],
          "surface": [
           {
            "colorbar": {
             "outlinewidth": 0,
             "ticks": ""
            },
            "colorscale": [
             [
              0,
              "#0d0887"
             ],
             [
              0.1111111111111111,
              "#46039f"
             ],
             [
              0.2222222222222222,
              "#7201a8"
             ],
             [
              0.3333333333333333,
              "#9c179e"
             ],
             [
              0.4444444444444444,
              "#bd3786"
             ],
             [
              0.5555555555555556,
              "#d8576b"
             ],
             [
              0.6666666666666666,
              "#ed7953"
             ],
             [
              0.7777777777777778,
              "#fb9f3a"
             ],
             [
              0.8888888888888888,
              "#fdca26"
             ],
             [
              1,
              "#f0f921"
             ]
            ],
            "type": "surface"
           }
          ],
          "table": [
           {
            "cells": {
             "fill": {
              "color": "#EBF0F8"
             },
             "line": {
              "color": "white"
             }
            },
            "header": {
             "fill": {
              "color": "#C8D4E3"
             },
             "line": {
              "color": "white"
             }
            },
            "type": "table"
           }
          ]
         },
         "layout": {
          "annotationdefaults": {
           "arrowcolor": "#2a3f5f",
           "arrowhead": 0,
           "arrowwidth": 1
          },
          "autotypenumbers": "strict",
          "coloraxis": {
           "colorbar": {
            "outlinewidth": 0,
            "ticks": ""
           }
          },
          "colorscale": {
           "diverging": [
            [
             0,
             "#8e0152"
            ],
            [
             0.1,
             "#c51b7d"
            ],
            [
             0.2,
             "#de77ae"
            ],
            [
             0.3,
             "#f1b6da"
            ],
            [
             0.4,
             "#fde0ef"
            ],
            [
             0.5,
             "#f7f7f7"
            ],
            [
             0.6,
             "#e6f5d0"
            ],
            [
             0.7,
             "#b8e186"
            ],
            [
             0.8,
             "#7fbc41"
            ],
            [
             0.9,
             "#4d9221"
            ],
            [
             1,
             "#276419"
            ]
           ],
           "sequential": [
            [
             0,
             "#0d0887"
            ],
            [
             0.1111111111111111,
             "#46039f"
            ],
            [
             0.2222222222222222,
             "#7201a8"
            ],
            [
             0.3333333333333333,
             "#9c179e"
            ],
            [
             0.4444444444444444,
             "#bd3786"
            ],
            [
             0.5555555555555556,
             "#d8576b"
            ],
            [
             0.6666666666666666,
             "#ed7953"
            ],
            [
             0.7777777777777778,
             "#fb9f3a"
            ],
            [
             0.8888888888888888,
             "#fdca26"
            ],
            [
             1,
             "#f0f921"
            ]
           ],
           "sequentialminus": [
            [
             0,
             "#0d0887"
            ],
            [
             0.1111111111111111,
             "#46039f"
            ],
            [
             0.2222222222222222,
             "#7201a8"
            ],
            [
             0.3333333333333333,
             "#9c179e"
            ],
            [
             0.4444444444444444,
             "#bd3786"
            ],
            [
             0.5555555555555556,
             "#d8576b"
            ],
            [
             0.6666666666666666,
             "#ed7953"
            ],
            [
             0.7777777777777778,
             "#fb9f3a"
            ],
            [
             0.8888888888888888,
             "#fdca26"
            ],
            [
             1,
             "#f0f921"
            ]
           ]
          },
          "colorway": [
           "#636efa",
           "#EF553B",
           "#00cc96",
           "#ab63fa",
           "#FFA15A",
           "#19d3f3",
           "#FF6692",
           "#B6E880",
           "#FF97FF",
           "#FECB52"
          ],
          "font": {
           "color": "#2a3f5f"
          },
          "geo": {
           "bgcolor": "white",
           "lakecolor": "white",
           "landcolor": "#E5ECF6",
           "showlakes": true,
           "showland": true,
           "subunitcolor": "white"
          },
          "hoverlabel": {
           "align": "left"
          },
          "hovermode": "closest",
          "mapbox": {
           "style": "light"
          },
          "paper_bgcolor": "white",
          "plot_bgcolor": "#E5ECF6",
          "polar": {
           "angularaxis": {
            "gridcolor": "white",
            "linecolor": "white",
            "ticks": ""
           },
           "bgcolor": "#E5ECF6",
           "radialaxis": {
            "gridcolor": "white",
            "linecolor": "white",
            "ticks": ""
           }
          },
          "scene": {
           "xaxis": {
            "backgroundcolor": "#E5ECF6",
            "gridcolor": "white",
            "gridwidth": 2,
            "linecolor": "white",
            "showbackground": true,
            "ticks": "",
            "zerolinecolor": "white"
           },
           "yaxis": {
            "backgroundcolor": "#E5ECF6",
            "gridcolor": "white",
            "gridwidth": 2,
            "linecolor": "white",
            "showbackground": true,
            "ticks": "",
            "zerolinecolor": "white"
           },
           "zaxis": {
            "backgroundcolor": "#E5ECF6",
            "gridcolor": "white",
            "gridwidth": 2,
            "linecolor": "white",
            "showbackground": true,
            "ticks": "",
            "zerolinecolor": "white"
           }
          },
          "shapedefaults": {
           "line": {
            "color": "#2a3f5f"
           }
          },
          "ternary": {
           "aaxis": {
            "gridcolor": "white",
            "linecolor": "white",
            "ticks": ""
           },
           "baxis": {
            "gridcolor": "white",
            "linecolor": "white",
            "ticks": ""
           },
           "bgcolor": "#E5ECF6",
           "caxis": {
            "gridcolor": "white",
            "linecolor": "white",
            "ticks": ""
           }
          },
          "title": {
           "x": 0.05
          },
          "xaxis": {
           "automargin": true,
           "gridcolor": "white",
           "linecolor": "white",
           "ticks": "",
           "title": {
            "standoff": 15
           },
           "zerolinecolor": "white",
           "zerolinewidth": 2
          },
          "yaxis": {
           "automargin": true,
           "gridcolor": "white",
           "linecolor": "white",
           "ticks": "",
           "title": {
            "standoff": 15
           },
           "zerolinecolor": "white",
           "zerolinewidth": 2
          }
         }
        },
        "title": {
         "text": "<b>patient_age</b> frequency distribution"
        },
        "xaxis": {
         "autorange": true,
         "range": [
          0,
          98.5
         ],
         "rangemode": "tozero",
         "type": "linear"
        },
        "yaxis": {
         "autorange": true,
         "gridcolor": "#eee",
         "range": [
          0,
          45.26315789473684
         ],
         "rangemode": "tozero",
         "title": {
          "text": "frequency"
         },
         "type": "linear"
        }
       }
      },
      "text/html": [
       "<div>                            <div id=\"efafc29f-79f5-490b-b09d-a90aec2673f7\" class=\"plotly-graph-div\" style=\"height:500px; width:100%;\"></div>            <script type=\"text/javascript\">                require([\"plotly\"], function(Plotly) {                    window.PLOTLYENV=window.PLOTLYENV || {};                                    if (document.getElementById(\"efafc29f-79f5-490b-b09d-a90aec2673f7\")) {                    Plotly.newPlot(                        \"efafc29f-79f5-490b-b09d-a90aec2673f7\",                        [{\"hovertemplate\":\"Value: %{x:,}<br>Frequency: %{y:,}<br><extra></extra>\",\"hovertext\":[1.0,2.0,3.0,4.0,5.0,6.0,7.0,8.0,9.0,10.0,11.0,12.0,13.0,14.0,15.0,16.0,17.0,18.0,19.0,20.0,21.0,22.0,23.0,24.0,25.0,26.0,27.0,28.0,29.0,30.0,31.0,32.0,33.0,34.0,35.0,36.0,37.0,38.0,39.0,40.0,41.0,43.0,44.0,48.0,50.0,51.0,52.0,54.0,55.0,59.0,60.0,62.0,63.0,64.0,65.0,70.0,71.0,72.0,75.0,79.0,81.0,95.0,97.0,98.0],\"x\":[1,2,3,4,5,6,7,8,9,10,11,12,13,14,15,16,17,18,19,20,21,22,23,24,25,26,27,28,29,30,31,32,33,34,35,36,37,38,39,40,41,43,44,48,50,51,52,54,55,59,60,62,63,64,65,70,71,72,75,79,81,95,97,98],\"y\":[1,1,3,2,5,2,1,2,5,3,3,1,7,6,16,24,17,32,43,39,31,30,28,37,33,19,15,20,13,19,9,14,5,8,5,4,2,4,4,5,1,5,1,1,3,2,2,1,1,1,3,1,1,2,2,3,1,1,1,1,1,1,1,1],\"type\":\"bar\"}],                        {\"template\":{\"data\":{\"histogram2dcontour\":[{\"type\":\"histogram2dcontour\",\"colorbar\":{\"outlinewidth\":0,\"ticks\":\"\"},\"colorscale\":[[0.0,\"#0d0887\"],[0.1111111111111111,\"#46039f\"],[0.2222222222222222,\"#7201a8\"],[0.3333333333333333,\"#9c179e\"],[0.4444444444444444,\"#bd3786\"],[0.5555555555555556,\"#d8576b\"],[0.6666666666666666,\"#ed7953\"],[0.7777777777777778,\"#fb9f3a\"],[0.8888888888888888,\"#fdca26\"],[1.0,\"#f0f921\"]]}],\"choropleth\":[{\"type\":\"choropleth\",\"colorbar\":{\"outlinewidth\":0,\"ticks\":\"\"}}],\"histogram2d\":[{\"type\":\"histogram2d\",\"colorbar\":{\"outlinewidth\":0,\"ticks\":\"\"},\"colorscale\":[[0.0,\"#0d0887\"],[0.1111111111111111,\"#46039f\"],[0.2222222222222222,\"#7201a8\"],[0.3333333333333333,\"#9c179e\"],[0.4444444444444444,\"#bd3786\"],[0.5555555555555556,\"#d8576b\"],[0.6666666666666666,\"#ed7953\"],[0.7777777777777778,\"#fb9f3a\"],[0.8888888888888888,\"#fdca26\"],[1.0,\"#f0f921\"]]}],\"heatmap\":[{\"type\":\"heatmap\",\"colorbar\":{\"outlinewidth\":0,\"ticks\":\"\"},\"colorscale\":[[0.0,\"#0d0887\"],[0.1111111111111111,\"#46039f\"],[0.2222222222222222,\"#7201a8\"],[0.3333333333333333,\"#9c179e\"],[0.4444444444444444,\"#bd3786\"],[0.5555555555555556,\"#d8576b\"],[0.6666666666666666,\"#ed7953\"],[0.7777777777777778,\"#fb9f3a\"],[0.8888888888888888,\"#fdca26\"],[1.0,\"#f0f921\"]]}],\"heatmapgl\":[{\"type\":\"heatmapgl\",\"colorbar\":{\"outlinewidth\":0,\"ticks\":\"\"},\"colorscale\":[[0.0,\"#0d0887\"],[0.1111111111111111,\"#46039f\"],[0.2222222222222222,\"#7201a8\"],[0.3333333333333333,\"#9c179e\"],[0.4444444444444444,\"#bd3786\"],[0.5555555555555556,\"#d8576b\"],[0.6666666666666666,\"#ed7953\"],[0.7777777777777778,\"#fb9f3a\"],[0.8888888888888888,\"#fdca26\"],[1.0,\"#f0f921\"]]}],\"contourcarpet\":[{\"type\":\"contourcarpet\",\"colorbar\":{\"outlinewidth\":0,\"ticks\":\"\"}}],\"contour\":[{\"type\":\"contour\",\"colorbar\":{\"outlinewidth\":0,\"ticks\":\"\"},\"colorscale\":[[0.0,\"#0d0887\"],[0.1111111111111111,\"#46039f\"],[0.2222222222222222,\"#7201a8\"],[0.3333333333333333,\"#9c179e\"],[0.4444444444444444,\"#bd3786\"],[0.5555555555555556,\"#d8576b\"],[0.6666666666666666,\"#ed7953\"],[0.7777777777777778,\"#fb9f3a\"],[0.8888888888888888,\"#fdca26\"],[1.0,\"#f0f921\"]]}],\"surface\":[{\"type\":\"surface\",\"colorbar\":{\"outlinewidth\":0,\"ticks\":\"\"},\"colorscale\":[[0.0,\"#0d0887\"],[0.1111111111111111,\"#46039f\"],[0.2222222222222222,\"#7201a8\"],[0.3333333333333333,\"#9c179e\"],[0.4444444444444444,\"#bd3786\"],[0.5555555555555556,\"#d8576b\"],[0.6666666666666666,\"#ed7953\"],[0.7777777777777778,\"#fb9f3a\"],[0.8888888888888888,\"#fdca26\"],[1.0,\"#f0f921\"]]}],\"mesh3d\":[{\"type\":\"mesh3d\",\"colorbar\":{\"outlinewidth\":0,\"ticks\":\"\"}}],\"scatter\":[{\"fillpattern\":{\"fillmode\":\"overlay\",\"size\":10,\"solidity\":0.2},\"type\":\"scatter\"}],\"parcoords\":[{\"type\":\"parcoords\",\"line\":{\"colorbar\":{\"outlinewidth\":0,\"ticks\":\"\"}}}],\"scatterpolargl\":[{\"type\":\"scatterpolargl\",\"marker\":{\"colorbar\":{\"outlinewidth\":0,\"ticks\":\"\"}}}],\"bar\":[{\"error_x\":{\"color\":\"#2a3f5f\"},\"error_y\":{\"color\":\"#2a3f5f\"},\"marker\":{\"line\":{\"color\":\"#E5ECF6\",\"width\":0.5},\"pattern\":{\"fillmode\":\"overlay\",\"size\":10,\"solidity\":0.2}},\"type\":\"bar\"}],\"scattergeo\":[{\"type\":\"scattergeo\",\"marker\":{\"colorbar\":{\"outlinewidth\":0,\"ticks\":\"\"}}}],\"scatterpolar\":[{\"type\":\"scatterpolar\",\"marker\":{\"colorbar\":{\"outlinewidth\":0,\"ticks\":\"\"}}}],\"histogram\":[{\"marker\":{\"pattern\":{\"fillmode\":\"overlay\",\"size\":10,\"solidity\":0.2}},\"type\":\"histogram\"}],\"scattergl\":[{\"type\":\"scattergl\",\"marker\":{\"colorbar\":{\"outlinewidth\":0,\"ticks\":\"\"}}}],\"scatter3d\":[{\"type\":\"scatter3d\",\"line\":{\"colorbar\":{\"outlinewidth\":0,\"ticks\":\"\"}},\"marker\":{\"colorbar\":{\"outlinewidth\":0,\"ticks\":\"\"}}}],\"scattermapbox\":[{\"type\":\"scattermapbox\",\"marker\":{\"colorbar\":{\"outlinewidth\":0,\"ticks\":\"\"}}}],\"scatterternary\":[{\"type\":\"scatterternary\",\"marker\":{\"colorbar\":{\"outlinewidth\":0,\"ticks\":\"\"}}}],\"scattercarpet\":[{\"type\":\"scattercarpet\",\"marker\":{\"colorbar\":{\"outlinewidth\":0,\"ticks\":\"\"}}}],\"carpet\":[{\"aaxis\":{\"endlinecolor\":\"#2a3f5f\",\"gridcolor\":\"white\",\"linecolor\":\"white\",\"minorgridcolor\":\"white\",\"startlinecolor\":\"#2a3f5f\"},\"baxis\":{\"endlinecolor\":\"#2a3f5f\",\"gridcolor\":\"white\",\"linecolor\":\"white\",\"minorgridcolor\":\"white\",\"startlinecolor\":\"#2a3f5f\"},\"type\":\"carpet\"}],\"table\":[{\"cells\":{\"fill\":{\"color\":\"#EBF0F8\"},\"line\":{\"color\":\"white\"}},\"header\":{\"fill\":{\"color\":\"#C8D4E3\"},\"line\":{\"color\":\"white\"}},\"type\":\"table\"}],\"barpolar\":[{\"marker\":{\"line\":{\"color\":\"#E5ECF6\",\"width\":0.5},\"pattern\":{\"fillmode\":\"overlay\",\"size\":10,\"solidity\":0.2}},\"type\":\"barpolar\"}],\"pie\":[{\"automargin\":true,\"type\":\"pie\"}]},\"layout\":{\"autotypenumbers\":\"strict\",\"colorway\":[\"#636efa\",\"#EF553B\",\"#00cc96\",\"#ab63fa\",\"#FFA15A\",\"#19d3f3\",\"#FF6692\",\"#B6E880\",\"#FF97FF\",\"#FECB52\"],\"font\":{\"color\":\"#2a3f5f\"},\"hovermode\":\"closest\",\"hoverlabel\":{\"align\":\"left\"},\"paper_bgcolor\":\"white\",\"plot_bgcolor\":\"#E5ECF6\",\"polar\":{\"bgcolor\":\"#E5ECF6\",\"angularaxis\":{\"gridcolor\":\"white\",\"linecolor\":\"white\",\"ticks\":\"\"},\"radialaxis\":{\"gridcolor\":\"white\",\"linecolor\":\"white\",\"ticks\":\"\"}},\"ternary\":{\"bgcolor\":\"#E5ECF6\",\"aaxis\":{\"gridcolor\":\"white\",\"linecolor\":\"white\",\"ticks\":\"\"},\"baxis\":{\"gridcolor\":\"white\",\"linecolor\":\"white\",\"ticks\":\"\"},\"caxis\":{\"gridcolor\":\"white\",\"linecolor\":\"white\",\"ticks\":\"\"}},\"coloraxis\":{\"colorbar\":{\"outlinewidth\":0,\"ticks\":\"\"}},\"colorscale\":{\"sequential\":[[0.0,\"#0d0887\"],[0.1111111111111111,\"#46039f\"],[0.2222222222222222,\"#7201a8\"],[0.3333333333333333,\"#9c179e\"],[0.4444444444444444,\"#bd3786\"],[0.5555555555555556,\"#d8576b\"],[0.6666666666666666,\"#ed7953\"],[0.7777777777777778,\"#fb9f3a\"],[0.8888888888888888,\"#fdca26\"],[1.0,\"#f0f921\"]],\"sequentialminus\":[[0.0,\"#0d0887\"],[0.1111111111111111,\"#46039f\"],[0.2222222222222222,\"#7201a8\"],[0.3333333333333333,\"#9c179e\"],[0.4444444444444444,\"#bd3786\"],[0.5555555555555556,\"#d8576b\"],[0.6666666666666666,\"#ed7953\"],[0.7777777777777778,\"#fb9f3a\"],[0.8888888888888888,\"#fdca26\"],[1.0,\"#f0f921\"]],\"diverging\":[[0,\"#8e0152\"],[0.1,\"#c51b7d\"],[0.2,\"#de77ae\"],[0.3,\"#f1b6da\"],[0.4,\"#fde0ef\"],[0.5,\"#f7f7f7\"],[0.6,\"#e6f5d0\"],[0.7,\"#b8e186\"],[0.8,\"#7fbc41\"],[0.9,\"#4d9221\"],[1,\"#276419\"]]},\"xaxis\":{\"gridcolor\":\"white\",\"linecolor\":\"white\",\"ticks\":\"\",\"title\":{\"standoff\":15},\"zerolinecolor\":\"white\",\"automargin\":true,\"zerolinewidth\":2},\"yaxis\":{\"gridcolor\":\"white\",\"linecolor\":\"white\",\"ticks\":\"\",\"title\":{\"standoff\":15},\"zerolinecolor\":\"white\",\"automargin\":true,\"zerolinewidth\":2},\"scene\":{\"xaxis\":{\"backgroundcolor\":\"#E5ECF6\",\"gridcolor\":\"white\",\"linecolor\":\"white\",\"showbackground\":true,\"ticks\":\"\",\"zerolinecolor\":\"white\",\"gridwidth\":2},\"yaxis\":{\"backgroundcolor\":\"#E5ECF6\",\"gridcolor\":\"white\",\"linecolor\":\"white\",\"showbackground\":true,\"ticks\":\"\",\"zerolinecolor\":\"white\",\"gridwidth\":2},\"zaxis\":{\"backgroundcolor\":\"#E5ECF6\",\"gridcolor\":\"white\",\"linecolor\":\"white\",\"showbackground\":true,\"ticks\":\"\",\"zerolinecolor\":\"white\",\"gridwidth\":2}},\"shapedefaults\":{\"line\":{\"color\":\"#2a3f5f\"}},\"annotationdefaults\":{\"arrowcolor\":\"#2a3f5f\",\"arrowhead\":0,\"arrowwidth\":1},\"geo\":{\"bgcolor\":\"white\",\"landcolor\":\"#E5ECF6\",\"subunitcolor\":\"white\",\"showland\":true,\"showlakes\":true,\"lakecolor\":\"white\"},\"title\":{\"x\":0.05},\"mapbox\":{\"style\":\"light\"}}},\"yaxis\":{\"gridcolor\":\"#eee\",\"title\":{\"text\":\"frequency\"},\"rangemode\":\"tozero\"},\"xaxis\":{\"rangemode\":\"tozero\"},\"title\":{\"text\":\"<b>patient_age</b> frequency distribution\"},\"plot_bgcolor\":\"#fff\",\"showlegend\":false,\"height\":500},                        {\"responsive\": true}                    ).then(function(){\n",
       "                            \n",
       "var gd = document.getElementById('efafc29f-79f5-490b-b09d-a90aec2673f7');\n",
       "var x = new MutationObserver(function (mutations, observer) {{\n",
       "        var display = window.getComputedStyle(gd).display;\n",
       "        if (!display || display === 'none') {{\n",
       "            console.log([gd, 'removed!']);\n",
       "            Plotly.purge(gd);\n",
       "            observer.disconnect();\n",
       "        }}\n",
       "}});\n",
       "\n",
       "// Listen for the removal of the full notebook cells\n",
       "var notebookContainer = gd.closest('#notebook-container');\n",
       "if (notebookContainer) {{\n",
       "    x.observe(notebookContainer, {childList: true});\n",
       "}}\n",
       "\n",
       "// Listen for the clearing of the current output cell\n",
       "var outputEl = gd.closest('.output');\n",
       "if (outputEl) {{\n",
       "    x.observe(outputEl, {childList: true});\n",
       "}}\n",
       "\n",
       "                        })                };                });            </script>        </div>"
      ]
     },
     "metadata": {},
     "output_type": "display_data"
    }
   ],
   "source": [
    "num_freq_plot(regexp_age_2_extracts, 'patient_age')"
   ]
  },
  {
   "cell_type": "code",
   "execution_count": 281,
   "id": "5e1369be-a10d-4a55-87f1-2b958cbff6fa",
   "metadata": {},
   "outputs": [
    {
     "name": "stdout",
     "output_type": "stream",
     "text": [
      "\n",
      "\n",
      "----------------\n",
      "Extracted value:\n",
      "Age = 16\n",
      "\n",
      "Full text:\n",
      "Spinal cord inflammation or muscle? | 16 years old\n",
      "\n",
      "Athletic\n",
      "\n",
      "245lbs\n",
      "\n",
      "Right below my shoulder blades I feel like the two muscles are consistently contracting. In other words they just feel extremely tight. I’ve never had this trouble in this particular area before. I There is a sharp pain sometimes on the spine. I went to the chiropractor about five hours ago. He popped that area and my neck. Muscles are still tight as of now. How can I tell if this is inflammation instead of a tweaked nerve?\n",
      "\n",
      "Url:\n",
      "https://www.reddit.com/r/AskDocs/comments/kejttn/spinal_cord_inflammation_or_muscle/\n",
      "\n",
      "\n",
      "----------------\n",
      "Extracted value:\n",
      "Age = 23\n",
      "\n",
      "Full text:\n",
      "I am 23 years old and believe I may be exhibiting symptoms of ALS. | Hi All, \n",
      "\n",
      "About a week ago I began having a numb/weak feeling in both of my legs (can’t really describe it) even though they both seem to still be pretty strong. I can run, jump etc. Yesterday I went to the ER and they drew blood, and took my urine. Everything came back perfect and clean and I was very hydrated. They sent me home with a diagnosis of Paresthesias. This morning when I woke up my legs felt normal as I walked around before going back to the seem feeling. \n",
      "\n",
      "My muscles in both of my legs and my biceps are now seeming to spaz. Not as much however and they feel relatively normal compared to my legs. I have an appointment next Friday with my primary care doctor but you can probably guess how scared I am. I also royally fucked myself by googling these symptoms.\n",
      "\n",
      "Url:\n",
      "https://www.reddit.com/r/AskDocs/comments/rtdnvi/i_am_23_years_old_and_believe_i_may_be_exhibiting/\n",
      "\n",
      "\n",
      "----------------\n",
      "Extracted value:\n",
      "Age = 23\n",
      "\n",
      "Full text:\n",
      "Can someone guide me ? My brain making me see things in the dark, i dont know if i'm crazy or not | I need your help to know if i must see a doctor or if this is normal and happens to everyone :\n",
      "\n",
      "(Please, dont mind my bad english, i'm french)\n",
      "\n",
      "Since my childhood, when the light goes off, when i look at the dark place of my rooms or the street, i can see humanoids forms standing with the bad feelings of them looking at me.\n",
      "\n",
      "They do not moving but their shape is constanly changing like if they are some kind of fog.\n",
      "\n",
      "I do not believe in ghost and i know that the human brain is capable of such things but this is still terrifying even at 23 years old. \n",
      "\n",
      "If there a solution i will be glad to hear it because i can't stay in the dark without panic if i stay too long  \n",
      "\n",
      "\n",
      "Thanks for your reading.\n",
      "\n",
      "Url:\n",
      "https://www.reddit.com/r/AskDocs/comments/qku44f/can_someone_guide_me_my_brain_making_me_see/\n",
      "\n",
      "\n",
      "----------------\n",
      "Extracted value:\n",
      "Age = 25\n",
      "\n",
      "Full text:\n",
      "Left side tension and pain | I am 25 years old, 5\" 9 and 205 lbs, Caucasian.\n",
      "For the past couple weeks I had some left back/shoulder pain. My wife said my muscles on the left side of my body felt really tense. I kind of let it run its course until I started feeling some pain in my left arm as well. I scheduled a doctors appointment for last friday, he recommended I take some muscle relaxers once a day and some aleve and see if it gets better. Then on Saturday after playing some games my left arm started hurting so bad I had to stop. Then on Sunday my left leg felt a burning and a bit weak. I also throughout the weekend felt some tension in my neck and head all on the left side. I am not sure what could be causing this, do I have a spinal tumor or something, I really don't wan't to get x-rays because I am worried about radiation (I had a few x-rays done last year that lead to nothing and I kind of regret them). The back pain seems to have subsided a bit and mainly now I feel burning and some pain in my left leg, arm, and my head and jaw. Can anyone give me some insight on whats going on?\n",
      "\n",
      "Url:\n",
      "https://www.reddit.com/r/AskDocs/comments/6wqxbd/left_side_tension_and_pain/\n",
      "\n",
      "\n",
      "----------------\n",
      "Extracted value:\n",
      "Age = 22\n",
      "\n",
      "Full text:\n",
      "Left index finger swollen/discolored for a couple week | A couple weeks ago I noticed my left index finger was hurting towards the tip, but didnt remember hitting it. It hasnt gone away, and today i noticed a discoloration, and it feels like a little fat patch. I just wanna know if its minor or if I need to get it really checked out. I am a 22 year old white male in good health, and have never had an issue like this. \n",
      "\n",
      "https://imgur.com/a/3OU1W7c\n",
      "\n",
      "Url:\n",
      "https://www.reddit.com/r/AskDocs/comments/8lc8s3/left_index_finger_swollendiscolored_for_a_couple/\n"
     ]
    }
   ],
   "source": [
    "in_range_ind = regexp_age_2_extracts[\n",
    "    (regexp_age_2_extracts['patient_age'] < 80)\n",
    "].index\n",
    "\n",
    "for i in in_range_ind[:5]:\n",
    "    print('\\n\\n----------------')\n",
    "    print('Extracted value:')\n",
    "    print(f'''Age = {regexp_age_2_extracts['patient_age'].loc[i]}''')\n",
    "\n",
    "    print('\\nFull text:')\n",
    "    print(df_sample2['full_post_text'].loc[i])\n",
    "    print('\\nUrl:')\n",
    "    print(df_sample2['url'].loc[i])"
   ]
  },
  {
   "cell_type": "markdown",
   "id": "83e387d4-f808-466a-9743-35d6422ff8ca",
   "metadata": {},
   "source": [
    "From testing in the above, we don't need to filter out out-of-range values here."
   ]
  },
  {
   "cell_type": "markdown",
   "id": "3ceda92e-1c4f-4f11-8de6-39eb495a9d71",
   "metadata": {},
   "source": [
    "This pattern matches the following proportion of the data sample:"
   ]
  },
  {
   "cell_type": "code",
   "execution_count": 282,
   "id": "00dd0ebb-c5c3-4821-aa8e-32dfb2ed80d0",
   "metadata": {},
   "outputs": [
    {
     "data": {
      "text/plain": [
       "0.0556"
      ]
     },
     "execution_count": 282,
     "metadata": {},
     "output_type": "execute_result"
    }
   ],
   "source": [
    "len(regexp_age_2_extracts)/len(df_sample2)"
   ]
  },
  {
   "cell_type": "code",
   "execution_count": 283,
   "id": "887c7e81-4a3b-49ef-935a-6d87bba436fb",
   "metadata": {},
   "outputs": [],
   "source": [
    "remainder_age_only = remainder_age_only[\n",
    "    ~remainder_age_only.index.isin(regexp_age_2_extracts.index)\n",
    "].copy()"
   ]
  },
  {
   "cell_type": "code",
   "execution_count": 284,
   "id": "18b23ec1-3bbf-4414-bdde-09e70707bb07",
   "metadata": {},
   "outputs": [
    {
     "data": {
      "text/plain": [
       "4343"
      ]
     },
     "execution_count": 284,
     "metadata": {},
     "output_type": "execute_result"
    }
   ],
   "source": [
    "len(remainder_age_only)"
   ]
  },
  {
   "cell_type": "code",
   "execution_count": 285,
   "id": "840cee33-40ae-4f26-b4b5-250ecdec4e51",
   "metadata": {},
   "outputs": [
    {
     "data": {
      "text/plain": [
       "0.4343"
      ]
     },
     "execution_count": 285,
     "metadata": {},
     "output_type": "execute_result"
    }
   ],
   "source": [
    "len(remainder_age_only)/len(df_sample2)"
   ]
  },
  {
   "cell_type": "code",
   "execution_count": 286,
   "id": "4a3b9f5d-c156-4dbe-8f70-db83d875bde0",
   "metadata": {},
   "outputs": [
    {
     "data": {
      "text/plain": [
       "selftext\n",
       "False    3235\n",
       "True     2606\n",
       "Name: count, dtype: int64"
      ]
     },
     "execution_count": 286,
     "metadata": {},
     "output_type": "execute_result"
    }
   ],
   "source": [
    "remainder['selftext'].isna().value_counts()"
   ]
  },
  {
   "cell_type": "markdown",
   "id": "36fdf59a-abda-41a4-91ed-1867ed159738",
   "metadata": {},
   "source": [
    "### Age pattern 3"
   ]
  },
  {
   "cell_type": "code",
   "execution_count": 287,
   "id": "91857fd9-daeb-47df-8a3b-0580942fd92d",
   "metadata": {},
   "outputs": [],
   "source": [
    "regexp_age_3 = r'''\\b([1-9]\\d?)[ \\-]?y\\.?/? ?o\\.?\\b'''\n",
    "\n",
    "regexp_age_3_extracts = remainder_age_only['full_post_text'].str.extract(\n",
    "        regexp_age_3,\n",
    "        flags=re.IGNORECASE\n",
    "    ).rename(columns={\n",
    "        0: 'patient_age'\n",
    "    })\n",
    "\n",
    "regexp_age_3_extracts.dropna(inplace=True)\n",
    "\n",
    "regexp_age_3_extracts['patient_age'] = \\\n",
    "    regexp_age_3_extracts['patient_age'].astype('int')"
   ]
  },
  {
   "cell_type": "code",
   "execution_count": 288,
   "id": "9b7d9d14-d672-42f9-a4b7-2c7167cb3f32",
   "metadata": {},
   "outputs": [
    {
     "data": {
      "text/plain": [
       "0.0108"
      ]
     },
     "execution_count": 288,
     "metadata": {},
     "output_type": "execute_result"
    }
   ],
   "source": [
    "len(regexp_age_3_extracts)/len(df_sample2)"
   ]
  },
  {
   "cell_type": "code",
   "execution_count": 289,
   "id": "085d76b8-b56a-45e2-807d-f5693566b545",
   "metadata": {},
   "outputs": [
    {
     "data": {
      "text/html": [
       "<div>\n",
       "<style scoped>\n",
       "    .dataframe tbody tr th:only-of-type {\n",
       "        vertical-align: middle;\n",
       "    }\n",
       "\n",
       "    .dataframe tbody tr th {\n",
       "        vertical-align: top;\n",
       "    }\n",
       "\n",
       "    .dataframe thead th {\n",
       "        text-align: right;\n",
       "    }\n",
       "</style>\n",
       "<table border=\"1\" class=\"dataframe\">\n",
       "  <thead>\n",
       "    <tr style=\"text-align: right;\">\n",
       "      <th></th>\n",
       "      <th>patient_age</th>\n",
       "    </tr>\n",
       "  </thead>\n",
       "  <tbody>\n",
       "    <tr>\n",
       "      <th>count</th>\n",
       "      <td>108.000000</td>\n",
       "    </tr>\n",
       "    <tr>\n",
       "      <th>mean</th>\n",
       "      <td>26.703704</td>\n",
       "    </tr>\n",
       "    <tr>\n",
       "      <th>std</th>\n",
       "      <td>12.033644</td>\n",
       "    </tr>\n",
       "    <tr>\n",
       "      <th>min</th>\n",
       "      <td>1.000000</td>\n",
       "    </tr>\n",
       "    <tr>\n",
       "      <th>25%</th>\n",
       "      <td>20.000000</td>\n",
       "    </tr>\n",
       "    <tr>\n",
       "      <th>50%</th>\n",
       "      <td>24.000000</td>\n",
       "    </tr>\n",
       "    <tr>\n",
       "      <th>75%</th>\n",
       "      <td>30.250000</td>\n",
       "    </tr>\n",
       "    <tr>\n",
       "      <th>max</th>\n",
       "      <td>72.000000</td>\n",
       "    </tr>\n",
       "  </tbody>\n",
       "</table>\n",
       "</div>"
      ],
      "text/plain": [
       "       patient_age\n",
       "count   108.000000\n",
       "mean     26.703704\n",
       "std      12.033644\n",
       "min       1.000000\n",
       "25%      20.000000\n",
       "50%      24.000000\n",
       "75%      30.250000\n",
       "max      72.000000"
      ]
     },
     "execution_count": 289,
     "metadata": {},
     "output_type": "execute_result"
    }
   ],
   "source": [
    "regexp_age_3_extracts.describe(include='all')"
   ]
  },
  {
   "cell_type": "code",
   "execution_count": 290,
   "id": "f33831f0-a708-4f6b-8a3d-400d034dd077",
   "metadata": {},
   "outputs": [
    {
     "data": {
      "text/plain": [
       "patient_age\n",
       "1     1\n",
       "4     2\n",
       "5     2\n",
       "12    1\n",
       "13    1\n",
       "14    1\n",
       "15    2\n",
       "16    2\n",
       "17    3\n",
       "18    5\n",
       "19    5\n",
       "20    8\n",
       "21    2\n",
       "22    6\n",
       "23    7\n",
       "24    8\n",
       "25    6\n",
       "26    3\n",
       "27    2\n",
       "28    3\n",
       "29    5\n",
       "30    6\n",
       "31    3\n",
       "32    1\n",
       "33    3\n",
       "34    1\n",
       "35    2\n",
       "36    1\n",
       "38    1\n",
       "39    1\n",
       "40    1\n",
       "41    3\n",
       "42    1\n",
       "45    1\n",
       "49    1\n",
       "50    1\n",
       "55    2\n",
       "58    1\n",
       "60    2\n",
       "72    1\n",
       "Name: count, dtype: int64"
      ]
     },
     "execution_count": 290,
     "metadata": {},
     "output_type": "execute_result"
    }
   ],
   "source": [
    "regexp_age_3_extracts['patient_age'].value_counts().sort_index()"
   ]
  },
  {
   "cell_type": "code",
   "execution_count": 291,
   "id": "63fa6326-33f2-49ab-9c76-1b2898eb3440",
   "metadata": {},
   "outputs": [
    {
     "data": {
      "application/vnd.plotly.v1+json": {
       "config": {
        "plotlyServerURL": "https://plotly.com"
       },
       "data": [
        {
         "hovertemplate": "Value: %{x:,}<br>Frequency: %{y:,}<br><extra></extra>",
         "hovertext": [
          1,
          4,
          5,
          12,
          13,
          14,
          15,
          16,
          17,
          18,
          19,
          20,
          21,
          22,
          23,
          24,
          25,
          26,
          27,
          28,
          29,
          30,
          31,
          32,
          33,
          34,
          35,
          36,
          38,
          39,
          40,
          41,
          42,
          45,
          49,
          50,
          55,
          58,
          60,
          72
         ],
         "type": "bar",
         "x": [
          1,
          4,
          5,
          12,
          13,
          14,
          15,
          16,
          17,
          18,
          19,
          20,
          21,
          22,
          23,
          24,
          25,
          26,
          27,
          28,
          29,
          30,
          31,
          32,
          33,
          34,
          35,
          36,
          38,
          39,
          40,
          41,
          42,
          45,
          49,
          50,
          55,
          58,
          60,
          72
         ],
         "y": [
          1,
          2,
          2,
          1,
          1,
          1,
          2,
          2,
          3,
          5,
          5,
          8,
          2,
          6,
          7,
          8,
          6,
          3,
          2,
          3,
          5,
          6,
          3,
          1,
          3,
          1,
          2,
          1,
          1,
          1,
          1,
          3,
          1,
          1,
          1,
          1,
          2,
          1,
          2,
          1
         ]
        }
       ],
       "layout": {
        "autosize": true,
        "plot_bgcolor": "#fff",
        "showlegend": false,
        "template": {
         "data": {
          "bar": [
           {
            "error_x": {
             "color": "#2a3f5f"
            },
            "error_y": {
             "color": "#2a3f5f"
            },
            "marker": {
             "line": {
              "color": "#E5ECF6",
              "width": 0.5
             },
             "pattern": {
              "fillmode": "overlay",
              "size": 10,
              "solidity": 0.2
             }
            },
            "type": "bar"
           }
          ],
          "barpolar": [
           {
            "marker": {
             "line": {
              "color": "#E5ECF6",
              "width": 0.5
             },
             "pattern": {
              "fillmode": "overlay",
              "size": 10,
              "solidity": 0.2
             }
            },
            "type": "barpolar"
           }
          ],
          "carpet": [
           {
            "aaxis": {
             "endlinecolor": "#2a3f5f",
             "gridcolor": "white",
             "linecolor": "white",
             "minorgridcolor": "white",
             "startlinecolor": "#2a3f5f"
            },
            "baxis": {
             "endlinecolor": "#2a3f5f",
             "gridcolor": "white",
             "linecolor": "white",
             "minorgridcolor": "white",
             "startlinecolor": "#2a3f5f"
            },
            "type": "carpet"
           }
          ],
          "choropleth": [
           {
            "colorbar": {
             "outlinewidth": 0,
             "ticks": ""
            },
            "type": "choropleth"
           }
          ],
          "contour": [
           {
            "colorbar": {
             "outlinewidth": 0,
             "ticks": ""
            },
            "colorscale": [
             [
              0,
              "#0d0887"
             ],
             [
              0.1111111111111111,
              "#46039f"
             ],
             [
              0.2222222222222222,
              "#7201a8"
             ],
             [
              0.3333333333333333,
              "#9c179e"
             ],
             [
              0.4444444444444444,
              "#bd3786"
             ],
             [
              0.5555555555555556,
              "#d8576b"
             ],
             [
              0.6666666666666666,
              "#ed7953"
             ],
             [
              0.7777777777777778,
              "#fb9f3a"
             ],
             [
              0.8888888888888888,
              "#fdca26"
             ],
             [
              1,
              "#f0f921"
             ]
            ],
            "type": "contour"
           }
          ],
          "contourcarpet": [
           {
            "colorbar": {
             "outlinewidth": 0,
             "ticks": ""
            },
            "type": "contourcarpet"
           }
          ],
          "heatmap": [
           {
            "colorbar": {
             "outlinewidth": 0,
             "ticks": ""
            },
            "colorscale": [
             [
              0,
              "#0d0887"
             ],
             [
              0.1111111111111111,
              "#46039f"
             ],
             [
              0.2222222222222222,
              "#7201a8"
             ],
             [
              0.3333333333333333,
              "#9c179e"
             ],
             [
              0.4444444444444444,
              "#bd3786"
             ],
             [
              0.5555555555555556,
              "#d8576b"
             ],
             [
              0.6666666666666666,
              "#ed7953"
             ],
             [
              0.7777777777777778,
              "#fb9f3a"
             ],
             [
              0.8888888888888888,
              "#fdca26"
             ],
             [
              1,
              "#f0f921"
             ]
            ],
            "type": "heatmap"
           }
          ],
          "heatmapgl": [
           {
            "colorbar": {
             "outlinewidth": 0,
             "ticks": ""
            },
            "colorscale": [
             [
              0,
              "#0d0887"
             ],
             [
              0.1111111111111111,
              "#46039f"
             ],
             [
              0.2222222222222222,
              "#7201a8"
             ],
             [
              0.3333333333333333,
              "#9c179e"
             ],
             [
              0.4444444444444444,
              "#bd3786"
             ],
             [
              0.5555555555555556,
              "#d8576b"
             ],
             [
              0.6666666666666666,
              "#ed7953"
             ],
             [
              0.7777777777777778,
              "#fb9f3a"
             ],
             [
              0.8888888888888888,
              "#fdca26"
             ],
             [
              1,
              "#f0f921"
             ]
            ],
            "type": "heatmapgl"
           }
          ],
          "histogram": [
           {
            "marker": {
             "pattern": {
              "fillmode": "overlay",
              "size": 10,
              "solidity": 0.2
             }
            },
            "type": "histogram"
           }
          ],
          "histogram2d": [
           {
            "colorbar": {
             "outlinewidth": 0,
             "ticks": ""
            },
            "colorscale": [
             [
              0,
              "#0d0887"
             ],
             [
              0.1111111111111111,
              "#46039f"
             ],
             [
              0.2222222222222222,
              "#7201a8"
             ],
             [
              0.3333333333333333,
              "#9c179e"
             ],
             [
              0.4444444444444444,
              "#bd3786"
             ],
             [
              0.5555555555555556,
              "#d8576b"
             ],
             [
              0.6666666666666666,
              "#ed7953"
             ],
             [
              0.7777777777777778,
              "#fb9f3a"
             ],
             [
              0.8888888888888888,
              "#fdca26"
             ],
             [
              1,
              "#f0f921"
             ]
            ],
            "type": "histogram2d"
           }
          ],
          "histogram2dcontour": [
           {
            "colorbar": {
             "outlinewidth": 0,
             "ticks": ""
            },
            "colorscale": [
             [
              0,
              "#0d0887"
             ],
             [
              0.1111111111111111,
              "#46039f"
             ],
             [
              0.2222222222222222,
              "#7201a8"
             ],
             [
              0.3333333333333333,
              "#9c179e"
             ],
             [
              0.4444444444444444,
              "#bd3786"
             ],
             [
              0.5555555555555556,
              "#d8576b"
             ],
             [
              0.6666666666666666,
              "#ed7953"
             ],
             [
              0.7777777777777778,
              "#fb9f3a"
             ],
             [
              0.8888888888888888,
              "#fdca26"
             ],
             [
              1,
              "#f0f921"
             ]
            ],
            "type": "histogram2dcontour"
           }
          ],
          "mesh3d": [
           {
            "colorbar": {
             "outlinewidth": 0,
             "ticks": ""
            },
            "type": "mesh3d"
           }
          ],
          "parcoords": [
           {
            "line": {
             "colorbar": {
              "outlinewidth": 0,
              "ticks": ""
             }
            },
            "type": "parcoords"
           }
          ],
          "pie": [
           {
            "automargin": true,
            "type": "pie"
           }
          ],
          "scatter": [
           {
            "fillpattern": {
             "fillmode": "overlay",
             "size": 10,
             "solidity": 0.2
            },
            "type": "scatter"
           }
          ],
          "scatter3d": [
           {
            "line": {
             "colorbar": {
              "outlinewidth": 0,
              "ticks": ""
             }
            },
            "marker": {
             "colorbar": {
              "outlinewidth": 0,
              "ticks": ""
             }
            },
            "type": "scatter3d"
           }
          ],
          "scattercarpet": [
           {
            "marker": {
             "colorbar": {
              "outlinewidth": 0,
              "ticks": ""
             }
            },
            "type": "scattercarpet"
           }
          ],
          "scattergeo": [
           {
            "marker": {
             "colorbar": {
              "outlinewidth": 0,
              "ticks": ""
             }
            },
            "type": "scattergeo"
           }
          ],
          "scattergl": [
           {
            "marker": {
             "colorbar": {
              "outlinewidth": 0,
              "ticks": ""
             }
            },
            "type": "scattergl"
           }
          ],
          "scattermapbox": [
           {
            "marker": {
             "colorbar": {
              "outlinewidth": 0,
              "ticks": ""
             }
            },
            "type": "scattermapbox"
           }
          ],
          "scatterpolar": [
           {
            "marker": {
             "colorbar": {
              "outlinewidth": 0,
              "ticks": ""
             }
            },
            "type": "scatterpolar"
           }
          ],
          "scatterpolargl": [
           {
            "marker": {
             "colorbar": {
              "outlinewidth": 0,
              "ticks": ""
             }
            },
            "type": "scatterpolargl"
           }
          ],
          "scatterternary": [
           {
            "marker": {
             "colorbar": {
              "outlinewidth": 0,
              "ticks": ""
             }
            },
            "type": "scatterternary"
           }
          ],
          "surface": [
           {
            "colorbar": {
             "outlinewidth": 0,
             "ticks": ""
            },
            "colorscale": [
             [
              0,
              "#0d0887"
             ],
             [
              0.1111111111111111,
              "#46039f"
             ],
             [
              0.2222222222222222,
              "#7201a8"
             ],
             [
              0.3333333333333333,
              "#9c179e"
             ],
             [
              0.4444444444444444,
              "#bd3786"
             ],
             [
              0.5555555555555556,
              "#d8576b"
             ],
             [
              0.6666666666666666,
              "#ed7953"
             ],
             [
              0.7777777777777778,
              "#fb9f3a"
             ],
             [
              0.8888888888888888,
              "#fdca26"
             ],
             [
              1,
              "#f0f921"
             ]
            ],
            "type": "surface"
           }
          ],
          "table": [
           {
            "cells": {
             "fill": {
              "color": "#EBF0F8"
             },
             "line": {
              "color": "white"
             }
            },
            "header": {
             "fill": {
              "color": "#C8D4E3"
             },
             "line": {
              "color": "white"
             }
            },
            "type": "table"
           }
          ]
         },
         "layout": {
          "annotationdefaults": {
           "arrowcolor": "#2a3f5f",
           "arrowhead": 0,
           "arrowwidth": 1
          },
          "autotypenumbers": "strict",
          "coloraxis": {
           "colorbar": {
            "outlinewidth": 0,
            "ticks": ""
           }
          },
          "colorscale": {
           "diverging": [
            [
             0,
             "#8e0152"
            ],
            [
             0.1,
             "#c51b7d"
            ],
            [
             0.2,
             "#de77ae"
            ],
            [
             0.3,
             "#f1b6da"
            ],
            [
             0.4,
             "#fde0ef"
            ],
            [
             0.5,
             "#f7f7f7"
            ],
            [
             0.6,
             "#e6f5d0"
            ],
            [
             0.7,
             "#b8e186"
            ],
            [
             0.8,
             "#7fbc41"
            ],
            [
             0.9,
             "#4d9221"
            ],
            [
             1,
             "#276419"
            ]
           ],
           "sequential": [
            [
             0,
             "#0d0887"
            ],
            [
             0.1111111111111111,
             "#46039f"
            ],
            [
             0.2222222222222222,
             "#7201a8"
            ],
            [
             0.3333333333333333,
             "#9c179e"
            ],
            [
             0.4444444444444444,
             "#bd3786"
            ],
            [
             0.5555555555555556,
             "#d8576b"
            ],
            [
             0.6666666666666666,
             "#ed7953"
            ],
            [
             0.7777777777777778,
             "#fb9f3a"
            ],
            [
             0.8888888888888888,
             "#fdca26"
            ],
            [
             1,
             "#f0f921"
            ]
           ],
           "sequentialminus": [
            [
             0,
             "#0d0887"
            ],
            [
             0.1111111111111111,
             "#46039f"
            ],
            [
             0.2222222222222222,
             "#7201a8"
            ],
            [
             0.3333333333333333,
             "#9c179e"
            ],
            [
             0.4444444444444444,
             "#bd3786"
            ],
            [
             0.5555555555555556,
             "#d8576b"
            ],
            [
             0.6666666666666666,
             "#ed7953"
            ],
            [
             0.7777777777777778,
             "#fb9f3a"
            ],
            [
             0.8888888888888888,
             "#fdca26"
            ],
            [
             1,
             "#f0f921"
            ]
           ]
          },
          "colorway": [
           "#636efa",
           "#EF553B",
           "#00cc96",
           "#ab63fa",
           "#FFA15A",
           "#19d3f3",
           "#FF6692",
           "#B6E880",
           "#FF97FF",
           "#FECB52"
          ],
          "font": {
           "color": "#2a3f5f"
          },
          "geo": {
           "bgcolor": "white",
           "lakecolor": "white",
           "landcolor": "#E5ECF6",
           "showlakes": true,
           "showland": true,
           "subunitcolor": "white"
          },
          "hoverlabel": {
           "align": "left"
          },
          "hovermode": "closest",
          "mapbox": {
           "style": "light"
          },
          "paper_bgcolor": "white",
          "plot_bgcolor": "#E5ECF6",
          "polar": {
           "angularaxis": {
            "gridcolor": "white",
            "linecolor": "white",
            "ticks": ""
           },
           "bgcolor": "#E5ECF6",
           "radialaxis": {
            "gridcolor": "white",
            "linecolor": "white",
            "ticks": ""
           }
          },
          "scene": {
           "xaxis": {
            "backgroundcolor": "#E5ECF6",
            "gridcolor": "white",
            "gridwidth": 2,
            "linecolor": "white",
            "showbackground": true,
            "ticks": "",
            "zerolinecolor": "white"
           },
           "yaxis": {
            "backgroundcolor": "#E5ECF6",
            "gridcolor": "white",
            "gridwidth": 2,
            "linecolor": "white",
            "showbackground": true,
            "ticks": "",
            "zerolinecolor": "white"
           },
           "zaxis": {
            "backgroundcolor": "#E5ECF6",
            "gridcolor": "white",
            "gridwidth": 2,
            "linecolor": "white",
            "showbackground": true,
            "ticks": "",
            "zerolinecolor": "white"
           }
          },
          "shapedefaults": {
           "line": {
            "color": "#2a3f5f"
           }
          },
          "ternary": {
           "aaxis": {
            "gridcolor": "white",
            "linecolor": "white",
            "ticks": ""
           },
           "baxis": {
            "gridcolor": "white",
            "linecolor": "white",
            "ticks": ""
           },
           "bgcolor": "#E5ECF6",
           "caxis": {
            "gridcolor": "white",
            "linecolor": "white",
            "ticks": ""
           }
          },
          "title": {
           "x": 0.05
          },
          "xaxis": {
           "automargin": true,
           "gridcolor": "white",
           "linecolor": "white",
           "ticks": "",
           "title": {
            "standoff": 15
           },
           "zerolinecolor": "white",
           "zerolinewidth": 2
          },
          "yaxis": {
           "automargin": true,
           "gridcolor": "white",
           "linecolor": "white",
           "ticks": "",
           "title": {
            "standoff": 15
           },
           "zerolinecolor": "white",
           "zerolinewidth": 2
          }
         }
        },
        "title": {
         "text": "<b>patient_age</b> frequency distribution"
        },
        "xaxis": {
         "autorange": true,
         "range": [
          0,
          72.5
         ],
         "rangemode": "tozero",
         "type": "linear"
        },
        "yaxis": {
         "autorange": true,
         "gridcolor": "#eee",
         "range": [
          0,
          8.421052631578947
         ],
         "rangemode": "tozero",
         "title": {
          "text": "frequency"
         },
         "type": "linear"
        }
       }
      },
      "text/html": [
       "<div>                            <div id=\"f791321c-9fb6-4f58-bda9-f59b98eb0fb5\" class=\"plotly-graph-div\" style=\"height:500px; width:100%;\"></div>            <script type=\"text/javascript\">                require([\"plotly\"], function(Plotly) {                    window.PLOTLYENV=window.PLOTLYENV || {};                                    if (document.getElementById(\"f791321c-9fb6-4f58-bda9-f59b98eb0fb5\")) {                    Plotly.newPlot(                        \"f791321c-9fb6-4f58-bda9-f59b98eb0fb5\",                        [{\"hovertemplate\":\"Value: %{x:,}<br>Frequency: %{y:,}<br><extra></extra>\",\"hovertext\":[1.0,4.0,5.0,12.0,13.0,14.0,15.0,16.0,17.0,18.0,19.0,20.0,21.0,22.0,23.0,24.0,25.0,26.0,27.0,28.0,29.0,30.0,31.0,32.0,33.0,34.0,35.0,36.0,38.0,39.0,40.0,41.0,42.0,45.0,49.0,50.0,55.0,58.0,60.0,72.0],\"x\":[1,4,5,12,13,14,15,16,17,18,19,20,21,22,23,24,25,26,27,28,29,30,31,32,33,34,35,36,38,39,40,41,42,45,49,50,55,58,60,72],\"y\":[1,2,2,1,1,1,2,2,3,5,5,8,2,6,7,8,6,3,2,3,5,6,3,1,3,1,2,1,1,1,1,3,1,1,1,1,2,1,2,1],\"type\":\"bar\"}],                        {\"template\":{\"data\":{\"histogram2dcontour\":[{\"type\":\"histogram2dcontour\",\"colorbar\":{\"outlinewidth\":0,\"ticks\":\"\"},\"colorscale\":[[0.0,\"#0d0887\"],[0.1111111111111111,\"#46039f\"],[0.2222222222222222,\"#7201a8\"],[0.3333333333333333,\"#9c179e\"],[0.4444444444444444,\"#bd3786\"],[0.5555555555555556,\"#d8576b\"],[0.6666666666666666,\"#ed7953\"],[0.7777777777777778,\"#fb9f3a\"],[0.8888888888888888,\"#fdca26\"],[1.0,\"#f0f921\"]]}],\"choropleth\":[{\"type\":\"choropleth\",\"colorbar\":{\"outlinewidth\":0,\"ticks\":\"\"}}],\"histogram2d\":[{\"type\":\"histogram2d\",\"colorbar\":{\"outlinewidth\":0,\"ticks\":\"\"},\"colorscale\":[[0.0,\"#0d0887\"],[0.1111111111111111,\"#46039f\"],[0.2222222222222222,\"#7201a8\"],[0.3333333333333333,\"#9c179e\"],[0.4444444444444444,\"#bd3786\"],[0.5555555555555556,\"#d8576b\"],[0.6666666666666666,\"#ed7953\"],[0.7777777777777778,\"#fb9f3a\"],[0.8888888888888888,\"#fdca26\"],[1.0,\"#f0f921\"]]}],\"heatmap\":[{\"type\":\"heatmap\",\"colorbar\":{\"outlinewidth\":0,\"ticks\":\"\"},\"colorscale\":[[0.0,\"#0d0887\"],[0.1111111111111111,\"#46039f\"],[0.2222222222222222,\"#7201a8\"],[0.3333333333333333,\"#9c179e\"],[0.4444444444444444,\"#bd3786\"],[0.5555555555555556,\"#d8576b\"],[0.6666666666666666,\"#ed7953\"],[0.7777777777777778,\"#fb9f3a\"],[0.8888888888888888,\"#fdca26\"],[1.0,\"#f0f921\"]]}],\"heatmapgl\":[{\"type\":\"heatmapgl\",\"colorbar\":{\"outlinewidth\":0,\"ticks\":\"\"},\"colorscale\":[[0.0,\"#0d0887\"],[0.1111111111111111,\"#46039f\"],[0.2222222222222222,\"#7201a8\"],[0.3333333333333333,\"#9c179e\"],[0.4444444444444444,\"#bd3786\"],[0.5555555555555556,\"#d8576b\"],[0.6666666666666666,\"#ed7953\"],[0.7777777777777778,\"#fb9f3a\"],[0.8888888888888888,\"#fdca26\"],[1.0,\"#f0f921\"]]}],\"contourcarpet\":[{\"type\":\"contourcarpet\",\"colorbar\":{\"outlinewidth\":0,\"ticks\":\"\"}}],\"contour\":[{\"type\":\"contour\",\"colorbar\":{\"outlinewidth\":0,\"ticks\":\"\"},\"colorscale\":[[0.0,\"#0d0887\"],[0.1111111111111111,\"#46039f\"],[0.2222222222222222,\"#7201a8\"],[0.3333333333333333,\"#9c179e\"],[0.4444444444444444,\"#bd3786\"],[0.5555555555555556,\"#d8576b\"],[0.6666666666666666,\"#ed7953\"],[0.7777777777777778,\"#fb9f3a\"],[0.8888888888888888,\"#fdca26\"],[1.0,\"#f0f921\"]]}],\"surface\":[{\"type\":\"surface\",\"colorbar\":{\"outlinewidth\":0,\"ticks\":\"\"},\"colorscale\":[[0.0,\"#0d0887\"],[0.1111111111111111,\"#46039f\"],[0.2222222222222222,\"#7201a8\"],[0.3333333333333333,\"#9c179e\"],[0.4444444444444444,\"#bd3786\"],[0.5555555555555556,\"#d8576b\"],[0.6666666666666666,\"#ed7953\"],[0.7777777777777778,\"#fb9f3a\"],[0.8888888888888888,\"#fdca26\"],[1.0,\"#f0f921\"]]}],\"mesh3d\":[{\"type\":\"mesh3d\",\"colorbar\":{\"outlinewidth\":0,\"ticks\":\"\"}}],\"scatter\":[{\"fillpattern\":{\"fillmode\":\"overlay\",\"size\":10,\"solidity\":0.2},\"type\":\"scatter\"}],\"parcoords\":[{\"type\":\"parcoords\",\"line\":{\"colorbar\":{\"outlinewidth\":0,\"ticks\":\"\"}}}],\"scatterpolargl\":[{\"type\":\"scatterpolargl\",\"marker\":{\"colorbar\":{\"outlinewidth\":0,\"ticks\":\"\"}}}],\"bar\":[{\"error_x\":{\"color\":\"#2a3f5f\"},\"error_y\":{\"color\":\"#2a3f5f\"},\"marker\":{\"line\":{\"color\":\"#E5ECF6\",\"width\":0.5},\"pattern\":{\"fillmode\":\"overlay\",\"size\":10,\"solidity\":0.2}},\"type\":\"bar\"}],\"scattergeo\":[{\"type\":\"scattergeo\",\"marker\":{\"colorbar\":{\"outlinewidth\":0,\"ticks\":\"\"}}}],\"scatterpolar\":[{\"type\":\"scatterpolar\",\"marker\":{\"colorbar\":{\"outlinewidth\":0,\"ticks\":\"\"}}}],\"histogram\":[{\"marker\":{\"pattern\":{\"fillmode\":\"overlay\",\"size\":10,\"solidity\":0.2}},\"type\":\"histogram\"}],\"scattergl\":[{\"type\":\"scattergl\",\"marker\":{\"colorbar\":{\"outlinewidth\":0,\"ticks\":\"\"}}}],\"scatter3d\":[{\"type\":\"scatter3d\",\"line\":{\"colorbar\":{\"outlinewidth\":0,\"ticks\":\"\"}},\"marker\":{\"colorbar\":{\"outlinewidth\":0,\"ticks\":\"\"}}}],\"scattermapbox\":[{\"type\":\"scattermapbox\",\"marker\":{\"colorbar\":{\"outlinewidth\":0,\"ticks\":\"\"}}}],\"scatterternary\":[{\"type\":\"scatterternary\",\"marker\":{\"colorbar\":{\"outlinewidth\":0,\"ticks\":\"\"}}}],\"scattercarpet\":[{\"type\":\"scattercarpet\",\"marker\":{\"colorbar\":{\"outlinewidth\":0,\"ticks\":\"\"}}}],\"carpet\":[{\"aaxis\":{\"endlinecolor\":\"#2a3f5f\",\"gridcolor\":\"white\",\"linecolor\":\"white\",\"minorgridcolor\":\"white\",\"startlinecolor\":\"#2a3f5f\"},\"baxis\":{\"endlinecolor\":\"#2a3f5f\",\"gridcolor\":\"white\",\"linecolor\":\"white\",\"minorgridcolor\":\"white\",\"startlinecolor\":\"#2a3f5f\"},\"type\":\"carpet\"}],\"table\":[{\"cells\":{\"fill\":{\"color\":\"#EBF0F8\"},\"line\":{\"color\":\"white\"}},\"header\":{\"fill\":{\"color\":\"#C8D4E3\"},\"line\":{\"color\":\"white\"}},\"type\":\"table\"}],\"barpolar\":[{\"marker\":{\"line\":{\"color\":\"#E5ECF6\",\"width\":0.5},\"pattern\":{\"fillmode\":\"overlay\",\"size\":10,\"solidity\":0.2}},\"type\":\"barpolar\"}],\"pie\":[{\"automargin\":true,\"type\":\"pie\"}]},\"layout\":{\"autotypenumbers\":\"strict\",\"colorway\":[\"#636efa\",\"#EF553B\",\"#00cc96\",\"#ab63fa\",\"#FFA15A\",\"#19d3f3\",\"#FF6692\",\"#B6E880\",\"#FF97FF\",\"#FECB52\"],\"font\":{\"color\":\"#2a3f5f\"},\"hovermode\":\"closest\",\"hoverlabel\":{\"align\":\"left\"},\"paper_bgcolor\":\"white\",\"plot_bgcolor\":\"#E5ECF6\",\"polar\":{\"bgcolor\":\"#E5ECF6\",\"angularaxis\":{\"gridcolor\":\"white\",\"linecolor\":\"white\",\"ticks\":\"\"},\"radialaxis\":{\"gridcolor\":\"white\",\"linecolor\":\"white\",\"ticks\":\"\"}},\"ternary\":{\"bgcolor\":\"#E5ECF6\",\"aaxis\":{\"gridcolor\":\"white\",\"linecolor\":\"white\",\"ticks\":\"\"},\"baxis\":{\"gridcolor\":\"white\",\"linecolor\":\"white\",\"ticks\":\"\"},\"caxis\":{\"gridcolor\":\"white\",\"linecolor\":\"white\",\"ticks\":\"\"}},\"coloraxis\":{\"colorbar\":{\"outlinewidth\":0,\"ticks\":\"\"}},\"colorscale\":{\"sequential\":[[0.0,\"#0d0887\"],[0.1111111111111111,\"#46039f\"],[0.2222222222222222,\"#7201a8\"],[0.3333333333333333,\"#9c179e\"],[0.4444444444444444,\"#bd3786\"],[0.5555555555555556,\"#d8576b\"],[0.6666666666666666,\"#ed7953\"],[0.7777777777777778,\"#fb9f3a\"],[0.8888888888888888,\"#fdca26\"],[1.0,\"#f0f921\"]],\"sequentialminus\":[[0.0,\"#0d0887\"],[0.1111111111111111,\"#46039f\"],[0.2222222222222222,\"#7201a8\"],[0.3333333333333333,\"#9c179e\"],[0.4444444444444444,\"#bd3786\"],[0.5555555555555556,\"#d8576b\"],[0.6666666666666666,\"#ed7953\"],[0.7777777777777778,\"#fb9f3a\"],[0.8888888888888888,\"#fdca26\"],[1.0,\"#f0f921\"]],\"diverging\":[[0,\"#8e0152\"],[0.1,\"#c51b7d\"],[0.2,\"#de77ae\"],[0.3,\"#f1b6da\"],[0.4,\"#fde0ef\"],[0.5,\"#f7f7f7\"],[0.6,\"#e6f5d0\"],[0.7,\"#b8e186\"],[0.8,\"#7fbc41\"],[0.9,\"#4d9221\"],[1,\"#276419\"]]},\"xaxis\":{\"gridcolor\":\"white\",\"linecolor\":\"white\",\"ticks\":\"\",\"title\":{\"standoff\":15},\"zerolinecolor\":\"white\",\"automargin\":true,\"zerolinewidth\":2},\"yaxis\":{\"gridcolor\":\"white\",\"linecolor\":\"white\",\"ticks\":\"\",\"title\":{\"standoff\":15},\"zerolinecolor\":\"white\",\"automargin\":true,\"zerolinewidth\":2},\"scene\":{\"xaxis\":{\"backgroundcolor\":\"#E5ECF6\",\"gridcolor\":\"white\",\"linecolor\":\"white\",\"showbackground\":true,\"ticks\":\"\",\"zerolinecolor\":\"white\",\"gridwidth\":2},\"yaxis\":{\"backgroundcolor\":\"#E5ECF6\",\"gridcolor\":\"white\",\"linecolor\":\"white\",\"showbackground\":true,\"ticks\":\"\",\"zerolinecolor\":\"white\",\"gridwidth\":2},\"zaxis\":{\"backgroundcolor\":\"#E5ECF6\",\"gridcolor\":\"white\",\"linecolor\":\"white\",\"showbackground\":true,\"ticks\":\"\",\"zerolinecolor\":\"white\",\"gridwidth\":2}},\"shapedefaults\":{\"line\":{\"color\":\"#2a3f5f\"}},\"annotationdefaults\":{\"arrowcolor\":\"#2a3f5f\",\"arrowhead\":0,\"arrowwidth\":1},\"geo\":{\"bgcolor\":\"white\",\"landcolor\":\"#E5ECF6\",\"subunitcolor\":\"white\",\"showland\":true,\"showlakes\":true,\"lakecolor\":\"white\"},\"title\":{\"x\":0.05},\"mapbox\":{\"style\":\"light\"}}},\"yaxis\":{\"gridcolor\":\"#eee\",\"title\":{\"text\":\"frequency\"},\"rangemode\":\"tozero\"},\"xaxis\":{\"rangemode\":\"tozero\"},\"title\":{\"text\":\"<b>patient_age</b> frequency distribution\"},\"plot_bgcolor\":\"#fff\",\"showlegend\":false,\"height\":500},                        {\"responsive\": true}                    ).then(function(){\n",
       "                            \n",
       "var gd = document.getElementById('f791321c-9fb6-4f58-bda9-f59b98eb0fb5');\n",
       "var x = new MutationObserver(function (mutations, observer) {{\n",
       "        var display = window.getComputedStyle(gd).display;\n",
       "        if (!display || display === 'none') {{\n",
       "            console.log([gd, 'removed!']);\n",
       "            Plotly.purge(gd);\n",
       "            observer.disconnect();\n",
       "        }}\n",
       "}});\n",
       "\n",
       "// Listen for the removal of the full notebook cells\n",
       "var notebookContainer = gd.closest('#notebook-container');\n",
       "if (notebookContainer) {{\n",
       "    x.observe(notebookContainer, {childList: true});\n",
       "}}\n",
       "\n",
       "// Listen for the clearing of the current output cell\n",
       "var outputEl = gd.closest('.output');\n",
       "if (outputEl) {{\n",
       "    x.observe(outputEl, {childList: true});\n",
       "}}\n",
       "\n",
       "                        })                };                });            </script>        </div>"
      ]
     },
     "metadata": {},
     "output_type": "display_data"
    }
   ],
   "source": [
    "num_freq_plot(regexp_age_3_extracts, 'patient_age')"
   ]
  },
  {
   "cell_type": "code",
   "execution_count": 292,
   "id": "fba8ffd5-ebf7-47af-ae7b-8816970e5072",
   "metadata": {},
   "outputs": [
    {
     "name": "stdout",
     "output_type": "stream",
     "text": [
      "\n",
      "\n",
      "----------------\n",
      "Extracted value:\n",
      "Age = 41\n",
      "\n",
      "Full text:\n",
      "What is a breast \"mass effect?\" | Trying again, thank you automod!\n",
      "\n",
      "41yo WF, 5 ft, 160 pounds, medical Hx includes depression, allergies, asthma, and pacemaker. Taking no medications that affect the current situation which has been going on for 2 weeks.\n",
      "\n",
      "Two weeks ago I found a lump on my left breast, small, less than pea-sized, palpable under the skin but not visible through the skin.  I went to my family doctor and was scheduled for a mammogram.\n",
      "\n",
      "After the mammogram I received a letter stating the mammogram showed need for further evaluation and images. I called the imaging center to ask what exactly had been seen; they couldn't tell me much other than a \"mass effect\" was seen in my left breast, which is where the lump is.  I can't find anything to tell me exactly what a \"mass effect\" in the breast is, and was hoping someone here would be able to help clarify. I am scheduled for focal point compressions and possible ultrasound of the breast next Monday.\n",
      "\n",
      "Url:\n",
      "https://www.reddit.com/r/AskDocs/comments/agh496/what_is_a_breast_mass_effect/\n",
      "\n",
      "\n",
      "----------------\n",
      "Extracted value:\n",
      "Age = 22\n",
      "\n",
      "Full text:\n",
      "weird pins and needles/numbness between legs | I’m a 22 yo white F, 5’0 and 90 lbs, only pmhx is migraines. For the last couple of months when I’ve been sitting or laying down in a position where there is pressure on my lower back (even just laying flat on my back) I’ve had pins and needles that will gradually become numbness in my inner upper thighs and around my genitals. There’s no pain, only this tingling that gradually becomes numbness if I stay like that long enough. It goes away when I get up or roll over and take pressure off my low back. I don’t believe it’s the same as saddle anesthesia as it doesn’t wrap around to the back of my legs or my butt. No trauma/injury/preexisting low back issues. I don’t really get weakness, my legs just don’t want to move in the same way that your foot or arm don’t want to move when they fall asleep. I don’t have any other neurologic symptoms at any time. Am I just compressing a nerve or is it something I should be concerned about?\n",
      "\n",
      "Url:\n",
      "https://www.reddit.com/r/AskDocs/comments/cq4r7k/weird_pins_and_needlesnumbness_between_legs/\n",
      "\n",
      "\n",
      "----------------\n",
      "Extracted value:\n",
      "Age = 30\n",
      "\n",
      "Full text:\n",
      "Viral or bacterial throat/ear/sinus | Female\n",
      "30yo\n",
      "165cm tall\n",
      "49kg\n",
      "No Health issues\n",
      "Vit D tablets\n",
      "Mother to 2 kids, natural births\n",
      "\n",
      "\n",
      "I have been sick total 8 days now. It started last thursday. Started off as a really fuzzy throat for 2-3days and just not feeling good with bad headache. \n",
      "\n",
      "Then by day 3 I started to get a sore throat. Then A cough started and then ear pain with dripping earwax. \n",
      "\n",
      "It started as both sides of my throat hurting. But not it’s only my left side hurting for my throat and ears. My left eye is also red with some puss in it. \n",
      "\n",
      "My temperature is 37.5 now and my throat is so extremely painful. \n",
      "\n",
      "I cannot see any white spots on my tonsils but I can see green mucus dripping from both sides of my throat. Both my glands on my neck are swollen but more on my left side\n",
      "\n",
      "\n",
      "I have a box of amoxillin tablets. Should I take them? Or does it sound like a virus? \n",
      "\n",
      "I want to avoid medicine since I’m breastfeeding but i need to be well to look after my baby. \n",
      "\n",
      "Thank you\n",
      "\n",
      "Url:\n",
      "https://www.reddit.com/r/AskDocs/comments/c3vequ/viral_or_bacterial_throatearsinus/\n",
      "\n",
      "\n",
      "----------------\n",
      "Extracted value:\n",
      "Age = 18\n",
      "\n",
      "Full text:\n",
      "Coughing up green mucous in mornings, incessant coughing throughout day | 18yo caucasian male 5'8\" 150lbs. I've had this for a week. At first, I had a sore throat, headache, and had some chills during the night, although that only lasted for the first night. Soon, the sore throat started to tone down and I started coughing up green mucous blobs in the mornings (about twice a morning), followed by incessant coughing throughout the day, and those are the symptoms I'm currently feeling now. My doctor noticed some bumps at the back of my throat and believes me to have strep throat and prescribed me amoxicillin, which I've been taking for 3 days (3x a day) to no avail. What do you think? Is it strep throat or could it be something else?\n",
      "\n",
      "Url:\n",
      "https://www.reddit.com/r/AskDocs/comments/83p6ka/coughing_up_green_mucous_in_mornings_incessant/\n",
      "\n",
      "\n",
      "----------------\n",
      "Extracted value:\n",
      "Age = 20\n",
      "\n",
      "Full text:\n",
      "I have new dark bruise and don't remember injuring myself | Hi guys, I have a new bruise on the side/back of my knee that seems to be getting larger. It looks like when I gave blood once and had a vein blow. I haven't injured the area to the best of my knowledge. I was wondering if this could occur due to my meds, or if I should be worried? I've had some more mild bruising on my legs appear lately but I brushed it off. \n",
      "\n",
      "20 yo white female\n",
      "\n",
      "65\"\n",
      "\n",
      "114 lbs\n",
      "\n",
      "It showed up last Thursday and has gotten larger\n",
      "\n",
      "Daily meds: Zoloft 150 mg, Trileptal 150 mg BID\n",
      "\n",
      "Url:\n",
      "https://www.reddit.com/r/AskDocs/comments/930nx8/i_have_new_dark_bruise_and_dont_remember_injuring/\n"
     ]
    }
   ],
   "source": [
    "in_range_ind = regexp_age_3_extracts[\n",
    "    (regexp_age_3_extracts['patient_age'] < 80)\n",
    "].index\n",
    "\n",
    "for i in in_range_ind[:5]:\n",
    "    print('\\n\\n----------------')\n",
    "    print('Extracted value:')\n",
    "    print(f'''Age = {regexp_age_3_extracts['patient_age'].loc[i]}''')\n",
    "\n",
    "    print('\\nFull text:')\n",
    "    print(df_sample2['full_post_text'].loc[i])\n",
    "    print('\\nUrl:')\n",
    "    print(df_sample2['url'].loc[i])"
   ]
  },
  {
   "cell_type": "markdown",
   "id": "20e56562-ee88-46b9-aa68-2f91b69aad19",
   "metadata": {},
   "source": [
    "From testing in the above, we don't need to filter out out-of-range values here."
   ]
  },
  {
   "cell_type": "markdown",
   "id": "34b91136-1740-4b4d-ac2c-2ad99bc51b60",
   "metadata": {},
   "source": [
    "This pattern matches the following proportion of the data sample:"
   ]
  },
  {
   "cell_type": "code",
   "execution_count": 293,
   "id": "8d0fd9a0-7d08-44bb-a8e1-3fd01c23a764",
   "metadata": {},
   "outputs": [
    {
     "data": {
      "text/plain": [
       "0.0108"
      ]
     },
     "execution_count": 293,
     "metadata": {},
     "output_type": "execute_result"
    }
   ],
   "source": [
    "len(regexp_age_3_extracts)/len(df_sample2)"
   ]
  },
  {
   "cell_type": "code",
   "execution_count": 294,
   "id": "eb53d969-844b-4482-9e9b-ad83ae86cb81",
   "metadata": {},
   "outputs": [],
   "source": [
    "remainder_age_only = remainder_age_only[\n",
    "    ~remainder_age_only.index.isin(regexp_age_3_extracts.index)\n",
    "].copy()"
   ]
  },
  {
   "cell_type": "code",
   "execution_count": 295,
   "id": "c028eef7-04d4-4aaf-a5b5-44c6ebafaa7f",
   "metadata": {},
   "outputs": [
    {
     "data": {
      "text/plain": [
       "4235"
      ]
     },
     "execution_count": 295,
     "metadata": {},
     "output_type": "execute_result"
    }
   ],
   "source": [
    "len(remainder_age_only)"
   ]
  },
  {
   "cell_type": "code",
   "execution_count": 296,
   "id": "34f2063a-56d1-4040-b1b8-d191bf87e32f",
   "metadata": {},
   "outputs": [
    {
     "data": {
      "text/plain": [
       "0.4235"
      ]
     },
     "execution_count": 296,
     "metadata": {},
     "output_type": "execute_result"
    }
   ],
   "source": [
    "len(remainder_age_only)/len(df_sample2)"
   ]
  },
  {
   "cell_type": "markdown",
   "id": "39859d95-982f-48ee-9aa6-f5a656a2baa3",
   "metadata": {},
   "source": [
    "### Age pattern 4"
   ]
  },
  {
   "cell_type": "code",
   "execution_count": 310,
   "id": "54854ce6-7c72-4fb9-9218-a25ba98d0d0e",
   "metadata": {},
   "outputs": [],
   "source": [
    "regexp_age_4 = r'''\\bI'? ?a?m ([1-9]\\d)\\b(?!%)'''\n",
    "\n",
    "regexp_age_4_extracts = remainder_age_only['full_post_text'].str.extract(\n",
    "        regexp_age_4,\n",
    "        flags=re.IGNORECASE\n",
    "    ).rename(columns={\n",
    "        0: 'patient_age'\n",
    "    })\n",
    "\n",
    "regexp_age_4_extracts.dropna(inplace=True)\n",
    "\n",
    "regexp_age_4_extracts['patient_age'] = \\\n",
    "    regexp_age_4_extracts['patient_age'].astype('int')"
   ]
  },
  {
   "cell_type": "code",
   "execution_count": 311,
   "id": "3b4b7d1c-aa22-4262-94e9-1e27f75e78d7",
   "metadata": {},
   "outputs": [
    {
     "data": {
      "text/plain": [
       "0.01"
      ]
     },
     "execution_count": 311,
     "metadata": {},
     "output_type": "execute_result"
    }
   ],
   "source": [
    "len(regexp_age_4_extracts)/len(df_sample2)"
   ]
  },
  {
   "cell_type": "code",
   "execution_count": 312,
   "id": "61aca017-86ec-4159-a351-742ca55b9f17",
   "metadata": {},
   "outputs": [
    {
     "data": {
      "text/html": [
       "<div>\n",
       "<style scoped>\n",
       "    .dataframe tbody tr th:only-of-type {\n",
       "        vertical-align: middle;\n",
       "    }\n",
       "\n",
       "    .dataframe tbody tr th {\n",
       "        vertical-align: top;\n",
       "    }\n",
       "\n",
       "    .dataframe thead th {\n",
       "        text-align: right;\n",
       "    }\n",
       "</style>\n",
       "<table border=\"1\" class=\"dataframe\">\n",
       "  <thead>\n",
       "    <tr style=\"text-align: right;\">\n",
       "      <th></th>\n",
       "      <th>patient_age</th>\n",
       "    </tr>\n",
       "  </thead>\n",
       "  <tbody>\n",
       "    <tr>\n",
       "      <th>count</th>\n",
       "      <td>100.000000</td>\n",
       "    </tr>\n",
       "    <tr>\n",
       "      <th>mean</th>\n",
       "      <td>22.320000</td>\n",
       "    </tr>\n",
       "    <tr>\n",
       "      <th>std</th>\n",
       "      <td>7.458816</td>\n",
       "    </tr>\n",
       "    <tr>\n",
       "      <th>min</th>\n",
       "      <td>13.000000</td>\n",
       "    </tr>\n",
       "    <tr>\n",
       "      <th>25%</th>\n",
       "      <td>17.000000</td>\n",
       "    </tr>\n",
       "    <tr>\n",
       "      <th>50%</th>\n",
       "      <td>21.000000</td>\n",
       "    </tr>\n",
       "    <tr>\n",
       "      <th>75%</th>\n",
       "      <td>24.000000</td>\n",
       "    </tr>\n",
       "    <tr>\n",
       "      <th>max</th>\n",
       "      <td>54.000000</td>\n",
       "    </tr>\n",
       "  </tbody>\n",
       "</table>\n",
       "</div>"
      ],
      "text/plain": [
       "       patient_age\n",
       "count   100.000000\n",
       "mean     22.320000\n",
       "std       7.458816\n",
       "min      13.000000\n",
       "25%      17.000000\n",
       "50%      21.000000\n",
       "75%      24.000000\n",
       "max      54.000000"
      ]
     },
     "execution_count": 312,
     "metadata": {},
     "output_type": "execute_result"
    }
   ],
   "source": [
    "regexp_age_4_extracts.describe(include='all')"
   ]
  },
  {
   "cell_type": "code",
   "execution_count": 313,
   "id": "46e57ea0-17be-467b-9a3e-6f6a0947abea",
   "metadata": {},
   "outputs": [
    {
     "data": {
      "text/plain": [
       "patient_age\n",
       "13     1\n",
       "14     4\n",
       "15     9\n",
       "16     4\n",
       "17     8\n",
       "18     7\n",
       "19     9\n",
       "20     7\n",
       "21     8\n",
       "22     4\n",
       "23    10\n",
       "24     5\n",
       "25     4\n",
       "26     3\n",
       "27     1\n",
       "28     3\n",
       "30     1\n",
       "33     3\n",
       "34     1\n",
       "36     2\n",
       "37     1\n",
       "40     2\n",
       "44     1\n",
       "46     1\n",
       "54     1\n",
       "Name: count, dtype: int64"
      ]
     },
     "execution_count": 313,
     "metadata": {},
     "output_type": "execute_result"
    }
   ],
   "source": [
    "regexp_age_4_extracts['patient_age'].value_counts().sort_index()"
   ]
  },
  {
   "cell_type": "code",
   "execution_count": 314,
   "id": "8d4f06ab-46d4-4253-a92f-6fe38a2b788c",
   "metadata": {},
   "outputs": [
    {
     "data": {
      "application/vnd.plotly.v1+json": {
       "config": {
        "plotlyServerURL": "https://plotly.com"
       },
       "data": [
        {
         "hovertemplate": "Value: %{x:,}<br>Frequency: %{y:,}<br><extra></extra>",
         "hovertext": [
          13,
          14,
          15,
          16,
          17,
          18,
          19,
          20,
          21,
          22,
          23,
          24,
          25,
          26,
          27,
          28,
          30,
          33,
          34,
          36,
          37,
          40,
          44,
          46,
          54
         ],
         "type": "bar",
         "x": [
          13,
          14,
          15,
          16,
          17,
          18,
          19,
          20,
          21,
          22,
          23,
          24,
          25,
          26,
          27,
          28,
          30,
          33,
          34,
          36,
          37,
          40,
          44,
          46,
          54
         ],
         "y": [
          1,
          4,
          9,
          4,
          8,
          7,
          9,
          7,
          8,
          4,
          10,
          5,
          4,
          3,
          1,
          3,
          1,
          3,
          1,
          2,
          1,
          2,
          1,
          1,
          1
         ]
        }
       ],
       "layout": {
        "autosize": true,
        "plot_bgcolor": "#fff",
        "showlegend": false,
        "template": {
         "data": {
          "bar": [
           {
            "error_x": {
             "color": "#2a3f5f"
            },
            "error_y": {
             "color": "#2a3f5f"
            },
            "marker": {
             "line": {
              "color": "#E5ECF6",
              "width": 0.5
             },
             "pattern": {
              "fillmode": "overlay",
              "size": 10,
              "solidity": 0.2
             }
            },
            "type": "bar"
           }
          ],
          "barpolar": [
           {
            "marker": {
             "line": {
              "color": "#E5ECF6",
              "width": 0.5
             },
             "pattern": {
              "fillmode": "overlay",
              "size": 10,
              "solidity": 0.2
             }
            },
            "type": "barpolar"
           }
          ],
          "carpet": [
           {
            "aaxis": {
             "endlinecolor": "#2a3f5f",
             "gridcolor": "white",
             "linecolor": "white",
             "minorgridcolor": "white",
             "startlinecolor": "#2a3f5f"
            },
            "baxis": {
             "endlinecolor": "#2a3f5f",
             "gridcolor": "white",
             "linecolor": "white",
             "minorgridcolor": "white",
             "startlinecolor": "#2a3f5f"
            },
            "type": "carpet"
           }
          ],
          "choropleth": [
           {
            "colorbar": {
             "outlinewidth": 0,
             "ticks": ""
            },
            "type": "choropleth"
           }
          ],
          "contour": [
           {
            "colorbar": {
             "outlinewidth": 0,
             "ticks": ""
            },
            "colorscale": [
             [
              0,
              "#0d0887"
             ],
             [
              0.1111111111111111,
              "#46039f"
             ],
             [
              0.2222222222222222,
              "#7201a8"
             ],
             [
              0.3333333333333333,
              "#9c179e"
             ],
             [
              0.4444444444444444,
              "#bd3786"
             ],
             [
              0.5555555555555556,
              "#d8576b"
             ],
             [
              0.6666666666666666,
              "#ed7953"
             ],
             [
              0.7777777777777778,
              "#fb9f3a"
             ],
             [
              0.8888888888888888,
              "#fdca26"
             ],
             [
              1,
              "#f0f921"
             ]
            ],
            "type": "contour"
           }
          ],
          "contourcarpet": [
           {
            "colorbar": {
             "outlinewidth": 0,
             "ticks": ""
            },
            "type": "contourcarpet"
           }
          ],
          "heatmap": [
           {
            "colorbar": {
             "outlinewidth": 0,
             "ticks": ""
            },
            "colorscale": [
             [
              0,
              "#0d0887"
             ],
             [
              0.1111111111111111,
              "#46039f"
             ],
             [
              0.2222222222222222,
              "#7201a8"
             ],
             [
              0.3333333333333333,
              "#9c179e"
             ],
             [
              0.4444444444444444,
              "#bd3786"
             ],
             [
              0.5555555555555556,
              "#d8576b"
             ],
             [
              0.6666666666666666,
              "#ed7953"
             ],
             [
              0.7777777777777778,
              "#fb9f3a"
             ],
             [
              0.8888888888888888,
              "#fdca26"
             ],
             [
              1,
              "#f0f921"
             ]
            ],
            "type": "heatmap"
           }
          ],
          "heatmapgl": [
           {
            "colorbar": {
             "outlinewidth": 0,
             "ticks": ""
            },
            "colorscale": [
             [
              0,
              "#0d0887"
             ],
             [
              0.1111111111111111,
              "#46039f"
             ],
             [
              0.2222222222222222,
              "#7201a8"
             ],
             [
              0.3333333333333333,
              "#9c179e"
             ],
             [
              0.4444444444444444,
              "#bd3786"
             ],
             [
              0.5555555555555556,
              "#d8576b"
             ],
             [
              0.6666666666666666,
              "#ed7953"
             ],
             [
              0.7777777777777778,
              "#fb9f3a"
             ],
             [
              0.8888888888888888,
              "#fdca26"
             ],
             [
              1,
              "#f0f921"
             ]
            ],
            "type": "heatmapgl"
           }
          ],
          "histogram": [
           {
            "marker": {
             "pattern": {
              "fillmode": "overlay",
              "size": 10,
              "solidity": 0.2
             }
            },
            "type": "histogram"
           }
          ],
          "histogram2d": [
           {
            "colorbar": {
             "outlinewidth": 0,
             "ticks": ""
            },
            "colorscale": [
             [
              0,
              "#0d0887"
             ],
             [
              0.1111111111111111,
              "#46039f"
             ],
             [
              0.2222222222222222,
              "#7201a8"
             ],
             [
              0.3333333333333333,
              "#9c179e"
             ],
             [
              0.4444444444444444,
              "#bd3786"
             ],
             [
              0.5555555555555556,
              "#d8576b"
             ],
             [
              0.6666666666666666,
              "#ed7953"
             ],
             [
              0.7777777777777778,
              "#fb9f3a"
             ],
             [
              0.8888888888888888,
              "#fdca26"
             ],
             [
              1,
              "#f0f921"
             ]
            ],
            "type": "histogram2d"
           }
          ],
          "histogram2dcontour": [
           {
            "colorbar": {
             "outlinewidth": 0,
             "ticks": ""
            },
            "colorscale": [
             [
              0,
              "#0d0887"
             ],
             [
              0.1111111111111111,
              "#46039f"
             ],
             [
              0.2222222222222222,
              "#7201a8"
             ],
             [
              0.3333333333333333,
              "#9c179e"
             ],
             [
              0.4444444444444444,
              "#bd3786"
             ],
             [
              0.5555555555555556,
              "#d8576b"
             ],
             [
              0.6666666666666666,
              "#ed7953"
             ],
             [
              0.7777777777777778,
              "#fb9f3a"
             ],
             [
              0.8888888888888888,
              "#fdca26"
             ],
             [
              1,
              "#f0f921"
             ]
            ],
            "type": "histogram2dcontour"
           }
          ],
          "mesh3d": [
           {
            "colorbar": {
             "outlinewidth": 0,
             "ticks": ""
            },
            "type": "mesh3d"
           }
          ],
          "parcoords": [
           {
            "line": {
             "colorbar": {
              "outlinewidth": 0,
              "ticks": ""
             }
            },
            "type": "parcoords"
           }
          ],
          "pie": [
           {
            "automargin": true,
            "type": "pie"
           }
          ],
          "scatter": [
           {
            "fillpattern": {
             "fillmode": "overlay",
             "size": 10,
             "solidity": 0.2
            },
            "type": "scatter"
           }
          ],
          "scatter3d": [
           {
            "line": {
             "colorbar": {
              "outlinewidth": 0,
              "ticks": ""
             }
            },
            "marker": {
             "colorbar": {
              "outlinewidth": 0,
              "ticks": ""
             }
            },
            "type": "scatter3d"
           }
          ],
          "scattercarpet": [
           {
            "marker": {
             "colorbar": {
              "outlinewidth": 0,
              "ticks": ""
             }
            },
            "type": "scattercarpet"
           }
          ],
          "scattergeo": [
           {
            "marker": {
             "colorbar": {
              "outlinewidth": 0,
              "ticks": ""
             }
            },
            "type": "scattergeo"
           }
          ],
          "scattergl": [
           {
            "marker": {
             "colorbar": {
              "outlinewidth": 0,
              "ticks": ""
             }
            },
            "type": "scattergl"
           }
          ],
          "scattermapbox": [
           {
            "marker": {
             "colorbar": {
              "outlinewidth": 0,
              "ticks": ""
             }
            },
            "type": "scattermapbox"
           }
          ],
          "scatterpolar": [
           {
            "marker": {
             "colorbar": {
              "outlinewidth": 0,
              "ticks": ""
             }
            },
            "type": "scatterpolar"
           }
          ],
          "scatterpolargl": [
           {
            "marker": {
             "colorbar": {
              "outlinewidth": 0,
              "ticks": ""
             }
            },
            "type": "scatterpolargl"
           }
          ],
          "scatterternary": [
           {
            "marker": {
             "colorbar": {
              "outlinewidth": 0,
              "ticks": ""
             }
            },
            "type": "scatterternary"
           }
          ],
          "surface": [
           {
            "colorbar": {
             "outlinewidth": 0,
             "ticks": ""
            },
            "colorscale": [
             [
              0,
              "#0d0887"
             ],
             [
              0.1111111111111111,
              "#46039f"
             ],
             [
              0.2222222222222222,
              "#7201a8"
             ],
             [
              0.3333333333333333,
              "#9c179e"
             ],
             [
              0.4444444444444444,
              "#bd3786"
             ],
             [
              0.5555555555555556,
              "#d8576b"
             ],
             [
              0.6666666666666666,
              "#ed7953"
             ],
             [
              0.7777777777777778,
              "#fb9f3a"
             ],
             [
              0.8888888888888888,
              "#fdca26"
             ],
             [
              1,
              "#f0f921"
             ]
            ],
            "type": "surface"
           }
          ],
          "table": [
           {
            "cells": {
             "fill": {
              "color": "#EBF0F8"
             },
             "line": {
              "color": "white"
             }
            },
            "header": {
             "fill": {
              "color": "#C8D4E3"
             },
             "line": {
              "color": "white"
             }
            },
            "type": "table"
           }
          ]
         },
         "layout": {
          "annotationdefaults": {
           "arrowcolor": "#2a3f5f",
           "arrowhead": 0,
           "arrowwidth": 1
          },
          "autotypenumbers": "strict",
          "coloraxis": {
           "colorbar": {
            "outlinewidth": 0,
            "ticks": ""
           }
          },
          "colorscale": {
           "diverging": [
            [
             0,
             "#8e0152"
            ],
            [
             0.1,
             "#c51b7d"
            ],
            [
             0.2,
             "#de77ae"
            ],
            [
             0.3,
             "#f1b6da"
            ],
            [
             0.4,
             "#fde0ef"
            ],
            [
             0.5,
             "#f7f7f7"
            ],
            [
             0.6,
             "#e6f5d0"
            ],
            [
             0.7,
             "#b8e186"
            ],
            [
             0.8,
             "#7fbc41"
            ],
            [
             0.9,
             "#4d9221"
            ],
            [
             1,
             "#276419"
            ]
           ],
           "sequential": [
            [
             0,
             "#0d0887"
            ],
            [
             0.1111111111111111,
             "#46039f"
            ],
            [
             0.2222222222222222,
             "#7201a8"
            ],
            [
             0.3333333333333333,
             "#9c179e"
            ],
            [
             0.4444444444444444,
             "#bd3786"
            ],
            [
             0.5555555555555556,
             "#d8576b"
            ],
            [
             0.6666666666666666,
             "#ed7953"
            ],
            [
             0.7777777777777778,
             "#fb9f3a"
            ],
            [
             0.8888888888888888,
             "#fdca26"
            ],
            [
             1,
             "#f0f921"
            ]
           ],
           "sequentialminus": [
            [
             0,
             "#0d0887"
            ],
            [
             0.1111111111111111,
             "#46039f"
            ],
            [
             0.2222222222222222,
             "#7201a8"
            ],
            [
             0.3333333333333333,
             "#9c179e"
            ],
            [
             0.4444444444444444,
             "#bd3786"
            ],
            [
             0.5555555555555556,
             "#d8576b"
            ],
            [
             0.6666666666666666,
             "#ed7953"
            ],
            [
             0.7777777777777778,
             "#fb9f3a"
            ],
            [
             0.8888888888888888,
             "#fdca26"
            ],
            [
             1,
             "#f0f921"
            ]
           ]
          },
          "colorway": [
           "#636efa",
           "#EF553B",
           "#00cc96",
           "#ab63fa",
           "#FFA15A",
           "#19d3f3",
           "#FF6692",
           "#B6E880",
           "#FF97FF",
           "#FECB52"
          ],
          "font": {
           "color": "#2a3f5f"
          },
          "geo": {
           "bgcolor": "white",
           "lakecolor": "white",
           "landcolor": "#E5ECF6",
           "showlakes": true,
           "showland": true,
           "subunitcolor": "white"
          },
          "hoverlabel": {
           "align": "left"
          },
          "hovermode": "closest",
          "mapbox": {
           "style": "light"
          },
          "paper_bgcolor": "white",
          "plot_bgcolor": "#E5ECF6",
          "polar": {
           "angularaxis": {
            "gridcolor": "white",
            "linecolor": "white",
            "ticks": ""
           },
           "bgcolor": "#E5ECF6",
           "radialaxis": {
            "gridcolor": "white",
            "linecolor": "white",
            "ticks": ""
           }
          },
          "scene": {
           "xaxis": {
            "backgroundcolor": "#E5ECF6",
            "gridcolor": "white",
            "gridwidth": 2,
            "linecolor": "white",
            "showbackground": true,
            "ticks": "",
            "zerolinecolor": "white"
           },
           "yaxis": {
            "backgroundcolor": "#E5ECF6",
            "gridcolor": "white",
            "gridwidth": 2,
            "linecolor": "white",
            "showbackground": true,
            "ticks": "",
            "zerolinecolor": "white"
           },
           "zaxis": {
            "backgroundcolor": "#E5ECF6",
            "gridcolor": "white",
            "gridwidth": 2,
            "linecolor": "white",
            "showbackground": true,
            "ticks": "",
            "zerolinecolor": "white"
           }
          },
          "shapedefaults": {
           "line": {
            "color": "#2a3f5f"
           }
          },
          "ternary": {
           "aaxis": {
            "gridcolor": "white",
            "linecolor": "white",
            "ticks": ""
           },
           "baxis": {
            "gridcolor": "white",
            "linecolor": "white",
            "ticks": ""
           },
           "bgcolor": "#E5ECF6",
           "caxis": {
            "gridcolor": "white",
            "linecolor": "white",
            "ticks": ""
           }
          },
          "title": {
           "x": 0.05
          },
          "xaxis": {
           "automargin": true,
           "gridcolor": "white",
           "linecolor": "white",
           "ticks": "",
           "title": {
            "standoff": 15
           },
           "zerolinecolor": "white",
           "zerolinewidth": 2
          },
          "yaxis": {
           "automargin": true,
           "gridcolor": "white",
           "linecolor": "white",
           "ticks": "",
           "title": {
            "standoff": 15
           },
           "zerolinecolor": "white",
           "zerolinewidth": 2
          }
         }
        },
        "title": {
         "text": "<b>patient_age</b> frequency distribution"
        },
        "xaxis": {
         "autorange": true,
         "range": [
          0,
          54.5
         ],
         "rangemode": "tozero",
         "type": "linear"
        },
        "yaxis": {
         "autorange": true,
         "gridcolor": "#eee",
         "range": [
          0,
          10.526315789473685
         ],
         "rangemode": "tozero",
         "title": {
          "text": "frequency"
         },
         "type": "linear"
        }
       }
      },
      "text/html": [
       "<div>                            <div id=\"3baa8e8e-d2a2-4c5b-9dbd-e8e86e05a63d\" class=\"plotly-graph-div\" style=\"height:500px; width:100%;\"></div>            <script type=\"text/javascript\">                require([\"plotly\"], function(Plotly) {                    window.PLOTLYENV=window.PLOTLYENV || {};                                    if (document.getElementById(\"3baa8e8e-d2a2-4c5b-9dbd-e8e86e05a63d\")) {                    Plotly.newPlot(                        \"3baa8e8e-d2a2-4c5b-9dbd-e8e86e05a63d\",                        [{\"hovertemplate\":\"Value: %{x:,}<br>Frequency: %{y:,}<br><extra></extra>\",\"hovertext\":[13.0,14.0,15.0,16.0,17.0,18.0,19.0,20.0,21.0,22.0,23.0,24.0,25.0,26.0,27.0,28.0,30.0,33.0,34.0,36.0,37.0,40.0,44.0,46.0,54.0],\"x\":[13,14,15,16,17,18,19,20,21,22,23,24,25,26,27,28,30,33,34,36,37,40,44,46,54],\"y\":[1,4,9,4,8,7,9,7,8,4,10,5,4,3,1,3,1,3,1,2,1,2,1,1,1],\"type\":\"bar\"}],                        {\"template\":{\"data\":{\"histogram2dcontour\":[{\"type\":\"histogram2dcontour\",\"colorbar\":{\"outlinewidth\":0,\"ticks\":\"\"},\"colorscale\":[[0.0,\"#0d0887\"],[0.1111111111111111,\"#46039f\"],[0.2222222222222222,\"#7201a8\"],[0.3333333333333333,\"#9c179e\"],[0.4444444444444444,\"#bd3786\"],[0.5555555555555556,\"#d8576b\"],[0.6666666666666666,\"#ed7953\"],[0.7777777777777778,\"#fb9f3a\"],[0.8888888888888888,\"#fdca26\"],[1.0,\"#f0f921\"]]}],\"choropleth\":[{\"type\":\"choropleth\",\"colorbar\":{\"outlinewidth\":0,\"ticks\":\"\"}}],\"histogram2d\":[{\"type\":\"histogram2d\",\"colorbar\":{\"outlinewidth\":0,\"ticks\":\"\"},\"colorscale\":[[0.0,\"#0d0887\"],[0.1111111111111111,\"#46039f\"],[0.2222222222222222,\"#7201a8\"],[0.3333333333333333,\"#9c179e\"],[0.4444444444444444,\"#bd3786\"],[0.5555555555555556,\"#d8576b\"],[0.6666666666666666,\"#ed7953\"],[0.7777777777777778,\"#fb9f3a\"],[0.8888888888888888,\"#fdca26\"],[1.0,\"#f0f921\"]]}],\"heatmap\":[{\"type\":\"heatmap\",\"colorbar\":{\"outlinewidth\":0,\"ticks\":\"\"},\"colorscale\":[[0.0,\"#0d0887\"],[0.1111111111111111,\"#46039f\"],[0.2222222222222222,\"#7201a8\"],[0.3333333333333333,\"#9c179e\"],[0.4444444444444444,\"#bd3786\"],[0.5555555555555556,\"#d8576b\"],[0.6666666666666666,\"#ed7953\"],[0.7777777777777778,\"#fb9f3a\"],[0.8888888888888888,\"#fdca26\"],[1.0,\"#f0f921\"]]}],\"heatmapgl\":[{\"type\":\"heatmapgl\",\"colorbar\":{\"outlinewidth\":0,\"ticks\":\"\"},\"colorscale\":[[0.0,\"#0d0887\"],[0.1111111111111111,\"#46039f\"],[0.2222222222222222,\"#7201a8\"],[0.3333333333333333,\"#9c179e\"],[0.4444444444444444,\"#bd3786\"],[0.5555555555555556,\"#d8576b\"],[0.6666666666666666,\"#ed7953\"],[0.7777777777777778,\"#fb9f3a\"],[0.8888888888888888,\"#fdca26\"],[1.0,\"#f0f921\"]]}],\"contourcarpet\":[{\"type\":\"contourcarpet\",\"colorbar\":{\"outlinewidth\":0,\"ticks\":\"\"}}],\"contour\":[{\"type\":\"contour\",\"colorbar\":{\"outlinewidth\":0,\"ticks\":\"\"},\"colorscale\":[[0.0,\"#0d0887\"],[0.1111111111111111,\"#46039f\"],[0.2222222222222222,\"#7201a8\"],[0.3333333333333333,\"#9c179e\"],[0.4444444444444444,\"#bd3786\"],[0.5555555555555556,\"#d8576b\"],[0.6666666666666666,\"#ed7953\"],[0.7777777777777778,\"#fb9f3a\"],[0.8888888888888888,\"#fdca26\"],[1.0,\"#f0f921\"]]}],\"surface\":[{\"type\":\"surface\",\"colorbar\":{\"outlinewidth\":0,\"ticks\":\"\"},\"colorscale\":[[0.0,\"#0d0887\"],[0.1111111111111111,\"#46039f\"],[0.2222222222222222,\"#7201a8\"],[0.3333333333333333,\"#9c179e\"],[0.4444444444444444,\"#bd3786\"],[0.5555555555555556,\"#d8576b\"],[0.6666666666666666,\"#ed7953\"],[0.7777777777777778,\"#fb9f3a\"],[0.8888888888888888,\"#fdca26\"],[1.0,\"#f0f921\"]]}],\"mesh3d\":[{\"type\":\"mesh3d\",\"colorbar\":{\"outlinewidth\":0,\"ticks\":\"\"}}],\"scatter\":[{\"fillpattern\":{\"fillmode\":\"overlay\",\"size\":10,\"solidity\":0.2},\"type\":\"scatter\"}],\"parcoords\":[{\"type\":\"parcoords\",\"line\":{\"colorbar\":{\"outlinewidth\":0,\"ticks\":\"\"}}}],\"scatterpolargl\":[{\"type\":\"scatterpolargl\",\"marker\":{\"colorbar\":{\"outlinewidth\":0,\"ticks\":\"\"}}}],\"bar\":[{\"error_x\":{\"color\":\"#2a3f5f\"},\"error_y\":{\"color\":\"#2a3f5f\"},\"marker\":{\"line\":{\"color\":\"#E5ECF6\",\"width\":0.5},\"pattern\":{\"fillmode\":\"overlay\",\"size\":10,\"solidity\":0.2}},\"type\":\"bar\"}],\"scattergeo\":[{\"type\":\"scattergeo\",\"marker\":{\"colorbar\":{\"outlinewidth\":0,\"ticks\":\"\"}}}],\"scatterpolar\":[{\"type\":\"scatterpolar\",\"marker\":{\"colorbar\":{\"outlinewidth\":0,\"ticks\":\"\"}}}],\"histogram\":[{\"marker\":{\"pattern\":{\"fillmode\":\"overlay\",\"size\":10,\"solidity\":0.2}},\"type\":\"histogram\"}],\"scattergl\":[{\"type\":\"scattergl\",\"marker\":{\"colorbar\":{\"outlinewidth\":0,\"ticks\":\"\"}}}],\"scatter3d\":[{\"type\":\"scatter3d\",\"line\":{\"colorbar\":{\"outlinewidth\":0,\"ticks\":\"\"}},\"marker\":{\"colorbar\":{\"outlinewidth\":0,\"ticks\":\"\"}}}],\"scattermapbox\":[{\"type\":\"scattermapbox\",\"marker\":{\"colorbar\":{\"outlinewidth\":0,\"ticks\":\"\"}}}],\"scatterternary\":[{\"type\":\"scatterternary\",\"marker\":{\"colorbar\":{\"outlinewidth\":0,\"ticks\":\"\"}}}],\"scattercarpet\":[{\"type\":\"scattercarpet\",\"marker\":{\"colorbar\":{\"outlinewidth\":0,\"ticks\":\"\"}}}],\"carpet\":[{\"aaxis\":{\"endlinecolor\":\"#2a3f5f\",\"gridcolor\":\"white\",\"linecolor\":\"white\",\"minorgridcolor\":\"white\",\"startlinecolor\":\"#2a3f5f\"},\"baxis\":{\"endlinecolor\":\"#2a3f5f\",\"gridcolor\":\"white\",\"linecolor\":\"white\",\"minorgridcolor\":\"white\",\"startlinecolor\":\"#2a3f5f\"},\"type\":\"carpet\"}],\"table\":[{\"cells\":{\"fill\":{\"color\":\"#EBF0F8\"},\"line\":{\"color\":\"white\"}},\"header\":{\"fill\":{\"color\":\"#C8D4E3\"},\"line\":{\"color\":\"white\"}},\"type\":\"table\"}],\"barpolar\":[{\"marker\":{\"line\":{\"color\":\"#E5ECF6\",\"width\":0.5},\"pattern\":{\"fillmode\":\"overlay\",\"size\":10,\"solidity\":0.2}},\"type\":\"barpolar\"}],\"pie\":[{\"automargin\":true,\"type\":\"pie\"}]},\"layout\":{\"autotypenumbers\":\"strict\",\"colorway\":[\"#636efa\",\"#EF553B\",\"#00cc96\",\"#ab63fa\",\"#FFA15A\",\"#19d3f3\",\"#FF6692\",\"#B6E880\",\"#FF97FF\",\"#FECB52\"],\"font\":{\"color\":\"#2a3f5f\"},\"hovermode\":\"closest\",\"hoverlabel\":{\"align\":\"left\"},\"paper_bgcolor\":\"white\",\"plot_bgcolor\":\"#E5ECF6\",\"polar\":{\"bgcolor\":\"#E5ECF6\",\"angularaxis\":{\"gridcolor\":\"white\",\"linecolor\":\"white\",\"ticks\":\"\"},\"radialaxis\":{\"gridcolor\":\"white\",\"linecolor\":\"white\",\"ticks\":\"\"}},\"ternary\":{\"bgcolor\":\"#E5ECF6\",\"aaxis\":{\"gridcolor\":\"white\",\"linecolor\":\"white\",\"ticks\":\"\"},\"baxis\":{\"gridcolor\":\"white\",\"linecolor\":\"white\",\"ticks\":\"\"},\"caxis\":{\"gridcolor\":\"white\",\"linecolor\":\"white\",\"ticks\":\"\"}},\"coloraxis\":{\"colorbar\":{\"outlinewidth\":0,\"ticks\":\"\"}},\"colorscale\":{\"sequential\":[[0.0,\"#0d0887\"],[0.1111111111111111,\"#46039f\"],[0.2222222222222222,\"#7201a8\"],[0.3333333333333333,\"#9c179e\"],[0.4444444444444444,\"#bd3786\"],[0.5555555555555556,\"#d8576b\"],[0.6666666666666666,\"#ed7953\"],[0.7777777777777778,\"#fb9f3a\"],[0.8888888888888888,\"#fdca26\"],[1.0,\"#f0f921\"]],\"sequentialminus\":[[0.0,\"#0d0887\"],[0.1111111111111111,\"#46039f\"],[0.2222222222222222,\"#7201a8\"],[0.3333333333333333,\"#9c179e\"],[0.4444444444444444,\"#bd3786\"],[0.5555555555555556,\"#d8576b\"],[0.6666666666666666,\"#ed7953\"],[0.7777777777777778,\"#fb9f3a\"],[0.8888888888888888,\"#fdca26\"],[1.0,\"#f0f921\"]],\"diverging\":[[0,\"#8e0152\"],[0.1,\"#c51b7d\"],[0.2,\"#de77ae\"],[0.3,\"#f1b6da\"],[0.4,\"#fde0ef\"],[0.5,\"#f7f7f7\"],[0.6,\"#e6f5d0\"],[0.7,\"#b8e186\"],[0.8,\"#7fbc41\"],[0.9,\"#4d9221\"],[1,\"#276419\"]]},\"xaxis\":{\"gridcolor\":\"white\",\"linecolor\":\"white\",\"ticks\":\"\",\"title\":{\"standoff\":15},\"zerolinecolor\":\"white\",\"automargin\":true,\"zerolinewidth\":2},\"yaxis\":{\"gridcolor\":\"white\",\"linecolor\":\"white\",\"ticks\":\"\",\"title\":{\"standoff\":15},\"zerolinecolor\":\"white\",\"automargin\":true,\"zerolinewidth\":2},\"scene\":{\"xaxis\":{\"backgroundcolor\":\"#E5ECF6\",\"gridcolor\":\"white\",\"linecolor\":\"white\",\"showbackground\":true,\"ticks\":\"\",\"zerolinecolor\":\"white\",\"gridwidth\":2},\"yaxis\":{\"backgroundcolor\":\"#E5ECF6\",\"gridcolor\":\"white\",\"linecolor\":\"white\",\"showbackground\":true,\"ticks\":\"\",\"zerolinecolor\":\"white\",\"gridwidth\":2},\"zaxis\":{\"backgroundcolor\":\"#E5ECF6\",\"gridcolor\":\"white\",\"linecolor\":\"white\",\"showbackground\":true,\"ticks\":\"\",\"zerolinecolor\":\"white\",\"gridwidth\":2}},\"shapedefaults\":{\"line\":{\"color\":\"#2a3f5f\"}},\"annotationdefaults\":{\"arrowcolor\":\"#2a3f5f\",\"arrowhead\":0,\"arrowwidth\":1},\"geo\":{\"bgcolor\":\"white\",\"landcolor\":\"#E5ECF6\",\"subunitcolor\":\"white\",\"showland\":true,\"showlakes\":true,\"lakecolor\":\"white\"},\"title\":{\"x\":0.05},\"mapbox\":{\"style\":\"light\"}}},\"yaxis\":{\"gridcolor\":\"#eee\",\"title\":{\"text\":\"frequency\"},\"rangemode\":\"tozero\"},\"xaxis\":{\"rangemode\":\"tozero\"},\"title\":{\"text\":\"<b>patient_age</b> frequency distribution\"},\"plot_bgcolor\":\"#fff\",\"showlegend\":false,\"height\":500},                        {\"responsive\": true}                    ).then(function(){\n",
       "                            \n",
       "var gd = document.getElementById('3baa8e8e-d2a2-4c5b-9dbd-e8e86e05a63d');\n",
       "var x = new MutationObserver(function (mutations, observer) {{\n",
       "        var display = window.getComputedStyle(gd).display;\n",
       "        if (!display || display === 'none') {{\n",
       "            console.log([gd, 'removed!']);\n",
       "            Plotly.purge(gd);\n",
       "            observer.disconnect();\n",
       "        }}\n",
       "}});\n",
       "\n",
       "// Listen for the removal of the full notebook cells\n",
       "var notebookContainer = gd.closest('#notebook-container');\n",
       "if (notebookContainer) {{\n",
       "    x.observe(notebookContainer, {childList: true});\n",
       "}}\n",
       "\n",
       "// Listen for the clearing of the current output cell\n",
       "var outputEl = gd.closest('.output');\n",
       "if (outputEl) {{\n",
       "    x.observe(outputEl, {childList: true});\n",
       "}}\n",
       "\n",
       "                        })                };                });            </script>        </div>"
      ]
     },
     "metadata": {},
     "output_type": "display_data"
    }
   ],
   "source": [
    "num_freq_plot(regexp_age_4_extracts, 'patient_age')"
   ]
  },
  {
   "cell_type": "code",
   "execution_count": 315,
   "id": "773f3792-1acd-4aad-adc7-a5fc750a5ada",
   "metadata": {},
   "outputs": [
    {
     "name": "stdout",
     "output_type": "stream",
     "text": [
      "\n",
      "\n",
      "----------------\n",
      "Extracted value:\n",
      "Age = 33\n",
      "\n",
      "Full text:\n",
      "2 ER visits and no answers, dont know how to move forward. | Lately in the evenings I'll get a sensation that I forgot how to swallow. If I drink something it's easier but just manually I struggle. When this starts to occur I get a rushing feeling, that I assume now is adrenaline, probably body thinks I'm choking. This ultimately leads into Hyperventilating and heart rate and blood pressure skyrockets. (BP 200/140). This happened to me last night and I thought maybe it was the Benadryl I took so I drank a lot of water and induced vomiting. The vomit was like molasses and didn't come out. I ended up inhaling some of it which extreme panic took over as I'm on my hands and knees leaning forward trying to breathe. Ambulance picks me up and after some fluids and nothing else it all seemed to resolve a couple hours later, although lungs still kinda hurt.\n",
      "\n",
      "I'm 33 white male 140lbs\n",
      "Take Benadryl nightly for sleep\n",
      "50ml Enbrel for autoimmune disease\n",
      "\n",
      "CT scan lined up because awhile back they found fluid around the Carina area of my bronchial tubes, unknown if relavent.\n",
      "\n",
      "This is the best I can describe my symptoms. I do not have anxiety that I'm aware of, after almost choking last night was the only time I actually freaked. Usually I can keep calm.\n",
      "\n",
      "Ideas?\n",
      "\n",
      "Url:\n",
      "https://www.reddit.com/r/AskDocs/comments/8rhd60/2_er_visits_and_no_answers_dont_know_how_to_move/\n",
      "\n",
      "\n",
      "----------------\n",
      "Extracted value:\n",
      "Age = 33\n",
      "\n",
      "Full text:\n",
      "I’ve developed dark splotchy areas on my penis over the past few months and can’t find any info on what might be happening to me. Wish I had insurance right about now :/ | Im 33 and I’m an alcoholic, but trying to cut down.  I have to assume it’s related.\n",
      "\n",
      "NSFW link to picture of current state: https://imgur.com/a/6kdZsPu\n",
      "\n",
      "Url:\n",
      "https://www.reddit.com/r/AskDocs/comments/93kez3/ive_developed_dark_splotchy_areas_on_my_penis/\n",
      "\n",
      "\n",
      "----------------\n",
      "Extracted value:\n",
      "Age = 37\n",
      "\n",
      "Full text:\n",
      "Itchy red spots on my palms. | Hi, and thank you for reading this.\n",
      "About a week ago I suddenly developed red spots on both palms. They itch and burn. Its worst when I first wake up or run my hands under hot water.  It feels similar to when your hands get cold from snowballs or sledding, and you run them under warm water (if that makes sense). The spots dont really feel elevated like bumps. They stop at my wrist and are only on my palms.\n",
      "\n",
      "\n",
      "[Pix](https://imgur.com/P7jX2MK)\n",
      "\n",
      "Im 37, white male, 6'03\", 185, generally healthy, some seasonal allergies, in the southwestern United States. \n",
      "If it's relevant, I had a C4 C5 Anterior Spinal Fusion in December to fix some Stenosis.\n",
      "\n",
      "Url:\n",
      "https://www.reddit.com/r/AskDocs/comments/65romr/itchy_red_spots_on_my_palms/\n",
      "\n",
      "\n",
      "----------------\n",
      "Extracted value:\n",
      "Age = 54\n",
      "\n",
      "Full text:\n",
      "Tiredness | Hi there  i am 54 femsle 5 foot 3 inch, 12 stone weight.i am a non smoker, duration is most of the time during the day i take levothyroxine, cetreline,metaclopeamide, cholecalciferol, entericoxib, hydroxachloroquine, piriton, gabapentin, zomorph, bisoprolol.ventolin. I suffer from asthma, colitis,diverticulitis, ibs, lupus, osteochondroma, bursa on hips, iiitable leg syndrome  svt  allergies also  I have hashimotis hypothyroidism and recently I'm more tired all the time. I can get up lunch and within 2 hours I'm feeling tired again. And on an evening can barely keep my eyes open. Is this just a problem normally or could this be my levothyroxine needs increasing. Because of covid I haven't been checked for 2 years. I've booked a blood test next Monday but thought I would ask here first\n",
      "\n",
      "Url:\n",
      "https://www.reddit.com/r/AskDocs/comments/ngdll7/tiredness/\n",
      "\n",
      "\n",
      "----------------\n",
      "Extracted value:\n",
      "Age = 34\n",
      "\n",
      "Full text:\n",
      "Does my chronic pain mean something underlying is actually wrong, it is it an exaggerated response to something minor? | Personal details: I'm 34, in decent shape, exercise for about an hour a day or more at least 5 days a week ( I'm 5'7, 160lbs, about 15 lbs over my desired weight but working on getting back to it. No drug use at all other than OTC meds or inhaler for asthma. I play hockey, run, cycle, do manual yard work, but work in an office and sit 8 hours a day (though I try to get up and about every hour and go for a half hour walk at lunch).\n",
      "\n",
      "  \n",
      "\n",
      "\n",
      "About 2 years ago I put my back out playing hockey. Could barely walk, couldn't bend over to put on my socks or pick up anything more than maybe 10 lbs. Doctor did x-rays, nothing seriously damaged, felt it was a slight disc bulge or tear, gave me stronger nsaid's (nothing like opioid based pain killers) recommended stretches, ice and heat depending what felt better, carried on. Fast forward a year, cutting the lawn, turned slightly and same stabbing feeling in my lower back (just above my glutes right in the spine). Again, visit to doc, recommends chiropractor.\n",
      "\n",
      "  \n",
      "\n",
      "\n",
      "Did a dozen sessions with the chiropractor, laser and physical treatment. Back starts feeling much better but never 100%. I haven't put it out again but in the last year it's always been sore and aching, just not diabilitating. Take alieve every other day it seems and my hip seems to always have pain in it now also, just dull persistent nerve type pain.\n",
      "\n",
      "  \n",
      "\n",
      "\n",
      "I'm in Canada where marijuana is legal and considering taking high cbd, low thc oil to help numb the pain but not get the high.\n",
      "\n",
      "  \n",
      "\n",
      "\n",
      "Long story short, my question is with a chronic nagging pain like I'm experiencing, which day to day is more of a nuisance but when it comes to intense physical activity I'm having to take anti inflammatory, topical treatments or possibly cbd to numb pain, is the pain response my body sending me really a cause of concern of a more severe underlying problem or if it doesn't physically limit my everyday life other than the nagging pain is a person relatively safe to just dull those receptors and keep working on the physical treatments and strengthening to help the affected areas and to keep staying active, which will help also?\n",
      "\n",
      "Url:\n",
      "https://www.reddit.com/r/AskDocs/comments/dago1c/does_my_chronic_pain_mean_something_underlying_is/\n"
     ]
    }
   ],
   "source": [
    "in_range_ind = regexp_age_4_extracts[\n",
    "    (regexp_age_4_extracts['patient_age'] > 30)\n",
    "].index\n",
    "\n",
    "for i in in_range_ind[:5]:\n",
    "    print('\\n\\n----------------')\n",
    "    print('Extracted value:')\n",
    "    print(f'''Age = {regexp_age_4_extracts['patient_age'].loc[i]}''')\n",
    "\n",
    "    print('\\nFull text:')\n",
    "    print(df_sample2['full_post_text'].loc[i])\n",
    "    print('\\nUrl:')\n",
    "    print(df_sample2['url'].loc[i])"
   ]
  },
  {
   "cell_type": "markdown",
   "id": "155a4ad2-0879-4b93-96ae-555f53e14d88",
   "metadata": {},
   "source": [
    "From testing in the above, we don't need to filter out out-of-range values here."
   ]
  },
  {
   "cell_type": "markdown",
   "id": "50a48122-f20a-4ce8-95ad-eb65be5f2d24",
   "metadata": {},
   "source": [
    "This pattern matches the following proportion of the data sample:"
   ]
  },
  {
   "cell_type": "code",
   "execution_count": 316,
   "id": "a3663790-10ce-46a7-952b-25a441851c58",
   "metadata": {},
   "outputs": [
    {
     "data": {
      "text/plain": [
       "0.01"
      ]
     },
     "execution_count": 316,
     "metadata": {},
     "output_type": "execute_result"
    }
   ],
   "source": [
    "len(regexp_age_4_extracts)/len(df_sample2)"
   ]
  },
  {
   "cell_type": "code",
   "execution_count": 317,
   "id": "27114ba4-797f-4976-827d-8c325779648a",
   "metadata": {},
   "outputs": [],
   "source": [
    "remainder_age_only = remainder_age_only[\n",
    "    ~remainder_age_only.index.isin(regexp_age_4_extracts.index)\n",
    "].copy()"
   ]
  },
  {
   "cell_type": "code",
   "execution_count": 318,
   "id": "2866f498-a82b-4d41-810f-9d5b0624dd93",
   "metadata": {},
   "outputs": [
    {
     "data": {
      "text/plain": [
       "4135"
      ]
     },
     "execution_count": 318,
     "metadata": {},
     "output_type": "execute_result"
    }
   ],
   "source": [
    "len(remainder_age_only)"
   ]
  },
  {
   "cell_type": "code",
   "execution_count": 319,
   "id": "6b9a2b82-a7f9-40ae-b6dd-f2253221bd4c",
   "metadata": {},
   "outputs": [
    {
     "data": {
      "text/plain": [
       "0.4135"
      ]
     },
     "execution_count": 319,
     "metadata": {},
     "output_type": "execute_result"
    }
   ],
   "source": [
    "len(remainder_age_only)/len(df_sample2)"
   ]
  },
  {
   "cell_type": "code",
   "execution_count": 320,
   "id": "882c1ac3-f99c-44ce-8e16-fb27e28bdc06",
   "metadata": {},
   "outputs": [
    {
     "data": {
      "text/plain": [
       "selftext\n",
       "True     2595\n",
       "False    1540\n",
       "Name: count, dtype: int64"
      ]
     },
     "execution_count": 320,
     "metadata": {},
     "output_type": "execute_result"
    }
   ],
   "source": [
    "remainder_age_only['selftext'].isna().value_counts()"
   ]
  },
  {
   "cell_type": "code",
   "execution_count": null,
   "id": "62106b45-3596-44b6-9209-950f5684fe72",
   "metadata": {},
   "outputs": [],
   "source": []
  },
  {
   "cell_type": "code",
   "execution_count": null,
   "id": "6219e207-c033-45a4-a772-ef6f28908578",
   "metadata": {},
   "outputs": [],
   "source": []
  },
  {
   "cell_type": "code",
   "execution_count": null,
   "id": "39593a63-9115-472b-a244-39ac4b18435c",
   "metadata": {},
   "outputs": [],
   "source": []
  },
  {
   "cell_type": "code",
   "execution_count": 321,
   "id": "b2a57076-b9b9-4428-8fc5-c26c3076f9f0",
   "metadata": {},
   "outputs": [
    {
     "name": "stdout",
     "output_type": "stream",
     "text": [
      "\n",
      "\n",
      "----------------\n",
      "\n",
      "Full text:\n",
      "need help with abnormal ultrasound reading | hello, I was wondering if someone could be so kind and help me understand the findings of my ultrasound. \n",
      "\n",
      "I have been having issues with the right side of my body(only) but more so my right foot. it often goes cold, one toe will go numb and it can’t carry much of my weight. when I drive my leg sometimes shakes. I decided to finally get this checked out when one day I was going to the restroom and fell twice trying to get there because my ankle gave out (I was wearing heel, but I do OFTEN) \n",
      "\n",
      "I have recently been having issues with the right side of my arm. particularly my front shoulder blade and my wrist. my right had will become significantly colder than my left &amp; others can tell the extreme difference if I touch them. \n",
      "\n",
      "I have because foggy headed, I miss up words more often than not and my speak feels slurred. (however covid has hindered my social vocabulary working from home)\n",
      "\n",
      "I was ordered an ultrasound on just my legs and the findings are below:\n",
      "\n",
      "Findings:\n",
      "Peak systolic flow velocities were measured in the right lower extremity arterial system as follows:\n",
      "\n",
      "Common femoral artery: 175 cm/sec\n",
      "Proximal superficial femoral artery: 104 cm/sec Mid superficial femoral artery: 125 cm/sec Distal superficial femoral artery: 130 cm/sec Popliteal artery: 43 cm/sec\n",
      "Posterior tibial artery: 17 cm/sec\n",
      "Anterior tibial artery: 40 cm/sec\n",
      "Dorsalis pedis artery: 39 cm/sec\n",
      "\n",
      "Peak systolic flow velocities were measured in the left lower extremity arterial system as follows:\n",
      "\n",
      "Common femoral artery: 150 cm/sec\n",
      "Proximal superficial femoral artery: 100 cm/sec Mid superficial femoral artery: 117 cm/sec Distal superficial femoral artery: 150 cm/sec Popliteal artery: 71 cm/sec\n",
      "Posterior tibial artery: 40 cm/sec\n",
      "Anterior tibial artery: 47 cm/sec\n",
      "Dorsalis pedis artery: 44 cm/sec\n",
      "\n",
      "Triphasic waveforms were demonstrated within the common femoral arteries, superficial femoral arteries and left popliteal artery. Biphasic waveforms were seen in the right popliteal artery, posterior tibial arteries, left anterior tibial artery and left dorsalis pedis artery. Monophasic waveforms were seen in the right anterior tibial artery and dorsalis pedis artery\n",
      "\n",
      "Impression:\n",
      "1. Decreased peak systolic flow velocities of 17 cm/s in the right posterior tibial artery which may be producing clinical symptoms of claudication.\n",
      "\n",
      "\n",
      "now I know this is abnormal, because they said so, however, I don’t know where or why. I’m also concerned because I am having issues with my right arm/shoulder so where is the claudication coming from? \n",
      "\n",
      "I am a 28y old female, 110 pounds, eats fairly healthy with a normal social drinking lifestyle. I take adderall for my add.\n",
      "\n",
      "any help would be appreciated 🙁\n",
      "\n",
      "Url:\n",
      "https://www.reddit.com/r/AskDocs/comments/ri4v42/need_help_with_abnormal_ultrasound_reading/\n",
      "\n",
      "\n",
      "----------------\n",
      "\n",
      "Full text:\n",
      "wondering if i'm having seizures but embarrased and don't want to make a big deal out of it | 34 / f / 5'4\" / 170 lbs / not drugs\n",
      "\n",
      "Since six years ago started having a wierd visual thing sometimes. sometimes happened a couple times a week, maybe more or less, I don't remember. Always while sitting still, in same types of circumstances, never while walking. Optometrist said maybe visual migraine. I never had migraines but ok, cool.\n",
      "\n",
      "Visual stuff happened more or less regularly for a while, then almost gone for a few years (just sometimes happened), then started happening again sometimes but not too often.\n",
      "\n",
      "I posted it on here a year ago and a certified doc responded saying it was maybe seizures.\n",
      "\n",
      "Then had something else weird start to happen almost every day, esp in the mornings but sometimes later. Was very sleep deprived but awake when it happened. Don't want to go into detail but I posted on here again and two other docs mentioned seizures. went away for the most part but still happens if i'm too sleep deprived. (its not sleep paralysis)\n",
      "\n",
      "so that makes three random internet doctors mentioning seizures. no history of seizures.\n",
      "\n",
      "I did mention the weird stuff to pcp who listened but didn't seem to think it was important.\n",
      "\n",
      "It doesn't affect my life much.\n",
      "\n",
      "if they are minor seizures, does it even matter?\n",
      "\n",
      "if my pcp heard the symptoms and didn't say anything, that means its ok right?\n",
      "\n",
      "I'd like to know what it is that's happening bc i'm curious but I don't want to seem hypochondriac\n",
      "\n",
      "I did have brain scan a few years ago for a different reason and all was fine, no sure if that would show seizures or anything, but obviously there was no tumor\n",
      "\n",
      "Url:\n",
      "https://www.reddit.com/r/AskDocs/comments/p3poyz/wondering_if_im_having_seizures_but_embarrased/\n",
      "\n",
      "\n",
      "----------------\n",
      "\n",
      "Full text:\n",
      "Depressive symptoms for several days after a night of heavy drinking | I'm a Caucasian male in my late 30s, born and raised in Scandinavia. I'm about 5'11 or 178 centimeters tall and weigh about 90 kilos/200 pounds. Around the time I turned 30, I noticed that after a single evening of getting drunk (having had, let's say, 10 or more beers/glasses of wine etc), the nature of my recovery days had changed significantly. The first day of being physically hung over is followed by three to five days of what I can only describe as depression. Sometimes anxiety as well. I definitely don't feel like my usual self. These symptoms always do go away eventually, but can last up to five, six days. To be clear, this has nothing to do with what happened while drinking. The only common denominator I can find is the amount of alcohol consumed.\n",
      "\n",
      "I've never been diagnosed with depression or any mental illness, and I only get these symptoms from binge drinking. During a typical week I will have one to two drinks, and I get drunk maybe a few times a year. Staying away from heavy drinking has a lot to do with this particular issue. I find that the depressive symptoms are a lot worse than the actual hangover itself, so I tend to go easy nowadays.\n",
      "\n",
      "I'm posting this here because I'm having trouble finding a medical explanation for this. Most sources talk about depression caused by long-term alcohol abuse. But in this case it's a healthy person who gets drunk one night and feels like crap emotionally for days. On various discussion forums I've seen a lot of people posting about this issue and what they describe is a perfect match: in their 30s they suddenly find that getting wasted will make you feel blue for a long time.\n",
      "\n",
      "My intention is not to find a cure or a fix. The obvious remedy here is to avoid drinking too much, and that's what I've done. I'm just curious about why this happens, and whether there's a reason why this wouldn't affect young people as much.\n",
      "\n",
      "Url:\n",
      "https://www.reddit.com/r/AskDocs/comments/aip5wy/depressive_symptoms_for_several_days_after_a/\n",
      "\n",
      "\n",
      "----------------\n",
      "\n",
      "Full text:\n",
      "Post nasal drip causing chronic bronchitis? | Hello,\n",
      "\n",
      "30 - Female - 164cm - 65kg - Caucasian - Canada\n",
      "\n",
      "I'm someone who's had a lifelong history with sinus issues. I had a surgery 3 years ago to remove a bunch of dead tissue in my left sinus cavity. However ever since, things still haven't been right, but at the time the specialist was convinced all my issues should be resolved. (Post nasal drip, congestion and running nose 24/7.)\n",
      "\n",
      "I'm now aware I have pretty extreme allergies but I can't afford the treatment for it.  \n",
      "I had a test and reacted to all the flora in my area, and cats and dogs. The people I live with often have a dog over to babysit and that's when things start getting really crazy. I'll have a constant torrent of post nasal drip and start waking up with a tight chest and cough. I'm starting to believe that mucus is getting into my airways when I sleep and I'm waking up with bronchitis (without fever symptoms, usually.) I used to think I was just getting sick somehow all the time until I worked in a highly sanitized environment and wasn't having contact with customers anymore during covid.\n",
      "\n",
      "I told my doctor about it and he prescribed me symbicort because whatever this is is stirring up my asthma underneath. But the symbicort isn't really preventing it. I had a lung test and everything turned out fine on their end. Does it sound right that my sinuses could be the cause? I'm getting bronchitis at LEAST once a month now and it's preventing my ability to work, and will soon affect my study. How do I best bring this up, and press the issue with the specialist if I'm referred to him again? I'm worried that because I already had a surgery, it won't be taken seriously.\n",
      "\n",
      "I do sinus rinses twice a day minimum, and I'm completely reliant on decongestants and claritin to try to control symptoms, but it obviously isn't working. And I'd obviously like to not be reliant on those medications forever.\n",
      "\n",
      "I don't drink, smoke or take other drugs than the ones listed. (Otrivin, Symbicort, Claritin, Ventolin and Teva-Budesonide as a steroid in the sinus rinses.)\n",
      "\n",
      "Url:\n",
      "https://www.reddit.com/r/AskDocs/comments/kpqg9h/post_nasal_drip_causing_chronic_bronchitis/\n",
      "\n",
      "\n",
      "----------------\n",
      "\n",
      "Full text:\n",
      "Petechia and my two year old | Hi all, I have a two year that keeps getting Petechiae under her right arm. It started in March and keeps reappearing only under that one arm. The doc said it is probably from something she is doing causing friction as she had a CBC in dec and her platelets where 350 x10. She has had no Fevers, a few little nap time sweats but it’s been hot and none at night, just a couple of normal yellow kid bruises maybe 4 total. The only other concerning thing is I brushed her teeth for her yesterday (as I thought they may need a good scrub since I normally let her do it) and one of her teeth started bleeding just a tad. It stopped quickly and the gum line on that tooth does look inflamed. I’m just not sure if I should get a CBC or not with all the covid stuff. I have anxiety so I don’t want to overreact as usual. I have a attached some photos from different days over the past month.\n",
      "\n",
      "Url:\n",
      "https://www.reddit.com/r/AskDocs/comments/gcyaqr/petechia_and_my_two_year_old/\n",
      "\n",
      "\n",
      "----------------\n",
      "\n",
      "Full text:\n",
      "Pain in forearm. | Hello everyone...i am an over weight guy....i started working out in a crossfit gym...i started working out in april 2018...i stopped in august 2018 due to a sharp pain in my forearm on the little finger side beside the bone whenever i try to lift some weight (3kgs also) and whenever i release that weight...the pain stays there for 10 seconds or so...but the pain is so high that i cant do any physical work...if anyone can help me out it could be really helpful...also if anyone needs the exact location of the pain, i will dm you guys the link of the pic of my forearm with the location of the pain marked ( i am from india)\n",
      "\n",
      "Url:\n",
      "https://www.reddit.com/r/AskDocs/comments/a4ugcu/pain_in_forearm/\n",
      "\n",
      "\n",
      "----------------\n",
      "\n",
      "Full text:\n",
      "I think I was sprayed by a skunk a few minutes ago but I'm not sure. | I was walking into my dorm building which is essentially an apartment building. It's in the Back Bay of Boston. As I was walking on the stairs to the entrance I felt this weird mist from above me and it smelled toxic. It was so weird. After about 5 seconds of being confused I was like \"shit I think I just got sprayed by a skunk.\" I'm really nervous. I don't smell bad though. Well, I think I smell bad but I'm a hypochondriac so it might just be in my head. I told a girl in my building that I thought I'd been sprayed and that I'm really worried and she smelled me and said she didn't smell  anything and thinks that if I had indeed been sprayed she would've definitely smelled it. I got sprayed on what felt like my face (mouth and nose area mostly) but I likely got sprayed on my body too, but my friend (same friend) smelled my sweatshirt and didn't smell anything weird. Around my lips stings (mostly right above my upper lip and a little at the bottom of my nose). I'm so nervous. Please help.\n",
      "\n",
      "Url:\n",
      "https://www.reddit.com/r/AskDocs/comments/9pebmk/i_think_i_was_sprayed_by_a_skunk_a_few_minutes/\n",
      "\n",
      "\n",
      "----------------\n",
      "\n",
      "Full text:\n",
      "Can a pinched nerve in my neck make my hands swell? | male, 45, medium fat\n",
      "\n",
      "I heard it called thoracic displacement syndrome...  When I am stressed or I do certain types of work in the shop I hunch up my shoulders and my hands go numb and hurt.  I know there is a 1to1 relationship because I can focus on my posture and stretch and the numb goes away- until I stop focusing.  But when I go through long periods of it I *feel* like my hands swell too and am wondering if it is just in my head.\n",
      "\n",
      "Url:\n",
      "https://www.reddit.com/r/AskDocs/comments/efs6a4/can_a_pinched_nerve_in_my_neck_make_my_hands_swell/\n",
      "\n",
      "\n",
      "----------------\n",
      "\n",
      "Full text:\n",
      "Please help! I think I might have an std (no picture) | I’m 12 but I will be 13 in a month. I’m 5”1 white and I think I weigh 90-80 pounds. \n",
      "i haven’t gone to a doctor yet. I’m scared to tell my mom cause she might think I had sex.\n",
      "\n",
      "Let me just clarify  that I’ve never had sex. \n",
      "\n",
      "\n",
      "My testicles are really itchy most of the time and I have weird goosebumps on my penis. \n",
      "\n",
      "My testicles started itching in February I think.\n",
      "\n",
      "\n",
      "I’m worried I have an std. I haven’t even kissed a girl before!\n",
      "\n",
      "Url:\n",
      "https://www.reddit.com/r/AskDocs/comments/c0s5sl/please_help_i_think_i_might_have_an_std_no_picture/\n",
      "\n",
      "\n",
      "----------------\n",
      "\n",
      "Full text:\n",
      "Not panicked but, WHAT is happening to my hands?? (If anything) | https://imgur.com/a/BUEBQ1f\n",
      "\n",
      "Female, 25, 5’8, 138 pounds.\n",
      "Currently taking: magnesium, vitamin d, riboflavin, coq10, multivitamin, lexapro, heather birth control\n",
      "Area: hands and wrist duration: a couple of weeks\n",
      "\n",
      "Hi all, a couple of weeks ago I noticed these two spots on my wrist, id never had them before and I was excited and the prospect of two new freckles (I have almost no freckles anywhere on my body) \n",
      "\n",
      "But since then, I’ve been noticing discolorations all over my hands - see the photo attached. There are more than that and some very very light ones that may get darker, I’ll keep a watch. I haven’t burned myself or had any sort of injury, I haven’t come in contact with anything that I’m aware of.. they don’t itch or hurt or anything but whatever it is seems to be spreading.. \n",
      "\n",
      "Any thoughts?? Is this normal? If I had any other freckles I wouldn’t think much of it but I don’t!\n",
      "\n",
      "Url:\n",
      "https://www.reddit.com/r/AskDocs/comments/bf0on0/not_panicked_but_what_is_happening_to_my_hands_if/\n",
      "\n",
      "\n",
      "----------------\n",
      "\n",
      "Full text:\n",
      "random onset of nausea in the middle of the night lasting 10 minutes | Hi,\n",
      "\n",
      "last night I woke up from my dream and I started feeling really nauseous and lightheaded. No other symptoms.\n",
      "\n",
      "i went to the bathroom to presumably vomit but I ended up just curling up on my cold bathroom floor for about 5 minutes and I felt better. Went back to bed and was fine.\n",
      "\n",
      "now im gassy and burping here and there but otherwise fine. The only thing I can think of that could have triggered it is my anxiety medication not sitting right in my stomach? i dunno...\n",
      "\n",
      "thanks in advance!\n",
      "\n",
      "Url:\n",
      "https://www.reddit.com/r/AskDocs/comments/9668jj/random_onset_of_nausea_in_the_middle_of_the_night/\n",
      "\n",
      "\n",
      "----------------\n",
      "\n",
      "Full text:\n",
      "I’m a medical student and have had strange symptoms I can’t even pinpoint in the book...23M, 165ibs, 6” | Hi I’m a white male with H, W, age listed above. Since  my early teenage years I have had strange symptoms. As a medical student I know I should not dx myself and be very cautious of forums. I have seen a PCP but with delays in making appointments with the specialist, I wanted to hear any inputs as my symptoms have been getting progressively worse.\n",
      "\n",
      "I have a family history of autoimmune disease including Graves, ankylosis spondylitis, lupus, and autoimmune uveitis among my immediate family members. My symptoms are identical and very similar to my fathers who refuses to go see a physician. I have had extraordinarily difficulty with my sleep habits and constantly feel dizzy, lightheaded, and falling asleep in random places. I do not have cataplexy, but I have had numerous instances of sleep paralysis and vivid hallucinations upon waking in the middle of sleeping. I am never rested even after 15 hrs of sleep in a row. It pretty much feels like I have never slept in my life (think Prader-Willi Syndrome for food, but instead with sleep). I’ve had this since high school and have pretty much faked it till I made it up and though med school by hiding my excessive sleepiness. For a long time I thought it was normal and it wasn’t till having roommates in college that lived in the same room with me that insisted I go see someone. Back then I refused as I would just “push through.” But as it has gotten progressively worse, it has gravely affected my performance and functionality in life. I’ve even passed asleep in front of the head of neurosurgery during a meeting and what I do in those instances is face down, cover my eyes with my hands, and pretend to take notes whilst pinching myself to stay awake. I tried studying in libraries and had at times I fell asleep on the floor. It has become a struggle hiding this further of which my PCP sent me to see a sleep specialist. The neurologist was concerned and ordered a sleep study but with med school I have never had a chance to schedule it because of filled weekdays. My goal is to have it done in a few weeks after I am taking my STEP exam.\n",
      "\n",
      "The symptoms exacerbate heavily with food. I eat an extremely healthy diet with lean meats, veggies, and fruits and can eat as much as I want and still stay thin as a stick. If I eat less for just 2-3 days my weight rapidly drops from 165 to as low as 152. It’s as if my metabolism is running on hyper speed. I am very athletic as exercise is the only thing that makes me awake. But it’s short lasted. Lately I haven’t been able to go to the gym because I have had severe fatigue all over my body. It makes me depressed as I want to continue being active and it limits my performance and potential. I otherwise have always been a straight A student and excelled perfect GPA through a top tier US university. Unfortunatly my performance with this had declined over the past year and I have become forgetful for even simple things such keys and random items - stuff I’ve never forgotten before. The education specialist suspected I have a learning disability after a few tests and wants me to get tested further after steps but internally I feel it could all be related? \n",
      "\n",
      "Otherwise I take no meds, no drugs, don’t drink, no over the counters... I don’t even drink coffee. Nothing but water for drinking. My CBC panel was normal besides a slight elevation in creatinine kinase. I do have severe Raynauds syndrome and have to take extra precaution in the winters. But otherwise I’m healthy. \n",
      "\n",
      "While I shouldn’t diagnose myself, things that came to mind were some variation of narcolepsy (which was suspected by the sleep neurologist), hypersomnolence disorder, and hyperthyroidism as my brother has. However my TSH were in the lower but still normal range.\n",
      "\n",
      "If there is any suggestions or clinical input or expertise regarding this I would highly appreciate it. Thanks!\n",
      "\n",
      "Url:\n",
      "https://www.reddit.com/r/AskDocs/comments/8mv5b3/im_a_medical_student_and_have_had_strange/\n",
      "\n",
      "\n",
      "----------------\n",
      "\n",
      "Full text:\n",
      "Lump in ear canal | My gf just told me rn i she's had this lump in her ear for a year now. she's female, 17, asian, 5'2 and it doesnt hurt when she touches it she says. im currently looking for info on the internet because i really wanna know what it is and i cant take her to the doctor as of now. \n",
      "\n",
      "[heres the pic](https://imgbox.com/YMzhdFwL) \n",
      "can anybody tell me what it is and how to treat it?\n",
      "\n",
      "Url:\n",
      "https://www.reddit.com/r/AskDocs/comments/qtrrw7/lump_in_ear_canal/\n",
      "\n",
      "\n",
      "----------------\n",
      "\n",
      "Full text:\n",
      "Chronic hiccups | Sex: Female Height: 5’3” Weight: 120 \n",
      "Medications: Effexor (225mg), Lamictal (200mg) and Wellbutrin (300mg)\n",
      "\n",
      "I have had hiccups for about 4 years. They occur on an almost daily basis, they are not like the “regular” hiccups because it’s typically 1 to 3 consecutive hiccups. I will have multiple episodes through out the day, occasionally they are very loud and I feel a strong contraction in my upper abdomen . At this point I have gotten used to them I didn’t really notice them at all,until a family friend who is an MD suggested I see a gastroenterologist. I was wondering if anyone could give me their opinion as to what is triggering my hiccups. I forgot to mention I told my PCP and all she said was that I could try taking a muscle relaxant.\n",
      "\n",
      "Url:\n",
      "https://www.reddit.com/r/AskDocs/comments/cntcxn/chronic_hiccups/\n",
      "\n",
      "\n",
      "----------------\n",
      "\n",
      "Full text:\n",
      "What happens if a man covers his pee hole using a finger just as he is about to ejaculate to prevent the ejaculate from coming out? Is it dangerous to unhealthy? | To avoid making a mess, I cover my penis when I am about to ejaculate and rush to the washroom. The semen usually shoots out when i remove my finger or oozes out if I keep it closed for too long. Is this dangerous or unhealthy?\n",
      "\n",
      "Url:\n",
      "https://www.reddit.com/r/AskDocs/comments/r9dcmr/what_happens_if_a_man_covers_his_pee_hole_using_a/\n",
      "\n",
      "\n",
      "----------------\n",
      "\n",
      "Full text:\n",
      "Bandage beneath waterproof tape over stitches after hernia surgery feeling soggy, Male, 37, I82cm 85 kg | So recently had laproscopic surgery for an inguinal hernia last Friday.  My belly button wound was stitched, a gauze was put inside and waterproof tape put over it.  The doctor said showers were ok but not to take baths.  Recently after a shower I was feeling the gauze through the tape and it felt soggy.  Not sure if some water seeped in through the tape or sweat but I was wondering if this is safe or if it could lead to infection.  This is in Japan so figure asking here first before I go and check with the doctor might stop me from having a false alarm and language communication issues.\n",
      "\n",
      "Url:\n",
      "https://www.reddit.com/r/AskDocs/comments/rg8rmb/bandage_beneath_waterproof_tape_over_stitches/\n",
      "\n",
      "\n",
      "----------------\n",
      "\n",
      "Full text:\n",
      "Had jock itch diagnosed and prescribed a yeast infection pill and clotrimazole cream. 4 weeks later the infection has gotten better but is still around. Should I get a 2nd opinion or does a bad case of jock itch just take a while to get rid of? | Age\n",
      "22\n",
      "\n",
      "Sex\n",
      "M\n",
      "\n",
      "\n",
      "Height\n",
      "5'9\"\n",
      "Weight\n",
      "175 lbs\n",
      "\n",
      "Duration of complaint\n",
      "\n",
      "4 weeks\n",
      "\n",
      "Location\n",
      "\n",
      "\n",
      "Both inner thighs, the rash extends up to my waist. It was a pretty bad case of jock itch.\n",
      "\n",
      "Current medications\n",
      "\n",
      "Took 1 yeast infection pill 4 weeks ago and have been applying clotrimazole twice a day for 4 weeks.\n",
      "\n",
      "\n",
      "\n",
      "No photo but the redness has become like a brown color and the itchiness has died down significantly. I'll get some itchiness in the related area but Im not convinced its the rash, sometimes its just an itchy sack or dry skin around my pubes. Also some of the discolored areas has shown slight changes to my normal skin color, but the general surface area of the infection hasnt decreased.\n",
      "\n",
      "\n",
      "\n",
      "Also I haven't been working out the last 4 weeks because I dont want to irritate the problem. If Im diligent with showering right after a workout and drying well is working out with this issue no problem?\n",
      "\n",
      "Url:\n",
      "https://www.reddit.com/r/AskDocs/comments/axkaks/had_jock_itch_diagnosed_and_prescribed_a_yeast/\n",
      "\n",
      "\n",
      "----------------\n",
      "\n",
      "Full text:\n",
      "Does this look like it’s unexplained weight loss? | Male. 24. 6’2. Have been weighing myself every 3rd day for a while now. I have the chart in the photo provided. Haven’t been exercising or eating differently. Thanks\n",
      "\n",
      "Url:\n",
      "https://www.reddit.com/r/AskDocs/comments/itb98o/does_this_look_like_its_unexplained_weight_loss/\n",
      "\n",
      "\n",
      "----------------\n",
      "\n",
      "Full text:\n",
      "My niece 2F is about 28 lbs, 2 ft tall, white, has had a cyst like boil on the right side of her head that has been ongoing for a year. It used to be closed and just a large bump but is now open and weeping a white, sometimes clear fluid. There are no other underlying health conditions. | Head https://imgur.com/gallery/Odw2MkI\n",
      "\n",
      "Url:\n",
      "https://www.reddit.com/r/AskDocs/comments/rojgjx/my_niece_2f_is_about_28_lbs_2_ft_tall_white_has/\n",
      "\n",
      "\n",
      "----------------\n",
      "\n",
      "Full text:\n",
      "I, 16 [M] have small patches of bumps on my arms | A few weeks ago, I noticed bumps on my arm, and I’m not sure if they’re spreading or not. They are tiny skin colored bumps that are itchy. I have had a history of eczema on my legs, but not on my arms. Anyone know what this is? 5’2” , 115 lbs \n",
      "\n",
      "\n",
      "https://imgur.com/a/D5s0JJN\n",
      "\n",
      "Url:\n",
      "https://www.reddit.com/r/AskDocs/comments/gg47fm/i_16_m_have_small_patches_of_bumps_on_my_arms/\n"
     ]
    }
   ],
   "source": [
    "for i, r in remainder_age_only[remainder_age_only['selftext'].notna()].tail(20).iterrows():\n",
    "    print('\\n\\n----------------')\n",
    "\n",
    "    print('\\nFull text:')\n",
    "    print(r['full_post_text'])\n",
    "    print('\\nUrl:')\n",
    "    print(r['url'])"
   ]
  },
  {
   "cell_type": "code",
   "execution_count": null,
   "id": "89dc7ce3-b932-4edb-b0c1-bcee1b6bb8b9",
   "metadata": {},
   "outputs": [],
   "source": []
  },
  {
   "cell_type": "code",
   "execution_count": null,
   "id": "27c71d5d-406a-4ea1-a169-0191a6b4d588",
   "metadata": {},
   "outputs": [],
   "source": []
  },
  {
   "cell_type": "code",
   "execution_count": null,
   "id": "0621cabb-627d-423b-886a-c0a3c92f1388",
   "metadata": {},
   "outputs": [],
   "source": []
  },
  {
   "cell_type": "code",
   "execution_count": null,
   "id": "90218516-34af-4fdd-a23f-a8bf27810686",
   "metadata": {},
   "outputs": [],
   "source": []
  }
 ],
 "metadata": {
  "kernelspec": {
   "display_name": "Python 3 (ipykernel)",
   "language": "python",
   "name": "python3"
  },
  "language_info": {
   "codemirror_mode": {
    "name": "ipython",
    "version": 3
   },
   "file_extension": ".py",
   "mimetype": "text/x-python",
   "name": "python",
   "nbconvert_exporter": "python",
   "pygments_lexer": "ipython3",
   "version": "3.11.4"
  }
 },
 "nbformat": 4,
 "nbformat_minor": 5
}
