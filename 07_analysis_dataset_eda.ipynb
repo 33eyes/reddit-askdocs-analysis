{
 "cells": [
  {
   "cell_type": "markdown",
   "id": "03afafd5-4192-4beb-a223-fe7f352618be",
   "metadata": {},
   "source": [
    "# Analysis Dataset EDA  \n",
    "  \n",
    "\n",
    "#### Notebook objectives:  \n",
    "- Explore the analysis dataset:  \n",
    "  - Univariate stats  \n",
    "  - Time series  \n",
    "  - Correlations  \n",
    "\n",
    "#### Steps:  \n",
    "1. [Load the data](#Load-the-data)  "
   ]
  },
  {
   "cell_type": "code",
   "execution_count": 1,
   "id": "5eefef25-7104-4ff6-8241-16f20f606d53",
   "metadata": {},
   "outputs": [
    {
     "data": {
      "text/html": [
       "<h3>Notebook setup</h3>"
      ],
      "text/plain": [
       "<IPython.core.display.HTML object>"
      ]
     },
     "metadata": {},
     "output_type": "display_data"
    },
    {
     "data": {
      "text/html": [
       "<h4>Variables:</h4>"
      ],
      "text/plain": [
       "<IPython.core.display.HTML object>"
      ]
     },
     "metadata": {},
     "output_type": "display_data"
    },
    {
     "name": "stdout",
     "output_type": "stream",
     "text": [
      "DATA_PATH='data/'\n",
      "OUTPUT_PATH='output/'\n"
     ]
    },
    {
     "data": {
      "text/html": [
       "<h4>Functions:</h4>"
      ],
      "text/plain": [
       "<IPython.core.display.HTML object>"
      ]
     },
     "metadata": {},
     "output_type": "display_data"
    },
    {
     "name": "stdout",
     "output_type": "stream",
     "text": [
      "num_freq_plot(df, field, color='')\n"
     ]
    }
   ],
   "source": [
    "%run notebook_setup.ipynb"
   ]
  },
  {
   "cell_type": "markdown",
   "id": "4f1832a2-0fe5-420c-9d49-5af554aa9f0c",
   "metadata": {},
   "source": [
    "## Load the data"
   ]
  },
  {
   "cell_type": "code",
   "execution_count": 2,
   "id": "48526887-b52d-42b3-8349-463cea0c5a0c",
   "metadata": {},
   "outputs": [],
   "source": [
    "df = pd.read_csv(\n",
    "    DATA_PATH + 'reddit_askdocs_submissions_2017_to_20220121_analysis_ds.zip',\n",
    "    low_memory=False\n",
    ")"
   ]
  },
  {
   "cell_type": "code",
   "execution_count": 3,
   "id": "9a8fb8e9-9470-44fe-9668-8cfe9a1da259",
   "metadata": {},
   "outputs": [
    {
     "data": {
      "text/html": [
       "<div>\n",
       "<style scoped>\n",
       "    .dataframe tbody tr th:only-of-type {\n",
       "        vertical-align: middle;\n",
       "    }\n",
       "\n",
       "    .dataframe tbody tr th {\n",
       "        vertical-align: top;\n",
       "    }\n",
       "\n",
       "    .dataframe thead th {\n",
       "        text-align: right;\n",
       "    }\n",
       "</style>\n",
       "<table border=\"1\" class=\"dataframe\">\n",
       "  <thead>\n",
       "    <tr style=\"text-align: right;\">\n",
       "      <th></th>\n",
       "      <th>author</th>\n",
       "      <th>num_comments</th>\n",
       "      <th>full_post_text</th>\n",
       "      <th>created_utc_ns_dt</th>\n",
       "      <th>age</th>\n",
       "      <th>sex</th>\n",
       "    </tr>\n",
       "  </thead>\n",
       "  <tbody>\n",
       "    <tr>\n",
       "      <th>0</th>\n",
       "      <td>DavisTheMagicSheep</td>\n",
       "      <td>2</td>\n",
       "      <td>My ears feel like there is pressure inside of ...</td>\n",
       "      <td>2017-12-31 23:43:19</td>\n",
       "      <td>NaN</td>\n",
       "      <td>NaN</td>\n",
       "    </tr>\n",
       "    <tr>\n",
       "      <th>1</th>\n",
       "      <td>Dontgetscooped</td>\n",
       "      <td>1</td>\n",
       "      <td>IBS maybe? | (first about me : 32 white male 5...</td>\n",
       "      <td>2017-12-31 23:33:08</td>\n",
       "      <td>NaN</td>\n",
       "      <td>AMAB</td>\n",
       "    </tr>\n",
       "    <tr>\n",
       "      <th>2</th>\n",
       "      <td>AveryFenix</td>\n",
       "      <td>7</td>\n",
       "      <td>Mole or scar? Should I be worried about melano...</td>\n",
       "      <td>2017-12-31 23:10:39</td>\n",
       "      <td>21.0</td>\n",
       "      <td>NaN</td>\n",
       "    </tr>\n",
       "    <tr>\n",
       "      <th>3</th>\n",
       "      <td>LeftAl</td>\n",
       "      <td>5</td>\n",
       "      <td>Terbinafine 250mg oral tablets | I've been pre...</td>\n",
       "      <td>2017-12-31 22:04:03</td>\n",
       "      <td>NaN</td>\n",
       "      <td>NaN</td>\n",
       "    </tr>\n",
       "    <tr>\n",
       "      <th>4</th>\n",
       "      <td>KingMoka</td>\n",
       "      <td>4</td>\n",
       "      <td>13.2 Testosterone Levels for a 19 Year Old Mal...</td>\n",
       "      <td>2017-12-31 21:53:21</td>\n",
       "      <td>19.0</td>\n",
       "      <td>NaN</td>\n",
       "    </tr>\n",
       "  </tbody>\n",
       "</table>\n",
       "</div>"
      ],
      "text/plain": [
       "               author  num_comments   \n",
       "0  DavisTheMagicSheep             2  \\\n",
       "1      Dontgetscooped             1   \n",
       "2          AveryFenix             7   \n",
       "3              LeftAl             5   \n",
       "4            KingMoka             4   \n",
       "\n",
       "                                      full_post_text    created_utc_ns_dt   \n",
       "0  My ears feel like there is pressure inside of ...  2017-12-31 23:43:19  \\\n",
       "1  IBS maybe? | (first about me : 32 white male 5...  2017-12-31 23:33:08   \n",
       "2  Mole or scar? Should I be worried about melano...  2017-12-31 23:10:39   \n",
       "3  Terbinafine 250mg oral tablets | I've been pre...  2017-12-31 22:04:03   \n",
       "4  13.2 Testosterone Levels for a 19 Year Old Mal...  2017-12-31 21:53:21   \n",
       "\n",
       "    age   sex  \n",
       "0   NaN   NaN  \n",
       "1   NaN  AMAB  \n",
       "2  21.0   NaN  \n",
       "3   NaN   NaN  \n",
       "4  19.0   NaN  "
      ]
     },
     "execution_count": 3,
     "metadata": {},
     "output_type": "execute_result"
    }
   ],
   "source": [
    "df.head()"
   ]
  },
  {
   "cell_type": "code",
   "execution_count": 4,
   "id": "df93fdfe-1ccd-4f5d-8a31-b34b6b6cd40c",
   "metadata": {},
   "outputs": [
    {
     "data": {
      "text/plain": [
       "492376"
      ]
     },
     "execution_count": 4,
     "metadata": {},
     "output_type": "execute_result"
    }
   ],
   "source": [
    "len(df)"
   ]
  },
  {
   "cell_type": "code",
   "execution_count": null,
   "id": "e66db136-77d1-4378-abf6-42b1d28251a1",
   "metadata": {},
   "outputs": [],
   "source": []
  }
 ],
 "metadata": {
  "kernelspec": {
   "display_name": "Python 3 (ipykernel)",
   "language": "python",
   "name": "python3"
  },
  "language_info": {
   "codemirror_mode": {
    "name": "ipython",
    "version": 3
   },
   "file_extension": ".py",
   "mimetype": "text/x-python",
   "name": "python",
   "nbconvert_exporter": "python",
   "pygments_lexer": "ipython3",
   "version": "3.11.4"
  }
 },
 "nbformat": 4,
 "nbformat_minor": 5
}
