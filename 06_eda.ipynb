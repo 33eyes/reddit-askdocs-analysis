{
 "cells": [
  {
   "cell_type": "markdown",
   "id": "c258c248-0690-4426-bbe6-0b3a3ad57967",
   "metadata": {},
   "source": [
    "# Exploratory Data Analysis  \n",
    "  \n",
    "\n",
    "#### Notebook objectives:  \n",
    "- Explore the prepped data\n",
    "- Brainstorm analysis questions   \n",
    "\n",
    "#### Steps:  \n",
    "1. [Load the data](#Load-the-data)\n",
    "2. [Explore data fields](#Explore-data-fields)\n",
    "   - [author](#author)\n",
    "   - [author_flair_text](#author_flair_text)  \n",
    "   "
   ]
  },
  {
   "cell_type": "code",
   "execution_count": 1,
   "id": "0a48e94b-3a9c-4914-897e-aab3d53d9b60",
   "metadata": {},
   "outputs": [
    {
     "data": {
      "text/html": [
       "<h3>Notebook setup</h3>"
      ],
      "text/plain": [
       "<IPython.core.display.HTML object>"
      ]
     },
     "metadata": {},
     "output_type": "display_data"
    },
    {
     "data": {
      "text/html": [
       "<h4>Variables:</h4>"
      ],
      "text/plain": [
       "<IPython.core.display.HTML object>"
      ]
     },
     "metadata": {},
     "output_type": "display_data"
    },
    {
     "name": "stdout",
     "output_type": "stream",
     "text": [
      "DATA_PATH='data/'\n",
      "OUTPUT_PATH='output/'\n"
     ]
    },
    {
     "data": {
      "text/html": [
       "<h4>Functions:</h4>"
      ],
      "text/plain": [
       "<IPython.core.display.HTML object>"
      ]
     },
     "metadata": {},
     "output_type": "display_data"
    },
    {
     "name": "stdout",
     "output_type": "stream",
     "text": [
      "num_freq_plot(df, field, color='')\n"
     ]
    }
   ],
   "source": [
    "%run notebook_setup.ipynb"
   ]
  },
  {
   "cell_type": "markdown",
   "id": "e828d9f8-5d31-4012-acdb-c58ba3fab2c3",
   "metadata": {},
   "source": [
    "## Load the data"
   ]
  },
  {
   "cell_type": "code",
   "execution_count": 2,
   "id": "d7386242-5860-47cb-8ddc-bd41cc3686a7",
   "metadata": {},
   "outputs": [],
   "source": [
    "df = pd.read_csv(\n",
    "    DATA_PATH + 'reddit_askdocs_submissions_2017_to_20220121_analysis_ds.zip',\n",
    "    low_memory=False\n",
    ")"
   ]
  },
  {
   "cell_type": "markdown",
   "id": "0b692a88-1e92-439a-a47e-eee47636c212",
   "metadata": {},
   "source": [
    "## Explore data fields  "
   ]
  },
  {
   "cell_type": "code",
   "execution_count": 3,
   "id": "00624cf8-051e-4c43-ad89-0b7e39ad492f",
   "metadata": {},
   "outputs": [
    {
     "data": {
      "text/html": [
       "<div>\n",
       "<style scoped>\n",
       "    .dataframe tbody tr th:only-of-type {\n",
       "        vertical-align: middle;\n",
       "    }\n",
       "\n",
       "    .dataframe tbody tr th {\n",
       "        vertical-align: top;\n",
       "    }\n",
       "\n",
       "    .dataframe thead th {\n",
       "        text-align: right;\n",
       "    }\n",
       "</style>\n",
       "<table border=\"1\" class=\"dataframe\">\n",
       "  <thead>\n",
       "    <tr style=\"text-align: right;\">\n",
       "      <th></th>\n",
       "      <th>author</th>\n",
       "      <th>author_flair_text</th>\n",
       "      <th>domain</th>\n",
       "      <th>full_link</th>\n",
       "      <th>id</th>\n",
       "      <th>locked</th>\n",
       "      <th>num_comments</th>\n",
       "      <th>num_crossposts</th>\n",
       "      <th>over_18</th>\n",
       "      <th>score</th>\n",
       "      <th>selftext</th>\n",
       "      <th>title</th>\n",
       "      <th>url</th>\n",
       "      <th>crosspost_subreddits</th>\n",
       "      <th>full_post_text</th>\n",
       "      <th>created_utc_ns_dt</th>\n",
       "      <th>edited_utc_ns_dt</th>\n",
       "      <th>age</th>\n",
       "      <th>sex</th>\n",
       "    </tr>\n",
       "  </thead>\n",
       "  <tbody>\n",
       "    <tr>\n",
       "      <th>0</th>\n",
       "      <td>[deleted]</td>\n",
       "      <td>NaN</td>\n",
       "      <td>self.AskDocs</td>\n",
       "      <td>https://www.reddit.com/r/AskDocs/comments/7nbw...</td>\n",
       "      <td>7nbwtn</td>\n",
       "      <td>False</td>\n",
       "      <td>0</td>\n",
       "      <td>0.0</td>\n",
       "      <td>False</td>\n",
       "      <td>2</td>\n",
       "      <td>NaN</td>\n",
       "      <td>Appendicitis removed 1 month ago but feel a pa...</td>\n",
       "      <td>https://www.reddit.com/r/AskDocs/comments/7nbw...</td>\n",
       "      <td>NaN</td>\n",
       "      <td>Appendicitis removed 1 month ago but feel a pa...</td>\n",
       "      <td>1514764452000000000</td>\n",
       "      <td>NaN</td>\n",
       "      <td>NaN</td>\n",
       "      <td>NaN</td>\n",
       "    </tr>\n",
       "    <tr>\n",
       "      <th>1</th>\n",
       "      <td>[deleted]</td>\n",
       "      <td>NaN</td>\n",
       "      <td>self.AskDocs</td>\n",
       "      <td>https://www.reddit.com/r/AskDocs/comments/7nbv...</td>\n",
       "      <td>7nbvln</td>\n",
       "      <td>False</td>\n",
       "      <td>1</td>\n",
       "      <td>0.0</td>\n",
       "      <td>False</td>\n",
       "      <td>1</td>\n",
       "      <td>NaN</td>\n",
       "      <td>My grandma has neck/back pain and little to no...</td>\n",
       "      <td>https://www.reddit.com/r/AskDocs/comments/7nbv...</td>\n",
       "      <td>NaN</td>\n",
       "      <td>My grandma has neck/back pain and little to no...</td>\n",
       "      <td>1514764055000000000</td>\n",
       "      <td>NaN</td>\n",
       "      <td>NaN</td>\n",
       "      <td>AFAB</td>\n",
       "    </tr>\n",
       "    <tr>\n",
       "      <th>2</th>\n",
       "      <td>DavisTheMagicSheep</td>\n",
       "      <td>This user has not yet been verified.</td>\n",
       "      <td>self.AskDocs</td>\n",
       "      <td>https://www.reddit.com/r/AskDocs/comments/7nbu...</td>\n",
       "      <td>7nburb</td>\n",
       "      <td>False</td>\n",
       "      <td>2</td>\n",
       "      <td>0.0</td>\n",
       "      <td>False</td>\n",
       "      <td>1</td>\n",
       "      <td>I've had a cold for the last couple days now, ...</td>\n",
       "      <td>My ears feel like there is pressure inside of ...</td>\n",
       "      <td>https://www.reddit.com/r/AskDocs/comments/7nbu...</td>\n",
       "      <td>NaN</td>\n",
       "      <td>My ears feel like there is pressure inside of ...</td>\n",
       "      <td>1514763799000000000</td>\n",
       "      <td>NaN</td>\n",
       "      <td>NaN</td>\n",
       "      <td>NaN</td>\n",
       "    </tr>\n",
       "    <tr>\n",
       "      <th>3</th>\n",
       "      <td>Dontgetscooped</td>\n",
       "      <td>This user has not yet been verified.</td>\n",
       "      <td>self.AskDocs</td>\n",
       "      <td>https://www.reddit.com/r/AskDocs/comments/7nbs...</td>\n",
       "      <td>7nbsw2</td>\n",
       "      <td>False</td>\n",
       "      <td>1</td>\n",
       "      <td>0.0</td>\n",
       "      <td>False</td>\n",
       "      <td>1</td>\n",
       "      <td>(first about me : 32 white male 5 foot 5 225lb...</td>\n",
       "      <td>IBS maybe?</td>\n",
       "      <td>https://www.reddit.com/r/AskDocs/comments/7nbs...</td>\n",
       "      <td>NaN</td>\n",
       "      <td>IBS maybe? | (first about me : 32 white male 5...</td>\n",
       "      <td>1514763188000000000</td>\n",
       "      <td>NaN</td>\n",
       "      <td>NaN</td>\n",
       "      <td>AMAB</td>\n",
       "    </tr>\n",
       "    <tr>\n",
       "      <th>4</th>\n",
       "      <td>AveryFenix</td>\n",
       "      <td>This user has not yet been verified.</td>\n",
       "      <td>self.AskDocs</td>\n",
       "      <td>https://www.reddit.com/r/AskDocs/comments/7nbo...</td>\n",
       "      <td>7nbolv</td>\n",
       "      <td>False</td>\n",
       "      <td>7</td>\n",
       "      <td>0.0</td>\n",
       "      <td>False</td>\n",
       "      <td>7</td>\n",
       "      <td>I've had these marks on my stomach ever since ...</td>\n",
       "      <td>Mole or scar? Should I be worried about melanoma?</td>\n",
       "      <td>https://www.reddit.com/r/AskDocs/comments/7nbo...</td>\n",
       "      <td>NaN</td>\n",
       "      <td>Mole or scar? Should I be worried about melano...</td>\n",
       "      <td>1514761839000000000</td>\n",
       "      <td>NaN</td>\n",
       "      <td>21.0</td>\n",
       "      <td>NaN</td>\n",
       "    </tr>\n",
       "  </tbody>\n",
       "</table>\n",
       "</div>"
      ],
      "text/plain": [
       "               author                     author_flair_text        domain   \n",
       "0           [deleted]                                   NaN  self.AskDocs  \\\n",
       "1           [deleted]                                   NaN  self.AskDocs   \n",
       "2  DavisTheMagicSheep  This user has not yet been verified.  self.AskDocs   \n",
       "3      Dontgetscooped  This user has not yet been verified.  self.AskDocs   \n",
       "4          AveryFenix  This user has not yet been verified.  self.AskDocs   \n",
       "\n",
       "                                           full_link      id  locked   \n",
       "0  https://www.reddit.com/r/AskDocs/comments/7nbw...  7nbwtn   False  \\\n",
       "1  https://www.reddit.com/r/AskDocs/comments/7nbv...  7nbvln   False   \n",
       "2  https://www.reddit.com/r/AskDocs/comments/7nbu...  7nburb   False   \n",
       "3  https://www.reddit.com/r/AskDocs/comments/7nbs...  7nbsw2   False   \n",
       "4  https://www.reddit.com/r/AskDocs/comments/7nbo...  7nbolv   False   \n",
       "\n",
       "   num_comments  num_crossposts  over_18  score   \n",
       "0             0             0.0    False      2  \\\n",
       "1             1             0.0    False      1   \n",
       "2             2             0.0    False      1   \n",
       "3             1             0.0    False      1   \n",
       "4             7             0.0    False      7   \n",
       "\n",
       "                                            selftext   \n",
       "0                                                NaN  \\\n",
       "1                                                NaN   \n",
       "2  I've had a cold for the last couple days now, ...   \n",
       "3  (first about me : 32 white male 5 foot 5 225lb...   \n",
       "4  I've had these marks on my stomach ever since ...   \n",
       "\n",
       "                                               title   \n",
       "0  Appendicitis removed 1 month ago but feel a pa...  \\\n",
       "1  My grandma has neck/back pain and little to no...   \n",
       "2  My ears feel like there is pressure inside of ...   \n",
       "3                                         IBS maybe?   \n",
       "4  Mole or scar? Should I be worried about melanoma?   \n",
       "\n",
       "                                                 url crosspost_subreddits   \n",
       "0  https://www.reddit.com/r/AskDocs/comments/7nbw...                  NaN  \\\n",
       "1  https://www.reddit.com/r/AskDocs/comments/7nbv...                  NaN   \n",
       "2  https://www.reddit.com/r/AskDocs/comments/7nbu...                  NaN   \n",
       "3  https://www.reddit.com/r/AskDocs/comments/7nbs...                  NaN   \n",
       "4  https://www.reddit.com/r/AskDocs/comments/7nbo...                  NaN   \n",
       "\n",
       "                                      full_post_text    created_utc_ns_dt   \n",
       "0  Appendicitis removed 1 month ago but feel a pa...  1514764452000000000  \\\n",
       "1  My grandma has neck/back pain and little to no...  1514764055000000000   \n",
       "2  My ears feel like there is pressure inside of ...  1514763799000000000   \n",
       "3  IBS maybe? | (first about me : 32 white male 5...  1514763188000000000   \n",
       "4  Mole or scar? Should I be worried about melano...  1514761839000000000   \n",
       "\n",
       "   edited_utc_ns_dt   age   sex  \n",
       "0               NaN   NaN   NaN  \n",
       "1               NaN   NaN  AFAB  \n",
       "2               NaN   NaN   NaN  \n",
       "3               NaN   NaN  AMAB  \n",
       "4               NaN  21.0   NaN  "
      ]
     },
     "execution_count": 3,
     "metadata": {},
     "output_type": "execute_result"
    }
   ],
   "source": [
    "df.head()"
   ]
  },
  {
   "cell_type": "code",
   "execution_count": 4,
   "id": "ce370f89-a264-42c6-ba80-3735abf9fd81",
   "metadata": {},
   "outputs": [
    {
     "data": {
      "text/plain": [
       "Index(['author', 'author_flair_text', 'domain', 'full_link', 'id', 'locked',\n",
       "       'num_comments', 'num_crossposts', 'over_18', 'score', 'selftext',\n",
       "       'title', 'url', 'crosspost_subreddits', 'full_post_text',\n",
       "       'created_utc_ns_dt', 'edited_utc_ns_dt', 'age', 'sex'],\n",
       "      dtype='object')"
      ]
     },
     "execution_count": 4,
     "metadata": {},
     "output_type": "execute_result"
    }
   ],
   "source": [
    "df.columns"
   ]
  },
  {
   "cell_type": "code",
   "execution_count": 22,
   "id": "fd610fc9-3926-48a1-8032-3258e8e16ddd",
   "metadata": {},
   "outputs": [
    {
     "data": {
      "text/plain": [
       "19"
      ]
     },
     "execution_count": 22,
     "metadata": {},
     "output_type": "execute_result"
    }
   ],
   "source": [
    "len(df.columns)"
   ]
  },
  {
   "cell_type": "markdown",
   "id": "10558566-a51a-4a4d-9074-e3f9b15c20e1",
   "metadata": {},
   "source": [
    "### author"
   ]
  },
  {
   "cell_type": "code",
   "execution_count": 5,
   "id": "5d7eaf96-e8b7-41c2-be70-339c7f9e4d3c",
   "metadata": {},
   "outputs": [
    {
     "data": {
      "text/plain": [
       "author\n",
       "[deleted]           17647\n",
       "SensitiveBorder2      289\n",
       "Help_Me_Reddit01      224\n",
       "throwlega             190\n",
       "dizson                152\n",
       "                    ...  \n",
       "sammydog567             1\n",
       "cynyk_                  1\n",
       "hippotus                1\n",
       "sarcasm_itsagift        1\n",
       "nominsinjun             1\n",
       "Name: count, Length: 366427, dtype: int64"
      ]
     },
     "execution_count": 5,
     "metadata": {},
     "output_type": "execute_result"
    }
   ],
   "source": [
    "df['author'].value_counts(dropna=False)"
   ]
  },
  {
   "cell_type": "code",
   "execution_count": 27,
   "id": "4de545de-1c82-45e5-a340-f762cd464bd2",
   "metadata": {},
   "outputs": [
    {
     "data": {
      "text/plain": [
       "author\n",
       "False    683202\n",
       "Name: count, dtype: int64"
      ]
     },
     "execution_count": 27,
     "metadata": {},
     "output_type": "execute_result"
    }
   ],
   "source": [
    "df['author'].isna().value_counts(dropna=False)"
   ]
  },
  {
   "cell_type": "code",
   "execution_count": 26,
   "id": "db7773dd-7001-4cf7-925d-ecc6b2a83b67",
   "metadata": {},
   "outputs": [
    {
     "data": {
      "text/plain": [
       "author\n",
       "[deleted]           0.025830\n",
       "SensitiveBorder2    0.000423\n",
       "Help_Me_Reddit01    0.000328\n",
       "throwlega           0.000278\n",
       "dizson              0.000222\n",
       "                      ...   \n",
       "sammydog567         0.000001\n",
       "cynyk_              0.000001\n",
       "hippotus            0.000001\n",
       "sarcasm_itsagift    0.000001\n",
       "nominsinjun         0.000001\n",
       "Name: proportion, Length: 366427, dtype: float64"
      ]
     },
     "execution_count": 26,
     "metadata": {},
     "output_type": "execute_result"
    }
   ],
   "source": [
    "df['author'].value_counts(dropna=False, normalize=True)"
   ]
  },
  {
   "cell_type": "code",
   "execution_count": 28,
   "id": "6a6296d9-fcbe-456e-84c3-b52c0ca93f49",
   "metadata": {},
   "outputs": [
    {
     "data": {
      "text/plain": [
       "full_post_text\n",
       "Scratched a bug bite on my scalp too hard and now there's a     7\n",
       "Please help |                                                   4\n",
       "Back pain |                                                     4\n",
       "Trouble breathing. |                                            4\n",
       "What is this? |                                                 4\n",
       "                                                               ..\n",
       "Blood tests for both kinds of Herpes |                          1\n",
       "Numbness in right ear, related to a nerve or muscle in neck     1\n",
       "No one can figure out what's wrong with me. 25 and a myriad     1\n",
       "Should I worry about sugar consumption right before a physic    1\n",
       "Does my calf pain warrant an ER visit? |                        1\n",
       "Name: count, Length: 17411, dtype: int64"
      ]
     },
     "execution_count": 28,
     "metadata": {},
     "output_type": "execute_result"
    }
   ],
   "source": [
    "df[df['author'] == '[deleted]']['full_post_text'].str[:60].value_counts(dropna=False)"
   ]
  },
  {
   "cell_type": "code",
   "execution_count": 29,
   "id": "6058c344-0327-4a35-bbda-6596add8fe1e",
   "metadata": {},
   "outputs": [
    {
     "data": {
      "text/plain": [
       "Series([], Name: count, dtype: int64)"
      ]
     },
     "execution_count": 29,
     "metadata": {},
     "output_type": "execute_result"
    }
   ],
   "source": [
    "df[df['author'] == '[removed]']['full_post_text'].str[:60].value_counts(dropna=False)"
   ]
  },
  {
   "cell_type": "code",
   "execution_count": 33,
   "id": "5f87b202-ade3-4710-9502-94c4fa99197a",
   "metadata": {},
   "outputs": [],
   "source": [
    "author_vc = df['author'].value_counts().reset_index()"
   ]
  },
  {
   "cell_type": "code",
   "execution_count": 42,
   "id": "0bf81dc2-37b7-4bf7-9d3c-5a0ae729a905",
   "metadata": {},
   "outputs": [
    {
     "data": {
      "text/html": [
       "<div>\n",
       "<style scoped>\n",
       "    .dataframe tbody tr th:only-of-type {\n",
       "        vertical-align: middle;\n",
       "    }\n",
       "\n",
       "    .dataframe tbody tr th {\n",
       "        vertical-align: top;\n",
       "    }\n",
       "\n",
       "    .dataframe thead th {\n",
       "        text-align: right;\n",
       "    }\n",
       "</style>\n",
       "<table border=\"1\" class=\"dataframe\">\n",
       "  <thead>\n",
       "    <tr style=\"text-align: right;\">\n",
       "      <th></th>\n",
       "      <th>author</th>\n",
       "      <th>count</th>\n",
       "    </tr>\n",
       "  </thead>\n",
       "  <tbody>\n",
       "    <tr>\n",
       "      <th>0</th>\n",
       "      <td>[deleted]</td>\n",
       "      <td>17647</td>\n",
       "    </tr>\n",
       "    <tr>\n",
       "      <th>1</th>\n",
       "      <td>SensitiveBorder2</td>\n",
       "      <td>289</td>\n",
       "    </tr>\n",
       "    <tr>\n",
       "      <th>2</th>\n",
       "      <td>Help_Me_Reddit01</td>\n",
       "      <td>224</td>\n",
       "    </tr>\n",
       "    <tr>\n",
       "      <th>3</th>\n",
       "      <td>throwlega</td>\n",
       "      <td>190</td>\n",
       "    </tr>\n",
       "    <tr>\n",
       "      <th>4</th>\n",
       "      <td>dizson</td>\n",
       "      <td>152</td>\n",
       "    </tr>\n",
       "    <tr>\n",
       "      <th>5</th>\n",
       "      <td>Docquest117</td>\n",
       "      <td>147</td>\n",
       "    </tr>\n",
       "    <tr>\n",
       "      <th>6</th>\n",
       "      <td>ukjungle</td>\n",
       "      <td>139</td>\n",
       "    </tr>\n",
       "    <tr>\n",
       "      <th>7</th>\n",
       "      <td>johndoejohndoes</td>\n",
       "      <td>130</td>\n",
       "    </tr>\n",
       "    <tr>\n",
       "      <th>8</th>\n",
       "      <td>__throwawaypt__</td>\n",
       "      <td>115</td>\n",
       "    </tr>\n",
       "    <tr>\n",
       "      <th>9</th>\n",
       "      <td>Ak51915</td>\n",
       "      <td>104</td>\n",
       "    </tr>\n",
       "  </tbody>\n",
       "</table>\n",
       "</div>"
      ],
      "text/plain": [
       "             author  count\n",
       "0         [deleted]  17647\n",
       "1  SensitiveBorder2    289\n",
       "2  Help_Me_Reddit01    224\n",
       "3         throwlega    190\n",
       "4            dizson    152\n",
       "5       Docquest117    147\n",
       "6          ukjungle    139\n",
       "7   johndoejohndoes    130\n",
       "8   __throwawaypt__    115\n",
       "9           Ak51915    104"
      ]
     },
     "execution_count": 42,
     "metadata": {},
     "output_type": "execute_result"
    }
   ],
   "source": [
    "author_vc.head(10)"
   ]
  },
  {
   "cell_type": "code",
   "execution_count": 47,
   "id": "9606d65d-60cd-45d0-a23c-eb8b59257112",
   "metadata": {},
   "outputs": [
    {
     "data": {
      "text/html": [
       "<div>\n",
       "<style scoped>\n",
       "    .dataframe tbody tr th:only-of-type {\n",
       "        vertical-align: middle;\n",
       "    }\n",
       "\n",
       "    .dataframe tbody tr th {\n",
       "        vertical-align: top;\n",
       "    }\n",
       "\n",
       "    .dataframe thead th {\n",
       "        text-align: right;\n",
       "    }\n",
       "</style>\n",
       "<table border=\"1\" class=\"dataframe\">\n",
       "  <thead>\n",
       "    <tr style=\"text-align: right;\">\n",
       "      <th></th>\n",
       "      <th>author_posts_count</th>\n",
       "      <th>proportion</th>\n",
       "    </tr>\n",
       "  </thead>\n",
       "  <tbody>\n",
       "    <tr>\n",
       "      <th>0</th>\n",
       "      <td>1</td>\n",
       "      <td>0.627768</td>\n",
       "    </tr>\n",
       "    <tr>\n",
       "      <th>1</th>\n",
       "      <td>2</td>\n",
       "      <td>0.225076</td>\n",
       "    </tr>\n",
       "    <tr>\n",
       "      <th>2</th>\n",
       "      <td>3</td>\n",
       "      <td>0.068707</td>\n",
       "    </tr>\n",
       "    <tr>\n",
       "      <th>3</th>\n",
       "      <td>4</td>\n",
       "      <td>0.030694</td>\n",
       "    </tr>\n",
       "    <tr>\n",
       "      <th>4</th>\n",
       "      <td>5</td>\n",
       "      <td>0.015430</td>\n",
       "    </tr>\n",
       "    <tr>\n",
       "      <th>5</th>\n",
       "      <td>6</td>\n",
       "      <td>0.009142</td>\n",
       "    </tr>\n",
       "    <tr>\n",
       "      <th>6</th>\n",
       "      <td>7</td>\n",
       "      <td>0.005742</td>\n",
       "    </tr>\n",
       "    <tr>\n",
       "      <th>7</th>\n",
       "      <td>8</td>\n",
       "      <td>0.003862</td>\n",
       "    </tr>\n",
       "    <tr>\n",
       "      <th>8</th>\n",
       "      <td>9</td>\n",
       "      <td>0.002885</td>\n",
       "    </tr>\n",
       "    <tr>\n",
       "      <th>9</th>\n",
       "      <td>10</td>\n",
       "      <td>0.001949</td>\n",
       "    </tr>\n",
       "  </tbody>\n",
       "</table>\n",
       "</div>"
      ],
      "text/plain": [
       "   author_posts_count  proportion\n",
       "0                   1    0.627768\n",
       "1                   2    0.225076\n",
       "2                   3    0.068707\n",
       "3                   4    0.030694\n",
       "4                   5    0.015430\n",
       "5                   6    0.009142\n",
       "6                   7    0.005742\n",
       "7                   8    0.003862\n",
       "8                   9    0.002885\n",
       "9                  10    0.001949"
      ]
     },
     "execution_count": 47,
     "metadata": {},
     "output_type": "execute_result"
    }
   ],
   "source": [
    "author_posts_count_vc = author_vc['count'].value_counts(normalize=True).sort_index()\\\n",
    "    .reset_index()\n",
    "author_posts_count_vc.rename(\n",
    "    columns={'count': 'author_posts_count'},\n",
    "    inplace=True\n",
    ")\n",
    "author_posts_count_vc.head(10)"
   ]
  },
  {
   "cell_type": "code",
   "execution_count": 52,
   "id": "32dda6a6-3293-412f-bdd6-dc309ce97f93",
   "metadata": {},
   "outputs": [
    {
     "data": {
      "text/html": [
       "<div>\n",
       "<style scoped>\n",
       "    .dataframe tbody tr th:only-of-type {\n",
       "        vertical-align: middle;\n",
       "    }\n",
       "\n",
       "    .dataframe tbody tr th {\n",
       "        vertical-align: top;\n",
       "    }\n",
       "\n",
       "    .dataframe thead th {\n",
       "        text-align: right;\n",
       "    }\n",
       "</style>\n",
       "<table border=\"1\" class=\"dataframe\">\n",
       "  <thead>\n",
       "    <tr style=\"text-align: right;\">\n",
       "      <th></th>\n",
       "      <th>author_posts_count</th>\n",
       "      <th>proportion</th>\n",
       "    </tr>\n",
       "  </thead>\n",
       "  <tbody>\n",
       "    <tr>\n",
       "      <th>86</th>\n",
       "      <td>152</td>\n",
       "      <td>0.000003</td>\n",
       "    </tr>\n",
       "    <tr>\n",
       "      <th>87</th>\n",
       "      <td>190</td>\n",
       "      <td>0.000003</td>\n",
       "    </tr>\n",
       "    <tr>\n",
       "      <th>88</th>\n",
       "      <td>224</td>\n",
       "      <td>0.000003</td>\n",
       "    </tr>\n",
       "    <tr>\n",
       "      <th>89</th>\n",
       "      <td>289</td>\n",
       "      <td>0.000003</td>\n",
       "    </tr>\n",
       "    <tr>\n",
       "      <th>90</th>\n",
       "      <td>17647</td>\n",
       "      <td>0.000003</td>\n",
       "    </tr>\n",
       "  </tbody>\n",
       "</table>\n",
       "</div>"
      ],
      "text/plain": [
       "    author_posts_count  proportion\n",
       "86                 152    0.000003\n",
       "87                 190    0.000003\n",
       "88                 224    0.000003\n",
       "89                 289    0.000003\n",
       "90               17647    0.000003"
      ]
     },
     "execution_count": 52,
     "metadata": {},
     "output_type": "execute_result"
    }
   ],
   "source": [
    "author_posts_count_vc.tail(5)"
   ]
  },
  {
   "cell_type": "code",
   "execution_count": 60,
   "id": "470f83e7-ab79-4d25-9034-50e79a33e2b8",
   "metadata": {},
   "outputs": [
    {
     "data": {
      "application/vnd.plotly.v1+json": {
       "config": {
        "plotlyServerURL": "https://plotly.com"
       },
       "data": [
        {
         "mode": "markers",
         "type": "scatter",
         "x": [
          1,
          2,
          3,
          4,
          5,
          6,
          7,
          8,
          9,
          10,
          11,
          12,
          13,
          14,
          15,
          16,
          17,
          18,
          19,
          20,
          21,
          22,
          23,
          24,
          25,
          26,
          27,
          28,
          29,
          30,
          31,
          32,
          33,
          34,
          35,
          36,
          37,
          38,
          39,
          40,
          41,
          42,
          43,
          44,
          45,
          46,
          47,
          48,
          49,
          50,
          51,
          52,
          53,
          54,
          55,
          57,
          58,
          59,
          60,
          61,
          63,
          64,
          65,
          68,
          70,
          71,
          72,
          73,
          74,
          77,
          80,
          81,
          83,
          84,
          85,
          86,
          88,
          90,
          98,
          99,
          103,
          104,
          115,
          130,
          139,
          147,
          152,
          190,
          224,
          289
         ],
         "y": [
          0.6277676044614616,
          0.22507620890381985,
          0.06870672739727149,
          0.030693698881359727,
          0.015430085665084723,
          0.009142339401845388,
          0.005741934955666476,
          0.0038616150010779772,
          0.00288461276052256,
          0.0019485463680351065,
          0.0015528331700447838,
          0.001192597707046697,
          0.0008214460178971528,
          0.0007859682829049169,
          0.0006249539471709235,
          0.0005130626291184874,
          0.0004366490460582872,
          0.00035477734992235836,
          0.00023196980571846507,
          0.00023196980571846507,
          0.00019376301418836493,
          0.0002183245230291436,
          0.0001719305618854506,
          0.00012280754420389327,
          0.00012007848766602898,
          0.00012007848766602898,
          7.914263959806456e-05,
          5.45811307572859e-05,
          6.549735690874308e-05,
          6.822641344660737e-05,
          4.366490460582872e-05,
          4.9123017681557306e-05,
          5.18520742194216e-05,
          5.731018729515019e-05,
          6.549735690874308e-05,
          3.274867845437154e-05,
          3.274867845437154e-05,
          3.0019621916507244e-05,
          2.183245230291436e-05,
          2.4561508840778653e-05,
          3.0019621916507244e-05,
          1.637433922718577e-05,
          1.091622615145718e-05,
          1.637433922718577e-05,
          2.729056537864295e-05,
          1.637433922718577e-05,
          1.3645282689321474e-05,
          1.637433922718577e-05,
          1.637433922718577e-05,
          5.45811307572859e-06,
          1.637433922718577e-05,
          5.45811307572859e-06,
          8.187169613592885e-06,
          1.3645282689321474e-05,
          5.45811307572859e-06,
          5.45811307572859e-06,
          5.45811307572859e-06,
          8.187169613592885e-06,
          1.091622615145718e-05,
          1.091622615145718e-05,
          8.187169613592885e-06,
          2.729056537864295e-06,
          2.729056537864295e-06,
          8.187169613592885e-06,
          2.729056537864295e-06,
          1.3645282689321474e-05,
          2.729056537864295e-06,
          2.729056537864295e-06,
          2.729056537864295e-06,
          5.45811307572859e-06,
          5.45811307572859e-06,
          2.729056537864295e-06,
          2.729056537864295e-06,
          2.729056537864295e-06,
          2.729056537864295e-06,
          2.729056537864295e-06,
          2.729056537864295e-06,
          2.729056537864295e-06,
          5.45811307572859e-06,
          2.729056537864295e-06,
          2.729056537864295e-06,
          5.45811307572859e-06,
          2.729056537864295e-06,
          2.729056537864295e-06,
          2.729056537864295e-06,
          2.729056537864295e-06,
          2.729056537864295e-06,
          2.729056537864295e-06,
          2.729056537864295e-06,
          2.729056537864295e-06
         ]
        }
       ],
       "layout": {
        "autosize": true,
        "plot_bgcolor": "#fff",
        "showlegend": false,
        "template": {
         "data": {
          "bar": [
           {
            "error_x": {
             "color": "#2a3f5f"
            },
            "error_y": {
             "color": "#2a3f5f"
            },
            "marker": {
             "line": {
              "color": "#E5ECF6",
              "width": 0.5
             },
             "pattern": {
              "fillmode": "overlay",
              "size": 10,
              "solidity": 0.2
             }
            },
            "type": "bar"
           }
          ],
          "barpolar": [
           {
            "marker": {
             "line": {
              "color": "#E5ECF6",
              "width": 0.5
             },
             "pattern": {
              "fillmode": "overlay",
              "size": 10,
              "solidity": 0.2
             }
            },
            "type": "barpolar"
           }
          ],
          "carpet": [
           {
            "aaxis": {
             "endlinecolor": "#2a3f5f",
             "gridcolor": "white",
             "linecolor": "white",
             "minorgridcolor": "white",
             "startlinecolor": "#2a3f5f"
            },
            "baxis": {
             "endlinecolor": "#2a3f5f",
             "gridcolor": "white",
             "linecolor": "white",
             "minorgridcolor": "white",
             "startlinecolor": "#2a3f5f"
            },
            "type": "carpet"
           }
          ],
          "choropleth": [
           {
            "colorbar": {
             "outlinewidth": 0,
             "ticks": ""
            },
            "type": "choropleth"
           }
          ],
          "contour": [
           {
            "colorbar": {
             "outlinewidth": 0,
             "ticks": ""
            },
            "colorscale": [
             [
              0,
              "#0d0887"
             ],
             [
              0.1111111111111111,
              "#46039f"
             ],
             [
              0.2222222222222222,
              "#7201a8"
             ],
             [
              0.3333333333333333,
              "#9c179e"
             ],
             [
              0.4444444444444444,
              "#bd3786"
             ],
             [
              0.5555555555555556,
              "#d8576b"
             ],
             [
              0.6666666666666666,
              "#ed7953"
             ],
             [
              0.7777777777777778,
              "#fb9f3a"
             ],
             [
              0.8888888888888888,
              "#fdca26"
             ],
             [
              1,
              "#f0f921"
             ]
            ],
            "type": "contour"
           }
          ],
          "contourcarpet": [
           {
            "colorbar": {
             "outlinewidth": 0,
             "ticks": ""
            },
            "type": "contourcarpet"
           }
          ],
          "heatmap": [
           {
            "colorbar": {
             "outlinewidth": 0,
             "ticks": ""
            },
            "colorscale": [
             [
              0,
              "#0d0887"
             ],
             [
              0.1111111111111111,
              "#46039f"
             ],
             [
              0.2222222222222222,
              "#7201a8"
             ],
             [
              0.3333333333333333,
              "#9c179e"
             ],
             [
              0.4444444444444444,
              "#bd3786"
             ],
             [
              0.5555555555555556,
              "#d8576b"
             ],
             [
              0.6666666666666666,
              "#ed7953"
             ],
             [
              0.7777777777777778,
              "#fb9f3a"
             ],
             [
              0.8888888888888888,
              "#fdca26"
             ],
             [
              1,
              "#f0f921"
             ]
            ],
            "type": "heatmap"
           }
          ],
          "heatmapgl": [
           {
            "colorbar": {
             "outlinewidth": 0,
             "ticks": ""
            },
            "colorscale": [
             [
              0,
              "#0d0887"
             ],
             [
              0.1111111111111111,
              "#46039f"
             ],
             [
              0.2222222222222222,
              "#7201a8"
             ],
             [
              0.3333333333333333,
              "#9c179e"
             ],
             [
              0.4444444444444444,
              "#bd3786"
             ],
             [
              0.5555555555555556,
              "#d8576b"
             ],
             [
              0.6666666666666666,
              "#ed7953"
             ],
             [
              0.7777777777777778,
              "#fb9f3a"
             ],
             [
              0.8888888888888888,
              "#fdca26"
             ],
             [
              1,
              "#f0f921"
             ]
            ],
            "type": "heatmapgl"
           }
          ],
          "histogram": [
           {
            "marker": {
             "pattern": {
              "fillmode": "overlay",
              "size": 10,
              "solidity": 0.2
             }
            },
            "type": "histogram"
           }
          ],
          "histogram2d": [
           {
            "colorbar": {
             "outlinewidth": 0,
             "ticks": ""
            },
            "colorscale": [
             [
              0,
              "#0d0887"
             ],
             [
              0.1111111111111111,
              "#46039f"
             ],
             [
              0.2222222222222222,
              "#7201a8"
             ],
             [
              0.3333333333333333,
              "#9c179e"
             ],
             [
              0.4444444444444444,
              "#bd3786"
             ],
             [
              0.5555555555555556,
              "#d8576b"
             ],
             [
              0.6666666666666666,
              "#ed7953"
             ],
             [
              0.7777777777777778,
              "#fb9f3a"
             ],
             [
              0.8888888888888888,
              "#fdca26"
             ],
             [
              1,
              "#f0f921"
             ]
            ],
            "type": "histogram2d"
           }
          ],
          "histogram2dcontour": [
           {
            "colorbar": {
             "outlinewidth": 0,
             "ticks": ""
            },
            "colorscale": [
             [
              0,
              "#0d0887"
             ],
             [
              0.1111111111111111,
              "#46039f"
             ],
             [
              0.2222222222222222,
              "#7201a8"
             ],
             [
              0.3333333333333333,
              "#9c179e"
             ],
             [
              0.4444444444444444,
              "#bd3786"
             ],
             [
              0.5555555555555556,
              "#d8576b"
             ],
             [
              0.6666666666666666,
              "#ed7953"
             ],
             [
              0.7777777777777778,
              "#fb9f3a"
             ],
             [
              0.8888888888888888,
              "#fdca26"
             ],
             [
              1,
              "#f0f921"
             ]
            ],
            "type": "histogram2dcontour"
           }
          ],
          "mesh3d": [
           {
            "colorbar": {
             "outlinewidth": 0,
             "ticks": ""
            },
            "type": "mesh3d"
           }
          ],
          "parcoords": [
           {
            "line": {
             "colorbar": {
              "outlinewidth": 0,
              "ticks": ""
             }
            },
            "type": "parcoords"
           }
          ],
          "pie": [
           {
            "automargin": true,
            "type": "pie"
           }
          ],
          "scatter": [
           {
            "fillpattern": {
             "fillmode": "overlay",
             "size": 10,
             "solidity": 0.2
            },
            "type": "scatter"
           }
          ],
          "scatter3d": [
           {
            "line": {
             "colorbar": {
              "outlinewidth": 0,
              "ticks": ""
             }
            },
            "marker": {
             "colorbar": {
              "outlinewidth": 0,
              "ticks": ""
             }
            },
            "type": "scatter3d"
           }
          ],
          "scattercarpet": [
           {
            "marker": {
             "colorbar": {
              "outlinewidth": 0,
              "ticks": ""
             }
            },
            "type": "scattercarpet"
           }
          ],
          "scattergeo": [
           {
            "marker": {
             "colorbar": {
              "outlinewidth": 0,
              "ticks": ""
             }
            },
            "type": "scattergeo"
           }
          ],
          "scattergl": [
           {
            "marker": {
             "colorbar": {
              "outlinewidth": 0,
              "ticks": ""
             }
            },
            "type": "scattergl"
           }
          ],
          "scattermapbox": [
           {
            "marker": {
             "colorbar": {
              "outlinewidth": 0,
              "ticks": ""
             }
            },
            "type": "scattermapbox"
           }
          ],
          "scatterpolar": [
           {
            "marker": {
             "colorbar": {
              "outlinewidth": 0,
              "ticks": ""
             }
            },
            "type": "scatterpolar"
           }
          ],
          "scatterpolargl": [
           {
            "marker": {
             "colorbar": {
              "outlinewidth": 0,
              "ticks": ""
             }
            },
            "type": "scatterpolargl"
           }
          ],
          "scatterternary": [
           {
            "marker": {
             "colorbar": {
              "outlinewidth": 0,
              "ticks": ""
             }
            },
            "type": "scatterternary"
           }
          ],
          "surface": [
           {
            "colorbar": {
             "outlinewidth": 0,
             "ticks": ""
            },
            "colorscale": [
             [
              0,
              "#0d0887"
             ],
             [
              0.1111111111111111,
              "#46039f"
             ],
             [
              0.2222222222222222,
              "#7201a8"
             ],
             [
              0.3333333333333333,
              "#9c179e"
             ],
             [
              0.4444444444444444,
              "#bd3786"
             ],
             [
              0.5555555555555556,
              "#d8576b"
             ],
             [
              0.6666666666666666,
              "#ed7953"
             ],
             [
              0.7777777777777778,
              "#fb9f3a"
             ],
             [
              0.8888888888888888,
              "#fdca26"
             ],
             [
              1,
              "#f0f921"
             ]
            ],
            "type": "surface"
           }
          ],
          "table": [
           {
            "cells": {
             "fill": {
              "color": "#EBF0F8"
             },
             "line": {
              "color": "white"
             }
            },
            "header": {
             "fill": {
              "color": "#C8D4E3"
             },
             "line": {
              "color": "white"
             }
            },
            "type": "table"
           }
          ]
         },
         "layout": {
          "annotationdefaults": {
           "arrowcolor": "#2a3f5f",
           "arrowhead": 0,
           "arrowwidth": 1
          },
          "autotypenumbers": "strict",
          "coloraxis": {
           "colorbar": {
            "outlinewidth": 0,
            "ticks": ""
           }
          },
          "colorscale": {
           "diverging": [
            [
             0,
             "#8e0152"
            ],
            [
             0.1,
             "#c51b7d"
            ],
            [
             0.2,
             "#de77ae"
            ],
            [
             0.3,
             "#f1b6da"
            ],
            [
             0.4,
             "#fde0ef"
            ],
            [
             0.5,
             "#f7f7f7"
            ],
            [
             0.6,
             "#e6f5d0"
            ],
            [
             0.7,
             "#b8e186"
            ],
            [
             0.8,
             "#7fbc41"
            ],
            [
             0.9,
             "#4d9221"
            ],
            [
             1,
             "#276419"
            ]
           ],
           "sequential": [
            [
             0,
             "#0d0887"
            ],
            [
             0.1111111111111111,
             "#46039f"
            ],
            [
             0.2222222222222222,
             "#7201a8"
            ],
            [
             0.3333333333333333,
             "#9c179e"
            ],
            [
             0.4444444444444444,
             "#bd3786"
            ],
            [
             0.5555555555555556,
             "#d8576b"
            ],
            [
             0.6666666666666666,
             "#ed7953"
            ],
            [
             0.7777777777777778,
             "#fb9f3a"
            ],
            [
             0.8888888888888888,
             "#fdca26"
            ],
            [
             1,
             "#f0f921"
            ]
           ],
           "sequentialminus": [
            [
             0,
             "#0d0887"
            ],
            [
             0.1111111111111111,
             "#46039f"
            ],
            [
             0.2222222222222222,
             "#7201a8"
            ],
            [
             0.3333333333333333,
             "#9c179e"
            ],
            [
             0.4444444444444444,
             "#bd3786"
            ],
            [
             0.5555555555555556,
             "#d8576b"
            ],
            [
             0.6666666666666666,
             "#ed7953"
            ],
            [
             0.7777777777777778,
             "#fb9f3a"
            ],
            [
             0.8888888888888888,
             "#fdca26"
            ],
            [
             1,
             "#f0f921"
            ]
           ]
          },
          "colorway": [
           "#636efa",
           "#EF553B",
           "#00cc96",
           "#ab63fa",
           "#FFA15A",
           "#19d3f3",
           "#FF6692",
           "#B6E880",
           "#FF97FF",
           "#FECB52"
          ],
          "font": {
           "color": "#2a3f5f"
          },
          "geo": {
           "bgcolor": "white",
           "lakecolor": "white",
           "landcolor": "#E5ECF6",
           "showlakes": true,
           "showland": true,
           "subunitcolor": "white"
          },
          "hoverlabel": {
           "align": "left"
          },
          "hovermode": "closest",
          "mapbox": {
           "style": "light"
          },
          "paper_bgcolor": "white",
          "plot_bgcolor": "#E5ECF6",
          "polar": {
           "angularaxis": {
            "gridcolor": "white",
            "linecolor": "white",
            "ticks": ""
           },
           "bgcolor": "#E5ECF6",
           "radialaxis": {
            "gridcolor": "white",
            "linecolor": "white",
            "ticks": ""
           }
          },
          "scene": {
           "xaxis": {
            "backgroundcolor": "#E5ECF6",
            "gridcolor": "white",
            "gridwidth": 2,
            "linecolor": "white",
            "showbackground": true,
            "ticks": "",
            "zerolinecolor": "white"
           },
           "yaxis": {
            "backgroundcolor": "#E5ECF6",
            "gridcolor": "white",
            "gridwidth": 2,
            "linecolor": "white",
            "showbackground": true,
            "ticks": "",
            "zerolinecolor": "white"
           },
           "zaxis": {
            "backgroundcolor": "#E5ECF6",
            "gridcolor": "white",
            "gridwidth": 2,
            "linecolor": "white",
            "showbackground": true,
            "ticks": "",
            "zerolinecolor": "white"
           }
          },
          "shapedefaults": {
           "line": {
            "color": "#2a3f5f"
           }
          },
          "ternary": {
           "aaxis": {
            "gridcolor": "white",
            "linecolor": "white",
            "ticks": ""
           },
           "baxis": {
            "gridcolor": "white",
            "linecolor": "white",
            "ticks": ""
           },
           "bgcolor": "#E5ECF6",
           "caxis": {
            "gridcolor": "white",
            "linecolor": "white",
            "ticks": ""
           }
          },
          "title": {
           "x": 0.05
          },
          "xaxis": {
           "automargin": true,
           "gridcolor": "white",
           "linecolor": "white",
           "ticks": "",
           "title": {
            "standoff": 15
           },
           "zerolinecolor": "white",
           "zerolinewidth": 2
          },
          "yaxis": {
           "automargin": true,
           "gridcolor": "white",
           "linecolor": "white",
           "ticks": "",
           "title": {
            "standoff": 15
           },
           "zerolinecolor": "white",
           "zerolinewidth": 2
          }
         }
        },
        "title": {
         "text": "<b>Author posts count</b> frequency plot, excluding [deleted]"
        },
        "xaxis": {
         "autorange": false,
         "range": [
          0,
          43.2903256261573
         ],
         "rangemode": "tozero",
         "showspikes": false,
         "title": {
          "text": "author posts count"
         },
         "type": "linear"
        },
        "yaxis": {
         "autorange": false,
         "gridcolor": "#eee",
         "range": [
          0,
          0.6652587498405736
         ],
         "rangemode": "tozero",
         "showspikes": false,
         "title": {
          "text": "proportion"
         },
         "type": "linear"
        }
       }
      },
      "text/html": [
       "<div>                            <div id=\"58fa1d5a-6d40-4e2a-bc8a-bbcf4215b215\" class=\"plotly-graph-div\" style=\"height:400px; width:100%;\"></div>            <script type=\"text/javascript\">                require([\"plotly\"], function(Plotly) {                    window.PLOTLYENV=window.PLOTLYENV || {};                                    if (document.getElementById(\"58fa1d5a-6d40-4e2a-bc8a-bbcf4215b215\")) {                    Plotly.newPlot(                        \"58fa1d5a-6d40-4e2a-bc8a-bbcf4215b215\",                        [{\"mode\":\"markers\",\"x\":[1,2,3,4,5,6,7,8,9,10,11,12,13,14,15,16,17,18,19,20,21,22,23,24,25,26,27,28,29,30,31,32,33,34,35,36,37,38,39,40,41,42,43,44,45,46,47,48,49,50,51,52,53,54,55,57,58,59,60,61,63,64,65,68,70,71,72,73,74,77,80,81,83,84,85,86,88,90,98,99,103,104,115,130,139,147,152,190,224,289],\"y\":[0.6277676044614616,0.22507620890381985,0.06870672739727149,0.030693698881359727,0.015430085665084723,0.009142339401845388,0.005741934955666476,0.0038616150010779772,0.00288461276052256,0.0019485463680351065,0.0015528331700447838,0.001192597707046697,0.0008214460178971528,0.0007859682829049169,0.0006249539471709235,0.0005130626291184874,0.0004366490460582872,0.00035477734992235836,0.00023196980571846507,0.00023196980571846507,0.00019376301418836493,0.0002183245230291436,0.0001719305618854506,0.00012280754420389327,0.00012007848766602898,0.00012007848766602898,7.914263959806456e-05,5.45811307572859e-05,6.549735690874308e-05,6.822641344660737e-05,4.366490460582872e-05,4.9123017681557306e-05,5.18520742194216e-05,5.731018729515019e-05,6.549735690874308e-05,3.274867845437154e-05,3.274867845437154e-05,3.0019621916507244e-05,2.183245230291436e-05,2.4561508840778653e-05,3.0019621916507244e-05,1.637433922718577e-05,1.091622615145718e-05,1.637433922718577e-05,2.729056537864295e-05,1.637433922718577e-05,1.3645282689321474e-05,1.637433922718577e-05,1.637433922718577e-05,5.45811307572859e-06,1.637433922718577e-05,5.45811307572859e-06,8.187169613592885e-06,1.3645282689321474e-05,5.45811307572859e-06,5.45811307572859e-06,5.45811307572859e-06,8.187169613592885e-06,1.091622615145718e-05,1.091622615145718e-05,8.187169613592885e-06,2.729056537864295e-06,2.729056537864295e-06,8.187169613592885e-06,2.729056537864295e-06,1.3645282689321474e-05,2.729056537864295e-06,2.729056537864295e-06,2.729056537864295e-06,5.45811307572859e-06,5.45811307572859e-06,2.729056537864295e-06,2.729056537864295e-06,2.729056537864295e-06,2.729056537864295e-06,2.729056537864295e-06,2.729056537864295e-06,2.729056537864295e-06,5.45811307572859e-06,2.729056537864295e-06,2.729056537864295e-06,5.45811307572859e-06,2.729056537864295e-06,2.729056537864295e-06,2.729056537864295e-06,2.729056537864295e-06,2.729056537864295e-06,2.729056537864295e-06,2.729056537864295e-06,2.729056537864295e-06],\"type\":\"scatter\"}],                        {\"template\":{\"data\":{\"histogram2dcontour\":[{\"type\":\"histogram2dcontour\",\"colorbar\":{\"outlinewidth\":0,\"ticks\":\"\"},\"colorscale\":[[0.0,\"#0d0887\"],[0.1111111111111111,\"#46039f\"],[0.2222222222222222,\"#7201a8\"],[0.3333333333333333,\"#9c179e\"],[0.4444444444444444,\"#bd3786\"],[0.5555555555555556,\"#d8576b\"],[0.6666666666666666,\"#ed7953\"],[0.7777777777777778,\"#fb9f3a\"],[0.8888888888888888,\"#fdca26\"],[1.0,\"#f0f921\"]]}],\"choropleth\":[{\"type\":\"choropleth\",\"colorbar\":{\"outlinewidth\":0,\"ticks\":\"\"}}],\"histogram2d\":[{\"type\":\"histogram2d\",\"colorbar\":{\"outlinewidth\":0,\"ticks\":\"\"},\"colorscale\":[[0.0,\"#0d0887\"],[0.1111111111111111,\"#46039f\"],[0.2222222222222222,\"#7201a8\"],[0.3333333333333333,\"#9c179e\"],[0.4444444444444444,\"#bd3786\"],[0.5555555555555556,\"#d8576b\"],[0.6666666666666666,\"#ed7953\"],[0.7777777777777778,\"#fb9f3a\"],[0.8888888888888888,\"#fdca26\"],[1.0,\"#f0f921\"]]}],\"heatmap\":[{\"type\":\"heatmap\",\"colorbar\":{\"outlinewidth\":0,\"ticks\":\"\"},\"colorscale\":[[0.0,\"#0d0887\"],[0.1111111111111111,\"#46039f\"],[0.2222222222222222,\"#7201a8\"],[0.3333333333333333,\"#9c179e\"],[0.4444444444444444,\"#bd3786\"],[0.5555555555555556,\"#d8576b\"],[0.6666666666666666,\"#ed7953\"],[0.7777777777777778,\"#fb9f3a\"],[0.8888888888888888,\"#fdca26\"],[1.0,\"#f0f921\"]]}],\"heatmapgl\":[{\"type\":\"heatmapgl\",\"colorbar\":{\"outlinewidth\":0,\"ticks\":\"\"},\"colorscale\":[[0.0,\"#0d0887\"],[0.1111111111111111,\"#46039f\"],[0.2222222222222222,\"#7201a8\"],[0.3333333333333333,\"#9c179e\"],[0.4444444444444444,\"#bd3786\"],[0.5555555555555556,\"#d8576b\"],[0.6666666666666666,\"#ed7953\"],[0.7777777777777778,\"#fb9f3a\"],[0.8888888888888888,\"#fdca26\"],[1.0,\"#f0f921\"]]}],\"contourcarpet\":[{\"type\":\"contourcarpet\",\"colorbar\":{\"outlinewidth\":0,\"ticks\":\"\"}}],\"contour\":[{\"type\":\"contour\",\"colorbar\":{\"outlinewidth\":0,\"ticks\":\"\"},\"colorscale\":[[0.0,\"#0d0887\"],[0.1111111111111111,\"#46039f\"],[0.2222222222222222,\"#7201a8\"],[0.3333333333333333,\"#9c179e\"],[0.4444444444444444,\"#bd3786\"],[0.5555555555555556,\"#d8576b\"],[0.6666666666666666,\"#ed7953\"],[0.7777777777777778,\"#fb9f3a\"],[0.8888888888888888,\"#fdca26\"],[1.0,\"#f0f921\"]]}],\"surface\":[{\"type\":\"surface\",\"colorbar\":{\"outlinewidth\":0,\"ticks\":\"\"},\"colorscale\":[[0.0,\"#0d0887\"],[0.1111111111111111,\"#46039f\"],[0.2222222222222222,\"#7201a8\"],[0.3333333333333333,\"#9c179e\"],[0.4444444444444444,\"#bd3786\"],[0.5555555555555556,\"#d8576b\"],[0.6666666666666666,\"#ed7953\"],[0.7777777777777778,\"#fb9f3a\"],[0.8888888888888888,\"#fdca26\"],[1.0,\"#f0f921\"]]}],\"mesh3d\":[{\"type\":\"mesh3d\",\"colorbar\":{\"outlinewidth\":0,\"ticks\":\"\"}}],\"scatter\":[{\"fillpattern\":{\"fillmode\":\"overlay\",\"size\":10,\"solidity\":0.2},\"type\":\"scatter\"}],\"parcoords\":[{\"type\":\"parcoords\",\"line\":{\"colorbar\":{\"outlinewidth\":0,\"ticks\":\"\"}}}],\"scatterpolargl\":[{\"type\":\"scatterpolargl\",\"marker\":{\"colorbar\":{\"outlinewidth\":0,\"ticks\":\"\"}}}],\"bar\":[{\"error_x\":{\"color\":\"#2a3f5f\"},\"error_y\":{\"color\":\"#2a3f5f\"},\"marker\":{\"line\":{\"color\":\"#E5ECF6\",\"width\":0.5},\"pattern\":{\"fillmode\":\"overlay\",\"size\":10,\"solidity\":0.2}},\"type\":\"bar\"}],\"scattergeo\":[{\"type\":\"scattergeo\",\"marker\":{\"colorbar\":{\"outlinewidth\":0,\"ticks\":\"\"}}}],\"scatterpolar\":[{\"type\":\"scatterpolar\",\"marker\":{\"colorbar\":{\"outlinewidth\":0,\"ticks\":\"\"}}}],\"histogram\":[{\"marker\":{\"pattern\":{\"fillmode\":\"overlay\",\"size\":10,\"solidity\":0.2}},\"type\":\"histogram\"}],\"scattergl\":[{\"type\":\"scattergl\",\"marker\":{\"colorbar\":{\"outlinewidth\":0,\"ticks\":\"\"}}}],\"scatter3d\":[{\"type\":\"scatter3d\",\"line\":{\"colorbar\":{\"outlinewidth\":0,\"ticks\":\"\"}},\"marker\":{\"colorbar\":{\"outlinewidth\":0,\"ticks\":\"\"}}}],\"scattermapbox\":[{\"type\":\"scattermapbox\",\"marker\":{\"colorbar\":{\"outlinewidth\":0,\"ticks\":\"\"}}}],\"scatterternary\":[{\"type\":\"scatterternary\",\"marker\":{\"colorbar\":{\"outlinewidth\":0,\"ticks\":\"\"}}}],\"scattercarpet\":[{\"type\":\"scattercarpet\",\"marker\":{\"colorbar\":{\"outlinewidth\":0,\"ticks\":\"\"}}}],\"carpet\":[{\"aaxis\":{\"endlinecolor\":\"#2a3f5f\",\"gridcolor\":\"white\",\"linecolor\":\"white\",\"minorgridcolor\":\"white\",\"startlinecolor\":\"#2a3f5f\"},\"baxis\":{\"endlinecolor\":\"#2a3f5f\",\"gridcolor\":\"white\",\"linecolor\":\"white\",\"minorgridcolor\":\"white\",\"startlinecolor\":\"#2a3f5f\"},\"type\":\"carpet\"}],\"table\":[{\"cells\":{\"fill\":{\"color\":\"#EBF0F8\"},\"line\":{\"color\":\"white\"}},\"header\":{\"fill\":{\"color\":\"#C8D4E3\"},\"line\":{\"color\":\"white\"}},\"type\":\"table\"}],\"barpolar\":[{\"marker\":{\"line\":{\"color\":\"#E5ECF6\",\"width\":0.5},\"pattern\":{\"fillmode\":\"overlay\",\"size\":10,\"solidity\":0.2}},\"type\":\"barpolar\"}],\"pie\":[{\"automargin\":true,\"type\":\"pie\"}]},\"layout\":{\"autotypenumbers\":\"strict\",\"colorway\":[\"#636efa\",\"#EF553B\",\"#00cc96\",\"#ab63fa\",\"#FFA15A\",\"#19d3f3\",\"#FF6692\",\"#B6E880\",\"#FF97FF\",\"#FECB52\"],\"font\":{\"color\":\"#2a3f5f\"},\"hovermode\":\"closest\",\"hoverlabel\":{\"align\":\"left\"},\"paper_bgcolor\":\"white\",\"plot_bgcolor\":\"#E5ECF6\",\"polar\":{\"bgcolor\":\"#E5ECF6\",\"angularaxis\":{\"gridcolor\":\"white\",\"linecolor\":\"white\",\"ticks\":\"\"},\"radialaxis\":{\"gridcolor\":\"white\",\"linecolor\":\"white\",\"ticks\":\"\"}},\"ternary\":{\"bgcolor\":\"#E5ECF6\",\"aaxis\":{\"gridcolor\":\"white\",\"linecolor\":\"white\",\"ticks\":\"\"},\"baxis\":{\"gridcolor\":\"white\",\"linecolor\":\"white\",\"ticks\":\"\"},\"caxis\":{\"gridcolor\":\"white\",\"linecolor\":\"white\",\"ticks\":\"\"}},\"coloraxis\":{\"colorbar\":{\"outlinewidth\":0,\"ticks\":\"\"}},\"colorscale\":{\"sequential\":[[0.0,\"#0d0887\"],[0.1111111111111111,\"#46039f\"],[0.2222222222222222,\"#7201a8\"],[0.3333333333333333,\"#9c179e\"],[0.4444444444444444,\"#bd3786\"],[0.5555555555555556,\"#d8576b\"],[0.6666666666666666,\"#ed7953\"],[0.7777777777777778,\"#fb9f3a\"],[0.8888888888888888,\"#fdca26\"],[1.0,\"#f0f921\"]],\"sequentialminus\":[[0.0,\"#0d0887\"],[0.1111111111111111,\"#46039f\"],[0.2222222222222222,\"#7201a8\"],[0.3333333333333333,\"#9c179e\"],[0.4444444444444444,\"#bd3786\"],[0.5555555555555556,\"#d8576b\"],[0.6666666666666666,\"#ed7953\"],[0.7777777777777778,\"#fb9f3a\"],[0.8888888888888888,\"#fdca26\"],[1.0,\"#f0f921\"]],\"diverging\":[[0,\"#8e0152\"],[0.1,\"#c51b7d\"],[0.2,\"#de77ae\"],[0.3,\"#f1b6da\"],[0.4,\"#fde0ef\"],[0.5,\"#f7f7f7\"],[0.6,\"#e6f5d0\"],[0.7,\"#b8e186\"],[0.8,\"#7fbc41\"],[0.9,\"#4d9221\"],[1,\"#276419\"]]},\"xaxis\":{\"gridcolor\":\"white\",\"linecolor\":\"white\",\"ticks\":\"\",\"title\":{\"standoff\":15},\"zerolinecolor\":\"white\",\"automargin\":true,\"zerolinewidth\":2},\"yaxis\":{\"gridcolor\":\"white\",\"linecolor\":\"white\",\"ticks\":\"\",\"title\":{\"standoff\":15},\"zerolinecolor\":\"white\",\"automargin\":true,\"zerolinewidth\":2},\"scene\":{\"xaxis\":{\"backgroundcolor\":\"#E5ECF6\",\"gridcolor\":\"white\",\"linecolor\":\"white\",\"showbackground\":true,\"ticks\":\"\",\"zerolinecolor\":\"white\",\"gridwidth\":2},\"yaxis\":{\"backgroundcolor\":\"#E5ECF6\",\"gridcolor\":\"white\",\"linecolor\":\"white\",\"showbackground\":true,\"ticks\":\"\",\"zerolinecolor\":\"white\",\"gridwidth\":2},\"zaxis\":{\"backgroundcolor\":\"#E5ECF6\",\"gridcolor\":\"white\",\"linecolor\":\"white\",\"showbackground\":true,\"ticks\":\"\",\"zerolinecolor\":\"white\",\"gridwidth\":2}},\"shapedefaults\":{\"line\":{\"color\":\"#2a3f5f\"}},\"annotationdefaults\":{\"arrowcolor\":\"#2a3f5f\",\"arrowhead\":0,\"arrowwidth\":1},\"geo\":{\"bgcolor\":\"white\",\"landcolor\":\"#E5ECF6\",\"subunitcolor\":\"white\",\"showland\":true,\"showlakes\":true,\"lakecolor\":\"white\"},\"title\":{\"x\":0.05},\"mapbox\":{\"style\":\"light\"}}},\"yaxis\":{\"gridcolor\":\"#eee\",\"title\":{\"text\":\"proportion\"},\"rangemode\":\"tozero\"},\"xaxis\":{\"title\":{\"text\":\"author posts count\"},\"rangemode\":\"tozero\"},\"title\":{\"text\":\"<b>Author posts count</b> frequency plot, excluding [deleted]\"},\"plot_bgcolor\":\"#fff\",\"showlegend\":false,\"height\":400},                        {\"responsive\": true}                    ).then(function(){\n",
       "                            \n",
       "var gd = document.getElementById('58fa1d5a-6d40-4e2a-bc8a-bbcf4215b215');\n",
       "var x = new MutationObserver(function (mutations, observer) {{\n",
       "        var display = window.getComputedStyle(gd).display;\n",
       "        if (!display || display === 'none') {{\n",
       "            console.log([gd, 'removed!']);\n",
       "            Plotly.purge(gd);\n",
       "            observer.disconnect();\n",
       "        }}\n",
       "}});\n",
       "\n",
       "// Listen for the removal of the full notebook cells\n",
       "var notebookContainer = gd.closest('#notebook-container');\n",
       "if (notebookContainer) {{\n",
       "    x.observe(notebookContainer, {childList: true});\n",
       "}}\n",
       "\n",
       "// Listen for the clearing of the current output cell\n",
       "var outputEl = gd.closest('.output');\n",
       "if (outputEl) {{\n",
       "    x.observe(outputEl, {childList: true});\n",
       "}}\n",
       "\n",
       "                        })                };                });            </script>        </div>"
      ]
     },
     "metadata": {},
     "output_type": "display_data"
    }
   ],
   "source": [
    "author_posts_count_vc2 = author_posts_count_vc[\n",
    "    author_posts_count_vc['author_posts_count'] < 1000\n",
    "].copy()\n",
    "\n",
    "traces = []\n",
    "trace = go.Scatter(\n",
    "    x=author_posts_count_vc2['author_posts_count'],\n",
    "    y=author_posts_count_vc2['proportion'],\n",
    "    mode='markers'\n",
    ")\n",
    "traces.append(trace)\n",
    "fig = go.Figure(traces)\n",
    "\n",
    "    \n",
    "fig.update_yaxes(gridcolor='#eee', title='proportion', rangemode='tozero')\n",
    "fig.update_xaxes(title='author posts count', rangemode='tozero')\n",
    "fig.update_layout(\n",
    "    title=f'<b>Author posts count</b> frequency plot, excluding [deleted]',\n",
    "    plot_bgcolor='#fff',\n",
    "    showlegend=False,\n",
    "    height=400\n",
    ")\n",
    "\n",
    "fig"
   ]
  },
  {
   "cell_type": "code",
   "execution_count": 75,
   "id": "d26ac534-3254-4cae-b3b9-0d2fd6a9df83",
   "metadata": {},
   "outputs": [
    {
     "data": {
      "text/plain": [
       "author\n",
       "[deleted]           0.025830\n",
       "SensitiveBorder2    0.000423\n",
       "Help_Me_Reddit01    0.000328\n",
       "throwlega           0.000278\n",
       "dizson              0.000222\n",
       "Name: proportion, dtype: float64"
      ]
     },
     "execution_count": 75,
     "metadata": {},
     "output_type": "execute_result"
    }
   ],
   "source": [
    "df['author'].value_counts(dropna=False, normalize=True).head()"
   ]
  },
  {
   "cell_type": "code",
   "execution_count": 61,
   "id": "bedad9d8-090f-41b6-a7ca-2272e196f580",
   "metadata": {},
   "outputs": [
    {
     "data": {
      "text/plain": [
       "230031"
      ]
     },
     "execution_count": 61,
     "metadata": {},
     "output_type": "execute_result"
    }
   ],
   "source": [
    "len(author_vc[author_vc['count'] == 1])"
   ]
  },
  {
   "cell_type": "code",
   "execution_count": 62,
   "id": "2a2fed0e-46fa-444b-b1e9-2eeb5b83f248",
   "metadata": {},
   "outputs": [
    {
     "data": {
      "text/plain": [
       "0.6277676044614616"
      ]
     },
     "execution_count": 62,
     "metadata": {},
     "output_type": "execute_result"
    }
   ],
   "source": [
    "len(author_vc[author_vc['count'] == 1])/len(author_vc)"
   ]
  },
  {
   "cell_type": "code",
   "execution_count": 70,
   "id": "44b2622c-c71d-4c76-a010-5ef0f770bf28",
   "metadata": {},
   "outputs": [
    {
     "data": {
      "text/plain": [
       "0.22507620890381985"
      ]
     },
     "execution_count": 70,
     "metadata": {},
     "output_type": "execute_result"
    }
   ],
   "source": [
    "len(author_vc[author_vc['count'] == 2])/len(author_vc)"
   ]
  },
  {
   "cell_type": "code",
   "execution_count": 71,
   "id": "2d90bd2e-3eb5-4b07-b941-8cc9acd56c0f",
   "metadata": {},
   "outputs": [
    {
     "data": {
      "text/plain": [
       "0.13840956043086344"
      ]
     },
     "execution_count": 71,
     "metadata": {},
     "output_type": "execute_result"
    }
   ],
   "source": [
    "len(author_vc[\n",
    "    (author_vc['count'] > 2)\n",
    "    & (author_vc['count'] <= 10)\n",
    "    ])/len(author_vc)"
   ]
  },
  {
   "cell_type": "code",
   "execution_count": 72,
   "id": "56dab578-3ee2-4a19-968d-6e67212d26d4",
   "metadata": {},
   "outputs": [
    {
     "data": {
      "text/plain": [
       "0.008713877525400694"
      ]
     },
     "execution_count": 72,
     "metadata": {},
     "output_type": "execute_result"
    }
   ],
   "source": [
    "len(author_vc[\n",
    "    (author_vc['count'] > 10)\n",
    "    & (author_vc['count'] <= 100)\n",
    "    ])/len(author_vc)"
   ]
  },
  {
   "cell_type": "code",
   "execution_count": 82,
   "id": "3820d8e0-fb4c-49e7-8eee-67018d315933",
   "metadata": {},
   "outputs": [
    {
     "name": "stdout",
     "output_type": "stream",
     "text": [
      "0.00003\n"
     ]
    }
   ],
   "source": [
    "n = len(author_vc[\n",
    "    (author_vc['count'] > 100)\n",
    "    & (author_vc['count'] <= 500)\n",
    "    ])/len(author_vc)\n",
    "n\n",
    "print(f'{n:.5f}')"
   ]
  },
  {
   "cell_type": "markdown",
   "id": "6c441f88-d580-4d17-bb1c-e581ffed37ba",
   "metadata": {},
   "source": [
    "#### Key takeaways about the `author` field from the explorations above:  \n",
    "- 2.6% of posts with the author name deleted (`[deleted]`).\n",
    "  - For these posts, we do not know who the original author is. Many reddit users use throw-away accounts to post sensitive or embarrassing questions, so it is not unusual to see deleted author names.  \n",
    "- 63% of authors posted once\n",
    "- 23% of authors posted twice\n",
    "- 14% of authors posted 3-10 times\n",
    "- 0.9% of authors posted 11-100 times\n",
    "- 0.003% of authors posted over 100 times"
   ]
  },
  {
   "cell_type": "markdown",
   "id": "8c7135b6-ed61-4579-87c7-6fff8f3496a2",
   "metadata": {},
   "source": [
    "#### Analysis ideas for this field:  \n",
    "- categorizing authors by post frequency and anonymity (deleted-name posters, one-time posters, few-times posters, hyper posters) could be an interesting model feature  "
   ]
  },
  {
   "cell_type": "markdown",
   "id": "c012064d-0569-4b6d-a34e-b4d13e3a1ec1",
   "metadata": {},
   "source": [
    "### author_flair_text"
   ]
  },
  {
   "cell_type": "code",
   "execution_count": 7,
   "id": "c3f79df0-bec8-4345-bef8-fb268a03dfe8",
   "metadata": {},
   "outputs": [
    {
     "data": {
      "text/plain": [
       "author_flair_text\n",
       "This user has not yet been verified.                  320863\n",
       "NaN                                                   235653\n",
       "Layperson/not verified as healthcare professional      90950\n",
       "Layperson/not verified as healthcare professional.     34933\n",
       "Medical Student                                          120\n",
       "                                                       ...  \n",
       "Medical Pathology Scientist                                1\n",
       "Neuroscientist                                             1\n",
       "MD - Clinical Pharmacologist                               1\n",
       "Certified Counselor                                        1\n",
       "Certified Athletic Trainer                                 1\n",
       "Name: count, Length: 125, dtype: int64"
      ]
     },
     "execution_count": 7,
     "metadata": {},
     "output_type": "execute_result"
    }
   ],
   "source": [
    "df['author_flair_text'].value_counts(dropna=False)"
   ]
  },
  {
   "cell_type": "code",
   "execution_count": 86,
   "id": "c3de4945-35c8-4d97-bc09-0115d2bdce65",
   "metadata": {},
   "outputs": [
    {
     "data": {
      "text/plain": [
       "author_flair_text\n",
       "This user has not yet been verified.                  0.469646\n",
       "NaN                                                   0.344924\n",
       "Layperson/not verified as healthcare professional     0.133123\n",
       "Layperson/not verified as healthcare professional.    0.051131\n",
       "Medical Student                                       0.000176\n",
       "Registered Nurse                                      0.000176\n",
       "🤖                                                     0.000081\n",
       "Physician                                             0.000059\n",
       "EMT                                                   0.000044\n",
       "Nursing Student                                       0.000042\n",
       "EMT-B                                                 0.000040\n",
       "Medical Assistant                                     0.000034\n",
       "Founder                                               0.000025\n",
       "Social Worker/LCSW                                    0.000023\n",
       "Paramedic                                             0.000019\n",
       "Pharmacist                                            0.000019\n",
       "Nurse Aide                                            0.000016\n",
       "Medical student                                       0.000016\n",
       "Speech-Language Pathologist                           0.000013\n",
       " Registered Nurse                                     0.000013\n",
       "Name: proportion, dtype: float64"
      ]
     },
     "execution_count": 86,
     "metadata": {},
     "output_type": "execute_result"
    }
   ],
   "source": [
    "df['author_flair_text'].value_counts(dropna=False, normalize=True).head(20)"
   ]
  },
  {
   "cell_type": "code",
   "execution_count": 85,
   "id": "85651f56-583c-4c8e-9a2c-327d55824ad6",
   "metadata": {},
   "outputs": [
    {
     "data": {
      "text/plain": [
       "array([nan, 'This user has not yet been verified.', 'Psychologist',\n",
       "       'Medical Student', 'Nursing Student', 'Nursing Graduate, RPN',\n",
       "       'Registered Nurse', 'Biomedical Student',\n",
       "       'B.S., Medical Lab Sciences', 'EMT', 'Physician', 'Moderator',\n",
       "       'Pharmacist', 'Pharm.D. Student', 'Physician Assistant',\n",
       "       'Internal Medicine Resident', 'Paramedic student',\n",
       "       'Epidemiologist', 'Student Radiographer', 'Surgeon | Moderator',\n",
       "       'EMT-B', 'Founder', 'PhD Biobehavioral Health',\n",
       "       'Sports Massage Therapist', 'Midwife',\n",
       "       'MD - Clinical Pharmacologist', 'BSN-RN', 'Speech Pathologist',\n",
       "       'Test Flair - Physician', 'Resident Physician, Med/Peds',\n",
       "       'Speech Language Pathologist', '🤖',\n",
       "       'Physician, IM/Peds | Moderator', 'Paramedic', 'RN',\n",
       "       'Medical student', 'Bachelor of Biomedicine',\n",
       "       'Medical Technologist - Microbiology', 'Physical Therapist ',\n",
       "       'Pharmacy Student', 'Speech-Language Pathologist',\n",
       "       'EMT, BSN Student', 'PhD, Pharmacology Researcher',\n",
       "       'Medical Assistant', 'Physician | Moderator', 'BSN Student',\n",
       "       'Radiologic Technologist', 'slp', 'Psychiatric Nurse Practitioner',\n",
       "       'Nurse', 'EM/IM Physician | Moderator', 'Physician - Cardiology',\n",
       "       'Path Asst/Med Lab Tech', ' Registered nurse',\n",
       "       'Physical Therapist', 'Social Worker/LCSW', 'Nursing student',\n",
       "       'Clinical Counselor', 'Licensed Vocational Nurse',\n",
       "       ' Registered Nurse', 'PharmD / Med Student',\n",
       "       'Physician, Emergency Medicine | Moderator',\n",
       "       'Behavioral Technician', 'Certified Nurse Midwife',\n",
       "       'Respiratory Therapist', 'Physical Therapist (DPT)', 'Automod',\n",
       "       'Therapist', 'LPN', 'Nurse Aide',\n",
       "       'Physician | Moderator | Top Contributor', 'Registered Midwife',\n",
       "       'Prosthetist', 'SLP', 'Dentist', 'Pharmacy Technician',\n",
       "       'Licensed Professional Counselor', 'Otolaryngologist (ENT)',\n",
       "       'Clinical Psychologist', 'Dialysis Technician',\n",
       "       'Neonatal Nurse Practitioner', 'Ophthalmic Assistant',\n",
       "       'Emergency Medical Technician', 'Mental Health Professional',\n",
       "       'PharmD', 'Medical Laboratory Scientist',\n",
       "       'Physician - Psychiatrist', 'Diagnostic Medical Sonographer',\n",
       "       'Layperson/not verified as healthcare professional.',\n",
       "       'Physician/Neurosurgeon',\n",
       "       'Layperson/not verified as healthcare professional',\n",
       "       'Nurse Practitioner', 'Occupational Therapist',\n",
       "       'Medical Pathology Scientist', 'Neuroscientist',\n",
       "       'Physician - Diagnostic Radiology', 'Counselor',\n",
       "       'Certified Counselor', 'Licensed Clinical Social Worker',\n",
       "       'Licensed Vocational Nurse (retired)',\n",
       "       'Physician - Internal Medicine', 'A-EMT',\n",
       "       'Medical Sonographer (Ultrasound)', 'Physician - General Surgery',\n",
       "       'Physician - Neurology', 'Counsellor', 'Physician - Pediatrics',\n",
       "       'Pharmacy Tech/Medical Assistant',\n",
       "       'Licensed Alcohol and Drug Counselor', 'Laboratory Technician',\n",
       "       'MSW, Clinical Social Worker', 'Medical Technologist',\n",
       "       'Medical Laboratory Technician',\n",
       "       'Registered Nurse - Moderator - Top Contributor ',\n",
       "       'CT Scan Technologist', 'Emergency Department Technician',\n",
       "       'Registered Dietitian', 'Mental Health Technician', 'Sonographer',\n",
       "       'Behavioral Health Counselor', 'Clinical Research Nurse',\n",
       "       'Radiographer', 'Registered Medical Assistant',\n",
       "       'Physician - Radiology', 'Certified Athletic Trainer'],\n",
       "      dtype=object)"
      ]
     },
     "execution_count": 85,
     "metadata": {},
     "output_type": "execute_result"
    }
   ],
   "source": [
    "df['author_flair_text'].unique()"
   ]
  },
  {
   "cell_type": "code",
   "execution_count": null,
   "id": "7991c75f-cae7-4d87-b861-fa702924508b",
   "metadata": {},
   "outputs": [],
   "source": []
  },
  {
   "cell_type": "code",
   "execution_count": null,
   "id": "5e0d1c86-5c8d-4e9a-ab48-e11ee2a0c750",
   "metadata": {},
   "outputs": [],
   "source": []
  },
  {
   "cell_type": "code",
   "execution_count": null,
   "id": "f89f2b0b-16ed-42da-a5d1-54d48edc8f2a",
   "metadata": {},
   "outputs": [],
   "source": []
  },
  {
   "cell_type": "code",
   "execution_count": null,
   "id": "0a312e3b-fa9d-4d14-bec8-81c70ef78aa2",
   "metadata": {},
   "outputs": [],
   "source": []
  },
  {
   "cell_type": "code",
   "execution_count": null,
   "id": "c5443f61-fcbe-474f-ae88-7bdbdff58ac5",
   "metadata": {},
   "outputs": [],
   "source": []
  },
  {
   "cell_type": "code",
   "execution_count": 8,
   "id": "df8ded1d-5355-407e-9576-e6487abeb5bb",
   "metadata": {},
   "outputs": [
    {
     "data": {
      "text/plain": [
       "score\n",
       "1      615398\n",
       "2       30354\n",
       "0       15122\n",
       "3       10281\n",
       "4        2904\n",
       "        ...  \n",
       "471         1\n",
       "309         1\n",
       "302         1\n",
       "329         1\n",
       "190         1\n",
       "Name: count, Length: 340, dtype: int64"
      ]
     },
     "execution_count": 8,
     "metadata": {},
     "output_type": "execute_result"
    }
   ],
   "source": [
    "df['score'].value_counts(dropna=False)"
   ]
  },
  {
   "cell_type": "code",
   "execution_count": 9,
   "id": "3e782bda-63ab-4582-9128-f1ff04fd1aea",
   "metadata": {},
   "outputs": [
    {
     "data": {
      "text/plain": [
       "crosspost_subreddits\n",
       "NaN             683019\n",
       "medical             24\n",
       "Advice               9\n",
       "DiagnoseMe           8\n",
       "Dermatology          6\n",
       "                 ...  \n",
       "loseit               1\n",
       "eczema               1\n",
       "dpdr                 1\n",
       "alcoholic            1\n",
       "vaxxhappened         1\n",
       "Name: count, Length: 103, dtype: int64"
      ]
     },
     "execution_count": 9,
     "metadata": {},
     "output_type": "execute_result"
    }
   ],
   "source": [
    "df['crosspost_subreddits'].value_counts(dropna=False)"
   ]
  },
  {
   "cell_type": "code",
   "execution_count": 10,
   "id": "fbd3f565-3308-433e-8d4b-dd4856f736e3",
   "metadata": {},
   "outputs": [
    {
     "data": {
      "text/plain": [
       "num_comments\n",
       "2      286019\n",
       "1      116447\n",
       "3       72116\n",
       "4       53723\n",
       "0       36387\n",
       "        ...  \n",
       "223         1\n",
       "317         1\n",
       "404         1\n",
       "436         1\n",
       "279         1\n",
       "Name: count, Length: 284, dtype: int64"
      ]
     },
     "execution_count": 10,
     "metadata": {},
     "output_type": "execute_result"
    }
   ],
   "source": [
    "df['num_comments'].value_counts(dropna=False)"
   ]
  },
  {
   "cell_type": "code",
   "execution_count": 11,
   "id": "de667dbd-5701-4281-a297-9e317f7fd11d",
   "metadata": {},
   "outputs": [
    {
     "data": {
      "text/plain": [
       "locked\n",
       "False    683078\n",
       "True        124\n",
       "Name: count, dtype: int64"
      ]
     },
     "execution_count": 11,
     "metadata": {},
     "output_type": "execute_result"
    }
   ],
   "source": [
    "df['locked'].value_counts(dropna=False)"
   ]
  },
  {
   "cell_type": "code",
   "execution_count": 12,
   "id": "aa7c0f50-c04d-4c69-b61a-e9281d1f163b",
   "metadata": {},
   "outputs": [
    {
     "data": {
      "text/plain": [
       "over_18\n",
       "False    641542\n",
       "True      41660\n",
       "Name: count, dtype: int64"
      ]
     },
     "execution_count": 12,
     "metadata": {},
     "output_type": "execute_result"
    }
   ],
   "source": [
    "df['over_18'].value_counts(dropna=False)"
   ]
  },
  {
   "cell_type": "code",
   "execution_count": 15,
   "id": "97f1d551-9455-4f81-bdb1-c04ea106a7d8",
   "metadata": {},
   "outputs": [
    {
     "data": {
      "text/plain": [
       "age\n",
       "NaN     266702\n",
       "20.0     28094\n",
       "21.0     27885\n",
       "22.0     27603\n",
       "23.0     25820\n",
       "         ...  \n",
       "91.0        26\n",
       "94.0        26\n",
       "93.0        25\n",
       "96.0        25\n",
       "98.0        20\n",
       "Name: count, Length: 100, dtype: int64"
      ]
     },
     "execution_count": 15,
     "metadata": {},
     "output_type": "execute_result"
    }
   ],
   "source": [
    "df['age'].value_counts(dropna=False)"
   ]
  },
  {
   "cell_type": "code",
   "execution_count": 18,
   "id": "56292940-22d0-41f7-a902-b0bf13d888c1",
   "metadata": {},
   "outputs": [
    {
     "data": {
      "text/plain": [
       "age\n",
       "(0.901, 5.9]    0.005362\n",
       "(5.9, 10.8]     0.003397\n",
       "(10.8, 15.7]    0.028510\n",
       "(15.7, 20.6]    0.157570\n",
       "(20.6, 25.5]    0.189942\n",
       "(25.5, 30.4]    0.118602\n",
       "(30.4, 35.3]    0.054174\n",
       "(35.3, 40.2]    0.022367\n",
       "(40.2, 45.1]    0.008198\n",
       "(45.1, 50.0]    0.005640\n",
       "(50.0, 54.9]    0.002957\n",
       "(54.9, 59.8]    0.003729\n",
       "(59.8, 64.7]    0.003102\n",
       "(64.7, 69.6]    0.002084\n",
       "(69.6, 74.5]    0.001417\n",
       "(74.5, 79.4]    0.000868\n",
       "(79.4, 84.3]    0.000682\n",
       "(84.3, 89.2]    0.000441\n",
       "(89.2, 94.1]    0.000291\n",
       "(94.1, 99.0]    0.000297\n",
       "Name: proportion, dtype: float64"
      ]
     },
     "execution_count": 18,
     "metadata": {},
     "output_type": "execute_result"
    }
   ],
   "source": [
    "df['age'].value_counts(normalize=True, bins=20).sort_index()"
   ]
  },
  {
   "cell_type": "code",
   "execution_count": 20,
   "id": "394f85b7-e069-4cef-a004-aee4cb29bd7f",
   "metadata": {},
   "outputs": [
    {
     "data": {
      "text/plain": [
       "sex\n",
       "NaN     0.537336\n",
       "AMAB    0.252474\n",
       "AFAB    0.210190\n",
       "Name: proportion, dtype: float64"
      ]
     },
     "execution_count": 20,
     "metadata": {},
     "output_type": "execute_result"
    }
   ],
   "source": [
    "df['sex'].value_counts(dropna=False, normalize=True)"
   ]
  },
  {
   "cell_type": "code",
   "execution_count": 21,
   "id": "2fcd95db-1ea7-4feb-9e7e-17744f2581c4",
   "metadata": {},
   "outputs": [
    {
     "data": {
      "text/plain": [
       "sex   age         \n",
       "AFAB  (0.901, 5.9]    0.007556\n",
       "      (5.9, 10.8]     0.004304\n",
       "      (10.8, 15.7]    0.026518\n",
       "      (15.7, 20.6]    0.207978\n",
       "      (20.6, 25.5]    0.312746\n",
       "      (25.5, 30.4]    0.195652\n",
       "      (30.4, 35.3]    0.087986\n",
       "      (35.3, 40.2]    0.036949\n",
       "      (40.2, 45.1]    0.014227\n",
       "      (45.1, 50.0]    0.011079\n",
       "      (50.0, 54.9]    0.005850\n",
       "      (54.9, 59.8]    0.006824\n",
       "      (59.8, 64.7]    0.005230\n",
       "      (64.7, 69.6]    0.003774\n",
       "      (69.6, 74.5]    0.002430\n",
       "      (74.5, 79.4]    0.001490\n",
       "      (79.4, 84.3]    0.001260\n",
       "      (84.3, 89.2]    0.000850\n",
       "      (89.2, 94.1]    0.000620\n",
       "      (94.1, 99.0]    0.000884\n",
       "AMAB  (0.901, 5.9]    0.006667\n",
       "      (5.9, 10.8]     0.004139\n",
       "      (10.8, 15.7]    0.052403\n",
       "      (15.7, 20.6]    0.265017\n",
       "      (20.6, 25.5]    0.282507\n",
       "      (25.5, 30.4]    0.169244\n",
       "      (30.4, 35.3]    0.078369\n",
       "      (35.3, 40.2]    0.032094\n",
       "      (40.2, 45.1]    0.011989\n",
       "      (45.1, 50.0]    0.006818\n",
       "      (50.0, 54.9]    0.003542\n",
       "      (54.9, 59.8]    0.005055\n",
       "      (59.8, 64.7]    0.004145\n",
       "      (64.7, 69.6]    0.002783\n",
       "      (69.6, 74.5]    0.001757\n",
       "      (74.5, 79.4]    0.001165\n",
       "      (79.4, 84.3]    0.000928\n",
       "      (84.3, 89.2]    0.000626\n",
       "      (89.2, 94.1]    0.000284\n",
       "      (94.1, 99.0]    0.000128\n",
       "Name: proportion, dtype: float64"
      ]
     },
     "execution_count": 21,
     "metadata": {},
     "output_type": "execute_result"
    }
   ],
   "source": [
    "df.groupby('sex')['age'].value_counts(normalize=True, bins=20).sort_index()"
   ]
  },
  {
   "cell_type": "code",
   "execution_count": null,
   "id": "890c00c9-f77f-4673-862c-7a62d5e4b7ab",
   "metadata": {},
   "outputs": [],
   "source": []
  }
 ],
 "metadata": {
  "kernelspec": {
   "display_name": "Python 3 (ipykernel)",
   "language": "python",
   "name": "python3"
  },
  "language_info": {
   "codemirror_mode": {
    "name": "ipython",
    "version": 3
   },
   "file_extension": ".py",
   "mimetype": "text/x-python",
   "name": "python",
   "nbconvert_exporter": "python",
   "pygments_lexer": "ipython3",
   "version": "3.11.4"
  }
 },
 "nbformat": 4,
 "nbformat_minor": 5
}
