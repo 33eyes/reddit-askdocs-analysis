{
 "cells": [
  {
   "cell_type": "markdown",
   "id": "c258c248-0690-4426-bbe6-0b3a3ad57967",
   "metadata": {},
   "source": [
    "# Exploratory Data Analysis  \n",
    "  \n",
    "\n",
    "#### Notebook objectives:  \n",
    "- Explore the prepped data\n",
    "- Brainstorm analysis questions   \n",
    "\n",
    "#### Steps:  \n",
    "1. [Load the data](#Load-the-data)  \n",
    "2. [Explore data fields](#Explore-data-fields)  \n",
    "   - [author](#author)  \n",
    "   - [author_flair_text](#author_flair_text)  \n",
    "   - <s>[domain](#domain)</s>  \n",
    "   - <s>[locked](#locked)</s>  \n",
    "   - [num_comments](#num_comments)  \n",
    "   - <s>[num_crossposts](#num_crossposts)</s>  \n",
    "   - <s>[over_18](#over_18)</s>  \n",
    "   - <s>[score](#score)</s>\n",
    "   - [seftext](#seftext)  \n",
    "   "
   ]
  },
  {
   "cell_type": "code",
   "execution_count": 105,
   "id": "0a48e94b-3a9c-4914-897e-aab3d53d9b60",
   "metadata": {},
   "outputs": [
    {
     "data": {
      "text/html": [
       "<h3>Notebook setup</h3>"
      ],
      "text/plain": [
       "<IPython.core.display.HTML object>"
      ]
     },
     "metadata": {},
     "output_type": "display_data"
    },
    {
     "data": {
      "text/html": [
       "<h4>Variables:</h4>"
      ],
      "text/plain": [
       "<IPython.core.display.HTML object>"
      ]
     },
     "metadata": {},
     "output_type": "display_data"
    },
    {
     "name": "stdout",
     "output_type": "stream",
     "text": [
      "DATA_PATH='data/'\n",
      "OUTPUT_PATH='output/'\n"
     ]
    },
    {
     "data": {
      "text/html": [
       "<h4>Functions:</h4>"
      ],
      "text/plain": [
       "<IPython.core.display.HTML object>"
      ]
     },
     "metadata": {},
     "output_type": "display_data"
    },
    {
     "name": "stdout",
     "output_type": "stream",
     "text": [
      "num_freq_plot(df, field, color='')\n"
     ]
    }
   ],
   "source": [
    "%run notebook_setup.ipynb"
   ]
  },
  {
   "cell_type": "markdown",
   "id": "e828d9f8-5d31-4012-acdb-c58ba3fab2c3",
   "metadata": {},
   "source": [
    "## Load the data"
   ]
  },
  {
   "cell_type": "code",
   "execution_count": 2,
   "id": "d7386242-5860-47cb-8ddc-bd41cc3686a7",
   "metadata": {},
   "outputs": [],
   "source": [
    "df = pd.read_csv(\n",
    "    DATA_PATH + 'reddit_askdocs_submissions_2017_to_20220121_analysis_ds.zip',\n",
    "    low_memory=False\n",
    ")"
   ]
  },
  {
   "cell_type": "markdown",
   "id": "0b692a88-1e92-439a-a47e-eee47636c212",
   "metadata": {},
   "source": [
    "## Explore data fields  "
   ]
  },
  {
   "cell_type": "code",
   "execution_count": 3,
   "id": "00624cf8-051e-4c43-ad89-0b7e39ad492f",
   "metadata": {},
   "outputs": [
    {
     "data": {
      "text/html": [
       "<div>\n",
       "<style scoped>\n",
       "    .dataframe tbody tr th:only-of-type {\n",
       "        vertical-align: middle;\n",
       "    }\n",
       "\n",
       "    .dataframe tbody tr th {\n",
       "        vertical-align: top;\n",
       "    }\n",
       "\n",
       "    .dataframe thead th {\n",
       "        text-align: right;\n",
       "    }\n",
       "</style>\n",
       "<table border=\"1\" class=\"dataframe\">\n",
       "  <thead>\n",
       "    <tr style=\"text-align: right;\">\n",
       "      <th></th>\n",
       "      <th>author</th>\n",
       "      <th>author_flair_text</th>\n",
       "      <th>domain</th>\n",
       "      <th>full_link</th>\n",
       "      <th>id</th>\n",
       "      <th>locked</th>\n",
       "      <th>num_comments</th>\n",
       "      <th>num_crossposts</th>\n",
       "      <th>over_18</th>\n",
       "      <th>score</th>\n",
       "      <th>selftext</th>\n",
       "      <th>title</th>\n",
       "      <th>url</th>\n",
       "      <th>crosspost_subreddits</th>\n",
       "      <th>full_post_text</th>\n",
       "      <th>created_utc_ns_dt</th>\n",
       "      <th>edited_utc_ns_dt</th>\n",
       "      <th>age</th>\n",
       "      <th>sex</th>\n",
       "    </tr>\n",
       "  </thead>\n",
       "  <tbody>\n",
       "    <tr>\n",
       "      <th>0</th>\n",
       "      <td>[deleted]</td>\n",
       "      <td>NaN</td>\n",
       "      <td>self.AskDocs</td>\n",
       "      <td>https://www.reddit.com/r/AskDocs/comments/7nbw...</td>\n",
       "      <td>7nbwtn</td>\n",
       "      <td>False</td>\n",
       "      <td>0</td>\n",
       "      <td>0.0</td>\n",
       "      <td>False</td>\n",
       "      <td>2</td>\n",
       "      <td>NaN</td>\n",
       "      <td>Appendicitis removed 1 month ago but feel a pa...</td>\n",
       "      <td>https://www.reddit.com/r/AskDocs/comments/7nbw...</td>\n",
       "      <td>NaN</td>\n",
       "      <td>Appendicitis removed 1 month ago but feel a pa...</td>\n",
       "      <td>1514764452000000000</td>\n",
       "      <td>NaN</td>\n",
       "      <td>NaN</td>\n",
       "      <td>NaN</td>\n",
       "    </tr>\n",
       "    <tr>\n",
       "      <th>1</th>\n",
       "      <td>[deleted]</td>\n",
       "      <td>NaN</td>\n",
       "      <td>self.AskDocs</td>\n",
       "      <td>https://www.reddit.com/r/AskDocs/comments/7nbv...</td>\n",
       "      <td>7nbvln</td>\n",
       "      <td>False</td>\n",
       "      <td>1</td>\n",
       "      <td>0.0</td>\n",
       "      <td>False</td>\n",
       "      <td>1</td>\n",
       "      <td>NaN</td>\n",
       "      <td>My grandma has neck/back pain and little to no...</td>\n",
       "      <td>https://www.reddit.com/r/AskDocs/comments/7nbv...</td>\n",
       "      <td>NaN</td>\n",
       "      <td>My grandma has neck/back pain and little to no...</td>\n",
       "      <td>1514764055000000000</td>\n",
       "      <td>NaN</td>\n",
       "      <td>NaN</td>\n",
       "      <td>AFAB</td>\n",
       "    </tr>\n",
       "    <tr>\n",
       "      <th>2</th>\n",
       "      <td>DavisTheMagicSheep</td>\n",
       "      <td>This user has not yet been verified.</td>\n",
       "      <td>self.AskDocs</td>\n",
       "      <td>https://www.reddit.com/r/AskDocs/comments/7nbu...</td>\n",
       "      <td>7nburb</td>\n",
       "      <td>False</td>\n",
       "      <td>2</td>\n",
       "      <td>0.0</td>\n",
       "      <td>False</td>\n",
       "      <td>1</td>\n",
       "      <td>I've had a cold for the last couple days now, ...</td>\n",
       "      <td>My ears feel like there is pressure inside of ...</td>\n",
       "      <td>https://www.reddit.com/r/AskDocs/comments/7nbu...</td>\n",
       "      <td>NaN</td>\n",
       "      <td>My ears feel like there is pressure inside of ...</td>\n",
       "      <td>1514763799000000000</td>\n",
       "      <td>NaN</td>\n",
       "      <td>NaN</td>\n",
       "      <td>NaN</td>\n",
       "    </tr>\n",
       "    <tr>\n",
       "      <th>3</th>\n",
       "      <td>Dontgetscooped</td>\n",
       "      <td>This user has not yet been verified.</td>\n",
       "      <td>self.AskDocs</td>\n",
       "      <td>https://www.reddit.com/r/AskDocs/comments/7nbs...</td>\n",
       "      <td>7nbsw2</td>\n",
       "      <td>False</td>\n",
       "      <td>1</td>\n",
       "      <td>0.0</td>\n",
       "      <td>False</td>\n",
       "      <td>1</td>\n",
       "      <td>(first about me : 32 white male 5 foot 5 225lb...</td>\n",
       "      <td>IBS maybe?</td>\n",
       "      <td>https://www.reddit.com/r/AskDocs/comments/7nbs...</td>\n",
       "      <td>NaN</td>\n",
       "      <td>IBS maybe? | (first about me : 32 white male 5...</td>\n",
       "      <td>1514763188000000000</td>\n",
       "      <td>NaN</td>\n",
       "      <td>NaN</td>\n",
       "      <td>AMAB</td>\n",
       "    </tr>\n",
       "    <tr>\n",
       "      <th>4</th>\n",
       "      <td>AveryFenix</td>\n",
       "      <td>This user has not yet been verified.</td>\n",
       "      <td>self.AskDocs</td>\n",
       "      <td>https://www.reddit.com/r/AskDocs/comments/7nbo...</td>\n",
       "      <td>7nbolv</td>\n",
       "      <td>False</td>\n",
       "      <td>7</td>\n",
       "      <td>0.0</td>\n",
       "      <td>False</td>\n",
       "      <td>7</td>\n",
       "      <td>I've had these marks on my stomach ever since ...</td>\n",
       "      <td>Mole or scar? Should I be worried about melanoma?</td>\n",
       "      <td>https://www.reddit.com/r/AskDocs/comments/7nbo...</td>\n",
       "      <td>NaN</td>\n",
       "      <td>Mole or scar? Should I be worried about melano...</td>\n",
       "      <td>1514761839000000000</td>\n",
       "      <td>NaN</td>\n",
       "      <td>21.0</td>\n",
       "      <td>NaN</td>\n",
       "    </tr>\n",
       "  </tbody>\n",
       "</table>\n",
       "</div>"
      ],
      "text/plain": [
       "               author                     author_flair_text        domain   \n",
       "0           [deleted]                                   NaN  self.AskDocs  \\\n",
       "1           [deleted]                                   NaN  self.AskDocs   \n",
       "2  DavisTheMagicSheep  This user has not yet been verified.  self.AskDocs   \n",
       "3      Dontgetscooped  This user has not yet been verified.  self.AskDocs   \n",
       "4          AveryFenix  This user has not yet been verified.  self.AskDocs   \n",
       "\n",
       "                                           full_link      id  locked   \n",
       "0  https://www.reddit.com/r/AskDocs/comments/7nbw...  7nbwtn   False  \\\n",
       "1  https://www.reddit.com/r/AskDocs/comments/7nbv...  7nbvln   False   \n",
       "2  https://www.reddit.com/r/AskDocs/comments/7nbu...  7nburb   False   \n",
       "3  https://www.reddit.com/r/AskDocs/comments/7nbs...  7nbsw2   False   \n",
       "4  https://www.reddit.com/r/AskDocs/comments/7nbo...  7nbolv   False   \n",
       "\n",
       "   num_comments  num_crossposts  over_18  score   \n",
       "0             0             0.0    False      2  \\\n",
       "1             1             0.0    False      1   \n",
       "2             2             0.0    False      1   \n",
       "3             1             0.0    False      1   \n",
       "4             7             0.0    False      7   \n",
       "\n",
       "                                            selftext   \n",
       "0                                                NaN  \\\n",
       "1                                                NaN   \n",
       "2  I've had a cold for the last couple days now, ...   \n",
       "3  (first about me : 32 white male 5 foot 5 225lb...   \n",
       "4  I've had these marks on my stomach ever since ...   \n",
       "\n",
       "                                               title   \n",
       "0  Appendicitis removed 1 month ago but feel a pa...  \\\n",
       "1  My grandma has neck/back pain and little to no...   \n",
       "2  My ears feel like there is pressure inside of ...   \n",
       "3                                         IBS maybe?   \n",
       "4  Mole or scar? Should I be worried about melanoma?   \n",
       "\n",
       "                                                 url crosspost_subreddits   \n",
       "0  https://www.reddit.com/r/AskDocs/comments/7nbw...                  NaN  \\\n",
       "1  https://www.reddit.com/r/AskDocs/comments/7nbv...                  NaN   \n",
       "2  https://www.reddit.com/r/AskDocs/comments/7nbu...                  NaN   \n",
       "3  https://www.reddit.com/r/AskDocs/comments/7nbs...                  NaN   \n",
       "4  https://www.reddit.com/r/AskDocs/comments/7nbo...                  NaN   \n",
       "\n",
       "                                      full_post_text    created_utc_ns_dt   \n",
       "0  Appendicitis removed 1 month ago but feel a pa...  1514764452000000000  \\\n",
       "1  My grandma has neck/back pain and little to no...  1514764055000000000   \n",
       "2  My ears feel like there is pressure inside of ...  1514763799000000000   \n",
       "3  IBS maybe? | (first about me : 32 white male 5...  1514763188000000000   \n",
       "4  Mole or scar? Should I be worried about melano...  1514761839000000000   \n",
       "\n",
       "   edited_utc_ns_dt   age   sex  \n",
       "0               NaN   NaN   NaN  \n",
       "1               NaN   NaN  AFAB  \n",
       "2               NaN   NaN   NaN  \n",
       "3               NaN   NaN  AMAB  \n",
       "4               NaN  21.0   NaN  "
      ]
     },
     "execution_count": 3,
     "metadata": {},
     "output_type": "execute_result"
    }
   ],
   "source": [
    "df.head()"
   ]
  },
  {
   "cell_type": "code",
   "execution_count": 4,
   "id": "ce370f89-a264-42c6-ba80-3735abf9fd81",
   "metadata": {},
   "outputs": [
    {
     "data": {
      "text/plain": [
       "Index(['author', 'author_flair_text', 'domain', 'full_link', 'id', 'locked',\n",
       "       'num_comments', 'num_crossposts', 'over_18', 'score', 'selftext',\n",
       "       'title', 'url', 'crosspost_subreddits', 'full_post_text',\n",
       "       'created_utc_ns_dt', 'edited_utc_ns_dt', 'age', 'sex'],\n",
       "      dtype='object')"
      ]
     },
     "execution_count": 4,
     "metadata": {},
     "output_type": "execute_result"
    }
   ],
   "source": [
    "df.columns"
   ]
  },
  {
   "cell_type": "code",
   "execution_count": 22,
   "id": "fd610fc9-3926-48a1-8032-3258e8e16ddd",
   "metadata": {},
   "outputs": [
    {
     "data": {
      "text/plain": [
       "19"
      ]
     },
     "execution_count": 22,
     "metadata": {},
     "output_type": "execute_result"
    }
   ],
   "source": [
    "len(df.columns)"
   ]
  },
  {
   "cell_type": "markdown",
   "id": "10558566-a51a-4a4d-9074-e3f9b15c20e1",
   "metadata": {},
   "source": [
    "### author"
   ]
  },
  {
   "cell_type": "code",
   "execution_count": 5,
   "id": "5d7eaf96-e8b7-41c2-be70-339c7f9e4d3c",
   "metadata": {},
   "outputs": [
    {
     "data": {
      "text/plain": [
       "author\n",
       "[deleted]           17647\n",
       "SensitiveBorder2      289\n",
       "Help_Me_Reddit01      224\n",
       "throwlega             190\n",
       "dizson                152\n",
       "                    ...  \n",
       "sammydog567             1\n",
       "cynyk_                  1\n",
       "hippotus                1\n",
       "sarcasm_itsagift        1\n",
       "nominsinjun             1\n",
       "Name: count, Length: 366427, dtype: int64"
      ]
     },
     "execution_count": 5,
     "metadata": {},
     "output_type": "execute_result"
    }
   ],
   "source": [
    "df['author'].value_counts(dropna=False)"
   ]
  },
  {
   "cell_type": "code",
   "execution_count": 27,
   "id": "4de545de-1c82-45e5-a340-f762cd464bd2",
   "metadata": {},
   "outputs": [
    {
     "data": {
      "text/plain": [
       "author\n",
       "False    683202\n",
       "Name: count, dtype: int64"
      ]
     },
     "execution_count": 27,
     "metadata": {},
     "output_type": "execute_result"
    }
   ],
   "source": [
    "df['author'].isna().value_counts(dropna=False)"
   ]
  },
  {
   "cell_type": "code",
   "execution_count": 26,
   "id": "db7773dd-7001-4cf7-925d-ecc6b2a83b67",
   "metadata": {},
   "outputs": [
    {
     "data": {
      "text/plain": [
       "author\n",
       "[deleted]           0.025830\n",
       "SensitiveBorder2    0.000423\n",
       "Help_Me_Reddit01    0.000328\n",
       "throwlega           0.000278\n",
       "dizson              0.000222\n",
       "                      ...   \n",
       "sammydog567         0.000001\n",
       "cynyk_              0.000001\n",
       "hippotus            0.000001\n",
       "sarcasm_itsagift    0.000001\n",
       "nominsinjun         0.000001\n",
       "Name: proportion, Length: 366427, dtype: float64"
      ]
     },
     "execution_count": 26,
     "metadata": {},
     "output_type": "execute_result"
    }
   ],
   "source": [
    "df['author'].value_counts(dropna=False, normalize=True)"
   ]
  },
  {
   "cell_type": "code",
   "execution_count": 28,
   "id": "6a6296d9-fcbe-456e-84c3-b52c0ca93f49",
   "metadata": {},
   "outputs": [
    {
     "data": {
      "text/plain": [
       "full_post_text\n",
       "Scratched a bug bite on my scalp too hard and now there's a     7\n",
       "Please help |                                                   4\n",
       "Back pain |                                                     4\n",
       "Trouble breathing. |                                            4\n",
       "What is this? |                                                 4\n",
       "                                                               ..\n",
       "Blood tests for both kinds of Herpes |                          1\n",
       "Numbness in right ear, related to a nerve or muscle in neck     1\n",
       "No one can figure out what's wrong with me. 25 and a myriad     1\n",
       "Should I worry about sugar consumption right before a physic    1\n",
       "Does my calf pain warrant an ER visit? |                        1\n",
       "Name: count, Length: 17411, dtype: int64"
      ]
     },
     "execution_count": 28,
     "metadata": {},
     "output_type": "execute_result"
    }
   ],
   "source": [
    "df[df['author'] == '[deleted]']['full_post_text'].str[:60].value_counts(dropna=False)"
   ]
  },
  {
   "cell_type": "code",
   "execution_count": 29,
   "id": "6058c344-0327-4a35-bbda-6596add8fe1e",
   "metadata": {},
   "outputs": [
    {
     "data": {
      "text/plain": [
       "Series([], Name: count, dtype: int64)"
      ]
     },
     "execution_count": 29,
     "metadata": {},
     "output_type": "execute_result"
    }
   ],
   "source": [
    "df[df['author'] == '[removed]']['full_post_text'].str[:60].value_counts(dropna=False)"
   ]
  },
  {
   "cell_type": "code",
   "execution_count": 33,
   "id": "5f87b202-ade3-4710-9502-94c4fa99197a",
   "metadata": {},
   "outputs": [],
   "source": [
    "author_vc = df['author'].value_counts().reset_index()"
   ]
  },
  {
   "cell_type": "code",
   "execution_count": 42,
   "id": "0bf81dc2-37b7-4bf7-9d3c-5a0ae729a905",
   "metadata": {},
   "outputs": [
    {
     "data": {
      "text/html": [
       "<div>\n",
       "<style scoped>\n",
       "    .dataframe tbody tr th:only-of-type {\n",
       "        vertical-align: middle;\n",
       "    }\n",
       "\n",
       "    .dataframe tbody tr th {\n",
       "        vertical-align: top;\n",
       "    }\n",
       "\n",
       "    .dataframe thead th {\n",
       "        text-align: right;\n",
       "    }\n",
       "</style>\n",
       "<table border=\"1\" class=\"dataframe\">\n",
       "  <thead>\n",
       "    <tr style=\"text-align: right;\">\n",
       "      <th></th>\n",
       "      <th>author</th>\n",
       "      <th>count</th>\n",
       "    </tr>\n",
       "  </thead>\n",
       "  <tbody>\n",
       "    <tr>\n",
       "      <th>0</th>\n",
       "      <td>[deleted]</td>\n",
       "      <td>17647</td>\n",
       "    </tr>\n",
       "    <tr>\n",
       "      <th>1</th>\n",
       "      <td>SensitiveBorder2</td>\n",
       "      <td>289</td>\n",
       "    </tr>\n",
       "    <tr>\n",
       "      <th>2</th>\n",
       "      <td>Help_Me_Reddit01</td>\n",
       "      <td>224</td>\n",
       "    </tr>\n",
       "    <tr>\n",
       "      <th>3</th>\n",
       "      <td>throwlega</td>\n",
       "      <td>190</td>\n",
       "    </tr>\n",
       "    <tr>\n",
       "      <th>4</th>\n",
       "      <td>dizson</td>\n",
       "      <td>152</td>\n",
       "    </tr>\n",
       "    <tr>\n",
       "      <th>5</th>\n",
       "      <td>Docquest117</td>\n",
       "      <td>147</td>\n",
       "    </tr>\n",
       "    <tr>\n",
       "      <th>6</th>\n",
       "      <td>ukjungle</td>\n",
       "      <td>139</td>\n",
       "    </tr>\n",
       "    <tr>\n",
       "      <th>7</th>\n",
       "      <td>johndoejohndoes</td>\n",
       "      <td>130</td>\n",
       "    </tr>\n",
       "    <tr>\n",
       "      <th>8</th>\n",
       "      <td>__throwawaypt__</td>\n",
       "      <td>115</td>\n",
       "    </tr>\n",
       "    <tr>\n",
       "      <th>9</th>\n",
       "      <td>Ak51915</td>\n",
       "      <td>104</td>\n",
       "    </tr>\n",
       "  </tbody>\n",
       "</table>\n",
       "</div>"
      ],
      "text/plain": [
       "             author  count\n",
       "0         [deleted]  17647\n",
       "1  SensitiveBorder2    289\n",
       "2  Help_Me_Reddit01    224\n",
       "3         throwlega    190\n",
       "4            dizson    152\n",
       "5       Docquest117    147\n",
       "6          ukjungle    139\n",
       "7   johndoejohndoes    130\n",
       "8   __throwawaypt__    115\n",
       "9           Ak51915    104"
      ]
     },
     "execution_count": 42,
     "metadata": {},
     "output_type": "execute_result"
    }
   ],
   "source": [
    "author_vc.head(10)"
   ]
  },
  {
   "cell_type": "code",
   "execution_count": 47,
   "id": "9606d65d-60cd-45d0-a23c-eb8b59257112",
   "metadata": {},
   "outputs": [
    {
     "data": {
      "text/html": [
       "<div>\n",
       "<style scoped>\n",
       "    .dataframe tbody tr th:only-of-type {\n",
       "        vertical-align: middle;\n",
       "    }\n",
       "\n",
       "    .dataframe tbody tr th {\n",
       "        vertical-align: top;\n",
       "    }\n",
       "\n",
       "    .dataframe thead th {\n",
       "        text-align: right;\n",
       "    }\n",
       "</style>\n",
       "<table border=\"1\" class=\"dataframe\">\n",
       "  <thead>\n",
       "    <tr style=\"text-align: right;\">\n",
       "      <th></th>\n",
       "      <th>author_posts_count</th>\n",
       "      <th>proportion</th>\n",
       "    </tr>\n",
       "  </thead>\n",
       "  <tbody>\n",
       "    <tr>\n",
       "      <th>0</th>\n",
       "      <td>1</td>\n",
       "      <td>0.627768</td>\n",
       "    </tr>\n",
       "    <tr>\n",
       "      <th>1</th>\n",
       "      <td>2</td>\n",
       "      <td>0.225076</td>\n",
       "    </tr>\n",
       "    <tr>\n",
       "      <th>2</th>\n",
       "      <td>3</td>\n",
       "      <td>0.068707</td>\n",
       "    </tr>\n",
       "    <tr>\n",
       "      <th>3</th>\n",
       "      <td>4</td>\n",
       "      <td>0.030694</td>\n",
       "    </tr>\n",
       "    <tr>\n",
       "      <th>4</th>\n",
       "      <td>5</td>\n",
       "      <td>0.015430</td>\n",
       "    </tr>\n",
       "    <tr>\n",
       "      <th>5</th>\n",
       "      <td>6</td>\n",
       "      <td>0.009142</td>\n",
       "    </tr>\n",
       "    <tr>\n",
       "      <th>6</th>\n",
       "      <td>7</td>\n",
       "      <td>0.005742</td>\n",
       "    </tr>\n",
       "    <tr>\n",
       "      <th>7</th>\n",
       "      <td>8</td>\n",
       "      <td>0.003862</td>\n",
       "    </tr>\n",
       "    <tr>\n",
       "      <th>8</th>\n",
       "      <td>9</td>\n",
       "      <td>0.002885</td>\n",
       "    </tr>\n",
       "    <tr>\n",
       "      <th>9</th>\n",
       "      <td>10</td>\n",
       "      <td>0.001949</td>\n",
       "    </tr>\n",
       "  </tbody>\n",
       "</table>\n",
       "</div>"
      ],
      "text/plain": [
       "   author_posts_count  proportion\n",
       "0                   1    0.627768\n",
       "1                   2    0.225076\n",
       "2                   3    0.068707\n",
       "3                   4    0.030694\n",
       "4                   5    0.015430\n",
       "5                   6    0.009142\n",
       "6                   7    0.005742\n",
       "7                   8    0.003862\n",
       "8                   9    0.002885\n",
       "9                  10    0.001949"
      ]
     },
     "execution_count": 47,
     "metadata": {},
     "output_type": "execute_result"
    }
   ],
   "source": [
    "author_posts_count_vc = author_vc['count'].value_counts(normalize=True).sort_index()\\\n",
    "    .reset_index()\n",
    "author_posts_count_vc.rename(\n",
    "    columns={'count': 'author_posts_count'},\n",
    "    inplace=True\n",
    ")\n",
    "author_posts_count_vc.head(10)"
   ]
  },
  {
   "cell_type": "code",
   "execution_count": 52,
   "id": "32dda6a6-3293-412f-bdd6-dc309ce97f93",
   "metadata": {},
   "outputs": [
    {
     "data": {
      "text/html": [
       "<div>\n",
       "<style scoped>\n",
       "    .dataframe tbody tr th:only-of-type {\n",
       "        vertical-align: middle;\n",
       "    }\n",
       "\n",
       "    .dataframe tbody tr th {\n",
       "        vertical-align: top;\n",
       "    }\n",
       "\n",
       "    .dataframe thead th {\n",
       "        text-align: right;\n",
       "    }\n",
       "</style>\n",
       "<table border=\"1\" class=\"dataframe\">\n",
       "  <thead>\n",
       "    <tr style=\"text-align: right;\">\n",
       "      <th></th>\n",
       "      <th>author_posts_count</th>\n",
       "      <th>proportion</th>\n",
       "    </tr>\n",
       "  </thead>\n",
       "  <tbody>\n",
       "    <tr>\n",
       "      <th>86</th>\n",
       "      <td>152</td>\n",
       "      <td>0.000003</td>\n",
       "    </tr>\n",
       "    <tr>\n",
       "      <th>87</th>\n",
       "      <td>190</td>\n",
       "      <td>0.000003</td>\n",
       "    </tr>\n",
       "    <tr>\n",
       "      <th>88</th>\n",
       "      <td>224</td>\n",
       "      <td>0.000003</td>\n",
       "    </tr>\n",
       "    <tr>\n",
       "      <th>89</th>\n",
       "      <td>289</td>\n",
       "      <td>0.000003</td>\n",
       "    </tr>\n",
       "    <tr>\n",
       "      <th>90</th>\n",
       "      <td>17647</td>\n",
       "      <td>0.000003</td>\n",
       "    </tr>\n",
       "  </tbody>\n",
       "</table>\n",
       "</div>"
      ],
      "text/plain": [
       "    author_posts_count  proportion\n",
       "86                 152    0.000003\n",
       "87                 190    0.000003\n",
       "88                 224    0.000003\n",
       "89                 289    0.000003\n",
       "90               17647    0.000003"
      ]
     },
     "execution_count": 52,
     "metadata": {},
     "output_type": "execute_result"
    }
   ],
   "source": [
    "author_posts_count_vc.tail(5)"
   ]
  },
  {
   "cell_type": "code",
   "execution_count": 87,
   "id": "470f83e7-ab79-4d25-9034-50e79a33e2b8",
   "metadata": {},
   "outputs": [
    {
     "data": {
      "application/vnd.plotly.v1+json": {
       "config": {
        "plotlyServerURL": "https://plotly.com"
       },
       "data": [
        {
         "mode": "markers",
         "type": "scatter",
         "x": [
          1,
          2,
          3,
          4,
          5,
          6,
          7,
          8,
          9,
          10,
          11,
          12,
          13,
          14,
          15,
          16,
          17,
          18,
          19,
          20,
          21,
          22,
          23,
          24,
          25,
          26,
          27,
          28,
          29,
          30,
          31,
          32,
          33,
          34,
          35,
          36,
          37,
          38,
          39,
          40,
          41,
          42,
          43,
          44,
          45,
          46,
          47,
          48,
          49,
          50,
          51,
          52,
          53,
          54,
          55,
          57,
          58,
          59,
          60,
          61,
          63,
          64,
          65,
          68,
          70,
          71,
          72,
          73,
          74,
          77,
          80,
          81,
          83,
          84,
          85,
          86,
          88,
          90,
          98,
          99,
          103,
          104,
          115,
          130,
          139,
          147,
          152,
          190,
          224,
          289
         ],
         "y": [
          0.6277676044614616,
          0.22507620890381985,
          0.06870672739727149,
          0.030693698881359727,
          0.015430085665084723,
          0.009142339401845388,
          0.005741934955666476,
          0.0038616150010779772,
          0.00288461276052256,
          0.0019485463680351065,
          0.0015528331700447838,
          0.001192597707046697,
          0.0008214460178971528,
          0.0007859682829049169,
          0.0006249539471709235,
          0.0005130626291184874,
          0.0004366490460582872,
          0.00035477734992235836,
          0.00023196980571846507,
          0.00023196980571846507,
          0.00019376301418836493,
          0.0002183245230291436,
          0.0001719305618854506,
          0.00012280754420389327,
          0.00012007848766602898,
          0.00012007848766602898,
          7.914263959806456e-05,
          5.45811307572859e-05,
          6.549735690874308e-05,
          6.822641344660737e-05,
          4.366490460582872e-05,
          4.9123017681557306e-05,
          5.18520742194216e-05,
          5.731018729515019e-05,
          6.549735690874308e-05,
          3.274867845437154e-05,
          3.274867845437154e-05,
          3.0019621916507244e-05,
          2.183245230291436e-05,
          2.4561508840778653e-05,
          3.0019621916507244e-05,
          1.637433922718577e-05,
          1.091622615145718e-05,
          1.637433922718577e-05,
          2.729056537864295e-05,
          1.637433922718577e-05,
          1.3645282689321474e-05,
          1.637433922718577e-05,
          1.637433922718577e-05,
          5.45811307572859e-06,
          1.637433922718577e-05,
          5.45811307572859e-06,
          8.187169613592885e-06,
          1.3645282689321474e-05,
          5.45811307572859e-06,
          5.45811307572859e-06,
          5.45811307572859e-06,
          8.187169613592885e-06,
          1.091622615145718e-05,
          1.091622615145718e-05,
          8.187169613592885e-06,
          2.729056537864295e-06,
          2.729056537864295e-06,
          8.187169613592885e-06,
          2.729056537864295e-06,
          1.3645282689321474e-05,
          2.729056537864295e-06,
          2.729056537864295e-06,
          2.729056537864295e-06,
          5.45811307572859e-06,
          5.45811307572859e-06,
          2.729056537864295e-06,
          2.729056537864295e-06,
          2.729056537864295e-06,
          2.729056537864295e-06,
          2.729056537864295e-06,
          2.729056537864295e-06,
          2.729056537864295e-06,
          5.45811307572859e-06,
          2.729056537864295e-06,
          2.729056537864295e-06,
          5.45811307572859e-06,
          2.729056537864295e-06,
          2.729056537864295e-06,
          2.729056537864295e-06,
          2.729056537864295e-06,
          2.729056537864295e-06,
          2.729056537864295e-06,
          2.729056537864295e-06,
          2.729056537864295e-06
         ]
        }
       ],
       "layout": {
        "autosize": true,
        "plot_bgcolor": "#fff",
        "showlegend": false,
        "template": {
         "data": {
          "bar": [
           {
            "error_x": {
             "color": "#2a3f5f"
            },
            "error_y": {
             "color": "#2a3f5f"
            },
            "marker": {
             "line": {
              "color": "#E5ECF6",
              "width": 0.5
             },
             "pattern": {
              "fillmode": "overlay",
              "size": 10,
              "solidity": 0.2
             }
            },
            "type": "bar"
           }
          ],
          "barpolar": [
           {
            "marker": {
             "line": {
              "color": "#E5ECF6",
              "width": 0.5
             },
             "pattern": {
              "fillmode": "overlay",
              "size": 10,
              "solidity": 0.2
             }
            },
            "type": "barpolar"
           }
          ],
          "carpet": [
           {
            "aaxis": {
             "endlinecolor": "#2a3f5f",
             "gridcolor": "white",
             "linecolor": "white",
             "minorgridcolor": "white",
             "startlinecolor": "#2a3f5f"
            },
            "baxis": {
             "endlinecolor": "#2a3f5f",
             "gridcolor": "white",
             "linecolor": "white",
             "minorgridcolor": "white",
             "startlinecolor": "#2a3f5f"
            },
            "type": "carpet"
           }
          ],
          "choropleth": [
           {
            "colorbar": {
             "outlinewidth": 0,
             "ticks": ""
            },
            "type": "choropleth"
           }
          ],
          "contour": [
           {
            "colorbar": {
             "outlinewidth": 0,
             "ticks": ""
            },
            "colorscale": [
             [
              0,
              "#0d0887"
             ],
             [
              0.1111111111111111,
              "#46039f"
             ],
             [
              0.2222222222222222,
              "#7201a8"
             ],
             [
              0.3333333333333333,
              "#9c179e"
             ],
             [
              0.4444444444444444,
              "#bd3786"
             ],
             [
              0.5555555555555556,
              "#d8576b"
             ],
             [
              0.6666666666666666,
              "#ed7953"
             ],
             [
              0.7777777777777778,
              "#fb9f3a"
             ],
             [
              0.8888888888888888,
              "#fdca26"
             ],
             [
              1,
              "#f0f921"
             ]
            ],
            "type": "contour"
           }
          ],
          "contourcarpet": [
           {
            "colorbar": {
             "outlinewidth": 0,
             "ticks": ""
            },
            "type": "contourcarpet"
           }
          ],
          "heatmap": [
           {
            "colorbar": {
             "outlinewidth": 0,
             "ticks": ""
            },
            "colorscale": [
             [
              0,
              "#0d0887"
             ],
             [
              0.1111111111111111,
              "#46039f"
             ],
             [
              0.2222222222222222,
              "#7201a8"
             ],
             [
              0.3333333333333333,
              "#9c179e"
             ],
             [
              0.4444444444444444,
              "#bd3786"
             ],
             [
              0.5555555555555556,
              "#d8576b"
             ],
             [
              0.6666666666666666,
              "#ed7953"
             ],
             [
              0.7777777777777778,
              "#fb9f3a"
             ],
             [
              0.8888888888888888,
              "#fdca26"
             ],
             [
              1,
              "#f0f921"
             ]
            ],
            "type": "heatmap"
           }
          ],
          "heatmapgl": [
           {
            "colorbar": {
             "outlinewidth": 0,
             "ticks": ""
            },
            "colorscale": [
             [
              0,
              "#0d0887"
             ],
             [
              0.1111111111111111,
              "#46039f"
             ],
             [
              0.2222222222222222,
              "#7201a8"
             ],
             [
              0.3333333333333333,
              "#9c179e"
             ],
             [
              0.4444444444444444,
              "#bd3786"
             ],
             [
              0.5555555555555556,
              "#d8576b"
             ],
             [
              0.6666666666666666,
              "#ed7953"
             ],
             [
              0.7777777777777778,
              "#fb9f3a"
             ],
             [
              0.8888888888888888,
              "#fdca26"
             ],
             [
              1,
              "#f0f921"
             ]
            ],
            "type": "heatmapgl"
           }
          ],
          "histogram": [
           {
            "marker": {
             "pattern": {
              "fillmode": "overlay",
              "size": 10,
              "solidity": 0.2
             }
            },
            "type": "histogram"
           }
          ],
          "histogram2d": [
           {
            "colorbar": {
             "outlinewidth": 0,
             "ticks": ""
            },
            "colorscale": [
             [
              0,
              "#0d0887"
             ],
             [
              0.1111111111111111,
              "#46039f"
             ],
             [
              0.2222222222222222,
              "#7201a8"
             ],
             [
              0.3333333333333333,
              "#9c179e"
             ],
             [
              0.4444444444444444,
              "#bd3786"
             ],
             [
              0.5555555555555556,
              "#d8576b"
             ],
             [
              0.6666666666666666,
              "#ed7953"
             ],
             [
              0.7777777777777778,
              "#fb9f3a"
             ],
             [
              0.8888888888888888,
              "#fdca26"
             ],
             [
              1,
              "#f0f921"
             ]
            ],
            "type": "histogram2d"
           }
          ],
          "histogram2dcontour": [
           {
            "colorbar": {
             "outlinewidth": 0,
             "ticks": ""
            },
            "colorscale": [
             [
              0,
              "#0d0887"
             ],
             [
              0.1111111111111111,
              "#46039f"
             ],
             [
              0.2222222222222222,
              "#7201a8"
             ],
             [
              0.3333333333333333,
              "#9c179e"
             ],
             [
              0.4444444444444444,
              "#bd3786"
             ],
             [
              0.5555555555555556,
              "#d8576b"
             ],
             [
              0.6666666666666666,
              "#ed7953"
             ],
             [
              0.7777777777777778,
              "#fb9f3a"
             ],
             [
              0.8888888888888888,
              "#fdca26"
             ],
             [
              1,
              "#f0f921"
             ]
            ],
            "type": "histogram2dcontour"
           }
          ],
          "mesh3d": [
           {
            "colorbar": {
             "outlinewidth": 0,
             "ticks": ""
            },
            "type": "mesh3d"
           }
          ],
          "parcoords": [
           {
            "line": {
             "colorbar": {
              "outlinewidth": 0,
              "ticks": ""
             }
            },
            "type": "parcoords"
           }
          ],
          "pie": [
           {
            "automargin": true,
            "type": "pie"
           }
          ],
          "scatter": [
           {
            "fillpattern": {
             "fillmode": "overlay",
             "size": 10,
             "solidity": 0.2
            },
            "type": "scatter"
           }
          ],
          "scatter3d": [
           {
            "line": {
             "colorbar": {
              "outlinewidth": 0,
              "ticks": ""
             }
            },
            "marker": {
             "colorbar": {
              "outlinewidth": 0,
              "ticks": ""
             }
            },
            "type": "scatter3d"
           }
          ],
          "scattercarpet": [
           {
            "marker": {
             "colorbar": {
              "outlinewidth": 0,
              "ticks": ""
             }
            },
            "type": "scattercarpet"
           }
          ],
          "scattergeo": [
           {
            "marker": {
             "colorbar": {
              "outlinewidth": 0,
              "ticks": ""
             }
            },
            "type": "scattergeo"
           }
          ],
          "scattergl": [
           {
            "marker": {
             "colorbar": {
              "outlinewidth": 0,
              "ticks": ""
             }
            },
            "type": "scattergl"
           }
          ],
          "scattermapbox": [
           {
            "marker": {
             "colorbar": {
              "outlinewidth": 0,
              "ticks": ""
             }
            },
            "type": "scattermapbox"
           }
          ],
          "scatterpolar": [
           {
            "marker": {
             "colorbar": {
              "outlinewidth": 0,
              "ticks": ""
             }
            },
            "type": "scatterpolar"
           }
          ],
          "scatterpolargl": [
           {
            "marker": {
             "colorbar": {
              "outlinewidth": 0,
              "ticks": ""
             }
            },
            "type": "scatterpolargl"
           }
          ],
          "scatterternary": [
           {
            "marker": {
             "colorbar": {
              "outlinewidth": 0,
              "ticks": ""
             }
            },
            "type": "scatterternary"
           }
          ],
          "surface": [
           {
            "colorbar": {
             "outlinewidth": 0,
             "ticks": ""
            },
            "colorscale": [
             [
              0,
              "#0d0887"
             ],
             [
              0.1111111111111111,
              "#46039f"
             ],
             [
              0.2222222222222222,
              "#7201a8"
             ],
             [
              0.3333333333333333,
              "#9c179e"
             ],
             [
              0.4444444444444444,
              "#bd3786"
             ],
             [
              0.5555555555555556,
              "#d8576b"
             ],
             [
              0.6666666666666666,
              "#ed7953"
             ],
             [
              0.7777777777777778,
              "#fb9f3a"
             ],
             [
              0.8888888888888888,
              "#fdca26"
             ],
             [
              1,
              "#f0f921"
             ]
            ],
            "type": "surface"
           }
          ],
          "table": [
           {
            "cells": {
             "fill": {
              "color": "#EBF0F8"
             },
             "line": {
              "color": "white"
             }
            },
            "header": {
             "fill": {
              "color": "#C8D4E3"
             },
             "line": {
              "color": "white"
             }
            },
            "type": "table"
           }
          ]
         },
         "layout": {
          "annotationdefaults": {
           "arrowcolor": "#2a3f5f",
           "arrowhead": 0,
           "arrowwidth": 1
          },
          "autotypenumbers": "strict",
          "coloraxis": {
           "colorbar": {
            "outlinewidth": 0,
            "ticks": ""
           }
          },
          "colorscale": {
           "diverging": [
            [
             0,
             "#8e0152"
            ],
            [
             0.1,
             "#c51b7d"
            ],
            [
             0.2,
             "#de77ae"
            ],
            [
             0.3,
             "#f1b6da"
            ],
            [
             0.4,
             "#fde0ef"
            ],
            [
             0.5,
             "#f7f7f7"
            ],
            [
             0.6,
             "#e6f5d0"
            ],
            [
             0.7,
             "#b8e186"
            ],
            [
             0.8,
             "#7fbc41"
            ],
            [
             0.9,
             "#4d9221"
            ],
            [
             1,
             "#276419"
            ]
           ],
           "sequential": [
            [
             0,
             "#0d0887"
            ],
            [
             0.1111111111111111,
             "#46039f"
            ],
            [
             0.2222222222222222,
             "#7201a8"
            ],
            [
             0.3333333333333333,
             "#9c179e"
            ],
            [
             0.4444444444444444,
             "#bd3786"
            ],
            [
             0.5555555555555556,
             "#d8576b"
            ],
            [
             0.6666666666666666,
             "#ed7953"
            ],
            [
             0.7777777777777778,
             "#fb9f3a"
            ],
            [
             0.8888888888888888,
             "#fdca26"
            ],
            [
             1,
             "#f0f921"
            ]
           ],
           "sequentialminus": [
            [
             0,
             "#0d0887"
            ],
            [
             0.1111111111111111,
             "#46039f"
            ],
            [
             0.2222222222222222,
             "#7201a8"
            ],
            [
             0.3333333333333333,
             "#9c179e"
            ],
            [
             0.4444444444444444,
             "#bd3786"
            ],
            [
             0.5555555555555556,
             "#d8576b"
            ],
            [
             0.6666666666666666,
             "#ed7953"
            ],
            [
             0.7777777777777778,
             "#fb9f3a"
            ],
            [
             0.8888888888888888,
             "#fdca26"
            ],
            [
             1,
             "#f0f921"
            ]
           ]
          },
          "colorway": [
           "#636efa",
           "#EF553B",
           "#00cc96",
           "#ab63fa",
           "#FFA15A",
           "#19d3f3",
           "#FF6692",
           "#B6E880",
           "#FF97FF",
           "#FECB52"
          ],
          "font": {
           "color": "#2a3f5f"
          },
          "geo": {
           "bgcolor": "white",
           "lakecolor": "white",
           "landcolor": "#E5ECF6",
           "showlakes": true,
           "showland": true,
           "subunitcolor": "white"
          },
          "hoverlabel": {
           "align": "left"
          },
          "hovermode": "closest",
          "mapbox": {
           "style": "light"
          },
          "paper_bgcolor": "white",
          "plot_bgcolor": "#E5ECF6",
          "polar": {
           "angularaxis": {
            "gridcolor": "white",
            "linecolor": "white",
            "ticks": ""
           },
           "bgcolor": "#E5ECF6",
           "radialaxis": {
            "gridcolor": "white",
            "linecolor": "white",
            "ticks": ""
           }
          },
          "scene": {
           "xaxis": {
            "backgroundcolor": "#E5ECF6",
            "gridcolor": "white",
            "gridwidth": 2,
            "linecolor": "white",
            "showbackground": true,
            "ticks": "",
            "zerolinecolor": "white"
           },
           "yaxis": {
            "backgroundcolor": "#E5ECF6",
            "gridcolor": "white",
            "gridwidth": 2,
            "linecolor": "white",
            "showbackground": true,
            "ticks": "",
            "zerolinecolor": "white"
           },
           "zaxis": {
            "backgroundcolor": "#E5ECF6",
            "gridcolor": "white",
            "gridwidth": 2,
            "linecolor": "white",
            "showbackground": true,
            "ticks": "",
            "zerolinecolor": "white"
           }
          },
          "shapedefaults": {
           "line": {
            "color": "#2a3f5f"
           }
          },
          "ternary": {
           "aaxis": {
            "gridcolor": "white",
            "linecolor": "white",
            "ticks": ""
           },
           "baxis": {
            "gridcolor": "white",
            "linecolor": "white",
            "ticks": ""
           },
           "bgcolor": "#E5ECF6",
           "caxis": {
            "gridcolor": "white",
            "linecolor": "white",
            "ticks": ""
           }
          },
          "title": {
           "x": 0.05
          },
          "xaxis": {
           "automargin": true,
           "gridcolor": "white",
           "linecolor": "white",
           "ticks": "",
           "title": {
            "standoff": 15
           },
           "zerolinecolor": "white",
           "zerolinewidth": 2
          },
          "yaxis": {
           "automargin": true,
           "gridcolor": "white",
           "linecolor": "white",
           "ticks": "",
           "title": {
            "standoff": 15
           },
           "zerolinecolor": "white",
           "zerolinewidth": 2
          }
         }
        },
        "title": {
         "text": "<b>Author posts count</b> frequency plot, excluding [deleted]"
        },
        "xaxis": {
         "autorange": true,
         "range": [
          0,
          306.13169417312224
         ],
         "rangemode": "tozero",
         "title": {
          "text": "author posts count"
         },
         "type": "linear"
        },
        "yaxis": {
         "autorange": true,
         "gridcolor": "#eee",
         "range": [
          0,
          0.6728812325530892
         ],
         "rangemode": "tozero",
         "title": {
          "text": "proportion"
         },
         "type": "linear"
        }
       }
      },
      "text/html": [
       "<div>                            <div id=\"74d183b0-e2a5-41f6-823d-d151ebbca698\" class=\"plotly-graph-div\" style=\"height:400px; width:100%;\"></div>            <script type=\"text/javascript\">                require([\"plotly\"], function(Plotly) {                    window.PLOTLYENV=window.PLOTLYENV || {};                                    if (document.getElementById(\"74d183b0-e2a5-41f6-823d-d151ebbca698\")) {                    Plotly.newPlot(                        \"74d183b0-e2a5-41f6-823d-d151ebbca698\",                        [{\"mode\":\"markers\",\"x\":[1,2,3,4,5,6,7,8,9,10,11,12,13,14,15,16,17,18,19,20,21,22,23,24,25,26,27,28,29,30,31,32,33,34,35,36,37,38,39,40,41,42,43,44,45,46,47,48,49,50,51,52,53,54,55,57,58,59,60,61,63,64,65,68,70,71,72,73,74,77,80,81,83,84,85,86,88,90,98,99,103,104,115,130,139,147,152,190,224,289],\"y\":[0.6277676044614616,0.22507620890381985,0.06870672739727149,0.030693698881359727,0.015430085665084723,0.009142339401845388,0.005741934955666476,0.0038616150010779772,0.00288461276052256,0.0019485463680351065,0.0015528331700447838,0.001192597707046697,0.0008214460178971528,0.0007859682829049169,0.0006249539471709235,0.0005130626291184874,0.0004366490460582872,0.00035477734992235836,0.00023196980571846507,0.00023196980571846507,0.00019376301418836493,0.0002183245230291436,0.0001719305618854506,0.00012280754420389327,0.00012007848766602898,0.00012007848766602898,7.914263959806456e-05,5.45811307572859e-05,6.549735690874308e-05,6.822641344660737e-05,4.366490460582872e-05,4.9123017681557306e-05,5.18520742194216e-05,5.731018729515019e-05,6.549735690874308e-05,3.274867845437154e-05,3.274867845437154e-05,3.0019621916507244e-05,2.183245230291436e-05,2.4561508840778653e-05,3.0019621916507244e-05,1.637433922718577e-05,1.091622615145718e-05,1.637433922718577e-05,2.729056537864295e-05,1.637433922718577e-05,1.3645282689321474e-05,1.637433922718577e-05,1.637433922718577e-05,5.45811307572859e-06,1.637433922718577e-05,5.45811307572859e-06,8.187169613592885e-06,1.3645282689321474e-05,5.45811307572859e-06,5.45811307572859e-06,5.45811307572859e-06,8.187169613592885e-06,1.091622615145718e-05,1.091622615145718e-05,8.187169613592885e-06,2.729056537864295e-06,2.729056537864295e-06,8.187169613592885e-06,2.729056537864295e-06,1.3645282689321474e-05,2.729056537864295e-06,2.729056537864295e-06,2.729056537864295e-06,5.45811307572859e-06,5.45811307572859e-06,2.729056537864295e-06,2.729056537864295e-06,2.729056537864295e-06,2.729056537864295e-06,2.729056537864295e-06,2.729056537864295e-06,2.729056537864295e-06,5.45811307572859e-06,2.729056537864295e-06,2.729056537864295e-06,5.45811307572859e-06,2.729056537864295e-06,2.729056537864295e-06,2.729056537864295e-06,2.729056537864295e-06,2.729056537864295e-06,2.729056537864295e-06,2.729056537864295e-06,2.729056537864295e-06],\"type\":\"scatter\"}],                        {\"template\":{\"data\":{\"histogram2dcontour\":[{\"type\":\"histogram2dcontour\",\"colorbar\":{\"outlinewidth\":0,\"ticks\":\"\"},\"colorscale\":[[0.0,\"#0d0887\"],[0.1111111111111111,\"#46039f\"],[0.2222222222222222,\"#7201a8\"],[0.3333333333333333,\"#9c179e\"],[0.4444444444444444,\"#bd3786\"],[0.5555555555555556,\"#d8576b\"],[0.6666666666666666,\"#ed7953\"],[0.7777777777777778,\"#fb9f3a\"],[0.8888888888888888,\"#fdca26\"],[1.0,\"#f0f921\"]]}],\"choropleth\":[{\"type\":\"choropleth\",\"colorbar\":{\"outlinewidth\":0,\"ticks\":\"\"}}],\"histogram2d\":[{\"type\":\"histogram2d\",\"colorbar\":{\"outlinewidth\":0,\"ticks\":\"\"},\"colorscale\":[[0.0,\"#0d0887\"],[0.1111111111111111,\"#46039f\"],[0.2222222222222222,\"#7201a8\"],[0.3333333333333333,\"#9c179e\"],[0.4444444444444444,\"#bd3786\"],[0.5555555555555556,\"#d8576b\"],[0.6666666666666666,\"#ed7953\"],[0.7777777777777778,\"#fb9f3a\"],[0.8888888888888888,\"#fdca26\"],[1.0,\"#f0f921\"]]}],\"heatmap\":[{\"type\":\"heatmap\",\"colorbar\":{\"outlinewidth\":0,\"ticks\":\"\"},\"colorscale\":[[0.0,\"#0d0887\"],[0.1111111111111111,\"#46039f\"],[0.2222222222222222,\"#7201a8\"],[0.3333333333333333,\"#9c179e\"],[0.4444444444444444,\"#bd3786\"],[0.5555555555555556,\"#d8576b\"],[0.6666666666666666,\"#ed7953\"],[0.7777777777777778,\"#fb9f3a\"],[0.8888888888888888,\"#fdca26\"],[1.0,\"#f0f921\"]]}],\"heatmapgl\":[{\"type\":\"heatmapgl\",\"colorbar\":{\"outlinewidth\":0,\"ticks\":\"\"},\"colorscale\":[[0.0,\"#0d0887\"],[0.1111111111111111,\"#46039f\"],[0.2222222222222222,\"#7201a8\"],[0.3333333333333333,\"#9c179e\"],[0.4444444444444444,\"#bd3786\"],[0.5555555555555556,\"#d8576b\"],[0.6666666666666666,\"#ed7953\"],[0.7777777777777778,\"#fb9f3a\"],[0.8888888888888888,\"#fdca26\"],[1.0,\"#f0f921\"]]}],\"contourcarpet\":[{\"type\":\"contourcarpet\",\"colorbar\":{\"outlinewidth\":0,\"ticks\":\"\"}}],\"contour\":[{\"type\":\"contour\",\"colorbar\":{\"outlinewidth\":0,\"ticks\":\"\"},\"colorscale\":[[0.0,\"#0d0887\"],[0.1111111111111111,\"#46039f\"],[0.2222222222222222,\"#7201a8\"],[0.3333333333333333,\"#9c179e\"],[0.4444444444444444,\"#bd3786\"],[0.5555555555555556,\"#d8576b\"],[0.6666666666666666,\"#ed7953\"],[0.7777777777777778,\"#fb9f3a\"],[0.8888888888888888,\"#fdca26\"],[1.0,\"#f0f921\"]]}],\"surface\":[{\"type\":\"surface\",\"colorbar\":{\"outlinewidth\":0,\"ticks\":\"\"},\"colorscale\":[[0.0,\"#0d0887\"],[0.1111111111111111,\"#46039f\"],[0.2222222222222222,\"#7201a8\"],[0.3333333333333333,\"#9c179e\"],[0.4444444444444444,\"#bd3786\"],[0.5555555555555556,\"#d8576b\"],[0.6666666666666666,\"#ed7953\"],[0.7777777777777778,\"#fb9f3a\"],[0.8888888888888888,\"#fdca26\"],[1.0,\"#f0f921\"]]}],\"mesh3d\":[{\"type\":\"mesh3d\",\"colorbar\":{\"outlinewidth\":0,\"ticks\":\"\"}}],\"scatter\":[{\"fillpattern\":{\"fillmode\":\"overlay\",\"size\":10,\"solidity\":0.2},\"type\":\"scatter\"}],\"parcoords\":[{\"type\":\"parcoords\",\"line\":{\"colorbar\":{\"outlinewidth\":0,\"ticks\":\"\"}}}],\"scatterpolargl\":[{\"type\":\"scatterpolargl\",\"marker\":{\"colorbar\":{\"outlinewidth\":0,\"ticks\":\"\"}}}],\"bar\":[{\"error_x\":{\"color\":\"#2a3f5f\"},\"error_y\":{\"color\":\"#2a3f5f\"},\"marker\":{\"line\":{\"color\":\"#E5ECF6\",\"width\":0.5},\"pattern\":{\"fillmode\":\"overlay\",\"size\":10,\"solidity\":0.2}},\"type\":\"bar\"}],\"scattergeo\":[{\"type\":\"scattergeo\",\"marker\":{\"colorbar\":{\"outlinewidth\":0,\"ticks\":\"\"}}}],\"scatterpolar\":[{\"type\":\"scatterpolar\",\"marker\":{\"colorbar\":{\"outlinewidth\":0,\"ticks\":\"\"}}}],\"histogram\":[{\"marker\":{\"pattern\":{\"fillmode\":\"overlay\",\"size\":10,\"solidity\":0.2}},\"type\":\"histogram\"}],\"scattergl\":[{\"type\":\"scattergl\",\"marker\":{\"colorbar\":{\"outlinewidth\":0,\"ticks\":\"\"}}}],\"scatter3d\":[{\"type\":\"scatter3d\",\"line\":{\"colorbar\":{\"outlinewidth\":0,\"ticks\":\"\"}},\"marker\":{\"colorbar\":{\"outlinewidth\":0,\"ticks\":\"\"}}}],\"scattermapbox\":[{\"type\":\"scattermapbox\",\"marker\":{\"colorbar\":{\"outlinewidth\":0,\"ticks\":\"\"}}}],\"scatterternary\":[{\"type\":\"scatterternary\",\"marker\":{\"colorbar\":{\"outlinewidth\":0,\"ticks\":\"\"}}}],\"scattercarpet\":[{\"type\":\"scattercarpet\",\"marker\":{\"colorbar\":{\"outlinewidth\":0,\"ticks\":\"\"}}}],\"carpet\":[{\"aaxis\":{\"endlinecolor\":\"#2a3f5f\",\"gridcolor\":\"white\",\"linecolor\":\"white\",\"minorgridcolor\":\"white\",\"startlinecolor\":\"#2a3f5f\"},\"baxis\":{\"endlinecolor\":\"#2a3f5f\",\"gridcolor\":\"white\",\"linecolor\":\"white\",\"minorgridcolor\":\"white\",\"startlinecolor\":\"#2a3f5f\"},\"type\":\"carpet\"}],\"table\":[{\"cells\":{\"fill\":{\"color\":\"#EBF0F8\"},\"line\":{\"color\":\"white\"}},\"header\":{\"fill\":{\"color\":\"#C8D4E3\"},\"line\":{\"color\":\"white\"}},\"type\":\"table\"}],\"barpolar\":[{\"marker\":{\"line\":{\"color\":\"#E5ECF6\",\"width\":0.5},\"pattern\":{\"fillmode\":\"overlay\",\"size\":10,\"solidity\":0.2}},\"type\":\"barpolar\"}],\"pie\":[{\"automargin\":true,\"type\":\"pie\"}]},\"layout\":{\"autotypenumbers\":\"strict\",\"colorway\":[\"#636efa\",\"#EF553B\",\"#00cc96\",\"#ab63fa\",\"#FFA15A\",\"#19d3f3\",\"#FF6692\",\"#B6E880\",\"#FF97FF\",\"#FECB52\"],\"font\":{\"color\":\"#2a3f5f\"},\"hovermode\":\"closest\",\"hoverlabel\":{\"align\":\"left\"},\"paper_bgcolor\":\"white\",\"plot_bgcolor\":\"#E5ECF6\",\"polar\":{\"bgcolor\":\"#E5ECF6\",\"angularaxis\":{\"gridcolor\":\"white\",\"linecolor\":\"white\",\"ticks\":\"\"},\"radialaxis\":{\"gridcolor\":\"white\",\"linecolor\":\"white\",\"ticks\":\"\"}},\"ternary\":{\"bgcolor\":\"#E5ECF6\",\"aaxis\":{\"gridcolor\":\"white\",\"linecolor\":\"white\",\"ticks\":\"\"},\"baxis\":{\"gridcolor\":\"white\",\"linecolor\":\"white\",\"ticks\":\"\"},\"caxis\":{\"gridcolor\":\"white\",\"linecolor\":\"white\",\"ticks\":\"\"}},\"coloraxis\":{\"colorbar\":{\"outlinewidth\":0,\"ticks\":\"\"}},\"colorscale\":{\"sequential\":[[0.0,\"#0d0887\"],[0.1111111111111111,\"#46039f\"],[0.2222222222222222,\"#7201a8\"],[0.3333333333333333,\"#9c179e\"],[0.4444444444444444,\"#bd3786\"],[0.5555555555555556,\"#d8576b\"],[0.6666666666666666,\"#ed7953\"],[0.7777777777777778,\"#fb9f3a\"],[0.8888888888888888,\"#fdca26\"],[1.0,\"#f0f921\"]],\"sequentialminus\":[[0.0,\"#0d0887\"],[0.1111111111111111,\"#46039f\"],[0.2222222222222222,\"#7201a8\"],[0.3333333333333333,\"#9c179e\"],[0.4444444444444444,\"#bd3786\"],[0.5555555555555556,\"#d8576b\"],[0.6666666666666666,\"#ed7953\"],[0.7777777777777778,\"#fb9f3a\"],[0.8888888888888888,\"#fdca26\"],[1.0,\"#f0f921\"]],\"diverging\":[[0,\"#8e0152\"],[0.1,\"#c51b7d\"],[0.2,\"#de77ae\"],[0.3,\"#f1b6da\"],[0.4,\"#fde0ef\"],[0.5,\"#f7f7f7\"],[0.6,\"#e6f5d0\"],[0.7,\"#b8e186\"],[0.8,\"#7fbc41\"],[0.9,\"#4d9221\"],[1,\"#276419\"]]},\"xaxis\":{\"gridcolor\":\"white\",\"linecolor\":\"white\",\"ticks\":\"\",\"title\":{\"standoff\":15},\"zerolinecolor\":\"white\",\"automargin\":true,\"zerolinewidth\":2},\"yaxis\":{\"gridcolor\":\"white\",\"linecolor\":\"white\",\"ticks\":\"\",\"title\":{\"standoff\":15},\"zerolinecolor\":\"white\",\"automargin\":true,\"zerolinewidth\":2},\"scene\":{\"xaxis\":{\"backgroundcolor\":\"#E5ECF6\",\"gridcolor\":\"white\",\"linecolor\":\"white\",\"showbackground\":true,\"ticks\":\"\",\"zerolinecolor\":\"white\",\"gridwidth\":2},\"yaxis\":{\"backgroundcolor\":\"#E5ECF6\",\"gridcolor\":\"white\",\"linecolor\":\"white\",\"showbackground\":true,\"ticks\":\"\",\"zerolinecolor\":\"white\",\"gridwidth\":2},\"zaxis\":{\"backgroundcolor\":\"#E5ECF6\",\"gridcolor\":\"white\",\"linecolor\":\"white\",\"showbackground\":true,\"ticks\":\"\",\"zerolinecolor\":\"white\",\"gridwidth\":2}},\"shapedefaults\":{\"line\":{\"color\":\"#2a3f5f\"}},\"annotationdefaults\":{\"arrowcolor\":\"#2a3f5f\",\"arrowhead\":0,\"arrowwidth\":1},\"geo\":{\"bgcolor\":\"white\",\"landcolor\":\"#E5ECF6\",\"subunitcolor\":\"white\",\"showland\":true,\"showlakes\":true,\"lakecolor\":\"white\"},\"title\":{\"x\":0.05},\"mapbox\":{\"style\":\"light\"}}},\"yaxis\":{\"gridcolor\":\"#eee\",\"title\":{\"text\":\"proportion\"},\"rangemode\":\"tozero\"},\"xaxis\":{\"title\":{\"text\":\"author posts count\"},\"rangemode\":\"tozero\"},\"title\":{\"text\":\"<b>Author posts count</b> frequency plot, excluding [deleted]\"},\"plot_bgcolor\":\"#fff\",\"showlegend\":false,\"height\":400},                        {\"responsive\": true}                    ).then(function(){\n",
       "                            \n",
       "var gd = document.getElementById('74d183b0-e2a5-41f6-823d-d151ebbca698');\n",
       "var x = new MutationObserver(function (mutations, observer) {{\n",
       "        var display = window.getComputedStyle(gd).display;\n",
       "        if (!display || display === 'none') {{\n",
       "            console.log([gd, 'removed!']);\n",
       "            Plotly.purge(gd);\n",
       "            observer.disconnect();\n",
       "        }}\n",
       "}});\n",
       "\n",
       "// Listen for the removal of the full notebook cells\n",
       "var notebookContainer = gd.closest('#notebook-container');\n",
       "if (notebookContainer) {{\n",
       "    x.observe(notebookContainer, {childList: true});\n",
       "}}\n",
       "\n",
       "// Listen for the clearing of the current output cell\n",
       "var outputEl = gd.closest('.output');\n",
       "if (outputEl) {{\n",
       "    x.observe(outputEl, {childList: true});\n",
       "}}\n",
       "\n",
       "                        })                };                });            </script>        </div>"
      ]
     },
     "metadata": {},
     "output_type": "display_data"
    }
   ],
   "source": [
    "author_posts_count_vc2 = author_posts_count_vc[\n",
    "    author_posts_count_vc['author_posts_count'] < 1000\n",
    "].copy()\n",
    "\n",
    "traces = []\n",
    "trace = go.Scatter(\n",
    "    x=author_posts_count_vc2['author_posts_count'],\n",
    "    y=author_posts_count_vc2['proportion'],\n",
    "    mode='markers'\n",
    ")\n",
    "traces.append(trace)\n",
    "fig = go.Figure(traces)\n",
    "\n",
    "    \n",
    "fig.update_yaxes(gridcolor='#eee', title='proportion', rangemode='tozero')\n",
    "fig.update_xaxes(title='author posts count', rangemode='tozero')\n",
    "fig.update_layout(\n",
    "    title=f'<b>Author posts count</b> frequency plot, excluding [deleted]',\n",
    "    plot_bgcolor='#fff',\n",
    "    showlegend=False,\n",
    "    height=400\n",
    ")\n",
    "\n",
    "fig.show()"
   ]
  },
  {
   "cell_type": "code",
   "execution_count": 75,
   "id": "d26ac534-3254-4cae-b3b9-0d2fd6a9df83",
   "metadata": {},
   "outputs": [
    {
     "data": {
      "text/plain": [
       "author\n",
       "[deleted]           0.025830\n",
       "SensitiveBorder2    0.000423\n",
       "Help_Me_Reddit01    0.000328\n",
       "throwlega           0.000278\n",
       "dizson              0.000222\n",
       "Name: proportion, dtype: float64"
      ]
     },
     "execution_count": 75,
     "metadata": {},
     "output_type": "execute_result"
    }
   ],
   "source": [
    "df['author'].value_counts(dropna=False, normalize=True).head()"
   ]
  },
  {
   "cell_type": "code",
   "execution_count": 61,
   "id": "bedad9d8-090f-41b6-a7ca-2272e196f580",
   "metadata": {},
   "outputs": [
    {
     "data": {
      "text/plain": [
       "230031"
      ]
     },
     "execution_count": 61,
     "metadata": {},
     "output_type": "execute_result"
    }
   ],
   "source": [
    "len(author_vc[author_vc['count'] == 1])"
   ]
  },
  {
   "cell_type": "code",
   "execution_count": 62,
   "id": "2a2fed0e-46fa-444b-b1e9-2eeb5b83f248",
   "metadata": {},
   "outputs": [
    {
     "data": {
      "text/plain": [
       "0.6277676044614616"
      ]
     },
     "execution_count": 62,
     "metadata": {},
     "output_type": "execute_result"
    }
   ],
   "source": [
    "len(author_vc[author_vc['count'] == 1])/len(author_vc)"
   ]
  },
  {
   "cell_type": "code",
   "execution_count": 70,
   "id": "44b2622c-c71d-4c76-a010-5ef0f770bf28",
   "metadata": {},
   "outputs": [
    {
     "data": {
      "text/plain": [
       "0.22507620890381985"
      ]
     },
     "execution_count": 70,
     "metadata": {},
     "output_type": "execute_result"
    }
   ],
   "source": [
    "len(author_vc[author_vc['count'] == 2])/len(author_vc)"
   ]
  },
  {
   "cell_type": "code",
   "execution_count": 71,
   "id": "2d90bd2e-3eb5-4b07-b941-8cc9acd56c0f",
   "metadata": {},
   "outputs": [
    {
     "data": {
      "text/plain": [
       "0.13840956043086344"
      ]
     },
     "execution_count": 71,
     "metadata": {},
     "output_type": "execute_result"
    }
   ],
   "source": [
    "len(author_vc[\n",
    "    (author_vc['count'] > 2)\n",
    "    & (author_vc['count'] <= 10)\n",
    "    ])/len(author_vc)"
   ]
  },
  {
   "cell_type": "code",
   "execution_count": 72,
   "id": "56dab578-3ee2-4a19-968d-6e67212d26d4",
   "metadata": {},
   "outputs": [
    {
     "data": {
      "text/plain": [
       "0.008713877525400694"
      ]
     },
     "execution_count": 72,
     "metadata": {},
     "output_type": "execute_result"
    }
   ],
   "source": [
    "len(author_vc[\n",
    "    (author_vc['count'] > 10)\n",
    "    & (author_vc['count'] <= 100)\n",
    "    ])/len(author_vc)"
   ]
  },
  {
   "cell_type": "code",
   "execution_count": 82,
   "id": "3820d8e0-fb4c-49e7-8eee-67018d315933",
   "metadata": {},
   "outputs": [
    {
     "name": "stdout",
     "output_type": "stream",
     "text": [
      "0.00003\n"
     ]
    }
   ],
   "source": [
    "n = len(author_vc[\n",
    "    (author_vc['count'] > 100)\n",
    "    & (author_vc['count'] <= 500)\n",
    "    ])/len(author_vc)\n",
    "n\n",
    "print(f'{n:.5f}')"
   ]
  },
  {
   "attachments": {},
   "cell_type": "markdown",
   "id": "89c4bb25-e631-469d-b4ed-ff5455fd616b",
   "metadata": {},
   "source": [
    "#### Key takeaways about the `author` field from the explorations above:  \n",
    "- 2.6% of posts with the author name deleted (`[deleted]`).\n",
    "  - For these posts, we do not know who the original author is. Many reddit users use throw-away accounts to post sensitive or embarrassing questions, so it is not unusual to see deleted author names.  \n",
    "- 63% of authors posted once\n",
    "- 23% of authors posted twice\n",
    "- 14% of authors posted 3-10 times\n",
    "- 0.9% of authors posted 11-100 times\n",
    "- 0.003% of authors posted over 100 times\n",
    "\n",
    "#### Analysis ideas for this field:  \n",
    "- categorizing authors by post frequency and anonymity (deleted-name posters, one-time posters, few-times posters, hyper posters) could be an interesting model feature  "
   ]
  },
  {
   "cell_type": "markdown",
   "id": "c012064d-0569-4b6d-a34e-b4d13e3a1ec1",
   "metadata": {},
   "source": [
    "### author_flair_text"
   ]
  },
  {
   "cell_type": "code",
   "execution_count": 298,
   "id": "055f99fe-66ce-4767-9a46-d05529da0aa9",
   "metadata": {},
   "outputs": [
    {
     "data": {
      "text/plain": [
       "'https://www.reddit.com/r/AskDocs/comments/db3in6/small_pustules_on_toddler_neck/'"
      ]
     },
     "execution_count": 298,
     "metadata": {},
     "output_type": "execute_result"
    }
   ],
   "source": [
    "df[df['author_flair_text'] == 'Nurse'].iloc[0]['url']"
   ]
  },
  {
   "cell_type": "code",
   "execution_count": 279,
   "id": "c3f79df0-bec8-4345-bef8-fb268a03dfe8",
   "metadata": {},
   "outputs": [
    {
     "data": {
      "text/html": [
       "<div>\n",
       "<style scoped>\n",
       "    .dataframe tbody tr th:only-of-type {\n",
       "        vertical-align: middle;\n",
       "    }\n",
       "\n",
       "    .dataframe tbody tr th {\n",
       "        vertical-align: top;\n",
       "    }\n",
       "\n",
       "    .dataframe thead th {\n",
       "        text-align: right;\n",
       "    }\n",
       "</style>\n",
       "<table border=\"1\" class=\"dataframe\">\n",
       "  <thead>\n",
       "    <tr style=\"text-align: right;\">\n",
       "      <th></th>\n",
       "      <th>author_flair_text</th>\n",
       "      <th>count</th>\n",
       "    </tr>\n",
       "  </thead>\n",
       "  <tbody>\n",
       "    <tr>\n",
       "      <th>0</th>\n",
       "      <td>This user has not yet been verified.</td>\n",
       "      <td>320863</td>\n",
       "    </tr>\n",
       "    <tr>\n",
       "      <th>1</th>\n",
       "      <td>NaN</td>\n",
       "      <td>235653</td>\n",
       "    </tr>\n",
       "    <tr>\n",
       "      <th>2</th>\n",
       "      <td>Layperson/not verified as healthcare professional</td>\n",
       "      <td>90950</td>\n",
       "    </tr>\n",
       "    <tr>\n",
       "      <th>3</th>\n",
       "      <td>Layperson/not verified as healthcare professio...</td>\n",
       "      <td>34933</td>\n",
       "    </tr>\n",
       "    <tr>\n",
       "      <th>4</th>\n",
       "      <td>Medical Student</td>\n",
       "      <td>120</td>\n",
       "    </tr>\n",
       "    <tr>\n",
       "      <th>...</th>\n",
       "      <td>...</td>\n",
       "      <td>...</td>\n",
       "    </tr>\n",
       "    <tr>\n",
       "      <th>120</th>\n",
       "      <td>Medical Pathology Scientist</td>\n",
       "      <td>1</td>\n",
       "    </tr>\n",
       "    <tr>\n",
       "      <th>121</th>\n",
       "      <td>Neuroscientist</td>\n",
       "      <td>1</td>\n",
       "    </tr>\n",
       "    <tr>\n",
       "      <th>122</th>\n",
       "      <td>MD - Clinical Pharmacologist</td>\n",
       "      <td>1</td>\n",
       "    </tr>\n",
       "    <tr>\n",
       "      <th>123</th>\n",
       "      <td>Certified Counselor</td>\n",
       "      <td>1</td>\n",
       "    </tr>\n",
       "    <tr>\n",
       "      <th>124</th>\n",
       "      <td>Certified Athletic Trainer</td>\n",
       "      <td>1</td>\n",
       "    </tr>\n",
       "  </tbody>\n",
       "</table>\n",
       "<p>125 rows × 2 columns</p>\n",
       "</div>"
      ],
      "text/plain": [
       "                                     author_flair_text   count\n",
       "0                 This user has not yet been verified.  320863\n",
       "1                                                  NaN  235653\n",
       "2    Layperson/not verified as healthcare professional   90950\n",
       "3    Layperson/not verified as healthcare professio...   34933\n",
       "4                                      Medical Student     120\n",
       "..                                                 ...     ...\n",
       "120                        Medical Pathology Scientist       1\n",
       "121                                     Neuroscientist       1\n",
       "122                       MD - Clinical Pharmacologist       1\n",
       "123                                Certified Counselor       1\n",
       "124                         Certified Athletic Trainer       1\n",
       "\n",
       "[125 rows x 2 columns]"
      ]
     },
     "execution_count": 279,
     "metadata": {},
     "output_type": "execute_result"
    }
   ],
   "source": [
    "author_flairs_vc = df['author_flair_text'].value_counts(dropna=False).reset_index()\n",
    "author_flairs_vc"
   ]
  },
  {
   "cell_type": "code",
   "execution_count": 86,
   "id": "c3de4945-35c8-4d97-bc09-0115d2bdce65",
   "metadata": {},
   "outputs": [
    {
     "data": {
      "text/plain": [
       "author_flair_text\n",
       "This user has not yet been verified.                  0.469646\n",
       "NaN                                                   0.344924\n",
       "Layperson/not verified as healthcare professional     0.133123\n",
       "Layperson/not verified as healthcare professional.    0.051131\n",
       "Medical Student                                       0.000176\n",
       "Registered Nurse                                      0.000176\n",
       "🤖                                                     0.000081\n",
       "Physician                                             0.000059\n",
       "EMT                                                   0.000044\n",
       "Nursing Student                                       0.000042\n",
       "EMT-B                                                 0.000040\n",
       "Medical Assistant                                     0.000034\n",
       "Founder                                               0.000025\n",
       "Social Worker/LCSW                                    0.000023\n",
       "Paramedic                                             0.000019\n",
       "Pharmacist                                            0.000019\n",
       "Nurse Aide                                            0.000016\n",
       "Medical student                                       0.000016\n",
       "Speech-Language Pathologist                           0.000013\n",
       " Registered Nurse                                     0.000013\n",
       "Name: proportion, dtype: float64"
      ]
     },
     "execution_count": 86,
     "metadata": {},
     "output_type": "execute_result"
    }
   ],
   "source": [
    "df['author_flair_text'].value_counts(dropna=False, normalize=True).head(20)"
   ]
  },
  {
   "cell_type": "code",
   "execution_count": 92,
   "id": "85651f56-583c-4c8e-9a2c-327d55824ad6",
   "metadata": {},
   "outputs": [
    {
     "name": "stdout",
     "output_type": "stream",
     "text": [
      "125\n",
      "[nan, 'This user has not yet been verified.', 'Psychologist', 'Medical Student', 'Nursing Student', 'Nursing Graduate, RPN', 'Registered Nurse', 'Biomedical Student', 'B.S., Medical Lab Sciences', 'EMT', 'Physician', 'Moderator', 'Pharmacist', 'Pharm.D. Student', 'Physician Assistant', 'Internal Medicine Resident', 'Paramedic student', 'Epidemiologist', 'Student Radiographer', 'Surgeon | Moderator', 'EMT-B', 'Founder', 'PhD Biobehavioral Health', 'Sports Massage Therapist', 'Midwife', 'MD - Clinical Pharmacologist', 'BSN-RN', 'Speech Pathologist', 'Test Flair - Physician', 'Resident Physician, Med/Peds', 'Speech Language Pathologist', '🤖', 'Physician, IM/Peds | Moderator', 'Paramedic', 'RN', 'Medical student', 'Bachelor of Biomedicine', 'Medical Technologist - Microbiology', 'Physical Therapist ', 'Pharmacy Student', 'Speech-Language Pathologist', 'EMT, BSN Student', 'PhD, Pharmacology Researcher', 'Medical Assistant', 'Physician | Moderator', 'BSN Student', 'Radiologic Technologist', 'slp', 'Psychiatric Nurse Practitioner', 'Nurse', 'EM/IM Physician | Moderator', 'Physician - Cardiology', 'Path Asst/Med Lab Tech', ' Registered nurse', 'Physical Therapist', 'Social Worker/LCSW', 'Nursing student', 'Clinical Counselor', 'Licensed Vocational Nurse', ' Registered Nurse', 'PharmD / Med Student', 'Physician, Emergency Medicine | Moderator', 'Behavioral Technician', 'Certified Nurse Midwife', 'Respiratory Therapist', 'Physical Therapist (DPT)', 'Automod', 'Therapist', 'LPN', 'Nurse Aide', 'Physician | Moderator | Top Contributor', 'Registered Midwife', 'Prosthetist', 'SLP', 'Dentist', 'Pharmacy Technician', 'Licensed Professional Counselor', 'Otolaryngologist (ENT)', 'Clinical Psychologist', 'Dialysis Technician', 'Neonatal Nurse Practitioner', 'Ophthalmic Assistant', 'Emergency Medical Technician', 'Mental Health Professional', 'PharmD', 'Medical Laboratory Scientist', 'Physician - Psychiatrist', 'Diagnostic Medical Sonographer', 'Layperson/not verified as healthcare professional.', 'Physician/Neurosurgeon', 'Layperson/not verified as healthcare professional', 'Nurse Practitioner', 'Occupational Therapist', 'Medical Pathology Scientist', 'Neuroscientist', 'Physician - Diagnostic Radiology', 'Counselor', 'Certified Counselor', 'Licensed Clinical Social Worker', 'Licensed Vocational Nurse (retired)', 'Physician - Internal Medicine', 'A-EMT', 'Medical Sonographer (Ultrasound)', 'Physician - General Surgery', 'Physician - Neurology', 'Counsellor', 'Physician - Pediatrics', 'Pharmacy Tech/Medical Assistant', 'Licensed Alcohol and Drug Counselor', 'Laboratory Technician', 'MSW, Clinical Social Worker', 'Medical Technologist', 'Medical Laboratory Technician', 'Registered Nurse - Moderator - Top Contributor ', 'CT Scan Technologist', 'Emergency Department Technician', 'Registered Dietitian', 'Mental Health Technician', 'Sonographer', 'Behavioral Health Counselor', 'Clinical Research Nurse', 'Radiographer', 'Registered Medical Assistant', 'Physician - Radiology', 'Certified Athletic Trainer']\n"
     ]
    }
   ],
   "source": [
    "author_flairs_list = list(df['author_flair_text'].unique())\n",
    "print(len(author_flairs_list))\n",
    "print(author_flairs_list)"
   ]
  },
  {
   "cell_type": "markdown",
   "id": "b1966803-d8b1-49d7-bbb8-9b5a6a0d85aa",
   "metadata": {},
   "source": [
    "The values in this field could greatly benefit from standardization, so let's do that."
   ]
  },
  {
   "cell_type": "code",
   "execution_count": 290,
   "id": "5e0d1c86-5c8d-4e9a-ab48-e11ee2a0c750",
   "metadata": {},
   "outputs": [
    {
     "name": "stdout",
     "output_type": "stream",
     "text": [
      "\"unverified\" flairs count: 4\n",
      "\"psychology/psychiatry\" flairs count: 16\n",
      "\"student\" flairs count: 12\n",
      "\"nurse\" flairs count: 19\n",
      "\"laboratory/pathology\" flairs count: 9\n",
      "\"EMT/paramedics/emergency medicine\" flairs count: 10\n",
      "\"physician\" flairs count: 17\n",
      "\"moderator\" flairs count: 8\n",
      "\"pharmacology/pharmacy\" flairs count: 9\n",
      "\"physician assistant\" flairs count: 4\n",
      "\"internal medicine\" flairs count: 4\n",
      "\"epidemiology\" flairs count: 1\n",
      "\"medical imaging\" flairs count: 9\n",
      "\"surgery\" flairs count: 2\n",
      "\"physical/occupational/sports therapist/trainer\" flairs count: 6\n",
      "\"midwife\" flairs count: 3\n",
      "\"speech language pathology\" flairs count: 5\n",
      "\"pedicatrics\" flairs count: 3\n",
      "\"bot\" flairs count: 2\n",
      "\"cardiology\" flairs count: 1\n",
      "\"social worker\" flairs count: 3\n",
      "\"respiratory therapy\" flairs count: 1\n",
      "\"prosthetics\" flairs count: 1\n",
      "\"dentistry\" flairs count: 1\n",
      "\"ENT\" flairs count: 1\n",
      "\"dialysis technician\" flairs count: 1\n",
      "\"ophthalmology\" flairs count: 1\n",
      "\"neuroscience\" flairs count: 3\n",
      "\"nutrition\" flairs count: 1\n"
     ]
    }
   ],
   "source": [
    "flairs_dict = defaultdict(list)\n",
    "unverified_flairs = []\n",
    "\n",
    "student_flairs = []\n",
    "nurse_flairs = []\n",
    "\n",
    "for f in author_flairs_list:\n",
    "    if type(f) == str:\n",
    "        # Bot\n",
    "        if re.search(r'(\\bautomod|🤖)', f, flags=re.IGNORECASE):\n",
    "            flairs_dict['bot'].append(f)\n",
    "        # Moderator\n",
    "        if re.search(r'\\bmoderator', f, flags=re.IGNORECASE):\n",
    "            flairs_dict['moderator'].append(f)\n",
    "            \n",
    "        # Unverified/layperson\n",
    "        if re.search(r'\\b(layperson|not.* verified)\\b', f, flags=re.IGNORECASE):\n",
    "            flairs_dict['unverified'].append(f)\n",
    "\n",
    "        # medical occupation\n",
    "        if re.search(r'\\bstudent\\b', f, flags=re.IGNORECASE):\n",
    "            flairs_dict['student'].append(f)\n",
    "        if re.search(r'\\bphysician\\b(?! assistant)', f, flags=re.IGNORECASE):\n",
    "            flairs_dict['physician'].append(f)\n",
    "\n",
    "        # medical specialty\n",
    "        if re.search(r'\\b(nurs(e|ing)|RN|LPN)\\b', f, flags=re.IGNORECASE):\n",
    "            flairs_dict['nurse'].append(f)\n",
    "        if re.search(r'(\\b((bio)?Behavior|Counsell?or|Psych|Mental Health)|^Therapist$)', f, flags=re.IGNORECASE):\n",
    "            flairs_dict['psychology/psychiatry'].append(f)\n",
    "        if re.search(r'(\\bEMT\\b|\\bEmergency.*(Tech|medicine)|Paramedic|\\bEM\\b)', f, flags=re.IGNORECASE):\n",
    "            flairs_dict['EMT/paramedics/emergency medicine'].append(f)\n",
    "        if re.search(r'\\b(social work|LCSW|MSW)', f, flags=re.IGNORECASE):\n",
    "            flairs_dict['social worker'].append(f)\n",
    "        if re.search(r'\\b(Speech.*Pathologist|SLP)\\b', f, flags=re.IGNORECASE):\n",
    "            flairs_dict['speech language pathology'].append(f)\n",
    "        if re.search(r'(laboratory|\\blabs?\\b|medical (patholog|tech))', f, flags=re.IGNORECASE):\n",
    "            flairs_dict['laboratory/pathology'].append(f)\n",
    "        if re.search(r'\\b(physician|medical) assistant\\b', f, flags=re.IGNORECASE):\n",
    "            flairs_dict['physician assistant'].append(f)\n",
    "        if re.search(r'\\b(radio|CA?T scan|sonograph)', f, flags=re.IGNORECASE):\n",
    "            flairs_dict['medical imaging'].append(f)\n",
    "        if re.search(r'\\b((physical|Occupational|massage) therapist|trainer)', f, flags=re.IGNORECASE):\n",
    "            flairs_dict['physical/occupational/sports therapist/trainer'].append(f)\n",
    "        if re.search(r'\\bpharm', f, flags=re.IGNORECASE):\n",
    "            flairs_dict['pharmacology/pharmacy'].append(f)\n",
    "        if re.search(r'\\b(internal medicine|IM)\\b', f, flags=re.IGNORECASE):\n",
    "            flairs_dict['internal medicine'].append(f)\n",
    "        if re.search(r'\\bsurge', f, flags=re.IGNORECASE):\n",
    "            flairs_dict['surgery'].append(f)\n",
    "        if re.search(r'\\bmidwife', f, flags=re.IGNORECASE):\n",
    "            flairs_dict['midwife'].append(f)\n",
    "        if re.search(r'\\bneuro', f, flags=re.IGNORECASE):\n",
    "            flairs_dict['neuroscience'].append(f)\n",
    "        if re.search(r'(\\bpediat|\\bpeds\\b)', f, flags=re.IGNORECASE):\n",
    "            flairs_dict['pedicatrics'].append(f)\n",
    "        if re.search(r'\\bdent', f, flags=re.IGNORECASE):\n",
    "            flairs_dict['dentistry'].append(f)\n",
    "        if re.search(r'dialysis', f, flags=re.IGNORECASE):\n",
    "            flairs_dict['dialysis technician'].append(f)\n",
    "        if re.search(r'epidemiolog', f, flags=re.IGNORECASE):\n",
    "            flairs_dict['epidemiology'].append(f)\n",
    "        if re.search(r'Ophthalm', f, flags=re.IGNORECASE):\n",
    "            flairs_dict['ophthalmology'].append(f)\n",
    "        if re.search(r'Otolaryngologist|\\bENT\\b', f, flags=re.IGNORECASE):\n",
    "            flairs_dict['ENT'].append(f)\n",
    "        if re.search(r'cardiol', f, flags=re.IGNORECASE):\n",
    "            flairs_dict['cardiology'].append(f)\n",
    "        if re.search(r'\\bprosthet', f, flags=re.IGNORECASE):\n",
    "            flairs_dict['prosthetics'].append(f)\n",
    "        if re.search(r'dieti|nutriti', f, flags=re.IGNORECASE):\n",
    "            flairs_dict['nutrition'].append(f)\n",
    "        if re.search(r'respiratory therap', f, flags=re.IGNORECASE):\n",
    "            flairs_dict['respiratory therapy'].append(f)\n",
    "\n",
    "    else:\n",
    "        flairs_dict['unverified'].append(f)\n",
    "\n",
    "for f in flairs_dict:\n",
    "    print(f'\"{f}\" flairs count: {len(flairs_dict[f])}')"
   ]
  },
  {
   "cell_type": "code",
   "execution_count": 291,
   "id": "3d4ddcc2-48a1-4b26-8039-6d37823fccb0",
   "metadata": {},
   "outputs": [
    {
     "data": {
      "text/plain": [
       "29"
      ]
     },
     "execution_count": 291,
     "metadata": {},
     "output_type": "execute_result"
    }
   ],
   "source": [
    "len(flairs_dict)"
   ]
  },
  {
   "cell_type": "code",
   "execution_count": 293,
   "id": "23b6ecaf-09f6-4730-a8ad-a55869ae6e77",
   "metadata": {},
   "outputs": [
    {
     "name": "stdout",
     "output_type": "stream",
     "text": [
      "#################################\n",
      "\"unverified\" flairs\n",
      "#################################\n",
      "\n",
      "Posts count: 682,399 (0.9988% of dataset)\n",
      "\n",
      "--- Flairs list:  ----\n",
      "nan\n",
      "This user has not yet been verified.\n",
      "Layperson/not verified as healthcare professional.\n",
      "Layperson/not verified as healthcare professional\n",
      "-----------------------\n",
      "\n",
      "\n",
      "#################################\n",
      "\"psychology/psychiatry\" flairs\n",
      "#################################\n",
      "\n",
      "Posts count: 38 (0.0001% of dataset)\n",
      "\n",
      "--- Flairs list:  ----\n",
      "Psychologist\n",
      "PhD Biobehavioral Health\n",
      "Psychiatric Nurse Practitioner\n",
      "Clinical Counselor\n",
      "Behavioral Technician\n",
      "Therapist\n",
      "Licensed Professional Counselor\n",
      "Clinical Psychologist\n",
      "Mental Health Professional\n",
      "Physician - Psychiatrist\n",
      "Counselor\n",
      "Certified Counselor\n",
      "Counsellor\n",
      "Licensed Alcohol and Drug Counselor\n",
      "Mental Health Technician\n",
      "Behavioral Health Counselor\n",
      "-----------------------\n",
      "\n",
      "\n",
      "#################################\n",
      "\"student\" flairs\n",
      "#################################\n",
      "\n",
      "Posts count: 188 (0.0003% of dataset)\n",
      "\n",
      "--- Flairs list:  ----\n",
      "Medical Student\n",
      "Nursing Student\n",
      "Biomedical Student\n",
      "Pharm.D. Student\n",
      "Paramedic student\n",
      "Student Radiographer\n",
      "Medical student\n",
      "Pharmacy Student\n",
      "EMT, BSN Student\n",
      "BSN Student\n",
      "Nursing student\n",
      "PharmD / Med Student\n",
      "-----------------------\n",
      "\n",
      "\n",
      "#################################\n",
      "\"nurse\" flairs\n",
      "#################################\n",
      "\n",
      "Posts count: 222 (0.0003% of dataset)\n",
      "\n",
      "--- Flairs list:  ----\n",
      "Nursing Student\n",
      "Nursing Graduate, RPN\n",
      "Registered Nurse\n",
      "BSN-RN\n",
      "RN\n",
      "Psychiatric Nurse Practitioner\n",
      "Nurse\n",
      " Registered nurse\n",
      "Nursing student\n",
      "Licensed Vocational Nurse\n",
      " Registered Nurse\n",
      "Certified Nurse Midwife\n",
      "LPN\n",
      "Nurse Aide\n",
      "Neonatal Nurse Practitioner\n",
      "Nurse Practitioner\n",
      "Licensed Vocational Nurse (retired)\n",
      "Registered Nurse - Moderator - Top Contributor \n",
      "Clinical Research Nurse\n",
      "-----------------------\n",
      "\n",
      "\n",
      "#################################\n",
      "\"laboratory/pathology\" flairs\n",
      "#################################\n",
      "\n",
      "Posts count: 32 (0.0000% of dataset)\n",
      "\n",
      "--- Flairs list:  ----\n",
      "B.S., Medical Lab Sciences\n",
      "Medical Technologist - Microbiology\n",
      "Path Asst/Med Lab Tech\n",
      "Emergency Medical Technician\n",
      "Medical Laboratory Scientist\n",
      "Medical Pathology Scientist\n",
      "Laboratory Technician\n",
      "Medical Technologist\n",
      "Medical Laboratory Technician\n",
      "-----------------------\n",
      "\n",
      "\n",
      "#################################\n",
      "\"EMT/paramedics/emergency medicine\" flairs\n",
      "#################################\n",
      "\n",
      "Posts count: 86 (0.0001% of dataset)\n",
      "\n",
      "--- Flairs list:  ----\n",
      "EMT\n",
      "Paramedic student\n",
      "EMT-B\n",
      "Paramedic\n",
      "EMT, BSN Student\n",
      "EM/IM Physician | Moderator\n",
      "Physician, Emergency Medicine | Moderator\n",
      "Emergency Medical Technician\n",
      "A-EMT\n",
      "Emergency Department Technician\n",
      "-----------------------\n",
      "\n",
      "\n",
      "#################################\n",
      "\"physician\" flairs\n",
      "#################################\n",
      "\n",
      "Posts count: 66 (0.0001% of dataset)\n",
      "\n",
      "--- Flairs list:  ----\n",
      "Physician\n",
      "Test Flair - Physician\n",
      "Resident Physician, Med/Peds\n",
      "Physician, IM/Peds | Moderator\n",
      "Physician | Moderator\n",
      "EM/IM Physician | Moderator\n",
      "Physician - Cardiology\n",
      "Physician, Emergency Medicine | Moderator\n",
      "Physician | Moderator | Top Contributor\n",
      "Physician - Psychiatrist\n",
      "Physician/Neurosurgeon\n",
      "Physician - Diagnostic Radiology\n",
      "Physician - Internal Medicine\n",
      "Physician - General Surgery\n",
      "Physician - Neurology\n",
      "Physician - Pediatrics\n",
      "Physician - Radiology\n",
      "-----------------------\n",
      "\n",
      "\n",
      "#################################\n",
      "\"moderator\" flairs\n",
      "#################################\n",
      "\n",
      "Posts count: 20 (0.0000% of dataset)\n",
      "\n",
      "--- Flairs list:  ----\n",
      "Moderator\n",
      "Surgeon | Moderator\n",
      "Physician, IM/Peds | Moderator\n",
      "Physician | Moderator\n",
      "EM/IM Physician | Moderator\n",
      "Physician, Emergency Medicine | Moderator\n",
      "Physician | Moderator | Top Contributor\n",
      "Registered Nurse - Moderator - Top Contributor \n",
      "-----------------------\n",
      "\n",
      "\n",
      "#################################\n",
      "\"pharmacology/pharmacy\" flairs\n",
      "#################################\n",
      "\n",
      "Posts count: 34 (0.0000% of dataset)\n",
      "\n",
      "--- Flairs list:  ----\n",
      "Pharmacist\n",
      "Pharm.D. Student\n",
      "MD - Clinical Pharmacologist\n",
      "Pharmacy Student\n",
      "PhD, Pharmacology Researcher\n",
      "PharmD / Med Student\n",
      "Pharmacy Technician\n",
      "PharmD\n",
      "Pharmacy Tech/Medical Assistant\n",
      "-----------------------\n",
      "\n",
      "\n",
      "#################################\n",
      "\"physician assistant\" flairs\n",
      "#################################\n",
      "\n",
      "Posts count: 27 (0.0000% of dataset)\n",
      "\n",
      "--- Flairs list:  ----\n",
      "Physician Assistant\n",
      "Medical Assistant\n",
      "Pharmacy Tech/Medical Assistant\n",
      "Registered Medical Assistant\n",
      "-----------------------\n",
      "\n",
      "\n",
      "#################################\n",
      "\"internal medicine\" flairs\n",
      "#################################\n",
      "\n",
      "Posts count: 6 (0.0000% of dataset)\n",
      "\n",
      "--- Flairs list:  ----\n",
      "Internal Medicine Resident\n",
      "Physician, IM/Peds | Moderator\n",
      "EM/IM Physician | Moderator\n",
      "Physician - Internal Medicine\n",
      "-----------------------\n",
      "\n",
      "\n",
      "#################################\n",
      "\"epidemiology\" flairs\n",
      "#################################\n",
      "\n",
      "Posts count: 2 (0.0000% of dataset)\n",
      "\n",
      "--- Flairs list:  ----\n",
      "Epidemiologist\n",
      "-----------------------\n",
      "\n",
      "\n",
      "#################################\n",
      "\"medical imaging\" flairs\n",
      "#################################\n",
      "\n",
      "Posts count: 21 (0.0000% of dataset)\n",
      "\n",
      "--- Flairs list:  ----\n",
      "Student Radiographer\n",
      "Radiologic Technologist\n",
      "Diagnostic Medical Sonographer\n",
      "Physician - Diagnostic Radiology\n",
      "Medical Sonographer (Ultrasound)\n",
      "CT Scan Technologist\n",
      "Sonographer\n",
      "Radiographer\n",
      "Physician - Radiology\n",
      "-----------------------\n",
      "\n",
      "\n",
      "#################################\n",
      "\"surgery\" flairs\n",
      "#################################\n",
      "\n",
      "Posts count: 7 (0.0000% of dataset)\n",
      "\n",
      "--- Flairs list:  ----\n",
      "Surgeon | Moderator\n",
      "Physician - General Surgery\n",
      "-----------------------\n",
      "\n",
      "\n",
      "#################################\n",
      "\"physical/occupational/sports therapist/trainer\" flairs\n",
      "#################################\n",
      "\n",
      "Posts count: 10 (0.0000% of dataset)\n",
      "\n",
      "--- Flairs list:  ----\n",
      "Sports Massage Therapist\n",
      "Physical Therapist \n",
      "Physical Therapist\n",
      "Physical Therapist (DPT)\n",
      "Occupational Therapist\n",
      "Certified Athletic Trainer\n",
      "-----------------------\n",
      "\n",
      "\n",
      "#################################\n",
      "\"midwife\" flairs\n",
      "#################################\n",
      "\n",
      "Posts count: 9 (0.0000% of dataset)\n",
      "\n",
      "--- Flairs list:  ----\n",
      "Midwife\n",
      "Certified Nurse Midwife\n",
      "Registered Midwife\n",
      "-----------------------\n",
      "\n",
      "\n",
      "#################################\n",
      "\"speech language pathology\" flairs\n",
      "#################################\n",
      "\n",
      "Posts count: 20 (0.0000% of dataset)\n",
      "\n",
      "--- Flairs list:  ----\n",
      "Speech Pathologist\n",
      "Speech Language Pathologist\n",
      "Speech-Language Pathologist\n",
      "slp\n",
      "SLP\n",
      "-----------------------\n",
      "\n",
      "\n",
      "#################################\n",
      "\"pedicatrics\" flairs\n",
      "#################################\n",
      "\n",
      "Posts count: 3 (0.0000% of dataset)\n",
      "\n",
      "--- Flairs list:  ----\n",
      "Resident Physician, Med/Peds\n",
      "Physician, IM/Peds | Moderator\n",
      "Physician - Pediatrics\n",
      "-----------------------\n",
      "\n",
      "\n",
      "#################################\n",
      "\"bot\" flairs\n",
      "#################################\n",
      "\n",
      "Posts count: 60 (0.0001% of dataset)\n",
      "\n",
      "--- Flairs list:  ----\n",
      "🤖\n",
      "Automod\n",
      "-----------------------\n",
      "\n",
      "\n",
      "#################################\n",
      "\"cardiology\" flairs\n",
      "#################################\n",
      "\n",
      "Posts count: 1 (0.0000% of dataset)\n",
      "\n",
      "--- Flairs list:  ----\n",
      "Physician - Cardiology\n",
      "-----------------------\n",
      "\n",
      "\n",
      "#################################\n",
      "\"social worker\" flairs\n",
      "#################################\n",
      "\n",
      "Posts count: 20 (0.0000% of dataset)\n",
      "\n",
      "--- Flairs list:  ----\n",
      "Social Worker/LCSW\n",
      "Licensed Clinical Social Worker\n",
      "MSW, Clinical Social Worker\n",
      "-----------------------\n",
      "\n",
      "\n",
      "#################################\n",
      "\"respiratory therapy\" flairs\n",
      "#################################\n",
      "\n",
      "Posts count: 3 (0.0000% of dataset)\n",
      "\n",
      "--- Flairs list:  ----\n",
      "Respiratory Therapist\n",
      "-----------------------\n",
      "\n",
      "\n",
      "#################################\n",
      "\"prosthetics\" flairs\n",
      "#################################\n",
      "\n",
      "Posts count: 2 (0.0000% of dataset)\n",
      "\n",
      "--- Flairs list:  ----\n",
      "Prosthetist\n",
      "-----------------------\n",
      "\n",
      "\n",
      "#################################\n",
      "\"dentistry\" flairs\n",
      "#################################\n",
      "\n",
      "Posts count: 1 (0.0000% of dataset)\n",
      "\n",
      "--- Flairs list:  ----\n",
      "Dentist\n",
      "-----------------------\n",
      "\n",
      "\n",
      "#################################\n",
      "\"ENT\" flairs\n",
      "#################################\n",
      "\n",
      "Posts count: 2 (0.0000% of dataset)\n",
      "\n",
      "--- Flairs list:  ----\n",
      "Otolaryngologist (ENT)\n",
      "-----------------------\n",
      "\n",
      "\n",
      "#################################\n",
      "\"dialysis technician\" flairs\n",
      "#################################\n",
      "\n",
      "Posts count: 2 (0.0000% of dataset)\n",
      "\n",
      "--- Flairs list:  ----\n",
      "Dialysis Technician\n",
      "-----------------------\n",
      "\n",
      "\n",
      "#################################\n",
      "\"ophthalmology\" flairs\n",
      "#################################\n",
      "\n",
      "Posts count: 1 (0.0000% of dataset)\n",
      "\n",
      "--- Flairs list:  ----\n",
      "Ophthalmic Assistant\n",
      "-----------------------\n",
      "\n",
      "\n",
      "#################################\n",
      "\"neuroscience\" flairs\n",
      "#################################\n",
      "\n",
      "Posts count: 3 (0.0000% of dataset)\n",
      "\n",
      "--- Flairs list:  ----\n",
      "Physician/Neurosurgeon\n",
      "Neuroscientist\n",
      "Physician - Neurology\n",
      "-----------------------\n",
      "\n",
      "\n",
      "#################################\n",
      "\"nutrition\" flairs\n",
      "#################################\n",
      "\n",
      "Posts count: 1 (0.0000% of dataset)\n",
      "\n",
      "--- Flairs list:  ----\n",
      "Registered Dietitian\n",
      "-----------------------\n",
      "\n",
      "\n"
     ]
    }
   ],
   "source": [
    "for f in flairs_dict:\n",
    "    print(f'#################################\\n\"{f}\" flairs\\n#################################\\n')\n",
    "    \n",
    "    nobs = author_flairs_vc[author_flairs_vc['author_flair_text'].isin(flairs_dict[f])]\\\n",
    "        ['count'].sum()\n",
    "    print(f'Posts count: {nobs:,} ({nobs/len(df):.4f}% of dataset)\\n')\n",
    "\n",
    "    print('--- Flairs list:  ----')\n",
    "    for i in flairs_dict[f]:\n",
    "        print(i)\n",
    "    print('-----------------------\\n\\n')"
   ]
  },
  {
   "cell_type": "code",
   "execution_count": 274,
   "id": "f71fe947-1439-4dd4-898d-41817e62cd28",
   "metadata": {},
   "outputs": [],
   "source": [
    "all_flairs = {x for v in flairs_dict.values() for x in v}\n",
    "#all_flairs"
   ]
  },
  {
   "cell_type": "code",
   "execution_count": 275,
   "id": "d047cc2a-4d5f-403a-88b8-3b7acb13f2a3",
   "metadata": {},
   "outputs": [
    {
     "data": {
      "text/plain": [
       "{'Bachelor of Biomedicine', 'Founder'}"
      ]
     },
     "execution_count": 275,
     "metadata": {},
     "output_type": "execute_result"
    }
   ],
   "source": [
    "set(author_flairs_list).difference(all_flairs)"
   ]
  },
  {
   "cell_type": "code",
   "execution_count": 301,
   "id": "2727d25e-9c73-4356-a1d5-dc938a792094",
   "metadata": {},
   "outputs": [
    {
     "data": {
      "text/plain": [
       "60"
      ]
     },
     "execution_count": 301,
     "metadata": {},
     "output_type": "execute_result"
    }
   ],
   "source": [
    "len(df[df['author_flair_text'].isin(flairs_dict['bot'])])"
   ]
  },
  {
   "cell_type": "code",
   "execution_count": 303,
   "id": "873736f8-0af4-41b6-a5d3-3aff371509eb",
   "metadata": {},
   "outputs": [
    {
     "data": {
      "text/html": [
       "<div>\n",
       "<style scoped>\n",
       "    .dataframe tbody tr th:only-of-type {\n",
       "        vertical-align: middle;\n",
       "    }\n",
       "\n",
       "    .dataframe tbody tr th {\n",
       "        vertical-align: top;\n",
       "    }\n",
       "\n",
       "    .dataframe thead th {\n",
       "        text-align: right;\n",
       "    }\n",
       "</style>\n",
       "<table border=\"1\" class=\"dataframe\">\n",
       "  <thead>\n",
       "    <tr style=\"text-align: right;\">\n",
       "      <th></th>\n",
       "      <th>author</th>\n",
       "      <th>author_flair_text</th>\n",
       "      <th>domain</th>\n",
       "      <th>full_link</th>\n",
       "      <th>id</th>\n",
       "      <th>locked</th>\n",
       "      <th>num_comments</th>\n",
       "      <th>num_crossposts</th>\n",
       "      <th>over_18</th>\n",
       "      <th>score</th>\n",
       "      <th>selftext</th>\n",
       "      <th>title</th>\n",
       "      <th>url</th>\n",
       "      <th>crosspost_subreddits</th>\n",
       "      <th>full_post_text</th>\n",
       "      <th>created_utc_ns_dt</th>\n",
       "      <th>edited_utc_ns_dt</th>\n",
       "      <th>age</th>\n",
       "      <th>sex</th>\n",
       "    </tr>\n",
       "  </thead>\n",
       "  <tbody>\n",
       "    <tr>\n",
       "      <th>39821</th>\n",
       "      <td>darthbat</td>\n",
       "      <td>Moderator</td>\n",
       "      <td>self.AskDocs</td>\n",
       "      <td>https://www.reddit.com/r/AskDocs/comments/650y...</td>\n",
       "      <td>650yo9</td>\n",
       "      <td>False</td>\n",
       "      <td>2</td>\n",
       "      <td>NaN</td>\n",
       "      <td>False</td>\n",
       "      <td>2</td>\n",
       "      <td>Age: 57\\n\\nSex: Female\\n\\nHeight: 5' 1\"\\n\\nWei...</td>\n",
       "      <td>Friend has a (stone size)tumor (doesn't know i...</td>\n",
       "      <td>https://www.reddit.com/r/AskDocs/comments/650y...</td>\n",
       "      <td>NaN</td>\n",
       "      <td>Friend has a (stone size)tumor (doesn't know i...</td>\n",
       "      <td>1492030659000000000</td>\n",
       "      <td>NaN</td>\n",
       "      <td>57.0</td>\n",
       "      <td>NaN</td>\n",
       "    </tr>\n",
       "    <tr>\n",
       "      <th>90038</th>\n",
       "      <td>muscleups</td>\n",
       "      <td>Surgeon | Moderator</td>\n",
       "      <td>self.AskDocs</td>\n",
       "      <td>https://www.reddit.com/r/AskDocs/comments/90jx...</td>\n",
       "      <td>90jxk1</td>\n",
       "      <td>False</td>\n",
       "      <td>66</td>\n",
       "      <td>0.0</td>\n",
       "      <td>False</td>\n",
       "      <td>14</td>\n",
       "      <td>Please comment below what changes you feel wil...</td>\n",
       "      <td>[META] Survey: What features will make /r/askd...</td>\n",
       "      <td>https://www.reddit.com/r/AskDocs/comments/90jx...</td>\n",
       "      <td>NaN</td>\n",
       "      <td>[META] Survey: What features will make /r/askd...</td>\n",
       "      <td>1532121773000000000</td>\n",
       "      <td>NaN</td>\n",
       "      <td>NaN</td>\n",
       "      <td>NaN</td>\n",
       "    </tr>\n",
       "    <tr>\n",
       "      <th>90337</th>\n",
       "      <td>muscleups</td>\n",
       "      <td>Surgeon | Moderator</td>\n",
       "      <td>self.AskDocs</td>\n",
       "      <td>https://www.reddit.com/r/AskDocs/comments/902c...</td>\n",
       "      <td>902cgz</td>\n",
       "      <td>False</td>\n",
       "      <td>0</td>\n",
       "      <td>0.0</td>\n",
       "      <td>True</td>\n",
       "      <td>1</td>\n",
       "      <td>26m 230 lbs question test</td>\n",
       "      <td>Hello stool black</td>\n",
       "      <td>https://www.reddit.com/r/AskDocs/comments/902c...</td>\n",
       "      <td>NaN</td>\n",
       "      <td>Hello stool black | 26m 230 lbs question test</td>\n",
       "      <td>1531971466000000000</td>\n",
       "      <td>NaN</td>\n",
       "      <td>26.0</td>\n",
       "      <td>NaN</td>\n",
       "    </tr>\n",
       "    <tr>\n",
       "      <th>90338</th>\n",
       "      <td>muscleups</td>\n",
       "      <td>Surgeon | Moderator</td>\n",
       "      <td>self.AskDocs</td>\n",
       "      <td>https://www.reddit.com/r/AskDocs/comments/9029...</td>\n",
       "      <td>902934</td>\n",
       "      <td>False</td>\n",
       "      <td>0</td>\n",
       "      <td>0.0</td>\n",
       "      <td>True</td>\n",
       "      <td>1</td>\n",
       "      <td>26m 230 lbs question test</td>\n",
       "      <td>26m 230 lbs question test balls?</td>\n",
       "      <td>https://www.reddit.com/r/AskDocs/comments/9029...</td>\n",
       "      <td>NaN</td>\n",
       "      <td>26m 230 lbs question test balls? | 26m 230 lbs...</td>\n",
       "      <td>1531970668000000000</td>\n",
       "      <td>NaN</td>\n",
       "      <td>26.0</td>\n",
       "      <td>NaN</td>\n",
       "    </tr>\n",
       "    <tr>\n",
       "      <th>90339</th>\n",
       "      <td>muscleups</td>\n",
       "      <td>Surgeon | Moderator</td>\n",
       "      <td>self.AskDocs</td>\n",
       "      <td>https://www.reddit.com/r/AskDocs/comments/9028...</td>\n",
       "      <td>9028zk</td>\n",
       "      <td>False</td>\n",
       "      <td>0</td>\n",
       "      <td>0.0</td>\n",
       "      <td>False</td>\n",
       "      <td>1</td>\n",
       "      <td>26m 230 lbs question test</td>\n",
       "      <td>Automod test- please ignore . Penis?</td>\n",
       "      <td>https://www.reddit.com/r/AskDocs/comments/9028...</td>\n",
       "      <td>NaN</td>\n",
       "      <td>Automod test- please ignore . Penis? | 26m 230...</td>\n",
       "      <td>1531970645000000000</td>\n",
       "      <td>NaN</td>\n",
       "      <td>26.0</td>\n",
       "      <td>NaN</td>\n",
       "    </tr>\n",
       "    <tr>\n",
       "      <th>90340</th>\n",
       "      <td>muscleups</td>\n",
       "      <td>Surgeon | Moderator</td>\n",
       "      <td>self.AskDocs</td>\n",
       "      <td>https://www.reddit.com/r/AskDocs/comments/9028...</td>\n",
       "      <td>9028o7</td>\n",
       "      <td>False</td>\n",
       "      <td>0</td>\n",
       "      <td>0.0</td>\n",
       "      <td>False</td>\n",
       "      <td>1</td>\n",
       "      <td>26m 230 lbs question test M F . city, yes no</td>\n",
       "      <td>automod test- ignore</td>\n",
       "      <td>https://www.reddit.com/r/AskDocs/comments/9028...</td>\n",
       "      <td>NaN</td>\n",
       "      <td>automod test- ignore | 26m 230 lbs question te...</td>\n",
       "      <td>1531970564000000000</td>\n",
       "      <td>NaN</td>\n",
       "      <td>26.0</td>\n",
       "      <td>NaN</td>\n",
       "    </tr>\n",
       "    <tr>\n",
       "      <th>90342</th>\n",
       "      <td>muscleups</td>\n",
       "      <td>Surgeon | Moderator</td>\n",
       "      <td>self.AskDocs</td>\n",
       "      <td>https://www.reddit.com/r/AskDocs/comments/9027...</td>\n",
       "      <td>90273y</td>\n",
       "      <td>False</td>\n",
       "      <td>1</td>\n",
       "      <td>0.0</td>\n",
       "      <td>True</td>\n",
       "      <td>0</td>\n",
       "      <td>test test test</td>\n",
       "      <td>this is a test - please ignore</td>\n",
       "      <td>https://www.reddit.com/r/AskDocs/comments/9027...</td>\n",
       "      <td>NaN</td>\n",
       "      <td>this is a test - please ignore | test test test</td>\n",
       "      <td>1531970193000000000</td>\n",
       "      <td>NaN</td>\n",
       "      <td>NaN</td>\n",
       "      <td>NaN</td>\n",
       "    </tr>\n",
       "    <tr>\n",
       "      <th>134821</th>\n",
       "      <td>KingNebby</td>\n",
       "      <td>Physician, IM/Peds | Moderator</td>\n",
       "      <td>reddit.com</td>\n",
       "      <td>https://www.reddit.com/r/AskDocs/comments/adsw...</td>\n",
       "      <td>adswk7</td>\n",
       "      <td>False</td>\n",
       "      <td>9</td>\n",
       "      <td>0.0</td>\n",
       "      <td>False</td>\n",
       "      <td>1</td>\n",
       "      <td>NaN</td>\n",
       "      <td>That does for the lurkers here as well!!! :)</td>\n",
       "      <td>https://www.reddit.com/r/AskDocs/?st=JQNL9Y48&amp;...</td>\n",
       "      <td>medicine</td>\n",
       "      <td>That does for the lurkers here as well!!! :) |</td>\n",
       "      <td>1546942598000000000</td>\n",
       "      <td>NaN</td>\n",
       "      <td>NaN</td>\n",
       "      <td>NaN</td>\n",
       "    </tr>\n",
       "    <tr>\n",
       "      <th>181114</th>\n",
       "      <td>PokeTheVeil</td>\n",
       "      <td>Physician | Moderator</td>\n",
       "      <td>self.AskDocs</td>\n",
       "      <td>https://www.reddit.com/r/AskDocs/comments/bxoe...</td>\n",
       "      <td>bxoe50</td>\n",
       "      <td>False</td>\n",
       "      <td>17</td>\n",
       "      <td>0.0</td>\n",
       "      <td>False</td>\n",
       "      <td>3</td>\n",
       "      <td>I've been quietly doing it for posts I come ac...</td>\n",
       "      <td>Flair updates for new Reddit</td>\n",
       "      <td>https://www.reddit.com/r/AskDocs/comments/bxoe...</td>\n",
       "      <td>NaN</td>\n",
       "      <td>Flair updates for new Reddit | I've been quiet...</td>\n",
       "      <td>1559868753000000000</td>\n",
       "      <td>NaN</td>\n",
       "      <td>NaN</td>\n",
       "      <td>NaN</td>\n",
       "    </tr>\n",
       "    <tr>\n",
       "      <th>197527</th>\n",
       "      <td>PokeTheVeil</td>\n",
       "      <td>Physician | Moderator</td>\n",
       "      <td>self.AskDocs</td>\n",
       "      <td>https://www.reddit.com/r/AskDocs/comments/cuhv...</td>\n",
       "      <td>cuhvjv</td>\n",
       "      <td>False</td>\n",
       "      <td>93</td>\n",
       "      <td>0.0</td>\n",
       "      <td>False</td>\n",
       "      <td>771</td>\n",
       "      <td>We will shortly be rolling out an updated set ...</td>\n",
       "      <td>New rule: Only verified users may respond to i...</td>\n",
       "      <td>https://www.reddit.com/r/AskDocs/comments/cuhv...</td>\n",
       "      <td>NaN</td>\n",
       "      <td>New rule: Only verified users may respond to i...</td>\n",
       "      <td>1566585058000000000</td>\n",
       "      <td>NaN</td>\n",
       "      <td>NaN</td>\n",
       "      <td>NaN</td>\n",
       "    </tr>\n",
       "    <tr>\n",
       "      <th>209112</th>\n",
       "      <td>foremanMD</td>\n",
       "      <td>EM/IM Physician | Moderator</td>\n",
       "      <td>self.AskDocs</td>\n",
       "      <td>https://www.reddit.com/r/AskDocs/comments/d75k...</td>\n",
       "      <td>d75kvt</td>\n",
       "      <td>False</td>\n",
       "      <td>3</td>\n",
       "      <td>0.0</td>\n",
       "      <td>False</td>\n",
       "      <td>429</td>\n",
       "      <td>Hey guys \\n\\nRemember physicians that are dedi...</td>\n",
       "      <td>Keys to getting your post answered</td>\n",
       "      <td>https://www.reddit.com/r/AskDocs/comments/d75k...</td>\n",
       "      <td>NaN</td>\n",
       "      <td>Keys to getting your post answered | Hey guys ...</td>\n",
       "      <td>1569037402000000000</td>\n",
       "      <td>NaN</td>\n",
       "      <td>NaN</td>\n",
       "      <td>NaN</td>\n",
       "    </tr>\n",
       "    <tr>\n",
       "      <th>267857</th>\n",
       "      <td>tcc1</td>\n",
       "      <td>Physician, Emergency Medicine | Moderator</td>\n",
       "      <td>self.AskDocs</td>\n",
       "      <td>https://www.reddit.com/r/AskDocs/comments/f7hn...</td>\n",
       "      <td>f7hndq</td>\n",
       "      <td>False</td>\n",
       "      <td>2</td>\n",
       "      <td>0.0</td>\n",
       "      <td>False</td>\n",
       "      <td>1</td>\n",
       "      <td>Repeat offenders may be banned. Consider yours...</td>\n",
       "      <td>A reminder that directly messaging a provider ...</td>\n",
       "      <td>https://www.reddit.com/r/AskDocs/comments/f7hn...</td>\n",
       "      <td>NaN</td>\n",
       "      <td>A reminder that directly messaging a provider ...</td>\n",
       "      <td>1582319035000000000</td>\n",
       "      <td>NaN</td>\n",
       "      <td>NaN</td>\n",
       "      <td>NaN</td>\n",
       "    </tr>\n",
       "    <tr>\n",
       "      <th>277314</th>\n",
       "      <td>foremanMD</td>\n",
       "      <td>EM/IM Physician | Moderator</td>\n",
       "      <td>self.AskDocs</td>\n",
       "      <td>https://www.reddit.com/r/AskDocs/comments/exjs...</td>\n",
       "      <td>exjsu6</td>\n",
       "      <td>False</td>\n",
       "      <td>1</td>\n",
       "      <td>0.0</td>\n",
       "      <td>False</td>\n",
       "      <td>1</td>\n",
       "      <td>I would like to reiterate that if you are a me...</td>\n",
       "      <td>Answering questions</td>\n",
       "      <td>https://www.reddit.com/r/AskDocs/comments/exjs...</td>\n",
       "      <td>NaN</td>\n",
       "      <td>Answering questions | I would like to reiterat...</td>\n",
       "      <td>1580622098000000000</td>\n",
       "      <td>NaN</td>\n",
       "      <td>NaN</td>\n",
       "      <td>NaN</td>\n",
       "    </tr>\n",
       "    <tr>\n",
       "      <th>286899</th>\n",
       "      <td>PokeTheVeil</td>\n",
       "      <td>Physician | Moderator</td>\n",
       "      <td>self.AskDocs</td>\n",
       "      <td>https://www.reddit.com/r/AskDocs/comments/fimp...</td>\n",
       "      <td>fimpty</td>\n",
       "      <td>False</td>\n",
       "      <td>280</td>\n",
       "      <td>0.0</td>\n",
       "      <td>False</td>\n",
       "      <td>1</td>\n",
       "      <td>If you have general questions or are looking f...</td>\n",
       "      <td>Coronavirus (COVID-19) megathread #2</td>\n",
       "      <td>https://www.reddit.com/r/AskDocs/comments/fimp...</td>\n",
       "      <td>NaN</td>\n",
       "      <td>Coronavirus (COVID-19) megathread #2 | If you ...</td>\n",
       "      <td>1584209607000000000</td>\n",
       "      <td>NaN</td>\n",
       "      <td>NaN</td>\n",
       "      <td>NaN</td>\n",
       "    </tr>\n",
       "    <tr>\n",
       "      <th>292080</th>\n",
       "      <td>tcc1</td>\n",
       "      <td>Physician, Emergency Medicine | Moderator</td>\n",
       "      <td>self.modnews</td>\n",
       "      <td>https://www.reddit.com/r/AskDocs/comments/fdhe...</td>\n",
       "      <td>fdhedm</td>\n",
       "      <td>False</td>\n",
       "      <td>8</td>\n",
       "      <td>0.0</td>\n",
       "      <td>False</td>\n",
       "      <td>1</td>\n",
       "      <td>Hi Mods,\\n\\nAs we all know, Reddit provides a ...</td>\n",
       "      <td>Announcing our(reddits) partnership and AMA wi...</td>\n",
       "      <td>/r/modnews/comments/fdh4rr/announcing_our_part...</td>\n",
       "      <td>modnews</td>\n",
       "      <td>Announcing our(reddits) partnership and AMA wi...</td>\n",
       "      <td>1583346737000000000</td>\n",
       "      <td>NaN</td>\n",
       "      <td>NaN</td>\n",
       "      <td>NaN</td>\n",
       "    </tr>\n",
       "    <tr>\n",
       "      <th>354168</th>\n",
       "      <td>murpahurp</td>\n",
       "      <td>Physician | Moderator | Top Contributor</td>\n",
       "      <td>self.AskDocs</td>\n",
       "      <td>https://www.reddit.com/r/AskDocs/comments/hm52...</td>\n",
       "      <td>hm525p</td>\n",
       "      <td>False</td>\n",
       "      <td>1</td>\n",
       "      <td>0.0</td>\n",
       "      <td>False</td>\n",
       "      <td>1</td>\n",
       "      <td>Dear users,\\n\\nRecently there have been nursin...</td>\n",
       "      <td>Announcement: only medical students will be ve...</td>\n",
       "      <td>https://www.reddit.com/r/AskDocs/comments/hm52...</td>\n",
       "      <td>NaN</td>\n",
       "      <td>Announcement: only medical students will be ve...</td>\n",
       "      <td>1594030661000000000</td>\n",
       "      <td>NaN</td>\n",
       "      <td>NaN</td>\n",
       "      <td>NaN</td>\n",
       "    </tr>\n",
       "    <tr>\n",
       "      <th>544951</th>\n",
       "      <td>PokeTheVeil</td>\n",
       "      <td>Physician | Moderator</td>\n",
       "      <td>self.AskDocs</td>\n",
       "      <td>https://www.reddit.com/r/AskDocs/comments/otpl...</td>\n",
       "      <td>otpl4m</td>\n",
       "      <td>False</td>\n",
       "      <td>8</td>\n",
       "      <td>0.0</td>\n",
       "      <td>False</td>\n",
       "      <td>1</td>\n",
       "      <td>\\&amp;gt;If you spread misinformation, baseless al...</td>\n",
       "      <td>Rule 12: COVID and vaccine misinformation</td>\n",
       "      <td>https://www.reddit.com/r/AskDocs/comments/otpl...</td>\n",
       "      <td>NaN</td>\n",
       "      <td>Rule 12: COVID and vaccine misinformation | \\&amp;...</td>\n",
       "      <td>1627529394000000000</td>\n",
       "      <td>NaN</td>\n",
       "      <td>NaN</td>\n",
       "      <td>NaN</td>\n",
       "    </tr>\n",
       "    <tr>\n",
       "      <th>564122</th>\n",
       "      <td>PokeTheVeil</td>\n",
       "      <td>Physician | Moderator</td>\n",
       "      <td>self.AskDocs</td>\n",
       "      <td>https://www.reddit.com/r/AskDocs/comments/obz4...</td>\n",
       "      <td>obz4ql</td>\n",
       "      <td>False</td>\n",
       "      <td>13</td>\n",
       "      <td>0.0</td>\n",
       "      <td>False</td>\n",
       "      <td>1</td>\n",
       "      <td>**Please do not post any links to ImgBB!**\\n\\n...</td>\n",
       "      <td>Warning: Reddit blocks hosting from ImgBB</td>\n",
       "      <td>https://www.reddit.com/r/AskDocs/comments/obz4...</td>\n",
       "      <td>NaN</td>\n",
       "      <td>Warning: Reddit blocks hosting from ImgBB | **...</td>\n",
       "      <td>1625186291000000000</td>\n",
       "      <td>NaN</td>\n",
       "      <td>NaN</td>\n",
       "      <td>NaN</td>\n",
       "    </tr>\n",
       "    <tr>\n",
       "      <th>568933</th>\n",
       "      <td>PokeTheVeil</td>\n",
       "      <td>Physician | Moderator</td>\n",
       "      <td>self.vaxxhappened</td>\n",
       "      <td>https://www.reddit.com/r/AskDocs/comments/pbr8...</td>\n",
       "      <td>pbr87h</td>\n",
       "      <td>False</td>\n",
       "      <td>14</td>\n",
       "      <td>0.0</td>\n",
       "      <td>False</td>\n",
       "      <td>1</td>\n",
       "      <td>Everyone on this planet has been affected by t...</td>\n",
       "      <td>We call upon Reddit to take action against the...</td>\n",
       "      <td>/r/vaxxhappened/comments/pbe8nj/we_call_upon_r...</td>\n",
       "      <td>vaxxhappened</td>\n",
       "      <td>We call upon Reddit to take action against the...</td>\n",
       "      <td>1629948332000000000</td>\n",
       "      <td>NaN</td>\n",
       "      <td>NaN</td>\n",
       "      <td>NaN</td>\n",
       "    </tr>\n",
       "    <tr>\n",
       "      <th>643588</th>\n",
       "      <td>A_Dawg25</td>\n",
       "      <td>Registered Nurse - Moderator - Top Contributor</td>\n",
       "      <td>self.AskDocs</td>\n",
       "      <td>https://www.reddit.com/r/AskDocs/comments/qocx...</td>\n",
       "      <td>qocxyf</td>\n",
       "      <td>False</td>\n",
       "      <td>3</td>\n",
       "      <td>0.0</td>\n",
       "      <td>False</td>\n",
       "      <td>1</td>\n",
       "      <td>Unfortunately, it has been brought to our atte...</td>\n",
       "      <td>Announcement: Please do NOT give and or donate...</td>\n",
       "      <td>https://www.reddit.com/r/AskDocs/comments/qocx...</td>\n",
       "      <td>NaN</td>\n",
       "      <td>Announcement: Please do NOT give and or donate...</td>\n",
       "      <td>1636244374000000000</td>\n",
       "      <td>NaN</td>\n",
       "      <td>NaN</td>\n",
       "      <td>NaN</td>\n",
       "    </tr>\n",
       "  </tbody>\n",
       "</table>\n",
       "</div>"
      ],
      "text/plain": [
       "             author                                author_flair_text   \n",
       "39821      darthbat                                        Moderator  \\\n",
       "90038     muscleups                              Surgeon | Moderator   \n",
       "90337     muscleups                              Surgeon | Moderator   \n",
       "90338     muscleups                              Surgeon | Moderator   \n",
       "90339     muscleups                              Surgeon | Moderator   \n",
       "90340     muscleups                              Surgeon | Moderator   \n",
       "90342     muscleups                              Surgeon | Moderator   \n",
       "134821    KingNebby                   Physician, IM/Peds | Moderator   \n",
       "181114  PokeTheVeil                            Physician | Moderator   \n",
       "197527  PokeTheVeil                            Physician | Moderator   \n",
       "209112    foremanMD                      EM/IM Physician | Moderator   \n",
       "267857         tcc1        Physician, Emergency Medicine | Moderator   \n",
       "277314    foremanMD                      EM/IM Physician | Moderator   \n",
       "286899  PokeTheVeil                            Physician | Moderator   \n",
       "292080         tcc1        Physician, Emergency Medicine | Moderator   \n",
       "354168    murpahurp          Physician | Moderator | Top Contributor   \n",
       "544951  PokeTheVeil                            Physician | Moderator   \n",
       "564122  PokeTheVeil                            Physician | Moderator   \n",
       "568933  PokeTheVeil                            Physician | Moderator   \n",
       "643588     A_Dawg25  Registered Nurse - Moderator - Top Contributor    \n",
       "\n",
       "                   domain                                          full_link   \n",
       "39821        self.AskDocs  https://www.reddit.com/r/AskDocs/comments/650y...  \\\n",
       "90038        self.AskDocs  https://www.reddit.com/r/AskDocs/comments/90jx...   \n",
       "90337        self.AskDocs  https://www.reddit.com/r/AskDocs/comments/902c...   \n",
       "90338        self.AskDocs  https://www.reddit.com/r/AskDocs/comments/9029...   \n",
       "90339        self.AskDocs  https://www.reddit.com/r/AskDocs/comments/9028...   \n",
       "90340        self.AskDocs  https://www.reddit.com/r/AskDocs/comments/9028...   \n",
       "90342        self.AskDocs  https://www.reddit.com/r/AskDocs/comments/9027...   \n",
       "134821         reddit.com  https://www.reddit.com/r/AskDocs/comments/adsw...   \n",
       "181114       self.AskDocs  https://www.reddit.com/r/AskDocs/comments/bxoe...   \n",
       "197527       self.AskDocs  https://www.reddit.com/r/AskDocs/comments/cuhv...   \n",
       "209112       self.AskDocs  https://www.reddit.com/r/AskDocs/comments/d75k...   \n",
       "267857       self.AskDocs  https://www.reddit.com/r/AskDocs/comments/f7hn...   \n",
       "277314       self.AskDocs  https://www.reddit.com/r/AskDocs/comments/exjs...   \n",
       "286899       self.AskDocs  https://www.reddit.com/r/AskDocs/comments/fimp...   \n",
       "292080       self.modnews  https://www.reddit.com/r/AskDocs/comments/fdhe...   \n",
       "354168       self.AskDocs  https://www.reddit.com/r/AskDocs/comments/hm52...   \n",
       "544951       self.AskDocs  https://www.reddit.com/r/AskDocs/comments/otpl...   \n",
       "564122       self.AskDocs  https://www.reddit.com/r/AskDocs/comments/obz4...   \n",
       "568933  self.vaxxhappened  https://www.reddit.com/r/AskDocs/comments/pbr8...   \n",
       "643588       self.AskDocs  https://www.reddit.com/r/AskDocs/comments/qocx...   \n",
       "\n",
       "            id  locked  num_comments  num_crossposts  over_18  score   \n",
       "39821   650yo9   False             2             NaN    False      2  \\\n",
       "90038   90jxk1   False            66             0.0    False     14   \n",
       "90337   902cgz   False             0             0.0     True      1   \n",
       "90338   902934   False             0             0.0     True      1   \n",
       "90339   9028zk   False             0             0.0    False      1   \n",
       "90340   9028o7   False             0             0.0    False      1   \n",
       "90342   90273y   False             1             0.0     True      0   \n",
       "134821  adswk7   False             9             0.0    False      1   \n",
       "181114  bxoe50   False            17             0.0    False      3   \n",
       "197527  cuhvjv   False            93             0.0    False    771   \n",
       "209112  d75kvt   False             3             0.0    False    429   \n",
       "267857  f7hndq   False             2             0.0    False      1   \n",
       "277314  exjsu6   False             1             0.0    False      1   \n",
       "286899  fimpty   False           280             0.0    False      1   \n",
       "292080  fdhedm   False             8             0.0    False      1   \n",
       "354168  hm525p   False             1             0.0    False      1   \n",
       "544951  otpl4m   False             8             0.0    False      1   \n",
       "564122  obz4ql   False            13             0.0    False      1   \n",
       "568933  pbr87h   False            14             0.0    False      1   \n",
       "643588  qocxyf   False             3             0.0    False      1   \n",
       "\n",
       "                                                 selftext   \n",
       "39821   Age: 57\\n\\nSex: Female\\n\\nHeight: 5' 1\"\\n\\nWei...  \\\n",
       "90038   Please comment below what changes you feel wil...   \n",
       "90337                           26m 230 lbs question test   \n",
       "90338                           26m 230 lbs question test   \n",
       "90339                           26m 230 lbs question test   \n",
       "90340        26m 230 lbs question test M F . city, yes no   \n",
       "90342                                      test test test   \n",
       "134821                                                NaN   \n",
       "181114  I've been quietly doing it for posts I come ac...   \n",
       "197527  We will shortly be rolling out an updated set ...   \n",
       "209112  Hey guys \\n\\nRemember physicians that are dedi...   \n",
       "267857  Repeat offenders may be banned. Consider yours...   \n",
       "277314  I would like to reiterate that if you are a me...   \n",
       "286899  If you have general questions or are looking f...   \n",
       "292080  Hi Mods,\\n\\nAs we all know, Reddit provides a ...   \n",
       "354168  Dear users,\\n\\nRecently there have been nursin...   \n",
       "544951  \\&gt;If you spread misinformation, baseless al...   \n",
       "564122  **Please do not post any links to ImgBB!**\\n\\n...   \n",
       "568933  Everyone on this planet has been affected by t...   \n",
       "643588  Unfortunately, it has been brought to our atte...   \n",
       "\n",
       "                                                    title   \n",
       "39821   Friend has a (stone size)tumor (doesn't know i...  \\\n",
       "90038   [META] Survey: What features will make /r/askd...   \n",
       "90337                                   Hello stool black   \n",
       "90338                    26m 230 lbs question test balls?   \n",
       "90339                Automod test- please ignore . Penis?   \n",
       "90340                                automod test- ignore   \n",
       "90342                      this is a test - please ignore   \n",
       "134821       That does for the lurkers here as well!!! :)   \n",
       "181114                       Flair updates for new Reddit   \n",
       "197527  New rule: Only verified users may respond to i...   \n",
       "209112                 Keys to getting your post answered   \n",
       "267857  A reminder that directly messaging a provider ...   \n",
       "277314                                Answering questions   \n",
       "286899               Coronavirus (COVID-19) megathread #2   \n",
       "292080  Announcing our(reddits) partnership and AMA wi...   \n",
       "354168  Announcement: only medical students will be ve...   \n",
       "544951          Rule 12: COVID and vaccine misinformation   \n",
       "564122          Warning: Reddit blocks hosting from ImgBB   \n",
       "568933  We call upon Reddit to take action against the...   \n",
       "643588  Announcement: Please do NOT give and or donate...   \n",
       "\n",
       "                                                      url   \n",
       "39821   https://www.reddit.com/r/AskDocs/comments/650y...  \\\n",
       "90038   https://www.reddit.com/r/AskDocs/comments/90jx...   \n",
       "90337   https://www.reddit.com/r/AskDocs/comments/902c...   \n",
       "90338   https://www.reddit.com/r/AskDocs/comments/9029...   \n",
       "90339   https://www.reddit.com/r/AskDocs/comments/9028...   \n",
       "90340   https://www.reddit.com/r/AskDocs/comments/9028...   \n",
       "90342   https://www.reddit.com/r/AskDocs/comments/9027...   \n",
       "134821  https://www.reddit.com/r/AskDocs/?st=JQNL9Y48&...   \n",
       "181114  https://www.reddit.com/r/AskDocs/comments/bxoe...   \n",
       "197527  https://www.reddit.com/r/AskDocs/comments/cuhv...   \n",
       "209112  https://www.reddit.com/r/AskDocs/comments/d75k...   \n",
       "267857  https://www.reddit.com/r/AskDocs/comments/f7hn...   \n",
       "277314  https://www.reddit.com/r/AskDocs/comments/exjs...   \n",
       "286899  https://www.reddit.com/r/AskDocs/comments/fimp...   \n",
       "292080  /r/modnews/comments/fdh4rr/announcing_our_part...   \n",
       "354168  https://www.reddit.com/r/AskDocs/comments/hm52...   \n",
       "544951  https://www.reddit.com/r/AskDocs/comments/otpl...   \n",
       "564122  https://www.reddit.com/r/AskDocs/comments/obz4...   \n",
       "568933  /r/vaxxhappened/comments/pbe8nj/we_call_upon_r...   \n",
       "643588  https://www.reddit.com/r/AskDocs/comments/qocx...   \n",
       "\n",
       "       crosspost_subreddits   \n",
       "39821                   NaN  \\\n",
       "90038                   NaN   \n",
       "90337                   NaN   \n",
       "90338                   NaN   \n",
       "90339                   NaN   \n",
       "90340                   NaN   \n",
       "90342                   NaN   \n",
       "134821             medicine   \n",
       "181114                  NaN   \n",
       "197527                  NaN   \n",
       "209112                  NaN   \n",
       "267857                  NaN   \n",
       "277314                  NaN   \n",
       "286899                  NaN   \n",
       "292080              modnews   \n",
       "354168                  NaN   \n",
       "544951                  NaN   \n",
       "564122                  NaN   \n",
       "568933         vaxxhappened   \n",
       "643588                  NaN   \n",
       "\n",
       "                                           full_post_text   \n",
       "39821   Friend has a (stone size)tumor (doesn't know i...  \\\n",
       "90038   [META] Survey: What features will make /r/askd...   \n",
       "90337       Hello stool black | 26m 230 lbs question test   \n",
       "90338   26m 230 lbs question test balls? | 26m 230 lbs...   \n",
       "90339   Automod test- please ignore . Penis? | 26m 230...   \n",
       "90340   automod test- ignore | 26m 230 lbs question te...   \n",
       "90342     this is a test - please ignore | test test test   \n",
       "134821    That does for the lurkers here as well!!! :) |    \n",
       "181114  Flair updates for new Reddit | I've been quiet...   \n",
       "197527  New rule: Only verified users may respond to i...   \n",
       "209112  Keys to getting your post answered | Hey guys ...   \n",
       "267857  A reminder that directly messaging a provider ...   \n",
       "277314  Answering questions | I would like to reiterat...   \n",
       "286899  Coronavirus (COVID-19) megathread #2 | If you ...   \n",
       "292080  Announcing our(reddits) partnership and AMA wi...   \n",
       "354168  Announcement: only medical students will be ve...   \n",
       "544951  Rule 12: COVID and vaccine misinformation | \\&...   \n",
       "564122  Warning: Reddit blocks hosting from ImgBB | **...   \n",
       "568933  We call upon Reddit to take action against the...   \n",
       "643588  Announcement: Please do NOT give and or donate...   \n",
       "\n",
       "          created_utc_ns_dt  edited_utc_ns_dt   age  sex  \n",
       "39821   1492030659000000000               NaN  57.0  NaN  \n",
       "90038   1532121773000000000               NaN   NaN  NaN  \n",
       "90337   1531971466000000000               NaN  26.0  NaN  \n",
       "90338   1531970668000000000               NaN  26.0  NaN  \n",
       "90339   1531970645000000000               NaN  26.0  NaN  \n",
       "90340   1531970564000000000               NaN  26.0  NaN  \n",
       "90342   1531970193000000000               NaN   NaN  NaN  \n",
       "134821  1546942598000000000               NaN   NaN  NaN  \n",
       "181114  1559868753000000000               NaN   NaN  NaN  \n",
       "197527  1566585058000000000               NaN   NaN  NaN  \n",
       "209112  1569037402000000000               NaN   NaN  NaN  \n",
       "267857  1582319035000000000               NaN   NaN  NaN  \n",
       "277314  1580622098000000000               NaN   NaN  NaN  \n",
       "286899  1584209607000000000               NaN   NaN  NaN  \n",
       "292080  1583346737000000000               NaN   NaN  NaN  \n",
       "354168  1594030661000000000               NaN   NaN  NaN  \n",
       "544951  1627529394000000000               NaN   NaN  NaN  \n",
       "564122  1625186291000000000               NaN   NaN  NaN  \n",
       "568933  1629948332000000000               NaN   NaN  NaN  \n",
       "643588  1636244374000000000               NaN   NaN  NaN  "
      ]
     },
     "execution_count": 303,
     "metadata": {},
     "output_type": "execute_result"
    }
   ],
   "source": [
    "df[df['author_flair_text'].isin(flairs_dict['moderator'])]"
   ]
  },
  {
   "cell_type": "markdown",
   "id": "7edcc951-f227-4e2f-af54-a449c20dde73",
   "metadata": {},
   "source": [
    "#### Key takeaways about the `author_flair_text` field from the explorations above:  \n",
    "- 34% missing values  \n",
    "- 99.88% of records can be considered 'unverified' users (as opposed to verified medical professionals) based on either a missing value or unverified/layperson label in the `author_flair_text` field\n",
    "  - this means that the vast majority of posts in this subreddit are made by layperson users seeking medical advice, as expected  \n",
    "- the `author_flair_text` field can be used to identify posts made by bots and moderators that aren't useful for this project and hence need to be filtered out  \n",
    "\n",
    "#### Analysis ideas for this field:  \n",
    "- This field can be used to further filter the analysis dataset by removing irrelevant bot and moderator comments    "
   ]
  },
  {
   "cell_type": "markdown",
   "id": "4b1c6a62-d21f-4ed2-88de-e57cc4d577db",
   "metadata": {},
   "source": [
    "#### Let's filter out bot and moderator posts  "
   ]
  },
  {
   "cell_type": "code",
   "execution_count": 307,
   "id": "88be9eb1-d060-4f94-8ca3-8fd68a571d9c",
   "metadata": {},
   "outputs": [],
   "source": [
    "df = df[~(\n",
    "    (df['author_flair_text'].isin(flairs_dict['bot']))\n",
    "    | (df['author_flair_text'].isin(flairs_dict['moderator']))\n",
    ")]"
   ]
  },
  {
   "cell_type": "code",
   "execution_count": 308,
   "id": "70d2605e-5cef-48c3-a73a-f88338994d12",
   "metadata": {},
   "outputs": [
    {
     "data": {
      "text/plain": [
       "683122"
      ]
     },
     "execution_count": 308,
     "metadata": {},
     "output_type": "execute_result"
    }
   ],
   "source": [
    "len(df)"
   ]
  },
  {
   "cell_type": "markdown",
   "id": "138ce635-1d2e-42ae-8c74-0fd378975cb6",
   "metadata": {},
   "source": [
    "### domain"
   ]
  },
  {
   "cell_type": "code",
   "execution_count": 312,
   "id": "a9ffb316-81d5-4942-9b8d-9be0f3890ee2",
   "metadata": {},
   "outputs": [
    {
     "data": {
      "text/plain": [
       "domain\n",
       "self.AskDocs             0.999720\n",
       "self.medical             0.000035\n",
       "reddit.com               0.000019\n",
       "self.Advice              0.000013\n",
       "self.DiagnoseMe          0.000012\n",
       "                           ...   \n",
       "self.Psychic             0.000001\n",
       "self.Medical_Students    0.000001\n",
       "self.neurology           0.000001\n",
       "self.Coldsores           0.000001\n",
       "self.pillreminderapp     0.000001\n",
       "Name: proportion, Length: 100, dtype: float64"
      ]
     },
     "execution_count": 312,
     "metadata": {},
     "output_type": "execute_result"
    }
   ],
   "source": [
    "df['domain'].value_counts(dropna=False, normalize=True)"
   ]
  },
  {
   "cell_type": "markdown",
   "id": "34089295-4a6d-4cd3-9fe6-664b9b57435b",
   "metadata": {},
   "source": [
    "This field doesn't contain useful info for this project.  "
   ]
  },
  {
   "cell_type": "markdown",
   "id": "d268e12b-0010-4c82-a0e1-04833b8a2c6e",
   "metadata": {},
   "source": [
    "### locked"
   ]
  },
  {
   "cell_type": "code",
   "execution_count": 313,
   "id": "54258248-12ba-4330-81a6-0243e5563060",
   "metadata": {},
   "outputs": [
    {
     "data": {
      "text/plain": [
       "locked\n",
       "False    0.999818\n",
       "True     0.000182\n",
       "Name: proportion, dtype: float64"
      ]
     },
     "execution_count": 313,
     "metadata": {},
     "output_type": "execute_result"
    }
   ],
   "source": [
    "df['locked'].value_counts(dropna=False, normalize=True)"
   ]
  },
  {
   "cell_type": "markdown",
   "id": "96dcacad-b6af-4c20-9814-bc37623ff7ef",
   "metadata": {},
   "source": [
    "This field doesn't contain useful info for this project.  "
   ]
  },
  {
   "cell_type": "markdown",
   "id": "5b171e47-4227-41d5-9994-ef110ef9238b",
   "metadata": {},
   "source": [
    "### num_comments"
   ]
  },
  {
   "cell_type": "code",
   "execution_count": 319,
   "id": "f112c283-639e-40f6-af18-735b495801c1",
   "metadata": {},
   "outputs": [
    {
     "data": {
      "text/html": [
       "<div>\n",
       "<style scoped>\n",
       "    .dataframe tbody tr th:only-of-type {\n",
       "        vertical-align: middle;\n",
       "    }\n",
       "\n",
       "    .dataframe tbody tr th {\n",
       "        vertical-align: top;\n",
       "    }\n",
       "\n",
       "    .dataframe thead th {\n",
       "        text-align: right;\n",
       "    }\n",
       "</style>\n",
       "<table border=\"1\" class=\"dataframe\">\n",
       "  <thead>\n",
       "    <tr style=\"text-align: right;\">\n",
       "      <th></th>\n",
       "      <th>num_comments</th>\n",
       "      <th>proportion</th>\n",
       "    </tr>\n",
       "  </thead>\n",
       "  <tbody>\n",
       "    <tr>\n",
       "      <th>0</th>\n",
       "      <td>0</td>\n",
       "      <td>0.053260</td>\n",
       "    </tr>\n",
       "    <tr>\n",
       "      <th>1</th>\n",
       "      <td>1</td>\n",
       "      <td>0.170454</td>\n",
       "    </tr>\n",
       "    <tr>\n",
       "      <th>2</th>\n",
       "      <td>2</td>\n",
       "      <td>0.418689</td>\n",
       "    </tr>\n",
       "    <tr>\n",
       "      <th>3</th>\n",
       "      <td>3</td>\n",
       "      <td>0.105562</td>\n",
       "    </tr>\n",
       "    <tr>\n",
       "      <th>4</th>\n",
       "      <td>4</td>\n",
       "      <td>0.078643</td>\n",
       "    </tr>\n",
       "    <tr>\n",
       "      <th>...</th>\n",
       "      <td>...</td>\n",
       "      <td>...</td>\n",
       "    </tr>\n",
       "    <tr>\n",
       "      <th>272</th>\n",
       "      <td>494</td>\n",
       "      <td>0.000001</td>\n",
       "    </tr>\n",
       "    <tr>\n",
       "      <th>273</th>\n",
       "      <td>562</td>\n",
       "      <td>0.000001</td>\n",
       "    </tr>\n",
       "    <tr>\n",
       "      <th>274</th>\n",
       "      <td>686</td>\n",
       "      <td>0.000001</td>\n",
       "    </tr>\n",
       "    <tr>\n",
       "      <th>275</th>\n",
       "      <td>802</td>\n",
       "      <td>0.000001</td>\n",
       "    </tr>\n",
       "    <tr>\n",
       "      <th>276</th>\n",
       "      <td>6192</td>\n",
       "      <td>0.000001</td>\n",
       "    </tr>\n",
       "  </tbody>\n",
       "</table>\n",
       "<p>277 rows × 2 columns</p>\n",
       "</div>"
      ],
      "text/plain": [
       "     num_comments  proportion\n",
       "0               0    0.053260\n",
       "1               1    0.170454\n",
       "2               2    0.418689\n",
       "3               3    0.105562\n",
       "4               4    0.078643\n",
       "..            ...         ...\n",
       "272           494    0.000001\n",
       "273           562    0.000001\n",
       "274           686    0.000001\n",
       "275           802    0.000001\n",
       "276          6192    0.000001\n",
       "\n",
       "[277 rows x 2 columns]"
      ]
     },
     "execution_count": 319,
     "metadata": {},
     "output_type": "execute_result"
    }
   ],
   "source": [
    "num_comments_vc = df['num_comments'].value_counts(dropna=False, normalize=True).sort_index()\\\n",
    "    .reset_index()\n",
    "num_comments_vc"
   ]
  },
  {
   "cell_type": "code",
   "execution_count": 326,
   "id": "8b403f4a-6a12-4d51-bc63-d13ed6ec8a35",
   "metadata": {},
   "outputs": [],
   "source": [
    "cutoff = 40"
   ]
  },
  {
   "cell_type": "code",
   "execution_count": 327,
   "id": "214c769e-afda-486c-9ce3-67d15860a04e",
   "metadata": {},
   "outputs": [
    {
     "data": {
      "text/plain": [
       "0.002778420252897725"
      ]
     },
     "execution_count": 327,
     "metadata": {},
     "output_type": "execute_result"
    }
   ],
   "source": [
    "num_comments_vc[num_comments_vc['num_comments'] >= cutoff]['proportion'].sum()"
   ]
  },
  {
   "cell_type": "code",
   "execution_count": 322,
   "id": "0a33b2e6-b18c-4b17-a05a-7fd66fc54728",
   "metadata": {},
   "outputs": [
    {
     "data": {
      "application/vnd.plotly.v1+json": {
       "config": {
        "plotlyServerURL": "https://plotly.com"
       },
       "data": [
        {
         "mode": "markers",
         "type": "scatter",
         "x": [
          0,
          1,
          2,
          3,
          4,
          5,
          6,
          7,
          8,
          9,
          10,
          11,
          12,
          13,
          14,
          15,
          16,
          17,
          18,
          19,
          20,
          21,
          22,
          23,
          24,
          25,
          26,
          27,
          28,
          29,
          30,
          31,
          32,
          33,
          34,
          35,
          36,
          37,
          38,
          39
         ],
         "y": [
          0.05325988622822863,
          0.17045417948770497,
          0.4186894873829272,
          0.1055624032017707,
          0.07864334628367993,
          0.046079616818079344,
          0.03620290372729908,
          0.0219609381633149,
          0.016516815444386216,
          0.010940944662885985,
          0.008942765713884197,
          0.005883282927500505,
          0.0048351538963757575,
          0.003382997473364933,
          0.002923343121726427,
          0.0020933303275256837,
          0.0018298342023825905,
          0.0013262638298869017,
          0.0012194015124677583,
          0.0008519708046293342,
          0.0008197657226674005,
          0.000626535230895799,
          0.0005430947912671529,
          0.00044208794329563385,
          0.0004084189939717942,
          0.00035425590158126954,
          0.00033083402379077237,
          0.00029423733974312055,
          0.00026056839041928086,
          0.00020933303275256837,
          0.0001961582264954137,
          0.00015809767508585582,
          0.00016102540980966797,
          0.0001390673993810769,
          0.00014785060355251332,
          0.00012442872576201615,
          0.00010979005214295543,
          9.661524588580078e-05,
          0.00011418165422867365,
          8.636817435245828e-05
         ]
        }
       ],
       "layout": {
        "autosize": true,
        "plot_bgcolor": "#fff",
        "showlegend": false,
        "template": {
         "data": {
          "bar": [
           {
            "error_x": {
             "color": "#2a3f5f"
            },
            "error_y": {
             "color": "#2a3f5f"
            },
            "marker": {
             "line": {
              "color": "#E5ECF6",
              "width": 0.5
             },
             "pattern": {
              "fillmode": "overlay",
              "size": 10,
              "solidity": 0.2
             }
            },
            "type": "bar"
           }
          ],
          "barpolar": [
           {
            "marker": {
             "line": {
              "color": "#E5ECF6",
              "width": 0.5
             },
             "pattern": {
              "fillmode": "overlay",
              "size": 10,
              "solidity": 0.2
             }
            },
            "type": "barpolar"
           }
          ],
          "carpet": [
           {
            "aaxis": {
             "endlinecolor": "#2a3f5f",
             "gridcolor": "white",
             "linecolor": "white",
             "minorgridcolor": "white",
             "startlinecolor": "#2a3f5f"
            },
            "baxis": {
             "endlinecolor": "#2a3f5f",
             "gridcolor": "white",
             "linecolor": "white",
             "minorgridcolor": "white",
             "startlinecolor": "#2a3f5f"
            },
            "type": "carpet"
           }
          ],
          "choropleth": [
           {
            "colorbar": {
             "outlinewidth": 0,
             "ticks": ""
            },
            "type": "choropleth"
           }
          ],
          "contour": [
           {
            "colorbar": {
             "outlinewidth": 0,
             "ticks": ""
            },
            "colorscale": [
             [
              0,
              "#0d0887"
             ],
             [
              0.1111111111111111,
              "#46039f"
             ],
             [
              0.2222222222222222,
              "#7201a8"
             ],
             [
              0.3333333333333333,
              "#9c179e"
             ],
             [
              0.4444444444444444,
              "#bd3786"
             ],
             [
              0.5555555555555556,
              "#d8576b"
             ],
             [
              0.6666666666666666,
              "#ed7953"
             ],
             [
              0.7777777777777778,
              "#fb9f3a"
             ],
             [
              0.8888888888888888,
              "#fdca26"
             ],
             [
              1,
              "#f0f921"
             ]
            ],
            "type": "contour"
           }
          ],
          "contourcarpet": [
           {
            "colorbar": {
             "outlinewidth": 0,
             "ticks": ""
            },
            "type": "contourcarpet"
           }
          ],
          "heatmap": [
           {
            "colorbar": {
             "outlinewidth": 0,
             "ticks": ""
            },
            "colorscale": [
             [
              0,
              "#0d0887"
             ],
             [
              0.1111111111111111,
              "#46039f"
             ],
             [
              0.2222222222222222,
              "#7201a8"
             ],
             [
              0.3333333333333333,
              "#9c179e"
             ],
             [
              0.4444444444444444,
              "#bd3786"
             ],
             [
              0.5555555555555556,
              "#d8576b"
             ],
             [
              0.6666666666666666,
              "#ed7953"
             ],
             [
              0.7777777777777778,
              "#fb9f3a"
             ],
             [
              0.8888888888888888,
              "#fdca26"
             ],
             [
              1,
              "#f0f921"
             ]
            ],
            "type": "heatmap"
           }
          ],
          "heatmapgl": [
           {
            "colorbar": {
             "outlinewidth": 0,
             "ticks": ""
            },
            "colorscale": [
             [
              0,
              "#0d0887"
             ],
             [
              0.1111111111111111,
              "#46039f"
             ],
             [
              0.2222222222222222,
              "#7201a8"
             ],
             [
              0.3333333333333333,
              "#9c179e"
             ],
             [
              0.4444444444444444,
              "#bd3786"
             ],
             [
              0.5555555555555556,
              "#d8576b"
             ],
             [
              0.6666666666666666,
              "#ed7953"
             ],
             [
              0.7777777777777778,
              "#fb9f3a"
             ],
             [
              0.8888888888888888,
              "#fdca26"
             ],
             [
              1,
              "#f0f921"
             ]
            ],
            "type": "heatmapgl"
           }
          ],
          "histogram": [
           {
            "marker": {
             "pattern": {
              "fillmode": "overlay",
              "size": 10,
              "solidity": 0.2
             }
            },
            "type": "histogram"
           }
          ],
          "histogram2d": [
           {
            "colorbar": {
             "outlinewidth": 0,
             "ticks": ""
            },
            "colorscale": [
             [
              0,
              "#0d0887"
             ],
             [
              0.1111111111111111,
              "#46039f"
             ],
             [
              0.2222222222222222,
              "#7201a8"
             ],
             [
              0.3333333333333333,
              "#9c179e"
             ],
             [
              0.4444444444444444,
              "#bd3786"
             ],
             [
              0.5555555555555556,
              "#d8576b"
             ],
             [
              0.6666666666666666,
              "#ed7953"
             ],
             [
              0.7777777777777778,
              "#fb9f3a"
             ],
             [
              0.8888888888888888,
              "#fdca26"
             ],
             [
              1,
              "#f0f921"
             ]
            ],
            "type": "histogram2d"
           }
          ],
          "histogram2dcontour": [
           {
            "colorbar": {
             "outlinewidth": 0,
             "ticks": ""
            },
            "colorscale": [
             [
              0,
              "#0d0887"
             ],
             [
              0.1111111111111111,
              "#46039f"
             ],
             [
              0.2222222222222222,
              "#7201a8"
             ],
             [
              0.3333333333333333,
              "#9c179e"
             ],
             [
              0.4444444444444444,
              "#bd3786"
             ],
             [
              0.5555555555555556,
              "#d8576b"
             ],
             [
              0.6666666666666666,
              "#ed7953"
             ],
             [
              0.7777777777777778,
              "#fb9f3a"
             ],
             [
              0.8888888888888888,
              "#fdca26"
             ],
             [
              1,
              "#f0f921"
             ]
            ],
            "type": "histogram2dcontour"
           }
          ],
          "mesh3d": [
           {
            "colorbar": {
             "outlinewidth": 0,
             "ticks": ""
            },
            "type": "mesh3d"
           }
          ],
          "parcoords": [
           {
            "line": {
             "colorbar": {
              "outlinewidth": 0,
              "ticks": ""
             }
            },
            "type": "parcoords"
           }
          ],
          "pie": [
           {
            "automargin": true,
            "type": "pie"
           }
          ],
          "scatter": [
           {
            "fillpattern": {
             "fillmode": "overlay",
             "size": 10,
             "solidity": 0.2
            },
            "type": "scatter"
           }
          ],
          "scatter3d": [
           {
            "line": {
             "colorbar": {
              "outlinewidth": 0,
              "ticks": ""
             }
            },
            "marker": {
             "colorbar": {
              "outlinewidth": 0,
              "ticks": ""
             }
            },
            "type": "scatter3d"
           }
          ],
          "scattercarpet": [
           {
            "marker": {
             "colorbar": {
              "outlinewidth": 0,
              "ticks": ""
             }
            },
            "type": "scattercarpet"
           }
          ],
          "scattergeo": [
           {
            "marker": {
             "colorbar": {
              "outlinewidth": 0,
              "ticks": ""
             }
            },
            "type": "scattergeo"
           }
          ],
          "scattergl": [
           {
            "marker": {
             "colorbar": {
              "outlinewidth": 0,
              "ticks": ""
             }
            },
            "type": "scattergl"
           }
          ],
          "scattermapbox": [
           {
            "marker": {
             "colorbar": {
              "outlinewidth": 0,
              "ticks": ""
             }
            },
            "type": "scattermapbox"
           }
          ],
          "scatterpolar": [
           {
            "marker": {
             "colorbar": {
              "outlinewidth": 0,
              "ticks": ""
             }
            },
            "type": "scatterpolar"
           }
          ],
          "scatterpolargl": [
           {
            "marker": {
             "colorbar": {
              "outlinewidth": 0,
              "ticks": ""
             }
            },
            "type": "scatterpolargl"
           }
          ],
          "scatterternary": [
           {
            "marker": {
             "colorbar": {
              "outlinewidth": 0,
              "ticks": ""
             }
            },
            "type": "scatterternary"
           }
          ],
          "surface": [
           {
            "colorbar": {
             "outlinewidth": 0,
             "ticks": ""
            },
            "colorscale": [
             [
              0,
              "#0d0887"
             ],
             [
              0.1111111111111111,
              "#46039f"
             ],
             [
              0.2222222222222222,
              "#7201a8"
             ],
             [
              0.3333333333333333,
              "#9c179e"
             ],
             [
              0.4444444444444444,
              "#bd3786"
             ],
             [
              0.5555555555555556,
              "#d8576b"
             ],
             [
              0.6666666666666666,
              "#ed7953"
             ],
             [
              0.7777777777777778,
              "#fb9f3a"
             ],
             [
              0.8888888888888888,
              "#fdca26"
             ],
             [
              1,
              "#f0f921"
             ]
            ],
            "type": "surface"
           }
          ],
          "table": [
           {
            "cells": {
             "fill": {
              "color": "#EBF0F8"
             },
             "line": {
              "color": "white"
             }
            },
            "header": {
             "fill": {
              "color": "#C8D4E3"
             },
             "line": {
              "color": "white"
             }
            },
            "type": "table"
           }
          ]
         },
         "layout": {
          "annotationdefaults": {
           "arrowcolor": "#2a3f5f",
           "arrowhead": 0,
           "arrowwidth": 1
          },
          "autotypenumbers": "strict",
          "coloraxis": {
           "colorbar": {
            "outlinewidth": 0,
            "ticks": ""
           }
          },
          "colorscale": {
           "diverging": [
            [
             0,
             "#8e0152"
            ],
            [
             0.1,
             "#c51b7d"
            ],
            [
             0.2,
             "#de77ae"
            ],
            [
             0.3,
             "#f1b6da"
            ],
            [
             0.4,
             "#fde0ef"
            ],
            [
             0.5,
             "#f7f7f7"
            ],
            [
             0.6,
             "#e6f5d0"
            ],
            [
             0.7,
             "#b8e186"
            ],
            [
             0.8,
             "#7fbc41"
            ],
            [
             0.9,
             "#4d9221"
            ],
            [
             1,
             "#276419"
            ]
           ],
           "sequential": [
            [
             0,
             "#0d0887"
            ],
            [
             0.1111111111111111,
             "#46039f"
            ],
            [
             0.2222222222222222,
             "#7201a8"
            ],
            [
             0.3333333333333333,
             "#9c179e"
            ],
            [
             0.4444444444444444,
             "#bd3786"
            ],
            [
             0.5555555555555556,
             "#d8576b"
            ],
            [
             0.6666666666666666,
             "#ed7953"
            ],
            [
             0.7777777777777778,
             "#fb9f3a"
            ],
            [
             0.8888888888888888,
             "#fdca26"
            ],
            [
             1,
             "#f0f921"
            ]
           ],
           "sequentialminus": [
            [
             0,
             "#0d0887"
            ],
            [
             0.1111111111111111,
             "#46039f"
            ],
            [
             0.2222222222222222,
             "#7201a8"
            ],
            [
             0.3333333333333333,
             "#9c179e"
            ],
            [
             0.4444444444444444,
             "#bd3786"
            ],
            [
             0.5555555555555556,
             "#d8576b"
            ],
            [
             0.6666666666666666,
             "#ed7953"
            ],
            [
             0.7777777777777778,
             "#fb9f3a"
            ],
            [
             0.8888888888888888,
             "#fdca26"
            ],
            [
             1,
             "#f0f921"
            ]
           ]
          },
          "colorway": [
           "#636efa",
           "#EF553B",
           "#00cc96",
           "#ab63fa",
           "#FFA15A",
           "#19d3f3",
           "#FF6692",
           "#B6E880",
           "#FF97FF",
           "#FECB52"
          ],
          "font": {
           "color": "#2a3f5f"
          },
          "geo": {
           "bgcolor": "white",
           "lakecolor": "white",
           "landcolor": "#E5ECF6",
           "showlakes": true,
           "showland": true,
           "subunitcolor": "white"
          },
          "hoverlabel": {
           "align": "left"
          },
          "hovermode": "closest",
          "mapbox": {
           "style": "light"
          },
          "paper_bgcolor": "white",
          "plot_bgcolor": "#E5ECF6",
          "polar": {
           "angularaxis": {
            "gridcolor": "white",
            "linecolor": "white",
            "ticks": ""
           },
           "bgcolor": "#E5ECF6",
           "radialaxis": {
            "gridcolor": "white",
            "linecolor": "white",
            "ticks": ""
           }
          },
          "scene": {
           "xaxis": {
            "backgroundcolor": "#E5ECF6",
            "gridcolor": "white",
            "gridwidth": 2,
            "linecolor": "white",
            "showbackground": true,
            "ticks": "",
            "zerolinecolor": "white"
           },
           "yaxis": {
            "backgroundcolor": "#E5ECF6",
            "gridcolor": "white",
            "gridwidth": 2,
            "linecolor": "white",
            "showbackground": true,
            "ticks": "",
            "zerolinecolor": "white"
           },
           "zaxis": {
            "backgroundcolor": "#E5ECF6",
            "gridcolor": "white",
            "gridwidth": 2,
            "linecolor": "white",
            "showbackground": true,
            "ticks": "",
            "zerolinecolor": "white"
           }
          },
          "shapedefaults": {
           "line": {
            "color": "#2a3f5f"
           }
          },
          "ternary": {
           "aaxis": {
            "gridcolor": "white",
            "linecolor": "white",
            "ticks": ""
           },
           "baxis": {
            "gridcolor": "white",
            "linecolor": "white",
            "ticks": ""
           },
           "bgcolor": "#E5ECF6",
           "caxis": {
            "gridcolor": "white",
            "linecolor": "white",
            "ticks": ""
           }
          },
          "title": {
           "x": 0.05
          },
          "xaxis": {
           "automargin": true,
           "gridcolor": "white",
           "linecolor": "white",
           "ticks": "",
           "title": {
            "standoff": 15
           },
           "zerolinecolor": "white",
           "zerolinewidth": 2
          },
          "yaxis": {
           "automargin": true,
           "gridcolor": "white",
           "linecolor": "white",
           "ticks": "",
           "title": {
            "standoff": 15
           },
           "zerolinecolor": "white",
           "zerolinewidth": 2
          }
         }
        },
        "title": {
         "text": "<b>num_comments</b> frequency plot, < 40"
        },
        "xaxis": {
         "autorange": true,
         "range": [
          0,
          41.311889525092624
         ],
         "rangemode": "tozero",
         "title": {
          "text": "num_comments"
         },
         "type": "linear"
        },
        "yaxis": {
         "autorange": true,
         "gridcolor": "#eee",
         "range": [
          0,
          0.4487780132728087
         ],
         "rangemode": "tozero",
         "title": {
          "text": "proportion"
         },
         "type": "linear"
        }
       }
      },
      "text/html": [
       "<div>                            <div id=\"8f902328-297d-4fb0-8591-c5454e1da1d2\" class=\"plotly-graph-div\" style=\"height:400px; width:100%;\"></div>            <script type=\"text/javascript\">                require([\"plotly\"], function(Plotly) {                    window.PLOTLYENV=window.PLOTLYENV || {};                                    if (document.getElementById(\"8f902328-297d-4fb0-8591-c5454e1da1d2\")) {                    Plotly.newPlot(                        \"8f902328-297d-4fb0-8591-c5454e1da1d2\",                        [{\"mode\":\"markers\",\"x\":[0,1,2,3,4,5,6,7,8,9,10,11,12,13,14,15,16,17,18,19,20,21,22,23,24,25,26,27,28,29,30,31,32,33,34,35,36,37,38,39],\"y\":[0.05325988622822863,0.17045417948770497,0.4186894873829272,0.1055624032017707,0.07864334628367993,0.046079616818079344,0.03620290372729908,0.0219609381633149,0.016516815444386216,0.010940944662885985,0.008942765713884197,0.005883282927500505,0.0048351538963757575,0.003382997473364933,0.002923343121726427,0.0020933303275256837,0.0018298342023825905,0.0013262638298869017,0.0012194015124677583,0.0008519708046293342,0.0008197657226674005,0.000626535230895799,0.0005430947912671529,0.00044208794329563385,0.0004084189939717942,0.00035425590158126954,0.00033083402379077237,0.00029423733974312055,0.00026056839041928086,0.00020933303275256837,0.0001961582264954137,0.00015809767508585582,0.00016102540980966797,0.0001390673993810769,0.00014785060355251332,0.00012442872576201615,0.00010979005214295543,9.661524588580078e-05,0.00011418165422867365,8.636817435245828e-05],\"type\":\"scatter\"}],                        {\"template\":{\"data\":{\"histogram2dcontour\":[{\"type\":\"histogram2dcontour\",\"colorbar\":{\"outlinewidth\":0,\"ticks\":\"\"},\"colorscale\":[[0.0,\"#0d0887\"],[0.1111111111111111,\"#46039f\"],[0.2222222222222222,\"#7201a8\"],[0.3333333333333333,\"#9c179e\"],[0.4444444444444444,\"#bd3786\"],[0.5555555555555556,\"#d8576b\"],[0.6666666666666666,\"#ed7953\"],[0.7777777777777778,\"#fb9f3a\"],[0.8888888888888888,\"#fdca26\"],[1.0,\"#f0f921\"]]}],\"choropleth\":[{\"type\":\"choropleth\",\"colorbar\":{\"outlinewidth\":0,\"ticks\":\"\"}}],\"histogram2d\":[{\"type\":\"histogram2d\",\"colorbar\":{\"outlinewidth\":0,\"ticks\":\"\"},\"colorscale\":[[0.0,\"#0d0887\"],[0.1111111111111111,\"#46039f\"],[0.2222222222222222,\"#7201a8\"],[0.3333333333333333,\"#9c179e\"],[0.4444444444444444,\"#bd3786\"],[0.5555555555555556,\"#d8576b\"],[0.6666666666666666,\"#ed7953\"],[0.7777777777777778,\"#fb9f3a\"],[0.8888888888888888,\"#fdca26\"],[1.0,\"#f0f921\"]]}],\"heatmap\":[{\"type\":\"heatmap\",\"colorbar\":{\"outlinewidth\":0,\"ticks\":\"\"},\"colorscale\":[[0.0,\"#0d0887\"],[0.1111111111111111,\"#46039f\"],[0.2222222222222222,\"#7201a8\"],[0.3333333333333333,\"#9c179e\"],[0.4444444444444444,\"#bd3786\"],[0.5555555555555556,\"#d8576b\"],[0.6666666666666666,\"#ed7953\"],[0.7777777777777778,\"#fb9f3a\"],[0.8888888888888888,\"#fdca26\"],[1.0,\"#f0f921\"]]}],\"heatmapgl\":[{\"type\":\"heatmapgl\",\"colorbar\":{\"outlinewidth\":0,\"ticks\":\"\"},\"colorscale\":[[0.0,\"#0d0887\"],[0.1111111111111111,\"#46039f\"],[0.2222222222222222,\"#7201a8\"],[0.3333333333333333,\"#9c179e\"],[0.4444444444444444,\"#bd3786\"],[0.5555555555555556,\"#d8576b\"],[0.6666666666666666,\"#ed7953\"],[0.7777777777777778,\"#fb9f3a\"],[0.8888888888888888,\"#fdca26\"],[1.0,\"#f0f921\"]]}],\"contourcarpet\":[{\"type\":\"contourcarpet\",\"colorbar\":{\"outlinewidth\":0,\"ticks\":\"\"}}],\"contour\":[{\"type\":\"contour\",\"colorbar\":{\"outlinewidth\":0,\"ticks\":\"\"},\"colorscale\":[[0.0,\"#0d0887\"],[0.1111111111111111,\"#46039f\"],[0.2222222222222222,\"#7201a8\"],[0.3333333333333333,\"#9c179e\"],[0.4444444444444444,\"#bd3786\"],[0.5555555555555556,\"#d8576b\"],[0.6666666666666666,\"#ed7953\"],[0.7777777777777778,\"#fb9f3a\"],[0.8888888888888888,\"#fdca26\"],[1.0,\"#f0f921\"]]}],\"surface\":[{\"type\":\"surface\",\"colorbar\":{\"outlinewidth\":0,\"ticks\":\"\"},\"colorscale\":[[0.0,\"#0d0887\"],[0.1111111111111111,\"#46039f\"],[0.2222222222222222,\"#7201a8\"],[0.3333333333333333,\"#9c179e\"],[0.4444444444444444,\"#bd3786\"],[0.5555555555555556,\"#d8576b\"],[0.6666666666666666,\"#ed7953\"],[0.7777777777777778,\"#fb9f3a\"],[0.8888888888888888,\"#fdca26\"],[1.0,\"#f0f921\"]]}],\"mesh3d\":[{\"type\":\"mesh3d\",\"colorbar\":{\"outlinewidth\":0,\"ticks\":\"\"}}],\"scatter\":[{\"fillpattern\":{\"fillmode\":\"overlay\",\"size\":10,\"solidity\":0.2},\"type\":\"scatter\"}],\"parcoords\":[{\"type\":\"parcoords\",\"line\":{\"colorbar\":{\"outlinewidth\":0,\"ticks\":\"\"}}}],\"scatterpolargl\":[{\"type\":\"scatterpolargl\",\"marker\":{\"colorbar\":{\"outlinewidth\":0,\"ticks\":\"\"}}}],\"bar\":[{\"error_x\":{\"color\":\"#2a3f5f\"},\"error_y\":{\"color\":\"#2a3f5f\"},\"marker\":{\"line\":{\"color\":\"#E5ECF6\",\"width\":0.5},\"pattern\":{\"fillmode\":\"overlay\",\"size\":10,\"solidity\":0.2}},\"type\":\"bar\"}],\"scattergeo\":[{\"type\":\"scattergeo\",\"marker\":{\"colorbar\":{\"outlinewidth\":0,\"ticks\":\"\"}}}],\"scatterpolar\":[{\"type\":\"scatterpolar\",\"marker\":{\"colorbar\":{\"outlinewidth\":0,\"ticks\":\"\"}}}],\"histogram\":[{\"marker\":{\"pattern\":{\"fillmode\":\"overlay\",\"size\":10,\"solidity\":0.2}},\"type\":\"histogram\"}],\"scattergl\":[{\"type\":\"scattergl\",\"marker\":{\"colorbar\":{\"outlinewidth\":0,\"ticks\":\"\"}}}],\"scatter3d\":[{\"type\":\"scatter3d\",\"line\":{\"colorbar\":{\"outlinewidth\":0,\"ticks\":\"\"}},\"marker\":{\"colorbar\":{\"outlinewidth\":0,\"ticks\":\"\"}}}],\"scattermapbox\":[{\"type\":\"scattermapbox\",\"marker\":{\"colorbar\":{\"outlinewidth\":0,\"ticks\":\"\"}}}],\"scatterternary\":[{\"type\":\"scatterternary\",\"marker\":{\"colorbar\":{\"outlinewidth\":0,\"ticks\":\"\"}}}],\"scattercarpet\":[{\"type\":\"scattercarpet\",\"marker\":{\"colorbar\":{\"outlinewidth\":0,\"ticks\":\"\"}}}],\"carpet\":[{\"aaxis\":{\"endlinecolor\":\"#2a3f5f\",\"gridcolor\":\"white\",\"linecolor\":\"white\",\"minorgridcolor\":\"white\",\"startlinecolor\":\"#2a3f5f\"},\"baxis\":{\"endlinecolor\":\"#2a3f5f\",\"gridcolor\":\"white\",\"linecolor\":\"white\",\"minorgridcolor\":\"white\",\"startlinecolor\":\"#2a3f5f\"},\"type\":\"carpet\"}],\"table\":[{\"cells\":{\"fill\":{\"color\":\"#EBF0F8\"},\"line\":{\"color\":\"white\"}},\"header\":{\"fill\":{\"color\":\"#C8D4E3\"},\"line\":{\"color\":\"white\"}},\"type\":\"table\"}],\"barpolar\":[{\"marker\":{\"line\":{\"color\":\"#E5ECF6\",\"width\":0.5},\"pattern\":{\"fillmode\":\"overlay\",\"size\":10,\"solidity\":0.2}},\"type\":\"barpolar\"}],\"pie\":[{\"automargin\":true,\"type\":\"pie\"}]},\"layout\":{\"autotypenumbers\":\"strict\",\"colorway\":[\"#636efa\",\"#EF553B\",\"#00cc96\",\"#ab63fa\",\"#FFA15A\",\"#19d3f3\",\"#FF6692\",\"#B6E880\",\"#FF97FF\",\"#FECB52\"],\"font\":{\"color\":\"#2a3f5f\"},\"hovermode\":\"closest\",\"hoverlabel\":{\"align\":\"left\"},\"paper_bgcolor\":\"white\",\"plot_bgcolor\":\"#E5ECF6\",\"polar\":{\"bgcolor\":\"#E5ECF6\",\"angularaxis\":{\"gridcolor\":\"white\",\"linecolor\":\"white\",\"ticks\":\"\"},\"radialaxis\":{\"gridcolor\":\"white\",\"linecolor\":\"white\",\"ticks\":\"\"}},\"ternary\":{\"bgcolor\":\"#E5ECF6\",\"aaxis\":{\"gridcolor\":\"white\",\"linecolor\":\"white\",\"ticks\":\"\"},\"baxis\":{\"gridcolor\":\"white\",\"linecolor\":\"white\",\"ticks\":\"\"},\"caxis\":{\"gridcolor\":\"white\",\"linecolor\":\"white\",\"ticks\":\"\"}},\"coloraxis\":{\"colorbar\":{\"outlinewidth\":0,\"ticks\":\"\"}},\"colorscale\":{\"sequential\":[[0.0,\"#0d0887\"],[0.1111111111111111,\"#46039f\"],[0.2222222222222222,\"#7201a8\"],[0.3333333333333333,\"#9c179e\"],[0.4444444444444444,\"#bd3786\"],[0.5555555555555556,\"#d8576b\"],[0.6666666666666666,\"#ed7953\"],[0.7777777777777778,\"#fb9f3a\"],[0.8888888888888888,\"#fdca26\"],[1.0,\"#f0f921\"]],\"sequentialminus\":[[0.0,\"#0d0887\"],[0.1111111111111111,\"#46039f\"],[0.2222222222222222,\"#7201a8\"],[0.3333333333333333,\"#9c179e\"],[0.4444444444444444,\"#bd3786\"],[0.5555555555555556,\"#d8576b\"],[0.6666666666666666,\"#ed7953\"],[0.7777777777777778,\"#fb9f3a\"],[0.8888888888888888,\"#fdca26\"],[1.0,\"#f0f921\"]],\"diverging\":[[0,\"#8e0152\"],[0.1,\"#c51b7d\"],[0.2,\"#de77ae\"],[0.3,\"#f1b6da\"],[0.4,\"#fde0ef\"],[0.5,\"#f7f7f7\"],[0.6,\"#e6f5d0\"],[0.7,\"#b8e186\"],[0.8,\"#7fbc41\"],[0.9,\"#4d9221\"],[1,\"#276419\"]]},\"xaxis\":{\"gridcolor\":\"white\",\"linecolor\":\"white\",\"ticks\":\"\",\"title\":{\"standoff\":15},\"zerolinecolor\":\"white\",\"automargin\":true,\"zerolinewidth\":2},\"yaxis\":{\"gridcolor\":\"white\",\"linecolor\":\"white\",\"ticks\":\"\",\"title\":{\"standoff\":15},\"zerolinecolor\":\"white\",\"automargin\":true,\"zerolinewidth\":2},\"scene\":{\"xaxis\":{\"backgroundcolor\":\"#E5ECF6\",\"gridcolor\":\"white\",\"linecolor\":\"white\",\"showbackground\":true,\"ticks\":\"\",\"zerolinecolor\":\"white\",\"gridwidth\":2},\"yaxis\":{\"backgroundcolor\":\"#E5ECF6\",\"gridcolor\":\"white\",\"linecolor\":\"white\",\"showbackground\":true,\"ticks\":\"\",\"zerolinecolor\":\"white\",\"gridwidth\":2},\"zaxis\":{\"backgroundcolor\":\"#E5ECF6\",\"gridcolor\":\"white\",\"linecolor\":\"white\",\"showbackground\":true,\"ticks\":\"\",\"zerolinecolor\":\"white\",\"gridwidth\":2}},\"shapedefaults\":{\"line\":{\"color\":\"#2a3f5f\"}},\"annotationdefaults\":{\"arrowcolor\":\"#2a3f5f\",\"arrowhead\":0,\"arrowwidth\":1},\"geo\":{\"bgcolor\":\"white\",\"landcolor\":\"#E5ECF6\",\"subunitcolor\":\"white\",\"showland\":true,\"showlakes\":true,\"lakecolor\":\"white\"},\"title\":{\"x\":0.05},\"mapbox\":{\"style\":\"light\"}}},\"yaxis\":{\"gridcolor\":\"#eee\",\"title\":{\"text\":\"proportion\"},\"rangemode\":\"tozero\"},\"xaxis\":{\"title\":{\"text\":\"num_comments\"},\"rangemode\":\"tozero\"},\"title\":{\"text\":\"<b>num_comments</b> frequency plot, < 40\"},\"plot_bgcolor\":\"#fff\",\"showlegend\":false,\"height\":400},                        {\"responsive\": true}                    ).then(function(){\n",
       "                            \n",
       "var gd = document.getElementById('8f902328-297d-4fb0-8591-c5454e1da1d2');\n",
       "var x = new MutationObserver(function (mutations, observer) {{\n",
       "        var display = window.getComputedStyle(gd).display;\n",
       "        if (!display || display === 'none') {{\n",
       "            console.log([gd, 'removed!']);\n",
       "            Plotly.purge(gd);\n",
       "            observer.disconnect();\n",
       "        }}\n",
       "}});\n",
       "\n",
       "// Listen for the removal of the full notebook cells\n",
       "var notebookContainer = gd.closest('#notebook-container');\n",
       "if (notebookContainer) {{\n",
       "    x.observe(notebookContainer, {childList: true});\n",
       "}}\n",
       "\n",
       "// Listen for the clearing of the current output cell\n",
       "var outputEl = gd.closest('.output');\n",
       "if (outputEl) {{\n",
       "    x.observe(outputEl, {childList: true});\n",
       "}}\n",
       "\n",
       "                        })                };                });            </script>        </div>"
      ]
     },
     "metadata": {},
     "output_type": "display_data"
    }
   ],
   "source": [
    "num_comments_vc2 = num_comments_vc[\n",
    "    num_comments_vc['num_comments'] < cutoff\n",
    "].copy()\n",
    "\n",
    "traces = []\n",
    "trace = go.Scatter(\n",
    "    x=num_comments_vc2['num_comments'],\n",
    "    y=num_comments_vc2['proportion'],\n",
    "    mode='markers'\n",
    ")\n",
    "traces.append(trace)\n",
    "fig = go.Figure(traces)\n",
    "\n",
    "    \n",
    "fig.update_yaxes(gridcolor='#eee', title='proportion', rangemode='tozero')\n",
    "fig.update_xaxes(title='num_comments', rangemode='tozero')\n",
    "fig.update_layout(\n",
    "    title=f'<b>num_comments</b> frequency plot, < {cutoff}',\n",
    "    plot_bgcolor='#fff',\n",
    "    showlegend=False,\n",
    "    height=400\n",
    ")\n",
    "\n",
    "fig.show()"
   ]
  },
  {
   "cell_type": "code",
   "execution_count": 331,
   "id": "759e2c87-3cc1-4483-a19f-b4233f2369a9",
   "metadata": {},
   "outputs": [
    {
     "name": "stdout",
     "output_type": "stream",
     "text": [
      "https://www.reddit.com/r/AskDocs/comments/7hu6ys/severe_transient_shortness_of_breath_no_asthma_or/\n",
      "https://www.reddit.com/r/AskDocs/comments/7gbdja/rapid_weight_loss_others_have_noticed_first_was/\n",
      "https://www.reddit.com/r/AskDocs/comments/7d27ub/is_this_a_tapeworm_and_what_do_i_do/\n",
      "https://www.reddit.com/r/AskDocs/comments/7cwnd3/bizarre_case_of_hiv/\n",
      "https://www.reddit.com/r/AskDocs/comments/7c9nh2/do_doctor_give_up_on_people_with_uncommon_diseases/\n"
     ]
    }
   ],
   "source": [
    "for i,r in df[df['num_comments'] >= cutoff].head().iterrows():\n",
    "    print(r['url'])"
   ]
  },
  {
   "cell_type": "markdown",
   "id": "3ad297fa-dd49-4f19-bcca-6f358132f2b9",
   "metadata": {},
   "source": [
    "#### Key takeaways about the `num_comments` field from the explorations above:  \n",
    "- most posts (42%) have 2 comments  \n",
    "- 0.3% of posts had 40 or more comments  \n",
    "\n",
    "#### Analysis ideas for this field:  \n",
    "- this field is interesting for analyses as a measure of engagement with posts  "
   ]
  },
  {
   "cell_type": "markdown",
   "id": "24f330e7-8abf-493c-b64d-a83a96ae2166",
   "metadata": {},
   "source": [
    "### num_crossposts"
   ]
  },
  {
   "cell_type": "code",
   "execution_count": 332,
   "id": "8bc1a596-2b7e-46cc-8637-08898e9e8e41",
   "metadata": {},
   "outputs": [
    {
     "data": {
      "text/html": [
       "<div>\n",
       "<style scoped>\n",
       "    .dataframe tbody tr th:only-of-type {\n",
       "        vertical-align: middle;\n",
       "    }\n",
       "\n",
       "    .dataframe tbody tr th {\n",
       "        vertical-align: top;\n",
       "    }\n",
       "\n",
       "    .dataframe thead th {\n",
       "        text-align: right;\n",
       "    }\n",
       "</style>\n",
       "<table border=\"1\" class=\"dataframe\">\n",
       "  <thead>\n",
       "    <tr style=\"text-align: right;\">\n",
       "      <th></th>\n",
       "      <th>num_crossposts</th>\n",
       "      <th>proportion</th>\n",
       "    </tr>\n",
       "  </thead>\n",
       "  <tbody>\n",
       "    <tr>\n",
       "      <th>0</th>\n",
       "      <td>0.0</td>\n",
       "      <td>0.944017</td>\n",
       "    </tr>\n",
       "    <tr>\n",
       "      <th>1</th>\n",
       "      <td>1.0</td>\n",
       "      <td>0.000433</td>\n",
       "    </tr>\n",
       "    <tr>\n",
       "      <th>2</th>\n",
       "      <td>2.0</td>\n",
       "      <td>0.000048</td>\n",
       "    </tr>\n",
       "    <tr>\n",
       "      <th>3</th>\n",
       "      <td>3.0</td>\n",
       "      <td>0.000010</td>\n",
       "    </tr>\n",
       "    <tr>\n",
       "      <th>4</th>\n",
       "      <td>4.0</td>\n",
       "      <td>0.000001</td>\n",
       "    </tr>\n",
       "    <tr>\n",
       "      <th>5</th>\n",
       "      <td>NaN</td>\n",
       "      <td>0.055489</td>\n",
       "    </tr>\n",
       "  </tbody>\n",
       "</table>\n",
       "</div>"
      ],
      "text/plain": [
       "   num_crossposts  proportion\n",
       "0             0.0    0.944017\n",
       "1             1.0    0.000433\n",
       "2             2.0    0.000048\n",
       "3             3.0    0.000010\n",
       "4             4.0    0.000001\n",
       "5             NaN    0.055489"
      ]
     },
     "execution_count": 332,
     "metadata": {},
     "output_type": "execute_result"
    }
   ],
   "source": [
    "num_crossposts_vc = df['num_crossposts'].value_counts(dropna=False, normalize=True).sort_index()\\\n",
    "    .reset_index()\n",
    "num_crossposts_vc"
   ]
  },
  {
   "cell_type": "markdown",
   "id": "b35d2434-6c44-4091-9539-557333b92aa4",
   "metadata": {},
   "source": [
    "This field doesn't contain useful info for this project."
   ]
  },
  {
   "cell_type": "markdown",
   "id": "999f9160-b513-4f1b-bcc4-d78d0546cb40",
   "metadata": {},
   "source": [
    "### over_18"
   ]
  },
  {
   "cell_type": "code",
   "execution_count": 333,
   "id": "5e2fa75d-f29c-40eb-8861-987b6c64c627",
   "metadata": {},
   "outputs": [
    {
     "data": {
      "text/plain": [
       "over_18\n",
       "False    0.93902\n",
       "True     0.06098\n",
       "Name: proportion, dtype: float64"
      ]
     },
     "execution_count": 333,
     "metadata": {},
     "output_type": "execute_result"
    }
   ],
   "source": [
    "df['over_18'].value_counts(dropna=False, normalize=True)"
   ]
  },
  {
   "cell_type": "markdown",
   "id": "53e19921-f504-4e35-966c-2f929936eb61",
   "metadata": {},
   "source": [
    "This field doesn't seem to contain useful info for this project."
   ]
  },
  {
   "cell_type": "markdown",
   "id": "ba56e551-2d35-485a-98de-f4c80214b771",
   "metadata": {},
   "source": [
    "### score"
   ]
  },
  {
   "cell_type": "code",
   "execution_count": 334,
   "id": "6b4928ab-5cba-432d-bcf3-f90b842950cf",
   "metadata": {},
   "outputs": [
    {
     "data": {
      "text/html": [
       "<div>\n",
       "<style scoped>\n",
       "    .dataframe tbody tr th:only-of-type {\n",
       "        vertical-align: middle;\n",
       "    }\n",
       "\n",
       "    .dataframe tbody tr th {\n",
       "        vertical-align: top;\n",
       "    }\n",
       "\n",
       "    .dataframe thead th {\n",
       "        text-align: right;\n",
       "    }\n",
       "</style>\n",
       "<table border=\"1\" class=\"dataframe\">\n",
       "  <thead>\n",
       "    <tr style=\"text-align: right;\">\n",
       "      <th></th>\n",
       "      <th>score</th>\n",
       "      <th>proportion</th>\n",
       "    </tr>\n",
       "  </thead>\n",
       "  <tbody>\n",
       "    <tr>\n",
       "      <th>0</th>\n",
       "      <td>0</td>\n",
       "      <td>0.022135</td>\n",
       "    </tr>\n",
       "    <tr>\n",
       "      <th>1</th>\n",
       "      <td>1</td>\n",
       "      <td>0.900782</td>\n",
       "    </tr>\n",
       "    <tr>\n",
       "      <th>2</th>\n",
       "      <td>2</td>\n",
       "      <td>0.044424</td>\n",
       "    </tr>\n",
       "    <tr>\n",
       "      <th>3</th>\n",
       "      <td>3</td>\n",
       "      <td>0.015043</td>\n",
       "    </tr>\n",
       "    <tr>\n",
       "      <th>4</th>\n",
       "      <td>4</td>\n",
       "      <td>0.004245</td>\n",
       "    </tr>\n",
       "    <tr>\n",
       "      <th>...</th>\n",
       "      <td>...</td>\n",
       "      <td>...</td>\n",
       "    </tr>\n",
       "    <tr>\n",
       "      <th>333</th>\n",
       "      <td>715</td>\n",
       "      <td>0.000001</td>\n",
       "    </tr>\n",
       "    <tr>\n",
       "      <th>334</th>\n",
       "      <td>745</td>\n",
       "      <td>0.000001</td>\n",
       "    </tr>\n",
       "    <tr>\n",
       "      <th>335</th>\n",
       "      <td>833</td>\n",
       "      <td>0.000001</td>\n",
       "    </tr>\n",
       "    <tr>\n",
       "      <th>336</th>\n",
       "      <td>1107</td>\n",
       "      <td>0.000001</td>\n",
       "    </tr>\n",
       "    <tr>\n",
       "      <th>337</th>\n",
       "      <td>1587</td>\n",
       "      <td>0.000001</td>\n",
       "    </tr>\n",
       "  </tbody>\n",
       "</table>\n",
       "<p>338 rows × 2 columns</p>\n",
       "</div>"
      ],
      "text/plain": [
       "     score  proportion\n",
       "0        0    0.022135\n",
       "1        1    0.900782\n",
       "2        2    0.044424\n",
       "3        3    0.015043\n",
       "4        4    0.004245\n",
       "..     ...         ...\n",
       "333    715    0.000001\n",
       "334    745    0.000001\n",
       "335    833    0.000001\n",
       "336   1107    0.000001\n",
       "337   1587    0.000001\n",
       "\n",
       "[338 rows x 2 columns]"
      ]
     },
     "execution_count": 334,
     "metadata": {},
     "output_type": "execute_result"
    }
   ],
   "source": [
    "score_vc = df['score'].value_counts(dropna=False, normalize=True).sort_index()\\\n",
    "    .reset_index()\n",
    "score_vc"
   ]
  },
  {
   "cell_type": "code",
   "execution_count": 337,
   "id": "7fe6d4b6-2ea5-499a-a6a7-4aa1da27af12",
   "metadata": {},
   "outputs": [],
   "source": [
    "cutoff = 40"
   ]
  },
  {
   "cell_type": "code",
   "execution_count": 340,
   "id": "b0f6508b-25ad-46dc-9b8d-d605e81c8b59",
   "metadata": {},
   "outputs": [
    {
     "data": {
      "text/plain": [
       "0.0010071407449913777"
      ]
     },
     "execution_count": 340,
     "metadata": {},
     "output_type": "execute_result"
    }
   ],
   "source": [
    "score_vc[score_vc['score'] >= cutoff]['proportion'].sum()"
   ]
  },
  {
   "cell_type": "code",
   "execution_count": 338,
   "id": "202d3807-2047-4af2-9a1d-a37098791832",
   "metadata": {},
   "outputs": [
    {
     "data": {
      "application/vnd.plotly.v1+json": {
       "config": {
        "plotlyServerURL": "https://plotly.com"
       },
       "data": [
        {
         "mode": "markers",
         "type": "scatter",
         "x": [
          0,
          1,
          2,
          3,
          4,
          5,
          6,
          7,
          8,
          9,
          10,
          11,
          12,
          13,
          14,
          15,
          16,
          17,
          18,
          19,
          20,
          21,
          22,
          23,
          24,
          25,
          26,
          27,
          28,
          29,
          30,
          31,
          32,
          33,
          34,
          35,
          36,
          37,
          38,
          39
         ],
         "y": [
          0.022135138379381723,
          0.9007819979447302,
          0.04442398283176358,
          0.0150427010109468,
          0.00424521534952761,
          0.0036098969144603746,
          0.002222150655373418,
          0.0013862823917250506,
          0.0008666094782483948,
          0.0007421807524863787,
          0.0005430947912671529,
          0.0003967080550765456,
          0.0003688945752003303,
          0.0002752070640383416,
          0.00022397170637162908,
          0.00020494143066685012,
          0.00019469435913350763,
          0.00015224220563823154,
          0.00013613966465726474,
          0.00011125391950486151,
          9.954298060961292e-05,
          7.319336809530362e-05,
          8.051270490483398e-05,
          7.904883754292791e-05,
          6.001856183814897e-05,
          6.148242920005505e-05,
          4.977149030480646e-05,
          4.977149030480646e-05,
          4.830762294290039e-05,
          3.513281668574574e-05,
          4.6843755580994316e-05,
          3.366894932383967e-05,
          3.513281668574574e-05,
          3.220508196193359e-05,
          3.513281668574574e-05,
          2.3421877790497158e-05,
          2.3421877790497158e-05,
          2.488574515240323e-05,
          1.6102540980966796e-05,
          2.1958010428591085e-05
         ]
        }
       ],
       "layout": {
        "autosize": true,
        "plot_bgcolor": "#fff",
        "showlegend": false,
        "template": {
         "data": {
          "bar": [
           {
            "error_x": {
             "color": "#2a3f5f"
            },
            "error_y": {
             "color": "#2a3f5f"
            },
            "marker": {
             "line": {
              "color": "#E5ECF6",
              "width": 0.5
             },
             "pattern": {
              "fillmode": "overlay",
              "size": 10,
              "solidity": 0.2
             }
            },
            "type": "bar"
           }
          ],
          "barpolar": [
           {
            "marker": {
             "line": {
              "color": "#E5ECF6",
              "width": 0.5
             },
             "pattern": {
              "fillmode": "overlay",
              "size": 10,
              "solidity": 0.2
             }
            },
            "type": "barpolar"
           }
          ],
          "carpet": [
           {
            "aaxis": {
             "endlinecolor": "#2a3f5f",
             "gridcolor": "white",
             "linecolor": "white",
             "minorgridcolor": "white",
             "startlinecolor": "#2a3f5f"
            },
            "baxis": {
             "endlinecolor": "#2a3f5f",
             "gridcolor": "white",
             "linecolor": "white",
             "minorgridcolor": "white",
             "startlinecolor": "#2a3f5f"
            },
            "type": "carpet"
           }
          ],
          "choropleth": [
           {
            "colorbar": {
             "outlinewidth": 0,
             "ticks": ""
            },
            "type": "choropleth"
           }
          ],
          "contour": [
           {
            "colorbar": {
             "outlinewidth": 0,
             "ticks": ""
            },
            "colorscale": [
             [
              0,
              "#0d0887"
             ],
             [
              0.1111111111111111,
              "#46039f"
             ],
             [
              0.2222222222222222,
              "#7201a8"
             ],
             [
              0.3333333333333333,
              "#9c179e"
             ],
             [
              0.4444444444444444,
              "#bd3786"
             ],
             [
              0.5555555555555556,
              "#d8576b"
             ],
             [
              0.6666666666666666,
              "#ed7953"
             ],
             [
              0.7777777777777778,
              "#fb9f3a"
             ],
             [
              0.8888888888888888,
              "#fdca26"
             ],
             [
              1,
              "#f0f921"
             ]
            ],
            "type": "contour"
           }
          ],
          "contourcarpet": [
           {
            "colorbar": {
             "outlinewidth": 0,
             "ticks": ""
            },
            "type": "contourcarpet"
           }
          ],
          "heatmap": [
           {
            "colorbar": {
             "outlinewidth": 0,
             "ticks": ""
            },
            "colorscale": [
             [
              0,
              "#0d0887"
             ],
             [
              0.1111111111111111,
              "#46039f"
             ],
             [
              0.2222222222222222,
              "#7201a8"
             ],
             [
              0.3333333333333333,
              "#9c179e"
             ],
             [
              0.4444444444444444,
              "#bd3786"
             ],
             [
              0.5555555555555556,
              "#d8576b"
             ],
             [
              0.6666666666666666,
              "#ed7953"
             ],
             [
              0.7777777777777778,
              "#fb9f3a"
             ],
             [
              0.8888888888888888,
              "#fdca26"
             ],
             [
              1,
              "#f0f921"
             ]
            ],
            "type": "heatmap"
           }
          ],
          "heatmapgl": [
           {
            "colorbar": {
             "outlinewidth": 0,
             "ticks": ""
            },
            "colorscale": [
             [
              0,
              "#0d0887"
             ],
             [
              0.1111111111111111,
              "#46039f"
             ],
             [
              0.2222222222222222,
              "#7201a8"
             ],
             [
              0.3333333333333333,
              "#9c179e"
             ],
             [
              0.4444444444444444,
              "#bd3786"
             ],
             [
              0.5555555555555556,
              "#d8576b"
             ],
             [
              0.6666666666666666,
              "#ed7953"
             ],
             [
              0.7777777777777778,
              "#fb9f3a"
             ],
             [
              0.8888888888888888,
              "#fdca26"
             ],
             [
              1,
              "#f0f921"
             ]
            ],
            "type": "heatmapgl"
           }
          ],
          "histogram": [
           {
            "marker": {
             "pattern": {
              "fillmode": "overlay",
              "size": 10,
              "solidity": 0.2
             }
            },
            "type": "histogram"
           }
          ],
          "histogram2d": [
           {
            "colorbar": {
             "outlinewidth": 0,
             "ticks": ""
            },
            "colorscale": [
             [
              0,
              "#0d0887"
             ],
             [
              0.1111111111111111,
              "#46039f"
             ],
             [
              0.2222222222222222,
              "#7201a8"
             ],
             [
              0.3333333333333333,
              "#9c179e"
             ],
             [
              0.4444444444444444,
              "#bd3786"
             ],
             [
              0.5555555555555556,
              "#d8576b"
             ],
             [
              0.6666666666666666,
              "#ed7953"
             ],
             [
              0.7777777777777778,
              "#fb9f3a"
             ],
             [
              0.8888888888888888,
              "#fdca26"
             ],
             [
              1,
              "#f0f921"
             ]
            ],
            "type": "histogram2d"
           }
          ],
          "histogram2dcontour": [
           {
            "colorbar": {
             "outlinewidth": 0,
             "ticks": ""
            },
            "colorscale": [
             [
              0,
              "#0d0887"
             ],
             [
              0.1111111111111111,
              "#46039f"
             ],
             [
              0.2222222222222222,
              "#7201a8"
             ],
             [
              0.3333333333333333,
              "#9c179e"
             ],
             [
              0.4444444444444444,
              "#bd3786"
             ],
             [
              0.5555555555555556,
              "#d8576b"
             ],
             [
              0.6666666666666666,
              "#ed7953"
             ],
             [
              0.7777777777777778,
              "#fb9f3a"
             ],
             [
              0.8888888888888888,
              "#fdca26"
             ],
             [
              1,
              "#f0f921"
             ]
            ],
            "type": "histogram2dcontour"
           }
          ],
          "mesh3d": [
           {
            "colorbar": {
             "outlinewidth": 0,
             "ticks": ""
            },
            "type": "mesh3d"
           }
          ],
          "parcoords": [
           {
            "line": {
             "colorbar": {
              "outlinewidth": 0,
              "ticks": ""
             }
            },
            "type": "parcoords"
           }
          ],
          "pie": [
           {
            "automargin": true,
            "type": "pie"
           }
          ],
          "scatter": [
           {
            "fillpattern": {
             "fillmode": "overlay",
             "size": 10,
             "solidity": 0.2
            },
            "type": "scatter"
           }
          ],
          "scatter3d": [
           {
            "line": {
             "colorbar": {
              "outlinewidth": 0,
              "ticks": ""
             }
            },
            "marker": {
             "colorbar": {
              "outlinewidth": 0,
              "ticks": ""
             }
            },
            "type": "scatter3d"
           }
          ],
          "scattercarpet": [
           {
            "marker": {
             "colorbar": {
              "outlinewidth": 0,
              "ticks": ""
             }
            },
            "type": "scattercarpet"
           }
          ],
          "scattergeo": [
           {
            "marker": {
             "colorbar": {
              "outlinewidth": 0,
              "ticks": ""
             }
            },
            "type": "scattergeo"
           }
          ],
          "scattergl": [
           {
            "marker": {
             "colorbar": {
              "outlinewidth": 0,
              "ticks": ""
             }
            },
            "type": "scattergl"
           }
          ],
          "scattermapbox": [
           {
            "marker": {
             "colorbar": {
              "outlinewidth": 0,
              "ticks": ""
             }
            },
            "type": "scattermapbox"
           }
          ],
          "scatterpolar": [
           {
            "marker": {
             "colorbar": {
              "outlinewidth": 0,
              "ticks": ""
             }
            },
            "type": "scatterpolar"
           }
          ],
          "scatterpolargl": [
           {
            "marker": {
             "colorbar": {
              "outlinewidth": 0,
              "ticks": ""
             }
            },
            "type": "scatterpolargl"
           }
          ],
          "scatterternary": [
           {
            "marker": {
             "colorbar": {
              "outlinewidth": 0,
              "ticks": ""
             }
            },
            "type": "scatterternary"
           }
          ],
          "surface": [
           {
            "colorbar": {
             "outlinewidth": 0,
             "ticks": ""
            },
            "colorscale": [
             [
              0,
              "#0d0887"
             ],
             [
              0.1111111111111111,
              "#46039f"
             ],
             [
              0.2222222222222222,
              "#7201a8"
             ],
             [
              0.3333333333333333,
              "#9c179e"
             ],
             [
              0.4444444444444444,
              "#bd3786"
             ],
             [
              0.5555555555555556,
              "#d8576b"
             ],
             [
              0.6666666666666666,
              "#ed7953"
             ],
             [
              0.7777777777777778,
              "#fb9f3a"
             ],
             [
              0.8888888888888888,
              "#fdca26"
             ],
             [
              1,
              "#f0f921"
             ]
            ],
            "type": "surface"
           }
          ],
          "table": [
           {
            "cells": {
             "fill": {
              "color": "#EBF0F8"
             },
             "line": {
              "color": "white"
             }
            },
            "header": {
             "fill": {
              "color": "#C8D4E3"
             },
             "line": {
              "color": "white"
             }
            },
            "type": "table"
           }
          ]
         },
         "layout": {
          "annotationdefaults": {
           "arrowcolor": "#2a3f5f",
           "arrowhead": 0,
           "arrowwidth": 1
          },
          "autotypenumbers": "strict",
          "coloraxis": {
           "colorbar": {
            "outlinewidth": 0,
            "ticks": ""
           }
          },
          "colorscale": {
           "diverging": [
            [
             0,
             "#8e0152"
            ],
            [
             0.1,
             "#c51b7d"
            ],
            [
             0.2,
             "#de77ae"
            ],
            [
             0.3,
             "#f1b6da"
            ],
            [
             0.4,
             "#fde0ef"
            ],
            [
             0.5,
             "#f7f7f7"
            ],
            [
             0.6,
             "#e6f5d0"
            ],
            [
             0.7,
             "#b8e186"
            ],
            [
             0.8,
             "#7fbc41"
            ],
            [
             0.9,
             "#4d9221"
            ],
            [
             1,
             "#276419"
            ]
           ],
           "sequential": [
            [
             0,
             "#0d0887"
            ],
            [
             0.1111111111111111,
             "#46039f"
            ],
            [
             0.2222222222222222,
             "#7201a8"
            ],
            [
             0.3333333333333333,
             "#9c179e"
            ],
            [
             0.4444444444444444,
             "#bd3786"
            ],
            [
             0.5555555555555556,
             "#d8576b"
            ],
            [
             0.6666666666666666,
             "#ed7953"
            ],
            [
             0.7777777777777778,
             "#fb9f3a"
            ],
            [
             0.8888888888888888,
             "#fdca26"
            ],
            [
             1,
             "#f0f921"
            ]
           ],
           "sequentialminus": [
            [
             0,
             "#0d0887"
            ],
            [
             0.1111111111111111,
             "#46039f"
            ],
            [
             0.2222222222222222,
             "#7201a8"
            ],
            [
             0.3333333333333333,
             "#9c179e"
            ],
            [
             0.4444444444444444,
             "#bd3786"
            ],
            [
             0.5555555555555556,
             "#d8576b"
            ],
            [
             0.6666666666666666,
             "#ed7953"
            ],
            [
             0.7777777777777778,
             "#fb9f3a"
            ],
            [
             0.8888888888888888,
             "#fdca26"
            ],
            [
             1,
             "#f0f921"
            ]
           ]
          },
          "colorway": [
           "#636efa",
           "#EF553B",
           "#00cc96",
           "#ab63fa",
           "#FFA15A",
           "#19d3f3",
           "#FF6692",
           "#B6E880",
           "#FF97FF",
           "#FECB52"
          ],
          "font": {
           "color": "#2a3f5f"
          },
          "geo": {
           "bgcolor": "white",
           "lakecolor": "white",
           "landcolor": "#E5ECF6",
           "showlakes": true,
           "showland": true,
           "subunitcolor": "white"
          },
          "hoverlabel": {
           "align": "left"
          },
          "hovermode": "closest",
          "mapbox": {
           "style": "light"
          },
          "paper_bgcolor": "white",
          "plot_bgcolor": "#E5ECF6",
          "polar": {
           "angularaxis": {
            "gridcolor": "white",
            "linecolor": "white",
            "ticks": ""
           },
           "bgcolor": "#E5ECF6",
           "radialaxis": {
            "gridcolor": "white",
            "linecolor": "white",
            "ticks": ""
           }
          },
          "scene": {
           "xaxis": {
            "backgroundcolor": "#E5ECF6",
            "gridcolor": "white",
            "gridwidth": 2,
            "linecolor": "white",
            "showbackground": true,
            "ticks": "",
            "zerolinecolor": "white"
           },
           "yaxis": {
            "backgroundcolor": "#E5ECF6",
            "gridcolor": "white",
            "gridwidth": 2,
            "linecolor": "white",
            "showbackground": true,
            "ticks": "",
            "zerolinecolor": "white"
           },
           "zaxis": {
            "backgroundcolor": "#E5ECF6",
            "gridcolor": "white",
            "gridwidth": 2,
            "linecolor": "white",
            "showbackground": true,
            "ticks": "",
            "zerolinecolor": "white"
           }
          },
          "shapedefaults": {
           "line": {
            "color": "#2a3f5f"
           }
          },
          "ternary": {
           "aaxis": {
            "gridcolor": "white",
            "linecolor": "white",
            "ticks": ""
           },
           "baxis": {
            "gridcolor": "white",
            "linecolor": "white",
            "ticks": ""
           },
           "bgcolor": "#E5ECF6",
           "caxis": {
            "gridcolor": "white",
            "linecolor": "white",
            "ticks": ""
           }
          },
          "title": {
           "x": 0.05
          },
          "xaxis": {
           "automargin": true,
           "gridcolor": "white",
           "linecolor": "white",
           "ticks": "",
           "title": {
            "standoff": 15
           },
           "zerolinecolor": "white",
           "zerolinewidth": 2
          },
          "yaxis": {
           "automargin": true,
           "gridcolor": "white",
           "linecolor": "white",
           "ticks": "",
           "title": {
            "standoff": 15
           },
           "zerolinecolor": "white",
           "zerolinewidth": 2
          }
         }
        },
        "title": {
         "text": "<b>score</b> frequency plot, < 40"
        },
        "xaxis": {
         "autorange": true,
         "range": [
          0,
          41.311889525092624
         ],
         "rangemode": "tozero",
         "title": {
          "text": "score"
         },
         "type": "linear"
        },
        "yaxis": {
         "autorange": true,
         "gridcolor": "#eee",
         "range": [
          0,
          0.965515418016276
         ],
         "rangemode": "tozero",
         "title": {
          "text": "proportion"
         },
         "type": "linear"
        }
       }
      },
      "text/html": [
       "<div>                            <div id=\"711f7aa5-b2cc-4f6f-91af-8047ac51e430\" class=\"plotly-graph-div\" style=\"height:400px; width:100%;\"></div>            <script type=\"text/javascript\">                require([\"plotly\"], function(Plotly) {                    window.PLOTLYENV=window.PLOTLYENV || {};                                    if (document.getElementById(\"711f7aa5-b2cc-4f6f-91af-8047ac51e430\")) {                    Plotly.newPlot(                        \"711f7aa5-b2cc-4f6f-91af-8047ac51e430\",                        [{\"mode\":\"markers\",\"x\":[0,1,2,3,4,5,6,7,8,9,10,11,12,13,14,15,16,17,18,19,20,21,22,23,24,25,26,27,28,29,30,31,32,33,34,35,36,37,38,39],\"y\":[0.022135138379381723,0.9007819979447302,0.04442398283176358,0.0150427010109468,0.00424521534952761,0.0036098969144603746,0.002222150655373418,0.0013862823917250506,0.0008666094782483948,0.0007421807524863787,0.0005430947912671529,0.0003967080550765456,0.0003688945752003303,0.0002752070640383416,0.00022397170637162908,0.00020494143066685012,0.00019469435913350763,0.00015224220563823154,0.00013613966465726474,0.00011125391950486151,9.954298060961292e-05,7.319336809530362e-05,8.051270490483398e-05,7.904883754292791e-05,6.001856183814897e-05,6.148242920005505e-05,4.977149030480646e-05,4.977149030480646e-05,4.830762294290039e-05,3.513281668574574e-05,4.6843755580994316e-05,3.366894932383967e-05,3.513281668574574e-05,3.220508196193359e-05,3.513281668574574e-05,2.3421877790497158e-05,2.3421877790497158e-05,2.488574515240323e-05,1.6102540980966796e-05,2.1958010428591085e-05],\"type\":\"scatter\"}],                        {\"template\":{\"data\":{\"histogram2dcontour\":[{\"type\":\"histogram2dcontour\",\"colorbar\":{\"outlinewidth\":0,\"ticks\":\"\"},\"colorscale\":[[0.0,\"#0d0887\"],[0.1111111111111111,\"#46039f\"],[0.2222222222222222,\"#7201a8\"],[0.3333333333333333,\"#9c179e\"],[0.4444444444444444,\"#bd3786\"],[0.5555555555555556,\"#d8576b\"],[0.6666666666666666,\"#ed7953\"],[0.7777777777777778,\"#fb9f3a\"],[0.8888888888888888,\"#fdca26\"],[1.0,\"#f0f921\"]]}],\"choropleth\":[{\"type\":\"choropleth\",\"colorbar\":{\"outlinewidth\":0,\"ticks\":\"\"}}],\"histogram2d\":[{\"type\":\"histogram2d\",\"colorbar\":{\"outlinewidth\":0,\"ticks\":\"\"},\"colorscale\":[[0.0,\"#0d0887\"],[0.1111111111111111,\"#46039f\"],[0.2222222222222222,\"#7201a8\"],[0.3333333333333333,\"#9c179e\"],[0.4444444444444444,\"#bd3786\"],[0.5555555555555556,\"#d8576b\"],[0.6666666666666666,\"#ed7953\"],[0.7777777777777778,\"#fb9f3a\"],[0.8888888888888888,\"#fdca26\"],[1.0,\"#f0f921\"]]}],\"heatmap\":[{\"type\":\"heatmap\",\"colorbar\":{\"outlinewidth\":0,\"ticks\":\"\"},\"colorscale\":[[0.0,\"#0d0887\"],[0.1111111111111111,\"#46039f\"],[0.2222222222222222,\"#7201a8\"],[0.3333333333333333,\"#9c179e\"],[0.4444444444444444,\"#bd3786\"],[0.5555555555555556,\"#d8576b\"],[0.6666666666666666,\"#ed7953\"],[0.7777777777777778,\"#fb9f3a\"],[0.8888888888888888,\"#fdca26\"],[1.0,\"#f0f921\"]]}],\"heatmapgl\":[{\"type\":\"heatmapgl\",\"colorbar\":{\"outlinewidth\":0,\"ticks\":\"\"},\"colorscale\":[[0.0,\"#0d0887\"],[0.1111111111111111,\"#46039f\"],[0.2222222222222222,\"#7201a8\"],[0.3333333333333333,\"#9c179e\"],[0.4444444444444444,\"#bd3786\"],[0.5555555555555556,\"#d8576b\"],[0.6666666666666666,\"#ed7953\"],[0.7777777777777778,\"#fb9f3a\"],[0.8888888888888888,\"#fdca26\"],[1.0,\"#f0f921\"]]}],\"contourcarpet\":[{\"type\":\"contourcarpet\",\"colorbar\":{\"outlinewidth\":0,\"ticks\":\"\"}}],\"contour\":[{\"type\":\"contour\",\"colorbar\":{\"outlinewidth\":0,\"ticks\":\"\"},\"colorscale\":[[0.0,\"#0d0887\"],[0.1111111111111111,\"#46039f\"],[0.2222222222222222,\"#7201a8\"],[0.3333333333333333,\"#9c179e\"],[0.4444444444444444,\"#bd3786\"],[0.5555555555555556,\"#d8576b\"],[0.6666666666666666,\"#ed7953\"],[0.7777777777777778,\"#fb9f3a\"],[0.8888888888888888,\"#fdca26\"],[1.0,\"#f0f921\"]]}],\"surface\":[{\"type\":\"surface\",\"colorbar\":{\"outlinewidth\":0,\"ticks\":\"\"},\"colorscale\":[[0.0,\"#0d0887\"],[0.1111111111111111,\"#46039f\"],[0.2222222222222222,\"#7201a8\"],[0.3333333333333333,\"#9c179e\"],[0.4444444444444444,\"#bd3786\"],[0.5555555555555556,\"#d8576b\"],[0.6666666666666666,\"#ed7953\"],[0.7777777777777778,\"#fb9f3a\"],[0.8888888888888888,\"#fdca26\"],[1.0,\"#f0f921\"]]}],\"mesh3d\":[{\"type\":\"mesh3d\",\"colorbar\":{\"outlinewidth\":0,\"ticks\":\"\"}}],\"scatter\":[{\"fillpattern\":{\"fillmode\":\"overlay\",\"size\":10,\"solidity\":0.2},\"type\":\"scatter\"}],\"parcoords\":[{\"type\":\"parcoords\",\"line\":{\"colorbar\":{\"outlinewidth\":0,\"ticks\":\"\"}}}],\"scatterpolargl\":[{\"type\":\"scatterpolargl\",\"marker\":{\"colorbar\":{\"outlinewidth\":0,\"ticks\":\"\"}}}],\"bar\":[{\"error_x\":{\"color\":\"#2a3f5f\"},\"error_y\":{\"color\":\"#2a3f5f\"},\"marker\":{\"line\":{\"color\":\"#E5ECF6\",\"width\":0.5},\"pattern\":{\"fillmode\":\"overlay\",\"size\":10,\"solidity\":0.2}},\"type\":\"bar\"}],\"scattergeo\":[{\"type\":\"scattergeo\",\"marker\":{\"colorbar\":{\"outlinewidth\":0,\"ticks\":\"\"}}}],\"scatterpolar\":[{\"type\":\"scatterpolar\",\"marker\":{\"colorbar\":{\"outlinewidth\":0,\"ticks\":\"\"}}}],\"histogram\":[{\"marker\":{\"pattern\":{\"fillmode\":\"overlay\",\"size\":10,\"solidity\":0.2}},\"type\":\"histogram\"}],\"scattergl\":[{\"type\":\"scattergl\",\"marker\":{\"colorbar\":{\"outlinewidth\":0,\"ticks\":\"\"}}}],\"scatter3d\":[{\"type\":\"scatter3d\",\"line\":{\"colorbar\":{\"outlinewidth\":0,\"ticks\":\"\"}},\"marker\":{\"colorbar\":{\"outlinewidth\":0,\"ticks\":\"\"}}}],\"scattermapbox\":[{\"type\":\"scattermapbox\",\"marker\":{\"colorbar\":{\"outlinewidth\":0,\"ticks\":\"\"}}}],\"scatterternary\":[{\"type\":\"scatterternary\",\"marker\":{\"colorbar\":{\"outlinewidth\":0,\"ticks\":\"\"}}}],\"scattercarpet\":[{\"type\":\"scattercarpet\",\"marker\":{\"colorbar\":{\"outlinewidth\":0,\"ticks\":\"\"}}}],\"carpet\":[{\"aaxis\":{\"endlinecolor\":\"#2a3f5f\",\"gridcolor\":\"white\",\"linecolor\":\"white\",\"minorgridcolor\":\"white\",\"startlinecolor\":\"#2a3f5f\"},\"baxis\":{\"endlinecolor\":\"#2a3f5f\",\"gridcolor\":\"white\",\"linecolor\":\"white\",\"minorgridcolor\":\"white\",\"startlinecolor\":\"#2a3f5f\"},\"type\":\"carpet\"}],\"table\":[{\"cells\":{\"fill\":{\"color\":\"#EBF0F8\"},\"line\":{\"color\":\"white\"}},\"header\":{\"fill\":{\"color\":\"#C8D4E3\"},\"line\":{\"color\":\"white\"}},\"type\":\"table\"}],\"barpolar\":[{\"marker\":{\"line\":{\"color\":\"#E5ECF6\",\"width\":0.5},\"pattern\":{\"fillmode\":\"overlay\",\"size\":10,\"solidity\":0.2}},\"type\":\"barpolar\"}],\"pie\":[{\"automargin\":true,\"type\":\"pie\"}]},\"layout\":{\"autotypenumbers\":\"strict\",\"colorway\":[\"#636efa\",\"#EF553B\",\"#00cc96\",\"#ab63fa\",\"#FFA15A\",\"#19d3f3\",\"#FF6692\",\"#B6E880\",\"#FF97FF\",\"#FECB52\"],\"font\":{\"color\":\"#2a3f5f\"},\"hovermode\":\"closest\",\"hoverlabel\":{\"align\":\"left\"},\"paper_bgcolor\":\"white\",\"plot_bgcolor\":\"#E5ECF6\",\"polar\":{\"bgcolor\":\"#E5ECF6\",\"angularaxis\":{\"gridcolor\":\"white\",\"linecolor\":\"white\",\"ticks\":\"\"},\"radialaxis\":{\"gridcolor\":\"white\",\"linecolor\":\"white\",\"ticks\":\"\"}},\"ternary\":{\"bgcolor\":\"#E5ECF6\",\"aaxis\":{\"gridcolor\":\"white\",\"linecolor\":\"white\",\"ticks\":\"\"},\"baxis\":{\"gridcolor\":\"white\",\"linecolor\":\"white\",\"ticks\":\"\"},\"caxis\":{\"gridcolor\":\"white\",\"linecolor\":\"white\",\"ticks\":\"\"}},\"coloraxis\":{\"colorbar\":{\"outlinewidth\":0,\"ticks\":\"\"}},\"colorscale\":{\"sequential\":[[0.0,\"#0d0887\"],[0.1111111111111111,\"#46039f\"],[0.2222222222222222,\"#7201a8\"],[0.3333333333333333,\"#9c179e\"],[0.4444444444444444,\"#bd3786\"],[0.5555555555555556,\"#d8576b\"],[0.6666666666666666,\"#ed7953\"],[0.7777777777777778,\"#fb9f3a\"],[0.8888888888888888,\"#fdca26\"],[1.0,\"#f0f921\"]],\"sequentialminus\":[[0.0,\"#0d0887\"],[0.1111111111111111,\"#46039f\"],[0.2222222222222222,\"#7201a8\"],[0.3333333333333333,\"#9c179e\"],[0.4444444444444444,\"#bd3786\"],[0.5555555555555556,\"#d8576b\"],[0.6666666666666666,\"#ed7953\"],[0.7777777777777778,\"#fb9f3a\"],[0.8888888888888888,\"#fdca26\"],[1.0,\"#f0f921\"]],\"diverging\":[[0,\"#8e0152\"],[0.1,\"#c51b7d\"],[0.2,\"#de77ae\"],[0.3,\"#f1b6da\"],[0.4,\"#fde0ef\"],[0.5,\"#f7f7f7\"],[0.6,\"#e6f5d0\"],[0.7,\"#b8e186\"],[0.8,\"#7fbc41\"],[0.9,\"#4d9221\"],[1,\"#276419\"]]},\"xaxis\":{\"gridcolor\":\"white\",\"linecolor\":\"white\",\"ticks\":\"\",\"title\":{\"standoff\":15},\"zerolinecolor\":\"white\",\"automargin\":true,\"zerolinewidth\":2},\"yaxis\":{\"gridcolor\":\"white\",\"linecolor\":\"white\",\"ticks\":\"\",\"title\":{\"standoff\":15},\"zerolinecolor\":\"white\",\"automargin\":true,\"zerolinewidth\":2},\"scene\":{\"xaxis\":{\"backgroundcolor\":\"#E5ECF6\",\"gridcolor\":\"white\",\"linecolor\":\"white\",\"showbackground\":true,\"ticks\":\"\",\"zerolinecolor\":\"white\",\"gridwidth\":2},\"yaxis\":{\"backgroundcolor\":\"#E5ECF6\",\"gridcolor\":\"white\",\"linecolor\":\"white\",\"showbackground\":true,\"ticks\":\"\",\"zerolinecolor\":\"white\",\"gridwidth\":2},\"zaxis\":{\"backgroundcolor\":\"#E5ECF6\",\"gridcolor\":\"white\",\"linecolor\":\"white\",\"showbackground\":true,\"ticks\":\"\",\"zerolinecolor\":\"white\",\"gridwidth\":2}},\"shapedefaults\":{\"line\":{\"color\":\"#2a3f5f\"}},\"annotationdefaults\":{\"arrowcolor\":\"#2a3f5f\",\"arrowhead\":0,\"arrowwidth\":1},\"geo\":{\"bgcolor\":\"white\",\"landcolor\":\"#E5ECF6\",\"subunitcolor\":\"white\",\"showland\":true,\"showlakes\":true,\"lakecolor\":\"white\"},\"title\":{\"x\":0.05},\"mapbox\":{\"style\":\"light\"}}},\"yaxis\":{\"gridcolor\":\"#eee\",\"title\":{\"text\":\"proportion\"},\"rangemode\":\"tozero\"},\"xaxis\":{\"title\":{\"text\":\"score\"},\"rangemode\":\"tozero\"},\"title\":{\"text\":\"<b>score</b> frequency plot, < 40\"},\"plot_bgcolor\":\"#fff\",\"showlegend\":false,\"height\":400},                        {\"responsive\": true}                    ).then(function(){\n",
       "                            \n",
       "var gd = document.getElementById('711f7aa5-b2cc-4f6f-91af-8047ac51e430');\n",
       "var x = new MutationObserver(function (mutations, observer) {{\n",
       "        var display = window.getComputedStyle(gd).display;\n",
       "        if (!display || display === 'none') {{\n",
       "            console.log([gd, 'removed!']);\n",
       "            Plotly.purge(gd);\n",
       "            observer.disconnect();\n",
       "        }}\n",
       "}});\n",
       "\n",
       "// Listen for the removal of the full notebook cells\n",
       "var notebookContainer = gd.closest('#notebook-container');\n",
       "if (notebookContainer) {{\n",
       "    x.observe(notebookContainer, {childList: true});\n",
       "}}\n",
       "\n",
       "// Listen for the clearing of the current output cell\n",
       "var outputEl = gd.closest('.output');\n",
       "if (outputEl) {{\n",
       "    x.observe(outputEl, {childList: true});\n",
       "}}\n",
       "\n",
       "                        })                };                });            </script>        </div>"
      ]
     },
     "metadata": {},
     "output_type": "display_data"
    }
   ],
   "source": [
    "score_vc2 = score_vc[\n",
    "    score_vc['score'] < cutoff\n",
    "].copy()\n",
    "\n",
    "traces = []\n",
    "trace = go.Scatter(\n",
    "    x=score_vc2['score'],\n",
    "    y=score_vc2['proportion'],\n",
    "    mode='markers'\n",
    ")\n",
    "traces.append(trace)\n",
    "fig = go.Figure(traces)\n",
    "\n",
    "    \n",
    "fig.update_yaxes(gridcolor='#eee', title='proportion', rangemode='tozero')\n",
    "fig.update_xaxes(title='score', rangemode='tozero')\n",
    "fig.update_layout(\n",
    "    title=f'<b>score</b> frequency plot, < {cutoff}',\n",
    "    plot_bgcolor='#fff',\n",
    "    showlegend=False,\n",
    "    height=400\n",
    ")\n",
    "\n",
    "fig.show()"
   ]
  },
  {
   "cell_type": "markdown",
   "id": "40ab133d-95ee-4ca6-b45d-95e556b66112",
   "metadata": {},
   "source": [
    "#### Key takeaways about the `score` field from the explorations above:  \n",
    "- most posts (90%) have a score of 1  \n",
    "- 0.1% of posts had a score of 40\n",
    "- it looks like `score` and up/downvoting is not as actively used in this subreddit as in others, as expected  \n",
    "\n",
    "#### Analysis ideas for this field:  \n",
    "- This field doesn't seem to contain useful info for this project.  "
   ]
  },
  {
   "cell_type": "markdown",
   "id": "83d0cfd5-cbff-43e2-bdaf-abe38cd51bd8",
   "metadata": {},
   "source": [
    "### seftext"
   ]
  },
  {
   "cell_type": "code",
   "execution_count": null,
   "id": "7dbc1f0e-687d-4446-b4b2-6aefc1ced8e9",
   "metadata": {},
   "outputs": [],
   "source": []
  },
  {
   "cell_type": "code",
   "execution_count": null,
   "id": "614ea1f3-84d1-434d-b6e7-5be8a17b9838",
   "metadata": {},
   "outputs": [],
   "source": []
  },
  {
   "cell_type": "code",
   "execution_count": null,
   "id": "397bd28a-68a4-43d5-9868-2f539fcbba26",
   "metadata": {},
   "outputs": [],
   "source": []
  },
  {
   "cell_type": "code",
   "execution_count": 309,
   "id": "7f06794c-23ec-4c7c-bad4-37e7394ea915",
   "metadata": {},
   "outputs": [
    {
     "data": {
      "text/plain": [
       "Index(['author', 'author_flair_text', 'domain', 'full_link', 'id', 'locked',\n",
       "       'num_comments', 'num_crossposts', 'over_18', 'score', 'selftext',\n",
       "       'title', 'url', 'crosspost_subreddits', 'full_post_text',\n",
       "       'created_utc_ns_dt', 'edited_utc_ns_dt', 'age', 'sex'],\n",
       "      dtype='object')"
      ]
     },
     "execution_count": 309,
     "metadata": {},
     "output_type": "execute_result"
    }
   ],
   "source": [
    "df.columns"
   ]
  },
  {
   "cell_type": "code",
   "execution_count": null,
   "id": "f92a8cfa-8d20-4479-8054-f96dca72f275",
   "metadata": {},
   "outputs": [],
   "source": []
  },
  {
   "cell_type": "code",
   "execution_count": null,
   "id": "f6d6c4f8-ac0c-4fd7-a330-088cd6b9ebe7",
   "metadata": {},
   "outputs": [],
   "source": []
  },
  {
   "cell_type": "code",
   "execution_count": null,
   "id": "9c7eb4c1-a839-44e8-a7db-8101f8fec7e1",
   "metadata": {},
   "outputs": [],
   "source": []
  },
  {
   "cell_type": "code",
   "execution_count": 9,
   "id": "3e782bda-63ab-4582-9128-f1ff04fd1aea",
   "metadata": {},
   "outputs": [
    {
     "data": {
      "text/plain": [
       "crosspost_subreddits\n",
       "NaN             683019\n",
       "medical             24\n",
       "Advice               9\n",
       "DiagnoseMe           8\n",
       "Dermatology          6\n",
       "                 ...  \n",
       "loseit               1\n",
       "eczema               1\n",
       "dpdr                 1\n",
       "alcoholic            1\n",
       "vaxxhappened         1\n",
       "Name: count, Length: 103, dtype: int64"
      ]
     },
     "execution_count": 9,
     "metadata": {},
     "output_type": "execute_result"
    }
   ],
   "source": [
    "df['crosspost_subreddits'].value_counts(dropna=False)"
   ]
  },
  {
   "cell_type": "code",
   "execution_count": 15,
   "id": "97f1d551-9455-4f81-bdb1-c04ea106a7d8",
   "metadata": {},
   "outputs": [
    {
     "data": {
      "text/plain": [
       "age\n",
       "NaN     266702\n",
       "20.0     28094\n",
       "21.0     27885\n",
       "22.0     27603\n",
       "23.0     25820\n",
       "         ...  \n",
       "91.0        26\n",
       "94.0        26\n",
       "93.0        25\n",
       "96.0        25\n",
       "98.0        20\n",
       "Name: count, Length: 100, dtype: int64"
      ]
     },
     "execution_count": 15,
     "metadata": {},
     "output_type": "execute_result"
    }
   ],
   "source": [
    "df['age'].value_counts(dropna=False)"
   ]
  },
  {
   "cell_type": "code",
   "execution_count": 18,
   "id": "56292940-22d0-41f7-a902-b0bf13d888c1",
   "metadata": {},
   "outputs": [
    {
     "data": {
      "text/plain": [
       "age\n",
       "(0.901, 5.9]    0.005362\n",
       "(5.9, 10.8]     0.003397\n",
       "(10.8, 15.7]    0.028510\n",
       "(15.7, 20.6]    0.157570\n",
       "(20.6, 25.5]    0.189942\n",
       "(25.5, 30.4]    0.118602\n",
       "(30.4, 35.3]    0.054174\n",
       "(35.3, 40.2]    0.022367\n",
       "(40.2, 45.1]    0.008198\n",
       "(45.1, 50.0]    0.005640\n",
       "(50.0, 54.9]    0.002957\n",
       "(54.9, 59.8]    0.003729\n",
       "(59.8, 64.7]    0.003102\n",
       "(64.7, 69.6]    0.002084\n",
       "(69.6, 74.5]    0.001417\n",
       "(74.5, 79.4]    0.000868\n",
       "(79.4, 84.3]    0.000682\n",
       "(84.3, 89.2]    0.000441\n",
       "(89.2, 94.1]    0.000291\n",
       "(94.1, 99.0]    0.000297\n",
       "Name: proportion, dtype: float64"
      ]
     },
     "execution_count": 18,
     "metadata": {},
     "output_type": "execute_result"
    }
   ],
   "source": [
    "df['age'].value_counts(normalize=True, bins=20).sort_index()"
   ]
  },
  {
   "cell_type": "code",
   "execution_count": 20,
   "id": "394f85b7-e069-4cef-a004-aee4cb29bd7f",
   "metadata": {},
   "outputs": [
    {
     "data": {
      "text/plain": [
       "sex\n",
       "NaN     0.537336\n",
       "AMAB    0.252474\n",
       "AFAB    0.210190\n",
       "Name: proportion, dtype: float64"
      ]
     },
     "execution_count": 20,
     "metadata": {},
     "output_type": "execute_result"
    }
   ],
   "source": [
    "df['sex'].value_counts(dropna=False, normalize=True)"
   ]
  },
  {
   "cell_type": "code",
   "execution_count": 21,
   "id": "2fcd95db-1ea7-4feb-9e7e-17744f2581c4",
   "metadata": {},
   "outputs": [
    {
     "data": {
      "text/plain": [
       "sex   age         \n",
       "AFAB  (0.901, 5.9]    0.007556\n",
       "      (5.9, 10.8]     0.004304\n",
       "      (10.8, 15.7]    0.026518\n",
       "      (15.7, 20.6]    0.207978\n",
       "      (20.6, 25.5]    0.312746\n",
       "      (25.5, 30.4]    0.195652\n",
       "      (30.4, 35.3]    0.087986\n",
       "      (35.3, 40.2]    0.036949\n",
       "      (40.2, 45.1]    0.014227\n",
       "      (45.1, 50.0]    0.011079\n",
       "      (50.0, 54.9]    0.005850\n",
       "      (54.9, 59.8]    0.006824\n",
       "      (59.8, 64.7]    0.005230\n",
       "      (64.7, 69.6]    0.003774\n",
       "      (69.6, 74.5]    0.002430\n",
       "      (74.5, 79.4]    0.001490\n",
       "      (79.4, 84.3]    0.001260\n",
       "      (84.3, 89.2]    0.000850\n",
       "      (89.2, 94.1]    0.000620\n",
       "      (94.1, 99.0]    0.000884\n",
       "AMAB  (0.901, 5.9]    0.006667\n",
       "      (5.9, 10.8]     0.004139\n",
       "      (10.8, 15.7]    0.052403\n",
       "      (15.7, 20.6]    0.265017\n",
       "      (20.6, 25.5]    0.282507\n",
       "      (25.5, 30.4]    0.169244\n",
       "      (30.4, 35.3]    0.078369\n",
       "      (35.3, 40.2]    0.032094\n",
       "      (40.2, 45.1]    0.011989\n",
       "      (45.1, 50.0]    0.006818\n",
       "      (50.0, 54.9]    0.003542\n",
       "      (54.9, 59.8]    0.005055\n",
       "      (59.8, 64.7]    0.004145\n",
       "      (64.7, 69.6]    0.002783\n",
       "      (69.6, 74.5]    0.001757\n",
       "      (74.5, 79.4]    0.001165\n",
       "      (79.4, 84.3]    0.000928\n",
       "      (84.3, 89.2]    0.000626\n",
       "      (89.2, 94.1]    0.000284\n",
       "      (94.1, 99.0]    0.000128\n",
       "Name: proportion, dtype: float64"
      ]
     },
     "execution_count": 21,
     "metadata": {},
     "output_type": "execute_result"
    }
   ],
   "source": [
    "df.groupby('sex')['age'].value_counts(normalize=True, bins=20).sort_index()"
   ]
  },
  {
   "cell_type": "code",
   "execution_count": null,
   "id": "890c00c9-f77f-4673-862c-7a62d5e4b7ab",
   "metadata": {},
   "outputs": [],
   "source": []
  }
 ],
 "metadata": {
  "kernelspec": {
   "display_name": "Python 3 (ipykernel)",
   "language": "python",
   "name": "python3"
  },
  "language_info": {
   "codemirror_mode": {
    "name": "ipython",
    "version": 3
   },
   "file_extension": ".py",
   "mimetype": "text/x-python",
   "name": "python",
   "nbconvert_exporter": "python",
   "pygments_lexer": "ipython3",
   "version": "3.11.4"
  }
 },
 "nbformat": 4,
 "nbformat_minor": 5
}
