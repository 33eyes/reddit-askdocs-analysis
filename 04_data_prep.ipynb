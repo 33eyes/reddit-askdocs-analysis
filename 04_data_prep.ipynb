{
 "cells": [
  {
   "cell_type": "markdown",
   "id": "df66af27-1037-4f2c-9613-e353d2a1636a",
   "metadata": {},
   "source": [
    "# Data prep for analyses  \n",
    "\n",
    "#### Notebook objectives:  \n",
    "- Filter, clean and transform the raw AskDocs subreddit data\n",
    "- Save the resulting analysis dataset  \n",
    "\n",
    "#### Steps:  \n",
    "First, we need to work out the needed data prep steps on a smaller data subset. We'll use the 2017 raw dataset for that.  \n",
    "1. [Load 2017 data](#Load-2017-data)  \n",
    "2. [Filter out irrelevant messages](#Filter-out-irrelevant-messages)  \n",
    "3. [Consolidate post and cross-post content](#Consolidate-post-and-cross-post-content)\n",
    "   - [Get cross-post subreddit names](#Get-cross-post-subreddit-names)  \n",
    "4. [Consolidate the title and post body as the full user question](#Consolidate-the-title-and-post-body-as-the-full-user-question)\n",
    "5. [Fix timestamp formats](#Fix-timestamp-formats)\n",
    "6. [Update the selected fields list](#Update-the-selected-fields-list)\n",
    "\n",
    "Next, we apply the above data prep steps to the entire dataset.  \n",
    "7. [Load all data](#Load-all-data)  \n",
    "8. [Apply data prep steps](#Apply-data-prep-steps)  \n",
    "9. [Save the analysis dataset](#Save-the-analysis-dataset)\n",
    "   "
   ]
  },
  {
   "cell_type": "code",
   "execution_count": 1,
   "id": "e5fdd627-e069-47cc-994b-51f0337dd198",
   "metadata": {},
   "outputs": [],
   "source": [
    "import pickle\n",
    "import pandas as pd\n",
    "import numpy as np\n",
    "from IPython.display import display, HTML, Markdown, clear_output\n",
    "import ipywidgets as widgets\n",
    "import time "
   ]
  },
  {
   "cell_type": "code",
   "execution_count": 3,
   "id": "d7efbb61-329b-4705-81cb-7435165628a0",
   "metadata": {},
   "outputs": [],
   "source": [
    "DATA_PATH = 'data/'\n",
    "OUTPUT_PATH = 'output/'"
   ]
  },
  {
   "cell_type": "markdown",
   "id": "9ca5cd5a-9ce0-46bc-aa55-dbb25c367985",
   "metadata": {},
   "source": [
    "## Load 2017 data"
   ]
  },
  {
   "cell_type": "code",
   "execution_count": 32,
   "id": "2eaa7e02-bd09-4648-96f1-b0102967d265",
   "metadata": {},
   "outputs": [],
   "source": [
    "with open(DATA_PATH + \"reddit_askdocs_submissions_2017.pkl\", \"rb\") as f:\n",
    "    d_2017 = pickle.load(f)"
   ]
  },
  {
   "cell_type": "code",
   "execution_count": 143,
   "id": "06d29630-6975-4446-9174-415d41483b62",
   "metadata": {},
   "outputs": [],
   "source": [
    "df_2017 = pd.DataFrame(d_2017)"
   ]
  },
  {
   "cell_type": "code",
   "execution_count": 144,
   "id": "84f4ad13-c725-44eb-8c52-248abb5daccd",
   "metadata": {},
   "outputs": [
    {
     "data": {
      "text/html": [
       "<div>\n",
       "<style scoped>\n",
       "    .dataframe tbody tr th:only-of-type {\n",
       "        vertical-align: middle;\n",
       "    }\n",
       "\n",
       "    .dataframe tbody tr th {\n",
       "        vertical-align: top;\n",
       "    }\n",
       "\n",
       "    .dataframe thead th {\n",
       "        text-align: right;\n",
       "    }\n",
       "</style>\n",
       "<table border=\"1\" class=\"dataframe\">\n",
       "  <thead>\n",
       "    <tr style=\"text-align: right;\">\n",
       "      <th></th>\n",
       "      <th>author</th>\n",
       "      <th>author_flair_css_class</th>\n",
       "      <th>author_flair_text</th>\n",
       "      <th>brand_safe</th>\n",
       "      <th>can_mod_post</th>\n",
       "      <th>contest_mode</th>\n",
       "      <th>created_utc</th>\n",
       "      <th>domain</th>\n",
       "      <th>full_link</th>\n",
       "      <th>id</th>\n",
       "      <th>...</th>\n",
       "      <th>approved_at_utc</th>\n",
       "      <th>banned_at_utc</th>\n",
       "      <th>view_count</th>\n",
       "      <th>gilded</th>\n",
       "      <th>media_embed</th>\n",
       "      <th>secure_media_embed</th>\n",
       "      <th>author_created_utc</th>\n",
       "      <th>author_fullname</th>\n",
       "      <th>media</th>\n",
       "      <th>secure_media</th>\n",
       "    </tr>\n",
       "  </thead>\n",
       "  <tbody>\n",
       "    <tr>\n",
       "      <th>0</th>\n",
       "      <td>[deleted]</td>\n",
       "      <td>None</td>\n",
       "      <td>None</td>\n",
       "      <td>True</td>\n",
       "      <td>False</td>\n",
       "      <td>False</td>\n",
       "      <td>1514764452</td>\n",
       "      <td>self.AskDocs</td>\n",
       "      <td>https://www.reddit.com/r/AskDocs/comments/7nbw...</td>\n",
       "      <td>7nbwtn</td>\n",
       "      <td>...</td>\n",
       "      <td>NaN</td>\n",
       "      <td>NaN</td>\n",
       "      <td>NaN</td>\n",
       "      <td>NaN</td>\n",
       "      <td>NaN</td>\n",
       "      <td>NaN</td>\n",
       "      <td>NaN</td>\n",
       "      <td>NaN</td>\n",
       "      <td>NaN</td>\n",
       "      <td>NaN</td>\n",
       "    </tr>\n",
       "    <tr>\n",
       "      <th>1</th>\n",
       "      <td>XenonCSGO</td>\n",
       "      <td>default</td>\n",
       "      <td>This user has not yet been verified.</td>\n",
       "      <td>True</td>\n",
       "      <td>False</td>\n",
       "      <td>False</td>\n",
       "      <td>1514764122</td>\n",
       "      <td>self.AskDocs</td>\n",
       "      <td>https://www.reddit.com/r/AskDocs/comments/7nbv...</td>\n",
       "      <td>7nbvsv</td>\n",
       "      <td>...</td>\n",
       "      <td>NaN</td>\n",
       "      <td>NaN</td>\n",
       "      <td>NaN</td>\n",
       "      <td>NaN</td>\n",
       "      <td>NaN</td>\n",
       "      <td>NaN</td>\n",
       "      <td>NaN</td>\n",
       "      <td>NaN</td>\n",
       "      <td>NaN</td>\n",
       "      <td>NaN</td>\n",
       "    </tr>\n",
       "    <tr>\n",
       "      <th>2</th>\n",
       "      <td>[deleted]</td>\n",
       "      <td>None</td>\n",
       "      <td>None</td>\n",
       "      <td>True</td>\n",
       "      <td>False</td>\n",
       "      <td>False</td>\n",
       "      <td>1514764055</td>\n",
       "      <td>self.AskDocs</td>\n",
       "      <td>https://www.reddit.com/r/AskDocs/comments/7nbv...</td>\n",
       "      <td>7nbvln</td>\n",
       "      <td>...</td>\n",
       "      <td>NaN</td>\n",
       "      <td>NaN</td>\n",
       "      <td>NaN</td>\n",
       "      <td>NaN</td>\n",
       "      <td>NaN</td>\n",
       "      <td>NaN</td>\n",
       "      <td>NaN</td>\n",
       "      <td>NaN</td>\n",
       "      <td>NaN</td>\n",
       "      <td>NaN</td>\n",
       "    </tr>\n",
       "    <tr>\n",
       "      <th>3</th>\n",
       "      <td>DavisTheMagicSheep</td>\n",
       "      <td>default</td>\n",
       "      <td>This user has not yet been verified.</td>\n",
       "      <td>True</td>\n",
       "      <td>False</td>\n",
       "      <td>False</td>\n",
       "      <td>1514763799</td>\n",
       "      <td>self.AskDocs</td>\n",
       "      <td>https://www.reddit.com/r/AskDocs/comments/7nbu...</td>\n",
       "      <td>7nburb</td>\n",
       "      <td>...</td>\n",
       "      <td>NaN</td>\n",
       "      <td>NaN</td>\n",
       "      <td>NaN</td>\n",
       "      <td>NaN</td>\n",
       "      <td>NaN</td>\n",
       "      <td>NaN</td>\n",
       "      <td>NaN</td>\n",
       "      <td>NaN</td>\n",
       "      <td>NaN</td>\n",
       "      <td>NaN</td>\n",
       "    </tr>\n",
       "    <tr>\n",
       "      <th>4</th>\n",
       "      <td>Dontgetscooped</td>\n",
       "      <td>default</td>\n",
       "      <td>This user has not yet been verified.</td>\n",
       "      <td>True</td>\n",
       "      <td>False</td>\n",
       "      <td>False</td>\n",
       "      <td>1514763188</td>\n",
       "      <td>self.AskDocs</td>\n",
       "      <td>https://www.reddit.com/r/AskDocs/comments/7nbs...</td>\n",
       "      <td>7nbsw2</td>\n",
       "      <td>...</td>\n",
       "      <td>NaN</td>\n",
       "      <td>NaN</td>\n",
       "      <td>NaN</td>\n",
       "      <td>NaN</td>\n",
       "      <td>NaN</td>\n",
       "      <td>NaN</td>\n",
       "      <td>NaN</td>\n",
       "      <td>NaN</td>\n",
       "      <td>NaN</td>\n",
       "      <td>NaN</td>\n",
       "    </tr>\n",
       "  </tbody>\n",
       "</table>\n",
       "<p>5 rows × 56 columns</p>\n",
       "</div>"
      ],
      "text/plain": [
       "               author author_flair_css_class   \n",
       "0           [deleted]                   None  \\\n",
       "1           XenonCSGO                default   \n",
       "2           [deleted]                   None   \n",
       "3  DavisTheMagicSheep                default   \n",
       "4      Dontgetscooped                default   \n",
       "\n",
       "                      author_flair_text  brand_safe can_mod_post   \n",
       "0                                  None        True        False  \\\n",
       "1  This user has not yet been verified.        True        False   \n",
       "2                                  None        True        False   \n",
       "3  This user has not yet been verified.        True        False   \n",
       "4  This user has not yet been verified.        True        False   \n",
       "\n",
       "   contest_mode  created_utc        domain   \n",
       "0         False   1514764452  self.AskDocs  \\\n",
       "1         False   1514764122  self.AskDocs   \n",
       "2         False   1514764055  self.AskDocs   \n",
       "3         False   1514763799  self.AskDocs   \n",
       "4         False   1514763188  self.AskDocs   \n",
       "\n",
       "                                           full_link      id  ...   \n",
       "0  https://www.reddit.com/r/AskDocs/comments/7nbw...  7nbwtn  ...  \\\n",
       "1  https://www.reddit.com/r/AskDocs/comments/7nbv...  7nbvsv  ...   \n",
       "2  https://www.reddit.com/r/AskDocs/comments/7nbv...  7nbvln  ...   \n",
       "3  https://www.reddit.com/r/AskDocs/comments/7nbu...  7nburb  ...   \n",
       "4  https://www.reddit.com/r/AskDocs/comments/7nbs...  7nbsw2  ...   \n",
       "\n",
       "  approved_at_utc banned_at_utc  view_count gilded  media_embed   \n",
       "0             NaN           NaN         NaN    NaN          NaN  \\\n",
       "1             NaN           NaN         NaN    NaN          NaN   \n",
       "2             NaN           NaN         NaN    NaN          NaN   \n",
       "3             NaN           NaN         NaN    NaN          NaN   \n",
       "4             NaN           NaN         NaN    NaN          NaN   \n",
       "\n",
       "   secure_media_embed  author_created_utc  author_fullname media secure_media  \n",
       "0                 NaN                 NaN              NaN   NaN          NaN  \n",
       "1                 NaN                 NaN              NaN   NaN          NaN  \n",
       "2                 NaN                 NaN              NaN   NaN          NaN  \n",
       "3                 NaN                 NaN              NaN   NaN          NaN  \n",
       "4                 NaN                 NaN              NaN   NaN          NaN  \n",
       "\n",
       "[5 rows x 56 columns]"
      ]
     },
     "execution_count": 144,
     "metadata": {},
     "output_type": "execute_result"
    }
   ],
   "source": [
    "df_2017.head()"
   ]
  },
  {
   "cell_type": "code",
   "execution_count": 145,
   "id": "ce951bab-8fe9-4290-bb4a-1bc9ce995643",
   "metadata": {},
   "outputs": [
    {
     "data": {
      "text/plain": [
       "author_flair_text\n",
       "This user has not yet been verified.    0.694449\n",
       "None                                    0.305007\n",
       "Medical Student                         0.000144\n",
       "Nursing Student                         0.000112\n",
       "Registered Nurse                        0.000048\n",
       "Pharmacist                              0.000032\n",
       "EMT                                     0.000016\n",
       "Physician Assistant                     0.000016\n",
       "Pharm.D. Student                        0.000016\n",
       "Moderator                               0.000016\n",
       "Physician                               0.000016\n",
       "Biomedical Student                      0.000016\n",
       "Web Developer                           0.000016\n",
       "B.S., Medical Lab Sciences              0.000016\n",
       "Nursing Graduate, RPN                   0.000016\n",
       "Physician | Moderator                   0.000016\n",
       "Psychologist                            0.000016\n",
       "WEB DEVELOPER                           0.000016\n",
       "Lead Moderator                          0.000016\n",
       "Name: proportion, dtype: float64"
      ]
     },
     "execution_count": 145,
     "metadata": {},
     "output_type": "execute_result"
    }
   ],
   "source": [
    "df_2017['author_flair_text'].value_counts(dropna=False, normalize=True)"
   ]
  },
  {
   "cell_type": "markdown",
   "id": "4c474daa-8a25-429c-b82e-44cf10954107",
   "metadata": {},
   "source": [
    "## Filter out irrelevant messages  \n",
    "\n",
    "Filtering out submissions not relevant to this analysis, like mod posts and banned posts. We want to analyze submissions that are medical questions from users. Mod posts are typically announcements, and bannded posts were deemed unrelated or inappropriate by subreddit moderators, so those types of posts can be filtered out as not relevant to analysis."
   ]
  },
  {
   "cell_type": "code",
   "execution_count": 146,
   "id": "401572a1-fcb9-4a03-8e1b-768a1ac4ec16",
   "metadata": {},
   "outputs": [],
   "source": [
    "fname = 'reddit_submissions_selected_fields.csv'\n",
    "selected_fields_df = pd.read_csv(fname)"
   ]
  },
  {
   "cell_type": "code",
   "execution_count": 147,
   "id": "b07317b6-9aea-408a-a7a8-24b9c8a8f28b",
   "metadata": {},
   "outputs": [
    {
     "data": {
      "text/markdown": [
       "|    | field_name    | type   | reddit_role   | analysis_role   | notes                                                                                                                     | type_long   | reddit_role_long                                                | analysis_role_long   |\n",
       "|---:|:--------------|:-------|:--------------|:----------------|:--------------------------------------------------------------------------------------------------------------------------|:------------|:----------------------------------------------------------------|:---------------------|\n",
       "| 14 | stickied      | b      | aa            | f               | Mods can pin up to 2 of their own posts to the top of the subreddit. This tag used to be called announcements.            | binary flag | author actions on the post (other than commenting)              | filtering            |\n",
       "| 17 | banned_by     | c      | ma            | f               | The only values are NaN and moderators.                                                                                   | categorical | mod reactions to either post content or comments activity on it | filtering            |\n",
       "| 21 | distinguished | c      | aa            | f               | Mods can tag posts as distinguished, usually used for subreddit management. Use this field for filtering out these posts. | categorical | author actions on the post (other than commenting)              | filtering            |"
      ],
      "text/plain": [
       "<IPython.core.display.Markdown object>"
      ]
     },
     "metadata": {},
     "output_type": "display_data"
    }
   ],
   "source": [
    "display(Markdown(selected_fields_df[selected_fields_df['analysis_role'] == 'f'].to_markdown()))"
   ]
  },
  {
   "cell_type": "code",
   "execution_count": 148,
   "id": "29d90c79-a232-4e24-bd97-29e48d8f07a4",
   "metadata": {},
   "outputs": [
    {
     "data": {
      "text/plain": [
       "['stickied', 'banned_by', 'distinguished']"
      ]
     },
     "execution_count": 148,
     "metadata": {},
     "output_type": "execute_result"
    }
   ],
   "source": [
    "filter_fields = selected_fields_df[selected_fields_df['analysis_role'] == 'f']['field_name'].to_list()\n",
    "filter_fields"
   ]
  },
  {
   "cell_type": "code",
   "execution_count": 149,
   "id": "45ba43b6-ea62-4adc-ae75-f14959379f7a",
   "metadata": {},
   "outputs": [],
   "source": [
    "def filter_submissions(df):\n",
    "    original_rows_count = len(df)\n",
    "    print(f'Original rows count: {original_rows_count}')\n",
    "    \n",
    "    filters = (df['stickied'] == True) | (df['distinguished'] == 'moderator') \\\n",
    "        | (df['banned_by'] == 'moderators')\n",
    "    df = df.drop(df[filters].index)\n",
    "    \n",
    "    print(f'Filtered rows count: {len(df)}')\n",
    "    print(f'% of rows filtered out: {(1-len(df)/original_rows_count)*100:.2f}')\n",
    "    \n",
    "    return df"
   ]
  },
  {
   "cell_type": "code",
   "execution_count": 150,
   "id": "7ffcd6e3-aa1d-4357-a019-b50d951cbb97",
   "metadata": {},
   "outputs": [
    {
     "name": "stdout",
     "output_type": "stream",
     "text": [
      "Original rows count: 62438\n",
      "Filtered rows count: 59406\n",
      "% of rows filtered out: 4.86\n"
     ]
    }
   ],
   "source": [
    "df_2017 = filter_submissions(df_2017)"
   ]
  },
  {
   "cell_type": "markdown",
   "id": "595b00b2-01fa-47ed-b0ef-e3d52ee77b43",
   "metadata": {},
   "source": [
    "## Consolidate post and cross-post content"
   ]
  },
  {
   "cell_type": "code",
   "execution_count": 151,
   "id": "8d9c3378-f902-4a1d-b16e-031d66ad1adf",
   "metadata": {},
   "outputs": [
    {
     "data": {
      "text/markdown": [
       "|    | field_name            | type   | reddit_role   | analysis_role   | notes                                                                                                        | type_long   | reddit_role_long   | analysis_role_long   |\n",
       "|---:|:----------------------|:-------|:--------------|:----------------|:-------------------------------------------------------------------------------------------------------------|:------------|:-------------------|:---------------------|\n",
       "| 19 | crosspost_parent      | s      | p             | t               | Cross-post parent post id.                                                                                   | short text  | post details       | transform            |\n",
       "| 20 | crosspost_parent_list | l      | p             | t               | This ultimately contains the body text of a crossposted post. Just have to pull if out of the list of dicts. | long text   | post details       | transform            |"
      ],
      "text/plain": [
       "<IPython.core.display.Markdown object>"
      ]
     },
     "metadata": {},
     "output_type": "display_data"
    }
   ],
   "source": [
    "display(Markdown(selected_fields_df[selected_fields_df['analysis_role'] == 't']\n",
    "                 .to_markdown()))"
   ]
  },
  {
   "cell_type": "markdown",
   "id": "f981fc7e-cafa-464c-8b65-357759c37d39",
   "metadata": {},
   "source": [
    "First, we need to clean up the `selftext` post body field a little."
   ]
  },
  {
   "cell_type": "code",
   "execution_count": 152,
   "id": "015a3e5e-cfa5-4bf2-ba28-22ecd22bab76",
   "metadata": {},
   "outputs": [],
   "source": [
    "df_2017['selftext'] = df_2017['selftext'].str.strip() "
   ]
  },
  {
   "cell_type": "code",
   "execution_count": 153,
   "id": "36993966-ff71-4f79-a989-eb035b66bccd",
   "metadata": {},
   "outputs": [
    {
     "data": {
      "text/plain": [
       "selftext\n",
       "[deleted]                                         11833\n",
       "[removed]                                          6109\n",
       "                                                    253\n",
       "NaN                                                  11\n",
       "19, male, 180cm (5ft 11in), 128 pounds (             10\n",
       "19, male, 180cm (5ft 11in), 137 pounds (              9\n",
       "I'm not sure if this is the right place               7\n",
       "* Age: 21\\n* Sex: Female\\n* Height: 5'10\"\\n           7\n",
       "I lost my virginity last June to this ra              7\n",
       "I don't know if this is the right place               6\n",
       "Age: 18\\n\\nSex: Male\\n\\nDuration of Complain          6\n",
       "* Age: 27\\n* Sex: M\\n* Height: 5'4\"\\n* Weig           6\n",
       "Thanks for checking my post. I feel like              5\n",
       "Hello for the past 50 days I have been d              5\n",
       "Not sure if this is the right place to a              5\n",
       "Age: 24\\n\\nSex: Female\\n\\nHeight: 5'4\\n\\nWeigh        5\n",
       "I'm 1m64 (5'4). I stopped growing at 14.              5\n",
       "Age: 18 \\nSex: Male\\nWeight: 90kg\\nHeight:            5\n",
       "My left testicle was enlarged a bit and               4\n",
       "I took a hot bath and noticed my left te              4\n",
       "Name: count, dtype: int64"
      ]
     },
     "execution_count": 153,
     "metadata": {},
     "output_type": "execute_result"
    }
   ],
   "source": [
    "df_2017['selftext'].str[:40].value_counts(dropna=False).head(20)"
   ]
  },
  {
   "cell_type": "code",
   "execution_count": 154,
   "id": "b156c989-aa13-428a-91a7-24d8b41e74f5",
   "metadata": {},
   "outputs": [],
   "source": [
    "def clean_selftext_blanks(txt):\n",
    "    if type(txt) == str:\n",
    "        r = '' if txt in ['', '[deleted]', '[removed]'] else txt\n",
    "    elif np.isnan(txt):\n",
    "        r = ''\n",
    "    else:\n",
    "        r = txt\n",
    "    return r"
   ]
  },
  {
   "cell_type": "code",
   "execution_count": 155,
   "id": "54339dd3-d896-42a8-96ce-671ad8da6edd",
   "metadata": {},
   "outputs": [],
   "source": [
    "df_2017['selftext'] = df_2017['selftext'].apply(clean_selftext_blanks)"
   ]
  },
  {
   "cell_type": "code",
   "execution_count": 156,
   "id": "450190e9-bd1f-4f9c-8c01-648093a4297d",
   "metadata": {},
   "outputs": [
    {
     "data": {
      "text/plain": [
       "selftext\n",
       "                                                  18206\n",
       "19, male, 180cm (5ft 11in), 128 pounds (             10\n",
       "19, male, 180cm (5ft 11in), 137 pounds (              9\n",
       "* Age: 21\\n* Sex: Female\\n* Height: 5'10\"\\n           7\n",
       "I lost my virginity last June to this ra              7\n",
       "I'm not sure if this is the right place               7\n",
       "Age: 18\\n\\nSex: Male\\n\\nDuration of Complain          6\n",
       "I don't know if this is the right place               6\n",
       "* Age: 27\\n* Sex: M\\n* Height: 5'4\"\\n* Weig           6\n",
       "Age: 24\\n\\nSex: Female\\n\\nHeight: 5'4\\n\\nWeigh        5\n",
       "Name: count, dtype: int64"
      ]
     },
     "execution_count": 156,
     "metadata": {},
     "output_type": "execute_result"
    }
   ],
   "source": [
    "df_2017['selftext'].str[:40].value_counts(dropna=False).head(10)"
   ]
  },
  {
   "cell_type": "code",
   "execution_count": 157,
   "id": "81c5a033-711f-4184-873a-a4c33973ca0d",
   "metadata": {},
   "outputs": [
    {
     "data": {
      "text/plain": [
       "crosspost_parent\n",
       "True     18186\n",
       "False       20\n",
       "Name: count, dtype: int64"
      ]
     },
     "execution_count": 157,
     "metadata": {},
     "output_type": "execute_result"
    }
   ],
   "source": [
    "df_2017[df_2017['selftext'] == '']['crosspost_parent'].isna()\\\n",
    "    .value_counts(dropna=False).head(20)"
   ]
  },
  {
   "cell_type": "code",
   "execution_count": 158,
   "id": "751aea31-a703-487c-b922-56ebf6652be5",
   "metadata": {},
   "outputs": [
    {
     "data": {
      "text/plain": [
       "crosspost_parent\n",
       "True    41200\n",
       "Name: count, dtype: int64"
      ]
     },
     "execution_count": 158,
     "metadata": {},
     "output_type": "execute_result"
    }
   ],
   "source": [
    "df_2017[df_2017['selftext'] != '']['crosspost_parent'].isna()\\\n",
    "    .value_counts(dropna=False).head(20)"
   ]
  },
  {
   "cell_type": "code",
   "execution_count": 159,
   "id": "83ef32a6-fba3-4afe-a969-10c799c3c9a9",
   "metadata": {},
   "outputs": [
    {
     "data": {
      "text/plain": [
       "crosspost_parent_list\n",
       "True     18186\n",
       "False       20\n",
       "Name: count, dtype: int64"
      ]
     },
     "execution_count": 159,
     "metadata": {},
     "output_type": "execute_result"
    }
   ],
   "source": [
    "df_2017[df_2017['selftext'] == '']['crosspost_parent_list'].isna()\\\n",
    "    .value_counts(dropna=False).head(20)"
   ]
  },
  {
   "cell_type": "code",
   "execution_count": 160,
   "id": "a239684e-7c30-4358-ad9b-561ee4f59f16",
   "metadata": {},
   "outputs": [
    {
     "data": {
      "text/plain": [
       "crosspost_parent_list\n",
       "True    41200\n",
       "Name: count, dtype: int64"
      ]
     },
     "execution_count": 160,
     "metadata": {},
     "output_type": "execute_result"
    }
   ],
   "source": [
    "df_2017[df_2017['selftext'] != '']['crosspost_parent_list'].isna()\\\n",
    "    .value_counts(dropna=False).head(20)"
   ]
  },
  {
   "cell_type": "code",
   "execution_count": 161,
   "id": "ef0386c5-ea48-4c04-a570-13a03d974096",
   "metadata": {},
   "outputs": [
    {
     "data": {
      "text/plain": [
       "crosspost_parent_list\n",
       "True     59386\n",
       "False       20\n",
       "Name: count, dtype: int64"
      ]
     },
     "execution_count": 161,
     "metadata": {},
     "output_type": "execute_result"
    }
   ],
   "source": [
    "df_2017['crosspost_parent_list'].isna().value_counts(dropna=False)"
   ]
  },
  {
   "cell_type": "code",
   "execution_count": 162,
   "id": "da00f8b3-15c6-49a0-8b01-092ae450d242",
   "metadata": {},
   "outputs": [
    {
     "data": {
      "text/plain": [
       "selftext\n",
       "    20\n",
       "Name: count, dtype: int64"
      ]
     },
     "execution_count": 162,
     "metadata": {},
     "output_type": "execute_result"
    }
   ],
   "source": [
    "df_2017[df_2017['crosspost_parent_list'].notna()]['selftext'].str[:40]\\\n",
    "    .value_counts(dropna=False)"
   ]
  },
  {
   "cell_type": "markdown",
   "id": "265158ec-af55-41db-8b13-18b837c7e53d",
   "metadata": {},
   "source": [
    "After cleaning up the `selftext` field, the value counts above show that the crosspost content is available only when the cleaned `selftext` field is blank."
   ]
  },
  {
   "cell_type": "markdown",
   "id": "11922b1c-38e6-4ba1-96b9-1a9cce524123",
   "metadata": {},
   "source": [
    "Now we can go ahead and use the crosspost content to fill in the blank post body content in the `selftext` field, if the crosspost content is available."
   ]
  },
  {
   "cell_type": "markdown",
   "id": "457ae254-9d0d-423f-96ee-9256aa9724e8",
   "metadata": {},
   "source": [
    "We can get the submission body and the crosspost subreddit from the dict inside the `crosspost_parent_list` field, all other relevant fields in the dict are duplicates of the submission-level fields. "
   ]
  },
  {
   "cell_type": "code",
   "execution_count": 166,
   "id": "c6cb4f6d-ed89-4d66-8b6a-70123dc4600b",
   "metadata": {},
   "outputs": [],
   "source": [
    "def get_crosspost_body(lst):\n",
    "    # We'll take the body text of the first non-blank/non-deleted cross-post\n",
    "    r = ''\n",
    "    if type(lst) == list:\n",
    "        for i in lst:\n",
    "            txt = i['selftext'].strip()\n",
    "            if txt.lower() not in ['', '[deleted]', '[removed]']:\n",
    "                r = txt\n",
    "                break\n",
    "    return r"
   ]
  },
  {
   "cell_type": "code",
   "execution_count": 169,
   "id": "ea999ab9-acd5-4583-bbfe-8b1c0eecf597",
   "metadata": {},
   "outputs": [],
   "source": [
    "crosspost_fix_condition = (\n",
    "    (df_2017['selftext'] == '') \n",
    "    & (df_2017['crosspost_parent_list'].notna())\n",
    ")\n",
    "\n",
    "df_2017['selftext'] = np.where(\n",
    "    crosspost_fix_condition, \n",
    "    df_2017['crosspost_parent_list'].apply(get_crosspost_body), \n",
    "    df_2017['selftext']\n",
    ")"
   ]
  },
  {
   "cell_type": "code",
   "execution_count": 170,
   "id": "ce397b6f-5da9-4af3-9ab4-847f392ab774",
   "metadata": {},
   "outputs": [
    {
     "data": {
      "text/plain": [
       "46      **If you have any ideas on how to fix this or ...\n",
       "247     Hey guys.\\n\\nYesterday and today I had a massi...\n",
       "553     Hello! I've always thought I've had pimples on...\n",
       "1221    My mother is around 50 years old. So we've bee...\n",
       "2227    Sorry for the low quality, it was hard to take...\n",
       "2403    Last month, I had a visit to the doctor where ...\n",
       "2758    (EDIT: Replace \"amblyopia\" with \"strabismus,\" ...\n",
       "2849    Hello, first--sorry for the length.\\n\\nHere's ...\n",
       "3084    Last night I fell while snowboarding, like an ...\n",
       "3156    I have been struggling for so long. A few mont...\n",
       "3359                                                     \n",
       "3567    Throw away account. I am posting this on other...\n",
       "3618    I realize how rare this is but bear with me. L...\n",
       "3901    Is it possible to have sleep apnea with out sn...\n",
       "5126    I have read that certain malignancies or blood...\n",
       "5307    **My short bio:** I'm an associate professor o...\n",
       "5431    Not sure where to turn for this, my entire lif...\n",
       "6736    Where do adult onset allergies come from? Why ...\n",
       "7297                                                     \n",
       "7543    Hi everybody, I'm hoping someone can shed some...\n",
       "Name: selftext, dtype: object"
      ]
     },
     "execution_count": 170,
     "metadata": {},
     "output_type": "execute_result"
    }
   ],
   "source": [
    "df_2017[df_2017['crosspost_parent_list'].notna()]['selftext']"
   ]
  },
  {
   "cell_type": "markdown",
   "id": "76720a5b-e261-49aa-a9c2-9b01ec1bbdd2",
   "metadata": {},
   "source": [
    "### Get cross-post subreddit names  \n",
    "The names of the cross-post subreddits could provide interesting info, so let's pull them out here into a variable as well."
   ]
  },
  {
   "cell_type": "code",
   "execution_count": 175,
   "id": "77a2e2c4-b9b0-48ad-a248-254155fc1928",
   "metadata": {},
   "outputs": [],
   "source": [
    "def get_crosspost_subreddits(lst):\n",
    "    r = ''\n",
    "    if type(lst) == list:\n",
    "        subreddits_list = []\n",
    "        for i in lst:\n",
    "            sr = i['subreddit']\n",
    "            subreddits_list.append(sr)\n",
    "            \n",
    "        r = ', '.join(subreddits_list)\n",
    "    \n",
    "    return r"
   ]
  },
  {
   "cell_type": "code",
   "execution_count": 177,
   "id": "a577037a-d4a5-4536-a95f-51125d381a52",
   "metadata": {},
   "outputs": [],
   "source": [
    "df_2017['crosspost_subreddits'] = df_2017['crosspost_parent_list']\\\n",
    "    .apply(get_crosspost_subreddits)"
   ]
  },
  {
   "cell_type": "code",
   "execution_count": 179,
   "id": "7d3b0bf7-d050-4444-8c03-b1cf2e18e1cb",
   "metadata": {},
   "outputs": [
    {
     "data": {
      "text/plain": [
       "crosspost_subreddits\n",
       "                    59386\n",
       "medical                 3\n",
       "Dermatology             2\n",
       "optometry               2\n",
       "SleepApnea              1\n",
       "Drugs                   1\n",
       "Allergies               1\n",
       "needadvice              1\n",
       "IAmA                    1\n",
       "Medical_Students        1\n",
       "RedditMD                1\n",
       "sex                     1\n",
       "MTHFR                   1\n",
       "AskDoctor               1\n",
       "STD                     1\n",
       "DiagnoseMe              1\n",
       "SkincareAddicts         1\n",
       "Name: count, dtype: int64"
      ]
     },
     "execution_count": 179,
     "metadata": {},
     "output_type": "execute_result"
    }
   ],
   "source": [
    "df_2017['crosspost_subreddits'].value_counts(dropna=False)"
   ]
  },
  {
   "cell_type": "markdown",
   "id": "fc1c519e-a653-439b-a2b1-69375ca6df8d",
   "metadata": {},
   "source": [
    "## Consolidate the title and post body as the full user question  \n",
    "Users sometimes ask all or part of their question in the title while the post body may be blank or may continue from the title.  \n",
    "To get the full user question, we will combine the `title` and `selftext` fields into a single text string.  "
   ]
  },
  {
   "cell_type": "code",
   "execution_count": 180,
   "id": "f7d5b2c4-333a-4a0e-a46e-48498afc3629",
   "metadata": {},
   "outputs": [
    {
     "data": {
      "text/plain": [
       "selftext\n",
       "                                               18188\n",
       "19, male, 180cm (5ft 11in), 128 pounds (          10\n",
       "19, male, 180cm (5ft 11in), 137 pounds (           9\n",
       "I lost my virginity last June to this ra           7\n",
       "* Age: 21\\n* Sex: Female\\n* Height: 5'10\"\\n        7\n",
       "                                               ...  \n",
       "Sometimes 2-3 times a week, I have a str           1\n",
       "I'm 32 and getting a circumcision tomorr           1\n",
       "I am a 21 year old male. 6'2, 170lb. For           1\n",
       "Basically it all started when I got hit            1\n",
       "Okay so I don't have a picture but this            1\n",
       "Name: count, Length: 40663, dtype: int64"
      ]
     },
     "execution_count": 180,
     "metadata": {},
     "output_type": "execute_result"
    }
   ],
   "source": [
    "df_2017['selftext'].str[:40].value_counts(dropna=False)"
   ]
  },
  {
   "cell_type": "code",
   "execution_count": 182,
   "id": "14d958fa-1179-4bc6-b887-d29628d6eb34",
   "metadata": {},
   "outputs": [
    {
     "data": {
      "text/plain": [
       "title\n",
       "What is this?                               9\n",
       "Scratched a bug bite on my scalp too har    7\n",
       "Should I be worried?                        4\n",
       "What bit me?                                4\n",
       "Help                                        3\n",
       "                                           ..\n",
       "Sharp pain at base of neck and top of ba    1\n",
       "my memory is terrible... is it worth see    1\n",
       "I get deja vu's 5-6 times a day, it's no    1\n",
       "Whey protein causing stomach issues         1\n",
       "Strange cardiac symptoms                    1\n",
       "Name: count, Length: 17897, dtype: int64"
      ]
     },
     "execution_count": 182,
     "metadata": {},
     "output_type": "execute_result"
    }
   ],
   "source": [
    "df_2017[df_2017['selftext'] == '']['title'].str[:40].value_counts(dropna=False)"
   ]
  },
  {
   "cell_type": "markdown",
   "id": "a5ba7160-755a-45a3-b205-2445c4322898",
   "metadata": {},
   "source": [
    "To make it easier to visually separate the title and post body in the combined text field, we'll use a pipe (`|`) separator."
   ]
  },
  {
   "cell_type": "code",
   "execution_count": 185,
   "id": "0b7cf2bd-c716-4422-af4d-bd80a5282fca",
   "metadata": {},
   "outputs": [],
   "source": [
    "df_2017['full_post_text'] = (\n",
    "    df_2017['title'].str.strip() \n",
    "    + ' | '\n",
    "    + df_2017['selftext'].str.strip()\n",
    ")"
   ]
  },
  {
   "cell_type": "code",
   "execution_count": 187,
   "id": "c761deae-8950-4098-a8ee-3e6cdc27b6b4",
   "metadata": {},
   "outputs": [
    {
     "data": {
      "text/plain": [
       "full_post_text\n",
       "Scratched a bug bite on my scalp too har    9\n",
       "What is this? |                             9\n",
       "What bit me? |                              4\n",
       "Neurological/Stroke Symptoms or Flashbac    4\n",
       "Should I be worried? |                      4\n",
       "Throat infection or something else?(pict    4\n",
       "[26/M] Right knee problems for the last     4\n",
       "I took a sip from a strangers water bott    3\n",
       "OTC Antacids. Cimetidine vs Lansoprazole    3\n",
       "My son is in a medically induced coma af    3\n",
       "Picture: Why does the skin fold over my     3\n",
       "How do I remove surgical stitches from t    3\n",
       "Neck pain |                                 3\n",
       "[NSFW] Did something really stupid last     3\n",
       "Help |                                      3\n",
       "Tonsil problems for 2 months |              3\n",
       "My roommate won't stop coughing! What co    3\n",
       "NSFW: Do these ridges in my stool look c    3\n",
       "20M Been dealing with pain and burning f    3\n",
       "What are these two marks on my abdomen?     3\n",
       "Name: count, dtype: int64"
      ]
     },
     "execution_count": 187,
     "metadata": {},
     "output_type": "execute_result"
    }
   ],
   "source": [
    "df_2017['full_post_text'].str[:40].value_counts(dropna=False).head(20)"
   ]
  },
  {
   "cell_type": "code",
   "execution_count": 189,
   "id": "e260d48e-b897-4470-8df5-3dc57c59ac24",
   "metadata": {},
   "outputs": [
    {
     "data": {
      "text/plain": [
       "full_post_text\n",
       "False    59406\n",
       "Name: count, dtype: int64"
      ]
     },
     "execution_count": 189,
     "metadata": {},
     "output_type": "execute_result"
    }
   ],
   "source": [
    "(df_2017['full_post_text'] == '').value_counts()"
   ]
  },
  {
   "cell_type": "markdown",
   "id": "270ff3e7-c3d9-491e-bd2b-1b40110ea3d6",
   "metadata": {},
   "source": [
    "## Fix timestamp formats  "
   ]
  },
  {
   "cell_type": "code",
   "execution_count": 190,
   "id": "8e9c3c56-5d44-4dde-8c66-51ac19a16e32",
   "metadata": {},
   "outputs": [],
   "source": [
    "timestamp_fields = ['created_utc', 'edited']"
   ]
  },
  {
   "cell_type": "code",
   "execution_count": 191,
   "id": "6c0e1cf8-5019-48ce-9637-e04b7f43f426",
   "metadata": {},
   "outputs": [
    {
     "data": {
      "text/plain": [
       "0    1514764452\n",
       "1    1514764122\n",
       "2    1514764055\n",
       "3    1514763799\n",
       "4    1514763188\n",
       "Name: created_utc, dtype: int64"
      ]
     },
     "execution_count": 191,
     "metadata": {},
     "output_type": "execute_result"
    }
   ],
   "source": [
    "df_2017['created_utc'].head()"
   ]
  },
  {
   "cell_type": "code",
   "execution_count": 193,
   "id": "9f9ff4de-6081-4b76-9b33-f0c64c51352f",
   "metadata": {},
   "outputs": [
    {
     "data": {
      "text/plain": [
       "0   1970-01-01 00:00:01.514764452\n",
       "1   1970-01-01 00:00:01.514764122\n",
       "2   1970-01-01 00:00:01.514764055\n",
       "3   1970-01-01 00:00:01.514763799\n",
       "4   1970-01-01 00:00:01.514763188\n",
       "Name: created_utc, dtype: datetime64[ns]"
      ]
     },
     "execution_count": 193,
     "metadata": {},
     "output_type": "execute_result"
    }
   ],
   "source": [
    "pd.to_datetime(df_2017['created_utc']).head() # the default in pandas is 'ns'"
   ]
  },
  {
   "cell_type": "code",
   "execution_count": 192,
   "id": "7c895841-548b-4369-997e-d1581c4ef3be",
   "metadata": {},
   "outputs": [
    {
     "data": {
      "text/plain": [
       "0   2017-12-31 23:54:12\n",
       "1   2017-12-31 23:48:42\n",
       "2   2017-12-31 23:47:35\n",
       "3   2017-12-31 23:43:19\n",
       "4   2017-12-31 23:33:08\n",
       "Name: created_utc, dtype: datetime64[ns]"
      ]
     },
     "execution_count": 192,
     "metadata": {},
     "output_type": "execute_result"
    }
   ],
   "source": [
    "pd.to_datetime(df_2017['created_utc'], unit='s').head()"
   ]
  },
  {
   "cell_type": "code",
   "execution_count": 195,
   "id": "af0fd39c-c46d-4eb8-9b59-87792289e49b",
   "metadata": {},
   "outputs": [
    {
     "data": {
      "text/plain": [
       "24   1970-01-01 00:00:01.514754516\n",
       "25   1970-01-01 00:00:01.514754706\n",
       "38   1970-01-01 00:00:01.514746962\n",
       "48   1970-01-01 00:00:01.514742249\n",
       "52   1970-01-01 00:00:01.514782799\n",
       "Name: edited, dtype: datetime64[ns]"
      ]
     },
     "execution_count": 195,
     "metadata": {},
     "output_type": "execute_result"
    }
   ],
   "source": [
    "pd.to_datetime(df_2017[df_2017['edited'].notna()]['edited']).head()"
   ]
  },
  {
   "cell_type": "code",
   "execution_count": 196,
   "id": "f0abe633-3fad-4622-9ffb-28a78ecdd96f",
   "metadata": {},
   "outputs": [
    {
     "data": {
      "text/plain": [
       "24   2017-12-31 21:08:36\n",
       "25   2017-12-31 21:11:46\n",
       "38   2017-12-31 19:02:42\n",
       "48   2017-12-31 17:44:09\n",
       "52   2018-01-01 04:59:59\n",
       "Name: edited, dtype: datetime64[ns]"
      ]
     },
     "execution_count": 196,
     "metadata": {},
     "output_type": "execute_result"
    }
   ],
   "source": [
    "pd.to_datetime(df_2017[df_2017['edited'].notna()]['edited'], unit='s').head()"
   ]
  },
  {
   "cell_type": "markdown",
   "id": "8acd239d-4b2e-4cb2-bd21-cdfff8ba925a",
   "metadata": {},
   "source": [
    "The raw timestamp fields are in epochs with seconds as units. The default units in pandas is 'ns'. The two fields appear to be in the same format, but the `edited` field is named less informatively.  \n",
    "To make these timestamp fields easier to work with in pandas, let's do the following:  \n",
    "- Convert them to 'ns' units, since that's the default unit in pandas. This way, we won't have to remember to explicitly specify the units each time we cast these fields to datetime in pandas.  \n",
    "- Rename both fields to make it more clear that they are UTC timestamps stored in nanosecond epochs.  "
   ]
  },
  {
   "cell_type": "code",
   "execution_count": 198,
   "id": "b6d51a22-7fc1-40ac-ae6d-7c16166340d7",
   "metadata": {},
   "outputs": [],
   "source": [
    "df_2017['created_utc_ns_dt'] = df_2017['created_utc'] * 1_000_000_000"
   ]
  },
  {
   "cell_type": "code",
   "execution_count": 199,
   "id": "97e4b351-eb1b-437a-ab73-31ec038885b4",
   "metadata": {},
   "outputs": [],
   "source": [
    "df_2017['edited_utc_ns_dt'] = df_2017['edited'] * 1_000_000_000"
   ]
  },
  {
   "cell_type": "code",
   "execution_count": 200,
   "id": "de0b6902-7164-4388-9621-66968cf114f6",
   "metadata": {},
   "outputs": [
    {
     "data": {
      "text/plain": [
       "0   2017-12-31 23:54:12\n",
       "1   2017-12-31 23:48:42\n",
       "2   2017-12-31 23:47:35\n",
       "3   2017-12-31 23:43:19\n",
       "4   2017-12-31 23:33:08\n",
       "Name: created_utc_ns_dt, dtype: datetime64[ns]"
      ]
     },
     "execution_count": 200,
     "metadata": {},
     "output_type": "execute_result"
    }
   ],
   "source": [
    "pd.to_datetime(df_2017['created_utc_ns_dt']).head()"
   ]
  },
  {
   "cell_type": "code",
   "execution_count": 203,
   "id": "9ef242a9-4147-41ee-a3c7-fa3b0c655bbb",
   "metadata": {},
   "outputs": [
    {
     "data": {
      "text/plain": [
       "edited_utc_ns_dt\n",
       "NaT                    51213\n",
       "2017-01-23 23:21:01        2\n",
       "2017-04-26 20:51:54        1\n",
       "2017-04-28 13:05:22        1\n",
       "2017-05-02 18:11:53        1\n",
       "                       ...  \n",
       "2017-08-20 21:31:34        1\n",
       "2017-08-20 22:37:28        1\n",
       "2017-08-20 22:41:12        1\n",
       "2017-08-21 04:17:33        1\n",
       "2017-01-01 04:09:38        1\n",
       "Name: count, Length: 8193, dtype: int64"
      ]
     },
     "execution_count": 203,
     "metadata": {},
     "output_type": "execute_result"
    }
   ],
   "source": [
    "pd.to_datetime(df_2017['edited_utc_ns_dt']).value_counts(dropna=False)"
   ]
  },
  {
   "cell_type": "markdown",
   "id": "6e99493f-02f3-45e0-8683-c14f2add5570",
   "metadata": {},
   "source": [
    "## Update the selected fields list  \n",
    "Let's add the new fields we created for analyses and drop any fields we no longer need."
   ]
  },
  {
   "cell_type": "code",
   "execution_count": 204,
   "id": "32a70f2c-d89a-4254-b860-7298135a111b",
   "metadata": {},
   "outputs": [
    {
     "data": {
      "text/markdown": [
       "|    | field_name        | type   | reddit_role   | analysis_role   | notes                                                                                                                                                                                                                   | type_long   | reddit_role_long                                                | analysis_role_long   |\n",
       "|---:|:------------------|:-------|:--------------|:----------------|:------------------------------------------------------------------------------------------------------------------------------------------------------------------------------------------------------------------------|:------------|:----------------------------------------------------------------|:---------------------|\n",
       "|  0 | author            | s      | a             | i               | Note the [deleted] and [removed] entries.                                                                                                                                                                               | short text  | author info                                                     | id                   |\n",
       "|  1 | author_flair_text | c      | a             | a               | 31% NaN values.                                                                                                                                                                                                         | categorical | author info                                                     | analysis             |\n",
       "|  2 | created_utc       | t      | p             | a               | Dups present.                                                                                                                                                                                                           | timestamp   | post details                                                    | analysis             |\n",
       "|  3 | domain            | s      | p             | a               | Domain where the post originated from.                                                                                                                                                                                  | short text  | post details                                                    | analysis             |\n",
       "|  4 | full_link         | u      | p             | r               | A link to the post on Reddit.                                                                                                                                                                                           | url         | post details                                                    | reference            |\n",
       "|  5 | id                | s      | p             | i               | Post id                                                                                                                                                                                                                 | short text  | post details                                                    | id                   |\n",
       "|  6 | locked            | b      | ma            | a               | Only 6 values are true, everything else false.                                                                                                                                                                          | binary flag | mod reactions to either post content or comments activity on it | analysis             |\n",
       "|  7 | num_comments      | n      | ga            | a               | nan                                                                                                                                                                                                                     | numeric     | general subreddit users reactions to the post                   | analysis             |\n",
       "|  8 | num_crossposts    | n      | aa            | a               | Both NaN and zeros present. Few values >0.                                                                                                                                                                              | numeric     | author actions on the post (other than commenting)              | analysis             |\n",
       "|  9 | over_18           | b      | p             | a               | 98% false. Looks like a NSFW-type label on the post content.                                                                                                                                                            | binary flag | post details                                                    | analysis             |\n",
       "| 10 | pinned            | b      | aa            | a               | Users can pin up to 4 posts to their profile.                                                                                                                                                                           | binary flag | author actions on the post (other than commenting)              | analysis             |\n",
       "| 11 | score             | n      | ga            | a               | The score is based on up and down votes.                                                                                                                                                                                | numeric     | general subreddit users reactions to the post                   | analysis             |\n",
       "| 12 | selftext          | l      | p             | a               | Can have [deleted] as values.                                                                                                                                                                                           | long text   | post details                                                    | analysis             |\n",
       "| 13 | spoiler           | b      | aa            | a               | Spoiler tags are used to mark spoiler content, and they can blur the preview or thumbnails. Both mods and post authors can add a spoiler tag on a post. There were 30 true values in the sample, so decided to keep it. | binary flag | author actions on the post (other than commenting)              | analysis             |\n",
       "| 15 | title             | l      | p             | a               | Title of the post, can be very long.                                                                                                                                                                                    | long text   | post details                                                    | analysis             |\n",
       "| 16 | url               | u      | p             | r               | Url to the original post if crossposted or from other source.                                                                                                                                                           | url         | post details                                                    | reference            |\n",
       "| 18 | edited            | t      | aa            | a               | 86% NaNs.                                                                                                                                                                                                               | timestamp   | author actions on the post (other than commenting)              | analysis             |\n",
       "| 22 | author_fullname   | s      | a             | i               | Unclear what this is, and lots of NaNs, but decided to keep for now.                                                                                                                                                    | short text  | author info                                                     | id                   |"
      ],
      "text/plain": [
       "<IPython.core.display.Markdown object>"
      ]
     },
     "metadata": {},
     "output_type": "display_data"
    }
   ],
   "source": [
    "display(Markdown(selected_fields_df[~selected_fields_df['analysis_role'].isin(['f', 't'])].to_markdown()))"
   ]
  },
  {
   "cell_type": "code",
   "execution_count": 205,
   "id": "90568333-84f2-4c77-abd5-e2e6c3b3760c",
   "metadata": {},
   "outputs": [
    {
     "data": {
      "text/plain": [
       "['author',\n",
       " 'author_flair_text',\n",
       " 'created_utc',\n",
       " 'domain',\n",
       " 'full_link',\n",
       " 'id',\n",
       " 'locked',\n",
       " 'num_comments',\n",
       " 'num_crossposts',\n",
       " 'over_18',\n",
       " 'pinned',\n",
       " 'score',\n",
       " 'selftext',\n",
       " 'spoiler',\n",
       " 'title',\n",
       " 'url',\n",
       " 'edited',\n",
       " 'author_fullname']"
      ]
     },
     "execution_count": 205,
     "metadata": {},
     "output_type": "execute_result"
    }
   ],
   "source": [
    "list(selected_fields_df[~selected_fields_df['analysis_role'].isin(['f', 't'])]['field_name'])"
   ]
  },
  {
   "cell_type": "code",
   "execution_count": 206,
   "id": "749ef3c1-d9af-48df-b281-83bd95a10b67",
   "metadata": {},
   "outputs": [],
   "source": [
    "# Final fields selection\n",
    "\n",
    "selected_fields = [\n",
    "    'author',\n",
    "    'author_flair_text',\n",
    "#    'created_utc', # replaced with the new created_utc_ns_dt field below\n",
    "    'domain',\n",
    "    'full_link',\n",
    "    'id',\n",
    "    'locked',\n",
    "    'num_comments',\n",
    "    'num_crossposts',\n",
    "    'over_18',\n",
    "#    'pinned',\n",
    "    'score',\n",
    "    'selftext', # edited to include the body of crossposted posts where needed\n",
    "#    'spoiler',\n",
    "    'title',\n",
    "    'url',\n",
    "#    'edited', # replaced with the edited_utc_ns_dt field below\n",
    "#    'author_fullname',\n",
    "\n",
    "    \n",
    "    # newly added fields\n",
    "    'crosspost_subreddits',\n",
    "    'full_post_text',\n",
    "    'created_utc_ns_dt',\n",
    "    'edited_utc_ns_dt',\n",
    "]"
   ]
  },
  {
   "cell_type": "code",
   "execution_count": 207,
   "id": "f67eaecf-f8f8-4662-8044-735561fca449",
   "metadata": {},
   "outputs": [
    {
     "data": {
      "text/html": [
       "<div>\n",
       "<style scoped>\n",
       "    .dataframe tbody tr th:only-of-type {\n",
       "        vertical-align: middle;\n",
       "    }\n",
       "\n",
       "    .dataframe tbody tr th {\n",
       "        vertical-align: top;\n",
       "    }\n",
       "\n",
       "    .dataframe thead th {\n",
       "        text-align: right;\n",
       "    }\n",
       "</style>\n",
       "<table border=\"1\" class=\"dataframe\">\n",
       "  <thead>\n",
       "    <tr style=\"text-align: right;\">\n",
       "      <th></th>\n",
       "      <th>author</th>\n",
       "      <th>author_flair_text</th>\n",
       "      <th>domain</th>\n",
       "      <th>full_link</th>\n",
       "      <th>id</th>\n",
       "      <th>locked</th>\n",
       "      <th>num_comments</th>\n",
       "      <th>num_crossposts</th>\n",
       "      <th>over_18</th>\n",
       "      <th>score</th>\n",
       "      <th>selftext</th>\n",
       "      <th>title</th>\n",
       "      <th>url</th>\n",
       "      <th>crosspost_subreddits</th>\n",
       "      <th>full_post_text</th>\n",
       "      <th>created_utc_ns_dt</th>\n",
       "      <th>edited_utc_ns_dt</th>\n",
       "    </tr>\n",
       "  </thead>\n",
       "  <tbody>\n",
       "    <tr>\n",
       "      <th>0</th>\n",
       "      <td>[deleted]</td>\n",
       "      <td>None</td>\n",
       "      <td>self.AskDocs</td>\n",
       "      <td>https://www.reddit.com/r/AskDocs/comments/7nbw...</td>\n",
       "      <td>7nbwtn</td>\n",
       "      <td>False</td>\n",
       "      <td>0</td>\n",
       "      <td>0.0</td>\n",
       "      <td>False</td>\n",
       "      <td>2</td>\n",
       "      <td></td>\n",
       "      <td>Appendicitis removed 1 month ago but feel a pa...</td>\n",
       "      <td>https://www.reddit.com/r/AskDocs/comments/7nbw...</td>\n",
       "      <td></td>\n",
       "      <td>Appendicitis removed 1 month ago but feel a pa...</td>\n",
       "      <td>1514764452000000000</td>\n",
       "      <td>NaN</td>\n",
       "    </tr>\n",
       "    <tr>\n",
       "      <th>1</th>\n",
       "      <td>XenonCSGO</td>\n",
       "      <td>This user has not yet been verified.</td>\n",
       "      <td>self.AskDocs</td>\n",
       "      <td>https://www.reddit.com/r/AskDocs/comments/7nbv...</td>\n",
       "      <td>7nbvsv</td>\n",
       "      <td>False</td>\n",
       "      <td>2</td>\n",
       "      <td>0.0</td>\n",
       "      <td>False</td>\n",
       "      <td>1</td>\n",
       "      <td>So I've taken Pepcid AC, 10mg at morning and n...</td>\n",
       "      <td>1 Stopped taking Pepcid AC, now suffering symp...</td>\n",
       "      <td>https://www.reddit.com/r/AskDocs/comments/7nbv...</td>\n",
       "      <td></td>\n",
       "      <td>1 Stopped taking Pepcid AC, now suffering symp...</td>\n",
       "      <td>1514764122000000000</td>\n",
       "      <td>NaN</td>\n",
       "    </tr>\n",
       "    <tr>\n",
       "      <th>2</th>\n",
       "      <td>[deleted]</td>\n",
       "      <td>None</td>\n",
       "      <td>self.AskDocs</td>\n",
       "      <td>https://www.reddit.com/r/AskDocs/comments/7nbv...</td>\n",
       "      <td>7nbvln</td>\n",
       "      <td>False</td>\n",
       "      <td>1</td>\n",
       "      <td>0.0</td>\n",
       "      <td>False</td>\n",
       "      <td>1</td>\n",
       "      <td></td>\n",
       "      <td>My grandma has neck/back pain and little to no...</td>\n",
       "      <td>https://www.reddit.com/r/AskDocs/comments/7nbv...</td>\n",
       "      <td></td>\n",
       "      <td>My grandma has neck/back pain and little to no...</td>\n",
       "      <td>1514764055000000000</td>\n",
       "      <td>NaN</td>\n",
       "    </tr>\n",
       "    <tr>\n",
       "      <th>3</th>\n",
       "      <td>DavisTheMagicSheep</td>\n",
       "      <td>This user has not yet been verified.</td>\n",
       "      <td>self.AskDocs</td>\n",
       "      <td>https://www.reddit.com/r/AskDocs/comments/7nbu...</td>\n",
       "      <td>7nburb</td>\n",
       "      <td>False</td>\n",
       "      <td>2</td>\n",
       "      <td>0.0</td>\n",
       "      <td>False</td>\n",
       "      <td>1</td>\n",
       "      <td>I've had a cold for the last couple days now, ...</td>\n",
       "      <td>My ears feel like there is pressure inside of ...</td>\n",
       "      <td>https://www.reddit.com/r/AskDocs/comments/7nbu...</td>\n",
       "      <td></td>\n",
       "      <td>My ears feel like there is pressure inside of ...</td>\n",
       "      <td>1514763799000000000</td>\n",
       "      <td>NaN</td>\n",
       "    </tr>\n",
       "    <tr>\n",
       "      <th>4</th>\n",
       "      <td>Dontgetscooped</td>\n",
       "      <td>This user has not yet been verified.</td>\n",
       "      <td>self.AskDocs</td>\n",
       "      <td>https://www.reddit.com/r/AskDocs/comments/7nbs...</td>\n",
       "      <td>7nbsw2</td>\n",
       "      <td>False</td>\n",
       "      <td>1</td>\n",
       "      <td>0.0</td>\n",
       "      <td>False</td>\n",
       "      <td>1</td>\n",
       "      <td>(first about me : 32 white male 5 foot 5 225lb...</td>\n",
       "      <td>IBS maybe?</td>\n",
       "      <td>https://www.reddit.com/r/AskDocs/comments/7nbs...</td>\n",
       "      <td></td>\n",
       "      <td>IBS maybe? | (first about me : 32 white male 5...</td>\n",
       "      <td>1514763188000000000</td>\n",
       "      <td>NaN</td>\n",
       "    </tr>\n",
       "  </tbody>\n",
       "</table>\n",
       "</div>"
      ],
      "text/plain": [
       "               author                     author_flair_text        domain   \n",
       "0           [deleted]                                  None  self.AskDocs  \\\n",
       "1           XenonCSGO  This user has not yet been verified.  self.AskDocs   \n",
       "2           [deleted]                                  None  self.AskDocs   \n",
       "3  DavisTheMagicSheep  This user has not yet been verified.  self.AskDocs   \n",
       "4      Dontgetscooped  This user has not yet been verified.  self.AskDocs   \n",
       "\n",
       "                                           full_link      id  locked   \n",
       "0  https://www.reddit.com/r/AskDocs/comments/7nbw...  7nbwtn   False  \\\n",
       "1  https://www.reddit.com/r/AskDocs/comments/7nbv...  7nbvsv   False   \n",
       "2  https://www.reddit.com/r/AskDocs/comments/7nbv...  7nbvln   False   \n",
       "3  https://www.reddit.com/r/AskDocs/comments/7nbu...  7nburb   False   \n",
       "4  https://www.reddit.com/r/AskDocs/comments/7nbs...  7nbsw2   False   \n",
       "\n",
       "   num_comments  num_crossposts  over_18  score   \n",
       "0             0             0.0    False      2  \\\n",
       "1             2             0.0    False      1   \n",
       "2             1             0.0    False      1   \n",
       "3             2             0.0    False      1   \n",
       "4             1             0.0    False      1   \n",
       "\n",
       "                                            selftext   \n",
       "0                                                     \\\n",
       "1  So I've taken Pepcid AC, 10mg at morning and n...   \n",
       "2                                                      \n",
       "3  I've had a cold for the last couple days now, ...   \n",
       "4  (first about me : 32 white male 5 foot 5 225lb...   \n",
       "\n",
       "                                               title   \n",
       "0  Appendicitis removed 1 month ago but feel a pa...  \\\n",
       "1  1 Stopped taking Pepcid AC, now suffering symp...   \n",
       "2  My grandma has neck/back pain and little to no...   \n",
       "3  My ears feel like there is pressure inside of ...   \n",
       "4                                         IBS maybe?   \n",
       "\n",
       "                                                 url crosspost_subreddits   \n",
       "0  https://www.reddit.com/r/AskDocs/comments/7nbw...                       \\\n",
       "1  https://www.reddit.com/r/AskDocs/comments/7nbv...                        \n",
       "2  https://www.reddit.com/r/AskDocs/comments/7nbv...                        \n",
       "3  https://www.reddit.com/r/AskDocs/comments/7nbu...                        \n",
       "4  https://www.reddit.com/r/AskDocs/comments/7nbs...                        \n",
       "\n",
       "                                      full_post_text    created_utc_ns_dt   \n",
       "0  Appendicitis removed 1 month ago but feel a pa...  1514764452000000000  \\\n",
       "1  1 Stopped taking Pepcid AC, now suffering symp...  1514764122000000000   \n",
       "2  My grandma has neck/back pain and little to no...  1514764055000000000   \n",
       "3  My ears feel like there is pressure inside of ...  1514763799000000000   \n",
       "4  IBS maybe? | (first about me : 32 white male 5...  1514763188000000000   \n",
       "\n",
       "   edited_utc_ns_dt  \n",
       "0               NaN  \n",
       "1               NaN  \n",
       "2               NaN  \n",
       "3               NaN  \n",
       "4               NaN  "
      ]
     },
     "execution_count": 207,
     "metadata": {},
     "output_type": "execute_result"
    }
   ],
   "source": [
    "df_2017[selected_fields].head()"
   ]
  },
  {
   "cell_type": "markdown",
   "id": "4654fa60-d0e5-4a77-8b54-6c91339efe37",
   "metadata": {},
   "source": [
    "## Load all data  "
   ]
  },
  {
   "cell_type": "code",
   "execution_count": 210,
   "id": "ec06657d-4de0-4af7-87e8-8160215d6463",
   "metadata": {},
   "outputs": [],
   "source": [
    "with open(DATA_PATH + \"reddit_askdocs_submissions_2018_to_20220121.pkl\", \"rb\") as f:\n",
    "    d_ge2018 = pickle.load(f)"
   ]
  },
  {
   "cell_type": "code",
   "execution_count": 211,
   "id": "14c7076c-7dc1-4b4f-b98f-e3b794397455",
   "metadata": {},
   "outputs": [],
   "source": [
    "df = pd.concat(\n",
    "    [\n",
    "        df_2017, \n",
    "        pd.DataFrame(d_ge2018[2018]),\n",
    "        pd.DataFrame(d_ge2018[2019]),\n",
    "        pd.DataFrame(d_ge2018[2020]),\n",
    "        pd.DataFrame(d_ge2018[2021]),\n",
    "        pd.DataFrame(d_ge2018[2022])\n",
    "    ]\n",
    ")"
   ]
  },
  {
   "cell_type": "code",
   "execution_count": 212,
   "id": "5c05e4be-64bd-4621-baae-a21c470da8a6",
   "metadata": {},
   "outputs": [],
   "source": [
    "del d_2017, df_2017, d_ge2018"
   ]
  },
  {
   "cell_type": "code",
   "execution_count": 214,
   "id": "379a66d8-d8cb-4d96-bce5-8d1e096c1024",
   "metadata": {},
   "outputs": [
    {
     "data": {
      "text/html": [
       "<div>\n",
       "<style scoped>\n",
       "    .dataframe tbody tr th:only-of-type {\n",
       "        vertical-align: middle;\n",
       "    }\n",
       "\n",
       "    .dataframe tbody tr th {\n",
       "        vertical-align: top;\n",
       "    }\n",
       "\n",
       "    .dataframe thead th {\n",
       "        text-align: right;\n",
       "    }\n",
       "</style>\n",
       "<table border=\"1\" class=\"dataframe\">\n",
       "  <thead>\n",
       "    <tr style=\"text-align: right;\">\n",
       "      <th></th>\n",
       "      <th>author</th>\n",
       "      <th>author_flair_css_class</th>\n",
       "      <th>author_flair_text</th>\n",
       "      <th>brand_safe</th>\n",
       "      <th>can_mod_post</th>\n",
       "      <th>contest_mode</th>\n",
       "      <th>created_utc</th>\n",
       "      <th>domain</th>\n",
       "      <th>full_link</th>\n",
       "      <th>id</th>\n",
       "      <th>...</th>\n",
       "      <th>removed_by_category</th>\n",
       "      <th>updated_utc</th>\n",
       "      <th>steward_reports</th>\n",
       "      <th>og_description</th>\n",
       "      <th>og_title</th>\n",
       "      <th>removed_by</th>\n",
       "      <th>media_metadata</th>\n",
       "      <th>is_created_from_ads_ui</th>\n",
       "      <th>author_is_blocked</th>\n",
       "      <th>url_overridden_by_dest</th>\n",
       "    </tr>\n",
       "  </thead>\n",
       "  <tbody>\n",
       "    <tr>\n",
       "      <th>0</th>\n",
       "      <td>[deleted]</td>\n",
       "      <td>None</td>\n",
       "      <td>None</td>\n",
       "      <td>True</td>\n",
       "      <td>False</td>\n",
       "      <td>False</td>\n",
       "      <td>1514764452</td>\n",
       "      <td>self.AskDocs</td>\n",
       "      <td>https://www.reddit.com/r/AskDocs/comments/7nbw...</td>\n",
       "      <td>7nbwtn</td>\n",
       "      <td>...</td>\n",
       "      <td>NaN</td>\n",
       "      <td>NaN</td>\n",
       "      <td>NaN</td>\n",
       "      <td>NaN</td>\n",
       "      <td>NaN</td>\n",
       "      <td>NaN</td>\n",
       "      <td>NaN</td>\n",
       "      <td>NaN</td>\n",
       "      <td>NaN</td>\n",
       "      <td>NaN</td>\n",
       "    </tr>\n",
       "    <tr>\n",
       "      <th>1</th>\n",
       "      <td>XenonCSGO</td>\n",
       "      <td>default</td>\n",
       "      <td>This user has not yet been verified.</td>\n",
       "      <td>True</td>\n",
       "      <td>False</td>\n",
       "      <td>False</td>\n",
       "      <td>1514764122</td>\n",
       "      <td>self.AskDocs</td>\n",
       "      <td>https://www.reddit.com/r/AskDocs/comments/7nbv...</td>\n",
       "      <td>7nbvsv</td>\n",
       "      <td>...</td>\n",
       "      <td>NaN</td>\n",
       "      <td>NaN</td>\n",
       "      <td>NaN</td>\n",
       "      <td>NaN</td>\n",
       "      <td>NaN</td>\n",
       "      <td>NaN</td>\n",
       "      <td>NaN</td>\n",
       "      <td>NaN</td>\n",
       "      <td>NaN</td>\n",
       "      <td>NaN</td>\n",
       "    </tr>\n",
       "    <tr>\n",
       "      <th>2</th>\n",
       "      <td>[deleted]</td>\n",
       "      <td>None</td>\n",
       "      <td>None</td>\n",
       "      <td>True</td>\n",
       "      <td>False</td>\n",
       "      <td>False</td>\n",
       "      <td>1514764055</td>\n",
       "      <td>self.AskDocs</td>\n",
       "      <td>https://www.reddit.com/r/AskDocs/comments/7nbv...</td>\n",
       "      <td>7nbvln</td>\n",
       "      <td>...</td>\n",
       "      <td>NaN</td>\n",
       "      <td>NaN</td>\n",
       "      <td>NaN</td>\n",
       "      <td>NaN</td>\n",
       "      <td>NaN</td>\n",
       "      <td>NaN</td>\n",
       "      <td>NaN</td>\n",
       "      <td>NaN</td>\n",
       "      <td>NaN</td>\n",
       "      <td>NaN</td>\n",
       "    </tr>\n",
       "    <tr>\n",
       "      <th>3</th>\n",
       "      <td>DavisTheMagicSheep</td>\n",
       "      <td>default</td>\n",
       "      <td>This user has not yet been verified.</td>\n",
       "      <td>True</td>\n",
       "      <td>False</td>\n",
       "      <td>False</td>\n",
       "      <td>1514763799</td>\n",
       "      <td>self.AskDocs</td>\n",
       "      <td>https://www.reddit.com/r/AskDocs/comments/7nbu...</td>\n",
       "      <td>7nburb</td>\n",
       "      <td>...</td>\n",
       "      <td>NaN</td>\n",
       "      <td>NaN</td>\n",
       "      <td>NaN</td>\n",
       "      <td>NaN</td>\n",
       "      <td>NaN</td>\n",
       "      <td>NaN</td>\n",
       "      <td>NaN</td>\n",
       "      <td>NaN</td>\n",
       "      <td>NaN</td>\n",
       "      <td>NaN</td>\n",
       "    </tr>\n",
       "    <tr>\n",
       "      <th>4</th>\n",
       "      <td>Dontgetscooped</td>\n",
       "      <td>default</td>\n",
       "      <td>This user has not yet been verified.</td>\n",
       "      <td>True</td>\n",
       "      <td>False</td>\n",
       "      <td>False</td>\n",
       "      <td>1514763188</td>\n",
       "      <td>self.AskDocs</td>\n",
       "      <td>https://www.reddit.com/r/AskDocs/comments/7nbs...</td>\n",
       "      <td>7nbsw2</td>\n",
       "      <td>...</td>\n",
       "      <td>NaN</td>\n",
       "      <td>NaN</td>\n",
       "      <td>NaN</td>\n",
       "      <td>NaN</td>\n",
       "      <td>NaN</td>\n",
       "      <td>NaN</td>\n",
       "      <td>NaN</td>\n",
       "      <td>NaN</td>\n",
       "      <td>NaN</td>\n",
       "      <td>NaN</td>\n",
       "    </tr>\n",
       "  </tbody>\n",
       "</table>\n",
       "<p>5 rows × 110 columns</p>\n",
       "</div>"
      ],
      "text/plain": [
       "               author author_flair_css_class   \n",
       "0           [deleted]                   None  \\\n",
       "1           XenonCSGO                default   \n",
       "2           [deleted]                   None   \n",
       "3  DavisTheMagicSheep                default   \n",
       "4      Dontgetscooped                default   \n",
       "\n",
       "                      author_flair_text brand_safe can_mod_post  contest_mode   \n",
       "0                                  None       True        False         False  \\\n",
       "1  This user has not yet been verified.       True        False         False   \n",
       "2                                  None       True        False         False   \n",
       "3  This user has not yet been verified.       True        False         False   \n",
       "4  This user has not yet been verified.       True        False         False   \n",
       "\n",
       "   created_utc        domain   \n",
       "0   1514764452  self.AskDocs  \\\n",
       "1   1514764122  self.AskDocs   \n",
       "2   1514764055  self.AskDocs   \n",
       "3   1514763799  self.AskDocs   \n",
       "4   1514763188  self.AskDocs   \n",
       "\n",
       "                                           full_link      id  ...   \n",
       "0  https://www.reddit.com/r/AskDocs/comments/7nbw...  7nbwtn  ...  \\\n",
       "1  https://www.reddit.com/r/AskDocs/comments/7nbv...  7nbvsv  ...   \n",
       "2  https://www.reddit.com/r/AskDocs/comments/7nbv...  7nbvln  ...   \n",
       "3  https://www.reddit.com/r/AskDocs/comments/7nbu...  7nburb  ...   \n",
       "4  https://www.reddit.com/r/AskDocs/comments/7nbs...  7nbsw2  ...   \n",
       "\n",
       "  removed_by_category updated_utc  steward_reports og_description  og_title   \n",
       "0                 NaN         NaN              NaN            NaN       NaN  \\\n",
       "1                 NaN         NaN              NaN            NaN       NaN   \n",
       "2                 NaN         NaN              NaN            NaN       NaN   \n",
       "3                 NaN         NaN              NaN            NaN       NaN   \n",
       "4                 NaN         NaN              NaN            NaN       NaN   \n",
       "\n",
       "   removed_by  media_metadata  is_created_from_ads_ui author_is_blocked   \n",
       "0         NaN             NaN                     NaN               NaN  \\\n",
       "1         NaN             NaN                     NaN               NaN   \n",
       "2         NaN             NaN                     NaN               NaN   \n",
       "3         NaN             NaN                     NaN               NaN   \n",
       "4         NaN             NaN                     NaN               NaN   \n",
       "\n",
       "  url_overridden_by_dest  \n",
       "0                    NaN  \n",
       "1                    NaN  \n",
       "2                    NaN  \n",
       "3                    NaN  \n",
       "4                    NaN  \n",
       "\n",
       "[5 rows x 110 columns]"
      ]
     },
     "execution_count": 214,
     "metadata": {},
     "output_type": "execute_result"
    }
   ],
   "source": [
    "df.head()"
   ]
  },
  {
   "cell_type": "markdown",
   "id": "3f7238b2-8d2c-4297-81a9-8fcb99244007",
   "metadata": {},
   "source": [
    "## Apply data prep steps"
   ]
  },
  {
   "cell_type": "markdown",
   "id": "e54956d3-cdc2-430b-b74a-a21b503eeff3",
   "metadata": {},
   "source": [
    "1. Filter out irrelevant messages"
   ]
  },
  {
   "cell_type": "code",
   "execution_count": 215,
   "id": "85ce2817-2d4a-4a73-8f05-3102a10a4e24",
   "metadata": {},
   "outputs": [
    {
     "name": "stdout",
     "output_type": "stream",
     "text": [
      "Original rows count: 713040\n",
      "Filtered rows count: 683202\n",
      "% of rows filtered out: 4.18\n"
     ]
    }
   ],
   "source": [
    "df = filter_submissions(df)"
   ]
  },
  {
   "cell_type": "markdown",
   "id": "04864f54-c595-46cf-904e-c473817c62b0",
   "metadata": {},
   "source": [
    "2. Consolidate post and cross-post content\n",
    "   "
   ]
  },
  {
   "cell_type": "code",
   "execution_count": 216,
   "id": "403442bc-37ed-4694-868c-8eebedef325b",
   "metadata": {},
   "outputs": [],
   "source": [
    "df['selftext'] = df['selftext'].str.strip() "
   ]
  },
  {
   "cell_type": "code",
   "execution_count": 217,
   "id": "6d0d1bdb-93a1-4689-a31d-6c865a60051f",
   "metadata": {},
   "outputs": [],
   "source": [
    "df['selftext'] = df['selftext'].apply(clean_selftext_blanks)"
   ]
  },
  {
   "cell_type": "code",
   "execution_count": 218,
   "id": "7768b8c0-94e1-4621-ba30-cb60c6bc3704",
   "metadata": {},
   "outputs": [],
   "source": [
    "crosspost_fix_condition = (\n",
    "    (df['selftext'] == '') \n",
    "    & (df['crosspost_parent_list'].notna())\n",
    ")\n",
    "\n",
    "df['selftext'] = np.where(\n",
    "    crosspost_fix_condition, \n",
    "    df['crosspost_parent_list'].apply(get_crosspost_body), \n",
    "    df['selftext']\n",
    ")"
   ]
  },
  {
   "cell_type": "markdown",
   "id": "ad8de215-5c2f-45c5-92f9-475cda31dc1a",
   "metadata": {},
   "source": [
    "4. Get cross-post subreddit names"
   ]
  },
  {
   "cell_type": "code",
   "execution_count": 219,
   "id": "e03146be-2a57-410c-8aa4-cc0a9dbb1b9c",
   "metadata": {},
   "outputs": [],
   "source": [
    "df['crosspost_subreddits'] = df['crosspost_parent_list']\\\n",
    "    .apply(get_crosspost_subreddits)"
   ]
  },
  {
   "cell_type": "markdown",
   "id": "db8043db-6d83-471a-8f9b-695913432671",
   "metadata": {},
   "source": [
    "5. Consolidate the title and post body as the full user question"
   ]
  },
  {
   "cell_type": "code",
   "execution_count": 220,
   "id": "0003574e-6a98-487a-9aed-bb559c5fac46",
   "metadata": {},
   "outputs": [],
   "source": [
    "df['full_post_text'] = (\n",
    "    df['title'].str.strip() \n",
    "    + ' | '\n",
    "    + df['selftext'].str.strip()\n",
    ")"
   ]
  },
  {
   "cell_type": "code",
   "execution_count": 221,
   "id": "10ed8de5-e222-449c-b856-4f7eba5e5392",
   "metadata": {},
   "outputs": [
    {
     "data": {
      "text/plain": [
       "full_post_text\n",
       "False    683202\n",
       "Name: count, dtype: int64"
      ]
     },
     "execution_count": 221,
     "metadata": {},
     "output_type": "execute_result"
    }
   ],
   "source": [
    "# check that we don't have blanks in full_post_text\n",
    "(df['full_post_text'] == '').value_counts()"
   ]
  },
  {
   "cell_type": "markdown",
   "id": "664bb7e5-e641-4b80-bc24-7d4d1d59e46d",
   "metadata": {},
   "source": [
    "6. Fix timestamp formats"
   ]
  },
  {
   "cell_type": "code",
   "execution_count": 222,
   "id": "d0be7156-819d-405b-b8bc-d5b244f8a04f",
   "metadata": {},
   "outputs": [],
   "source": [
    "df['created_utc_ns_dt'] = df['created_utc'] * 1_000_000_000"
   ]
  },
  {
   "cell_type": "code",
   "execution_count": 223,
   "id": "49c72e13-4e5e-4bc2-b36a-fe53ce602ca7",
   "metadata": {},
   "outputs": [],
   "source": [
    "df['edited_utc_ns_dt'] = df['edited'] * 1_000_000_000"
   ]
  },
  {
   "cell_type": "markdown",
   "id": "387460e1-379e-4764-ac46-ead9f575bc2c",
   "metadata": {},
   "source": [
    "7. Filter to the final selected fields"
   ]
  },
  {
   "cell_type": "code",
   "execution_count": 224,
   "id": "62651eb4-bdac-4db6-b4b5-067714fc705e",
   "metadata": {},
   "outputs": [],
   "source": [
    "df = df[selected_fields]"
   ]
  },
  {
   "cell_type": "code",
   "execution_count": 225,
   "id": "602ea0f1-2152-4f72-b5e7-132df47ebda4",
   "metadata": {},
   "outputs": [
    {
     "name": "stdout",
     "output_type": "stream",
     "text": [
      "<class 'pandas.core.frame.DataFrame'>\n",
      "Index: 683202 entries, 0 to 15884\n",
      "Data columns (total 17 columns):\n",
      " #   Column                Non-Null Count   Dtype  \n",
      "---  ------                --------------   -----  \n",
      " 0   author                683202 non-null  object \n",
      " 1   author_flair_text     447549 non-null  object \n",
      " 2   domain                683202 non-null  object \n",
      " 3   full_link             683202 non-null  object \n",
      " 4   id                    683202 non-null  object \n",
      " 5   locked                683202 non-null  bool   \n",
      " 6   num_comments          683202 non-null  int64  \n",
      " 7   num_crossposts        645295 non-null  float64\n",
      " 8   over_18               683202 non-null  bool   \n",
      " 9   score                 683202 non-null  int64  \n",
      " 10  selftext              683202 non-null  object \n",
      " 11  title                 683202 non-null  object \n",
      " 12  url                   683202 non-null  object \n",
      " 13  crosspost_subreddits  683202 non-null  object \n",
      " 14  full_post_text        683202 non-null  object \n",
      " 15  created_utc_ns_dt     683202 non-null  int64  \n",
      " 16  edited_utc_ns_dt      16666 non-null   float64\n",
      "dtypes: bool(2), float64(2), int64(3), object(10)\n",
      "memory usage: 84.7+ MB\n"
     ]
    }
   ],
   "source": [
    "df.info()"
   ]
  },
  {
   "cell_type": "markdown",
   "id": "8dbbd533-59d4-4d9c-824e-7c3091d23d42",
   "metadata": {},
   "source": [
    "## Save the analysis dataset"
   ]
  },
  {
   "cell_type": "code",
   "execution_count": 226,
   "id": "c205c838-8744-4da7-bd78-d78354c509fa",
   "metadata": {},
   "outputs": [],
   "source": [
    "# Save file with on-the-fly compression\n",
    "df.to_csv(\n",
    "    DATA_PATH + 'reddit_askdocs_submissions_2017_to_20220121_analysis_ds.zip', \n",
    "    index=False\n",
    ")"
   ]
  },
  {
   "cell_type": "code",
   "execution_count": null,
   "id": "dfb99d88-c497-4cb1-82e7-5bc630293638",
   "metadata": {},
   "outputs": [],
   "source": []
  }
 ],
 "metadata": {
  "kernelspec": {
   "display_name": "Python 3 (ipykernel)",
   "language": "python",
   "name": "python3"
  },
  "language_info": {
   "codemirror_mode": {
    "name": "ipython",
    "version": 3
   },
   "file_extension": ".py",
   "mimetype": "text/x-python",
   "name": "python",
   "nbconvert_exporter": "python",
   "pygments_lexer": "ipython3",
   "version": "3.11.4"
  }
 },
 "nbformat": 4,
 "nbformat_minor": 5
}
