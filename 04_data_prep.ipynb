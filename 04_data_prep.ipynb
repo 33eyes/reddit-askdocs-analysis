{
 "cells": [
  {
   "cell_type": "markdown",
   "id": "df66af27-1037-4f2c-9613-e353d2a1636a",
   "metadata": {},
   "source": [
    "# Transform the data\n"
   ]
  },
  {
   "cell_type": "code",
   "execution_count": 133,
   "id": "e5fdd627-e069-47cc-994b-51f0337dd198",
   "metadata": {},
   "outputs": [],
   "source": [
    "import pickle\n",
    "import pandas as pd\n",
    "import numpy as np\n",
    "from IPython.display import display, HTML, Markdown, clear_output\n",
    "import ipywidgets as widgets\n",
    "import time "
   ]
  },
  {
   "cell_type": "code",
   "execution_count": 2,
   "id": "2eaa7e02-bd09-4648-96f1-b0102967d265",
   "metadata": {},
   "outputs": [],
   "source": [
    "with open(\"reddit_askdocs_submissions_2017.pkl\", \"rb\") as f:\n",
    "    d_2017 = pickle.load(f)"
   ]
  },
  {
   "cell_type": "code",
   "execution_count": 134,
   "id": "06d29630-6975-4446-9174-415d41483b62",
   "metadata": {},
   "outputs": [],
   "source": [
    "df_2017 = pd.DataFrame(d_2017)"
   ]
  },
  {
   "cell_type": "code",
   "execution_count": 45,
   "id": "84f4ad13-c725-44eb-8c52-248abb5daccd",
   "metadata": {},
   "outputs": [
    {
     "data": {
      "text/html": [
       "<div>\n",
       "<style scoped>\n",
       "    .dataframe tbody tr th:only-of-type {\n",
       "        vertical-align: middle;\n",
       "    }\n",
       "\n",
       "    .dataframe tbody tr th {\n",
       "        vertical-align: top;\n",
       "    }\n",
       "\n",
       "    .dataframe thead th {\n",
       "        text-align: right;\n",
       "    }\n",
       "</style>\n",
       "<table border=\"1\" class=\"dataframe\">\n",
       "  <thead>\n",
       "    <tr style=\"text-align: right;\">\n",
       "      <th></th>\n",
       "      <th>author</th>\n",
       "      <th>author_flair_css_class</th>\n",
       "      <th>author_flair_text</th>\n",
       "      <th>brand_safe</th>\n",
       "      <th>can_mod_post</th>\n",
       "      <th>contest_mode</th>\n",
       "      <th>created_utc</th>\n",
       "      <th>domain</th>\n",
       "      <th>full_link</th>\n",
       "      <th>id</th>\n",
       "      <th>...</th>\n",
       "      <th>approved_at_utc</th>\n",
       "      <th>banned_at_utc</th>\n",
       "      <th>view_count</th>\n",
       "      <th>gilded</th>\n",
       "      <th>media_embed</th>\n",
       "      <th>secure_media_embed</th>\n",
       "      <th>author_created_utc</th>\n",
       "      <th>author_fullname</th>\n",
       "      <th>media</th>\n",
       "      <th>secure_media</th>\n",
       "    </tr>\n",
       "  </thead>\n",
       "  <tbody>\n",
       "    <tr>\n",
       "      <th>0</th>\n",
       "      <td>[deleted]</td>\n",
       "      <td>None</td>\n",
       "      <td>None</td>\n",
       "      <td>True</td>\n",
       "      <td>False</td>\n",
       "      <td>False</td>\n",
       "      <td>1514764452</td>\n",
       "      <td>self.AskDocs</td>\n",
       "      <td>https://www.reddit.com/r/AskDocs/comments/7nbw...</td>\n",
       "      <td>7nbwtn</td>\n",
       "      <td>...</td>\n",
       "      <td>NaN</td>\n",
       "      <td>NaN</td>\n",
       "      <td>NaN</td>\n",
       "      <td>NaN</td>\n",
       "      <td>NaN</td>\n",
       "      <td>NaN</td>\n",
       "      <td>NaN</td>\n",
       "      <td>NaN</td>\n",
       "      <td>NaN</td>\n",
       "      <td>NaN</td>\n",
       "    </tr>\n",
       "    <tr>\n",
       "      <th>1</th>\n",
       "      <td>XenonCSGO</td>\n",
       "      <td>default</td>\n",
       "      <td>This user has not yet been verified.</td>\n",
       "      <td>True</td>\n",
       "      <td>False</td>\n",
       "      <td>False</td>\n",
       "      <td>1514764122</td>\n",
       "      <td>self.AskDocs</td>\n",
       "      <td>https://www.reddit.com/r/AskDocs/comments/7nbv...</td>\n",
       "      <td>7nbvsv</td>\n",
       "      <td>...</td>\n",
       "      <td>NaN</td>\n",
       "      <td>NaN</td>\n",
       "      <td>NaN</td>\n",
       "      <td>NaN</td>\n",
       "      <td>NaN</td>\n",
       "      <td>NaN</td>\n",
       "      <td>NaN</td>\n",
       "      <td>NaN</td>\n",
       "      <td>NaN</td>\n",
       "      <td>NaN</td>\n",
       "    </tr>\n",
       "    <tr>\n",
       "      <th>2</th>\n",
       "      <td>[deleted]</td>\n",
       "      <td>None</td>\n",
       "      <td>None</td>\n",
       "      <td>True</td>\n",
       "      <td>False</td>\n",
       "      <td>False</td>\n",
       "      <td>1514764055</td>\n",
       "      <td>self.AskDocs</td>\n",
       "      <td>https://www.reddit.com/r/AskDocs/comments/7nbv...</td>\n",
       "      <td>7nbvln</td>\n",
       "      <td>...</td>\n",
       "      <td>NaN</td>\n",
       "      <td>NaN</td>\n",
       "      <td>NaN</td>\n",
       "      <td>NaN</td>\n",
       "      <td>NaN</td>\n",
       "      <td>NaN</td>\n",
       "      <td>NaN</td>\n",
       "      <td>NaN</td>\n",
       "      <td>NaN</td>\n",
       "      <td>NaN</td>\n",
       "    </tr>\n",
       "    <tr>\n",
       "      <th>3</th>\n",
       "      <td>DavisTheMagicSheep</td>\n",
       "      <td>default</td>\n",
       "      <td>This user has not yet been verified.</td>\n",
       "      <td>True</td>\n",
       "      <td>False</td>\n",
       "      <td>False</td>\n",
       "      <td>1514763799</td>\n",
       "      <td>self.AskDocs</td>\n",
       "      <td>https://www.reddit.com/r/AskDocs/comments/7nbu...</td>\n",
       "      <td>7nburb</td>\n",
       "      <td>...</td>\n",
       "      <td>NaN</td>\n",
       "      <td>NaN</td>\n",
       "      <td>NaN</td>\n",
       "      <td>NaN</td>\n",
       "      <td>NaN</td>\n",
       "      <td>NaN</td>\n",
       "      <td>NaN</td>\n",
       "      <td>NaN</td>\n",
       "      <td>NaN</td>\n",
       "      <td>NaN</td>\n",
       "    </tr>\n",
       "    <tr>\n",
       "      <th>4</th>\n",
       "      <td>Dontgetscooped</td>\n",
       "      <td>default</td>\n",
       "      <td>This user has not yet been verified.</td>\n",
       "      <td>True</td>\n",
       "      <td>False</td>\n",
       "      <td>False</td>\n",
       "      <td>1514763188</td>\n",
       "      <td>self.AskDocs</td>\n",
       "      <td>https://www.reddit.com/r/AskDocs/comments/7nbs...</td>\n",
       "      <td>7nbsw2</td>\n",
       "      <td>...</td>\n",
       "      <td>NaN</td>\n",
       "      <td>NaN</td>\n",
       "      <td>NaN</td>\n",
       "      <td>NaN</td>\n",
       "      <td>NaN</td>\n",
       "      <td>NaN</td>\n",
       "      <td>NaN</td>\n",
       "      <td>NaN</td>\n",
       "      <td>NaN</td>\n",
       "      <td>NaN</td>\n",
       "    </tr>\n",
       "  </tbody>\n",
       "</table>\n",
       "<p>5 rows × 56 columns</p>\n",
       "</div>"
      ],
      "text/plain": [
       "               author author_flair_css_class  \\\n",
       "0           [deleted]                   None   \n",
       "1           XenonCSGO                default   \n",
       "2           [deleted]                   None   \n",
       "3  DavisTheMagicSheep                default   \n",
       "4      Dontgetscooped                default   \n",
       "\n",
       "                      author_flair_text  brand_safe can_mod_post  \\\n",
       "0                                  None        True        False   \n",
       "1  This user has not yet been verified.        True        False   \n",
       "2                                  None        True        False   \n",
       "3  This user has not yet been verified.        True        False   \n",
       "4  This user has not yet been verified.        True        False   \n",
       "\n",
       "   contest_mode  created_utc        domain  \\\n",
       "0         False   1514764452  self.AskDocs   \n",
       "1         False   1514764122  self.AskDocs   \n",
       "2         False   1514764055  self.AskDocs   \n",
       "3         False   1514763799  self.AskDocs   \n",
       "4         False   1514763188  self.AskDocs   \n",
       "\n",
       "                                           full_link      id  ...  \\\n",
       "0  https://www.reddit.com/r/AskDocs/comments/7nbw...  7nbwtn  ...   \n",
       "1  https://www.reddit.com/r/AskDocs/comments/7nbv...  7nbvsv  ...   \n",
       "2  https://www.reddit.com/r/AskDocs/comments/7nbv...  7nbvln  ...   \n",
       "3  https://www.reddit.com/r/AskDocs/comments/7nbu...  7nburb  ...   \n",
       "4  https://www.reddit.com/r/AskDocs/comments/7nbs...  7nbsw2  ...   \n",
       "\n",
       "  approved_at_utc banned_at_utc  view_count gilded  media_embed  \\\n",
       "0             NaN           NaN         NaN    NaN          NaN   \n",
       "1             NaN           NaN         NaN    NaN          NaN   \n",
       "2             NaN           NaN         NaN    NaN          NaN   \n",
       "3             NaN           NaN         NaN    NaN          NaN   \n",
       "4             NaN           NaN         NaN    NaN          NaN   \n",
       "\n",
       "   secure_media_embed  author_created_utc  author_fullname media secure_media  \n",
       "0                 NaN                 NaN              NaN   NaN          NaN  \n",
       "1                 NaN                 NaN              NaN   NaN          NaN  \n",
       "2                 NaN                 NaN              NaN   NaN          NaN  \n",
       "3                 NaN                 NaN              NaN   NaN          NaN  \n",
       "4                 NaN                 NaN              NaN   NaN          NaN  \n",
       "\n",
       "[5 rows x 56 columns]"
      ]
     },
     "execution_count": 45,
     "metadata": {},
     "output_type": "execute_result"
    }
   ],
   "source": [
    "df_2017.head()"
   ]
  },
  {
   "cell_type": "code",
   "execution_count": 7,
   "id": "ce951bab-8fe9-4290-bb4a-1bc9ce995643",
   "metadata": {},
   "outputs": [
    {
     "data": {
      "text/plain": [
       "This user has not yet been verified.    0.694449\n",
       "NaN                                     0.305007\n",
       "Medical Student                         0.000144\n",
       "Nursing Student                         0.000112\n",
       "Registered Nurse                        0.000048\n",
       "Pharmacist                              0.000032\n",
       "EMT                                     0.000016\n",
       "Physician Assistant                     0.000016\n",
       "Pharm.D. Student                        0.000016\n",
       "Moderator                               0.000016\n",
       "Physician                               0.000016\n",
       "Biomedical Student                      0.000016\n",
       "Web Developer                           0.000016\n",
       "B.S., Medical Lab Sciences              0.000016\n",
       "Nursing Graduate, RPN                   0.000016\n",
       "Physician | Moderator                   0.000016\n",
       "Psychologist                            0.000016\n",
       "WEB DEVELOPER                           0.000016\n",
       "Lead Moderator                          0.000016\n",
       "Name: author_flair_text, dtype: float64"
      ]
     },
     "execution_count": 7,
     "metadata": {},
     "output_type": "execute_result"
    }
   ],
   "source": [
    "df_2017['author_flair_text'].value_counts(dropna=False, normalize=True)"
   ]
  },
  {
   "cell_type": "markdown",
   "id": "4c474daa-8a25-429c-b82e-44cf10954107",
   "metadata": {},
   "source": [
    "## Filter rows  \n",
    "\n",
    "Filtering out submissions not relevant to this analysis, like mod posts and banned posts. We want to analyze submissions that are medical questions from users. Mod posts are typically announcements, and bannded posts were deemed unrelated or inappropriate by subreddit moderators, so those types of posts can be filtered out as not relevant to analysis."
   ]
  },
  {
   "cell_type": "code",
   "execution_count": 9,
   "id": "401572a1-fcb9-4a03-8e1b-768a1ac4ec16",
   "metadata": {},
   "outputs": [],
   "source": [
    "fname = 'reddit_submissions_selected_fields.csv'\n",
    "selected_fields_df = pd.read_csv(fname)"
   ]
  },
  {
   "cell_type": "code",
   "execution_count": 15,
   "id": "b07317b6-9aea-408a-a7a8-24b9c8a8f28b",
   "metadata": {},
   "outputs": [
    {
     "data": {
      "text/markdown": [
       "|    | field_name    | type   | reddit_role   | analysis_role   | notes                                                                                                                     | type_long   | reddit_role_long                                                | analysis_role_long   |\n",
       "|---:|:--------------|:-------|:--------------|:----------------|:--------------------------------------------------------------------------------------------------------------------------|:------------|:----------------------------------------------------------------|:---------------------|\n",
       "| 14 | stickied      | b      | aa            | f               | Mods can pin up to 2 of their own posts to the top of the subreddit. This tag used to be called announcements.            | binary flag | author actions on the post (other than commenting)              | filtering            |\n",
       "| 17 | banned_by     | c      | ma            | f               | The only values are NaN and moderators.                                                                                   | categorical | mod reactions to either post content or comments activity on it | filtering            |\n",
       "| 21 | distinguished | c      | aa            | f               | Mods can tag posts as distinguished, usually used for subreddit management. Use this field for filtering out these posts. | categorical | author actions on the post (other than commenting)              | filtering            |"
      ],
      "text/plain": [
       "<IPython.core.display.Markdown object>"
      ]
     },
     "metadata": {},
     "output_type": "display_data"
    }
   ],
   "source": [
    "display(Markdown(selected_fields_df[selected_fields_df['analysis_role'] == 'f'].to_markdown()))"
   ]
  },
  {
   "cell_type": "code",
   "execution_count": 18,
   "id": "29d90c79-a232-4e24-bd97-29e48d8f07a4",
   "metadata": {},
   "outputs": [
    {
     "data": {
      "text/plain": [
       "['stickied', 'banned_by', 'distinguished']"
      ]
     },
     "execution_count": 18,
     "metadata": {},
     "output_type": "execute_result"
    }
   ],
   "source": [
    "filter_fields = selected_fields_df[selected_fields_df['analysis_role'] == 'f']['field_name'].to_list()\n",
    "filter_fields"
   ]
  },
  {
   "cell_type": "code",
   "execution_count": 19,
   "id": "b34d7a9f-a64b-40cd-9b17-5faa24897399",
   "metadata": {},
   "outputs": [
    {
     "data": {
      "text/plain": [
       "False    62433\n",
       "True         5\n",
       "Name: stickied, dtype: int64"
      ]
     },
     "execution_count": 19,
     "metadata": {},
     "output_type": "execute_result"
    }
   ],
   "source": [
    "df_2017['stickied'].value_counts(dropna=False)"
   ]
  },
  {
   "cell_type": "code",
   "execution_count": 24,
   "id": "0a7dec72-ead0-437a-a6e6-265e94dfe364",
   "metadata": {},
   "outputs": [
    {
     "data": {
      "text/plain": [
       "Index(['author', 'author_flair_css_class', 'author_flair_text', 'brand_safe',\n",
       "       'can_mod_post', 'contest_mode', 'created_utc', 'domain', 'full_link',\n",
       "       'id', 'is_crosspostable', 'is_reddit_media_domain', 'is_self',\n",
       "       'is_video', 'locked', 'num_comments', 'num_crossposts', 'over_18',\n",
       "       'parent_whitelist_status', 'permalink', 'pinned', 'retrieved_on',\n",
       "       'score', 'selftext', 'spoiler', 'stickied', 'subreddit', 'subreddit_id',\n",
       "       'subreddit_type', 'thumbnail', 'title', 'url', 'whitelist_status',\n",
       "       'created', 'post_hint', 'preview', 'banned_by', 'edited',\n",
       "       'crosspost_parent', 'crosspost_parent_list', 'thumbnail_height',\n",
       "       'thumbnail_width', 'author_cakeday', 'distinguished', 'removal_reason',\n",
       "       'suggested_sort', 'approved_at_utc', 'banned_at_utc', 'view_count',\n",
       "       'gilded', 'media_embed', 'secure_media_embed', 'author_created_utc',\n",
       "       'author_fullname', 'media', 'secure_media'],\n",
       "      dtype='object')"
      ]
     },
     "execution_count": 24,
     "metadata": {},
     "output_type": "execute_result"
    }
   ],
   "source": [
    "df_2017.columns"
   ]
  },
  {
   "cell_type": "code",
   "execution_count": 28,
   "id": "85e1c433-15f3-4974-9144-b9a1aa420fab",
   "metadata": {},
   "outputs": [
    {
     "name": "stdout",
     "output_type": "stream",
     "text": [
      "====\n",
      "WEB DEVELOPER\n",
      "2017-12-29 10:30:05\n",
      "https://www.reddit.com/r/AskDocs/comments/7mream/please_do_not_downvote_submissions_if_a_question/\n",
      "Please do not downvote submissions! If a question is not appropriate, please 'report' it to bring it to our attention.\n",
      "\n",
      "====\n",
      "Physician | Moderator\n",
      "2017-11-22 21:17:32\n",
      "https://www.reddit.com/r/AskDocs/comments/7equza/help_save_net_neutrality_so_we_can_keep_doing_our/\n",
      "Help Save Net Neutrality so we can keep doing our work at /r/AskDocs!\n",
      "\n",
      "====\n",
      "This user has not yet been verified.\n",
      "2017-10-11 07:30:37\n",
      "https://www.reddit.com/r/AskDocs/comments/75l2qc/thank_you/\n",
      "Thank You\n",
      "I just wanted to post a quick thank you.\n",
      "\n",
      "A few days ago I asked for advice for my 4 year old and ended up going in and finding an infection.  She’s on the mend now and I needed that advice for my 2 year old and took her in this morning after hearing her gasp for breath after a coughing fit last night.  She had a very minor fever and no other obvious signs to me but an X-ray later we found pneumonia.  After the issue with my eldest I received advice on I took my youngest child’s issue very seriously and I’m glad I did.\n",
      "\n",
      "I’m a little more proactive as a result of this sub so again, thank you for what you do 🙂\n",
      "====\n",
      "Web Developer\n",
      "2017-07-15 19:10:47\n",
      "https://www.reddit.com/r/AskDocs/comments/6nfekv/in_case_it_wasnt_obvious_abusive_language_will/\n",
      "In case it wasn't obvious, abusive language will not be tolerated in this sub.\n",
      "In light recent events, please be advised that any form of bullying or abusive language towards anybody is unacceptable, and will result in a permanent ban from the sub.\n",
      "\n",
      "If you notice anything, please hit the report button.\n",
      "\n",
      "We appreciate your cooperation in keeping this sub a safe place for everyone!\n",
      "====\n",
      "Lead Moderator\n",
      "2017-01-02 08:17:07\n",
      "https://www.reddit.com/r/AskDocs/comments/5li5c9/raskdocs_subreddit_survey/\n",
      "/r/AskDocs Subreddit Survey!\n",
      "*[previously stickied post](https://www.reddit.com/r/AskDocs/comments/5672ls/in_regards_to_demographic_information_in_posts/)*\n",
      "\n",
      "Hi everyone!\n",
      "\n",
      "If you have a minute to take this quick survey it would be greatly appreciated. We are using it to gauge how the subreddit is doing and receive feedback from our users. It is open to everyone - unverified and verified users. Thank you!\n",
      "\n",
      "[LINK](https://docs.google.com/forms/d/1hVIXEpSppcLLigjoVRmQIfZm3Yev2x7KpnZTf94brN4/edit)\n",
      "\n",
      "Happy New Year!!!\n"
     ]
    }
   ],
   "source": [
    "for i,r in df_2017[df_2017['stickied'] == True].iterrows():\n",
    "    print('====')\n",
    "    print(r['author_flair_text'])\n",
    "    print(pd.to_datetime(r['created'], unit='s'))\n",
    "    print(r['full_link'])\n",
    "    print(r['title'])\n",
    "    print(r['selftext'])"
   ]
  },
  {
   "cell_type": "markdown",
   "id": "6d87c480-2059-4c6d-845e-ee6b0e1d20e3",
   "metadata": {},
   "source": [
    "^ In this data sample, of the 5 stickied submissions, 4 were announcements and 1 was a thank-you."
   ]
  },
  {
   "cell_type": "code",
   "execution_count": 31,
   "id": "44931102-1e27-4a56-a3bb-1fc8cb176af4",
   "metadata": {},
   "outputs": [
    {
     "data": {
      "text/plain": [
       "NaN          62434\n",
       "moderator        4\n",
       "Name: distinguished, dtype: int64"
      ]
     },
     "execution_count": 31,
     "metadata": {},
     "output_type": "execute_result"
    }
   ],
   "source": [
    "df_2017['distinguished'].value_counts(dropna=False)"
   ]
  },
  {
   "cell_type": "code",
   "execution_count": 32,
   "id": "8e140341-a2dc-4a5e-a35a-80faf64bfba0",
   "metadata": {},
   "outputs": [
    {
     "name": "stdout",
     "output_type": "stream",
     "text": [
      "====\n",
      "WEB DEVELOPER\n",
      "2017-12-29 10:30:05\n",
      "https://www.reddit.com/r/AskDocs/comments/7mream/please_do_not_downvote_submissions_if_a_question/\n",
      "Please do not downvote submissions! If a question is not appropriate, please 'report' it to bring it to our attention.\n",
      "\n",
      "====\n",
      "Physician | Moderator\n",
      "2017-11-22 21:17:32\n",
      "https://www.reddit.com/r/AskDocs/comments/7equza/help_save_net_neutrality_so_we_can_keep_doing_our/\n",
      "Help Save Net Neutrality so we can keep doing our work at /r/AskDocs!\n",
      "\n",
      "====\n",
      "Web Developer\n",
      "2017-07-15 19:10:47\n",
      "https://www.reddit.com/r/AskDocs/comments/6nfekv/in_case_it_wasnt_obvious_abusive_language_will/\n",
      "In case it wasn't obvious, abusive language will not be tolerated in this sub.\n",
      "In light recent events, please be advised that any form of bullying or abusive language towards anybody is unacceptable, and will result in a permanent ban from the sub.\n",
      "\n",
      "If you notice anything, please hit the report button.\n",
      "\n",
      "We appreciate your cooperation in keeping this sub a safe place for everyone!\n",
      "====\n",
      "Lead Moderator\n",
      "2017-01-02 08:17:07\n",
      "https://www.reddit.com/r/AskDocs/comments/5li5c9/raskdocs_subreddit_survey/\n",
      "/r/AskDocs Subreddit Survey!\n",
      "*[previously stickied post](https://www.reddit.com/r/AskDocs/comments/5672ls/in_regards_to_demographic_information_in_posts/)*\n",
      "\n",
      "Hi everyone!\n",
      "\n",
      "If you have a minute to take this quick survey it would be greatly appreciated. We are using it to gauge how the subreddit is doing and receive feedback from our users. It is open to everyone - unverified and verified users. Thank you!\n",
      "\n",
      "[LINK](https://docs.google.com/forms/d/1hVIXEpSppcLLigjoVRmQIfZm3Yev2x7KpnZTf94brN4/edit)\n",
      "\n",
      "Happy New Year!!!\n"
     ]
    }
   ],
   "source": [
    "for i,r in df_2017[df_2017['distinguished'] == 'moderator'].iterrows():\n",
    "    print('====')\n",
    "    print(r['author_flair_text'])\n",
    "    print(pd.to_datetime(r['created'], unit='s'))\n",
    "    print(r['full_link'])\n",
    "    print(r['title'])\n",
    "    print(r['selftext'])"
   ]
  },
  {
   "cell_type": "code",
   "execution_count": 33,
   "id": "cff154ce-f9ba-4acd-b644-8ab68ebd80c9",
   "metadata": {},
   "outputs": [
    {
     "data": {
      "text/plain": [
       "NaN           59411\n",
       "moderators     3027\n",
       "Name: banned_by, dtype: int64"
      ]
     },
     "execution_count": 33,
     "metadata": {},
     "output_type": "execute_result"
    }
   ],
   "source": [
    "df_2017['banned_by'].value_counts(dropna=False)"
   ]
  },
  {
   "cell_type": "code",
   "execution_count": 34,
   "id": "95dd2d5d-655f-4004-9f6f-ff845bb2d32f",
   "metadata": {},
   "outputs": [
    {
     "name": "stdout",
     "output_type": "stream",
     "text": [
      "====\n",
      "None\n",
      "2018-01-01 05:33:25\n",
      "https://www.reddit.com/r/AskDocs/comments/7nb5nw/redness_but_not_jockitch/\n",
      "Redness but not JockItch?\n",
      "nan\n",
      "====\n",
      "None\n",
      "2018-01-01 04:39:41\n",
      "https://www.reddit.com/r/AskDocs/comments/7nauj8/epinephrine_and_hydroxyzine_eli5/\n",
      "Epinephrine and Hydroxyzine ELI5\n",
      "nan\n",
      "====\n",
      "None\n",
      "2018-01-01 02:39:59\n",
      "https://www.reddit.com/r/AskDocs/comments/7na56p/what_is_the_maximum_healthy_range_for_an_lppla2/\n",
      "What is the maximum healthy range for an Lp-PLA2 test?\n",
      "nan\n",
      "====\n",
      "None\n",
      "2018-01-01 02:36:19\n",
      "https://www.reddit.com/r/AskDocs/comments/7na4ei/nsfw_possible_std/\n",
      "(Nsfw) possible STD\n",
      "nan\n",
      "====\n",
      "None\n",
      "2018-01-01 02:25:16\n",
      "https://www.reddit.com/r/AskDocs/comments/7na221/clubbed_nails_update_do_i_have_it/\n",
      "Clubbed nails update? Do I have it?\n",
      "nan\n"
     ]
    }
   ],
   "source": [
    "for i,r in df_2017[df_2017['banned_by'] == 'moderators'].head().iterrows():\n",
    "    print('====')\n",
    "    print(r['author_flair_text'])\n",
    "    print(pd.to_datetime(r['created'], unit='s'))\n",
    "    print(r['full_link'])\n",
    "    print(r['title'])\n",
    "    print(r['selftext'])"
   ]
  },
  {
   "cell_type": "code",
   "execution_count": 55,
   "id": "45ba43b6-ea62-4adc-ae75-f14959379f7a",
   "metadata": {},
   "outputs": [],
   "source": [
    "def filter_submissions(df):\n",
    "    original_rows_count = len(df)\n",
    "    print(f'Original rows count: {original_rows_count}')\n",
    "    \n",
    "    filters = (df['stickied'] == True) | (df['distinguished'] == 'moderator') \\\n",
    "        | (df['banned_by'] == 'moderators')\n",
    "    df = df.drop(df[filters].index)\n",
    "    \n",
    "    print(f'Filtered rows count: {len(df)}')\n",
    "    print(f'% of rows filtered out: {(1-len(df)/original_rows_count)*100:.2f}')\n",
    "    \n",
    "    return df"
   ]
  },
  {
   "cell_type": "code",
   "execution_count": 135,
   "id": "7ffcd6e3-aa1d-4357-a019-b50d951cbb97",
   "metadata": {},
   "outputs": [
    {
     "name": "stdout",
     "output_type": "stream",
     "text": [
      "Original rows count: 62438\n",
      "Filtered rows count: 59406\n",
      "% of rows filtered out: 4.86\n"
     ]
    }
   ],
   "source": [
    "df_2017 = filter_submissions(df_2017)"
   ]
  },
  {
   "cell_type": "code",
   "execution_count": 48,
   "id": "8d9c3378-f902-4a1d-b16e-031d66ad1adf",
   "metadata": {},
   "outputs": [
    {
     "data": {
      "text/markdown": [
       "|    | field_name            | type   | reddit_role   | analysis_role   | notes                                                                                                                                                                                                                   | type_long   | reddit_role_long                                                | analysis_role_long   |\n",
       "|---:|:----------------------|:-------|:--------------|:----------------|:------------------------------------------------------------------------------------------------------------------------------------------------------------------------------------------------------------------------|:------------|:----------------------------------------------------------------|:---------------------|\n",
       "|  0 | author                | s      | a             | i               | Note the [deleted] and [removed] entries.                                                                                                                                                                               | short text  | author info                                                     | id                   |\n",
       "|  1 | author_flair_text     | c      | a             | a               | 31% NaN values.                                                                                                                                                                                                         | categorical | author info                                                     | analysis             |\n",
       "|  2 | created_utc           | t      | p             | a               | Dups present.                                                                                                                                                                                                           | timestamp   | post details                                                    | analysis             |\n",
       "|  3 | domain                | s      | p             | a               | Domain where the post originated from.                                                                                                                                                                                  | short text  | post details                                                    | analysis             |\n",
       "|  4 | full_link             | u      | p             | r               | A link to the post on Reddit.                                                                                                                                                                                           | url         | post details                                                    | reference            |\n",
       "|  5 | id                    | s      | p             | i               | Post id                                                                                                                                                                                                                 | short text  | post details                                                    | id                   |\n",
       "|  6 | locked                | b      | ma            | a               | Only 6 values are true, everything else false.                                                                                                                                                                          | binary flag | mod reactions to either post content or comments activity on it | analysis             |\n",
       "|  7 | num_comments          | n      | ga            | a               | nan                                                                                                                                                                                                                     | numeric     | general subreddit users reactions to the post                   | analysis             |\n",
       "|  8 | num_crossposts        | n      | aa            | a               | Both NaN and zeros present. Few values >0.                                                                                                                                                                              | numeric     | author actions on the post (other than commenting)              | analysis             |\n",
       "|  9 | over_18               | b      | p             | a               | 98% false. Looks like a NSFW-type label on the post content.                                                                                                                                                            | binary flag | post details                                                    | analysis             |\n",
       "| 10 | pinned                | b      | aa            | a               | Users can pin up to 4 posts to their profile.                                                                                                                                                                           | binary flag | author actions on the post (other than commenting)              | analysis             |\n",
       "| 11 | score                 | n      | ga            | a               | The score is based on up and down votes.                                                                                                                                                                                | numeric     | general subreddit users reactions to the post                   | analysis             |\n",
       "| 12 | selftext              | l      | p             | a               | Can have [deleted] as values.                                                                                                                                                                                           | long text   | post details                                                    | analysis             |\n",
       "| 13 | spoiler               | b      | aa            | a               | Spoiler tags are used to mark spoiler content, and they can blur the preview or thumbnails. Both mods and post authors can add a spoiler tag on a post. There were 30 true values in the sample, so decided to keep it. | binary flag | author actions on the post (other than commenting)              | analysis             |\n",
       "| 15 | title                 | l      | p             | a               | Title of the post, can be very long.                                                                                                                                                                                    | long text   | post details                                                    | analysis             |\n",
       "| 16 | url                   | u      | p             | r               | Url to the original post if crossposted or from other source.                                                                                                                                                           | url         | post details                                                    | reference            |\n",
       "| 18 | edited                | t      | aa            | a               | 86% NaNs.                                                                                                                                                                                                               | timestamp   | author actions on the post (other than commenting)              | analysis             |\n",
       "| 19 | crosspost_parent      | s      | p             | t               | Cross-post parent post id.                                                                                                                                                                                              | short text  | post details                                                    | transform            |\n",
       "| 20 | crosspost_parent_list | l      | p             | t               | This ultimately contains the body text of a crossposted post. Just have to pull if out of the list of dicts.                                                                                                            | long text   | post details                                                    | transform            |\n",
       "| 22 | author_fullname       | s      | a             | i               | Unclear what this is, and lots of NaNs, but decided to keep for now.                                                                                                                                                    | short text  | author info                                                     | id                   |"
      ],
      "text/plain": [
       "<IPython.core.display.Markdown object>"
      ]
     },
     "metadata": {},
     "output_type": "display_data"
    }
   ],
   "source": [
    "display(Markdown(selected_fields_df[selected_fields_df['analysis_role'] != 'f'].to_markdown()))"
   ]
  },
  {
   "cell_type": "markdown",
   "id": "029da592-ca02-4318-b8a3-a8cf90cc3bce",
   "metadata": {},
   "source": [
    "## Next step: transform to get the post body  \n",
    "using these fields: crosspost_parent, crosspost_parent_list"
   ]
  },
  {
   "cell_type": "code",
   "execution_count": 61,
   "id": "3f29190f-a1b0-42b4-b659-1fb7464a2ab9",
   "metadata": {},
   "outputs": [
    {
     "data": {
      "text/plain": [
       "NaN          59386\n",
       "t3_7j3ns3        1\n",
       "t3_7dj18d        1\n",
       "t3_7eea0a        1\n",
       "t3_7g8asa        1\n",
       "Name: crosspost_parent, dtype: int64"
      ]
     },
     "execution_count": 61,
     "metadata": {},
     "output_type": "execute_result"
    }
   ],
   "source": [
    "df_2017['crosspost_parent'].value_counts(dropna=False).head()"
   ]
  },
  {
   "cell_type": "code",
   "execution_count": 59,
   "id": "8857e422-f02c-49dc-8141-dfa2f4cae192",
   "metadata": {},
   "outputs": [
    {
     "data": {
      "text/plain": [
       "True     59386\n",
       "False       20\n",
       "Name: crosspost_parent, dtype: int64"
      ]
     },
     "execution_count": 59,
     "metadata": {},
     "output_type": "execute_result"
    }
   ],
   "source": [
    "df_2017['crosspost_parent'].isna().value_counts(dropna=False)"
   ]
  },
  {
   "cell_type": "code",
   "execution_count": 64,
   "id": "4c989560-de3a-49bd-89f7-223fac46a2a9",
   "metadata": {},
   "outputs": [
    {
     "data": {
      "text/plain": [
       "True     59386\n",
       "False       20\n",
       "Name: crosspost_parent_list, dtype: int64"
      ]
     },
     "execution_count": 64,
     "metadata": {},
     "output_type": "execute_result"
    }
   ],
   "source": [
    "df_2017['crosspost_parent_list'].isna().value_counts(dropna=False).head()"
   ]
  },
  {
   "cell_type": "code",
   "execution_count": 69,
   "id": "121e34dd-dc28-4721-a164-5773a05abf17",
   "metadata": {},
   "outputs": [
    {
     "data": {
      "text/plain": [
       "Index(['author', 'author_flair_css_class', 'author_flair_text', 'brand_safe',\n",
       "       'can_mod_post', 'contest_mode', 'created_utc', 'domain', 'full_link',\n",
       "       'id', 'is_crosspostable', 'is_reddit_media_domain', 'is_self',\n",
       "       'is_video', 'locked', 'num_comments', 'num_crossposts', 'over_18',\n",
       "       'parent_whitelist_status', 'permalink', 'pinned', 'retrieved_on',\n",
       "       'score', 'selftext', 'spoiler', 'stickied', 'subreddit', 'subreddit_id',\n",
       "       'subreddit_type', 'thumbnail', 'title', 'url', 'whitelist_status',\n",
       "       'created', 'post_hint', 'preview', 'banned_by', 'edited',\n",
       "       'crosspost_parent', 'crosspost_parent_list', 'thumbnail_height',\n",
       "       'thumbnail_width', 'author_cakeday', 'distinguished', 'removal_reason',\n",
       "       'suggested_sort', 'approved_at_utc', 'banned_at_utc', 'view_count',\n",
       "       'gilded', 'media_embed', 'secure_media_embed', 'author_created_utc',\n",
       "       'author_fullname', 'media', 'secure_media'],\n",
       "      dtype='object')"
      ]
     },
     "execution_count": 69,
     "metadata": {},
     "output_type": "execute_result"
    }
   ],
   "source": [
    "df_2017.columns"
   ]
  },
  {
   "cell_type": "code",
   "execution_count": 71,
   "id": "711c6368-3e5f-4b66-8c4a-b90c8610d12b",
   "metadata": {},
   "outputs": [
    {
     "data": {
      "text/html": [
       "<div>\n",
       "<style scoped>\n",
       "    .dataframe tbody tr th:only-of-type {\n",
       "        vertical-align: middle;\n",
       "    }\n",
       "\n",
       "    .dataframe tbody tr th {\n",
       "        vertical-align: top;\n",
       "    }\n",
       "\n",
       "    .dataframe thead th {\n",
       "        text-align: right;\n",
       "    }\n",
       "</style>\n",
       "<table border=\"1\" class=\"dataframe\">\n",
       "  <thead>\n",
       "    <tr style=\"text-align: right;\">\n",
       "      <th></th>\n",
       "      <th>crosspost_parent</th>\n",
       "      <th>crosspost_parent_list</th>\n",
       "      <th>selftext</th>\n",
       "    </tr>\n",
       "  </thead>\n",
       "  <tbody>\n",
       "    <tr>\n",
       "      <th>46</th>\n",
       "      <td>t3_7n9uyb</td>\n",
       "      <td>[{'approved_at_utc': None, 'approved_by': None...</td>\n",
       "      <td></td>\n",
       "    </tr>\n",
       "    <tr>\n",
       "      <th>247</th>\n",
       "      <td>t3_7n24f7</td>\n",
       "      <td>[{'approved_at_utc': None, 'approved_by': None...</td>\n",
       "      <td></td>\n",
       "    </tr>\n",
       "    <tr>\n",
       "      <th>553</th>\n",
       "      <td>t3_7mhq3z</td>\n",
       "      <td>[{'approved_at_utc': None, 'approved_by': None...</td>\n",
       "      <td></td>\n",
       "    </tr>\n",
       "    <tr>\n",
       "      <th>1221</th>\n",
       "      <td>t3_7lxy1e</td>\n",
       "      <td>[{'approved_at_utc': None, 'approved_by': None...</td>\n",
       "      <td></td>\n",
       "    </tr>\n",
       "    <tr>\n",
       "      <th>2227</th>\n",
       "      <td>t3_7kofhb</td>\n",
       "      <td>[{'approved_at_utc': None, 'approved_by': None...</td>\n",
       "      <td></td>\n",
       "    </tr>\n",
       "    <tr>\n",
       "      <th>2403</th>\n",
       "      <td>t3_7kfcm4</td>\n",
       "      <td>[{'approved_at_utc': None, 'approved_by': None...</td>\n",
       "      <td></td>\n",
       "    </tr>\n",
       "    <tr>\n",
       "      <th>2758</th>\n",
       "      <td>t3_7jvfqf</td>\n",
       "      <td>[{'approved_at_utc': None, 'approved_by': None...</td>\n",
       "      <td></td>\n",
       "    </tr>\n",
       "    <tr>\n",
       "      <th>2849</th>\n",
       "      <td>t3_7jus0u</td>\n",
       "      <td>[{'approved_at_utc': None, 'approved_by': None...</td>\n",
       "      <td></td>\n",
       "    </tr>\n",
       "    <tr>\n",
       "      <th>3084</th>\n",
       "      <td>t3_7jjypl</td>\n",
       "      <td>[{'approved_at_utc': None, 'approved_by': None...</td>\n",
       "      <td></td>\n",
       "    </tr>\n",
       "    <tr>\n",
       "      <th>3156</th>\n",
       "      <td>t3_7j68ls</td>\n",
       "      <td>[{'approved_at_utc': None, 'approved_by': None...</td>\n",
       "      <td></td>\n",
       "    </tr>\n",
       "    <tr>\n",
       "      <th>3359</th>\n",
       "      <td>t3_7j3ns3</td>\n",
       "      <td>[{'approved_at_utc': None, 'approved_by': None...</td>\n",
       "      <td>[deleted]</td>\n",
       "    </tr>\n",
       "    <tr>\n",
       "      <th>3567</th>\n",
       "      <td>t3_7iszdx</td>\n",
       "      <td>[{'approved_at_utc': None, 'approved_by': None...</td>\n",
       "      <td></td>\n",
       "    </tr>\n",
       "    <tr>\n",
       "      <th>3618</th>\n",
       "      <td>t3_7iqq36</td>\n",
       "      <td>[{'approved_at_utc': None, 'approved_by': None...</td>\n",
       "      <td></td>\n",
       "    </tr>\n",
       "    <tr>\n",
       "      <th>3901</th>\n",
       "      <td>t3_7ib8s1</td>\n",
       "      <td>[{'approved_at_utc': None, 'approved_by': None...</td>\n",
       "      <td>[deleted]</td>\n",
       "    </tr>\n",
       "    <tr>\n",
       "      <th>5126</th>\n",
       "      <td>t3_7gf515</td>\n",
       "      <td>[{'approved_at_utc': None, 'approved_by': None...</td>\n",
       "      <td></td>\n",
       "    </tr>\n",
       "    <tr>\n",
       "      <th>5307</th>\n",
       "      <td>t3_7gfc1x</td>\n",
       "      <td>[{'approved_at_utc': None, 'approved_by': None...</td>\n",
       "      <td></td>\n",
       "    </tr>\n",
       "    <tr>\n",
       "      <th>5431</th>\n",
       "      <td>t3_7g8asa</td>\n",
       "      <td>[{'approved_at_utc': None, 'approved_by': None...</td>\n",
       "      <td></td>\n",
       "    </tr>\n",
       "    <tr>\n",
       "      <th>6736</th>\n",
       "      <td>t3_7eea0a</td>\n",
       "      <td>[{'approved_at_utc': None, 'approved_by': None...</td>\n",
       "      <td></td>\n",
       "    </tr>\n",
       "    <tr>\n",
       "      <th>7297</th>\n",
       "      <td>t3_7dj18d</td>\n",
       "      <td>[{'approved_at_utc': None, 'approved_by': None...</td>\n",
       "      <td>[deleted]</td>\n",
       "    </tr>\n",
       "    <tr>\n",
       "      <th>7543</th>\n",
       "      <td>t3_7d6mw2</td>\n",
       "      <td>[{'approved_at_utc': None, 'approved_by': None...</td>\n",
       "      <td></td>\n",
       "    </tr>\n",
       "  </tbody>\n",
       "</table>\n",
       "</div>"
      ],
      "text/plain": [
       "     crosspost_parent                              crosspost_parent_list  \\\n",
       "46          t3_7n9uyb  [{'approved_at_utc': None, 'approved_by': None...   \n",
       "247         t3_7n24f7  [{'approved_at_utc': None, 'approved_by': None...   \n",
       "553         t3_7mhq3z  [{'approved_at_utc': None, 'approved_by': None...   \n",
       "1221        t3_7lxy1e  [{'approved_at_utc': None, 'approved_by': None...   \n",
       "2227        t3_7kofhb  [{'approved_at_utc': None, 'approved_by': None...   \n",
       "2403        t3_7kfcm4  [{'approved_at_utc': None, 'approved_by': None...   \n",
       "2758        t3_7jvfqf  [{'approved_at_utc': None, 'approved_by': None...   \n",
       "2849        t3_7jus0u  [{'approved_at_utc': None, 'approved_by': None...   \n",
       "3084        t3_7jjypl  [{'approved_at_utc': None, 'approved_by': None...   \n",
       "3156        t3_7j68ls  [{'approved_at_utc': None, 'approved_by': None...   \n",
       "3359        t3_7j3ns3  [{'approved_at_utc': None, 'approved_by': None...   \n",
       "3567        t3_7iszdx  [{'approved_at_utc': None, 'approved_by': None...   \n",
       "3618        t3_7iqq36  [{'approved_at_utc': None, 'approved_by': None...   \n",
       "3901        t3_7ib8s1  [{'approved_at_utc': None, 'approved_by': None...   \n",
       "5126        t3_7gf515  [{'approved_at_utc': None, 'approved_by': None...   \n",
       "5307        t3_7gfc1x  [{'approved_at_utc': None, 'approved_by': None...   \n",
       "5431        t3_7g8asa  [{'approved_at_utc': None, 'approved_by': None...   \n",
       "6736        t3_7eea0a  [{'approved_at_utc': None, 'approved_by': None...   \n",
       "7297        t3_7dj18d  [{'approved_at_utc': None, 'approved_by': None...   \n",
       "7543        t3_7d6mw2  [{'approved_at_utc': None, 'approved_by': None...   \n",
       "\n",
       "       selftext  \n",
       "46               \n",
       "247              \n",
       "553              \n",
       "1221             \n",
       "2227             \n",
       "2403             \n",
       "2758             \n",
       "2849             \n",
       "3084             \n",
       "3156             \n",
       "3359  [deleted]  \n",
       "3567             \n",
       "3618             \n",
       "3901  [deleted]  \n",
       "5126             \n",
       "5307             \n",
       "5431             \n",
       "6736             \n",
       "7297  [deleted]  \n",
       "7543             "
      ]
     },
     "execution_count": 71,
     "metadata": {},
     "output_type": "execute_result"
    }
   ],
   "source": [
    "df_2017[df_2017['crosspost_parent_list'].notna()][[\n",
    "    'crosspost_parent', \n",
    "    'crosspost_parent_list',\n",
    "    'selftext'\n",
    "]]"
   ]
  },
  {
   "cell_type": "markdown",
   "id": "49d5e338-55d0-4107-9bff-c118a9fd5283",
   "metadata": {},
   "source": [
    "If it's a crosspost, then the submission body is either blank or contains something like '[deleted]'. If not a crosspost, then the `crosspost_parent_list` field in NaN."
   ]
  },
  {
   "cell_type": "code",
   "execution_count": 75,
   "id": "da83e0c4-aae4-49e6-8c91-61f60eef7152",
   "metadata": {},
   "outputs": [
    {
     "data": {
      "text/plain": [
       "Index(['author', 'author_flair_css_class', 'author_flair_text', 'brand_safe',\n",
       "       'can_mod_post', 'contest_mode', 'created_utc', 'domain', 'full_link',\n",
       "       'id', 'is_crosspostable', 'is_reddit_media_domain', 'is_self',\n",
       "       'is_video', 'locked', 'num_comments', 'num_crossposts', 'over_18',\n",
       "       'parent_whitelist_status', 'permalink', 'pinned', 'retrieved_on',\n",
       "       'score', 'selftext', 'spoiler', 'stickied', 'subreddit', 'subreddit_id',\n",
       "       'subreddit_type', 'thumbnail', 'title', 'url', 'whitelist_status',\n",
       "       'created', 'post_hint', 'preview', 'banned_by', 'edited',\n",
       "       'crosspost_parent', 'crosspost_parent_list', 'thumbnail_height',\n",
       "       'thumbnail_width', 'author_cakeday', 'distinguished', 'removal_reason',\n",
       "       'suggested_sort', 'approved_at_utc', 'banned_at_utc', 'view_count',\n",
       "       'gilded', 'media_embed', 'secure_media_embed', 'author_created_utc',\n",
       "       'author_fullname', 'media', 'secure_media'],\n",
       "      dtype='object')"
      ]
     },
     "execution_count": 75,
     "metadata": {},
     "output_type": "execute_result"
    }
   ],
   "source": [
    "test.columns"
   ]
  },
  {
   "cell_type": "code",
   "execution_count": 86,
   "id": "ed35cea3-d94c-423b-bcc2-057583dba58a",
   "metadata": {},
   "outputs": [
    {
     "name": "stdout",
     "output_type": "stream",
     "text": [
      "=====\n",
      "1\n",
      "dict_keys(['approved_at_utc', 'approved_by', 'archived', 'author', 'author_flair_css_class', 'author_flair_text', 'banned_at_utc', 'banned_by', 'brand_safe', 'can_gild', 'can_mod_post', 'clicked', 'contest_mode', 'created', 'created_utc', 'distinguished', 'domain', 'downs', 'edited', 'gilded', 'hidden', 'hide_score', 'id', 'is_crosspostable', 'is_reddit_media_domain', 'is_self', 'is_video', 'likes', 'link_flair_css_class', 'link_flair_text', 'locked', 'media', 'media_embed', 'mod_note', 'mod_reason_by', 'mod_reason_title', 'mod_reports', 'name', 'num_comments', 'num_crossposts', 'num_reports', 'over_18', 'parent_whitelist_status', 'permalink', 'pinned', 'quarantine', 'removal_reason', 'report_reasons', 'saved', 'score', 'secure_media', 'secure_media_embed', 'selftext', 'selftext_html', 'spoiler', 'stickied', 'subreddit', 'subreddit_id', 'subreddit_name_prefixed', 'subreddit_type', 'suggested_sort', 'thumbnail', 'thumbnail_height', 'thumbnail_width', 'title', 'ups', 'url', 'user_reports', 'view_count', 'visited', 'whitelist_status'])\n",
      "=====\n",
      "1\n",
      "dict_keys(['approved_at_utc', 'approved_by', 'archived', 'author', 'author_flair_css_class', 'author_flair_text', 'banned_at_utc', 'banned_by', 'brand_safe', 'can_gild', 'can_mod_post', 'clicked', 'contest_mode', 'created', 'created_utc', 'distinguished', 'domain', 'downs', 'edited', 'gilded', 'hidden', 'hide_score', 'id', 'is_crosspostable', 'is_reddit_media_domain', 'is_self', 'is_video', 'likes', 'link_flair_css_class', 'link_flair_text', 'locked', 'media', 'media_embed', 'mod_note', 'mod_reason_by', 'mod_reason_title', 'mod_reports', 'name', 'num_comments', 'num_crossposts', 'num_reports', 'over_18', 'parent_whitelist_status', 'permalink', 'pinned', 'quarantine', 'removal_reason', 'report_reasons', 'saved', 'score', 'secure_media', 'secure_media_embed', 'selftext', 'selftext_html', 'spoiler', 'stickied', 'subreddit', 'subreddit_id', 'subreddit_name_prefixed', 'subreddit_type', 'suggested_sort', 'thumbnail', 'thumbnail_height', 'thumbnail_width', 'title', 'ups', 'url', 'user_reports', 'view_count', 'visited', 'whitelist_status'])\n"
     ]
    }
   ],
   "source": [
    "test = df_2017[df_2017['crosspost_parent_list'].notna()].head(2)\n",
    "\n",
    "for i,r in test.iterrows():\n",
    "    print('=====')\n",
    "    print(len(r['crosspost_parent_list'])) # arrays of legth 1 in data sample\n",
    "    print(r['crosspost_parent_list'][0].keys())"
   ]
  },
  {
   "cell_type": "code",
   "execution_count": 104,
   "id": "01ab832d-7a17-4825-b42a-1db70a5edd0e",
   "metadata": {},
   "outputs": [
    {
     "name": "stdout",
     "output_type": "stream",
     "text": [
      "\n",
      "=====\n",
      "0.0\n",
      "False\n",
      "1\n",
      "Subreddit: medical\n",
      "**If you have any ideas on how to fix this or have similar issues, *please* take the time to read and let me know. I'm suffering and I honestly feel like dying.**\n",
      "----------\n",
      "\n",
      "I'm a teen male. \n",
      "\n",
      "**Conditions that I already have that might affect this** : I have dust and fur and plant allergies, and had food allergies as a kid but they have cleared, it seems. I have asthma as well. In 2015, I broke ...\n",
      "\n",
      "=====\n",
      "0.0\n",
      "False\n",
      "1\n",
      "Subreddit: DiagnoseMe\n",
      "Hey guys.\n",
      "\n",
      "Yesterday and today I had a massive headache at the point of orgasm that goes from the back of my head to the top, mainly on the left side. The severity fades quickly after about a minute, but the headache still lingers on the top left side of my head for hours. I've never experienced this before since yesterday.\n",
      "\n",
      "What could this be? Is this something I should be worried about?...\n",
      "\n",
      "=====\n",
      "0.0\n",
      "False\n",
      "1\n",
      "Subreddit: STD\n",
      "Hello! I've always thought I've had pimples on my butt for a few years (I'm 19 now, living in Florida) but very recently I've become paranoid they are herpes since i've read it can look like a pimple. There is basically a single bump on my left buttocks. I popped the white part the other day and yellowish/white pus with blood came out. Now it is going down. I will attach a few photos to show the p...\n",
      "\n",
      "=====\n",
      "0.0\n",
      "False\n",
      "1\n",
      "Subreddit: medical\n",
      "My mother is around 50 years old. So we've been arguing with my mother constantly for years, a lot of stress. She has thrombophilia though, and had an operation a few years ago that caused it. I feel terrible.\n",
      "\n",
      "So we had this argument, and she screamed very loudly. Stronger than usual. Later that day, she fell outside and got bruises on her legs and fell so hard her gloves ripped. I'm not sure if ...\n",
      "\n",
      "=====\n",
      "0.0\n",
      "False\n",
      "1\n",
      "Subreddit: Dermatology\n",
      "Sorry for the low quality, it was hard to take the pictures.\n",
      "\n",
      "https://imgur.com/a/elueC\n",
      "\n",
      "On Friday, I slept on a floor and maybe something bit me. It's itchy and painful(stingy) when I press on it/touch it. The whole area is (very) roughly 1.5 cm in diameter (0.6 inches)\n",
      "\n",
      "edit: I don't have fever and otherwise feel pretty normal...\n"
     ]
    }
   ],
   "source": [
    "test = df_2017[df_2017['crosspost_parent_list'].notna()].head()\n",
    "\n",
    "for i,r in test.iterrows():\n",
    "    print('\\n=====')\n",
    "    print(r['num_crossposts'])\n",
    "    print(r['is_self'])\n",
    "    print(len(r['crosspost_parent_list'])) # arrays of legth 1 in data sample\n",
    "    print(f\"Subreddit: {r['crosspost_parent_list'][0]['subreddit']}\")\n",
    "    print(f\"{r['crosspost_parent_list'][0]['selftext'][:400]}...\")"
   ]
  },
  {
   "cell_type": "markdown",
   "id": "457ae254-9d0d-423f-96ee-9256aa9724e8",
   "metadata": {},
   "source": [
    "We get the submission body and the crosspost subreddit from the `crosspost_parent_list` field, all other relevant fields are duplicates of the submission-level fields. "
   ]
  },
  {
   "cell_type": "code",
   "execution_count": 107,
   "id": "686a5617-1e49-4d4f-af5d-03a3ed598812",
   "metadata": {},
   "outputs": [
    {
     "data": {
      "text/plain": [
       "46               \n",
       "247              \n",
       "553              \n",
       "1221             \n",
       "2227             \n",
       "2403             \n",
       "2758             \n",
       "2849             \n",
       "3084             \n",
       "3156             \n",
       "3359    [deleted]\n",
       "3567             \n",
       "3618             \n",
       "3901    [deleted]\n",
       "5126             \n",
       "5307             \n",
       "5431             \n",
       "6736             \n",
       "7297    [deleted]\n",
       "7543             \n",
       "Name: selftext, dtype: object"
      ]
     },
     "execution_count": 107,
     "metadata": {},
     "output_type": "execute_result"
    }
   ],
   "source": [
    "test = df_2017[df_2017['crosspost_parent_list'].notna()].copy()\n",
    "test['selftext']"
   ]
  },
  {
   "cell_type": "code",
   "execution_count": 128,
   "id": "389a2993-2925-406d-92dc-2bdfa2c6e3b0",
   "metadata": {},
   "outputs": [
    {
     "name": "stdout",
     "output_type": "stream",
     "text": [
      "<class 'list'>\n",
      "test\n"
     ]
    }
   ],
   "source": [
    "f = [1, 2]#float('nan')\n",
    "print(type(f))\n",
    "if type(f) == list:\n",
    "    print('test')"
   ]
  },
  {
   "cell_type": "code",
   "execution_count": 136,
   "id": "9471aa7f-753d-48ed-8c30-2cd67fb27d7d",
   "metadata": {},
   "outputs": [
    {
     "data": {
      "text/plain": [
       "nan"
      ]
     },
     "execution_count": 136,
     "metadata": {},
     "output_type": "execute_result"
    }
   ],
   "source": [
    "np.nan"
   ]
  },
  {
   "cell_type": "code",
   "execution_count": 139,
   "id": "7e186c57-adb6-47b6-a18d-20eb924780df",
   "metadata": {},
   "outputs": [],
   "source": [
    "def get_crosspost_body(lst):\n",
    "    # Assuming all crossposts will have same body (perhaps they could be edited later on though)\n",
    "    if type(lst) == list:\n",
    "        return lst[0]['selftext']\n",
    "    return np.nan"
   ]
  },
  {
   "cell_type": "code",
   "execution_count": 140,
   "id": "41aba070-b7f9-45dd-b7c4-ebae40a84e9c",
   "metadata": {},
   "outputs": [],
   "source": [
    "#test['selftext'] = test['crosspost_parent_list'].apply(get_crosspost_body)\n",
    "test['selftext'] = np.where(\n",
    "    test['crosspost_parent_list'].notna(), \n",
    "    test['crosspost_parent_list'].apply(get_crosspost_body), \n",
    "    test['selftext']\n",
    ")\n",
    "# test['selftext'] = test['crosspost_parent_list'].apply(lambda x: x[0]['selftext'] \n",
    "#                                                        if type(x) == list else np.nan)"
   ]
  },
  {
   "cell_type": "code",
   "execution_count": 141,
   "id": "e7096c55-64e5-4671-9aed-0ea5fd377892",
   "metadata": {},
   "outputs": [
    {
     "data": {
      "text/plain": [
       "46      **If you have any ideas on how to fix this or ...\n",
       "247     Hey guys.\\n\\nYesterday and today I had a massi...\n",
       "553     Hello! I've always thought I've had pimples on...\n",
       "1221    My mother is around 50 years old. So we've bee...\n",
       "2227    Sorry for the low quality, it was hard to take...\n",
       "2403    Last month, I had a visit to the doctor where ...\n",
       "2758    (EDIT: Replace \"amblyopia\" with \"strabismus,\" ...\n",
       "2849    Hello, first--sorry for the length.\\n\\nHere's ...\n",
       "3084    Last night I fell while snowboarding, like an ...\n",
       "3156    I have been struggling for so long. A few mont...\n",
       "3359                                            [deleted]\n",
       "3567    Throw away account. I am posting this on other...\n",
       "3618    I realize how rare this is but bear with me. L...\n",
       "3901    Is it possible to have sleep apnea with out sn...\n",
       "5126    I have read that certain malignancies or blood...\n",
       "5307    **My short bio:** I'm an associate professor o...\n",
       "5431      Not sure where to turn for this, my entire l...\n",
       "6736    Where do adult onset allergies come from? Why ...\n",
       "7297                                            [deleted]\n",
       "7543    Hi everybody, I'm hoping someone can shed some...\n",
       "Name: selftext, dtype: object"
      ]
     },
     "execution_count": 141,
     "metadata": {},
     "output_type": "execute_result"
    }
   ],
   "source": [
    "test['selftext']"
   ]
  },
  {
   "cell_type": "code",
   "execution_count": null,
   "id": "15e892c0-8116-43b8-b724-8b4432b6dfaa",
   "metadata": {},
   "outputs": [],
   "source": []
  },
  {
   "cell_type": "code",
   "execution_count": 142,
   "id": "ea999ab9-acd5-4583-bbfe-8b1c0eecf597",
   "metadata": {},
   "outputs": [],
   "source": [
    "#df_2017['selftext'] = df_2017['crosspost_parent_list'].apply(get_crosspost_body)\n",
    "\n",
    "df_2017['selftext'] = np.where(\n",
    "    df_2017['crosspost_parent_list'].notna(), \n",
    "    df_2017['crosspost_parent_list'].apply(get_crosspost_body), \n",
    "    df_2017['selftext']\n",
    ")"
   ]
  },
  {
   "cell_type": "code",
   "execution_count": 144,
   "id": "ce397b6f-5da9-4af3-9ab4-847f392ab774",
   "metadata": {},
   "outputs": [
    {
     "data": {
      "text/plain": [
       "46      **If you have any ideas on how to fix this or ...\n",
       "247     Hey guys.\\n\\nYesterday and today I had a massi...\n",
       "553     Hello! I've always thought I've had pimples on...\n",
       "1221    My mother is around 50 years old. So we've bee...\n",
       "2227    Sorry for the low quality, it was hard to take...\n",
       "2403    Last month, I had a visit to the doctor where ...\n",
       "2758    (EDIT: Replace \"amblyopia\" with \"strabismus,\" ...\n",
       "2849    Hello, first--sorry for the length.\\n\\nHere's ...\n",
       "3084    Last night I fell while snowboarding, like an ...\n",
       "3156    I have been struggling for so long. A few mont...\n",
       "3359                                            [deleted]\n",
       "3567    Throw away account. I am posting this on other...\n",
       "3618    I realize how rare this is but bear with me. L...\n",
       "3901    Is it possible to have sleep apnea with out sn...\n",
       "5126    I have read that certain malignancies or blood...\n",
       "5307    **My short bio:** I'm an associate professor o...\n",
       "5431      Not sure where to turn for this, my entire l...\n",
       "6736    Where do adult onset allergies come from? Why ...\n",
       "7297                                            [deleted]\n",
       "7543    Hi everybody, I'm hoping someone can shed some...\n",
       "Name: selftext, dtype: object"
      ]
     },
     "execution_count": 144,
     "metadata": {},
     "output_type": "execute_result"
    }
   ],
   "source": [
    "df_2017[df_2017['crosspost_parent_list'].notna()]['selftext']"
   ]
  },
  {
   "cell_type": "markdown",
   "id": "96725aa1-7daf-4718-8453-ee92e65f8e65",
   "metadata": {},
   "source": [
    "Note: will need to filter out submissions with '[deleted]' body."
   ]
  },
  {
   "cell_type": "code",
   "execution_count": 145,
   "id": "77a2e2c4-b9b0-48ad-a248-254155fc1928",
   "metadata": {},
   "outputs": [],
   "source": [
    "def get_crosspost_subreddits(lst):\n",
    "    if type(lst) == list:\n",
    "        subreddits_list = []\n",
    "        for i in lst:\n",
    "            sr = i['subreddit']\n",
    "            subreddits_list.append(sr)\n",
    "            \n",
    "        return subreddits_list\n",
    "    \n",
    "    return np.nan"
   ]
  },
  {
   "cell_type": "code",
   "execution_count": 146,
   "id": "f874975f-34b4-4fd1-9698-165e98523d72",
   "metadata": {},
   "outputs": [],
   "source": [
    "test['crosspost_subreddits'] = test['crosspost_parent_list'].apply(get_crosspost_subreddits)"
   ]
  },
  {
   "cell_type": "code",
   "execution_count": 147,
   "id": "a0b0508d-3a71-460e-ba77-dd334164c0de",
   "metadata": {},
   "outputs": [
    {
     "data": {
      "text/plain": [
       "46               [medical]\n",
       "247           [DiagnoseMe]\n",
       "553                  [STD]\n",
       "1221             [medical]\n",
       "2227         [Dermatology]\n",
       "2403             [medical]\n",
       "2758           [optometry]\n",
       "2849         [Dermatology]\n",
       "3084           [AskDoctor]\n",
       "3156               [MTHFR]\n",
       "3359            [RedditMD]\n",
       "3567                 [sex]\n",
       "3618           [optometry]\n",
       "3901          [SleepApnea]\n",
       "5126    [Medical_Students]\n",
       "5307                [IAmA]\n",
       "5431          [needadvice]\n",
       "6736           [Allergies]\n",
       "7297               [Drugs]\n",
       "7543     [SkincareAddicts]\n",
       "Name: crosspost_subreddits, dtype: object"
      ]
     },
     "execution_count": 147,
     "metadata": {},
     "output_type": "execute_result"
    }
   ],
   "source": [
    "test['crosspost_subreddits']"
   ]
  },
  {
   "cell_type": "code",
   "execution_count": 148,
   "id": "a577037a-d4a5-4536-a95f-51125d381a52",
   "metadata": {},
   "outputs": [],
   "source": [
    "df_2017['crosspost_subreddits'] = df_2017['crosspost_parent_list'].apply(get_crosspost_subreddits)"
   ]
  },
  {
   "cell_type": "code",
   "execution_count": 150,
   "id": "7d3b0bf7-d050-4444-8c03-b1cf2e18e1cb",
   "metadata": {},
   "outputs": [
    {
     "data": {
      "text/plain": [
       "46               [medical]\n",
       "247           [DiagnoseMe]\n",
       "553                  [STD]\n",
       "1221             [medical]\n",
       "2227         [Dermatology]\n",
       "2403             [medical]\n",
       "2758           [optometry]\n",
       "2849         [Dermatology]\n",
       "3084           [AskDoctor]\n",
       "3156               [MTHFR]\n",
       "3359            [RedditMD]\n",
       "3567                 [sex]\n",
       "3618           [optometry]\n",
       "3901          [SleepApnea]\n",
       "5126    [Medical_Students]\n",
       "5307                [IAmA]\n",
       "5431          [needadvice]\n",
       "6736           [Allergies]\n",
       "7297               [Drugs]\n",
       "7543     [SkincareAddicts]\n",
       "Name: crosspost_subreddits, dtype: object"
      ]
     },
     "execution_count": 150,
     "metadata": {},
     "output_type": "execute_result"
    }
   ],
   "source": [
    "df_2017[df_2017['crosspost_parent_list'].notna()]['crosspost_subreddits']"
   ]
  },
  {
   "cell_type": "markdown",
   "id": "a4a19544-abec-4726-b9bc-7b1574acd013",
   "metadata": {},
   "source": [
    "## Next step: filter any submissions with [deleted] in body, and drop columns that are not relevant anymore (the ones used for filtering and transform probably won't be needed beyond this point)"
   ]
  },
  {
   "cell_type": "code",
   "execution_count": 159,
   "id": "7ee45ad3-fb47-4d87-87f9-b53bf94b8974",
   "metadata": {},
   "outputs": [
    {
     "data": {
      "text/plain": [
       "Index(['author', 'author_flair_css_class', 'author_flair_text', 'brand_safe',\n",
       "       'can_mod_post', 'contest_mode', 'created_utc', 'domain', 'full_link',\n",
       "       'id', 'is_crosspostable', 'is_reddit_media_domain', 'is_self',\n",
       "       'is_video', 'locked', 'num_comments', 'num_crossposts', 'over_18',\n",
       "       'parent_whitelist_status', 'permalink', 'pinned', 'retrieved_on',\n",
       "       'score', 'selftext', 'spoiler', 'stickied', 'subreddit', 'subreddit_id',\n",
       "       'subreddit_type', 'thumbnail', 'title', 'url', 'whitelist_status',\n",
       "       'created', 'post_hint', 'preview', 'banned_by', 'edited',\n",
       "       'crosspost_parent', 'crosspost_parent_list', 'thumbnail_height',\n",
       "       'thumbnail_width', 'author_cakeday', 'distinguished', 'removal_reason',\n",
       "       'suggested_sort', 'approved_at_utc', 'banned_at_utc', 'view_count',\n",
       "       'gilded', 'media_embed', 'secure_media_embed', 'author_created_utc',\n",
       "       'author_fullname', 'media', 'secure_media', 'crosspost_subreddits'],\n",
       "      dtype='object')"
      ]
     },
     "execution_count": 159,
     "metadata": {},
     "output_type": "execute_result"
    }
   ],
   "source": [
    "df_2017.columns"
   ]
  },
  {
   "cell_type": "code",
   "execution_count": 190,
   "id": "02b7f10c-6724-4dff-896d-79c4da83c400",
   "metadata": {},
   "outputs": [
    {
     "data": {
      "text/plain": [
       "NaN      43562\n",
       "False    15844\n",
       "Name: pinned, dtype: int64"
      ]
     },
     "execution_count": 190,
     "metadata": {},
     "output_type": "execute_result"
    }
   ],
   "source": [
    "df_2017['pinned'].value_counts(dropna=False)"
   ]
  },
  {
   "cell_type": "code",
   "execution_count": 183,
   "id": "de8d6e15-1f2a-40e4-8498-7e976231b9b8",
   "metadata": {},
   "outputs": [
    {
     "data": {
      "text/plain": [
       "NaN      39730\n",
       "True     14372\n",
       "False     5304\n",
       "Name: is_crosspostable, dtype: int64"
      ]
     },
     "execution_count": 183,
     "metadata": {},
     "output_type": "execute_result"
    }
   ],
   "source": [
    "df_2017['is_crosspostable'].value_counts(dropna=False)"
   ]
  },
  {
   "cell_type": "code",
   "execution_count": 182,
   "id": "3cb16adc-3f30-47fa-9710-1bd2b690b598",
   "metadata": {},
   "outputs": [
    {
     "name": "stdout",
     "output_type": "stream",
     "text": [
      "====\n",
      "https://www.reddit.com/r/AskDocs/comments/7nasux/i_have_a_myofibroma_now_what_do_i_do/\n",
      "True\n",
      "====\n",
      "https://www.reddit.com/r/AskDocs/comments/7m3ovt/infectious_diseasemicrobiology_my_dads_culture/\n",
      "True\n",
      "====\n",
      "https://www.reddit.com/r/AskDocs/comments/7lsyme/got_wisdom_teeth_out_monday_morning_still_crying/\n",
      "True\n",
      "====\n",
      "https://www.reddit.com/r/AskDocs/comments/7lpwt4/which_do_you_think_is_the_more_likely_reason_for/\n",
      "True\n",
      "====\n",
      "https://www.reddit.com/r/AskDocs/comments/7hksyp/fracture_at_base_of_proximal_phalanx_big_toe/\n",
      "True\n",
      "====\n",
      "https://www.reddit.com/r/AskDocs/comments/7fgfxf/neurosurgery_is_cranioplasty_necessary_73m/\n",
      "True\n",
      "====\n",
      "https://www.reddit.com/r/AskDocs/comments/7f3ixe/26m_blackgrey_spot_on_gum_behind_back_lower_molar/\n",
      "True\n",
      "====\n",
      "https://www.reddit.com/r/AskDocs/comments/7er16w/is_this_a_bunion/\n",
      "True\n",
      "====\n",
      "https://www.reddit.com/r/AskDocs/comments/7cofno/bulging_disc_need_help_with_lower_lumbar_spine/\n",
      "True\n",
      "====\n",
      "https://www.reddit.com/r/AskDocs/comments/7co46z/ibuprofen_drowziness/\n",
      "True\n",
      "====\n",
      "https://www.reddit.com/r/AskDocs/comments/7c813q/stage_3b_lung_cancer_second_oppinion/\n",
      "True\n",
      "====\n",
      "https://www.reddit.com/r/AskDocs/comments/7bz7ov/is_it_safe_to_put_polymer_water_beads_in_my_rectum/\n",
      "True\n"
     ]
    }
   ],
   "source": [
    "for i, r in df_2017[df_2017['num_crossposts'] > 0].iterrows():\n",
    "    print('====')\n",
    "    print(r['full_link'])\n",
    "    print(r['is_crosspostable'])"
   ]
  },
  {
   "cell_type": "code",
   "execution_count": 176,
   "id": "c4d73e1a-76fb-4387-a27d-bb4714428268",
   "metadata": {},
   "outputs": [
    {
     "data": {
      "text/plain": [
       "NaN    39730\n",
       "0.0    19644\n",
       "1.0       11\n",
       "2.0        1\n",
       "Name: num_crossposts, dtype: int64"
      ]
     },
     "execution_count": 176,
     "metadata": {},
     "output_type": "execute_result"
    }
   ],
   "source": [
    "df_2017[df_2017['crosspost_parent_list'].isna()]['num_crossposts'].value_counts(dropna=False)"
   ]
  },
  {
   "cell_type": "code",
   "execution_count": 174,
   "id": "f0796471-3479-4a21-ad3d-342913c29d4c",
   "metadata": {},
   "outputs": [
    {
     "data": {
      "text/plain": [
       "self.medical             3\n",
       "self.Dermatology         2\n",
       "self.optometry           2\n",
       "self.DiagnoseMe          1\n",
       "self.STD                 1\n",
       "self.AskDoctor           1\n",
       "self.MTHFR               1\n",
       "self.RedditMD            1\n",
       "self.sex                 1\n",
       "self.SleepApnea          1\n",
       "self.Medical_Students    1\n",
       "self.IAmA                1\n",
       "self.needadvice          1\n",
       "self.Allergies           1\n",
       "self.Drugs               1\n",
       "self.SkincareAddicts     1\n",
       "Name: domain, dtype: int64"
      ]
     },
     "execution_count": 174,
     "metadata": {},
     "output_type": "execute_result"
    }
   ],
   "source": [
    "df_2017[df_2017['crosspost_parent_list'].notna()]['domain'].value_counts(dropna=False)"
   ]
  },
  {
   "cell_type": "code",
   "execution_count": 168,
   "id": "f8ed8e7f-848f-425d-a6d0-76a3bd0cb607",
   "metadata": {},
   "outputs": [
    {
     "data": {
      "text/plain": [
       "NaT                    36027\n",
       "2017-02-07 23:14:23       50\n",
       "2016-12-08 15:55:02       41\n",
       "2016-06-25 20:07:05       27\n",
       "2016-12-14 00:03:03       24\n",
       "                       ...  \n",
       "2017-02-07 23:43:33        1\n",
       "2017-05-08 18:34:29        1\n",
       "2017-02-27 15:51:00        1\n",
       "2015-05-23 16:50:26        1\n",
       "2016-06-23 23:58:10        1\n",
       "Name: author_created_utc, Length: 18243, dtype: int64"
      ]
     },
     "execution_count": 168,
     "metadata": {},
     "output_type": "execute_result"
    }
   ],
   "source": [
    "pd.to_datetime(df_2017['author_created_utc'], unit='s').value_counts(dropna=False)"
   ]
  },
  {
   "cell_type": "code",
   "execution_count": 189,
   "id": "32a70f2c-d89a-4254-b860-7298135a111b",
   "metadata": {},
   "outputs": [
    {
     "data": {
      "text/markdown": [
       "|    | field_name        | type   | reddit_role   | analysis_role   | notes                                                                                                                                                                                                                   | type_long   | reddit_role_long                                                | analysis_role_long   |\n",
       "|---:|:------------------|:-------|:--------------|:----------------|:------------------------------------------------------------------------------------------------------------------------------------------------------------------------------------------------------------------------|:------------|:----------------------------------------------------------------|:---------------------|\n",
       "|  0 | author            | s      | a             | i               | Note the [deleted] and [removed] entries.                                                                                                                                                                               | short text  | author info                                                     | id                   |\n",
       "|  1 | author_flair_text | c      | a             | a               | 31% NaN values.                                                                                                                                                                                                         | categorical | author info                                                     | analysis             |\n",
       "|  2 | created_utc       | t      | p             | a               | Dups present.                                                                                                                                                                                                           | timestamp   | post details                                                    | analysis             |\n",
       "|  3 | domain            | s      | p             | a               | Domain where the post originated from.                                                                                                                                                                                  | short text  | post details                                                    | analysis             |\n",
       "|  4 | full_link         | u      | p             | r               | A link to the post on Reddit.                                                                                                                                                                                           | url         | post details                                                    | reference            |\n",
       "|  5 | id                | s      | p             | i               | Post id                                                                                                                                                                                                                 | short text  | post details                                                    | id                   |\n",
       "|  6 | locked            | b      | ma            | a               | Only 6 values are true, everything else false.                                                                                                                                                                          | binary flag | mod reactions to either post content or comments activity on it | analysis             |\n",
       "|  7 | num_comments      | n      | ga            | a               | nan                                                                                                                                                                                                                     | numeric     | general subreddit users reactions to the post                   | analysis             |\n",
       "|  8 | num_crossposts    | n      | aa            | a               | Both NaN and zeros present. Few values >0.                                                                                                                                                                              | numeric     | author actions on the post (other than commenting)              | analysis             |\n",
       "|  9 | over_18           | b      | p             | a               | 98% false. Looks like a NSFW-type label on the post content.                                                                                                                                                            | binary flag | post details                                                    | analysis             |\n",
       "| 10 | pinned            | b      | aa            | a               | Users can pin up to 4 posts to their profile.                                                                                                                                                                           | binary flag | author actions on the post (other than commenting)              | analysis             |\n",
       "| 11 | score             | n      | ga            | a               | The score is based on up and down votes.                                                                                                                                                                                | numeric     | general subreddit users reactions to the post                   | analysis             |\n",
       "| 12 | selftext          | l      | p             | a               | Can have [deleted] as values.                                                                                                                                                                                           | long text   | post details                                                    | analysis             |\n",
       "| 13 | spoiler           | b      | aa            | a               | Spoiler tags are used to mark spoiler content, and they can blur the preview or thumbnails. Both mods and post authors can add a spoiler tag on a post. There were 30 true values in the sample, so decided to keep it. | binary flag | author actions on the post (other than commenting)              | analysis             |\n",
       "| 15 | title             | l      | p             | a               | Title of the post, can be very long.                                                                                                                                                                                    | long text   | post details                                                    | analysis             |\n",
       "| 16 | url               | u      | p             | r               | Url to the original post if crossposted or from other source.                                                                                                                                                           | url         | post details                                                    | reference            |\n",
       "| 18 | edited            | t      | aa            | a               | 86% NaNs.                                                                                                                                                                                                               | timestamp   | author actions on the post (other than commenting)              | analysis             |\n",
       "| 22 | author_fullname   | s      | a             | i               | Unclear what this is, and lots of NaNs, but decided to keep for now.                                                                                                                                                    | short text  | author info                                                     | id                   |"
      ],
      "text/plain": [
       "<IPython.core.display.Markdown object>"
      ]
     },
     "metadata": {},
     "output_type": "display_data"
    }
   ],
   "source": [
    "display(Markdown(selected_fields_df[~selected_fields_df['analysis_role'].isin(['f', 't'])].to_markdown()))"
   ]
  },
  {
   "cell_type": "code",
   "execution_count": 197,
   "id": "90568333-84f2-4c77-abd5-e2e6c3b3760c",
   "metadata": {},
   "outputs": [
    {
     "data": {
      "text/plain": [
       "['author',\n",
       " 'author_flair_text',\n",
       " 'created_utc',\n",
       " 'domain',\n",
       " 'full_link',\n",
       " 'id',\n",
       " 'locked',\n",
       " 'num_comments',\n",
       " 'num_crossposts',\n",
       " 'over_18',\n",
       " 'pinned',\n",
       " 'score',\n",
       " 'selftext',\n",
       " 'spoiler',\n",
       " 'title',\n",
       " 'url',\n",
       " 'edited',\n",
       " 'author_fullname']"
      ]
     },
     "execution_count": 197,
     "metadata": {},
     "output_type": "execute_result"
    }
   ],
   "source": [
    "list(selected_fields_df[~selected_fields_df['analysis_role'].isin(['f', 't'])]['field_name'])"
   ]
  },
  {
   "cell_type": "code",
   "execution_count": 198,
   "id": "749ef3c1-d9af-48df-b281-83bd95a10b67",
   "metadata": {},
   "outputs": [],
   "source": [
    "# Final fields selection\n",
    "\n",
    "selected_fields = [\n",
    "    'author',\n",
    "    'author_flair_text',\n",
    "    'created_utc',\n",
    "    'domain',\n",
    "    'full_link',\n",
    "    'id',\n",
    "    'locked',\n",
    "    'num_comments',\n",
    "    'num_crossposts',\n",
    "    'over_18',\n",
    "#    'pinned',\n",
    "    'score',\n",
    "    'selftext', # edited to include the body of crossposted posts\n",
    "#    'spoiler',\n",
    "    'title',\n",
    "    'url',\n",
    "    'edited',\n",
    "#    'author_fullname',\n",
    "    \n",
    "    'crosspost_subreddits' # created field\n",
    "]"
   ]
  },
  {
   "cell_type": "code",
   "execution_count": 200,
   "id": "f67eaecf-f8f8-4662-8044-735561fca449",
   "metadata": {},
   "outputs": [
    {
     "data": {
      "text/html": [
       "<div>\n",
       "<style scoped>\n",
       "    .dataframe tbody tr th:only-of-type {\n",
       "        vertical-align: middle;\n",
       "    }\n",
       "\n",
       "    .dataframe tbody tr th {\n",
       "        vertical-align: top;\n",
       "    }\n",
       "\n",
       "    .dataframe thead th {\n",
       "        text-align: right;\n",
       "    }\n",
       "</style>\n",
       "<table border=\"1\" class=\"dataframe\">\n",
       "  <thead>\n",
       "    <tr style=\"text-align: right;\">\n",
       "      <th></th>\n",
       "      <th>author</th>\n",
       "      <th>author_flair_text</th>\n",
       "      <th>created_utc</th>\n",
       "      <th>domain</th>\n",
       "      <th>full_link</th>\n",
       "      <th>id</th>\n",
       "      <th>locked</th>\n",
       "      <th>num_comments</th>\n",
       "      <th>num_crossposts</th>\n",
       "      <th>over_18</th>\n",
       "      <th>score</th>\n",
       "      <th>selftext</th>\n",
       "      <th>title</th>\n",
       "      <th>url</th>\n",
       "      <th>edited</th>\n",
       "      <th>crosspost_subreddits</th>\n",
       "    </tr>\n",
       "  </thead>\n",
       "  <tbody>\n",
       "    <tr>\n",
       "      <th>0</th>\n",
       "      <td>[deleted]</td>\n",
       "      <td>None</td>\n",
       "      <td>1514764452</td>\n",
       "      <td>self.AskDocs</td>\n",
       "      <td>https://www.reddit.com/r/AskDocs/comments/7nbw...</td>\n",
       "      <td>7nbwtn</td>\n",
       "      <td>False</td>\n",
       "      <td>0</td>\n",
       "      <td>0.0</td>\n",
       "      <td>False</td>\n",
       "      <td>2</td>\n",
       "      <td>[deleted]</td>\n",
       "      <td>Appendicitis removed 1 month ago but feel a pa...</td>\n",
       "      <td>https://www.reddit.com/r/AskDocs/comments/7nbw...</td>\n",
       "      <td>NaN</td>\n",
       "      <td>NaN</td>\n",
       "    </tr>\n",
       "    <tr>\n",
       "      <th>1</th>\n",
       "      <td>XenonCSGO</td>\n",
       "      <td>This user has not yet been verified.</td>\n",
       "      <td>1514764122</td>\n",
       "      <td>self.AskDocs</td>\n",
       "      <td>https://www.reddit.com/r/AskDocs/comments/7nbv...</td>\n",
       "      <td>7nbvsv</td>\n",
       "      <td>False</td>\n",
       "      <td>2</td>\n",
       "      <td>0.0</td>\n",
       "      <td>False</td>\n",
       "      <td>1</td>\n",
       "      <td>So I've taken Pepcid AC, 10mg at morning and n...</td>\n",
       "      <td>1 Stopped taking Pepcid AC, now suffering symp...</td>\n",
       "      <td>https://www.reddit.com/r/AskDocs/comments/7nbv...</td>\n",
       "      <td>NaN</td>\n",
       "      <td>NaN</td>\n",
       "    </tr>\n",
       "    <tr>\n",
       "      <th>2</th>\n",
       "      <td>[deleted]</td>\n",
       "      <td>None</td>\n",
       "      <td>1514764055</td>\n",
       "      <td>self.AskDocs</td>\n",
       "      <td>https://www.reddit.com/r/AskDocs/comments/7nbv...</td>\n",
       "      <td>7nbvln</td>\n",
       "      <td>False</td>\n",
       "      <td>1</td>\n",
       "      <td>0.0</td>\n",
       "      <td>False</td>\n",
       "      <td>1</td>\n",
       "      <td>[deleted]</td>\n",
       "      <td>My grandma has neck/back pain and little to no...</td>\n",
       "      <td>https://www.reddit.com/r/AskDocs/comments/7nbv...</td>\n",
       "      <td>NaN</td>\n",
       "      <td>NaN</td>\n",
       "    </tr>\n",
       "    <tr>\n",
       "      <th>3</th>\n",
       "      <td>DavisTheMagicSheep</td>\n",
       "      <td>This user has not yet been verified.</td>\n",
       "      <td>1514763799</td>\n",
       "      <td>self.AskDocs</td>\n",
       "      <td>https://www.reddit.com/r/AskDocs/comments/7nbu...</td>\n",
       "      <td>7nburb</td>\n",
       "      <td>False</td>\n",
       "      <td>2</td>\n",
       "      <td>0.0</td>\n",
       "      <td>False</td>\n",
       "      <td>1</td>\n",
       "      <td>I've had a cold for the last couple days now, ...</td>\n",
       "      <td>My ears feel like there is pressure inside of ...</td>\n",
       "      <td>https://www.reddit.com/r/AskDocs/comments/7nbu...</td>\n",
       "      <td>NaN</td>\n",
       "      <td>NaN</td>\n",
       "    </tr>\n",
       "    <tr>\n",
       "      <th>4</th>\n",
       "      <td>Dontgetscooped</td>\n",
       "      <td>This user has not yet been verified.</td>\n",
       "      <td>1514763188</td>\n",
       "      <td>self.AskDocs</td>\n",
       "      <td>https://www.reddit.com/r/AskDocs/comments/7nbs...</td>\n",
       "      <td>7nbsw2</td>\n",
       "      <td>False</td>\n",
       "      <td>1</td>\n",
       "      <td>0.0</td>\n",
       "      <td>False</td>\n",
       "      <td>1</td>\n",
       "      <td>(first about me : 32 white male 5 foot 5 225l...</td>\n",
       "      <td>IBS maybe?</td>\n",
       "      <td>https://www.reddit.com/r/AskDocs/comments/7nbs...</td>\n",
       "      <td>NaN</td>\n",
       "      <td>NaN</td>\n",
       "    </tr>\n",
       "  </tbody>\n",
       "</table>\n",
       "</div>"
      ],
      "text/plain": [
       "               author                     author_flair_text  created_utc  \\\n",
       "0           [deleted]                                  None   1514764452   \n",
       "1           XenonCSGO  This user has not yet been verified.   1514764122   \n",
       "2           [deleted]                                  None   1514764055   \n",
       "3  DavisTheMagicSheep  This user has not yet been verified.   1514763799   \n",
       "4      Dontgetscooped  This user has not yet been verified.   1514763188   \n",
       "\n",
       "         domain                                          full_link      id  \\\n",
       "0  self.AskDocs  https://www.reddit.com/r/AskDocs/comments/7nbw...  7nbwtn   \n",
       "1  self.AskDocs  https://www.reddit.com/r/AskDocs/comments/7nbv...  7nbvsv   \n",
       "2  self.AskDocs  https://www.reddit.com/r/AskDocs/comments/7nbv...  7nbvln   \n",
       "3  self.AskDocs  https://www.reddit.com/r/AskDocs/comments/7nbu...  7nburb   \n",
       "4  self.AskDocs  https://www.reddit.com/r/AskDocs/comments/7nbs...  7nbsw2   \n",
       "\n",
       "   locked  num_comments  num_crossposts  over_18  score  \\\n",
       "0   False             0             0.0    False      2   \n",
       "1   False             2             0.0    False      1   \n",
       "2   False             1             0.0    False      1   \n",
       "3   False             2             0.0    False      1   \n",
       "4   False             1             0.0    False      1   \n",
       "\n",
       "                                            selftext  \\\n",
       "0                                          [deleted]   \n",
       "1  So I've taken Pepcid AC, 10mg at morning and n...   \n",
       "2                                          [deleted]   \n",
       "3  I've had a cold for the last couple days now, ...   \n",
       "4   (first about me : 32 white male 5 foot 5 225l...   \n",
       "\n",
       "                                               title  \\\n",
       "0  Appendicitis removed 1 month ago but feel a pa...   \n",
       "1  1 Stopped taking Pepcid AC, now suffering symp...   \n",
       "2  My grandma has neck/back pain and little to no...   \n",
       "3  My ears feel like there is pressure inside of ...   \n",
       "4                                         IBS maybe?   \n",
       "\n",
       "                                                 url  edited  \\\n",
       "0  https://www.reddit.com/r/AskDocs/comments/7nbw...     NaN   \n",
       "1  https://www.reddit.com/r/AskDocs/comments/7nbv...     NaN   \n",
       "2  https://www.reddit.com/r/AskDocs/comments/7nbv...     NaN   \n",
       "3  https://www.reddit.com/r/AskDocs/comments/7nbu...     NaN   \n",
       "4  https://www.reddit.com/r/AskDocs/comments/7nbs...     NaN   \n",
       "\n",
       "  crosspost_subreddits  \n",
       "0                  NaN  \n",
       "1                  NaN  \n",
       "2                  NaN  \n",
       "3                  NaN  \n",
       "4                  NaN  "
      ]
     },
     "execution_count": 200,
     "metadata": {},
     "output_type": "execute_result"
    }
   ],
   "source": [
    "df_2017[selected_fields].head()"
   ]
  },
  {
   "cell_type": "code",
   "execution_count": 201,
   "id": "5dfc62f0-9743-422b-8a32-72e460e872f3",
   "metadata": {},
   "outputs": [
    {
     "data": {
      "text/plain": [
       "Index(['author', 'author_flair_css_class', 'author_flair_text', 'brand_safe',\n",
       "       'can_mod_post', 'contest_mode', 'created_utc', 'domain', 'full_link',\n",
       "       'id', 'is_crosspostable', 'is_reddit_media_domain', 'is_self',\n",
       "       'is_video', 'locked', 'num_comments', 'num_crossposts', 'over_18',\n",
       "       'parent_whitelist_status', 'permalink', 'pinned', 'retrieved_on',\n",
       "       'score', 'selftext', 'spoiler', 'stickied', 'subreddit', 'subreddit_id',\n",
       "       'subreddit_type', 'thumbnail', 'title', 'url', 'whitelist_status',\n",
       "       'created', 'post_hint', 'preview', 'banned_by', 'edited',\n",
       "       'crosspost_parent', 'crosspost_parent_list', 'thumbnail_height',\n",
       "       'thumbnail_width', 'author_cakeday', 'distinguished', 'removal_reason',\n",
       "       'suggested_sort', 'approved_at_utc', 'banned_at_utc', 'view_count',\n",
       "       'gilded', 'media_embed', 'secure_media_embed', 'author_created_utc',\n",
       "       'author_fullname', 'media', 'secure_media', 'crosspost_subreddits'],\n",
       "      dtype='object')"
      ]
     },
     "execution_count": 201,
     "metadata": {},
     "output_type": "execute_result"
    }
   ],
   "source": [
    "df_2017.columns"
   ]
  },
  {
   "cell_type": "code",
   "execution_count": null,
   "id": "44c8c76c-189f-49ee-859a-65bf50290e6c",
   "metadata": {},
   "outputs": [],
   "source": []
  }
 ],
 "metadata": {
  "kernelspec": {
   "display_name": "Python 3 (ipykernel)",
   "language": "python",
   "name": "python3"
  },
  "language_info": {
   "codemirror_mode": {
    "name": "ipython",
    "version": 3
   },
   "file_extension": ".py",
   "mimetype": "text/x-python",
   "name": "python",
   "nbconvert_exporter": "python",
   "pygments_lexer": "ipython3",
   "version": "3.11.4"
  }
 },
 "nbformat": 4,
 "nbformat_minor": 5
}
