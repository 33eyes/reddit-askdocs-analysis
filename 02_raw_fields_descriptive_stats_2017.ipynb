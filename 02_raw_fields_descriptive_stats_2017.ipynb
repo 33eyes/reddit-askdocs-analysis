{
 "cells": [
  {
   "cell_type": "markdown",
   "id": "a3f56a88-7e76-474b-a19d-7a06c36e13e1",
   "metadata": {},
   "source": [
    "# Raw fields descriptive stats for 2017 data  \n",
    "\n",
    "#### Notebook objectives:  \n",
    "- High-level review of the data, enough to understand which fields could be useful for analyses  \n",
    "- Create HTML docs with basic descriptive stats and frequency plots for the raw fields, to be used as reference  \n",
    "  - Note that this dataset is too large to easily use tools like ydata-profiling, so we're creating a much more lightweight version with just the necessary basics.  \n",
    "\n",
    "#### Steps:  \n",
    "1. [Load data](#Load-data)  \n",
    "2. [Descriptive stats of raw fields](#Descriptive-stats-of-raw-fields)  \n",
    "   - [object fields](#Object-fields)  \n",
    "   - [non-object fields](#Non-object-fields)  \n",
    "   \n",
    "   "
   ]
  },
  {
   "cell_type": "code",
   "execution_count": 1,
   "id": "1e36df90-cf50-419b-ae58-13ebb4079a67",
   "metadata": {},
   "outputs": [],
   "source": [
    "import pickle\n",
    "import pandas as pd\n",
    "import chime\n",
    "\n",
    "from IPython.display import display, HTML\n",
    "import ipywidgets as widgets\n",
    "import plotly.graph_objects as go\n",
    "import plotly"
   ]
  },
  {
   "cell_type": "code",
   "execution_count": 2,
   "id": "d440fae5-4cfd-4891-9a7e-e066fc53f41b",
   "metadata": {},
   "outputs": [],
   "source": [
    "chime.theme('zelda')"
   ]
  },
  {
   "cell_type": "code",
   "execution_count": 3,
   "id": "588783d0-aef5-4931-a499-d93a003d3489",
   "metadata": {},
   "outputs": [],
   "source": [
    "DATA_PATH = 'data/'\n",
    "OUTPUT_PATH = 'output/'"
   ]
  },
  {
   "cell_type": "markdown",
   "id": "33c25a95-3002-4812-a96e-685837ba00c2",
   "metadata": {},
   "source": [
    "## Load data"
   ]
  },
  {
   "cell_type": "markdown",
   "id": "03066e30-c0b5-49e9-9aed-f7d3feb8b336",
   "metadata": {},
   "source": [
    "Load the 2017 data."
   ]
  },
  {
   "cell_type": "code",
   "execution_count": 4,
   "id": "1a43c0b7-d706-46e3-a331-4e4a760d7f41",
   "metadata": {},
   "outputs": [],
   "source": [
    "with open(DATA_PATH + 'reddit_askdocs_submissions_2017.pkl', 'rb') as f:\n",
    "    d_2017 = pickle.load(f)"
   ]
  },
  {
   "cell_type": "code",
   "execution_count": 5,
   "id": "bffc75c2-dee9-4c15-83cf-002704f2e9ac",
   "metadata": {},
   "outputs": [
    {
     "data": {
      "text/plain": [
       "62438"
      ]
     },
     "execution_count": 5,
     "metadata": {},
     "output_type": "execute_result"
    }
   ],
   "source": [
    "len(d_2017)"
   ]
  },
  {
   "cell_type": "code",
   "execution_count": 6,
   "id": "ffa0e619-a5e8-4219-8202-7aa9a9698224",
   "metadata": {},
   "outputs": [],
   "source": [
    "df = pd.DataFrame(d_2017)"
   ]
  },
  {
   "cell_type": "code",
   "execution_count": 7,
   "id": "4b55f7ae-f634-476c-a2a3-318a8c73e783",
   "metadata": {},
   "outputs": [
    {
     "name": "stdout",
     "output_type": "stream",
     "text": [
      "<class 'pandas.core.frame.DataFrame'>\n",
      "RangeIndex: 62438 entries, 0 to 62437\n",
      "Data columns (total 56 columns):\n",
      " #   Column                   Non-Null Count  Dtype  \n",
      "---  ------                   --------------  -----  \n",
      " 0   author                   62438 non-null  object \n",
      " 1   author_flair_css_class   43394 non-null  object \n",
      " 2   author_flair_text        43394 non-null  object \n",
      " 3   brand_safe               62438 non-null  bool   \n",
      " 4   can_mod_post             35267 non-null  object \n",
      " 5   contest_mode             62438 non-null  bool   \n",
      " 6   created_utc              62438 non-null  int64  \n",
      " 7   domain                   62438 non-null  object \n",
      " 8   full_link                62438 non-null  object \n",
      " 9   id                       62438 non-null  object \n",
      " 10  is_crosspostable         20127 non-null  object \n",
      " 11  is_reddit_media_domain   14224 non-null  object \n",
      " 12  is_self                  62438 non-null  bool   \n",
      " 13  is_video                 40593 non-null  object \n",
      " 14  locked                   62438 non-null  bool   \n",
      " 15  num_comments             62438 non-null  int64  \n",
      " 16  num_crossposts           20127 non-null  float64\n",
      " 17  over_18                  62438 non-null  bool   \n",
      " 18  parent_whitelist_status  22176 non-null  object \n",
      " 19  permalink                62438 non-null  object \n",
      " 20  pinned                   16295 non-null  object \n",
      " 21  retrieved_on             62438 non-null  int64  \n",
      " 22  score                    62438 non-null  int64  \n",
      " 23  selftext                 61979 non-null  object \n",
      " 24  spoiler                  62438 non-null  bool   \n",
      " 25  stickied                 62438 non-null  bool   \n",
      " 26  subreddit                62438 non-null  object \n",
      " 27  subreddit_id             62438 non-null  object \n",
      " 28  subreddit_type           5043 non-null   object \n",
      " 29  thumbnail                62438 non-null  object \n",
      " 30  title                    62438 non-null  object \n",
      " 31  url                      62438 non-null  object \n",
      " 32  whitelist_status         22176 non-null  object \n",
      " 33  created                  62438 non-null  float64\n",
      " 34  post_hint                7174 non-null   object \n",
      " 35  preview                  7174 non-null   object \n",
      " 36  banned_by                3027 non-null   object \n",
      " 37  edited                   8448 non-null   float64\n",
      " 38  crosspost_parent         20 non-null     object \n",
      " 39  crosspost_parent_list    20 non-null     object \n",
      " 40  thumbnail_height         21 non-null     float64\n",
      " 41  thumbnail_width          21 non-null     float64\n",
      " 42  author_cakeday           177 non-null    object \n",
      " 43  distinguished            4 non-null      object \n",
      " 44  removal_reason           1 non-null      object \n",
      " 45  suggested_sort           0 non-null      float64\n",
      " 46  approved_at_utc          0 non-null      float64\n",
      " 47  banned_at_utc            0 non-null      float64\n",
      " 48  view_count               0 non-null      float64\n",
      " 49  gilded                   38926 non-null  float64\n",
      " 50  media_embed              38926 non-null  object \n",
      " 51  secure_media_embed       38926 non-null  object \n",
      " 52  author_created_utc       23381 non-null  float64\n",
      " 53  author_fullname          23403 non-null  object \n",
      " 54  media                    3 non-null      object \n",
      " 55  secure_media             3 non-null      object \n",
      "dtypes: bool(7), float64(11), int64(4), object(34)\n",
      "memory usage: 23.8+ MB\n"
     ]
    }
   ],
   "source": [
    "df.info()"
   ]
  },
  {
   "cell_type": "code",
   "execution_count": 8,
   "id": "564c7fd5-21d3-48c1-84e2-0fb0530d56bd",
   "metadata": {},
   "outputs": [
    {
     "data": {
      "text/html": [
       "<div>\n",
       "<style scoped>\n",
       "    .dataframe tbody tr th:only-of-type {\n",
       "        vertical-align: middle;\n",
       "    }\n",
       "\n",
       "    .dataframe tbody tr th {\n",
       "        vertical-align: top;\n",
       "    }\n",
       "\n",
       "    .dataframe thead th {\n",
       "        text-align: right;\n",
       "    }\n",
       "</style>\n",
       "<table border=\"1\" class=\"dataframe\">\n",
       "  <thead>\n",
       "    <tr style=\"text-align: right;\">\n",
       "      <th></th>\n",
       "      <th>author</th>\n",
       "      <th>author_flair_css_class</th>\n",
       "      <th>author_flair_text</th>\n",
       "      <th>brand_safe</th>\n",
       "      <th>can_mod_post</th>\n",
       "      <th>contest_mode</th>\n",
       "      <th>created_utc</th>\n",
       "      <th>domain</th>\n",
       "      <th>full_link</th>\n",
       "      <th>id</th>\n",
       "      <th>...</th>\n",
       "      <th>approved_at_utc</th>\n",
       "      <th>banned_at_utc</th>\n",
       "      <th>view_count</th>\n",
       "      <th>gilded</th>\n",
       "      <th>media_embed</th>\n",
       "      <th>secure_media_embed</th>\n",
       "      <th>author_created_utc</th>\n",
       "      <th>author_fullname</th>\n",
       "      <th>media</th>\n",
       "      <th>secure_media</th>\n",
       "    </tr>\n",
       "  </thead>\n",
       "  <tbody>\n",
       "    <tr>\n",
       "      <th>0</th>\n",
       "      <td>[deleted]</td>\n",
       "      <td>None</td>\n",
       "      <td>None</td>\n",
       "      <td>True</td>\n",
       "      <td>False</td>\n",
       "      <td>False</td>\n",
       "      <td>1514764452</td>\n",
       "      <td>self.AskDocs</td>\n",
       "      <td>https://www.reddit.com/r/AskDocs/comments/7nbw...</td>\n",
       "      <td>7nbwtn</td>\n",
       "      <td>...</td>\n",
       "      <td>NaN</td>\n",
       "      <td>NaN</td>\n",
       "      <td>NaN</td>\n",
       "      <td>NaN</td>\n",
       "      <td>NaN</td>\n",
       "      <td>NaN</td>\n",
       "      <td>NaN</td>\n",
       "      <td>NaN</td>\n",
       "      <td>NaN</td>\n",
       "      <td>NaN</td>\n",
       "    </tr>\n",
       "    <tr>\n",
       "      <th>1</th>\n",
       "      <td>XenonCSGO</td>\n",
       "      <td>default</td>\n",
       "      <td>This user has not yet been verified.</td>\n",
       "      <td>True</td>\n",
       "      <td>False</td>\n",
       "      <td>False</td>\n",
       "      <td>1514764122</td>\n",
       "      <td>self.AskDocs</td>\n",
       "      <td>https://www.reddit.com/r/AskDocs/comments/7nbv...</td>\n",
       "      <td>7nbvsv</td>\n",
       "      <td>...</td>\n",
       "      <td>NaN</td>\n",
       "      <td>NaN</td>\n",
       "      <td>NaN</td>\n",
       "      <td>NaN</td>\n",
       "      <td>NaN</td>\n",
       "      <td>NaN</td>\n",
       "      <td>NaN</td>\n",
       "      <td>NaN</td>\n",
       "      <td>NaN</td>\n",
       "      <td>NaN</td>\n",
       "    </tr>\n",
       "    <tr>\n",
       "      <th>2</th>\n",
       "      <td>[deleted]</td>\n",
       "      <td>None</td>\n",
       "      <td>None</td>\n",
       "      <td>True</td>\n",
       "      <td>False</td>\n",
       "      <td>False</td>\n",
       "      <td>1514764055</td>\n",
       "      <td>self.AskDocs</td>\n",
       "      <td>https://www.reddit.com/r/AskDocs/comments/7nbv...</td>\n",
       "      <td>7nbvln</td>\n",
       "      <td>...</td>\n",
       "      <td>NaN</td>\n",
       "      <td>NaN</td>\n",
       "      <td>NaN</td>\n",
       "      <td>NaN</td>\n",
       "      <td>NaN</td>\n",
       "      <td>NaN</td>\n",
       "      <td>NaN</td>\n",
       "      <td>NaN</td>\n",
       "      <td>NaN</td>\n",
       "      <td>NaN</td>\n",
       "    </tr>\n",
       "    <tr>\n",
       "      <th>3</th>\n",
       "      <td>DavisTheMagicSheep</td>\n",
       "      <td>default</td>\n",
       "      <td>This user has not yet been verified.</td>\n",
       "      <td>True</td>\n",
       "      <td>False</td>\n",
       "      <td>False</td>\n",
       "      <td>1514763799</td>\n",
       "      <td>self.AskDocs</td>\n",
       "      <td>https://www.reddit.com/r/AskDocs/comments/7nbu...</td>\n",
       "      <td>7nburb</td>\n",
       "      <td>...</td>\n",
       "      <td>NaN</td>\n",
       "      <td>NaN</td>\n",
       "      <td>NaN</td>\n",
       "      <td>NaN</td>\n",
       "      <td>NaN</td>\n",
       "      <td>NaN</td>\n",
       "      <td>NaN</td>\n",
       "      <td>NaN</td>\n",
       "      <td>NaN</td>\n",
       "      <td>NaN</td>\n",
       "    </tr>\n",
       "    <tr>\n",
       "      <th>4</th>\n",
       "      <td>Dontgetscooped</td>\n",
       "      <td>default</td>\n",
       "      <td>This user has not yet been verified.</td>\n",
       "      <td>True</td>\n",
       "      <td>False</td>\n",
       "      <td>False</td>\n",
       "      <td>1514763188</td>\n",
       "      <td>self.AskDocs</td>\n",
       "      <td>https://www.reddit.com/r/AskDocs/comments/7nbs...</td>\n",
       "      <td>7nbsw2</td>\n",
       "      <td>...</td>\n",
       "      <td>NaN</td>\n",
       "      <td>NaN</td>\n",
       "      <td>NaN</td>\n",
       "      <td>NaN</td>\n",
       "      <td>NaN</td>\n",
       "      <td>NaN</td>\n",
       "      <td>NaN</td>\n",
       "      <td>NaN</td>\n",
       "      <td>NaN</td>\n",
       "      <td>NaN</td>\n",
       "    </tr>\n",
       "  </tbody>\n",
       "</table>\n",
       "<p>5 rows × 56 columns</p>\n",
       "</div>"
      ],
      "text/plain": [
       "               author author_flair_css_class   \n",
       "0           [deleted]                   None  \\\n",
       "1           XenonCSGO                default   \n",
       "2           [deleted]                   None   \n",
       "3  DavisTheMagicSheep                default   \n",
       "4      Dontgetscooped                default   \n",
       "\n",
       "                      author_flair_text  brand_safe can_mod_post   \n",
       "0                                  None        True        False  \\\n",
       "1  This user has not yet been verified.        True        False   \n",
       "2                                  None        True        False   \n",
       "3  This user has not yet been verified.        True        False   \n",
       "4  This user has not yet been verified.        True        False   \n",
       "\n",
       "   contest_mode  created_utc        domain   \n",
       "0         False   1514764452  self.AskDocs  \\\n",
       "1         False   1514764122  self.AskDocs   \n",
       "2         False   1514764055  self.AskDocs   \n",
       "3         False   1514763799  self.AskDocs   \n",
       "4         False   1514763188  self.AskDocs   \n",
       "\n",
       "                                           full_link      id  ...   \n",
       "0  https://www.reddit.com/r/AskDocs/comments/7nbw...  7nbwtn  ...  \\\n",
       "1  https://www.reddit.com/r/AskDocs/comments/7nbv...  7nbvsv  ...   \n",
       "2  https://www.reddit.com/r/AskDocs/comments/7nbv...  7nbvln  ...   \n",
       "3  https://www.reddit.com/r/AskDocs/comments/7nbu...  7nburb  ...   \n",
       "4  https://www.reddit.com/r/AskDocs/comments/7nbs...  7nbsw2  ...   \n",
       "\n",
       "  approved_at_utc banned_at_utc  view_count gilded  media_embed   \n",
       "0             NaN           NaN         NaN    NaN          NaN  \\\n",
       "1             NaN           NaN         NaN    NaN          NaN   \n",
       "2             NaN           NaN         NaN    NaN          NaN   \n",
       "3             NaN           NaN         NaN    NaN          NaN   \n",
       "4             NaN           NaN         NaN    NaN          NaN   \n",
       "\n",
       "   secure_media_embed  author_created_utc  author_fullname media secure_media  \n",
       "0                 NaN                 NaN              NaN   NaN          NaN  \n",
       "1                 NaN                 NaN              NaN   NaN          NaN  \n",
       "2                 NaN                 NaN              NaN   NaN          NaN  \n",
       "3                 NaN                 NaN              NaN   NaN          NaN  \n",
       "4                 NaN                 NaN              NaN   NaN          NaN  \n",
       "\n",
       "[5 rows x 56 columns]"
      ]
     },
     "execution_count": 8,
     "metadata": {},
     "output_type": "execute_result"
    }
   ],
   "source": [
    "df.head()"
   ]
  },
  {
   "cell_type": "markdown",
   "id": "06770842-03e0-40d2-916f-d624cbde739f",
   "metadata": {},
   "source": [
    "## Descriptive stats of raw fields  "
   ]
  },
  {
   "cell_type": "code",
   "execution_count": 9,
   "id": "b496d245-b66e-4574-8b41-adffa93aa54d",
   "metadata": {
    "scrolled": true,
    "tags": []
   },
   "outputs": [
    {
     "data": {
      "text/plain": [
       "['author',\n",
       " 'author_flair_css_class',\n",
       " 'author_flair_text',\n",
       " 'brand_safe',\n",
       " 'can_mod_post',\n",
       " 'contest_mode',\n",
       " 'created_utc',\n",
       " 'domain',\n",
       " 'full_link',\n",
       " 'id',\n",
       " 'is_crosspostable',\n",
       " 'is_reddit_media_domain',\n",
       " 'is_self',\n",
       " 'is_video',\n",
       " 'locked',\n",
       " 'num_comments',\n",
       " 'num_crossposts',\n",
       " 'over_18',\n",
       " 'parent_whitelist_status',\n",
       " 'permalink',\n",
       " 'pinned',\n",
       " 'retrieved_on',\n",
       " 'score',\n",
       " 'selftext',\n",
       " 'spoiler',\n",
       " 'stickied',\n",
       " 'subreddit',\n",
       " 'subreddit_id',\n",
       " 'subreddit_type',\n",
       " 'thumbnail',\n",
       " 'title',\n",
       " 'url',\n",
       " 'whitelist_status',\n",
       " 'created',\n",
       " 'post_hint',\n",
       " 'preview',\n",
       " 'banned_by',\n",
       " 'edited',\n",
       " 'crosspost_parent',\n",
       " 'crosspost_parent_list',\n",
       " 'thumbnail_height',\n",
       " 'thumbnail_width',\n",
       " 'author_cakeday',\n",
       " 'distinguished',\n",
       " 'removal_reason',\n",
       " 'suggested_sort',\n",
       " 'approved_at_utc',\n",
       " 'banned_at_utc',\n",
       " 'view_count',\n",
       " 'gilded',\n",
       " 'media_embed',\n",
       " 'secure_media_embed',\n",
       " 'author_created_utc',\n",
       " 'author_fullname',\n",
       " 'media',\n",
       " 'secure_media']"
      ]
     },
     "execution_count": 9,
     "metadata": {},
     "output_type": "execute_result"
    }
   ],
   "source": [
    "df.columns.to_list()"
   ]
  },
  {
   "cell_type": "code",
   "execution_count": 10,
   "id": "2a129b7c-362f-437b-9383-6be207340e3c",
   "metadata": {},
   "outputs": [
    {
     "data": {
      "text/plain": [
       "56"
      ]
     },
     "execution_count": 10,
     "metadata": {},
     "output_type": "execute_result"
    }
   ],
   "source": [
    "len(list(df.columns))"
   ]
  },
  {
   "cell_type": "markdown",
   "id": "6ea6747a-ed94-442e-a570-47f91d5fb368",
   "metadata": {},
   "source": [
    "There are 56 raw fields in our data.  "
   ]
  },
  {
   "cell_type": "markdown",
   "id": "2bbaea4c-57b3-4bba-b8e3-9428cabc49da",
   "metadata": {},
   "source": [
    "Let's output some descriptive statistics to HTML, to use as reference."
   ]
  },
  {
   "cell_type": "code",
   "execution_count": 11,
   "id": "9fe3738a-2747-407b-be45-5b57ac36e12c",
   "metadata": {},
   "outputs": [],
   "source": [
    "def obj_freq_plot(df, field, n=20, abbr_charnum=40, color=''):\n",
    "    '''Makes a plotly horizontal bar chart plot for the selected object type field,\n",
    "    truncated to n top values.'''\n",
    "    freq_df = df[field].value_counts(dropna=False, normalize=True).head(n).reset_index()\n",
    "    freq_df.columns = ['value', 'pct']\n",
    "    freq_df['value'].fillna('[None]', inplace=True)\n",
    "    freq_df['value'] = freq_df['value'].astype(str) # to prevent plotly bugs\n",
    "    freq_df['value_abbr'] = freq_df['value'].str[:abbr_charnum]\n",
    "    freq_df_dedup = freq_df.drop_duplicates('value_abbr')\n",
    "    freq_df_dup = freq_df[freq_df.duplicated('value_abbr')]\n",
    "    \n",
    "    # plotly\n",
    "    traces = []\n",
    "    \n",
    "    if len(freq_df_dup) > 0:\n",
    "        trace = go.Bar(\n",
    "            x=freq_df_dup['pct'],\n",
    "            y=freq_df_dup['value_abbr'],\n",
    "            orientation='h',\n",
    "            hovertext=freq_df_dup['value'],\n",
    "            hovertemplate=\"Value: %{hovertext}<br>\" +\n",
    "                \"Pct: %{x:,.2f}%<br>\" +\n",
    "                \"<extra></extra>\",\n",
    "        )\n",
    "        traces.append(trace)\n",
    "        \n",
    "    trace = go.Bar(\n",
    "        x=freq_df_dedup['pct'],\n",
    "        y=freq_df_dedup['value_abbr'],\n",
    "        orientation='h',\n",
    "        hovertext=freq_df_dedup['value'],\n",
    "        hovertemplate=\"Value: %{hovertext}<br>\" +\n",
    "            \"Pct: %{x:,.2f}%<br>\" +\n",
    "            \"<extra></extra>\",\n",
    "    )\n",
    "    traces.append(trace)\n",
    "\n",
    "    fig = go.Figure(traces)\n",
    "    \n",
    "    if len(color) > 0:\n",
    "        fig.update_traces(marker_color=color)\n",
    "        \n",
    "    fig.update_yaxes(categoryorder='total ascending')\n",
    "    fig.update_xaxes(gridcolor='#eee', title='% frequency')\n",
    "    fig.update_layout(\n",
    "        title=f'<b>{field}</b> frequency distribution (top {n})',\n",
    "        plot_bgcolor='#fff',\n",
    "        barmode='group',\n",
    "        showlegend=False,\n",
    "        height=400\n",
    "    )\n",
    "    \n",
    "    if len(freq_df) >= 10:\n",
    "        fig.update_layout(height=500)\n",
    "\n",
    "    return fig"
   ]
  },
  {
   "cell_type": "code",
   "execution_count": 12,
   "id": "5b3e1d61-3e0b-4cf9-9c1c-33e30fdb36dd",
   "metadata": {},
   "outputs": [],
   "source": [
    "def num_freq_plot(df, field, color=''):\n",
    "    '''Makes a plotly bar chart plot for the selected num type field.'''\n",
    "    freq_df = df[field].value_counts().sort_index().reset_index()\n",
    "    freq_df.columns = ['value', 'count']\n",
    "    \n",
    "    # plotly\n",
    "    traces = []\n",
    "        \n",
    "    trace = go.Bar(\n",
    "        x=freq_df['value'],\n",
    "        y=freq_df['count'],\n",
    "        hovertext=freq_df['value'],\n",
    "        hovertemplate=\"Value: %{x:,}<br>\" +\n",
    "            \"Frequency: %{y:,}<br>\" +\n",
    "            \"<extra></extra>\",\n",
    "    )\n",
    "    traces.append(trace)\n",
    "\n",
    "    fig = go.Figure(traces)\n",
    "    \n",
    "    if len(color) > 0:\n",
    "        fig.update_traces(marker_color=color)\n",
    "        \n",
    "    fig.update_yaxes(gridcolor='#eee', title='frequency')\n",
    "    fig.update_layout(\n",
    "        title=f'<b>{field}</b> frequency distribution',\n",
    "        plot_bgcolor='#fff',\n",
    "        showlegend=False,\n",
    "        height=400\n",
    "    )\n",
    "    \n",
    "    if len(freq_df) >= 10:\n",
    "        fig.update_layout(height=500)\n",
    "\n",
    "    return fig"
   ]
  },
  {
   "cell_type": "code",
   "execution_count": 13,
   "id": "2fe7a53b-fb80-4cef-9780-286ff10983a7",
   "metadata": {
    "tags": []
   },
   "outputs": [],
   "source": [
    "def univar_stats_HTML(df, field, nobs=20):\n",
    "    '''Returns an HTML string with univariate stats and top nobs value counts \n",
    "    for the field, along with the full value counts dataframe.'''\n",
    "    field_index = df.columns.to_list().index(field)\n",
    "    field_num = field_index + 1\n",
    "    \n",
    "    field_dtype = df[field].dtypes\n",
    "    \n",
    "    # card 1 content: univar stats\n",
    "    try:\n",
    "        univar_stats_disp = pd.DataFrame(df[field].describe()).to_html()\n",
    "    except Exception as exception:\n",
    "        univar_stats_disp = f'''<p>Exception: {type(exception).__name__}\n",
    "        <br>Exception message: {exception}</p>'''\n",
    "                                            \n",
    "    tmin = pd.to_datetime(df[(df[field].notna())]['created_utc'].min(), unit='s')\n",
    "    tmax = pd.to_datetime(df[(df[field].notna())]['created_utc'].max(), unit='s')\n",
    "    tmin_disp = f'<p>First used dt: <br>{tmin}</p>'\n",
    "    tmax_disp = f'<p>Last used dt: <br>{tmax}</p>'\n",
    "    \n",
    "\n",
    "    # card 2 content: value counts table\n",
    "    try:\n",
    "        vc1 = df[field].value_counts(dropna=False)\n",
    "        vc1.name = 'count'\n",
    "        vc2 = df[field].value_counts(dropna=False, normalize=True)\n",
    "        vc2.name = 'pct'\n",
    "        vc = pd.concat([vc1, vc2], axis=1)\n",
    "        vc_disp = vc.head(nobs).reset_index()\\\n",
    "            .to_html(index=False)\n",
    "    except Exception as exception:\n",
    "        vc_disp = f'''<p>Exception: {type(exception).__name__}\n",
    "        <br>Exception message: {exception}</p>'''\n",
    "\n",
    "        \n",
    "    card_header_style = ('background-color:rgba(30, 144, 255, 1);color:white;'\n",
    "                         + 'padding:1em;border-radius:8px 8px 0 0;')\n",
    "    card_holder_style = ('background-color:rgba(30, 144, 255, 0.1);padding:1em;'\n",
    "                         + 'border-radius:0 0 8px 8px;text-align: center;')\n",
    "    card_style = (\n",
    "        'display:inline-block;'\n",
    "        + 'vertical-align:top;'\n",
    "        + 'background-color:#fff;'\n",
    "        + 'border-radius:8px;'\n",
    "        + 'padding:2em;'\n",
    "        + 'margin: 0 1em 1em 0;'\n",
    "    )\n",
    "    \n",
    "    html_str = f'''\n",
    "    <div style=\"{card_header_style}\">\n",
    "        <h2 id=\"{field}\">{field}</h2>\n",
    "        <h4>Field number in dataset: {field_num}</h4>\n",
    "        <h4>Field data type: {field_dtype}</h4>\n",
    "    </div>\n",
    "    <div style=\"{card_holder_style}\">\n",
    "        <div style=\"{card_style}\">\n",
    "            <h4>Univariate stats</h4>\n",
    "            {univar_stats_disp}\n",
    "            {tmin_disp}\n",
    "            {tmax_disp}\n",
    "        </div>\n",
    "        <div style=\"{card_style}\">\n",
    "            <h4>Value counts</h4>\n",
    "            {vc_disp}\n",
    "        </div>\n",
    "    </div>'''\n",
    "    \n",
    "    return html_str, vc"
   ]
  },
  {
   "cell_type": "code",
   "execution_count": 14,
   "id": "9978ec2e-74d3-4b6b-a89c-d4bd95a2d618",
   "metadata": {},
   "outputs": [],
   "source": [
    "def stats_html(fname, df, cols, report_title, nobs, plot_color):\n",
    "    '''Write to HTML file the stats for the specified list of column names, \n",
    "    with value counts table truncated to nobs.'''\n",
    "\n",
    "    style_tag = '''\n",
    "    <style>\n",
    "        body {font-family: Arial;}\n",
    "        table {\n",
    "            border: 0.5px solid lightgrey;\n",
    "            border-collapse: collapse;\n",
    "            text-align: right;\n",
    "            border-color: #fff;\n",
    "        }\n",
    "        th {\n",
    "            padding: 0.2em 1em;\n",
    "        }\n",
    "        td {\n",
    "            padding: 0.2em 1em;\n",
    "        }\n",
    "        h1 {\n",
    "            color:rgba(30, 144, 255, 1);\n",
    "        }\n",
    "        .toc {\n",
    "            margin-bottom: 2em;\n",
    "        }\n",
    "        .stats-block {\n",
    "            margin-bottom: 2em;\n",
    "            border: 2px solid #1e90ff82;\n",
    "            border-radius: 8px;\n",
    "            padding: 4px;\n",
    "        }\n",
    "    </style>\n",
    "    '''\n",
    "    html_start_str = f'''\n",
    "    <!DOCTYPE html>\n",
    "    <html>\n",
    "    <head>\n",
    "        <title>{report_title}</title>\n",
    "        {style_tag}\n",
    "    </head>\n",
    "    <body>\n",
    "    '''\n",
    "    toc_str = (\n",
    "        f'<div class=\"toc\"><h1>{report_title}</h1><ul>'\n",
    "        + ' '.join([f'<li><a href=\"#{x}\">{x}</a></li>' for x in cols])\n",
    "        + '</ul></div>'\n",
    "    )\n",
    "\n",
    "    plotly_cdn_added = False\n",
    "\n",
    "    with open(fname, 'w') as f:\n",
    "        f.write(html_start_str)\n",
    "        f.write(toc_str)\n",
    "            \n",
    "        display(HTML(f'<p>Writing stats for {len(cols)} fields.</p>'))\n",
    "    \n",
    "        for i, c in enumerate(cols):\n",
    "            display(HTML(f'<p>{i}: {c}</p>'))\n",
    "            univar_stats_html_str, vc = univar_stats_HTML(df, c, nobs=nobs)\n",
    "\n",
    "            f.write('<div class=\"stats-block\">')\n",
    "            \n",
    "            f.write(univar_stats_html_str)\n",
    "            \n",
    "            # freq plot using plotly\n",
    "            plotly_skip_plot = None\n",
    "            plotly_fig = None\n",
    "            if len(vc) > 2:\n",
    "                if df[c].dtypes == 'O':\n",
    "                    # Mostly for checking if hashable type here, \n",
    "                    # only need this for object dtype.\n",
    "                    try:\n",
    "                        nuniq = df[c].nunique(dropna=False)\n",
    "                    except Exception as exception:\n",
    "                        plotly_skip_plot = f'''\n",
    "                        <h4>Plotly data prep error for {c}:</h4>\n",
    "                        <p>Exception: {type(exception).__name__}\n",
    "                        <br>Exception message: {exception}</p>'''\n",
    "\n",
    "                    if not plotly_skip_plot:\n",
    "                        plotly_fig = obj_freq_plot(\n",
    "                            df, c, n=nobs, abbr_charnum=40, color=plot_color)\n",
    "                        \n",
    "                elif df[c].dtypes == 'bool':\n",
    "                    plotly_fig = obj_freq_plot(\n",
    "                        df, c, n=nobs, abbr_charnum=40, color=plot_color)\n",
    "                #elif df[c].dtypes == 'number':\n",
    "                else:\n",
    "                    plotly_fig = num_freq_plot(df, c, color=plot_color)\n",
    "                # else:\n",
    "                #     plotly_skip_plot = f'''\n",
    "                #         <p>Skipping plotly chart for {c}, \n",
    "                #         dtype = {df[c].dtypes}.</p>'''\n",
    "                #     display(HTML(plotly_skip_plot))\n",
    "            else:\n",
    "                plotly_skip_plot = f'''\n",
    "                    <p>Skipping plotly chart for {c}, nunique = {len(vc)}.'''\n",
    "                display(HTML(plotly_skip_plot))\n",
    "                    \n",
    "            if not plotly_skip_plot:\n",
    "                if not plotly_cdn_added:\n",
    "                    plotly_html = plotly.io.to_html(\n",
    "                        plotly_fig, full_html=False, include_plotlyjs='cdn')\n",
    "                    plotly_cdn_added = True\n",
    "                else:\n",
    "                    plotly_html = plotly.io.to_html(\n",
    "                        plotly_fig, full_html=False, include_plotlyjs=False)\n",
    "                f.write(plotly_html)\n",
    "            else:\n",
    "                f.write(plotly_skip_plot)\n",
    "            f.write('</div>')\n",
    "    \n",
    "        f.write(f'</body>')\n",
    "\n",
    "    \n",
    "    print('=== DONE! ====')\n",
    "    chime.success()"
   ]
  },
  {
   "cell_type": "markdown",
   "id": "cc57122e-ba15-4651-9d4d-43cffa64dcab",
   "metadata": {},
   "source": [
    "### Object fields  "
   ]
  },
  {
   "cell_type": "code",
   "execution_count": 15,
   "id": "479a9354-c188-4fdd-91b6-8d591c7cbcf9",
   "metadata": {
    "tags": []
   },
   "outputs": [],
   "source": [
    "object_fields = df.select_dtypes(include='O').columns.to_list()"
   ]
  },
  {
   "cell_type": "markdown",
   "id": "69f20132-754d-4073-9a34-5273b4c57d17",
   "metadata": {},
   "source": [
    "Number of object fields in our dataset:"
   ]
  },
  {
   "cell_type": "code",
   "execution_count": 16,
   "id": "2652a7bd-ad49-4ff7-873d-1f830eedca24",
   "metadata": {
    "tags": []
   },
   "outputs": [
    {
     "data": {
      "text/plain": [
       "34"
      ]
     },
     "execution_count": 16,
     "metadata": {},
     "output_type": "execute_result"
    }
   ],
   "source": [
    "len(object_fields)"
   ]
  },
  {
   "cell_type": "code",
   "execution_count": 17,
   "id": "147116f9-61cb-43e6-8993-0afe93e2ad02",
   "metadata": {
    "tags": []
   },
   "outputs": [],
   "source": [
    "nobs = 20 # number of top value counts records to display"
   ]
  },
  {
   "cell_type": "code",
   "execution_count": 18,
   "id": "b9aa3990-d972-40b7-906a-a10a2677dc77",
   "metadata": {},
   "outputs": [
    {
     "data": {
      "text/html": [
       "<p>Writing stats for 34 fields.</p>"
      ],
      "text/plain": [
       "<IPython.core.display.HTML object>"
      ]
     },
     "metadata": {},
     "output_type": "display_data"
    },
    {
     "data": {
      "text/html": [
       "<p>0: author</p>"
      ],
      "text/plain": [
       "<IPython.core.display.HTML object>"
      ]
     },
     "metadata": {},
     "output_type": "display_data"
    },
    {
     "data": {
      "text/html": [
       "<p>1: author_flair_css_class</p>"
      ],
      "text/plain": [
       "<IPython.core.display.HTML object>"
      ]
     },
     "metadata": {},
     "output_type": "display_data"
    },
    {
     "data": {
      "text/html": [
       "<p>2: author_flair_text</p>"
      ],
      "text/plain": [
       "<IPython.core.display.HTML object>"
      ]
     },
     "metadata": {},
     "output_type": "display_data"
    },
    {
     "data": {
      "text/html": [
       "<p>3: can_mod_post</p>"
      ],
      "text/plain": [
       "<IPython.core.display.HTML object>"
      ]
     },
     "metadata": {},
     "output_type": "display_data"
    },
    {
     "data": {
      "text/html": [
       "\n",
       "                    <p>Skipping plotly chart for can_mod_post, nunique = 2."
      ],
      "text/plain": [
       "<IPython.core.display.HTML object>"
      ]
     },
     "metadata": {},
     "output_type": "display_data"
    },
    {
     "data": {
      "text/html": [
       "<p>4: domain</p>"
      ],
      "text/plain": [
       "<IPython.core.display.HTML object>"
      ]
     },
     "metadata": {},
     "output_type": "display_data"
    },
    {
     "data": {
      "text/html": [
       "<p>5: full_link</p>"
      ],
      "text/plain": [
       "<IPython.core.display.HTML object>"
      ]
     },
     "metadata": {},
     "output_type": "display_data"
    },
    {
     "data": {
      "text/html": [
       "<p>6: id</p>"
      ],
      "text/plain": [
       "<IPython.core.display.HTML object>"
      ]
     },
     "metadata": {},
     "output_type": "display_data"
    },
    {
     "data": {
      "text/html": [
       "<p>7: is_crosspostable</p>"
      ],
      "text/plain": [
       "<IPython.core.display.HTML object>"
      ]
     },
     "metadata": {},
     "output_type": "display_data"
    },
    {
     "data": {
      "text/html": [
       "<p>8: is_reddit_media_domain</p>"
      ],
      "text/plain": [
       "<IPython.core.display.HTML object>"
      ]
     },
     "metadata": {},
     "output_type": "display_data"
    },
    {
     "data": {
      "text/html": [
       "\n",
       "                    <p>Skipping plotly chart for is_reddit_media_domain, nunique = 2."
      ],
      "text/plain": [
       "<IPython.core.display.HTML object>"
      ]
     },
     "metadata": {},
     "output_type": "display_data"
    },
    {
     "data": {
      "text/html": [
       "<p>9: is_video</p>"
      ],
      "text/plain": [
       "<IPython.core.display.HTML object>"
      ]
     },
     "metadata": {},
     "output_type": "display_data"
    },
    {
     "data": {
      "text/html": [
       "\n",
       "                    <p>Skipping plotly chart for is_video, nunique = 2."
      ],
      "text/plain": [
       "<IPython.core.display.HTML object>"
      ]
     },
     "metadata": {},
     "output_type": "display_data"
    },
    {
     "data": {
      "text/html": [
       "<p>10: parent_whitelist_status</p>"
      ],
      "text/plain": [
       "<IPython.core.display.HTML object>"
      ]
     },
     "metadata": {},
     "output_type": "display_data"
    },
    {
     "data": {
      "text/html": [
       "\n",
       "                    <p>Skipping plotly chart for parent_whitelist_status, nunique = 2."
      ],
      "text/plain": [
       "<IPython.core.display.HTML object>"
      ]
     },
     "metadata": {},
     "output_type": "display_data"
    },
    {
     "data": {
      "text/html": [
       "<p>11: permalink</p>"
      ],
      "text/plain": [
       "<IPython.core.display.HTML object>"
      ]
     },
     "metadata": {},
     "output_type": "display_data"
    },
    {
     "data": {
      "text/html": [
       "<p>12: pinned</p>"
      ],
      "text/plain": [
       "<IPython.core.display.HTML object>"
      ]
     },
     "metadata": {},
     "output_type": "display_data"
    },
    {
     "data": {
      "text/html": [
       "\n",
       "                    <p>Skipping plotly chart for pinned, nunique = 2."
      ],
      "text/plain": [
       "<IPython.core.display.HTML object>"
      ]
     },
     "metadata": {},
     "output_type": "display_data"
    },
    {
     "data": {
      "text/html": [
       "<p>13: selftext</p>"
      ],
      "text/plain": [
       "<IPython.core.display.HTML object>"
      ]
     },
     "metadata": {},
     "output_type": "display_data"
    },
    {
     "data": {
      "text/html": [
       "<p>14: subreddit</p>"
      ],
      "text/plain": [
       "<IPython.core.display.HTML object>"
      ]
     },
     "metadata": {},
     "output_type": "display_data"
    },
    {
     "data": {
      "text/html": [
       "\n",
       "                    <p>Skipping plotly chart for subreddit, nunique = 1."
      ],
      "text/plain": [
       "<IPython.core.display.HTML object>"
      ]
     },
     "metadata": {},
     "output_type": "display_data"
    },
    {
     "data": {
      "text/html": [
       "<p>15: subreddit_id</p>"
      ],
      "text/plain": [
       "<IPython.core.display.HTML object>"
      ]
     },
     "metadata": {},
     "output_type": "display_data"
    },
    {
     "data": {
      "text/html": [
       "\n",
       "                    <p>Skipping plotly chart for subreddit_id, nunique = 1."
      ],
      "text/plain": [
       "<IPython.core.display.HTML object>"
      ]
     },
     "metadata": {},
     "output_type": "display_data"
    },
    {
     "data": {
      "text/html": [
       "<p>16: subreddit_type</p>"
      ],
      "text/plain": [
       "<IPython.core.display.HTML object>"
      ]
     },
     "metadata": {},
     "output_type": "display_data"
    },
    {
     "data": {
      "text/html": [
       "\n",
       "                    <p>Skipping plotly chart for subreddit_type, nunique = 2."
      ],
      "text/plain": [
       "<IPython.core.display.HTML object>"
      ]
     },
     "metadata": {},
     "output_type": "display_data"
    },
    {
     "data": {
      "text/html": [
       "<p>17: thumbnail</p>"
      ],
      "text/plain": [
       "<IPython.core.display.HTML object>"
      ]
     },
     "metadata": {},
     "output_type": "display_data"
    },
    {
     "data": {
      "text/html": [
       "<p>18: title</p>"
      ],
      "text/plain": [
       "<IPython.core.display.HTML object>"
      ]
     },
     "metadata": {},
     "output_type": "display_data"
    },
    {
     "data": {
      "text/html": [
       "<p>19: url</p>"
      ],
      "text/plain": [
       "<IPython.core.display.HTML object>"
      ]
     },
     "metadata": {},
     "output_type": "display_data"
    },
    {
     "data": {
      "text/html": [
       "<p>20: whitelist_status</p>"
      ],
      "text/plain": [
       "<IPython.core.display.HTML object>"
      ]
     },
     "metadata": {},
     "output_type": "display_data"
    },
    {
     "data": {
      "text/html": [
       "<p>21: post_hint</p>"
      ],
      "text/plain": [
       "<IPython.core.display.HTML object>"
      ]
     },
     "metadata": {},
     "output_type": "display_data"
    },
    {
     "data": {
      "text/html": [
       "<p>22: preview</p>"
      ],
      "text/plain": [
       "<IPython.core.display.HTML object>"
      ]
     },
     "metadata": {},
     "output_type": "display_data"
    },
    {
     "data": {
      "text/html": [
       "<p>23: banned_by</p>"
      ],
      "text/plain": [
       "<IPython.core.display.HTML object>"
      ]
     },
     "metadata": {},
     "output_type": "display_data"
    },
    {
     "data": {
      "text/html": [
       "\n",
       "                    <p>Skipping plotly chart for banned_by, nunique = 2."
      ],
      "text/plain": [
       "<IPython.core.display.HTML object>"
      ]
     },
     "metadata": {},
     "output_type": "display_data"
    },
    {
     "data": {
      "text/html": [
       "<p>24: crosspost_parent</p>"
      ],
      "text/plain": [
       "<IPython.core.display.HTML object>"
      ]
     },
     "metadata": {},
     "output_type": "display_data"
    },
    {
     "data": {
      "text/html": [
       "<p>25: crosspost_parent_list</p>"
      ],
      "text/plain": [
       "<IPython.core.display.HTML object>"
      ]
     },
     "metadata": {},
     "output_type": "display_data"
    },
    {
     "data": {
      "text/html": [
       "<p>26: author_cakeday</p>"
      ],
      "text/plain": [
       "<IPython.core.display.HTML object>"
      ]
     },
     "metadata": {},
     "output_type": "display_data"
    },
    {
     "data": {
      "text/html": [
       "\n",
       "                    <p>Skipping plotly chart for author_cakeday, nunique = 2."
      ],
      "text/plain": [
       "<IPython.core.display.HTML object>"
      ]
     },
     "metadata": {},
     "output_type": "display_data"
    },
    {
     "data": {
      "text/html": [
       "<p>27: distinguished</p>"
      ],
      "text/plain": [
       "<IPython.core.display.HTML object>"
      ]
     },
     "metadata": {},
     "output_type": "display_data"
    },
    {
     "data": {
      "text/html": [
       "\n",
       "                    <p>Skipping plotly chart for distinguished, nunique = 2."
      ],
      "text/plain": [
       "<IPython.core.display.HTML object>"
      ]
     },
     "metadata": {},
     "output_type": "display_data"
    },
    {
     "data": {
      "text/html": [
       "<p>28: removal_reason</p>"
      ],
      "text/plain": [
       "<IPython.core.display.HTML object>"
      ]
     },
     "metadata": {},
     "output_type": "display_data"
    },
    {
     "data": {
      "text/html": [
       "\n",
       "                    <p>Skipping plotly chart for removal_reason, nunique = 2."
      ],
      "text/plain": [
       "<IPython.core.display.HTML object>"
      ]
     },
     "metadata": {},
     "output_type": "display_data"
    },
    {
     "data": {
      "text/html": [
       "<p>29: media_embed</p>"
      ],
      "text/plain": [
       "<IPython.core.display.HTML object>"
      ]
     },
     "metadata": {},
     "output_type": "display_data"
    },
    {
     "data": {
      "text/html": [
       "<p>30: secure_media_embed</p>"
      ],
      "text/plain": [
       "<IPython.core.display.HTML object>"
      ]
     },
     "metadata": {},
     "output_type": "display_data"
    },
    {
     "data": {
      "text/html": [
       "<p>31: author_fullname</p>"
      ],
      "text/plain": [
       "<IPython.core.display.HTML object>"
      ]
     },
     "metadata": {},
     "output_type": "display_data"
    },
    {
     "data": {
      "text/html": [
       "<p>32: media</p>"
      ],
      "text/plain": [
       "<IPython.core.display.HTML object>"
      ]
     },
     "metadata": {},
     "output_type": "display_data"
    },
    {
     "data": {
      "text/html": [
       "<p>33: secure_media</p>"
      ],
      "text/plain": [
       "<IPython.core.display.HTML object>"
      ]
     },
     "metadata": {},
     "output_type": "display_data"
    },
    {
     "name": "stdout",
     "output_type": "stream",
     "text": [
      "=== DONE! ====\n"
     ]
    }
   ],
   "source": [
    "# Creates HTML doc with descriptive stats of the raw object fields\n",
    "stats_html(OUTPUT_PATH + 'raw_descr_stats_2017_obj.html', \n",
    "           df, \n",
    "           object_fields, \n",
    "           'Descriptive stats for raw object fields, 2017',\n",
    "           nobs,\n",
    "           '#47d65f'\n",
    "          )"
   ]
  },
  {
   "cell_type": "markdown",
   "id": "e221bc5a-5736-4a82-b65b-8137a956a126",
   "metadata": {},
   "source": [
    "### Non-object fields"
   ]
  },
  {
   "cell_type": "markdown",
   "id": "7c8f5150-204c-4266-acb7-d588b9e6a84f",
   "metadata": {},
   "source": [
    "Number of non-object fields in our dataset:"
   ]
  },
  {
   "cell_type": "code",
   "execution_count": 19,
   "id": "283aaf64-42ba-48ec-8628-f284123c1797",
   "metadata": {},
   "outputs": [
    {
     "data": {
      "text/plain": [
       "22"
      ]
     },
     "execution_count": 19,
     "metadata": {},
     "output_type": "execute_result"
    }
   ],
   "source": [
    "non_object_fields = df.columns[~df.columns.isin(object_fields)].to_list()\n",
    "len(non_object_fields)"
   ]
  },
  {
   "cell_type": "code",
   "execution_count": 20,
   "id": "bffa4878-54ca-4dd7-8364-e724bdd971e1",
   "metadata": {},
   "outputs": [
    {
     "data": {
      "text/html": [
       "<p>Writing stats for 22 fields.</p>"
      ],
      "text/plain": [
       "<IPython.core.display.HTML object>"
      ]
     },
     "metadata": {},
     "output_type": "display_data"
    },
    {
     "data": {
      "text/html": [
       "<p>0: brand_safe</p>"
      ],
      "text/plain": [
       "<IPython.core.display.HTML object>"
      ]
     },
     "metadata": {},
     "output_type": "display_data"
    },
    {
     "data": {
      "text/html": [
       "\n",
       "                    <p>Skipping plotly chart for brand_safe, nunique = 1."
      ],
      "text/plain": [
       "<IPython.core.display.HTML object>"
      ]
     },
     "metadata": {},
     "output_type": "display_data"
    },
    {
     "data": {
      "text/html": [
       "<p>1: contest_mode</p>"
      ],
      "text/plain": [
       "<IPython.core.display.HTML object>"
      ]
     },
     "metadata": {},
     "output_type": "display_data"
    },
    {
     "data": {
      "text/html": [
       "\n",
       "                    <p>Skipping plotly chart for contest_mode, nunique = 1."
      ],
      "text/plain": [
       "<IPython.core.display.HTML object>"
      ]
     },
     "metadata": {},
     "output_type": "display_data"
    },
    {
     "data": {
      "text/html": [
       "<p>2: created_utc</p>"
      ],
      "text/plain": [
       "<IPython.core.display.HTML object>"
      ]
     },
     "metadata": {},
     "output_type": "display_data"
    },
    {
     "data": {
      "text/html": [
       "<p>3: is_self</p>"
      ],
      "text/plain": [
       "<IPython.core.display.HTML object>"
      ]
     },
     "metadata": {},
     "output_type": "display_data"
    },
    {
     "data": {
      "text/html": [
       "\n",
       "                    <p>Skipping plotly chart for is_self, nunique = 2."
      ],
      "text/plain": [
       "<IPython.core.display.HTML object>"
      ]
     },
     "metadata": {},
     "output_type": "display_data"
    },
    {
     "data": {
      "text/html": [
       "<p>4: locked</p>"
      ],
      "text/plain": [
       "<IPython.core.display.HTML object>"
      ]
     },
     "metadata": {},
     "output_type": "display_data"
    },
    {
     "data": {
      "text/html": [
       "\n",
       "                    <p>Skipping plotly chart for locked, nunique = 2."
      ],
      "text/plain": [
       "<IPython.core.display.HTML object>"
      ]
     },
     "metadata": {},
     "output_type": "display_data"
    },
    {
     "data": {
      "text/html": [
       "<p>5: num_comments</p>"
      ],
      "text/plain": [
       "<IPython.core.display.HTML object>"
      ]
     },
     "metadata": {},
     "output_type": "display_data"
    },
    {
     "data": {
      "text/html": [
       "<p>6: num_crossposts</p>"
      ],
      "text/plain": [
       "<IPython.core.display.HTML object>"
      ]
     },
     "metadata": {},
     "output_type": "display_data"
    },
    {
     "data": {
      "text/html": [
       "<p>7: over_18</p>"
      ],
      "text/plain": [
       "<IPython.core.display.HTML object>"
      ]
     },
     "metadata": {},
     "output_type": "display_data"
    },
    {
     "data": {
      "text/html": [
       "\n",
       "                    <p>Skipping plotly chart for over_18, nunique = 2."
      ],
      "text/plain": [
       "<IPython.core.display.HTML object>"
      ]
     },
     "metadata": {},
     "output_type": "display_data"
    },
    {
     "data": {
      "text/html": [
       "<p>8: retrieved_on</p>"
      ],
      "text/plain": [
       "<IPython.core.display.HTML object>"
      ]
     },
     "metadata": {},
     "output_type": "display_data"
    },
    {
     "data": {
      "text/html": [
       "<p>9: score</p>"
      ],
      "text/plain": [
       "<IPython.core.display.HTML object>"
      ]
     },
     "metadata": {},
     "output_type": "display_data"
    },
    {
     "data": {
      "text/html": [
       "<p>10: spoiler</p>"
      ],
      "text/plain": [
       "<IPython.core.display.HTML object>"
      ]
     },
     "metadata": {},
     "output_type": "display_data"
    },
    {
     "data": {
      "text/html": [
       "\n",
       "                    <p>Skipping plotly chart for spoiler, nunique = 2."
      ],
      "text/plain": [
       "<IPython.core.display.HTML object>"
      ]
     },
     "metadata": {},
     "output_type": "display_data"
    },
    {
     "data": {
      "text/html": [
       "<p>11: stickied</p>"
      ],
      "text/plain": [
       "<IPython.core.display.HTML object>"
      ]
     },
     "metadata": {},
     "output_type": "display_data"
    },
    {
     "data": {
      "text/html": [
       "\n",
       "                    <p>Skipping plotly chart for stickied, nunique = 2."
      ],
      "text/plain": [
       "<IPython.core.display.HTML object>"
      ]
     },
     "metadata": {},
     "output_type": "display_data"
    },
    {
     "data": {
      "text/html": [
       "<p>12: created</p>"
      ],
      "text/plain": [
       "<IPython.core.display.HTML object>"
      ]
     },
     "metadata": {},
     "output_type": "display_data"
    },
    {
     "data": {
      "text/html": [
       "<p>13: edited</p>"
      ],
      "text/plain": [
       "<IPython.core.display.HTML object>"
      ]
     },
     "metadata": {},
     "output_type": "display_data"
    },
    {
     "data": {
      "text/html": [
       "<p>14: thumbnail_height</p>"
      ],
      "text/plain": [
       "<IPython.core.display.HTML object>"
      ]
     },
     "metadata": {},
     "output_type": "display_data"
    },
    {
     "data": {
      "text/html": [
       "<p>15: thumbnail_width</p>"
      ],
      "text/plain": [
       "<IPython.core.display.HTML object>"
      ]
     },
     "metadata": {},
     "output_type": "display_data"
    },
    {
     "data": {
      "text/html": [
       "\n",
       "                    <p>Skipping plotly chart for thumbnail_width, nunique = 2."
      ],
      "text/plain": [
       "<IPython.core.display.HTML object>"
      ]
     },
     "metadata": {},
     "output_type": "display_data"
    },
    {
     "data": {
      "text/html": [
       "<p>16: suggested_sort</p>"
      ],
      "text/plain": [
       "<IPython.core.display.HTML object>"
      ]
     },
     "metadata": {},
     "output_type": "display_data"
    },
    {
     "data": {
      "text/html": [
       "\n",
       "                    <p>Skipping plotly chart for suggested_sort, nunique = 1."
      ],
      "text/plain": [
       "<IPython.core.display.HTML object>"
      ]
     },
     "metadata": {},
     "output_type": "display_data"
    },
    {
     "data": {
      "text/html": [
       "<p>17: approved_at_utc</p>"
      ],
      "text/plain": [
       "<IPython.core.display.HTML object>"
      ]
     },
     "metadata": {},
     "output_type": "display_data"
    },
    {
     "data": {
      "text/html": [
       "\n",
       "                    <p>Skipping plotly chart for approved_at_utc, nunique = 1."
      ],
      "text/plain": [
       "<IPython.core.display.HTML object>"
      ]
     },
     "metadata": {},
     "output_type": "display_data"
    },
    {
     "data": {
      "text/html": [
       "<p>18: banned_at_utc</p>"
      ],
      "text/plain": [
       "<IPython.core.display.HTML object>"
      ]
     },
     "metadata": {},
     "output_type": "display_data"
    },
    {
     "data": {
      "text/html": [
       "\n",
       "                    <p>Skipping plotly chart for banned_at_utc, nunique = 1."
      ],
      "text/plain": [
       "<IPython.core.display.HTML object>"
      ]
     },
     "metadata": {},
     "output_type": "display_data"
    },
    {
     "data": {
      "text/html": [
       "<p>19: view_count</p>"
      ],
      "text/plain": [
       "<IPython.core.display.HTML object>"
      ]
     },
     "metadata": {},
     "output_type": "display_data"
    },
    {
     "data": {
      "text/html": [
       "\n",
       "                    <p>Skipping plotly chart for view_count, nunique = 1."
      ],
      "text/plain": [
       "<IPython.core.display.HTML object>"
      ]
     },
     "metadata": {},
     "output_type": "display_data"
    },
    {
     "data": {
      "text/html": [
       "<p>20: gilded</p>"
      ],
      "text/plain": [
       "<IPython.core.display.HTML object>"
      ]
     },
     "metadata": {},
     "output_type": "display_data"
    },
    {
     "data": {
      "text/html": [
       "\n",
       "                    <p>Skipping plotly chart for gilded, nunique = 2."
      ],
      "text/plain": [
       "<IPython.core.display.HTML object>"
      ]
     },
     "metadata": {},
     "output_type": "display_data"
    },
    {
     "data": {
      "text/html": [
       "<p>21: author_created_utc</p>"
      ],
      "text/plain": [
       "<IPython.core.display.HTML object>"
      ]
     },
     "metadata": {},
     "output_type": "display_data"
    },
    {
     "name": "stdout",
     "output_type": "stream",
     "text": [
      "=== DONE! ====\n"
     ]
    }
   ],
   "source": [
    "# Creates HTML doc with descriptive stats of the raw non-object fields\n",
    "stats_html(OUTPUT_PATH + 'raw_descr_stats_2017_non_obj.html', \n",
    "           df, \n",
    "           non_object_fields, \n",
    "           'Descriptive stats for raw non-object fields, 2017',\n",
    "           nobs,\n",
    "           '#47d65f'\n",
    "          )"
   ]
  },
  {
   "cell_type": "code",
   "execution_count": null,
   "id": "4f04e105-fb8b-4a5e-be36-54c14893509b",
   "metadata": {},
   "outputs": [],
   "source": []
  }
 ],
 "metadata": {
  "kernelspec": {
   "display_name": "Python 3 (ipykernel)",
   "language": "python",
   "name": "python3"
  },
  "language_info": {
   "codemirror_mode": {
    "name": "ipython",
    "version": 3
   },
   "file_extension": ".py",
   "mimetype": "text/x-python",
   "name": "python",
   "nbconvert_exporter": "python",
   "pygments_lexer": "ipython3",
   "version": "3.11.4"
  }
 },
 "nbformat": 4,
 "nbformat_minor": 5
}
